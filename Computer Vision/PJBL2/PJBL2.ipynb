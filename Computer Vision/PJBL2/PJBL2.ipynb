{
 "cells": [
  {
   "cell_type": "code",
   "execution_count": 3,
   "id": "377bd021",
   "metadata": {},
   "outputs": [],
   "source": [
    "import numpy as np\n",
    "import cv2\n",
    "import matplotlib.pyplot as plt\n",
    "from sklearn import metrics, preprocessing\n",
    "import pandas as pd\n",
    "import skimage.feature as feature\n",
    "from sklearn.neighbors import KNeighborsClassifier\n",
    "from sklearn.linear_model import LogisticRegression\n",
    "from sklearn.naive_bayes import MultinomialNB\n",
    "from sklearn.svm import SVC\n",
    "import glob"
   ]
  },
  {
   "cell_type": "markdown",
   "id": "d9ad1a4b",
   "metadata": {},
   "source": [
    "# Criando Dataframes vazios de teste e treinamento"
   ]
  },
  {
   "cell_type": "code",
   "execution_count": 4,
   "id": "311869ca",
   "metadata": {},
   "outputs": [],
   "source": [
    "train_dataset = pd.DataFrame(columns=[\"image\", \"label\"])"
   ]
  },
  {
   "cell_type": "code",
   "execution_count": 5,
   "id": "d1d1018e",
   "metadata": {},
   "outputs": [],
   "source": [
    "test_dataset = pd.DataFrame(columns=[\"image\", \"label\"])"
   ]
  },
  {
   "cell_type": "markdown",
   "id": "5e3e3d12",
   "metadata": {},
   "source": [
    "# Preenchendo o dataframe com a imagem e o nome do arquivo"
   ]
  },
  {
   "cell_type": "code",
   "execution_count": 6,
   "id": "05a5c5dd",
   "metadata": {
    "id": "NUnhlfT1R-kC"
   },
   "outputs": [],
   "source": [
    "\n",
    "\n",
    "for filename in glob.glob(\"Treino/*.bmp\"):\n",
    "    simpson = cv2.imread(filename)\n",
    "    append_dataset = pd.DataFrame(data={\"image\": [simpson], \"label\": [filename[7:]]})\n",
    "    train_dataset = pd.concat([train_dataset, append_dataset], ignore_index=True)"
   ]
  },
  {
   "cell_type": "code",
   "execution_count": 7,
   "id": "7af4ed29",
   "metadata": {},
   "outputs": [],
   "source": [
    "for filename in glob.glob(\"Teste/*.bmp\"):\n",
    "    simpson = cv2.imread(filename)\n",
    "    append_dataset = pd.DataFrame(data={\"image\": [simpson], \"label\": [filename[6:]]})\n",
    "    test_dataset = pd.concat([test_dataset, append_dataset], ignore_index=True)"
   ]
  },
  {
   "cell_type": "markdown",
   "id": "81c79b79",
   "metadata": {},
   "source": [
    "# Removendo números e .bmp das labels das imagens"
   ]
  },
  {
   "cell_type": "code",
   "execution_count": 8,
   "id": "59537c94",
   "metadata": {},
   "outputs": [
    {
     "name": "stderr",
     "output_type": "stream",
     "text": [
      "C:\\Users\\caeta\\AppData\\Local\\Temp\\ipykernel_43564\\926591152.py:2: FutureWarning: The default value of regex will change from True to False in a future version.\n",
      "  train_dataset[\"label\"].str.replace(\".bmp\", \"\").str.replace(\"\\d+\", \"\")\n",
      "C:\\Users\\caeta\\AppData\\Local\\Temp\\ipykernel_43564\\926591152.py:5: FutureWarning: The default value of regex will change from True to False in a future version.\n",
      "  test_dataset[\"label\"].str.replace(\".bmp\", \"\").str.replace(\"\\d+\", \"\")\n"
     ]
    }
   ],
   "source": [
    "train_dataset[\"label\"] = (\n",
    "    train_dataset[\"label\"].str.replace(\".bmp\", \"\").str.replace(\"\\d+\", \"\")\n",
    ")\n",
    "test_dataset[\"label\"] = (\n",
    "    test_dataset[\"label\"].str.replace(\".bmp\", \"\").str.replace(\"\\d+\", \"\")\n",
    ")"
   ]
  },
  {
   "cell_type": "markdown",
   "id": "c98bed1e",
   "metadata": {},
   "source": [
    "# Separando em X e Y de treinamento e teste"
   ]
  },
  {
   "cell_type": "code",
   "execution_count": 9,
   "id": "7cd483da",
   "metadata": {},
   "outputs": [],
   "source": [
    "x_train = train_dataset[\"image\"]\n",
    "y_train = train_dataset[\"label\"]\n",
    "x_test = test_dataset[\"image\"]\n",
    "y_test = test_dataset[\"label\"]"
   ]
  },
  {
   "cell_type": "markdown",
   "id": "b4341b39",
   "metadata": {},
   "source": [
    "# Definindo Kernel para detecção de bordas"
   ]
  },
  {
   "cell_type": "code",
   "execution_count": 10,
   "id": "87ee07ed",
   "metadata": {},
   "outputs": [],
   "source": [
    "kernel = np.array([[0, -1, 0], [-1, 5, -1], [0, -1, 0]])"
   ]
  },
  {
   "cell_type": "markdown",
   "id": "7a536a47",
   "metadata": {},
   "source": [
    "# Implementando um HOG modificado com filtro de cor amarela e detecção de bordas"
   ]
  },
  {
   "cell_type": "code",
   "execution_count": 11,
   "id": "f9ff6b13",
   "metadata": {
    "id": "Bpg5lTET9vJo"
   },
   "outputs": [],
   "source": [
    "class HOG:\n",
    "    def describe(self, im, pixels_per_cell=(8, 8), cells_per_block=(2, 2)):\n",
    "        image = cv2.cvtColor(im, cv2.COLOR_BGR2HSV)\n",
    "        lower = np.array([22, 93, 0], dtype=\"uint8\")\n",
    "        upper = np.array([45, 255, 255], dtype=\"uint8\")\n",
    "        mask = cv2.inRange(image, lower, upper)\n",
    "        mask = cv2.filter2D(src=mask, ddepth=-1, kernel=kernel)\n",
    "\n",
    "        im = cv2.resize(mask, (64, 128))\n",
    "\n",
    "        fd, hog_image = feature.hog(\n",
    "            im,\n",
    "            orientations=9,\n",
    "            pixels_per_cell=pixels_per_cell,\n",
    "            cells_per_block=(2, 2),\n",
    "            visualize=True,\n",
    "        )\n",
    "        return fd, hog_image"
   ]
  },
  {
   "cell_type": "markdown",
   "id": "9092af91",
   "metadata": {},
   "source": [
    "# Separando as feautures de treinamento e teste"
   ]
  },
  {
   "cell_type": "code",
   "execution_count": 12,
   "id": "ab8a2fb8",
   "metadata": {
    "colab": {
     "base_uri": "https://localhost:8080/"
    },
    "id": "GuCTtAr04Gjn",
    "lines_to_next_cell": 2,
    "outputId": "3c24af8e-dafd-4bd7-bce3-8e846aacd0ba"
   },
   "outputs": [
    {
     "name": "stdout",
     "output_type": "stream",
     "text": [
      "Train Data:  (253, 3780)\n",
      "Test Data:  (106, 3780)\n"
     ]
    }
   ],
   "source": [
    "desc = HOG()\n",
    "\n",
    "N_SAMPLES_TRAIN = 253\n",
    "N_SAMPLES_TEST = 106\n",
    "\n",
    "features = {\"train\": [], \"test\": []}\n",
    "for img, lbl in zip(x_train[:N_SAMPLES_TRAIN], y_train[:N_SAMPLES_TRAIN]):\n",
    "\n",
    "    feat, _ = desc.describe(img)\n",
    "    features[\"train\"].append(feat)\n",
    "\n",
    "# Add to a dictionary\n",
    "features[\"train\"] = np.reshape(features[\"train\"], (N_SAMPLES_TRAIN, -1))\n",
    "print(\"Train Data: \", features[\"train\"].shape)\n",
    "\n",
    "\n",
    "for img, lbl in zip(x_test[:N_SAMPLES_TEST], y_test[:N_SAMPLES_TEST]):\n",
    "    feat, _ = desc.describe(img)\n",
    "    features[\"test\"].append(feat)\n",
    "\n",
    "# Add to a dictionary\n",
    "features[\"test\"] = np.reshape(features[\"test\"], (N_SAMPLES_TEST, -1))\n",
    "print(\"Test Data: \", features[\"test\"].shape)"
   ]
  },
  {
   "cell_type": "markdown",
   "id": "5dd4343c",
   "metadata": {
    "id": "LxKAt-HHMgBD"
   },
   "source": [
    "# Normalizando os dados para regularizar a distorção de valores"
   ]
  },
  {
   "cell_type": "code",
   "execution_count": 13,
   "id": "74e323cc",
   "metadata": {
    "colab": {
     "base_uri": "https://localhost:8080/"
    },
    "id": "nxwjbjsLz6DN",
    "lines_to_next_cell": 2,
    "outputId": "6d61bfa0-77b0-4a05-fa2a-2379efe0a646"
   },
   "outputs": [
    {
     "name": "stdout",
     "output_type": "stream",
     "text": [
      "[0. 0. 0. ... 0. 0. 0.]\n",
      "[0.         0.00120859 0.00131092 0.00173894 0.0022259  0.00263244\n",
      " 0.0032773  0.00328406 0.00330104 0.00341881 0.00362063 0.00386476\n",
      " 0.00408759 0.00434735 0.00478209 0.00567832 0.00612121 0.00624007\n",
      " 0.00637762 0.00666892 0.00695445 0.0075197  0.00785303 0.00955419\n",
      " 0.01148163 0.01226954 0.01407777 0.01647967 0.01736798 0.01793777\n",
      " 0.01794441 0.01859418 0.0193852  0.02042543 0.02114601 0.02165744\n",
      " 0.02265438 0.02295073 0.02331681 0.0234085  0.02417827 0.02423496\n",
      " 0.02454161 0.02583356 0.02857488 0.032123   0.03375434 0.03377812\n",
      " 0.03576986 0.0362247  0.03680939 0.03686301 0.03719621 0.03730132\n",
      " 0.03769259 0.03779625 0.03838433 0.0395246  0.04009405 0.04323698\n",
      " 0.04564848 0.04667848 0.0495728  0.05039409 0.05054991 0.05093677\n",
      " 0.05106255 0.05138637 0.05141396 0.05173313 0.05176281 0.0518809\n",
      " 0.05196763 0.05228203 0.05259887 0.0529377  0.05322128 0.05354327\n",
      " 0.05382726 0.05442469 0.05487098 0.05493658 0.05495145 0.05506786\n",
      " 0.05598145 0.05606355 0.05638916 0.05733193 0.05789842 0.05927391\n",
      " 0.06082784 0.06156488 0.06157311 0.06330046 0.06332194 0.06370505\n",
      " 0.06374628 0.06491064 0.06503902 0.06664404 0.06706196 0.06809816\n",
      " 0.06849796 0.06855471 0.06938703 0.06956038 0.07161577 0.0729594\n",
      " 0.07339713 0.07407258 0.0741234  0.07439662 0.07493301 0.07538807\n",
      " 0.0755263  0.07558074 0.07605633 0.07611772 0.07622689 0.0763375\n",
      " 0.07672038 0.07696256 0.07751087 0.0783145  0.07843769 0.07907686\n",
      " 0.07950217 0.07951151 0.07967501 0.08007637 0.08052707 0.08075315\n",
      " 0.08142085 0.0819494  0.08224875 0.08274195 0.08275764 0.08287237\n",
      " 0.08298803 0.08354706 0.08355409 0.08366992 0.08378669 0.08399755\n",
      " 0.08407351 0.08443174 0.08452052 0.08602673 0.08614094 0.08616984\n",
      " 0.08630214 0.08631237 0.08674717 0.08735265 0.08806735 0.08807075\n",
      " 0.08820782 0.08889038 0.08908914 0.08939991 0.08944371 0.08960122\n",
      " 0.09010685 0.09031553 0.09049826 0.09080096 0.09086271 0.09115887\n",
      " 0.09119131 0.09152759 0.09167665 0.09174663 0.09213029 0.09304062\n",
      " 0.09319322 0.09335206 0.09451589 0.09515698 0.09528712 0.09575901\n",
      " 0.0958028  0.09608491 0.09689486 0.09927554 0.09962754 0.0998204\n",
      " 0.10018602 0.10086079 0.10126798 0.10180172 0.10264493 0.10274231\n",
      " 0.10279202 0.10287242 0.10357072 0.10421824 0.10465302 0.10500082\n",
      " 0.10525842 0.10562069 0.10621467 0.10631109 0.10822153 0.10926304\n",
      " 0.10927947 0.10987317 0.11025556 0.1108629  0.11092261 0.11098908\n",
      " 0.1115756  0.11183857 0.1120512  0.11308087 0.11321534 0.11325463\n",
      " 0.11336649 0.11398817 0.11431889 0.11432118 0.11544579 0.11571736\n",
      " 0.11576213 0.11579414 0.1161439  0.11721785 0.1172581  0.11764383\n",
      " 0.1180873  0.1181267  0.11814967 0.11894838 0.12046965 0.12204966\n",
      " 0.12241056 0.12345043 0.12421689 0.12456754 0.12506401 0.125966\n",
      " 0.12711404 0.12736411 0.12882754 0.12971541 0.12992566 0.13083347\n",
      " 0.13206167 0.13222622 0.13296207 0.13387472 0.13539887 0.13548634\n",
      " 0.13602382 0.13650419 0.13659568 0.13664506 0.1372364  0.13772745\n",
      " 0.13797748 0.13822831 0.13824808 0.13859188 0.13905286 0.14009445\n",
      " 0.1404196  0.14083232 0.14087629 0.1410729  0.14120465 0.14142132\n",
      " 0.14156289 0.14179135 0.14244948 0.14276681 0.14297763 0.14299167\n",
      " 0.14345664 0.14389576 0.14403854 0.14410284 0.14455182 0.14493792\n",
      " 0.14498869 0.14532543 0.14560207 0.14574579 0.14746115 0.14771826\n",
      " 0.14803895 0.15031527 0.15034659 0.150536   0.15080766 0.15198363\n",
      " 0.15304837 0.15332843 0.15334203 0.15367246 0.15368198 0.15388693\n",
      " 0.15409557 0.15443521 0.15463361 0.15472698 0.15541427 0.15597516\n",
      " 0.15688201 0.15700515 0.15704671 0.15897979 0.16033025 0.16052999\n",
      " 0.16135354 0.16206985 0.16226703 0.16276144 0.16279437 0.16314332\n",
      " 0.16321115 0.1632815  0.16364906 0.16375832 0.16425228 0.16439049\n",
      " 0.16536091 0.1653926  0.16601866 0.16719626 0.16833489 0.16864256\n",
      " 0.16944471 0.16958878 0.17038755 0.17070039 0.17101561 0.17117412\n",
      " 0.17128885 0.17234318 0.17234534 0.17260428 0.17271384 0.17334348\n",
      " 0.17359275 0.17380631 0.17447915 0.17458528 0.17481669 0.17492189\n",
      " 0.17509344 0.17692155 0.17763187 0.17821021 0.17906575 0.17949892\n",
      " 0.17991282 0.18078596 0.18220999 0.18224282 0.18231775 0.18279566\n",
      " 0.18320577 0.18396781 0.18502313 0.18667888 0.18681907 0.18693736\n",
      " 0.18893527 0.19062147 0.19335762 0.19348737 0.19463445 0.19514524\n",
      " 0.19524457 0.19543786 0.19550372 0.19575106 0.19622953 0.1966507\n",
      " 0.19692562 0.19742168 0.19812347 0.1988208  0.19913488 0.19921626\n",
      " 0.19960306 0.2007516  0.20094923 0.20126856 0.20343561 0.20414402\n",
      " 0.20485602 0.20548463 0.20553261 0.20558404 0.20573061 0.20603655\n",
      " 0.20764429 0.20793882 0.20857011 0.20888091 0.20893397 0.20984371\n",
      " 0.21051684 0.21096972 0.21190604 0.21252664 0.21303278 0.21310823\n",
      " 0.21395804 0.21526338 0.21644307 0.21683916 0.21848225 0.21852608\n",
      " 0.22001399 0.22007444 0.22022857 0.22058219 0.22095205 0.22108027\n",
      " 0.22110792 0.22134242 0.22254506 0.22372453 0.22397941 0.22420127\n",
      " 0.22616174 0.22633698 0.22749691 0.22978638 0.22982552 0.23029285\n",
      " 0.23129843 0.23143472 0.23155728 0.23158828 0.2322878  0.23248002\n",
      " 0.23307618 0.23506034 0.23561497 0.23599945 0.23611616 0.23637508\n",
      " 0.23684337 0.23696904 0.23946778 0.24084934 0.24251975 0.24251984\n",
      " 0.2458978  0.24690087 0.24691654 0.24813927 0.24817281 0.24895493\n",
      " 0.25116689 0.25116926 0.25319531 0.25358013 0.25367177 0.25566996\n",
      " 0.25596774 0.25602055 0.25649694 0.2570526  0.25805338 0.25991444\n",
      " 0.26019395 0.26245372 0.26321341 0.2636405  0.26453255 0.26461652\n",
      " 0.26828478 0.26836709 0.26992537 0.27086671 0.27097182 0.27489522\n",
      " 0.27545489 0.27718377 0.27866949 0.27967878 0.2809766  0.28204756\n",
      " 0.28502185 0.28532663 0.28548259 0.28567529 0.28594934 0.28687107\n",
      " 0.28823003 0.29017678 0.29023107 0.29036921 0.29039412 0.29216404\n",
      " 0.29247835 0.29419027 0.29460762 0.29583295 0.29727284 0.29803085\n",
      " 0.29960276 0.30063054 0.30124519 0.30167646 0.30258238 0.30383048\n",
      " 0.30396727 0.30440441 0.30467637 0.30507908 0.3051442  0.30666146\n",
      " 0.3066706  0.30736975 0.30955176 0.31071218 0.31155485 0.31230774\n",
      " 0.31247339 0.31276152 0.31355237 0.31360889 0.31376401 0.31492538\n",
      " 0.31500075 0.31528811 0.31653431 0.31762552 0.31816858 0.31879614\n",
      " 0.32074952 0.32096761 0.32127859 0.32236198 0.32274133 0.32514231\n",
      " 0.32528757 0.32533994 0.32576387 0.32616762 0.32680931 0.32688608\n",
      " 0.3277742  0.32893444 0.32896768 0.32925791 0.32937393 0.32988799\n",
      " 0.32993009 0.33144507 0.33179075 0.33309275 0.33526789 0.33604875\n",
      " 0.33732191 0.33909334 0.33997842 0.34012261 0.34173033 0.34198819\n",
      " 0.34383862 0.34411055 0.34749642 0.34831804 0.34848039 0.34851134\n",
      " 0.35064133 0.35081479 0.35094672 0.35165074 0.35329998 0.35499171\n",
      " 0.35541849 0.35653016 0.35718936 0.35757739 0.36093244 0.36157191\n",
      " 0.36213034 0.36431988 0.36563611 0.3657732  0.3669118  0.36797644\n",
      " 0.368348   0.36981541 0.37073855 0.37143227 0.37403531 0.37781154\n",
      " 0.38027117 0.38027896 0.38104713 0.38185715 0.3838654  0.38463953\n",
      " 0.38656405 0.38752978 0.39097661 0.39411866 0.39414939 0.3942116\n",
      " 0.39437917 0.39579917 0.39660261 0.39694498 0.39855779 0.40136969\n",
      " 0.40238875 0.40863136 0.4108053  0.42224775 0.44714627 0.4472136\n",
      " 0.46104137 0.4662974  0.46989903 0.47780071 0.4819515  0.48860074\n",
      " 0.48877546 0.52337344 0.53810429 0.57735027 0.59465482 0.61586542\n",
      " 0.62385456 0.64074251 0.65891872 0.70710678 0.71808303 0.97459387\n",
      " 1.        ]\n",
      "STD Scaler\n",
      "[-1.48026847 -1.4736019  -1.44681007 ...  5.84755477  6.43676513\n",
      "  6.61687127]\n",
      "MinMax Scaler\n",
      "[0.         0.00131092 0.00170921 0.00173894 0.00314789 0.0032773\n",
      " 0.00341881 0.00372284 0.00391297 0.00408759 0.00434735 0.00463481\n",
      " 0.00466838 0.00508427 0.00512035 0.00567832 0.00624007 0.00666892\n",
      " 0.00677646 0.00695445 0.00730714 0.00785303 0.0086567  0.00901932\n",
      " 0.00943128 0.00955419 0.01063447 0.01226954 0.01710623 0.01794441\n",
      " 0.0193852  0.02114601 0.02265438 0.02344417 0.02438341 0.02454161\n",
      " 0.02741481 0.02857488 0.02991413 0.03062825 0.03394677 0.03427342\n",
      " 0.03662596 0.03686301 0.03701882 0.03834015 0.04041098 0.041878\n",
      " 0.04250017 0.04542879 0.04564848 0.04692853 0.04832949 0.0495728\n",
      " 0.05213917 0.05260339 0.05345197 0.05670154 0.05698257 0.05789842\n",
      " 0.05855428 0.05970472 0.06232854 0.06274302 0.06528549 0.06601334\n",
      " 0.06809816 0.0731617  0.07331212 0.0741234  0.07439662 0.07558074\n",
      " 0.07611772 0.07696256 0.07769206 0.07855214 0.07856012 0.07906549\n",
      " 0.08075315 0.08425997 0.08678484 0.08939991 0.09611896 0.09687074\n",
      " 0.096951   0.0978844  0.10126798 0.10345348 0.10392909 0.10481232\n",
      " 0.10582828 0.10644256 0.10874174 0.11013572 0.11183157 0.11330143\n",
      " 0.11347733 0.11451083 0.11496511 0.1167247  0.1180873  0.11867713\n",
      " 0.12204966 0.12219312 0.1222371  0.12313984 0.12371362 0.12421689\n",
      " 0.12486608 0.12652803 0.12669903 0.12762693 0.12798387 0.12853537\n",
      " 0.12992175 0.13005027 0.13011204 0.13173343 0.1333527  0.13475755\n",
      " 0.13554048 0.13602382 0.13611757 0.13664506 0.13732709 0.13797748\n",
      " 0.13802251 0.13869635 0.13905286 0.13924192 0.14009445 0.1404196\n",
      " 0.14093087 0.14257793 0.14276681 0.14331326 0.14336367 0.14363439\n",
      " 0.14434624 0.14477595 0.14493792 0.14498869 0.14515199 0.14606157\n",
      " 0.14767677 0.14800172 0.14840787 0.14925054 0.14947969 0.15012212\n",
      " 0.15034658 0.15034659 0.15046272 0.15250337 0.15375441 0.15409557\n",
      " 0.15443521 0.15452128 0.15501343 0.15519304 0.15993541 0.16120361\n",
      " 0.1616312  0.16169052 0.16206985 0.16226703 0.1622694  0.16280251\n",
      " 0.16328151 0.1652724  0.1663735  0.16693323 0.16709413 0.16864257\n",
      " 0.16900182 0.17029957 0.17073436 0.17101561 0.17132631 0.17159977\n",
      " 0.17369564 0.17418765 0.17447915 0.17458528 0.17492189 0.17778623\n",
      " 0.17818026 0.17819698 0.18003047 0.18271095 0.18272469 0.18279566\n",
      " 0.18294041 0.18578609 0.18681907 0.18685884 0.1874452  0.18757663\n",
      " 0.18798889 0.18888023 0.18986209 0.18995261 0.19030504 0.19204833\n",
      " 0.19218107 0.19249025 0.19325461 0.19383376 0.19411154 0.19440472\n",
      " 0.19543786 0.19636723 0.1964693  0.1966507  0.19800612 0.19904962\n",
      " 0.2007516  0.20094923 0.20116713 0.20126856 0.20254655 0.20390997\n",
      " 0.20396273 0.20504497 0.20538323 0.20558404 0.20603655 0.20673279\n",
      " 0.20703215 0.20706838 0.20764429 0.20771573 0.2081318  0.20889193\n",
      " 0.20898604 0.21046465 0.21067988 0.21168014 0.21238564 0.2129843\n",
      " 0.21363202 0.21385996 0.21400642 0.21415122 0.21434626 0.21454846\n",
      " 0.21631905 0.21641204 0.21644307 0.21683916 0.218362   0.22001399\n",
      " 0.22005863 0.22007327 0.22056329 0.22058219 0.22108027 0.22184741\n",
      " 0.22368186 0.22374803 0.22397941 0.22483138 0.22500088 0.22507183\n",
      " 0.22510689 0.22610128 0.22650926 0.22920138 0.22924494 0.230226\n",
      " 0.23089164 0.23129844 0.23143472 0.23228105 0.2322878  0.23248002\n",
      " 0.23443569 0.23544089 0.23602659 0.23684337 0.23799113 0.23820994\n",
      " 0.23915518 0.23930755 0.23986092 0.24054268 0.24096439 0.24133055\n",
      " 0.24341728 0.24392873 0.24445266 0.24513552 0.24549722 0.2458978\n",
      " 0.24895493 0.25015152 0.2503711  0.25116926 0.25185718 0.25384981\n",
      " 0.25391268 0.25566996 0.25602055 0.25652485 0.25781593 0.25853231\n",
      " 0.25991444 0.26057537 0.26121865 0.26140371 0.26230082 0.26291299\n",
      " 0.26400381 0.26461652 0.26750402 0.26803889 0.26830653 0.26873722\n",
      " 0.26881944 0.26918541 0.26928238 0.26992537 0.27018697 0.27172761\n",
      " 0.2719409  0.27446827 0.27597704 0.27706026 0.27947253 0.27969207\n",
      " 0.28000741 0.28007961 0.28161925 0.28191108 0.28196251 0.28269\n",
      " 0.2835827  0.28375062 0.28502185 0.28632751 0.28646839 0.28687107\n",
      " 0.28739045 0.28959051 0.29097715 0.29173855 0.29192514 0.29373638\n",
      " 0.29419027 0.29421138 0.29426532 0.29460762 0.29518085 0.29583295\n",
      " 0.29665937 0.29744869 0.29835624 0.2996804  0.30055806 0.30124519\n",
      " 0.30127385 0.30258237 0.30295667 0.3051442  0.30661265 0.30666146\n",
      " 0.3066706  0.3082127  0.30896068 0.30917362 0.30955176 0.31114677\n",
      " 0.31118778 0.31123226 0.31161815 0.31247339 0.31276152 0.31420067\n",
      " 0.31528811 0.31648478 0.31661442 0.31779684 0.31859171 0.3186416\n",
      " 0.3186536  0.31879614 0.31975924 0.32074953 0.32086331 0.32096761\n",
      " 0.32274133 0.32351819 0.32381769 0.32395421 0.32514231 0.32533994\n",
      " 0.32616762 0.32658922 0.32680931 0.32696612 0.32721573 0.3277742\n",
      " 0.32937393 0.32993009 0.32993776 0.3306967  0.33101541 0.33144507\n",
      " 0.3318553  0.33203733 0.33224954 0.33242552 0.33309275 0.33320989\n",
      " 0.33388038 0.33432331 0.33526789 0.33601787 0.33711675 0.33732191\n",
      " 0.33747518 0.33909335 0.33932237 0.33987952 0.33997842 0.3406124\n",
      " 0.34169116 0.34288484 0.34347171 0.34383862 0.34436773 0.34523681\n",
      " 0.34542768 0.34749642 0.34985335 0.35037617 0.35064133 0.35081479\n",
      " 0.35094672 0.3513004  0.3516694  0.35229665 0.35229936 0.35311848\n",
      " 0.3531348  0.35329998 0.35349839 0.3537585  0.35482103 0.35499171\n",
      " 0.35510687 0.35520362 0.3554185  0.35757739 0.35868811 0.35888925\n",
      " 0.35904888 0.35970906 0.36093244 0.3612014  0.36125403 0.36213034\n",
      " 0.36352727 0.36431988 0.36558575 0.36563611 0.3656859  0.3657732\n",
      " 0.36796982 0.36797644 0.36820662 0.368348   0.37038981 0.37073855\n",
      " 0.37143227 0.37181027 0.37284397 0.37403531 0.37640782 0.37661914\n",
      " 0.37837948 0.37941198 0.38027117 0.38027896 0.38038684 0.38104713\n",
      " 0.38185715 0.38190787 0.38306338 0.38346904 0.3838654  0.3840709\n",
      " 0.38435307 0.38468912 0.38620789 0.38656405 0.38752978 0.38773531\n",
      " 0.38788611 0.39038694 0.39097661 0.39271772 0.39338432 0.39414939\n",
      " 0.3942116  0.39579917 0.39624803 0.39660261 0.39693163 0.39694498\n",
      " 0.39736092 0.39855779 0.40109972 0.40136969 0.40238875 0.40241727\n",
      " 0.40351279 0.40435055 0.40445124 0.40569695 0.4062977  0.40699193\n",
      " 0.40762884 0.40863136 0.40927519 0.40952641 0.40981955 0.4108053\n",
      " 0.41116807 0.41172361 0.41318235 0.41500651 0.41604787 0.41681774\n",
      " 0.41806872 0.41837097 0.41909751 0.42004161 0.42005653 0.42053618\n",
      " 0.42147927 0.42224775 0.42391677 0.42663495 0.42697958 0.42723966\n",
      " 0.42764485 0.42964915 0.42968119 0.43052677 0.43153907 0.43352295\n",
      " 0.4336848  0.43369772 0.43459831 0.4394001  0.44033908 0.44166984\n",
      " 0.44184908 0.44208685 0.44231158 0.44339354 0.44415761 0.44426909\n",
      " 0.44434645 0.44450095 0.44714627 0.4472136  0.44733203 0.44888945\n",
      " 0.44995832 0.45041823 0.45084582 0.45121886 0.45200796 0.45349572\n",
      " 0.45360833 0.45391675 0.45588868 0.45620559 0.45642517 0.45710795\n",
      " 0.45982067 0.46104137 0.46217816 0.46551231 0.4662974  0.46659161\n",
      " 0.46694741 0.46716009 0.46794773 0.46881847 0.47199889 0.47404249\n",
      " 0.4744638  0.47621915 0.4766369  0.47955041 0.48100601 0.48156668\n",
      " 0.4819515  0.48222216 0.48266971 0.48511254 0.48514221 0.48639489\n",
      " 0.48860075 0.48891466 0.49063316 0.49188384 0.493256   0.49527879\n",
      " 0.49588172 0.49730925 0.49759938 0.49772069 0.49827031 0.49964163\n",
      " 0.50086231 0.50203408 0.50420979 0.50444033 0.50514203 0.50569079\n",
      " 0.50611512 0.5081387  0.51079303 0.5113399  0.51212964 0.5123977\n",
      " 0.51256583 0.51522612 0.51581422 0.51708754 0.51728143 0.5184001\n",
      " 0.51878305 0.52039727 0.52092273 0.52265981 0.52278911 0.52337344\n",
      " 0.52415874 0.5242954  0.52430348 0.52528455 0.52570923 0.5262854\n",
      " 0.52666358 0.52887278 0.53136923 0.5314649  0.53201703 0.53313614\n",
      " 0.53461904 0.53582588 0.53778465 0.53810429 0.53905208 0.53962882\n",
      " 0.54248494 0.54286766 0.54396244 0.54399362 0.54546676 0.54560525\n",
      " 0.54683068 0.54767586 0.54804987 0.54998074 0.55073546 0.55262585\n",
      " 0.55366494 0.55371698 0.55555447 0.55647003 0.55698068 0.55792088\n",
      " 0.55865383 0.55874943 0.55956432 0.56089677 0.56136497 0.56371828\n",
      " 0.56747317 0.56762245 0.56772157 0.56984996 0.57049239 0.57116981\n",
      " 0.5739627  0.57584997 0.57729053 0.57735027 0.57742506 0.57780852\n",
      " 0.57872313 0.57984607 0.58081093 0.58378528 0.58433713 0.58670857\n",
      " 0.58708062 0.59534521 0.59554597 0.59623087 0.59691655 0.59818532\n",
      " 0.59997282 0.60397297 0.60789675 0.60791083 0.60812828 0.60860491\n",
      " 0.60862502 0.60924305 0.60964158 0.61334119 0.61386586 0.61947434\n",
      " 0.61982845 0.62036387 0.6251564  0.62533973 0.62565513 0.62793069\n",
      " 0.62948734 0.63001865 0.63100323 0.63204754 0.63236031 0.6360951\n",
      " 0.63735389 0.63738656 0.63982654 0.64139786 0.6415812  0.64263362\n",
      " 0.64302441 0.64500957 0.64721035 0.64978729 0.65028463 0.65041344\n",
      " 0.65201095 0.65225481 0.65325193 0.65548347 0.65734233 0.65842769\n",
      " 0.65864899 0.65891872 0.66012266 0.66025716 0.66201247 0.66453758\n",
      " 0.66823581 0.67085976 0.67122126 0.67166145 0.67362275 0.67434729\n",
      " 0.67719135 0.68119038 0.68195457 0.68217757 0.68268677 0.68332418\n",
      " 0.68697927 0.68813774 0.6888341  0.6909858  0.69123288 0.69251271\n",
      " 0.69332805 0.69479623 0.70061242 0.70124954 0.70162456 0.70174373\n",
      " 0.70177364 0.70498056 0.70559903 0.70756642 0.71051577 0.72173639\n",
      " 0.72648818 0.72710914 0.72747767 0.72998644 0.7315002  0.73304312\n",
      " 0.74012456 0.74521183 0.75305346 0.75345465 0.75650884 0.75766073\n",
      " 0.75968298 0.76055791 0.76582108 0.77327076 0.77459667 0.77713949\n",
      " 0.78195322 0.78295507 0.78636406 0.78835526 0.78970466 0.79012141\n",
      " 0.79108742 0.80040012 0.8015886  0.80273937 0.80320539 0.8047775\n",
      " 0.80561982 0.80589423 0.80641568 0.80765079 0.81078356 0.81197401\n",
      " 0.81286341 0.81339983 0.81649658 0.82066886 0.82218396 0.82259315\n",
      " 0.83399405 0.83706784 0.84105942 0.84514774 0.85113328 0.85580483\n",
      " 0.86662747 0.87096523 0.87297866 0.8804969  0.88226358 0.88525107\n",
      " 0.88985147 0.89442719 0.90393707 0.90593801 0.90614675 0.91290937\n",
      " 0.92207304 0.92543678 0.92938209 0.93148941 0.9322123  0.95560142\n",
      " 0.9654351  0.97459388 0.97755091 0.98918254 0.9996917  1.        ]\n"
     ]
    }
   ],
   "source": [
    "data = features[\"train\"]\n",
    "print(data[0])\n",
    "\n",
    "print(np.unique(data[0]))\n",
    "\n",
    "print(\"STD Scaler\")\n",
    "data_norm = preprocessing.StandardScaler().fit_transform(data)\n",
    "print(np.unique(data_norm[0]))\n",
    "\n",
    "print(\"MinMax Scaler\")\n",
    "data_norm = preprocessing.MinMaxScaler().fit_transform(data)\n",
    "print(np.unique(data_norm[0]))"
   ]
  },
  {
   "cell_type": "code",
   "execution_count": 14,
   "id": "b7d923d5",
   "metadata": {
    "id": "9xtQViBQqBsM"
   },
   "outputs": [],
   "source": [
    "data_norm_train = preprocessing.MinMaxScaler().fit_transform(features[\"train\"])\n",
    "data_norm_test = preprocessing.MinMaxScaler().fit_transform(features[\"test\"])"
   ]
  },
  {
   "cell_type": "markdown",
   "id": "cef824be",
   "metadata": {
    "id": "o6DA90Fjz6MB"
   },
   "source": [
    "# Importando os modelos KNN, Naive-Bayes, Regressão Logística e SVM para classificação, já com alguns parâmetros otimizados"
   ]
  },
  {
   "cell_type": "code",
   "execution_count": 15,
   "id": "683d0d18",
   "metadata": {
    "id": "6sgOsNeaxHc8"
   },
   "outputs": [],
   "source": [
    "\n",
    "\n",
    "max_iter = 10000\n",
    "\n",
    "models = {}\n",
    "models[\"KNN\"] = KNeighborsClassifier(n_neighbors=16)\n",
    "models[\"NB\"] = MultinomialNB()\n",
    "models[\"LR\"] = LogisticRegression(max_iter=max_iter)\n",
    "models[\"SVC\"] = SVC(C=10, gamma=0.001, kernel=\"rbf\")"
   ]
  },
  {
   "cell_type": "code",
   "execution_count": 16,
   "id": "08e5965e",
   "metadata": {
    "id": "PlBy83yS0DjJ"
   },
   "outputs": [],
   "source": [
    "def performance_evaluation(y_test, predictions, info_message, figsize=(18, 4)):\n",
    "\n",
    "    print(f\"Evaluation of \", info_message)\n",
    "    print(f\"{metrics.classification_report(y_test, predicted)}\\n\")\n",
    "    disp = metrics.ConfusionMatrixDisplay.from_predictions(y_test, predictions)\n",
    "    disp.figure_.suptitle(\"Confusion Matrix\")\n",
    "    plt.show()"
   ]
  },
  {
   "cell_type": "markdown",
   "id": "9e6737c4",
   "metadata": {
    "id": "81WiKZxQVrLu"
   },
   "source": [
    "# Avaliando a performance de cada modelo"
   ]
  },
  {
   "cell_type": "code",
   "execution_count": 18,
   "id": "f1b7ffc7",
   "metadata": {
    "colab": {
     "base_uri": "https://localhost:8080/",
     "height": 1000
    },
    "id": "0WUeiCG_0HgK",
    "lines_to_end_of_cell_marker": 2,
    "outputId": "7c6de6b2-c446-4e90-e0fc-7b3a277f86bd"
   },
   "outputs": [
    {
     "name": "stdout",
     "output_type": "stream",
     "text": [
      "------------------------\n",
      "Treinando KNN\n",
      "Evaluation of  KNN\n",
      "              precision    recall  f1-score   support\n",
      "\n",
      "        bart       0.55      0.80      0.65        35\n",
      "      family       0.26      0.45      0.33        11\n",
      "       homer       0.38      0.52      0.44        25\n",
      "        lisa       1.00      0.08      0.14        13\n",
      "      maggie       1.00      0.08      0.15        12\n",
      "       marge       0.00      0.00      0.00        10\n",
      "\n",
      "    accuracy                           0.45       106\n",
      "   macro avg       0.53      0.32      0.29       106\n",
      "weighted avg       0.53      0.45      0.39       106\n",
      "\n",
      "\n"
     ]
    },
    {
     "name": "stderr",
     "output_type": "stream",
     "text": [
      "c:\\Users\\caeta\\AppData\\Local\\Programs\\Python\\Python39\\lib\\site-packages\\sklearn\\metrics\\_classification.py:1327: UndefinedMetricWarning: Precision and F-score are ill-defined and being set to 0.0 in labels with no predicted samples. Use `zero_division` parameter to control this behavior.\n",
      "  _warn_prf(average, modifier, msg_start, len(result))\n",
      "c:\\Users\\caeta\\AppData\\Local\\Programs\\Python\\Python39\\lib\\site-packages\\sklearn\\metrics\\_classification.py:1327: UndefinedMetricWarning: Precision and F-score are ill-defined and being set to 0.0 in labels with no predicted samples. Use `zero_division` parameter to control this behavior.\n",
      "  _warn_prf(average, modifier, msg_start, len(result))\n",
      "c:\\Users\\caeta\\AppData\\Local\\Programs\\Python\\Python39\\lib\\site-packages\\sklearn\\metrics\\_classification.py:1327: UndefinedMetricWarning: Precision and F-score are ill-defined and being set to 0.0 in labels with no predicted samples. Use `zero_division` parameter to control this behavior.\n",
      "  _warn_prf(average, modifier, msg_start, len(result))\n"
     ]
    },
    {
     "data": {
      "image/png": "[encoded data removed]",
      "text/plain": [
       "<Figure size 432x288 with 2 Axes>"
      ]
     },
     "metadata": {
      "needs_background": "light"
     },
     "output_type": "display_data"
    },
    {
     "name": "stdout",
     "output_type": "stream",
     "text": [
      "------------------------\n",
      "Treinando NB\n",
      "Evaluation of  NB\n",
      "              precision    recall  f1-score   support\n",
      "\n",
      "        bart       0.59      0.66      0.62        35\n",
      "      family       0.28      0.45      0.34        11\n",
      "       homer       0.41      0.44      0.42        25\n",
      "        lisa       0.43      0.23      0.30        13\n",
      "      maggie       0.33      0.25      0.29        12\n",
      "       marge       0.67      0.40      0.50        10\n",
      "\n",
      "    accuracy                           0.46       106\n",
      "   macro avg       0.45      0.41      0.41       106\n",
      "weighted avg       0.47      0.46      0.46       106\n",
      "\n",
      "\n"
     ]
    },
    {
     "data": {
      "image/png": "[encoded data removed]",
      "text/plain": [
       "<Figure size 432x288 with 2 Axes>"
      ]
     },
     "metadata": {
      "needs_background": "light"
     },
     "output_type": "display_data"
    },
    {
     "name": "stdout",
     "output_type": "stream",
     "text": [
      "------------------------\n",
      "Treinando LR\n",
      "Evaluation of  LR\n",
      "              precision    recall  f1-score   support\n",
      "\n",
      "        bart       0.55      0.69      0.61        35\n",
      "      family       0.54      0.64      0.58        11\n",
      "       homer       0.47      0.56      0.51        25\n",
      "        lisa       0.45      0.38      0.42        13\n",
      "      maggie       0.50      0.17      0.25        12\n",
      "       marge       0.75      0.30      0.43        10\n",
      "\n",
      "    accuracy                           0.52       106\n",
      "   macro avg       0.54      0.46      0.47       106\n",
      "weighted avg       0.53      0.52      0.50       106\n",
      "\n",
      "\n"
     ]
    },
    {
     "data": {
      "image/png": "[encoded data removed]",
      "text/plain": [
       "<Figure size 432x288 with 2 Axes>"
      ]
     },
     "metadata": {
      "needs_background": "light"
     },
     "output_type": "display_data"
    },
    {
     "name": "stdout",
     "output_type": "stream",
     "text": [
      "------------------------\n",
      "Treinando SVC\n",
      "Evaluation of  SVC\n",
      "              precision    recall  f1-score   support\n",
      "\n",
      "        bart       0.56      0.83      0.67        35\n",
      "      family       0.60      0.55      0.57        11\n",
      "       homer       0.50      0.52      0.51        25\n",
      "        lisa       0.42      0.38      0.40        13\n",
      "      maggie       0.50      0.08      0.14        12\n",
      "       marge       1.00      0.40      0.57        10\n",
      "\n",
      "    accuracy                           0.55       106\n",
      "   macro avg       0.60      0.46      0.48       106\n",
      "weighted avg       0.57      0.55      0.52       106\n",
      "\n",
      "\n"
     ]
    },
    {
     "data": {
      "image/png": "[encoded data removed]",
      "text/plain": [
       "<Figure size 432x288 with 2 Axes>"
      ]
     },
     "metadata": {
      "needs_background": "light"
     },
     "output_type": "display_data"
    }
   ],
   "source": [
    "for name in models:\n",
    "    print(\"------------------------\")\n",
    "    print(f\"Treinando {name}\")\n",
    "\n",
    "    train = data_norm_train\n",
    "    test = data_norm_test\n",
    "\n",
    "    model = models[name]\n",
    "    model.fit(train, y_train[:N_SAMPLES_TRAIN])\n",
    "    predicted = model.predict(test)\n",
    "\n",
    "    performance_evaluation(\n",
    "        y_test[:N_SAMPLES_TEST], predicted, info_message=name, figsize=(10, 4)\n",
    "    )"
   ]
  },
  {
   "cell_type": "markdown",
   "id": "023a36b7",
   "metadata": {},
   "source": [
    "# Comentários: Percebemos que Bart é o personagem mais fácil de ser identificado, já maggie é a mais difícil, o melhor f1 score se deu com SVC com 0.55 e regressão logística com 0.52"
   ]
  },
  {
   "cell_type": "code",
   "execution_count": null,
   "id": "3bf700d7",
   "metadata": {},
   "outputs": [],
   "source": []
  }
 ],
 "metadata": {
  "jupytext": {
   "cell_metadata_filter": "id,colab,outputId,-all",
   "main_language": "python",
   "notebook_metadata_filter": "-all"
  },
  "kernelspec": {
   "display_name": "Python 3.9.10 64-bit",
   "language": "python",
   "name": "python3"
  },
  "language_info": {
   "codemirror_mode": {
    "name": "ipython",
    "version": 3
   },
   "file_extension": ".py",
   "mimetype": "text/x-python",
   "name": "python",
   "nbconvert_exporter": "python",
   "pygments_lexer": "ipython3",
   "version": "3.9.10"
  },
  "vscode": {
   "interpreter": {
    "hash": "d19cf9935b1949c302a118a1076556b0f66f9b39da92b8d99582d59f54d25c43"
   }
  }
 },
 "nbformat": 4,
 "nbformat_minor": 5
}
