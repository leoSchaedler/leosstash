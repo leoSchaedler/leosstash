{
  "nbformat": 4,
  "nbformat_minor": 0,
  "metadata": {
    "colab": {
      "name": "AnaliseOutliers-TesteHipotese-LeonardoRibeiroSchaedler.ipynb",
      "provenance": [],
      "collapsed_sections": []
    },
    "kernelspec": {
      "name": "python3",
      "display_name": "Python 3"
    },
    "language_info": {
      "name": "python"
    }
  },
  "cells": [
    {
      "cell_type": "code",
      "metadata": {
        "id": "d78i0y-_cee5"
      },
      "source": [
        "import pandas as pd\n",
        "import numpy as np\n",
        "import seaborn as sns"
      ],
      "execution_count": 1,
      "outputs": []
    },
    {
      "cell_type": "code",
      "metadata": {
        "id": "auaUPq2ocnpT"
      },
      "source": [
        "df = pd.read_csv('http://www.ppgia.pucpr.br/~jean.barddal/datascience/enron.csv')"
      ],
      "execution_count": 2,
      "outputs": []
    },
    {
      "cell_type": "code",
      "metadata": {
        "colab": {
          "base_uri": "https://localhost:8080/",
          "height": 313
        },
        "id": "Xf4lCEdIctAB",
        "outputId": "c7d8fad1-8b2a-4cc9-f86c-24d235bef5e6"
      },
      "source": [
        "df.head(5)"
      ],
      "execution_count": 3,
      "outputs": [
        {
          "output_type": "execute_result",
          "data": {
            "text/html": [
              "<div>\n",
              "<style scoped>\n",
              "    .dataframe tbody tr th:only-of-type {\n",
              "        vertical-align: middle;\n",
              "    }\n",
              "\n",
              "    .dataframe tbody tr th {\n",
              "        vertical-align: top;\n",
              "    }\n",
              "\n",
              "    .dataframe thead th {\n",
              "        text-align: right;\n",
              "    }\n",
              "</style>\n",
              "<table border=\"1\" class=\"dataframe\">\n",
              "  <thead>\n",
              "    <tr style=\"text-align: right;\">\n",
              "      <th></th>\n",
              "      <th>bonus</th>\n",
              "      <th>deferral_payments</th>\n",
              "      <th>deferred_income</th>\n",
              "      <th>director_fees</th>\n",
              "      <th>email_address</th>\n",
              "      <th>exercised_stock_options</th>\n",
              "      <th>expenses</th>\n",
              "      <th>from_messages</th>\n",
              "      <th>from_poi_to_this_person</th>\n",
              "      <th>from_this_person_to_poi</th>\n",
              "      <th>loan_advances</th>\n",
              "      <th>long_term_incentive</th>\n",
              "      <th>other</th>\n",
              "      <th>poi</th>\n",
              "      <th>restricted_stock</th>\n",
              "      <th>restricted_stock_deferred</th>\n",
              "      <th>salary</th>\n",
              "      <th>shared_receipt_with_poi</th>\n",
              "      <th>to_messages</th>\n",
              "      <th>total_payments</th>\n",
              "      <th>total_stock_value</th>\n",
              "      <th>name</th>\n",
              "    </tr>\n",
              "  </thead>\n",
              "  <tbody>\n",
              "    <tr>\n",
              "      <th>0</th>\n",
              "      <td>4175000.0</td>\n",
              "      <td>2869717.0</td>\n",
              "      <td>-3081055.0</td>\n",
              "      <td>NaN</td>\n",
              "      <td>phillip.allen@enron.com</td>\n",
              "      <td>1729541.0</td>\n",
              "      <td>13868.0</td>\n",
              "      <td>2195.0</td>\n",
              "      <td>47.0</td>\n",
              "      <td>65.0</td>\n",
              "      <td>NaN</td>\n",
              "      <td>304805.0</td>\n",
              "      <td>152.0</td>\n",
              "      <td>False</td>\n",
              "      <td>126027.0</td>\n",
              "      <td>-126027.0</td>\n",
              "      <td>201955.0</td>\n",
              "      <td>1407.0</td>\n",
              "      <td>2902.0</td>\n",
              "      <td>4484442.0</td>\n",
              "      <td>1729541.0</td>\n",
              "      <td>ALLEN PHILLIP K</td>\n",
              "    </tr>\n",
              "    <tr>\n",
              "      <th>1</th>\n",
              "      <td>NaN</td>\n",
              "      <td>178980.0</td>\n",
              "      <td>NaN</td>\n",
              "      <td>NaN</td>\n",
              "      <td>NaN</td>\n",
              "      <td>257817.0</td>\n",
              "      <td>3486.0</td>\n",
              "      <td>NaN</td>\n",
              "      <td>NaN</td>\n",
              "      <td>NaN</td>\n",
              "      <td>NaN</td>\n",
              "      <td>NaN</td>\n",
              "      <td>NaN</td>\n",
              "      <td>False</td>\n",
              "      <td>NaN</td>\n",
              "      <td>NaN</td>\n",
              "      <td>NaN</td>\n",
              "      <td>NaN</td>\n",
              "      <td>NaN</td>\n",
              "      <td>182466.0</td>\n",
              "      <td>257817.0</td>\n",
              "      <td>BADUM JAMES P</td>\n",
              "    </tr>\n",
              "    <tr>\n",
              "      <th>2</th>\n",
              "      <td>NaN</td>\n",
              "      <td>NaN</td>\n",
              "      <td>-5104.0</td>\n",
              "      <td>NaN</td>\n",
              "      <td>james.bannantine@enron.com</td>\n",
              "      <td>4046157.0</td>\n",
              "      <td>56301.0</td>\n",
              "      <td>29.0</td>\n",
              "      <td>39.0</td>\n",
              "      <td>0.0</td>\n",
              "      <td>NaN</td>\n",
              "      <td>NaN</td>\n",
              "      <td>864523.0</td>\n",
              "      <td>False</td>\n",
              "      <td>1757552.0</td>\n",
              "      <td>-560222.0</td>\n",
              "      <td>477.0</td>\n",
              "      <td>465.0</td>\n",
              "      <td>566.0</td>\n",
              "      <td>916197.0</td>\n",
              "      <td>5243487.0</td>\n",
              "      <td>BANNANTINE JAMES M</td>\n",
              "    </tr>\n",
              "    <tr>\n",
              "      <th>3</th>\n",
              "      <td>1200000.0</td>\n",
              "      <td>1295738.0</td>\n",
              "      <td>-1386055.0</td>\n",
              "      <td>NaN</td>\n",
              "      <td>NaN</td>\n",
              "      <td>6680544.0</td>\n",
              "      <td>11200.0</td>\n",
              "      <td>NaN</td>\n",
              "      <td>NaN</td>\n",
              "      <td>NaN</td>\n",
              "      <td>NaN</td>\n",
              "      <td>1586055.0</td>\n",
              "      <td>2660303.0</td>\n",
              "      <td>False</td>\n",
              "      <td>3942714.0</td>\n",
              "      <td>NaN</td>\n",
              "      <td>267102.0</td>\n",
              "      <td>NaN</td>\n",
              "      <td>NaN</td>\n",
              "      <td>5634343.0</td>\n",
              "      <td>10623258.0</td>\n",
              "      <td>BAXTER JOHN C</td>\n",
              "    </tr>\n",
              "    <tr>\n",
              "      <th>4</th>\n",
              "      <td>400000.0</td>\n",
              "      <td>260455.0</td>\n",
              "      <td>-201641.0</td>\n",
              "      <td>NaN</td>\n",
              "      <td>frank.bay@enron.com</td>\n",
              "      <td>NaN</td>\n",
              "      <td>129142.0</td>\n",
              "      <td>NaN</td>\n",
              "      <td>NaN</td>\n",
              "      <td>NaN</td>\n",
              "      <td>NaN</td>\n",
              "      <td>NaN</td>\n",
              "      <td>69.0</td>\n",
              "      <td>False</td>\n",
              "      <td>145796.0</td>\n",
              "      <td>-82782.0</td>\n",
              "      <td>239671.0</td>\n",
              "      <td>NaN</td>\n",
              "      <td>NaN</td>\n",
              "      <td>827696.0</td>\n",
              "      <td>63014.0</td>\n",
              "      <td>BAY FRANKLIN R</td>\n",
              "    </tr>\n",
              "  </tbody>\n",
              "</table>\n",
              "</div>"
            ],
            "text/plain": [
              "       bonus  deferral_payments  ...  total_stock_value                name\n",
              "0  4175000.0          2869717.0  ...          1729541.0     ALLEN PHILLIP K\n",
              "1        NaN           178980.0  ...           257817.0       BADUM JAMES P\n",
              "2        NaN                NaN  ...          5243487.0  BANNANTINE JAMES M\n",
              "3  1200000.0          1295738.0  ...         10623258.0       BAXTER JOHN C\n",
              "4   400000.0           260455.0  ...            63014.0      BAY FRANKLIN R\n",
              "\n",
              "[5 rows x 22 columns]"
            ]
          },
          "metadata": {},
          "execution_count": 3
        }
      ]
    },
    {
      "cell_type": "code",
      "metadata": {
        "colab": {
          "base_uri": "https://localhost:8080/"
        },
        "id": "OCiQJgcRctKB",
        "outputId": "787a74af-7ad0-47d5-bf52-86624007a1f5"
      },
      "source": [
        "# implementar o metodo de tukey\n",
        "\n",
        "# lista de outliers (outliers para mais de n variaveis)\n",
        "outliers = []\n",
        "n = 2\n",
        "\n",
        "for col in df.select_dtypes(include='number').columns.values:\n",
        "  print(col)\n",
        "\n",
        "  # calcular os quartis (Q3 e Q1)\n",
        "  q1 = df[col].quantile(q=0.25)\n",
        "  q3 = df[col].quantile(q=0.75)\n",
        "\n",
        "  # calcular o tamanho da caixa (IQR = Q3 - Q1)\n",
        "  iqr = q3 - q1\n",
        "\n",
        "  # limites superiores e inferiores (whiskers/bigodes)\n",
        "  sup = q3 + 1.5 * iqr \n",
        "  inf = q1 - 1.5 * iqr\n",
        "\n",
        "  # obtendo os dados abaixo ou acima dos whiskers\n",
        "  ix_outliers_col = list(df[(df[col] < inf) | (df[col] > sup)].index)\n",
        "\n",
        "  print(ix_outliers_col)\n",
        "  # armazenando os outliers dessa coluna na lista global de outliers\n",
        "  for v in ix_outliers_col:\n",
        "    outliers.append(v)    "
      ],
      "execution_count": 4,
      "outputs": [
        {
          "output_type": "stream",
          "name": "stdout",
          "text": [
            "bonus\n",
            "[0, 7, 31, 42, 75, 78, 79, 91, 122, 130, 139]\n",
            "deferral_payments\n",
            "[0, 47, 66, 68, 130]\n",
            "deferred_income\n",
            "[0, 7, 47, 59, 112, 130]\n",
            "director_fees\n",
            "[8, 11, 94, 108, 130, 132]\n",
            "exercised_stock_options\n",
            "[3, 32, 35, 47, 65, 79, 103, 110, 112, 122, 130, 144]\n",
            "expenses\n",
            "[88, 116, 130, 132]\n",
            "from_messages\n",
            "[0, 6, 7, 19, 31, 32, 58, 62, 66, 72, 73, 75, 78, 89, 116, 117, 139]\n",
            "from_poi_to_this_person\n",
            "[7, 20, 26, 34, 37, 47, 58, 75, 78, 110, 139]\n",
            "from_this_person_to_poi\n",
            "[0, 6, 7, 19, 31, 58, 72, 73, 75, 78, 89, 116, 117]\n",
            "loan_advances\n",
            "[]\n",
            "long_term_incentive\n",
            "[40, 78, 79, 86, 130]\n",
            "other\n",
            "[3, 47, 69, 77, 79, 86, 103, 119, 121, 130, 140]\n",
            "restricted_stock\n",
            "[3, 11, 22, 47, 60, 69, 73, 79, 103, 112, 122, 130, 139, 140, 144]\n",
            "restricted_stock_deferred\n",
            "[11, 32, 130]\n",
            "salary\n",
            "[2, 32, 47, 57, 79, 105, 122, 130, 139]\n",
            "shared_receipt_with_poi\n",
            "[7, 117]\n",
            "to_messages\n",
            "[6, 7, 73, 75, 78, 117, 139]\n",
            "total_payments\n",
            "[3, 7, 11, 31, 47, 78, 79, 86, 122, 130, 139]\n",
            "total_stock_value\n",
            "[3, 32, 35, 41, 47, 65, 66, 79, 102, 103, 110, 112, 122, 130, 140, 144]\n"
          ]
        }
      ]
    },
    {
      "cell_type": "code",
      "metadata": {
        "colab": {
          "base_uri": "https://localhost:8080/"
        },
        "id": "y5aJ3yoXd4gA",
        "outputId": "5b3af908-6ab1-4cc5-d19a-e87c11fd0a35"
      },
      "source": [
        "from collections import Counter\n",
        "lista_indices = [x[0] for x in Counter(outliers).most_common(10)]\n",
        "lista_indices"
      ],
      "execution_count": 5,
      "outputs": [
        {
          "output_type": "execute_result",
          "data": {
            "text/plain": [
              "[130, 47, 7, 79, 78, 139, 122, 0, 75, 3]"
            ]
          },
          "metadata": {},
          "execution_count": 5
        }
      ]
    },
    {
      "cell_type": "code",
      "metadata": {
        "colab": {
          "base_uri": "https://localhost:8080/"
        },
        "id": "li4ULMiPhzKp",
        "outputId": "5df588d5-01d8-4fa7-902e-5eb97a7efcc1"
      },
      "source": [
        "Counter(outliers).most_common(100)"
      ],
      "execution_count": 6,
      "outputs": [
        {
          "output_type": "execute_result",
          "data": {
            "text/plain": [
              "[(130, 13),\n",
              " (47, 9),\n",
              " (7, 8),\n",
              " (79, 8),\n",
              " (78, 7),\n",
              " (139, 7),\n",
              " (122, 6),\n",
              " (0, 5),\n",
              " (75, 5),\n",
              " (3, 5),\n",
              " (32, 5),\n",
              " (31, 4),\n",
              " (112, 4),\n",
              " (11, 4),\n",
              " (103, 4),\n",
              " (73, 4),\n",
              " (117, 4),\n",
              " (66, 3),\n",
              " (110, 3),\n",
              " (144, 3),\n",
              " (116, 3),\n",
              " (6, 3),\n",
              " (58, 3),\n",
              " (86, 3),\n",
              " (140, 3),\n",
              " (132, 2),\n",
              " (35, 2),\n",
              " (65, 2),\n",
              " (19, 2),\n",
              " (72, 2),\n",
              " (89, 2),\n",
              " (69, 2),\n",
              " (42, 1),\n",
              " (91, 1),\n",
              " (68, 1),\n",
              " (59, 1),\n",
              " (8, 1),\n",
              " (94, 1),\n",
              " (108, 1),\n",
              " (88, 1),\n",
              " (62, 1),\n",
              " (20, 1),\n",
              " (26, 1),\n",
              " (34, 1),\n",
              " (37, 1),\n",
              " (40, 1),\n",
              " (77, 1),\n",
              " (119, 1),\n",
              " (121, 1),\n",
              " (22, 1),\n",
              " (60, 1),\n",
              " (2, 1),\n",
              " (57, 1),\n",
              " (105, 1),\n",
              " (41, 1),\n",
              " (102, 1)]"
            ]
          },
          "metadata": {},
          "execution_count": 6
        }
      ]
    },
    {
      "cell_type": "code",
      "metadata": {
        "colab": {
          "base_uri": "https://localhost:8080/",
          "height": 557
        },
        "id": "JOXQtxExgW3D",
        "outputId": "ebf2b61a-ec2c-412a-90d2-9a36fe24ef31"
      },
      "source": [
        "df.loc[lista_indices]"
      ],
      "execution_count": 7,
      "outputs": [
        {
          "output_type": "execute_result",
          "data": {
            "text/html": [
              "<div>\n",
              "<style scoped>\n",
              "    .dataframe tbody tr th:only-of-type {\n",
              "        vertical-align: middle;\n",
              "    }\n",
              "\n",
              "    .dataframe tbody tr th {\n",
              "        vertical-align: top;\n",
              "    }\n",
              "\n",
              "    .dataframe thead th {\n",
              "        text-align: right;\n",
              "    }\n",
              "</style>\n",
              "<table border=\"1\" class=\"dataframe\">\n",
              "  <thead>\n",
              "    <tr style=\"text-align: right;\">\n",
              "      <th></th>\n",
              "      <th>bonus</th>\n",
              "      <th>deferral_payments</th>\n",
              "      <th>deferred_income</th>\n",
              "      <th>director_fees</th>\n",
              "      <th>email_address</th>\n",
              "      <th>exercised_stock_options</th>\n",
              "      <th>expenses</th>\n",
              "      <th>from_messages</th>\n",
              "      <th>from_poi_to_this_person</th>\n",
              "      <th>from_this_person_to_poi</th>\n",
              "      <th>loan_advances</th>\n",
              "      <th>long_term_incentive</th>\n",
              "      <th>other</th>\n",
              "      <th>poi</th>\n",
              "      <th>restricted_stock</th>\n",
              "      <th>restricted_stock_deferred</th>\n",
              "      <th>salary</th>\n",
              "      <th>shared_receipt_with_poi</th>\n",
              "      <th>to_messages</th>\n",
              "      <th>total_payments</th>\n",
              "      <th>total_stock_value</th>\n",
              "      <th>name</th>\n",
              "    </tr>\n",
              "  </thead>\n",
              "  <tbody>\n",
              "    <tr>\n",
              "      <th>130</th>\n",
              "      <td>97343619.0</td>\n",
              "      <td>32083396.0</td>\n",
              "      <td>-27992891.0</td>\n",
              "      <td>1398517.0</td>\n",
              "      <td>NaN</td>\n",
              "      <td>311764000.0</td>\n",
              "      <td>5235198.0</td>\n",
              "      <td>NaN</td>\n",
              "      <td>NaN</td>\n",
              "      <td>NaN</td>\n",
              "      <td>83925000.0</td>\n",
              "      <td>48521928.0</td>\n",
              "      <td>42667589.0</td>\n",
              "      <td>False</td>\n",
              "      <td>130322299.0</td>\n",
              "      <td>-7576788.0</td>\n",
              "      <td>26704229.0</td>\n",
              "      <td>NaN</td>\n",
              "      <td>NaN</td>\n",
              "      <td>309886585.0</td>\n",
              "      <td>434509511.0</td>\n",
              "      <td>TOTAL</td>\n",
              "    </tr>\n",
              "    <tr>\n",
              "      <th>47</th>\n",
              "      <td>2000000.0</td>\n",
              "      <td>6426990.0</td>\n",
              "      <td>-3367011.0</td>\n",
              "      <td>NaN</td>\n",
              "      <td>mark.frevert@enron.com</td>\n",
              "      <td>10433518.0</td>\n",
              "      <td>86987.0</td>\n",
              "      <td>21.0</td>\n",
              "      <td>242.0</td>\n",
              "      <td>6.0</td>\n",
              "      <td>2000000.0</td>\n",
              "      <td>1617011.0</td>\n",
              "      <td>7427621.0</td>\n",
              "      <td>False</td>\n",
              "      <td>4188667.0</td>\n",
              "      <td>NaN</td>\n",
              "      <td>1060932.0</td>\n",
              "      <td>2979.0</td>\n",
              "      <td>3275.0</td>\n",
              "      <td>17252530.0</td>\n",
              "      <td>14622185.0</td>\n",
              "      <td>FREVERT MARK A</td>\n",
              "    </tr>\n",
              "    <tr>\n",
              "      <th>7</th>\n",
              "      <td>5249999.0</td>\n",
              "      <td>2144013.0</td>\n",
              "      <td>-2334434.0</td>\n",
              "      <td>NaN</td>\n",
              "      <td>tim.belden@enron.com</td>\n",
              "      <td>953136.0</td>\n",
              "      <td>17355.0</td>\n",
              "      <td>484.0</td>\n",
              "      <td>228.0</td>\n",
              "      <td>108.0</td>\n",
              "      <td>NaN</td>\n",
              "      <td>NaN</td>\n",
              "      <td>210698.0</td>\n",
              "      <td>True</td>\n",
              "      <td>157569.0</td>\n",
              "      <td>NaN</td>\n",
              "      <td>213999.0</td>\n",
              "      <td>5521.0</td>\n",
              "      <td>7991.0</td>\n",
              "      <td>5501630.0</td>\n",
              "      <td>1110705.0</td>\n",
              "      <td>BELDEN TIMOTHY N</td>\n",
              "    </tr>\n",
              "    <tr>\n",
              "      <th>79</th>\n",
              "      <td>7000000.0</td>\n",
              "      <td>202911.0</td>\n",
              "      <td>-300000.0</td>\n",
              "      <td>NaN</td>\n",
              "      <td>kenneth.lay@enron.com</td>\n",
              "      <td>34348384.0</td>\n",
              "      <td>99832.0</td>\n",
              "      <td>36.0</td>\n",
              "      <td>123.0</td>\n",
              "      <td>16.0</td>\n",
              "      <td>81525000.0</td>\n",
              "      <td>3600000.0</td>\n",
              "      <td>10359729.0</td>\n",
              "      <td>True</td>\n",
              "      <td>14761694.0</td>\n",
              "      <td>NaN</td>\n",
              "      <td>1072321.0</td>\n",
              "      <td>2411.0</td>\n",
              "      <td>4273.0</td>\n",
              "      <td>103559793.0</td>\n",
              "      <td>49110078.0</td>\n",
              "      <td>LAY KENNETH L</td>\n",
              "    </tr>\n",
              "    <tr>\n",
              "      <th>78</th>\n",
              "      <td>8000000.0</td>\n",
              "      <td>NaN</td>\n",
              "      <td>NaN</td>\n",
              "      <td>NaN</td>\n",
              "      <td>john.lavorato@enron.com</td>\n",
              "      <td>4158995.0</td>\n",
              "      <td>49537.0</td>\n",
              "      <td>2585.0</td>\n",
              "      <td>528.0</td>\n",
              "      <td>411.0</td>\n",
              "      <td>NaN</td>\n",
              "      <td>2035380.0</td>\n",
              "      <td>1552.0</td>\n",
              "      <td>False</td>\n",
              "      <td>1008149.0</td>\n",
              "      <td>NaN</td>\n",
              "      <td>339288.0</td>\n",
              "      <td>3962.0</td>\n",
              "      <td>7259.0</td>\n",
              "      <td>10425757.0</td>\n",
              "      <td>5167144.0</td>\n",
              "      <td>LAVORATO JOHN J</td>\n",
              "    </tr>\n",
              "    <tr>\n",
              "      <th>139</th>\n",
              "      <td>3000000.0</td>\n",
              "      <td>NaN</td>\n",
              "      <td>NaN</td>\n",
              "      <td>NaN</td>\n",
              "      <td>greg.whalley@enron.com</td>\n",
              "      <td>3282960.0</td>\n",
              "      <td>57838.0</td>\n",
              "      <td>556.0</td>\n",
              "      <td>186.0</td>\n",
              "      <td>24.0</td>\n",
              "      <td>NaN</td>\n",
              "      <td>808346.0</td>\n",
              "      <td>301026.0</td>\n",
              "      <td>False</td>\n",
              "      <td>2796177.0</td>\n",
              "      <td>NaN</td>\n",
              "      <td>510364.0</td>\n",
              "      <td>3920.0</td>\n",
              "      <td>6019.0</td>\n",
              "      <td>4677574.0</td>\n",
              "      <td>6079137.0</td>\n",
              "      <td>WHALLEY LAWRENCE G</td>\n",
              "    </tr>\n",
              "    <tr>\n",
              "      <th>122</th>\n",
              "      <td>5600000.0</td>\n",
              "      <td>NaN</td>\n",
              "      <td>NaN</td>\n",
              "      <td>NaN</td>\n",
              "      <td>jeff.skilling@enron.com</td>\n",
              "      <td>19250000.0</td>\n",
              "      <td>29336.0</td>\n",
              "      <td>108.0</td>\n",
              "      <td>88.0</td>\n",
              "      <td>30.0</td>\n",
              "      <td>NaN</td>\n",
              "      <td>1920000.0</td>\n",
              "      <td>22122.0</td>\n",
              "      <td>True</td>\n",
              "      <td>6843672.0</td>\n",
              "      <td>NaN</td>\n",
              "      <td>1111258.0</td>\n",
              "      <td>2042.0</td>\n",
              "      <td>3627.0</td>\n",
              "      <td>8682716.0</td>\n",
              "      <td>26093672.0</td>\n",
              "      <td>SKILLING JEFFREY K</td>\n",
              "    </tr>\n",
              "    <tr>\n",
              "      <th>0</th>\n",
              "      <td>4175000.0</td>\n",
              "      <td>2869717.0</td>\n",
              "      <td>-3081055.0</td>\n",
              "      <td>NaN</td>\n",
              "      <td>phillip.allen@enron.com</td>\n",
              "      <td>1729541.0</td>\n",
              "      <td>13868.0</td>\n",
              "      <td>2195.0</td>\n",
              "      <td>47.0</td>\n",
              "      <td>65.0</td>\n",
              "      <td>NaN</td>\n",
              "      <td>304805.0</td>\n",
              "      <td>152.0</td>\n",
              "      <td>False</td>\n",
              "      <td>126027.0</td>\n",
              "      <td>-126027.0</td>\n",
              "      <td>201955.0</td>\n",
              "      <td>1407.0</td>\n",
              "      <td>2902.0</td>\n",
              "      <td>4484442.0</td>\n",
              "      <td>1729541.0</td>\n",
              "      <td>ALLEN PHILLIP K</td>\n",
              "    </tr>\n",
              "    <tr>\n",
              "      <th>75</th>\n",
              "      <td>3100000.0</td>\n",
              "      <td>NaN</td>\n",
              "      <td>NaN</td>\n",
              "      <td>NaN</td>\n",
              "      <td>louise.kitchen@enron.com</td>\n",
              "      <td>81042.0</td>\n",
              "      <td>5774.0</td>\n",
              "      <td>1728.0</td>\n",
              "      <td>251.0</td>\n",
              "      <td>194.0</td>\n",
              "      <td>NaN</td>\n",
              "      <td>NaN</td>\n",
              "      <td>93925.0</td>\n",
              "      <td>False</td>\n",
              "      <td>466101.0</td>\n",
              "      <td>NaN</td>\n",
              "      <td>271442.0</td>\n",
              "      <td>3669.0</td>\n",
              "      <td>8305.0</td>\n",
              "      <td>3471141.0</td>\n",
              "      <td>547143.0</td>\n",
              "      <td>KITCHEN LOUISE</td>\n",
              "    </tr>\n",
              "    <tr>\n",
              "      <th>3</th>\n",
              "      <td>1200000.0</td>\n",
              "      <td>1295738.0</td>\n",
              "      <td>-1386055.0</td>\n",
              "      <td>NaN</td>\n",
              "      <td>NaN</td>\n",
              "      <td>6680544.0</td>\n",
              "      <td>11200.0</td>\n",
              "      <td>NaN</td>\n",
              "      <td>NaN</td>\n",
              "      <td>NaN</td>\n",
              "      <td>NaN</td>\n",
              "      <td>1586055.0</td>\n",
              "      <td>2660303.0</td>\n",
              "      <td>False</td>\n",
              "      <td>3942714.0</td>\n",
              "      <td>NaN</td>\n",
              "      <td>267102.0</td>\n",
              "      <td>NaN</td>\n",
              "      <td>NaN</td>\n",
              "      <td>5634343.0</td>\n",
              "      <td>10623258.0</td>\n",
              "      <td>BAXTER JOHN C</td>\n",
              "    </tr>\n",
              "  </tbody>\n",
              "</table>\n",
              "</div>"
            ],
            "text/plain": [
              "          bonus  deferral_payments  ...  total_stock_value                name\n",
              "130  97343619.0         32083396.0  ...        434509511.0               TOTAL\n",
              "47    2000000.0          6426990.0  ...         14622185.0      FREVERT MARK A\n",
              "7     5249999.0          2144013.0  ...          1110705.0    BELDEN TIMOTHY N\n",
              "79    7000000.0           202911.0  ...         49110078.0       LAY KENNETH L\n",
              "78    8000000.0                NaN  ...          5167144.0     LAVORATO JOHN J\n",
              "139   3000000.0                NaN  ...          6079137.0  WHALLEY LAWRENCE G\n",
              "122   5600000.0                NaN  ...         26093672.0  SKILLING JEFFREY K\n",
              "0     4175000.0          2869717.0  ...          1729541.0     ALLEN PHILLIP K\n",
              "75    3100000.0                NaN  ...           547143.0      KITCHEN LOUISE\n",
              "3     1200000.0          1295738.0  ...         10623258.0       BAXTER JOHN C\n",
              "\n",
              "[10 rows x 22 columns]"
            ]
          },
          "metadata": {},
          "execution_count": 7
        }
      ]
    },
    {
      "cell_type": "markdown",
      "metadata": {
        "id": "qggLNU7tHIAn"
      },
      "source": [
        "#### Isolation Forest"
      ]
    },
    {
      "cell_type": "code",
      "metadata": {
        "id": "YRRnluueg12e"
      },
      "source": [
        "from sklearn.ensemble import IsolationForest"
      ],
      "execution_count": 8,
      "outputs": []
    },
    {
      "cell_type": "code",
      "metadata": {
        "id": "hORALMDbH8TM"
      },
      "source": [
        "# obtendo apenas colunas numericas\n",
        "df_num = df.select_dtypes(include='number')"
      ],
      "execution_count": 9,
      "outputs": []
    },
    {
      "cell_type": "code",
      "metadata": {
        "colab": {
          "base_uri": "https://localhost:8080/"
        },
        "id": "ojZvrAy9H-q8",
        "outputId": "d11326d1-ef58-45b7-e4e1-6aef0eb15563"
      },
      "source": [
        "# imputando de valores faltantes (substituir valores faltantes por 0)\n",
        "df_num.fillna(0, inplace=True)"
      ],
      "execution_count": 10,
      "outputs": [
        {
          "output_type": "stream",
          "name": "stderr",
          "text": [
            "/usr/local/lib/python3.7/dist-packages/pandas/core/frame.py:4327: SettingWithCopyWarning: \n",
            "A value is trying to be set on a copy of a slice from a DataFrame\n",
            "\n",
            "See the caveats in the documentation: https://pandas.pydata.org/pandas-docs/stable/user_guide/indexing.html#returning-a-view-versus-a-copy\n",
            "  downcast=downcast,\n"
          ]
        }
      ]
    },
    {
      "cell_type": "code",
      "metadata": {
        "colab": {
          "base_uri": "https://localhost:8080/"
        },
        "id": "n4QwE4j1IfOU",
        "outputId": "68d6fcbd-4ea6-47e8-d038-040ac66ac48f"
      },
      "source": [
        "# criar a isolation forest\n",
        "isof = IsolationForest(random_state=51)\n",
        "isof.fit(df_num)"
      ],
      "execution_count": 11,
      "outputs": [
        {
          "output_type": "execute_result",
          "data": {
            "text/plain": [
              "IsolationForest(behaviour='deprecated', bootstrap=False, contamination='auto',\n",
              "                max_features=1.0, max_samples='auto', n_estimators=100,\n",
              "                n_jobs=None, random_state=51, verbose=0, warm_start=False)"
            ]
          },
          "metadata": {},
          "execution_count": 11
        }
      ]
    },
    {
      "cell_type": "code",
      "metadata": {
        "id": "X8ZGw-zCIyM1"
      },
      "source": [
        "# obtendo marcacoes de outliers\n",
        "y_pred = isof.predict(df_num)"
      ],
      "execution_count": 12,
      "outputs": []
    },
    {
      "cell_type": "code",
      "metadata": {
        "id": "D9J1xc0YJFyx"
      },
      "source": [
        "# adicionando coluna nova na tabela com a marcacao\n",
        "df['inlier'] = y_pred"
      ],
      "execution_count": 13,
      "outputs": []
    },
    {
      "cell_type": "code",
      "metadata": {
        "colab": {
          "base_uri": "https://localhost:8080/",
          "height": 442
        },
        "id": "IiXjrJvQJlB8",
        "outputId": "ec62ea02-eb07-43b2-bc79-82c9f8482d56"
      },
      "source": [
        "# filtrando apenas os outliers\n",
        "df[df['inlier'] == -1]"
      ],
      "execution_count": 14,
      "outputs": [
        {
          "output_type": "execute_result",
          "data": {
            "text/html": [
              "<div>\n",
              "<style scoped>\n",
              "    .dataframe tbody tr th:only-of-type {\n",
              "        vertical-align: middle;\n",
              "    }\n",
              "\n",
              "    .dataframe tbody tr th {\n",
              "        vertical-align: top;\n",
              "    }\n",
              "\n",
              "    .dataframe thead th {\n",
              "        text-align: right;\n",
              "    }\n",
              "</style>\n",
              "<table border=\"1\" class=\"dataframe\">\n",
              "  <thead>\n",
              "    <tr style=\"text-align: right;\">\n",
              "      <th></th>\n",
              "      <th>bonus</th>\n",
              "      <th>deferral_payments</th>\n",
              "      <th>deferred_income</th>\n",
              "      <th>director_fees</th>\n",
              "      <th>email_address</th>\n",
              "      <th>exercised_stock_options</th>\n",
              "      <th>expenses</th>\n",
              "      <th>from_messages</th>\n",
              "      <th>from_poi_to_this_person</th>\n",
              "      <th>from_this_person_to_poi</th>\n",
              "      <th>loan_advances</th>\n",
              "      <th>long_term_incentive</th>\n",
              "      <th>other</th>\n",
              "      <th>poi</th>\n",
              "      <th>restricted_stock</th>\n",
              "      <th>restricted_stock_deferred</th>\n",
              "      <th>salary</th>\n",
              "      <th>shared_receipt_with_poi</th>\n",
              "      <th>to_messages</th>\n",
              "      <th>total_payments</th>\n",
              "      <th>total_stock_value</th>\n",
              "      <th>name</th>\n",
              "      <th>inlier</th>\n",
              "    </tr>\n",
              "  </thead>\n",
              "  <tbody>\n",
              "    <tr>\n",
              "      <th>7</th>\n",
              "      <td>5249999.0</td>\n",
              "      <td>2144013.0</td>\n",
              "      <td>-2334434.0</td>\n",
              "      <td>NaN</td>\n",
              "      <td>tim.belden@enron.com</td>\n",
              "      <td>953136.0</td>\n",
              "      <td>17355.0</td>\n",
              "      <td>484.0</td>\n",
              "      <td>228.0</td>\n",
              "      <td>108.0</td>\n",
              "      <td>NaN</td>\n",
              "      <td>NaN</td>\n",
              "      <td>210698.0</td>\n",
              "      <td>True</td>\n",
              "      <td>157569.0</td>\n",
              "      <td>NaN</td>\n",
              "      <td>213999.0</td>\n",
              "      <td>5521.0</td>\n",
              "      <td>7991.0</td>\n",
              "      <td>5501630.0</td>\n",
              "      <td>1110705.0</td>\n",
              "      <td>BELDEN TIMOTHY N</td>\n",
              "      <td>-1</td>\n",
              "    </tr>\n",
              "    <tr>\n",
              "      <th>11</th>\n",
              "      <td>NaN</td>\n",
              "      <td>NaN</td>\n",
              "      <td>NaN</td>\n",
              "      <td>137864.0</td>\n",
              "      <td>sanjay.bhatnagar@enron.com</td>\n",
              "      <td>2604490.0</td>\n",
              "      <td>NaN</td>\n",
              "      <td>29.0</td>\n",
              "      <td>0.0</td>\n",
              "      <td>1.0</td>\n",
              "      <td>NaN</td>\n",
              "      <td>NaN</td>\n",
              "      <td>137864.0</td>\n",
              "      <td>False</td>\n",
              "      <td>-2604490.0</td>\n",
              "      <td>15456290.0</td>\n",
              "      <td>NaN</td>\n",
              "      <td>463.0</td>\n",
              "      <td>523.0</td>\n",
              "      <td>15456290.0</td>\n",
              "      <td>NaN</td>\n",
              "      <td>BHATNAGAR SANJAY</td>\n",
              "      <td>-1</td>\n",
              "    </tr>\n",
              "    <tr>\n",
              "      <th>47</th>\n",
              "      <td>2000000.0</td>\n",
              "      <td>6426990.0</td>\n",
              "      <td>-3367011.0</td>\n",
              "      <td>NaN</td>\n",
              "      <td>mark.frevert@enron.com</td>\n",
              "      <td>10433518.0</td>\n",
              "      <td>86987.0</td>\n",
              "      <td>21.0</td>\n",
              "      <td>242.0</td>\n",
              "      <td>6.0</td>\n",
              "      <td>2000000.0</td>\n",
              "      <td>1617011.0</td>\n",
              "      <td>7427621.0</td>\n",
              "      <td>False</td>\n",
              "      <td>4188667.0</td>\n",
              "      <td>NaN</td>\n",
              "      <td>1060932.0</td>\n",
              "      <td>2979.0</td>\n",
              "      <td>3275.0</td>\n",
              "      <td>17252530.0</td>\n",
              "      <td>14622185.0</td>\n",
              "      <td>FREVERT MARK A</td>\n",
              "      <td>-1</td>\n",
              "    </tr>\n",
              "    <tr>\n",
              "      <th>73</th>\n",
              "      <td>1000000.0</td>\n",
              "      <td>NaN</td>\n",
              "      <td>NaN</td>\n",
              "      <td>NaN</td>\n",
              "      <td>steven.kean@enron.com</td>\n",
              "      <td>2022048.0</td>\n",
              "      <td>41953.0</td>\n",
              "      <td>6759.0</td>\n",
              "      <td>140.0</td>\n",
              "      <td>387.0</td>\n",
              "      <td>NaN</td>\n",
              "      <td>300000.0</td>\n",
              "      <td>1231.0</td>\n",
              "      <td>False</td>\n",
              "      <td>4131594.0</td>\n",
              "      <td>NaN</td>\n",
              "      <td>404338.0</td>\n",
              "      <td>3639.0</td>\n",
              "      <td>12754.0</td>\n",
              "      <td>1747522.0</td>\n",
              "      <td>6153642.0</td>\n",
              "      <td>KEAN STEVEN J</td>\n",
              "      <td>-1</td>\n",
              "    </tr>\n",
              "    <tr>\n",
              "      <th>78</th>\n",
              "      <td>8000000.0</td>\n",
              "      <td>NaN</td>\n",
              "      <td>NaN</td>\n",
              "      <td>NaN</td>\n",
              "      <td>john.lavorato@enron.com</td>\n",
              "      <td>4158995.0</td>\n",
              "      <td>49537.0</td>\n",
              "      <td>2585.0</td>\n",
              "      <td>528.0</td>\n",
              "      <td>411.0</td>\n",
              "      <td>NaN</td>\n",
              "      <td>2035380.0</td>\n",
              "      <td>1552.0</td>\n",
              "      <td>False</td>\n",
              "      <td>1008149.0</td>\n",
              "      <td>NaN</td>\n",
              "      <td>339288.0</td>\n",
              "      <td>3962.0</td>\n",
              "      <td>7259.0</td>\n",
              "      <td>10425757.0</td>\n",
              "      <td>5167144.0</td>\n",
              "      <td>LAVORATO JOHN J</td>\n",
              "      <td>-1</td>\n",
              "    </tr>\n",
              "    <tr>\n",
              "      <th>79</th>\n",
              "      <td>7000000.0</td>\n",
              "      <td>202911.0</td>\n",
              "      <td>-300000.0</td>\n",
              "      <td>NaN</td>\n",
              "      <td>kenneth.lay@enron.com</td>\n",
              "      <td>34348384.0</td>\n",
              "      <td>99832.0</td>\n",
              "      <td>36.0</td>\n",
              "      <td>123.0</td>\n",
              "      <td>16.0</td>\n",
              "      <td>81525000.0</td>\n",
              "      <td>3600000.0</td>\n",
              "      <td>10359729.0</td>\n",
              "      <td>True</td>\n",
              "      <td>14761694.0</td>\n",
              "      <td>NaN</td>\n",
              "      <td>1072321.0</td>\n",
              "      <td>2411.0</td>\n",
              "      <td>4273.0</td>\n",
              "      <td>103559793.0</td>\n",
              "      <td>49110078.0</td>\n",
              "      <td>LAY KENNETH L</td>\n",
              "      <td>-1</td>\n",
              "    </tr>\n",
              "    <tr>\n",
              "      <th>122</th>\n",
              "      <td>5600000.0</td>\n",
              "      <td>NaN</td>\n",
              "      <td>NaN</td>\n",
              "      <td>NaN</td>\n",
              "      <td>jeff.skilling@enron.com</td>\n",
              "      <td>19250000.0</td>\n",
              "      <td>29336.0</td>\n",
              "      <td>108.0</td>\n",
              "      <td>88.0</td>\n",
              "      <td>30.0</td>\n",
              "      <td>NaN</td>\n",
              "      <td>1920000.0</td>\n",
              "      <td>22122.0</td>\n",
              "      <td>True</td>\n",
              "      <td>6843672.0</td>\n",
              "      <td>NaN</td>\n",
              "      <td>1111258.0</td>\n",
              "      <td>2042.0</td>\n",
              "      <td>3627.0</td>\n",
              "      <td>8682716.0</td>\n",
              "      <td>26093672.0</td>\n",
              "      <td>SKILLING JEFFREY K</td>\n",
              "      <td>-1</td>\n",
              "    </tr>\n",
              "    <tr>\n",
              "      <th>130</th>\n",
              "      <td>97343619.0</td>\n",
              "      <td>32083396.0</td>\n",
              "      <td>-27992891.0</td>\n",
              "      <td>1398517.0</td>\n",
              "      <td>NaN</td>\n",
              "      <td>311764000.0</td>\n",
              "      <td>5235198.0</td>\n",
              "      <td>NaN</td>\n",
              "      <td>NaN</td>\n",
              "      <td>NaN</td>\n",
              "      <td>83925000.0</td>\n",
              "      <td>48521928.0</td>\n",
              "      <td>42667589.0</td>\n",
              "      <td>False</td>\n",
              "      <td>130322299.0</td>\n",
              "      <td>-7576788.0</td>\n",
              "      <td>26704229.0</td>\n",
              "      <td>NaN</td>\n",
              "      <td>NaN</td>\n",
              "      <td>309886585.0</td>\n",
              "      <td>434509511.0</td>\n",
              "      <td>TOTAL</td>\n",
              "      <td>-1</td>\n",
              "    </tr>\n",
              "  </tbody>\n",
              "</table>\n",
              "</div>"
            ],
            "text/plain": [
              "          bonus  deferral_payments  ...                name  inlier\n",
              "7     5249999.0          2144013.0  ...    BELDEN TIMOTHY N      -1\n",
              "11          NaN                NaN  ...    BHATNAGAR SANJAY      -1\n",
              "47    2000000.0          6426990.0  ...      FREVERT MARK A      -1\n",
              "73    1000000.0                NaN  ...       KEAN STEVEN J      -1\n",
              "78    8000000.0                NaN  ...     LAVORATO JOHN J      -1\n",
              "79    7000000.0           202911.0  ...       LAY KENNETH L      -1\n",
              "122   5600000.0                NaN  ...  SKILLING JEFFREY K      -1\n",
              "130  97343619.0         32083396.0  ...               TOTAL      -1\n",
              "\n",
              "[8 rows x 23 columns]"
            ]
          },
          "metadata": {},
          "execution_count": 14
        }
      ]
    },
    {
      "cell_type": "code",
      "metadata": {
        "id": "zQa42WXXJqkY"
      },
      "source": [
        "# quao menor o score, mais outlier!\n",
        "scores = isof.score_samples(df_num)\n",
        "df['score'] = scores"
      ],
      "execution_count": 15,
      "outputs": []
    },
    {
      "cell_type": "code",
      "metadata": {
        "colab": {
          "base_uri": "https://localhost:8080/",
          "height": 442
        },
        "id": "23AgC6vQLkI4",
        "outputId": "40cbf096-fd3c-4561-c05e-e43f65a12702"
      },
      "source": [
        "df[df['inlier'] == -1]"
      ],
      "execution_count": 16,
      "outputs": [
        {
          "output_type": "execute_result",
          "data": {
            "text/html": [
              "<div>\n",
              "<style scoped>\n",
              "    .dataframe tbody tr th:only-of-type {\n",
              "        vertical-align: middle;\n",
              "    }\n",
              "\n",
              "    .dataframe tbody tr th {\n",
              "        vertical-align: top;\n",
              "    }\n",
              "\n",
              "    .dataframe thead th {\n",
              "        text-align: right;\n",
              "    }\n",
              "</style>\n",
              "<table border=\"1\" class=\"dataframe\">\n",
              "  <thead>\n",
              "    <tr style=\"text-align: right;\">\n",
              "      <th></th>\n",
              "      <th>bonus</th>\n",
              "      <th>deferral_payments</th>\n",
              "      <th>deferred_income</th>\n",
              "      <th>director_fees</th>\n",
              "      <th>email_address</th>\n",
              "      <th>exercised_stock_options</th>\n",
              "      <th>expenses</th>\n",
              "      <th>from_messages</th>\n",
              "      <th>from_poi_to_this_person</th>\n",
              "      <th>from_this_person_to_poi</th>\n",
              "      <th>loan_advances</th>\n",
              "      <th>long_term_incentive</th>\n",
              "      <th>other</th>\n",
              "      <th>poi</th>\n",
              "      <th>restricted_stock</th>\n",
              "      <th>restricted_stock_deferred</th>\n",
              "      <th>salary</th>\n",
              "      <th>shared_receipt_with_poi</th>\n",
              "      <th>to_messages</th>\n",
              "      <th>total_payments</th>\n",
              "      <th>total_stock_value</th>\n",
              "      <th>name</th>\n",
              "      <th>inlier</th>\n",
              "      <th>score</th>\n",
              "    </tr>\n",
              "  </thead>\n",
              "  <tbody>\n",
              "    <tr>\n",
              "      <th>7</th>\n",
              "      <td>5249999.0</td>\n",
              "      <td>2144013.0</td>\n",
              "      <td>-2334434.0</td>\n",
              "      <td>NaN</td>\n",
              "      <td>tim.belden@enron.com</td>\n",
              "      <td>953136.0</td>\n",
              "      <td>17355.0</td>\n",
              "      <td>484.0</td>\n",
              "      <td>228.0</td>\n",
              "      <td>108.0</td>\n",
              "      <td>NaN</td>\n",
              "      <td>NaN</td>\n",
              "      <td>210698.0</td>\n",
              "      <td>True</td>\n",
              "      <td>157569.0</td>\n",
              "      <td>NaN</td>\n",
              "      <td>213999.0</td>\n",
              "      <td>5521.0</td>\n",
              "      <td>7991.0</td>\n",
              "      <td>5501630.0</td>\n",
              "      <td>1110705.0</td>\n",
              "      <td>BELDEN TIMOTHY N</td>\n",
              "      <td>-1</td>\n",
              "      <td>-0.540658</td>\n",
              "    </tr>\n",
              "    <tr>\n",
              "      <th>11</th>\n",
              "      <td>NaN</td>\n",
              "      <td>NaN</td>\n",
              "      <td>NaN</td>\n",
              "      <td>137864.0</td>\n",
              "      <td>sanjay.bhatnagar@enron.com</td>\n",
              "      <td>2604490.0</td>\n",
              "      <td>NaN</td>\n",
              "      <td>29.0</td>\n",
              "      <td>0.0</td>\n",
              "      <td>1.0</td>\n",
              "      <td>NaN</td>\n",
              "      <td>NaN</td>\n",
              "      <td>137864.0</td>\n",
              "      <td>False</td>\n",
              "      <td>-2604490.0</td>\n",
              "      <td>15456290.0</td>\n",
              "      <td>NaN</td>\n",
              "      <td>463.0</td>\n",
              "      <td>523.0</td>\n",
              "      <td>15456290.0</td>\n",
              "      <td>NaN</td>\n",
              "      <td>BHATNAGAR SANJAY</td>\n",
              "      <td>-1</td>\n",
              "      <td>-0.557951</td>\n",
              "    </tr>\n",
              "    <tr>\n",
              "      <th>47</th>\n",
              "      <td>2000000.0</td>\n",
              "      <td>6426990.0</td>\n",
              "      <td>-3367011.0</td>\n",
              "      <td>NaN</td>\n",
              "      <td>mark.frevert@enron.com</td>\n",
              "      <td>10433518.0</td>\n",
              "      <td>86987.0</td>\n",
              "      <td>21.0</td>\n",
              "      <td>242.0</td>\n",
              "      <td>6.0</td>\n",
              "      <td>2000000.0</td>\n",
              "      <td>1617011.0</td>\n",
              "      <td>7427621.0</td>\n",
              "      <td>False</td>\n",
              "      <td>4188667.0</td>\n",
              "      <td>NaN</td>\n",
              "      <td>1060932.0</td>\n",
              "      <td>2979.0</td>\n",
              "      <td>3275.0</td>\n",
              "      <td>17252530.0</td>\n",
              "      <td>14622185.0</td>\n",
              "      <td>FREVERT MARK A</td>\n",
              "      <td>-1</td>\n",
              "      <td>-0.632228</td>\n",
              "    </tr>\n",
              "    <tr>\n",
              "      <th>73</th>\n",
              "      <td>1000000.0</td>\n",
              "      <td>NaN</td>\n",
              "      <td>NaN</td>\n",
              "      <td>NaN</td>\n",
              "      <td>steven.kean@enron.com</td>\n",
              "      <td>2022048.0</td>\n",
              "      <td>41953.0</td>\n",
              "      <td>6759.0</td>\n",
              "      <td>140.0</td>\n",
              "      <td>387.0</td>\n",
              "      <td>NaN</td>\n",
              "      <td>300000.0</td>\n",
              "      <td>1231.0</td>\n",
              "      <td>False</td>\n",
              "      <td>4131594.0</td>\n",
              "      <td>NaN</td>\n",
              "      <td>404338.0</td>\n",
              "      <td>3639.0</td>\n",
              "      <td>12754.0</td>\n",
              "      <td>1747522.0</td>\n",
              "      <td>6153642.0</td>\n",
              "      <td>KEAN STEVEN J</td>\n",
              "      <td>-1</td>\n",
              "      <td>-0.515462</td>\n",
              "    </tr>\n",
              "    <tr>\n",
              "      <th>78</th>\n",
              "      <td>8000000.0</td>\n",
              "      <td>NaN</td>\n",
              "      <td>NaN</td>\n",
              "      <td>NaN</td>\n",
              "      <td>john.lavorato@enron.com</td>\n",
              "      <td>4158995.0</td>\n",
              "      <td>49537.0</td>\n",
              "      <td>2585.0</td>\n",
              "      <td>528.0</td>\n",
              "      <td>411.0</td>\n",
              "      <td>NaN</td>\n",
              "      <td>2035380.0</td>\n",
              "      <td>1552.0</td>\n",
              "      <td>False</td>\n",
              "      <td>1008149.0</td>\n",
              "      <td>NaN</td>\n",
              "      <td>339288.0</td>\n",
              "      <td>3962.0</td>\n",
              "      <td>7259.0</td>\n",
              "      <td>10425757.0</td>\n",
              "      <td>5167144.0</td>\n",
              "      <td>LAVORATO JOHN J</td>\n",
              "      <td>-1</td>\n",
              "      <td>-0.571072</td>\n",
              "    </tr>\n",
              "    <tr>\n",
              "      <th>79</th>\n",
              "      <td>7000000.0</td>\n",
              "      <td>202911.0</td>\n",
              "      <td>-300000.0</td>\n",
              "      <td>NaN</td>\n",
              "      <td>kenneth.lay@enron.com</td>\n",
              "      <td>34348384.0</td>\n",
              "      <td>99832.0</td>\n",
              "      <td>36.0</td>\n",
              "      <td>123.0</td>\n",
              "      <td>16.0</td>\n",
              "      <td>81525000.0</td>\n",
              "      <td>3600000.0</td>\n",
              "      <td>10359729.0</td>\n",
              "      <td>True</td>\n",
              "      <td>14761694.0</td>\n",
              "      <td>NaN</td>\n",
              "      <td>1072321.0</td>\n",
              "      <td>2411.0</td>\n",
              "      <td>4273.0</td>\n",
              "      <td>103559793.0</td>\n",
              "      <td>49110078.0</td>\n",
              "      <td>LAY KENNETH L</td>\n",
              "      <td>-1</td>\n",
              "      <td>-0.719847</td>\n",
              "    </tr>\n",
              "    <tr>\n",
              "      <th>122</th>\n",
              "      <td>5600000.0</td>\n",
              "      <td>NaN</td>\n",
              "      <td>NaN</td>\n",
              "      <td>NaN</td>\n",
              "      <td>jeff.skilling@enron.com</td>\n",
              "      <td>19250000.0</td>\n",
              "      <td>29336.0</td>\n",
              "      <td>108.0</td>\n",
              "      <td>88.0</td>\n",
              "      <td>30.0</td>\n",
              "      <td>NaN</td>\n",
              "      <td>1920000.0</td>\n",
              "      <td>22122.0</td>\n",
              "      <td>True</td>\n",
              "      <td>6843672.0</td>\n",
              "      <td>NaN</td>\n",
              "      <td>1111258.0</td>\n",
              "      <td>2042.0</td>\n",
              "      <td>3627.0</td>\n",
              "      <td>8682716.0</td>\n",
              "      <td>26093672.0</td>\n",
              "      <td>SKILLING JEFFREY K</td>\n",
              "      <td>-1</td>\n",
              "      <td>-0.531281</td>\n",
              "    </tr>\n",
              "    <tr>\n",
              "      <th>130</th>\n",
              "      <td>97343619.0</td>\n",
              "      <td>32083396.0</td>\n",
              "      <td>-27992891.0</td>\n",
              "      <td>1398517.0</td>\n",
              "      <td>NaN</td>\n",
              "      <td>311764000.0</td>\n",
              "      <td>5235198.0</td>\n",
              "      <td>NaN</td>\n",
              "      <td>NaN</td>\n",
              "      <td>NaN</td>\n",
              "      <td>83925000.0</td>\n",
              "      <td>48521928.0</td>\n",
              "      <td>42667589.0</td>\n",
              "      <td>False</td>\n",
              "      <td>130322299.0</td>\n",
              "      <td>-7576788.0</td>\n",
              "      <td>26704229.0</td>\n",
              "      <td>NaN</td>\n",
              "      <td>NaN</td>\n",
              "      <td>309886585.0</td>\n",
              "      <td>434509511.0</td>\n",
              "      <td>TOTAL</td>\n",
              "      <td>-1</td>\n",
              "      <td>-0.886864</td>\n",
              "    </tr>\n",
              "  </tbody>\n",
              "</table>\n",
              "</div>"
            ],
            "text/plain": [
              "          bonus  deferral_payments  ...  inlier     score\n",
              "7     5249999.0          2144013.0  ...      -1 -0.540658\n",
              "11          NaN                NaN  ...      -1 -0.557951\n",
              "47    2000000.0          6426990.0  ...      -1 -0.632228\n",
              "73    1000000.0                NaN  ...      -1 -0.515462\n",
              "78    8000000.0                NaN  ...      -1 -0.571072\n",
              "79    7000000.0           202911.0  ...      -1 -0.719847\n",
              "122   5600000.0                NaN  ...      -1 -0.531281\n",
              "130  97343619.0         32083396.0  ...      -1 -0.886864\n",
              "\n",
              "[8 rows x 24 columns]"
            ]
          },
          "metadata": {},
          "execution_count": 16
        }
      ]
    },
    {
      "cell_type": "code",
      "metadata": {
        "id": "5fTt9g-GL7Nt"
      },
      "source": [
        "df = pd.read_csv('http://www.ppgia.pucpr.br/~jean.barddal/datascience/california_housing_train.csv')"
      ],
      "execution_count": 17,
      "outputs": []
    },
    {
      "cell_type": "code",
      "metadata": {
        "colab": {
          "base_uri": "https://localhost:8080/",
          "height": 206
        },
        "id": "3xmmwOxLThoI",
        "outputId": "6379c434-b265-438a-e101-8cee3ee2bf32"
      },
      "source": [
        "df.head(5)\n"
      ],
      "execution_count": 18,
      "outputs": [
        {
          "output_type": "execute_result",
          "data": {
            "text/html": [
              "<div>\n",
              "<style scoped>\n",
              "    .dataframe tbody tr th:only-of-type {\n",
              "        vertical-align: middle;\n",
              "    }\n",
              "\n",
              "    .dataframe tbody tr th {\n",
              "        vertical-align: top;\n",
              "    }\n",
              "\n",
              "    .dataframe thead th {\n",
              "        text-align: right;\n",
              "    }\n",
              "</style>\n",
              "<table border=\"1\" class=\"dataframe\">\n",
              "  <thead>\n",
              "    <tr style=\"text-align: right;\">\n",
              "      <th></th>\n",
              "      <th>longitude</th>\n",
              "      <th>latitude</th>\n",
              "      <th>housing_median_age</th>\n",
              "      <th>total_rooms</th>\n",
              "      <th>total_bedrooms</th>\n",
              "      <th>population</th>\n",
              "      <th>households</th>\n",
              "      <th>median_income</th>\n",
              "      <th>median_house_value</th>\n",
              "    </tr>\n",
              "  </thead>\n",
              "  <tbody>\n",
              "    <tr>\n",
              "      <th>0</th>\n",
              "      <td>-114.31</td>\n",
              "      <td>34.19</td>\n",
              "      <td>15.0</td>\n",
              "      <td>5612.0</td>\n",
              "      <td>1283.0</td>\n",
              "      <td>1015.0</td>\n",
              "      <td>472.0</td>\n",
              "      <td>1.4936</td>\n",
              "      <td>66900.0</td>\n",
              "    </tr>\n",
              "    <tr>\n",
              "      <th>1</th>\n",
              "      <td>-114.47</td>\n",
              "      <td>34.40</td>\n",
              "      <td>19.0</td>\n",
              "      <td>7650.0</td>\n",
              "      <td>1901.0</td>\n",
              "      <td>1129.0</td>\n",
              "      <td>463.0</td>\n",
              "      <td>1.8200</td>\n",
              "      <td>80100.0</td>\n",
              "    </tr>\n",
              "    <tr>\n",
              "      <th>2</th>\n",
              "      <td>-114.56</td>\n",
              "      <td>33.69</td>\n",
              "      <td>17.0</td>\n",
              "      <td>720.0</td>\n",
              "      <td>174.0</td>\n",
              "      <td>333.0</td>\n",
              "      <td>117.0</td>\n",
              "      <td>1.6509</td>\n",
              "      <td>85700.0</td>\n",
              "    </tr>\n",
              "    <tr>\n",
              "      <th>3</th>\n",
              "      <td>-114.57</td>\n",
              "      <td>33.64</td>\n",
              "      <td>14.0</td>\n",
              "      <td>1501.0</td>\n",
              "      <td>337.0</td>\n",
              "      <td>515.0</td>\n",
              "      <td>226.0</td>\n",
              "      <td>3.1917</td>\n",
              "      <td>73400.0</td>\n",
              "    </tr>\n",
              "    <tr>\n",
              "      <th>4</th>\n",
              "      <td>-114.57</td>\n",
              "      <td>33.57</td>\n",
              "      <td>20.0</td>\n",
              "      <td>1454.0</td>\n",
              "      <td>326.0</td>\n",
              "      <td>624.0</td>\n",
              "      <td>262.0</td>\n",
              "      <td>1.9250</td>\n",
              "      <td>65500.0</td>\n",
              "    </tr>\n",
              "  </tbody>\n",
              "</table>\n",
              "</div>"
            ],
            "text/plain": [
              "   longitude  latitude  ...  median_income  median_house_value\n",
              "0    -114.31     34.19  ...         1.4936             66900.0\n",
              "1    -114.47     34.40  ...         1.8200             80100.0\n",
              "2    -114.56     33.69  ...         1.6509             85700.0\n",
              "3    -114.57     33.64  ...         3.1917             73400.0\n",
              "4    -114.57     33.57  ...         1.9250             65500.0\n",
              "\n",
              "[5 rows x 9 columns]"
            ]
          },
          "metadata": {},
          "execution_count": 18
        }
      ]
    },
    {
      "cell_type": "code",
      "metadata": {
        "colab": {
          "base_uri": "https://localhost:8080/",
          "height": 355
        },
        "id": "ams8HZZsTq8i",
        "outputId": "4c4998f5-d599-4aa0-f214-9f7591a66ef0"
      },
      "source": [
        "sns.distplot(df['total_bedrooms'], kde=False)"
      ],
      "execution_count": 19,
      "outputs": [
        {
          "output_type": "stream",
          "name": "stderr",
          "text": [
            "/usr/local/lib/python3.7/dist-packages/seaborn/distributions.py:2619: FutureWarning: `distplot` is a deprecated function and will be removed in a future version. Please adapt your code to use either `displot` (a figure-level function with similar flexibility) or `histplot` (an axes-level function for histograms).\n",
            "  warnings.warn(msg, FutureWarning)\n"
          ]
        },
        {
          "output_type": "execute_result",
          "data": {
            "text/plain": [
              "<matplotlib.axes._subplots.AxesSubplot at 0x7f976abee890>"
            ]
          },
          "metadata": {},
          "execution_count": 19
        },
        {
          "output_type": "display_data",
          "data": {
            "image/png": "[encoded data removed]",
            "text/plain": [
              "<Figure size 432x288 with 1 Axes>"
            ]
          },
          "metadata": {
            "needs_background": "light"
          }
        }
      ]
    },
    {
      "cell_type": "code",
      "metadata": {
        "id": "awuLm84rUZTE"
      },
      "source": [
        "from sklearn.preprocessing import StandardScaler, MinMaxScaler, RobustScaler, PowerTransformer"
      ],
      "execution_count": 20,
      "outputs": []
    },
    {
      "cell_type": "code",
      "metadata": {
        "id": "w922Hq4mUd66"
      },
      "source": [
        "# min max scaler\n",
        "mm = MinMaxScaler()#feature_range=(-1,1))\n",
        "df['total_bedrooms_mm'] = mm.fit_transform(np.array(df['total_bedrooms']).reshape(-1,1))"
      ],
      "execution_count": 21,
      "outputs": []
    },
    {
      "cell_type": "code",
      "metadata": {
        "colab": {
          "base_uri": "https://localhost:8080/",
          "height": 355
        },
        "id": "Nmp_ec0sUf2i",
        "outputId": "403408ba-7807-42f1-8212-d3274b1f0ebf"
      },
      "source": [
        "sns.distplot(df['total_bedrooms_mm'], kde=False)"
      ],
      "execution_count": 22,
      "outputs": [
        {
          "output_type": "stream",
          "name": "stderr",
          "text": [
            "/usr/local/lib/python3.7/dist-packages/seaborn/distributions.py:2619: FutureWarning: `distplot` is a deprecated function and will be removed in a future version. Please adapt your code to use either `displot` (a figure-level function with similar flexibility) or `histplot` (an axes-level function for histograms).\n",
            "  warnings.warn(msg, FutureWarning)\n"
          ]
        },
        {
          "output_type": "execute_result",
          "data": {
            "text/plain": [
              "<matplotlib.axes._subplots.AxesSubplot at 0x7f976aad8990>"
            ]
          },
          "metadata": {},
          "execution_count": 22
        },
        {
          "output_type": "display_data",
          "data": {
            "image/png": "[encoded data removed]",
            "text/plain": [
              "<Figure size 432x288 with 1 Axes>"
            ]
          },
          "metadata": {
            "needs_background": "light"
          }
        }
      ]
    },
    {
      "cell_type": "code",
      "metadata": {
        "id": "LlDxeN9VUhX3"
      },
      "source": [
        "# standard scaler\n",
        "ss = StandardScaler()\n",
        "df['total_bedrooms_ss'] = ss.fit_transform(np.array(df['total_bedrooms']).reshape(-1,1))"
      ],
      "execution_count": 23,
      "outputs": []
    },
    {
      "cell_type": "code",
      "metadata": {
        "colab": {
          "base_uri": "https://localhost:8080/",
          "height": 355
        },
        "id": "71q3saAHUjLv",
        "outputId": "67a2085a-050a-4083-c177-0de95ac11e4b"
      },
      "source": [
        "sns.distplot(df['total_bedrooms_ss'], kde=False)"
      ],
      "execution_count": 24,
      "outputs": [
        {
          "output_type": "stream",
          "name": "stderr",
          "text": [
            "/usr/local/lib/python3.7/dist-packages/seaborn/distributions.py:2619: FutureWarning: `distplot` is a deprecated function and will be removed in a future version. Please adapt your code to use either `displot` (a figure-level function with similar flexibility) or `histplot` (an axes-level function for histograms).\n",
            "  warnings.warn(msg, FutureWarning)\n"
          ]
        },
        {
          "output_type": "execute_result",
          "data": {
            "text/plain": [
              "<matplotlib.axes._subplots.AxesSubplot at 0x7f976a552b90>"
            ]
          },
          "metadata": {},
          "execution_count": 24
        },
        {
          "output_type": "display_data",
          "data": {
            "image/png": "[encoded data removed]",
            "text/plain": [
              "<Figure size 432x288 with 1 Axes>"
            ]
          },
          "metadata": {
            "needs_background": "light"
          }
        }
      ]
    },
    {
      "cell_type": "code",
      "metadata": {
        "colab": {
          "base_uri": "https://localhost:8080/",
          "height": 300
        },
        "id": "Nz9SOE2WUkpX",
        "outputId": "dadc6a66-6ff1-48f1-bd63-67cc7fc60e28"
      },
      "source": [
        "df.describe()"
      ],
      "execution_count": 25,
      "outputs": [
        {
          "output_type": "execute_result",
          "data": {
            "text/html": [
              "<div>\n",
              "<style scoped>\n",
              "    .dataframe tbody tr th:only-of-type {\n",
              "        vertical-align: middle;\n",
              "    }\n",
              "\n",
              "    .dataframe tbody tr th {\n",
              "        vertical-align: top;\n",
              "    }\n",
              "\n",
              "    .dataframe thead th {\n",
              "        text-align: right;\n",
              "    }\n",
              "</style>\n",
              "<table border=\"1\" class=\"dataframe\">\n",
              "  <thead>\n",
              "    <tr style=\"text-align: right;\">\n",
              "      <th></th>\n",
              "      <th>longitude</th>\n",
              "      <th>latitude</th>\n",
              "      <th>housing_median_age</th>\n",
              "      <th>total_rooms</th>\n",
              "      <th>total_bedrooms</th>\n",
              "      <th>population</th>\n",
              "      <th>households</th>\n",
              "      <th>median_income</th>\n",
              "      <th>median_house_value</th>\n",
              "      <th>total_bedrooms_mm</th>\n",
              "      <th>total_bedrooms_ss</th>\n",
              "    </tr>\n",
              "  </thead>\n",
              "  <tbody>\n",
              "    <tr>\n",
              "      <th>count</th>\n",
              "      <td>17000.000000</td>\n",
              "      <td>17000.000000</td>\n",
              "      <td>17000.000000</td>\n",
              "      <td>17000.000000</td>\n",
              "      <td>17000.000000</td>\n",
              "      <td>17000.000000</td>\n",
              "      <td>17000.000000</td>\n",
              "      <td>17000.000000</td>\n",
              "      <td>17000.000000</td>\n",
              "      <td>17000.000000</td>\n",
              "      <td>1.700000e+04</td>\n",
              "    </tr>\n",
              "    <tr>\n",
              "      <th>mean</th>\n",
              "      <td>-119.562108</td>\n",
              "      <td>35.625225</td>\n",
              "      <td>28.589353</td>\n",
              "      <td>2643.664412</td>\n",
              "      <td>539.410824</td>\n",
              "      <td>1429.573941</td>\n",
              "      <td>501.221941</td>\n",
              "      <td>3.883578</td>\n",
              "      <td>207300.912353</td>\n",
              "      <td>0.083552</td>\n",
              "      <td>1.571553e-16</td>\n",
              "    </tr>\n",
              "    <tr>\n",
              "      <th>std</th>\n",
              "      <td>2.005166</td>\n",
              "      <td>2.137340</td>\n",
              "      <td>12.586937</td>\n",
              "      <td>2179.947071</td>\n",
              "      <td>421.499452</td>\n",
              "      <td>1147.852959</td>\n",
              "      <td>384.520841</td>\n",
              "      <td>1.908157</td>\n",
              "      <td>115983.764387</td>\n",
              "      <td>0.065410</td>\n",
              "      <td>1.000029e+00</td>\n",
              "    </tr>\n",
              "    <tr>\n",
              "      <th>min</th>\n",
              "      <td>-124.350000</td>\n",
              "      <td>32.540000</td>\n",
              "      <td>1.000000</td>\n",
              "      <td>2.000000</td>\n",
              "      <td>1.000000</td>\n",
              "      <td>3.000000</td>\n",
              "      <td>1.000000</td>\n",
              "      <td>0.499900</td>\n",
              "      <td>14999.000000</td>\n",
              "      <td>0.000000</td>\n",
              "      <td>-1.277408e+00</td>\n",
              "    </tr>\n",
              "    <tr>\n",
              "      <th>25%</th>\n",
              "      <td>-121.790000</td>\n",
              "      <td>33.930000</td>\n",
              "      <td>18.000000</td>\n",
              "      <td>1462.000000</td>\n",
              "      <td>297.000000</td>\n",
              "      <td>790.000000</td>\n",
              "      <td>282.000000</td>\n",
              "      <td>2.566375</td>\n",
              "      <td>119400.000000</td>\n",
              "      <td>0.045934</td>\n",
              "      <td>-5.751323e-01</td>\n",
              "    </tr>\n",
              "    <tr>\n",
              "      <th>50%</th>\n",
              "      <td>-118.490000</td>\n",
              "      <td>34.250000</td>\n",
              "      <td>29.000000</td>\n",
              "      <td>2127.000000</td>\n",
              "      <td>434.000000</td>\n",
              "      <td>1167.000000</td>\n",
              "      <td>409.000000</td>\n",
              "      <td>3.544600</td>\n",
              "      <td>180400.000000</td>\n",
              "      <td>0.067194</td>\n",
              "      <td>-2.500927e-01</td>\n",
              "    </tr>\n",
              "    <tr>\n",
              "      <th>75%</th>\n",
              "      <td>-118.000000</td>\n",
              "      <td>37.720000</td>\n",
              "      <td>37.000000</td>\n",
              "      <td>3151.250000</td>\n",
              "      <td>648.250000</td>\n",
              "      <td>1721.000000</td>\n",
              "      <td>605.250000</td>\n",
              "      <td>4.767000</td>\n",
              "      <td>265000.000000</td>\n",
              "      <td>0.100442</td>\n",
              "      <td>2.582266e-01</td>\n",
              "    </tr>\n",
              "    <tr>\n",
              "      <th>max</th>\n",
              "      <td>-114.310000</td>\n",
              "      <td>41.950000</td>\n",
              "      <td>52.000000</td>\n",
              "      <td>37937.000000</td>\n",
              "      <td>6445.000000</td>\n",
              "      <td>35682.000000</td>\n",
              "      <td>6082.000000</td>\n",
              "      <td>15.000100</td>\n",
              "      <td>500001.000000</td>\n",
              "      <td>1.000000</td>\n",
              "      <td>1.401132e+01</td>\n",
              "    </tr>\n",
              "  </tbody>\n",
              "</table>\n",
              "</div>"
            ],
            "text/plain": [
              "          longitude      latitude  ...  total_bedrooms_mm  total_bedrooms_ss\n",
              "count  17000.000000  17000.000000  ...       17000.000000       1.700000e+04\n",
              "mean    -119.562108     35.625225  ...           0.083552       1.571553e-16\n",
              "std        2.005166      2.137340  ...           0.065410       1.000029e+00\n",
              "min     -124.350000     32.540000  ...           0.000000      -1.277408e+00\n",
              "25%     -121.790000     33.930000  ...           0.045934      -5.751323e-01\n",
              "50%     -118.490000     34.250000  ...           0.067194      -2.500927e-01\n",
              "75%     -118.000000     37.720000  ...           0.100442       2.582266e-01\n",
              "max     -114.310000     41.950000  ...           1.000000       1.401132e+01\n",
              "\n",
              "[8 rows x 11 columns]"
            ]
          },
          "metadata": {},
          "execution_count": 25
        }
      ]
    },
    {
      "cell_type": "code",
      "metadata": {
        "id": "tgHRgVDzUmgx"
      },
      "source": [
        "# Robust scaler (outliers)\n",
        "rs = RobustScaler()\n",
        "df['total_bedrooms_rs'] = rs.fit_transform(np.array(df['total_bedrooms']).reshape(-1,1))"
      ],
      "execution_count": 26,
      "outputs": []
    },
    {
      "cell_type": "code",
      "metadata": {
        "colab": {
          "base_uri": "https://localhost:8080/",
          "height": 355
        },
        "id": "KGWqJQkiUoao",
        "outputId": "7ab5d7ce-a164-4534-8f97-32a6e5bbb8b1"
      },
      "source": [
        "sns.distplot(df['total_bedrooms_rs'], kde=False)"
      ],
      "execution_count": 27,
      "outputs": [
        {
          "output_type": "stream",
          "name": "stderr",
          "text": [
            "/usr/local/lib/python3.7/dist-packages/seaborn/distributions.py:2619: FutureWarning: `distplot` is a deprecated function and will be removed in a future version. Please adapt your code to use either `displot` (a figure-level function with similar flexibility) or `histplot` (an axes-level function for histograms).\n",
            "  warnings.warn(msg, FutureWarning)\n"
          ]
        },
        {
          "output_type": "execute_result",
          "data": {
            "text/plain": [
              "<matplotlib.axes._subplots.AxesSubplot at 0x7f976a421850>"
            ]
          },
          "metadata": {},
          "execution_count": 27
        },
        {
          "output_type": "display_data",
          "data": {
            "image/png": "[encoded data removed]",
            "text/plain": [
              "<Figure size 432x288 with 1 Axes>"
            ]
          },
          "metadata": {
            "needs_background": "light"
          }
        }
      ]
    },
    {
      "cell_type": "code",
      "metadata": {
        "id": "OjANKGdVUp2o"
      },
      "source": [
        "# Box-cox\n",
        "bc = PowerTransformer(method='box-cox')\n",
        "df['total_bedrooms_bc'] = bc.fit_transform(np.array(df['total_bedrooms']).reshape(-1,1))"
      ],
      "execution_count": 28,
      "outputs": []
    },
    {
      "cell_type": "code",
      "metadata": {
        "colab": {
          "base_uri": "https://localhost:8080/",
          "height": 355
        },
        "id": "HNKaFGbkUsGf",
        "outputId": "6ebe0b3a-3fd2-4a48-969b-5e302f103dfd"
      },
      "source": [
        "sns.distplot(df['total_bedrooms_bc'], kde=False)"
      ],
      "execution_count": 29,
      "outputs": [
        {
          "output_type": "stream",
          "name": "stderr",
          "text": [
            "/usr/local/lib/python3.7/dist-packages/seaborn/distributions.py:2619: FutureWarning: `distplot` is a deprecated function and will be removed in a future version. Please adapt your code to use either `displot` (a figure-level function with similar flexibility) or `histplot` (an axes-level function for histograms).\n",
            "  warnings.warn(msg, FutureWarning)\n"
          ]
        },
        {
          "output_type": "execute_result",
          "data": {
            "text/plain": [
              "<matplotlib.axes._subplots.AxesSubplot at 0x7f976a3303d0>"
            ]
          },
          "metadata": {},
          "execution_count": 29
        },
        {
          "output_type": "display_data",
          "data": {
            "image/png": "[encoded data removed]",
            "text/plain": [
              "<Figure size 432x288 with 1 Axes>"
            ]
          },
          "metadata": {
            "needs_background": "light"
          }
        }
      ]
    },
    {
      "cell_type": "code",
      "metadata": {
        "colab": {
          "base_uri": "https://localhost:8080/",
          "height": 206
        },
        "id": "dLb_5g0vUtda",
        "outputId": "96685d20-ef5a-43ba-ca54-9b8fec43b29d"
      },
      "source": [
        "df.head(5)"
      ],
      "execution_count": 30,
      "outputs": [
        {
          "output_type": "execute_result",
          "data": {
            "text/html": [
              "<div>\n",
              "<style scoped>\n",
              "    .dataframe tbody tr th:only-of-type {\n",
              "        vertical-align: middle;\n",
              "    }\n",
              "\n",
              "    .dataframe tbody tr th {\n",
              "        vertical-align: top;\n",
              "    }\n",
              "\n",
              "    .dataframe thead th {\n",
              "        text-align: right;\n",
              "    }\n",
              "</style>\n",
              "<table border=\"1\" class=\"dataframe\">\n",
              "  <thead>\n",
              "    <tr style=\"text-align: right;\">\n",
              "      <th></th>\n",
              "      <th>longitude</th>\n",
              "      <th>latitude</th>\n",
              "      <th>housing_median_age</th>\n",
              "      <th>total_rooms</th>\n",
              "      <th>total_bedrooms</th>\n",
              "      <th>population</th>\n",
              "      <th>households</th>\n",
              "      <th>median_income</th>\n",
              "      <th>median_house_value</th>\n",
              "      <th>total_bedrooms_mm</th>\n",
              "      <th>total_bedrooms_ss</th>\n",
              "      <th>total_bedrooms_rs</th>\n",
              "      <th>total_bedrooms_bc</th>\n",
              "    </tr>\n",
              "  </thead>\n",
              "  <tbody>\n",
              "    <tr>\n",
              "      <th>0</th>\n",
              "      <td>-114.31</td>\n",
              "      <td>34.19</td>\n",
              "      <td>15.0</td>\n",
              "      <td>5612.0</td>\n",
              "      <td>1283.0</td>\n",
              "      <td>1015.0</td>\n",
              "      <td>472.0</td>\n",
              "      <td>1.4936</td>\n",
              "      <td>66900.0</td>\n",
              "      <td>0.198945</td>\n",
              "      <td>1.764204</td>\n",
              "      <td>2.417082</td>\n",
              "      <td>1.696275</td>\n",
              "    </tr>\n",
              "    <tr>\n",
              "      <th>1</th>\n",
              "      <td>-114.47</td>\n",
              "      <td>34.40</td>\n",
              "      <td>19.0</td>\n",
              "      <td>7650.0</td>\n",
              "      <td>1901.0</td>\n",
              "      <td>1129.0</td>\n",
              "      <td>463.0</td>\n",
              "      <td>1.8200</td>\n",
              "      <td>80100.0</td>\n",
              "      <td>0.294848</td>\n",
              "      <td>3.230441</td>\n",
              "      <td>4.176512</td>\n",
              "      <td>2.437964</td>\n",
              "    </tr>\n",
              "    <tr>\n",
              "      <th>2</th>\n",
              "      <td>-114.56</td>\n",
              "      <td>33.69</td>\n",
              "      <td>17.0</td>\n",
              "      <td>720.0</td>\n",
              "      <td>174.0</td>\n",
              "      <td>333.0</td>\n",
              "      <td>117.0</td>\n",
              "      <td>1.6509</td>\n",
              "      <td>85700.0</td>\n",
              "      <td>0.026847</td>\n",
              "      <td>-0.866956</td>\n",
              "      <td>-0.740214</td>\n",
              "      <td>-1.241779</td>\n",
              "    </tr>\n",
              "    <tr>\n",
              "      <th>3</th>\n",
              "      <td>-114.57</td>\n",
              "      <td>33.64</td>\n",
              "      <td>14.0</td>\n",
              "      <td>1501.0</td>\n",
              "      <td>337.0</td>\n",
              "      <td>515.0</td>\n",
              "      <td>226.0</td>\n",
              "      <td>3.1917</td>\n",
              "      <td>73400.0</td>\n",
              "      <td>0.052142</td>\n",
              "      <td>-0.480230</td>\n",
              "      <td>-0.276157</td>\n",
              "      <td>-0.405203</td>\n",
              "    </tr>\n",
              "    <tr>\n",
              "      <th>4</th>\n",
              "      <td>-114.57</td>\n",
              "      <td>33.57</td>\n",
              "      <td>20.0</td>\n",
              "      <td>1454.0</td>\n",
              "      <td>326.0</td>\n",
              "      <td>624.0</td>\n",
              "      <td>262.0</td>\n",
              "      <td>1.9250</td>\n",
              "      <td>65500.0</td>\n",
              "      <td>0.050435</td>\n",
              "      <td>-0.506328</td>\n",
              "      <td>-0.307473</td>\n",
              "      <td>-0.450088</td>\n",
              "    </tr>\n",
              "  </tbody>\n",
              "</table>\n",
              "</div>"
            ],
            "text/plain": [
              "   longitude  latitude  ...  total_bedrooms_rs  total_bedrooms_bc\n",
              "0    -114.31     34.19  ...           2.417082           1.696275\n",
              "1    -114.47     34.40  ...           4.176512           2.437964\n",
              "2    -114.56     33.69  ...          -0.740214          -1.241779\n",
              "3    -114.57     33.64  ...          -0.276157          -0.405203\n",
              "4    -114.57     33.57  ...          -0.307473          -0.450088\n",
              "\n",
              "[5 rows x 13 columns]"
            ]
          },
          "metadata": {},
          "execution_count": 30
        }
      ]
    },
    {
      "cell_type": "code",
      "metadata": {
        "colab": {
          "base_uri": "https://localhost:8080/"
        },
        "id": "TamTtnkJUvlS",
        "outputId": "68fc755e-0afc-4965-c760-6a5349dc36a2"
      },
      "source": [
        "bc.inverse_transform(np.array(df['total_bedrooms_bc']).reshape(-1,1))"
      ],
      "execution_count": 31,
      "outputs": [
        {
          "output_type": "execute_result",
          "data": {
            "text/plain": [
              "array([[1283.],\n",
              "       [1901.],\n",
              "       [ 174.],\n",
              "       ...,\n",
              "       [ 531.],\n",
              "       [ 552.],\n",
              "       [ 300.]])"
            ]
          },
          "metadata": {},
          "execution_count": 31
        }
      ]
    },
    {
      "cell_type": "code",
      "metadata": {
        "id": "iEnv0okYUxPv"
      },
      "source": [
        "### Como aplicar este tipo de transformação com dados de treinamento e teste?\n",
        "# 1- Aplicar a transformação no treinamento ( e ao mesmo tempo, aprender parametros internos)\n",
        "# 2- Aplucar a transformação no teste (reaproveitando os parametros)"
      ],
      "execution_count": 32,
      "outputs": []
    },
    {
      "cell_type": "code",
      "metadata": {
        "id": "bMWDbGhBUzHR"
      },
      "source": [
        "df.drop(['total_bedrooms_mm','total_bedrooms_ss', 'total_bedrooms_rs','total_bedrooms_bc'], axis=1, inplace=True)"
      ],
      "execution_count": 33,
      "outputs": []
    },
    {
      "cell_type": "code",
      "metadata": {
        "colab": {
          "base_uri": "https://localhost:8080/",
          "height": 206
        },
        "id": "W17IPQdlU0kf",
        "outputId": "845cc24c-4326-4711-cede-f41a162d8c1c"
      },
      "source": [
        "df.head(5)"
      ],
      "execution_count": 34,
      "outputs": [
        {
          "output_type": "execute_result",
          "data": {
            "text/html": [
              "<div>\n",
              "<style scoped>\n",
              "    .dataframe tbody tr th:only-of-type {\n",
              "        vertical-align: middle;\n",
              "    }\n",
              "\n",
              "    .dataframe tbody tr th {\n",
              "        vertical-align: top;\n",
              "    }\n",
              "\n",
              "    .dataframe thead th {\n",
              "        text-align: right;\n",
              "    }\n",
              "</style>\n",
              "<table border=\"1\" class=\"dataframe\">\n",
              "  <thead>\n",
              "    <tr style=\"text-align: right;\">\n",
              "      <th></th>\n",
              "      <th>longitude</th>\n",
              "      <th>latitude</th>\n",
              "      <th>housing_median_age</th>\n",
              "      <th>total_rooms</th>\n",
              "      <th>total_bedrooms</th>\n",
              "      <th>population</th>\n",
              "      <th>households</th>\n",
              "      <th>median_income</th>\n",
              "      <th>median_house_value</th>\n",
              "    </tr>\n",
              "  </thead>\n",
              "  <tbody>\n",
              "    <tr>\n",
              "      <th>0</th>\n",
              "      <td>-114.31</td>\n",
              "      <td>34.19</td>\n",
              "      <td>15.0</td>\n",
              "      <td>5612.0</td>\n",
              "      <td>1283.0</td>\n",
              "      <td>1015.0</td>\n",
              "      <td>472.0</td>\n",
              "      <td>1.4936</td>\n",
              "      <td>66900.0</td>\n",
              "    </tr>\n",
              "    <tr>\n",
              "      <th>1</th>\n",
              "      <td>-114.47</td>\n",
              "      <td>34.40</td>\n",
              "      <td>19.0</td>\n",
              "      <td>7650.0</td>\n",
              "      <td>1901.0</td>\n",
              "      <td>1129.0</td>\n",
              "      <td>463.0</td>\n",
              "      <td>1.8200</td>\n",
              "      <td>80100.0</td>\n",
              "    </tr>\n",
              "    <tr>\n",
              "      <th>2</th>\n",
              "      <td>-114.56</td>\n",
              "      <td>33.69</td>\n",
              "      <td>17.0</td>\n",
              "      <td>720.0</td>\n",
              "      <td>174.0</td>\n",
              "      <td>333.0</td>\n",
              "      <td>117.0</td>\n",
              "      <td>1.6509</td>\n",
              "      <td>85700.0</td>\n",
              "    </tr>\n",
              "    <tr>\n",
              "      <th>3</th>\n",
              "      <td>-114.57</td>\n",
              "      <td>33.64</td>\n",
              "      <td>14.0</td>\n",
              "      <td>1501.0</td>\n",
              "      <td>337.0</td>\n",
              "      <td>515.0</td>\n",
              "      <td>226.0</td>\n",
              "      <td>3.1917</td>\n",
              "      <td>73400.0</td>\n",
              "    </tr>\n",
              "    <tr>\n",
              "      <th>4</th>\n",
              "      <td>-114.57</td>\n",
              "      <td>33.57</td>\n",
              "      <td>20.0</td>\n",
              "      <td>1454.0</td>\n",
              "      <td>326.0</td>\n",
              "      <td>624.0</td>\n",
              "      <td>262.0</td>\n",
              "      <td>1.9250</td>\n",
              "      <td>65500.0</td>\n",
              "    </tr>\n",
              "  </tbody>\n",
              "</table>\n",
              "</div>"
            ],
            "text/plain": [
              "   longitude  latitude  ...  median_income  median_house_value\n",
              "0    -114.31     34.19  ...         1.4936             66900.0\n",
              "1    -114.47     34.40  ...         1.8200             80100.0\n",
              "2    -114.56     33.69  ...         1.6509             85700.0\n",
              "3    -114.57     33.64  ...         3.1917             73400.0\n",
              "4    -114.57     33.57  ...         1.9250             65500.0\n",
              "\n",
              "[5 rows x 9 columns]"
            ]
          },
          "metadata": {},
          "execution_count": 34
        }
      ]
    },
    {
      "cell_type": "code",
      "metadata": {
        "id": "ghu18DRZU123"
      },
      "source": [
        "# dividindo em treino e teste\n",
        "df_treino = df[:10000]\n",
        "df_teste = df[10001:]"
      ],
      "execution_count": 35,
      "outputs": []
    },
    {
      "cell_type": "code",
      "metadata": {
        "id": "oPksDMZ-U3pP"
      },
      "source": [
        "# minmaxscaler e depois box-cox"
      ],
      "execution_count": 36,
      "outputs": []
    },
    {
      "cell_type": "code",
      "metadata": {
        "id": "z4yrVWRuU5Oh"
      },
      "source": [
        "mm = MinMaxScaler(feature_range=(1,2))\n",
        "bc = PowerTransformer(method='box-cox')"
      ],
      "execution_count": 37,
      "outputs": []
    },
    {
      "cell_type": "code",
      "metadata": {
        "colab": {
          "base_uri": "https://localhost:8080/"
        },
        "id": "bo8m3uBfU6mP",
        "outputId": "c64c48c5-bdde-4274-cfd6-209d549adfce"
      },
      "source": [
        "# ''aprendendo'' min-max scaler\n",
        "mm.fit(df_treino)"
      ],
      "execution_count": 38,
      "outputs": [
        {
          "output_type": "execute_result",
          "data": {
            "text/plain": [
              "MinMaxScaler(copy=True, feature_range=(1, 2))"
            ]
          },
          "metadata": {},
          "execution_count": 38
        }
      ]
    },
    {
      "cell_type": "code",
      "metadata": {
        "id": "lkgM3Q3CU8io"
      },
      "source": [
        "# transformar a base com o min-max\n",
        "df_treino_mm = mm.transform(df_treino)"
      ],
      "execution_count": 39,
      "outputs": []
    },
    {
      "cell_type": "code",
      "metadata": {
        "colab": {
          "base_uri": "https://localhost:8080/"
        },
        "id": "dyh3F7VGU-Pn",
        "outputId": "fa24d0b1-7148-4568-b655-82d54f082aaf"
      },
      "source": [
        "df_treino_mm"
      ],
      "execution_count": 40,
      "outputs": [
        {
          "output_type": "execute_result",
          "data": {
            "text/plain": [
              "array([[2.        , 1.2754591 , 1.26      , ..., 1.09061114, 1.06853009,\n",
              "        1.10701193],\n",
              "       [1.97069597, 1.31051753, 1.34      , ..., 1.08887604, 1.09104012,\n",
              "        1.13422831],\n",
              "       [1.95421245, 1.19198664, 1.3       , ..., 1.02217081, 1.07937822,\n",
              "        1.14577466],\n",
              "       ...,\n",
              "       [1.        , 1.70116861, 1.98      , ..., 1.04819742, 1.19396974,\n",
              "        1.11360984],\n",
              "       [1.        , 1.70116861, 1.96      , ..., 1.05378832, 1.09426077,\n",
              "        1.09855836],\n",
              "       [1.        , 1.69949917, 1.86      , ..., 1.04395604, 1.08848154,\n",
              "        1.07752752]])"
            ]
          },
          "metadata": {},
          "execution_count": 40
        }
      ]
    },
    {
      "cell_type": "code",
      "metadata": {
        "id": "IYvvd_XdU_zy"
      },
      "source": [
        "# df_treino_mm"
      ],
      "execution_count": 41,
      "outputs": []
    },
    {
      "cell_type": "code",
      "metadata": {
        "colab": {
          "base_uri": "https://localhost:8080/"
        },
        "id": "l4DJ8m6vVBpX",
        "outputId": "872f4acd-4e26-484a-bf50-5280e6f51cac"
      },
      "source": [
        "# aprender o box-cox\n",
        "bc.fit(df_treino_mm)"
      ],
      "execution_count": 42,
      "outputs": [
        {
          "output_type": "execute_result",
          "data": {
            "text/plain": [
              "PowerTransformer(copy=True, method='box-cox', standardize=True)"
            ]
          },
          "metadata": {},
          "execution_count": 42
        }
      ]
    },
    {
      "cell_type": "code",
      "metadata": {
        "id": "BXfNvbpNVDBC"
      },
      "source": [
        "# aplicar o box-cox\n",
        "df_treino_mm_bc = bc.transform(df_treino_mm)"
      ],
      "execution_count": 43,
      "outputs": []
    },
    {
      "cell_type": "code",
      "metadata": {
        "id": "lS77eCF4VLr4"
      },
      "source": [
        "###### Agora vamos aplicar o mesmo processo nos dados de TESTE\n",
        "###### CUIDADO: vamos apenas usar o TRANSFORM (fit não pode ser usado!)"
      ],
      "execution_count": 44,
      "outputs": []
    },
    {
      "cell_type": "code",
      "metadata": {
        "id": "z_Zc83DFVNQ4"
      },
      "source": [
        "df_teste_mm = mm.transform(df_teste)"
      ],
      "execution_count": 45,
      "outputs": []
    },
    {
      "cell_type": "code",
      "metadata": {
        "id": "746zQCBRVOk4"
      },
      "source": [
        "df_teste_mm_bc = bc.transform(df_teste_mm)"
      ],
      "execution_count": 46,
      "outputs": []
    },
    {
      "cell_type": "code",
      "metadata": {
        "id": "ixaenV-PVQDJ"
      },
      "source": [
        "# Motivo de não dar fit novamente:\n",
        "# o Fit ele \"aprende\" como a transformação deve ser feita\n",
        "# então digamos que usamos fit nos dados treinamento e aprendemos uma transformação\n",
        "# se aplicamos fit novamente nos dados de teste, é possível que a nova transformação \n",
        "# aprendida, desta vez, nos dados de teste, não tenha nada a ver com a anterior"
      ],
      "execution_count": 47,
      "outputs": []
    },
    {
      "cell_type": "code",
      "metadata": {
        "id": "q9LATjZTVR24"
      },
      "source": [
        "# Exemplo do MinMax Scaler: \n",
        "# Treinamento: [0, 100] -> [0,1] -> 0 antes = 0 depois, 100 antes -> 1 depois\n",
        "# Teste: apareceu um valor de 250: como fica isso transformado?\n",
        "#        valor resultado: 2,5"
      ],
      "execution_count": 48,
      "outputs": []
    },
    {
      "cell_type": "code",
      "metadata": {
        "id": "j0r1lKFdVTM4"
      },
      "source": [
        "df = pd.read_csv('http://www.ppgia.pucpr.br/~jean.barddal/datascience/titanic.csv')"
      ],
      "execution_count": 49,
      "outputs": []
    },
    {
      "cell_type": "code",
      "metadata": {
        "colab": {
          "base_uri": "https://localhost:8080/",
          "height": 206
        },
        "id": "IVdQq-AXVWdg",
        "outputId": "cc0c2b2d-df3f-48d1-a3a7-bd939e2b2fa9"
      },
      "source": [
        "df.head(5)"
      ],
      "execution_count": 50,
      "outputs": [
        {
          "output_type": "execute_result",
          "data": {
            "text/html": [
              "<div>\n",
              "<style scoped>\n",
              "    .dataframe tbody tr th:only-of-type {\n",
              "        vertical-align: middle;\n",
              "    }\n",
              "\n",
              "    .dataframe tbody tr th {\n",
              "        vertical-align: top;\n",
              "    }\n",
              "\n",
              "    .dataframe thead th {\n",
              "        text-align: right;\n",
              "    }\n",
              "</style>\n",
              "<table border=\"1\" class=\"dataframe\">\n",
              "  <thead>\n",
              "    <tr style=\"text-align: right;\">\n",
              "      <th></th>\n",
              "      <th>PassengerId</th>\n",
              "      <th>Survived</th>\n",
              "      <th>Pclass</th>\n",
              "      <th>Name</th>\n",
              "      <th>Sex</th>\n",
              "      <th>Age</th>\n",
              "      <th>SibSp</th>\n",
              "      <th>Parch</th>\n",
              "      <th>Ticket</th>\n",
              "      <th>Fare</th>\n",
              "      <th>Cabin</th>\n",
              "      <th>Embarked</th>\n",
              "    </tr>\n",
              "  </thead>\n",
              "  <tbody>\n",
              "    <tr>\n",
              "      <th>0</th>\n",
              "      <td>1</td>\n",
              "      <td>0</td>\n",
              "      <td>3</td>\n",
              "      <td>Braund, Mr. Owen Harris</td>\n",
              "      <td>male</td>\n",
              "      <td>22.0</td>\n",
              "      <td>1</td>\n",
              "      <td>0</td>\n",
              "      <td>A/5 21171</td>\n",
              "      <td>7.2500</td>\n",
              "      <td>NaN</td>\n",
              "      <td>S</td>\n",
              "    </tr>\n",
              "    <tr>\n",
              "      <th>1</th>\n",
              "      <td>2</td>\n",
              "      <td>1</td>\n",
              "      <td>1</td>\n",
              "      <td>Cumings, Mrs. John Bradley (Florence Briggs Th...</td>\n",
              "      <td>female</td>\n",
              "      <td>38.0</td>\n",
              "      <td>1</td>\n",
              "      <td>0</td>\n",
              "      <td>PC 17599</td>\n",
              "      <td>71.2833</td>\n",
              "      <td>C85</td>\n",
              "      <td>C</td>\n",
              "    </tr>\n",
              "    <tr>\n",
              "      <th>2</th>\n",
              "      <td>3</td>\n",
              "      <td>1</td>\n",
              "      <td>3</td>\n",
              "      <td>Heikkinen, Miss. Laina</td>\n",
              "      <td>female</td>\n",
              "      <td>26.0</td>\n",
              "      <td>0</td>\n",
              "      <td>0</td>\n",
              "      <td>STON/O2. 3101282</td>\n",
              "      <td>7.9250</td>\n",
              "      <td>NaN</td>\n",
              "      <td>S</td>\n",
              "    </tr>\n",
              "    <tr>\n",
              "      <th>3</th>\n",
              "      <td>4</td>\n",
              "      <td>1</td>\n",
              "      <td>1</td>\n",
              "      <td>Futrelle, Mrs. Jacques Heath (Lily May Peel)</td>\n",
              "      <td>female</td>\n",
              "      <td>35.0</td>\n",
              "      <td>1</td>\n",
              "      <td>0</td>\n",
              "      <td>113803</td>\n",
              "      <td>53.1000</td>\n",
              "      <td>C123</td>\n",
              "      <td>S</td>\n",
              "    </tr>\n",
              "    <tr>\n",
              "      <th>4</th>\n",
              "      <td>5</td>\n",
              "      <td>0</td>\n",
              "      <td>3</td>\n",
              "      <td>Allen, Mr. William Henry</td>\n",
              "      <td>male</td>\n",
              "      <td>35.0</td>\n",
              "      <td>0</td>\n",
              "      <td>0</td>\n",
              "      <td>373450</td>\n",
              "      <td>8.0500</td>\n",
              "      <td>NaN</td>\n",
              "      <td>S</td>\n",
              "    </tr>\n",
              "  </tbody>\n",
              "</table>\n",
              "</div>"
            ],
            "text/plain": [
              "   PassengerId  Survived  Pclass  ...     Fare Cabin  Embarked\n",
              "0            1         0       3  ...   7.2500   NaN         S\n",
              "1            2         1       1  ...  71.2833   C85         C\n",
              "2            3         1       3  ...   7.9250   NaN         S\n",
              "3            4         1       1  ...  53.1000  C123         S\n",
              "4            5         0       3  ...   8.0500   NaN         S\n",
              "\n",
              "[5 rows x 12 columns]"
            ]
          },
          "metadata": {},
          "execution_count": 50
        }
      ]
    },
    {
      "cell_type": "code",
      "metadata": {
        "colab": {
          "base_uri": "https://localhost:8080/"
        },
        "id": "wtPh4Z9WVX6x",
        "outputId": "579b85b2-379f-4e51-9b90-f05dd7cd549a"
      },
      "source": [
        "df.info()"
      ],
      "execution_count": 51,
      "outputs": [
        {
          "output_type": "stream",
          "name": "stdout",
          "text": [
            "<class 'pandas.core.frame.DataFrame'>\n",
            "RangeIndex: 891 entries, 0 to 890\n",
            "Data columns (total 12 columns):\n",
            " #   Column       Non-Null Count  Dtype  \n",
            "---  ------       --------------  -----  \n",
            " 0   PassengerId  891 non-null    int64  \n",
            " 1   Survived     891 non-null    int64  \n",
            " 2   Pclass       891 non-null    int64  \n",
            " 3   Name         891 non-null    object \n",
            " 4   Sex          891 non-null    object \n",
            " 5   Age          714 non-null    float64\n",
            " 6   SibSp        891 non-null    int64  \n",
            " 7   Parch        891 non-null    int64  \n",
            " 8   Ticket       891 non-null    object \n",
            " 9   Fare         891 non-null    float64\n",
            " 10  Cabin        204 non-null    object \n",
            " 11  Embarked     889 non-null    object \n",
            "dtypes: float64(2), int64(5), object(5)\n",
            "memory usage: 83.7+ KB\n"
          ]
        }
      ]
    },
    {
      "cell_type": "code",
      "metadata": {
        "colab": {
          "base_uri": "https://localhost:8080/"
        },
        "id": "RK_EB3GDVZPB",
        "outputId": "4b708203-c3db-4ebe-806b-4b491cc60c2f"
      },
      "source": [
        "100 * df.isna().sum() / len(df)"
      ],
      "execution_count": 52,
      "outputs": [
        {
          "output_type": "execute_result",
          "data": {
            "text/plain": [
              "PassengerId     0.000000\n",
              "Survived        0.000000\n",
              "Pclass          0.000000\n",
              "Name            0.000000\n",
              "Sex             0.000000\n",
              "Age            19.865320\n",
              "SibSp           0.000000\n",
              "Parch           0.000000\n",
              "Ticket          0.000000\n",
              "Fare            0.000000\n",
              "Cabin          77.104377\n",
              "Embarked        0.224467\n",
              "dtype: float64"
            ]
          },
          "metadata": {},
          "execution_count": 52
        }
      ]
    },
    {
      "cell_type": "code",
      "metadata": {
        "colab": {
          "base_uri": "https://localhost:8080/"
        },
        "id": "eLCnVh7yVa0w",
        "outputId": "f9c61772-36cb-4bee-baa9-0d44a368b415"
      },
      "source": [
        "# começando pela cabine\n",
        "df['Cabin'].unique()"
      ],
      "execution_count": 53,
      "outputs": [
        {
          "output_type": "execute_result",
          "data": {
            "text/plain": [
              "array([nan, 'C85', 'C123', 'E46', 'G6', 'C103', 'D56', 'A6',\n",
              "       'C23 C25 C27', 'B78', 'D33', 'B30', 'C52', 'B28', 'C83', 'F33',\n",
              "       'F G73', 'E31', 'A5', 'D10 D12', 'D26', 'C110', 'B58 B60', 'E101',\n",
              "       'F E69', 'D47', 'B86', 'F2', 'C2', 'E33', 'B19', 'A7', 'C49', 'F4',\n",
              "       'A32', 'B4', 'B80', 'A31', 'D36', 'D15', 'C93', 'C78', 'D35',\n",
              "       'C87', 'B77', 'E67', 'B94', 'C125', 'C99', 'C118', 'D7', 'A19',\n",
              "       'B49', 'D', 'C22 C26', 'C106', 'C65', 'E36', 'C54',\n",
              "       'B57 B59 B63 B66', 'C7', 'E34', 'C32', 'B18', 'C124', 'C91', 'E40',\n",
              "       'T', 'C128', 'D37', 'B35', 'E50', 'C82', 'B96 B98', 'E10', 'E44',\n",
              "       'A34', 'C104', 'C111', 'C92', 'E38', 'D21', 'E12', 'E63', 'A14',\n",
              "       'B37', 'C30', 'D20', 'B79', 'E25', 'D46', 'B73', 'C95', 'B38',\n",
              "       'B39', 'B22', 'C86', 'C70', 'A16', 'C101', 'C68', 'A10', 'E68',\n",
              "       'B41', 'A20', 'D19', 'D50', 'D9', 'A23', 'B50', 'A26', 'D48',\n",
              "       'E58', 'C126', 'B71', 'B51 B53 B55', 'D49', 'B5', 'B20', 'F G63',\n",
              "       'C62 C64', 'E24', 'C90', 'C45', 'E8', 'B101', 'D45', 'C46', 'D30',\n",
              "       'E121', 'D11', 'E77', 'F38', 'B3', 'D6', 'B82 B84', 'D17', 'A36',\n",
              "       'B102', 'B69', 'E49', 'C47', 'D28', 'E17', 'A24', 'C50', 'B42',\n",
              "       'C148'], dtype=object)"
            ]
          },
          "metadata": {},
          "execution_count": 53
        }
      ]
    },
    {
      "cell_type": "code",
      "metadata": {
        "colab": {
          "base_uri": "https://localhost:8080/",
          "height": 206
        },
        "id": "Zje_VxD8VcOR",
        "outputId": "ea453881-aa4a-4c0d-8430-44864d9e2dbe"
      },
      "source": [
        "df.head(5)"
      ],
      "execution_count": 54,
      "outputs": [
        {
          "output_type": "execute_result",
          "data": {
            "text/html": [
              "<div>\n",
              "<style scoped>\n",
              "    .dataframe tbody tr th:only-of-type {\n",
              "        vertical-align: middle;\n",
              "    }\n",
              "\n",
              "    .dataframe tbody tr th {\n",
              "        vertical-align: top;\n",
              "    }\n",
              "\n",
              "    .dataframe thead th {\n",
              "        text-align: right;\n",
              "    }\n",
              "</style>\n",
              "<table border=\"1\" class=\"dataframe\">\n",
              "  <thead>\n",
              "    <tr style=\"text-align: right;\">\n",
              "      <th></th>\n",
              "      <th>PassengerId</th>\n",
              "      <th>Survived</th>\n",
              "      <th>Pclass</th>\n",
              "      <th>Name</th>\n",
              "      <th>Sex</th>\n",
              "      <th>Age</th>\n",
              "      <th>SibSp</th>\n",
              "      <th>Parch</th>\n",
              "      <th>Ticket</th>\n",
              "      <th>Fare</th>\n",
              "      <th>Cabin</th>\n",
              "      <th>Embarked</th>\n",
              "    </tr>\n",
              "  </thead>\n",
              "  <tbody>\n",
              "    <tr>\n",
              "      <th>0</th>\n",
              "      <td>1</td>\n",
              "      <td>0</td>\n",
              "      <td>3</td>\n",
              "      <td>Braund, Mr. Owen Harris</td>\n",
              "      <td>male</td>\n",
              "      <td>22.0</td>\n",
              "      <td>1</td>\n",
              "      <td>0</td>\n",
              "      <td>A/5 21171</td>\n",
              "      <td>7.2500</td>\n",
              "      <td>NaN</td>\n",
              "      <td>S</td>\n",
              "    </tr>\n",
              "    <tr>\n",
              "      <th>1</th>\n",
              "      <td>2</td>\n",
              "      <td>1</td>\n",
              "      <td>1</td>\n",
              "      <td>Cumings, Mrs. John Bradley (Florence Briggs Th...</td>\n",
              "      <td>female</td>\n",
              "      <td>38.0</td>\n",
              "      <td>1</td>\n",
              "      <td>0</td>\n",
              "      <td>PC 17599</td>\n",
              "      <td>71.2833</td>\n",
              "      <td>C85</td>\n",
              "      <td>C</td>\n",
              "    </tr>\n",
              "    <tr>\n",
              "      <th>2</th>\n",
              "      <td>3</td>\n",
              "      <td>1</td>\n",
              "      <td>3</td>\n",
              "      <td>Heikkinen, Miss. Laina</td>\n",
              "      <td>female</td>\n",
              "      <td>26.0</td>\n",
              "      <td>0</td>\n",
              "      <td>0</td>\n",
              "      <td>STON/O2. 3101282</td>\n",
              "      <td>7.9250</td>\n",
              "      <td>NaN</td>\n",
              "      <td>S</td>\n",
              "    </tr>\n",
              "    <tr>\n",
              "      <th>3</th>\n",
              "      <td>4</td>\n",
              "      <td>1</td>\n",
              "      <td>1</td>\n",
              "      <td>Futrelle, Mrs. Jacques Heath (Lily May Peel)</td>\n",
              "      <td>female</td>\n",
              "      <td>35.0</td>\n",
              "      <td>1</td>\n",
              "      <td>0</td>\n",
              "      <td>113803</td>\n",
              "      <td>53.1000</td>\n",
              "      <td>C123</td>\n",
              "      <td>S</td>\n",
              "    </tr>\n",
              "    <tr>\n",
              "      <th>4</th>\n",
              "      <td>5</td>\n",
              "      <td>0</td>\n",
              "      <td>3</td>\n",
              "      <td>Allen, Mr. William Henry</td>\n",
              "      <td>male</td>\n",
              "      <td>35.0</td>\n",
              "      <td>0</td>\n",
              "      <td>0</td>\n",
              "      <td>373450</td>\n",
              "      <td>8.0500</td>\n",
              "      <td>NaN</td>\n",
              "      <td>S</td>\n",
              "    </tr>\n",
              "  </tbody>\n",
              "</table>\n",
              "</div>"
            ],
            "text/plain": [
              "   PassengerId  Survived  Pclass  ...     Fare Cabin  Embarked\n",
              "0            1         0       3  ...   7.2500   NaN         S\n",
              "1            2         1       1  ...  71.2833   C85         C\n",
              "2            3         1       3  ...   7.9250   NaN         S\n",
              "3            4         1       1  ...  53.1000  C123         S\n",
              "4            5         0       3  ...   8.0500   NaN         S\n",
              "\n",
              "[5 rows x 12 columns]"
            ]
          },
          "metadata": {},
          "execution_count": 54
        }
      ]
    },
    {
      "cell_type": "code",
      "metadata": {
        "id": "bLRmW270VfKL"
      },
      "source": [
        "# Caso fosse remover a coluna:\n",
        "# df.drop('Cabin', axis=1, inplace=True)"
      ],
      "execution_count": 55,
      "outputs": []
    },
    {
      "cell_type": "code",
      "metadata": {
        "id": "NubwLqHVVgxo"
      },
      "source": [
        "# Substituir valores faltantes por um valor fixo na coluna Cabin\n",
        "df['Cabin'] = df['Cabin'].replace(np.nan, 'UNK')\n",
        "# df['Cabin'].fillna('UNK', inplace=True)"
      ],
      "execution_count": 56,
      "outputs": []
    },
    {
      "cell_type": "code",
      "metadata": {
        "colab": {
          "base_uri": "https://localhost:8080/",
          "height": 206
        },
        "id": "5WbuFq8PViCI",
        "outputId": "621b406d-e493-4f25-e5ed-b1d88fde6fd7"
      },
      "source": [
        "df.head(5)"
      ],
      "execution_count": 57,
      "outputs": [
        {
          "output_type": "execute_result",
          "data": {
            "text/html": [
              "<div>\n",
              "<style scoped>\n",
              "    .dataframe tbody tr th:only-of-type {\n",
              "        vertical-align: middle;\n",
              "    }\n",
              "\n",
              "    .dataframe tbody tr th {\n",
              "        vertical-align: top;\n",
              "    }\n",
              "\n",
              "    .dataframe thead th {\n",
              "        text-align: right;\n",
              "    }\n",
              "</style>\n",
              "<table border=\"1\" class=\"dataframe\">\n",
              "  <thead>\n",
              "    <tr style=\"text-align: right;\">\n",
              "      <th></th>\n",
              "      <th>PassengerId</th>\n",
              "      <th>Survived</th>\n",
              "      <th>Pclass</th>\n",
              "      <th>Name</th>\n",
              "      <th>Sex</th>\n",
              "      <th>Age</th>\n",
              "      <th>SibSp</th>\n",
              "      <th>Parch</th>\n",
              "      <th>Ticket</th>\n",
              "      <th>Fare</th>\n",
              "      <th>Cabin</th>\n",
              "      <th>Embarked</th>\n",
              "    </tr>\n",
              "  </thead>\n",
              "  <tbody>\n",
              "    <tr>\n",
              "      <th>0</th>\n",
              "      <td>1</td>\n",
              "      <td>0</td>\n",
              "      <td>3</td>\n",
              "      <td>Braund, Mr. Owen Harris</td>\n",
              "      <td>male</td>\n",
              "      <td>22.0</td>\n",
              "      <td>1</td>\n",
              "      <td>0</td>\n",
              "      <td>A/5 21171</td>\n",
              "      <td>7.2500</td>\n",
              "      <td>UNK</td>\n",
              "      <td>S</td>\n",
              "    </tr>\n",
              "    <tr>\n",
              "      <th>1</th>\n",
              "      <td>2</td>\n",
              "      <td>1</td>\n",
              "      <td>1</td>\n",
              "      <td>Cumings, Mrs. John Bradley (Florence Briggs Th...</td>\n",
              "      <td>female</td>\n",
              "      <td>38.0</td>\n",
              "      <td>1</td>\n",
              "      <td>0</td>\n",
              "      <td>PC 17599</td>\n",
              "      <td>71.2833</td>\n",
              "      <td>C85</td>\n",
              "      <td>C</td>\n",
              "    </tr>\n",
              "    <tr>\n",
              "      <th>2</th>\n",
              "      <td>3</td>\n",
              "      <td>1</td>\n",
              "      <td>3</td>\n",
              "      <td>Heikkinen, Miss. Laina</td>\n",
              "      <td>female</td>\n",
              "      <td>26.0</td>\n",
              "      <td>0</td>\n",
              "      <td>0</td>\n",
              "      <td>STON/O2. 3101282</td>\n",
              "      <td>7.9250</td>\n",
              "      <td>UNK</td>\n",
              "      <td>S</td>\n",
              "    </tr>\n",
              "    <tr>\n",
              "      <th>3</th>\n",
              "      <td>4</td>\n",
              "      <td>1</td>\n",
              "      <td>1</td>\n",
              "      <td>Futrelle, Mrs. Jacques Heath (Lily May Peel)</td>\n",
              "      <td>female</td>\n",
              "      <td>35.0</td>\n",
              "      <td>1</td>\n",
              "      <td>0</td>\n",
              "      <td>113803</td>\n",
              "      <td>53.1000</td>\n",
              "      <td>C123</td>\n",
              "      <td>S</td>\n",
              "    </tr>\n",
              "    <tr>\n",
              "      <th>4</th>\n",
              "      <td>5</td>\n",
              "      <td>0</td>\n",
              "      <td>3</td>\n",
              "      <td>Allen, Mr. William Henry</td>\n",
              "      <td>male</td>\n",
              "      <td>35.0</td>\n",
              "      <td>0</td>\n",
              "      <td>0</td>\n",
              "      <td>373450</td>\n",
              "      <td>8.0500</td>\n",
              "      <td>UNK</td>\n",
              "      <td>S</td>\n",
              "    </tr>\n",
              "  </tbody>\n",
              "</table>\n",
              "</div>"
            ],
            "text/plain": [
              "   PassengerId  Survived  Pclass  ...     Fare Cabin  Embarked\n",
              "0            1         0       3  ...   7.2500   UNK         S\n",
              "1            2         1       1  ...  71.2833   C85         C\n",
              "2            3         1       3  ...   7.9250   UNK         S\n",
              "3            4         1       1  ...  53.1000  C123         S\n",
              "4            5         0       3  ...   8.0500   UNK         S\n",
              "\n",
              "[5 rows x 12 columns]"
            ]
          },
          "metadata": {},
          "execution_count": 57
        }
      ]
    },
    {
      "cell_type": "code",
      "metadata": {
        "colab": {
          "base_uri": "https://localhost:8080/"
        },
        "id": "lcr5gJvuVjgJ",
        "outputId": "fb65812f-147c-41d7-f256-9038eaed8ae1"
      },
      "source": [
        "100 * df.isna().sum() / len(df)"
      ],
      "execution_count": 58,
      "outputs": [
        {
          "output_type": "execute_result",
          "data": {
            "text/plain": [
              "PassengerId     0.000000\n",
              "Survived        0.000000\n",
              "Pclass          0.000000\n",
              "Name            0.000000\n",
              "Sex             0.000000\n",
              "Age            19.865320\n",
              "SibSp           0.000000\n",
              "Parch           0.000000\n",
              "Ticket          0.000000\n",
              "Fare            0.000000\n",
              "Cabin           0.000000\n",
              "Embarked        0.224467\n",
              "dtype: float64"
            ]
          },
          "metadata": {},
          "execution_count": 58
        }
      ]
    },
    {
      "cell_type": "code",
      "metadata": {
        "colab": {
          "base_uri": "https://localhost:8080/"
        },
        "id": "qo9aln6YVlDS",
        "outputId": "7791fb96-28e2-4564-b695-7a905bad0ccc"
      },
      "source": [
        "# Pensando em Age (idade)\n",
        "# Aprox. 20% de faltantes\n",
        "df['Age'].mean()"
      ],
      "execution_count": 59,
      "outputs": [
        {
          "output_type": "execute_result",
          "data": {
            "text/plain": [
              "29.69911764705882"
            ]
          },
          "metadata": {},
          "execution_count": 59
        }
      ]
    },
    {
      "cell_type": "code",
      "metadata": {
        "colab": {
          "base_uri": "https://localhost:8080/"
        },
        "id": "OdiDYACjVmvB",
        "outputId": "466538ba-b58f-463c-c4fa-b39c3b056469"
      },
      "source": [
        "df['Age'].median()"
      ],
      "execution_count": 60,
      "outputs": [
        {
          "output_type": "execute_result",
          "data": {
            "text/plain": [
              "28.0"
            ]
          },
          "metadata": {},
          "execution_count": 60
        }
      ]
    },
    {
      "cell_type": "code",
      "metadata": {
        "colab": {
          "base_uri": "https://localhost:8080/"
        },
        "id": "83QtZjJtVoGh",
        "outputId": "45cb60ee-e456-4953-cf1b-461b95853184"
      },
      "source": [
        "df['Age'].mode()"
      ],
      "execution_count": 61,
      "outputs": [
        {
          "output_type": "execute_result",
          "data": {
            "text/plain": [
              "0    24.0\n",
              "dtype: float64"
            ]
          },
          "metadata": {},
          "execution_count": 61
        }
      ]
    },
    {
      "cell_type": "code",
      "metadata": {
        "id": "kLg46sDQVqJb"
      },
      "source": [
        "# fillna\n",
        "df['Age'].fillna(df['Age'].median(), inplace=True)"
      ],
      "execution_count": 62,
      "outputs": []
    },
    {
      "cell_type": "code",
      "metadata": {
        "id": "1MPxbJFMVrgx"
      },
      "source": [
        "# Imputação de acordo com o sexo!\n",
        "# Como que podemos fazer isso?\n",
        "\n",
        "# apply? -> SIM\n",
        "# loc -> Pesquisar como substituir valores usando o loc!"
      ],
      "execution_count": 63,
      "outputs": []
    },
    {
      "cell_type": "code",
      "metadata": {
        "colab": {
          "base_uri": "https://localhost:8080/"
        },
        "id": "Jj4f7q65Vsyg",
        "outputId": "cf77215a-4c8c-4af6-b442-d1ad1aab40b7"
      },
      "source": [
        "100 * df.isna().sum() / len(df)"
      ],
      "execution_count": 64,
      "outputs": [
        {
          "output_type": "execute_result",
          "data": {
            "text/plain": [
              "PassengerId    0.000000\n",
              "Survived       0.000000\n",
              "Pclass         0.000000\n",
              "Name           0.000000\n",
              "Sex            0.000000\n",
              "Age            0.000000\n",
              "SibSp          0.000000\n",
              "Parch          0.000000\n",
              "Ticket         0.000000\n",
              "Fare           0.000000\n",
              "Cabin          0.000000\n",
              "Embarked       0.224467\n",
              "dtype: float64"
            ]
          },
          "metadata": {},
          "execution_count": 64
        }
      ]
    },
    {
      "cell_type": "code",
      "metadata": {
        "colab": {
          "base_uri": "https://localhost:8080/",
          "height": 281
        },
        "id": "_77YvGvRVuJM",
        "outputId": "ad115ba0-7ce6-4c89-81ab-4a3aa8dc7556"
      },
      "source": [
        "df['Embarked'].value_counts().plot(kind='bar')"
      ],
      "execution_count": 65,
      "outputs": [
        {
          "output_type": "execute_result",
          "data": {
            "text/plain": [
              "<matplotlib.axes._subplots.AxesSubplot at 0x7f976a1567d0>"
            ]
          },
          "metadata": {},
          "execution_count": 65
        },
        {
          "output_type": "display_data",
          "data": {
            "image/png": "[encoded data removed]",
            "text/plain": [
              "<Figure size 432x288 with 1 Axes>"
            ]
          },
          "metadata": {
            "needs_background": "light"
          }
        }
      ]
    },
    {
      "cell_type": "code",
      "metadata": {
        "colab": {
          "base_uri": "https://localhost:8080/"
        },
        "id": "5-HU-yGxVwDa",
        "outputId": "7efcabac-eb38-4e88-d0b9-c935677ba560"
      },
      "source": [
        "df.isna().sum()"
      ],
      "execution_count": 66,
      "outputs": [
        {
          "output_type": "execute_result",
          "data": {
            "text/plain": [
              "PassengerId    0\n",
              "Survived       0\n",
              "Pclass         0\n",
              "Name           0\n",
              "Sex            0\n",
              "Age            0\n",
              "SibSp          0\n",
              "Parch          0\n",
              "Ticket         0\n",
              "Fare           0\n",
              "Cabin          0\n",
              "Embarked       2\n",
              "dtype: int64"
            ]
          },
          "metadata": {},
          "execution_count": 66
        }
      ]
    },
    {
      "cell_type": "code",
      "metadata": {
        "id": "9k6Ikos_VxiY"
      },
      "source": [
        "# Moda\n",
        "df['Embarked'].fillna('S', inplace=True)"
      ],
      "execution_count": 67,
      "outputs": []
    },
    {
      "cell_type": "code",
      "metadata": {
        "colab": {
          "base_uri": "https://localhost:8080/"
        },
        "id": "KQQKNTSxVzH1",
        "outputId": "63855dab-c749-447a-90ad-f3f45d8756fc"
      },
      "source": [
        "df.isna().sum()"
      ],
      "execution_count": 68,
      "outputs": [
        {
          "output_type": "execute_result",
          "data": {
            "text/plain": [
              "PassengerId    0\n",
              "Survived       0\n",
              "Pclass         0\n",
              "Name           0\n",
              "Sex            0\n",
              "Age            0\n",
              "SibSp          0\n",
              "Parch          0\n",
              "Ticket         0\n",
              "Fare           0\n",
              "Cabin          0\n",
              "Embarked       0\n",
              "dtype: int64"
            ]
          },
          "metadata": {},
          "execution_count": 68
        }
      ]
    },
    {
      "cell_type": "code",
      "metadata": {
        "colab": {
          "base_uri": "https://localhost:8080/"
        },
        "id": "zEurUyqCV0gJ",
        "outputId": "f982f02d-d64c-4fca-cdea-c3e1461127ab"
      },
      "source": [
        "!pip install missingpy"
      ],
      "execution_count": 69,
      "outputs": [
        {
          "output_type": "stream",
          "name": "stdout",
          "text": [
            "Requirement already satisfied: missingpy in /usr/local/lib/python3.7/dist-packages (0.2.0)\n"
          ]
        }
      ]
    },
    {
      "cell_type": "code",
      "metadata": {
        "id": "h2mGwXXFV2o6"
      },
      "source": [
        "df = pd.read_csv('http://www.ppgia.pucpr.br/~jean.barddal/datascience/titanic.csv')"
      ],
      "execution_count": 70,
      "outputs": []
    },
    {
      "cell_type": "code",
      "metadata": {
        "colab": {
          "base_uri": "https://localhost:8080/",
          "height": 143
        },
        "id": "EvitDQkxV4rq",
        "outputId": "f1340000-a2ae-45ea-b0a1-65c83e05d0b3"
      },
      "source": [
        "df.head(3)"
      ],
      "execution_count": 71,
      "outputs": [
        {
          "output_type": "execute_result",
          "data": {
            "text/html": [
              "<div>\n",
              "<style scoped>\n",
              "    .dataframe tbody tr th:only-of-type {\n",
              "        vertical-align: middle;\n",
              "    }\n",
              "\n",
              "    .dataframe tbody tr th {\n",
              "        vertical-align: top;\n",
              "    }\n",
              "\n",
              "    .dataframe thead th {\n",
              "        text-align: right;\n",
              "    }\n",
              "</style>\n",
              "<table border=\"1\" class=\"dataframe\">\n",
              "  <thead>\n",
              "    <tr style=\"text-align: right;\">\n",
              "      <th></th>\n",
              "      <th>PassengerId</th>\n",
              "      <th>Survived</th>\n",
              "      <th>Pclass</th>\n",
              "      <th>Name</th>\n",
              "      <th>Sex</th>\n",
              "      <th>Age</th>\n",
              "      <th>SibSp</th>\n",
              "      <th>Parch</th>\n",
              "      <th>Ticket</th>\n",
              "      <th>Fare</th>\n",
              "      <th>Cabin</th>\n",
              "      <th>Embarked</th>\n",
              "    </tr>\n",
              "  </thead>\n",
              "  <tbody>\n",
              "    <tr>\n",
              "      <th>0</th>\n",
              "      <td>1</td>\n",
              "      <td>0</td>\n",
              "      <td>3</td>\n",
              "      <td>Braund, Mr. Owen Harris</td>\n",
              "      <td>male</td>\n",
              "      <td>22.0</td>\n",
              "      <td>1</td>\n",
              "      <td>0</td>\n",
              "      <td>A/5 21171</td>\n",
              "      <td>7.2500</td>\n",
              "      <td>NaN</td>\n",
              "      <td>S</td>\n",
              "    </tr>\n",
              "    <tr>\n",
              "      <th>1</th>\n",
              "      <td>2</td>\n",
              "      <td>1</td>\n",
              "      <td>1</td>\n",
              "      <td>Cumings, Mrs. John Bradley (Florence Briggs Th...</td>\n",
              "      <td>female</td>\n",
              "      <td>38.0</td>\n",
              "      <td>1</td>\n",
              "      <td>0</td>\n",
              "      <td>PC 17599</td>\n",
              "      <td>71.2833</td>\n",
              "      <td>C85</td>\n",
              "      <td>C</td>\n",
              "    </tr>\n",
              "    <tr>\n",
              "      <th>2</th>\n",
              "      <td>3</td>\n",
              "      <td>1</td>\n",
              "      <td>3</td>\n",
              "      <td>Heikkinen, Miss. Laina</td>\n",
              "      <td>female</td>\n",
              "      <td>26.0</td>\n",
              "      <td>0</td>\n",
              "      <td>0</td>\n",
              "      <td>STON/O2. 3101282</td>\n",
              "      <td>7.9250</td>\n",
              "      <td>NaN</td>\n",
              "      <td>S</td>\n",
              "    </tr>\n",
              "  </tbody>\n",
              "</table>\n",
              "</div>"
            ],
            "text/plain": [
              "   PassengerId  Survived  Pclass  ...     Fare Cabin  Embarked\n",
              "0            1         0       3  ...   7.2500   NaN         S\n",
              "1            2         1       1  ...  71.2833   C85         C\n",
              "2            3         1       3  ...   7.9250   NaN         S\n",
              "\n",
              "[3 rows x 12 columns]"
            ]
          },
          "metadata": {},
          "execution_count": 71
        }
      ]
    },
    {
      "cell_type": "code",
      "metadata": {
        "id": "NAVTCwpWV6Xi"
      },
      "source": [
        "# apagando colunas de texto\n",
        "df.drop(['Name', 'Sex', 'Ticket', 'Cabin', 'Embarked'], axis=1, inplace=True)"
      ],
      "execution_count": 72,
      "outputs": []
    },
    {
      "cell_type": "code",
      "metadata": {
        "id": "nmb86GitV7z5",
        "colab": {
          "base_uri": "https://localhost:8080/"
        },
        "outputId": "3f2984bd-d731-41b5-d312-a87686784711"
      },
      "source": [
        "from missingpy import KNNImputer\n",
        "# from missingpy import MissForest"
      ],
      "execution_count": 73,
      "outputs": [
        {
          "output_type": "stream",
          "name": "stderr",
          "text": [
            "/usr/local/lib/python3.7/dist-packages/sklearn/utils/deprecation.py:144: FutureWarning: The sklearn.neighbors.base module is  deprecated in version 0.22 and will be removed in version 0.24. The corresponding classes / functions should instead be imported from sklearn.neighbors. Anything that cannot be imported from sklearn.neighbors is now part of the private API.\n",
            "  warnings.warn(message, FutureWarning)\n"
          ]
        }
      ]
    },
    {
      "cell_type": "code",
      "metadata": {
        "colab": {
          "base_uri": "https://localhost:8080/"
        },
        "id": "nARevawqV-F0",
        "outputId": "52e927dd-5fc1-415e-c3bc-044c1c89f7e4"
      },
      "source": [
        "imputer = KNNImputer()\n",
        "df_knn_imp = imputer.fit_transform(df)"
      ],
      "execution_count": 74,
      "outputs": [
        {
          "output_type": "stream",
          "name": "stderr",
          "text": [
            "/usr/local/lib/python3.7/dist-packages/missingpy/pairwise_external.py:135: FutureWarning: 'warn_on_dtype' is deprecated in version 0.21 and will be removed in 0.23. Don't set `warn_on_dtype` to remove this warning.\n",
            "  warn_on_dtype=warn_on_dtype, estimator=estimator)\n",
            "/usr/local/lib/python3.7/dist-packages/missingpy/pairwise_external.py:138: FutureWarning: 'warn_on_dtype' is deprecated in version 0.21 and will be removed in 0.23. Don't set `warn_on_dtype` to remove this warning.\n",
            "  warn_on_dtype=warn_on_dtype, estimator=estimator)\n",
            "/usr/local/lib/python3.7/dist-packages/missingpy/utils.py:124: RuntimeWarning: invalid value encountered in sqrt\n",
            "  return distances if squared else np.sqrt(distances, out=distances)\n"
          ]
        }
      ]
    },
    {
      "cell_type": "code",
      "metadata": {
        "colab": {
          "base_uri": "https://localhost:8080/"
        },
        "id": "Pha3Iv9RV_wi",
        "outputId": "9b415888-e082-452e-98ba-7d69488b3150"
      },
      "source": [
        "df_knn_imp"
      ],
      "execution_count": 75,
      "outputs": [
        {
          "output_type": "execute_result",
          "data": {
            "text/plain": [
              "array([[  1.    ,   0.    ,   3.    , ...,   1.    ,   0.    ,   7.25  ],\n",
              "       [  2.    ,   1.    ,   1.    , ...,   1.    ,   0.    ,  71.2833],\n",
              "       [  3.    ,   1.    ,   3.    , ...,   0.    ,   0.    ,   7.925 ],\n",
              "       ...,\n",
              "       [889.    ,   0.    ,   3.    , ...,   1.    ,   2.    ,  23.45  ],\n",
              "       [890.    ,   1.    ,   1.    , ...,   0.    ,   0.    ,  30.    ],\n",
              "       [891.    ,   0.    ,   3.    , ...,   0.    ,   0.    ,   7.75  ]])"
            ]
          },
          "metadata": {},
          "execution_count": 75
        }
      ]
    },
    {
      "cell_type": "code",
      "metadata": {
        "id": "VxuyCt16WBU0"
      },
      "source": [
        "import pandas as pd\n",
        "import numpy as np\n",
        "from sklearn.tree import DecisionTreeClassifier\n",
        "from sklearn.neighbors import KNeighborsClassifier\n",
        "from sklearn.model_selection import LeaveOneOut\n",
        "from sklearn.metrics import accuracy_score\n",
        "from itertools import chain, combinations"
      ],
      "execution_count": 76,
      "outputs": []
    },
    {
      "cell_type": "code",
      "metadata": {
        "id": "OIvCb8UYWJTb"
      },
      "source": [
        "df = pd.read_csv('http://www.ppgia.pucpr.br/~jean.barddal/datascience/iris.csv')"
      ],
      "execution_count": 77,
      "outputs": []
    },
    {
      "cell_type": "code",
      "metadata": {
        "colab": {
          "base_uri": "https://localhost:8080/",
          "height": 143
        },
        "id": "v6iNWyDdWL5V",
        "outputId": "550172f1-6a3a-47af-e858-63d752a92a44"
      },
      "source": [
        "df.head(3)"
      ],
      "execution_count": 78,
      "outputs": [
        {
          "output_type": "execute_result",
          "data": {
            "text/html": [
              "<div>\n",
              "<style scoped>\n",
              "    .dataframe tbody tr th:only-of-type {\n",
              "        vertical-align: middle;\n",
              "    }\n",
              "\n",
              "    .dataframe tbody tr th {\n",
              "        vertical-align: top;\n",
              "    }\n",
              "\n",
              "    .dataframe thead th {\n",
              "        text-align: right;\n",
              "    }\n",
              "</style>\n",
              "<table border=\"1\" class=\"dataframe\">\n",
              "  <thead>\n",
              "    <tr style=\"text-align: right;\">\n",
              "      <th></th>\n",
              "      <th>sepal.length</th>\n",
              "      <th>sepal.width</th>\n",
              "      <th>petal.length</th>\n",
              "      <th>petal.width</th>\n",
              "      <th>variety</th>\n",
              "    </tr>\n",
              "  </thead>\n",
              "  <tbody>\n",
              "    <tr>\n",
              "      <th>0</th>\n",
              "      <td>5.1</td>\n",
              "      <td>3.5</td>\n",
              "      <td>1.4</td>\n",
              "      <td>0.2</td>\n",
              "      <td>Setosa</td>\n",
              "    </tr>\n",
              "    <tr>\n",
              "      <th>1</th>\n",
              "      <td>4.9</td>\n",
              "      <td>3.0</td>\n",
              "      <td>1.4</td>\n",
              "      <td>0.2</td>\n",
              "      <td>Setosa</td>\n",
              "    </tr>\n",
              "    <tr>\n",
              "      <th>2</th>\n",
              "      <td>4.7</td>\n",
              "      <td>3.2</td>\n",
              "      <td>1.3</td>\n",
              "      <td>0.2</td>\n",
              "      <td>Setosa</td>\n",
              "    </tr>\n",
              "  </tbody>\n",
              "</table>\n",
              "</div>"
            ],
            "text/plain": [
              "   sepal.length  sepal.width  petal.length  petal.width variety\n",
              "0           5.1          3.5           1.4          0.2  Setosa\n",
              "1           4.9          3.0           1.4          0.2  Setosa\n",
              "2           4.7          3.2           1.3          0.2  Setosa"
            ]
          },
          "metadata": {},
          "execution_count": 78
        }
      ]
    },
    {
      "cell_type": "code",
      "metadata": {
        "id": "aPLYIyH5WNQ7"
      },
      "source": [
        "# funcao que gera as combinacoes possiveis (conjunto potencia)\n",
        "def powerset(valores):\n",
        "  # powerset([1,2,3]) => (), (1), (2), (3), (1,2), (1,3), (2,3), (1,2,3)\n",
        "  # d valores resulta em 2^d combinacoes\n",
        "  s = list(valores)\n",
        "  return chain.from_iterable(combinations(s,r) for r in range(1, len(s) + 1))"
      ],
      "execution_count": 79,
      "outputs": []
    },
    {
      "cell_type": "code",
      "metadata": {
        "colab": {
          "base_uri": "https://localhost:8080/"
        },
        "id": "I3Gckb5hWO37",
        "outputId": "4cc21ac3-efd9-4d58-f70a-c56b3a0cf628"
      },
      "source": [
        "list(powerset([1,2,3]))"
      ],
      "execution_count": 80,
      "outputs": [
        {
          "output_type": "execute_result",
          "data": {
            "text/plain": [
              "[(1,), (2,), (3,), (1, 2), (1, 3), (2, 3), (1, 2, 3)]"
            ]
          },
          "metadata": {},
          "execution_count": 80
        }
      ]
    },
    {
      "cell_type": "code",
      "metadata": {
        "id": "9XDbOfIIWQjW"
      },
      "source": [
        "TARGET_COL = 'variety'\n",
        "colunas = list(df.columns.values)\n",
        "colunas.remove(TARGET_COL)"
      ],
      "execution_count": 81,
      "outputs": []
    },
    {
      "cell_type": "code",
      "metadata": {
        "colab": {
          "base_uri": "https://localhost:8080/"
        },
        "id": "fxi0J1LjWR80",
        "outputId": "fd7702b4-30e8-41a3-912c-e98e5c836602"
      },
      "source": [
        "colunas"
      ],
      "execution_count": 82,
      "outputs": [
        {
          "output_type": "execute_result",
          "data": {
            "text/plain": [
              "['sepal.length', 'sepal.width', 'petal.length', 'petal.width']"
            ]
          },
          "metadata": {},
          "execution_count": 82
        }
      ]
    },
    {
      "cell_type": "code",
      "metadata": {
        "id": "x1wDN_6XWTL0"
      },
      "source": [
        "combinacoes = list(powerset(colunas))"
      ],
      "execution_count": 83,
      "outputs": []
    },
    {
      "cell_type": "code",
      "metadata": {
        "colab": {
          "base_uri": "https://localhost:8080/"
        },
        "id": "Covy2uAuWUnt",
        "outputId": "347a4309-af64-4c6e-d01e-21dfbdaa15ee"
      },
      "source": [
        "combinacoes"
      ],
      "execution_count": 84,
      "outputs": [
        {
          "output_type": "execute_result",
          "data": {
            "text/plain": [
              "[('sepal.length',),\n",
              " ('sepal.width',),\n",
              " ('petal.length',),\n",
              " ('petal.width',),\n",
              " ('sepal.length', 'sepal.width'),\n",
              " ('sepal.length', 'petal.length'),\n",
              " ('sepal.length', 'petal.width'),\n",
              " ('sepal.width', 'petal.length'),\n",
              " ('sepal.width', 'petal.width'),\n",
              " ('petal.length', 'petal.width'),\n",
              " ('sepal.length', 'sepal.width', 'petal.length'),\n",
              " ('sepal.length', 'sepal.width', 'petal.width'),\n",
              " ('sepal.length', 'petal.length', 'petal.width'),\n",
              " ('sepal.width', 'petal.length', 'petal.width'),\n",
              " ('sepal.length', 'sepal.width', 'petal.length', 'petal.width')]"
            ]
          },
          "metadata": {},
          "execution_count": 84
        }
      ]
    },
    {
      "cell_type": "code",
      "metadata": {
        "colab": {
          "base_uri": "https://localhost:8080/"
        },
        "id": "anSRQlEOWWMs",
        "outputId": "d7005a33-7375-4dd0-d17a-0de1696227e9"
      },
      "source": [
        "# laco de repeticao para testar as diferentes combinacoes de atributos\n",
        "\n",
        "for comb in combinacoes:\n",
        "\n",
        "  # pega subconjunto de colunas para o modelo\n",
        "  list_features = list(comb)\n",
        "\n",
        "  # criar X e y\n",
        "  X, y = df[list_features], df[TARGET_COL]\n",
        "\n",
        "\n",
        "  # listas de resultados\n",
        "  accs_knn = []\n",
        "  accs_dt = []\n",
        "\n",
        "  # leave one out\n",
        "  loo = LeaveOneOut()\n",
        "\n",
        "  # treinar e testar os modelos\n",
        "  for train_index , test_index in loo.split(X):\n",
        "    # obtendo dados de treino e teste\n",
        "    X_train, X_test = X.loc[train_index], X.loc[test_index]\n",
        "    y_train, y_test = y.loc[train_index], y.loc[test_index]\n",
        "\n",
        "    # treinar o knn\n",
        "    knn = KNeighborsClassifier(1, algorithm='brute')\n",
        "\n",
        "    # treinar a arvore de decisao\n",
        "    dt = DecisionTreeClassifier(criterion=\"entropy\", \n",
        "                                min_samples_split=2, \n",
        "                                min_impurity_decrease=0.25)\n",
        "    \n",
        "    knn.fit(X_train, y_train)\n",
        "    dt.fit(X_train, y_train)\n",
        "\n",
        "\n",
        "    # testar os modelos\n",
        "    y_pred_knn = knn.predict(X_test)\n",
        "    y_pred_dt = dt.predict(X_test)\n",
        "\n",
        "\n",
        "    # medir se os modelos acertaram ou nao (acuracia)\n",
        "    acc_knn = accuracy_score(y_test, y_pred_knn)\n",
        "    acc_dt = accuracy_score(y_test, y_pred_dt)\n",
        "\n",
        "    # guardando os resultados na lista global\n",
        "    accs_knn.append(acc_knn)\n",
        "    accs_dt.append(acc_dt)\n",
        "\n",
        "  # imprimir os resultados de acuracia media\n",
        "  print('-' * 30)\n",
        "  print(f'FEATURES USADAS: {comb}')\n",
        "  print(f'\\t KNN = {100.0 * sum(accs_knn) / len(accs_knn)}')\n",
        "  print(f'\\t DT = {100.0 * sum(accs_dt) / len(accs_dt)}')"
      ],
      "execution_count": 85,
      "outputs": [
        {
          "output_type": "stream",
          "name": "stdout",
          "text": [
            "------------------------------\n",
            "FEATURES USADAS: ('sepal.length',)\n",
            "\t KNN = 58.666666666666664\n",
            "\t DT = 62.666666666666664\n",
            "------------------------------\n",
            "FEATURES USADAS: ('sepal.width',)\n",
            "\t KNN = 48.0\n",
            "\t DT = 52.666666666666664\n",
            "------------------------------\n",
            "FEATURES USADAS: ('petal.length',)\n",
            "\t KNN = 88.0\n",
            "\t DT = 94.0\n",
            "------------------------------\n",
            "FEATURES USADAS: ('petal.width',)\n",
            "\t KNN = 88.0\n",
            "\t DT = 95.33333333333333\n",
            "------------------------------\n",
            "FEATURES USADAS: ('sepal.length', 'sepal.width')\n",
            "\t KNN = 70.0\n",
            "\t DT = 62.666666666666664\n",
            "------------------------------\n",
            "FEATURES USADAS: ('sepal.length', 'petal.length')\n",
            "\t KNN = 91.33333333333333\n",
            "\t DT = 94.0\n",
            "------------------------------\n",
            "FEATURES USADAS: ('sepal.length', 'petal.width')\n",
            "\t KNN = 92.66666666666667\n",
            "\t DT = 95.33333333333333\n",
            "------------------------------\n",
            "FEATURES USADAS: ('sepal.width', 'petal.length')\n",
            "\t KNN = 92.0\n",
            "\t DT = 94.0\n",
            "------------------------------\n",
            "FEATURES USADAS: ('sepal.width', 'petal.width')\n",
            "\t KNN = 92.66666666666667\n",
            "\t DT = 95.33333333333333\n",
            "------------------------------\n",
            "FEATURES USADAS: ('petal.length', 'petal.width')\n",
            "\t KNN = 96.66666666666667\n",
            "\t DT = 95.33333333333333\n",
            "------------------------------\n",
            "FEATURES USADAS: ('sepal.length', 'sepal.width', 'petal.length')\n",
            "\t KNN = 93.33333333333333\n",
            "\t DT = 94.0\n",
            "------------------------------\n",
            "FEATURES USADAS: ('sepal.length', 'sepal.width', 'petal.width')\n",
            "\t KNN = 94.0\n",
            "\t DT = 95.33333333333333\n",
            "------------------------------\n",
            "FEATURES USADAS: ('sepal.length', 'petal.length', 'petal.width')\n",
            "\t KNN = 95.33333333333333\n",
            "\t DT = 95.33333333333333\n",
            "------------------------------\n",
            "FEATURES USADAS: ('sepal.width', 'petal.length', 'petal.width')\n",
            "\t KNN = 95.33333333333333\n",
            "\t DT = 95.33333333333333\n",
            "------------------------------\n",
            "FEATURES USADAS: ('sepal.length', 'sepal.width', 'petal.length', 'petal.width')\n",
            "\t KNN = 96.0\n",
            "\t DT = 95.33333333333333\n"
          ]
        }
      ]
    },
    {
      "cell_type": "code",
      "metadata": {
        "id": "8_K1ErwZWZD4"
      },
      "source": [
        "from sklearn.feature_selection import RFECV\n",
        "from sklearn.linear_model import LogisticRegression"
      ],
      "execution_count": 86,
      "outputs": []
    },
    {
      "cell_type": "code",
      "metadata": {
        "id": "iU80xV-ZWc6N"
      },
      "source": [
        "TARGET_COL = 'variety'\n",
        "colunas = list(df.columns.values)\n",
        "colunas.remove(TARGET_COL)"
      ],
      "execution_count": 87,
      "outputs": []
    },
    {
      "cell_type": "code",
      "metadata": {
        "id": "tSdKn__2WecG"
      },
      "source": [
        "X, y = df[colunas], df[TARGET_COL]"
      ],
      "execution_count": 88,
      "outputs": []
    },
    {
      "cell_type": "code",
      "metadata": {
        "id": "dTKpciYnWf8d"
      },
      "source": [
        "lr = LogisticRegression(max_iter=1000)\n",
        "dt = DecisionTreeClassifier()"
      ],
      "execution_count": 89,
      "outputs": []
    },
    {
      "cell_type": "code",
      "metadata": {
        "id": "X0Sd5B_zWhK1"
      },
      "source": [
        "loo = LeaveOneOut()"
      ],
      "execution_count": 90,
      "outputs": []
    },
    {
      "cell_type": "code",
      "metadata": {
        "colab": {
          "base_uri": "https://localhost:8080/"
        },
        "id": "t3z0UTNvWiZd",
        "outputId": "b3062a4f-74d8-4c4d-9496-743d3569a566"
      },
      "source": [
        "rfe_dt = RFECV(estimator=dt, cv=loo, scoring='accuracy')\n",
        "rfe_lr = RFECV(estimator=lr, cv=loo, scoring='accuracy')\n",
        "\n",
        "rfe_dt.fit(X,y)\n",
        "rfe_lr.fit(X,y)"
      ],
      "execution_count": 91,
      "outputs": [
        {
          "output_type": "execute_result",
          "data": {
            "text/plain": [
              "RFECV(cv=LeaveOneOut(),\n",
              "      estimator=LogisticRegression(C=1.0, class_weight=None, dual=False,\n",
              "                                   fit_intercept=True, intercept_scaling=1,\n",
              "                                   l1_ratio=None, max_iter=1000,\n",
              "                                   multi_class='auto', n_jobs=None,\n",
              "                                   penalty='l2', random_state=None,\n",
              "                                   solver='lbfgs', tol=0.0001, verbose=0,\n",
              "                                   warm_start=False),\n",
              "      min_features_to_select=1, n_jobs=None, scoring='accuracy', step=1,\n",
              "      verbose=0)"
            ]
          },
          "metadata": {},
          "execution_count": 91
        }
      ]
    },
    {
      "cell_type": "code",
      "metadata": {
        "colab": {
          "base_uri": "https://localhost:8080/"
        },
        "id": "CJ69o3DzWj0-",
        "outputId": "a603c953-ded8-40f2-bf6d-415250829c03"
      },
      "source": [
        "print('--- DT ---')\n",
        "print(rfe_dt.n_features_) # qtas features foram selecionadas\n",
        "print(rfe_dt.support_) # quais foram selecionadas\n",
        "print(np.array(colunas)[rfe_dt.support_]) # verificando as colunas em si"
      ],
      "execution_count": 92,
      "outputs": [
        {
          "output_type": "stream",
          "name": "stdout",
          "text": [
            "--- DT ---\n",
            "3\n",
            "[ True False  True  True]\n",
            "['sepal.length' 'petal.length' 'petal.width']\n"
          ]
        }
      ]
    },
    {
      "cell_type": "code",
      "metadata": {
        "colab": {
          "base_uri": "https://localhost:8080/"
        },
        "id": "OchtQk3xWoIe",
        "outputId": "987e7b5e-da03-4ce2-c97b-cd5474a7ff71"
      },
      "source": [
        "print('--- LR ---')\n",
        "print(rfe_lr.n_features_) # qtas features foram selecionadas\n",
        "print(rfe_lr.support_) # quais foram selecionadas\n",
        "print(np.array(colunas)[rfe_lr.support_]) # verificando as colunas em si"
      ],
      "execution_count": 93,
      "outputs": [
        {
          "output_type": "stream",
          "name": "stdout",
          "text": [
            "--- LR ---\n",
            "3\n",
            "[False  True  True  True]\n",
            "['sepal.width' 'petal.length' 'petal.width']\n"
          ]
        }
      ]
    },
    {
      "cell_type": "code",
      "metadata": {
        "id": "MuR8iw6tWqs-"
      },
      "source": [
        "from sklearn.feature_selection import SelectKBest"
      ],
      "execution_count": 94,
      "outputs": []
    },
    {
      "cell_type": "code",
      "metadata": {
        "id": "4pYbrY5DWsPm"
      },
      "source": [
        "X, y = df[colunas], df[TARGET_COL]"
      ],
      "execution_count": 95,
      "outputs": []
    },
    {
      "cell_type": "code",
      "metadata": {
        "id": "k9PkaBMVWtpG"
      },
      "source": [
        "skb = SelectKBest(k=2)\n",
        "X_selecionado = skb.fit_transform(X, y)"
      ],
      "execution_count": 96,
      "outputs": []
    },
    {
      "cell_type": "code",
      "metadata": {
        "colab": {
          "base_uri": "https://localhost:8080/"
        },
        "id": "BZLecTBfWvCX",
        "outputId": "19737921-f91d-468b-b417-c1990b4b64e3"
      },
      "source": [
        "X_selecionado"
      ],
      "execution_count": 97,
      "outputs": [
        {
          "output_type": "execute_result",
          "data": {
            "text/plain": [
              "array([[1.4, 0.2],\n",
              "       [1.4, 0.2],\n",
              "       [1.3, 0.2],\n",
              "       [1.5, 0.2],\n",
              "       [1.4, 0.2],\n",
              "       [1.7, 0.4],\n",
              "       [1.4, 0.3],\n",
              "       [1.5, 0.2],\n",
              "       [1.4, 0.2],\n",
              "       [1.5, 0.1],\n",
              "       [1.5, 0.2],\n",
              "       [1.6, 0.2],\n",
              "       [1.4, 0.1],\n",
              "       [1.1, 0.1],\n",
              "       [1.2, 0.2],\n",
              "       [1.5, 0.4],\n",
              "       [1.3, 0.4],\n",
              "       [1.4, 0.3],\n",
              "       [1.7, 0.3],\n",
              "       [1.5, 0.3],\n",
              "       [1.7, 0.2],\n",
              "       [1.5, 0.4],\n",
              "       [1. , 0.2],\n",
              "       [1.7, 0.5],\n",
              "       [1.9, 0.2],\n",
              "       [1.6, 0.2],\n",
              "       [1.6, 0.4],\n",
              "       [1.5, 0.2],\n",
              "       [1.4, 0.2],\n",
              "       [1.6, 0.2],\n",
              "       [1.6, 0.2],\n",
              "       [1.5, 0.4],\n",
              "       [1.5, 0.1],\n",
              "       [1.4, 0.2],\n",
              "       [1.5, 0.2],\n",
              "       [1.2, 0.2],\n",
              "       [1.3, 0.2],\n",
              "       [1.4, 0.1],\n",
              "       [1.3, 0.2],\n",
              "       [1.5, 0.2],\n",
              "       [1.3, 0.3],\n",
              "       [1.3, 0.3],\n",
              "       [1.3, 0.2],\n",
              "       [1.6, 0.6],\n",
              "       [1.9, 0.4],\n",
              "       [1.4, 0.3],\n",
              "       [1.6, 0.2],\n",
              "       [1.4, 0.2],\n",
              "       [1.5, 0.2],\n",
              "       [1.4, 0.2],\n",
              "       [4.7, 1.4],\n",
              "       [4.5, 1.5],\n",
              "       [4.9, 1.5],\n",
              "       [4. , 1.3],\n",
              "       [4.6, 1.5],\n",
              "       [4.5, 1.3],\n",
              "       [4.7, 1.6],\n",
              "       [3.3, 1. ],\n",
              "       [4.6, 1.3],\n",
              "       [3.9, 1.4],\n",
              "       [3.5, 1. ],\n",
              "       [4.2, 1.5],\n",
              "       [4. , 1. ],\n",
              "       [4.7, 1.4],\n",
              "       [3.6, 1.3],\n",
              "       [4.4, 1.4],\n",
              "       [4.5, 1.5],\n",
              "       [4.1, 1. ],\n",
              "       [4.5, 1.5],\n",
              "       [3.9, 1.1],\n",
              "       [4.8, 1.8],\n",
              "       [4. , 1.3],\n",
              "       [4.9, 1.5],\n",
              "       [4.7, 1.2],\n",
              "       [4.3, 1.3],\n",
              "       [4.4, 1.4],\n",
              "       [4.8, 1.4],\n",
              "       [5. , 1.7],\n",
              "       [4.5, 1.5],\n",
              "       [3.5, 1. ],\n",
              "       [3.8, 1.1],\n",
              "       [3.7, 1. ],\n",
              "       [3.9, 1.2],\n",
              "       [5.1, 1.6],\n",
              "       [4.5, 1.5],\n",
              "       [4.5, 1.6],\n",
              "       [4.7, 1.5],\n",
              "       [4.4, 1.3],\n",
              "       [4.1, 1.3],\n",
              "       [4. , 1.3],\n",
              "       [4.4, 1.2],\n",
              "       [4.6, 1.4],\n",
              "       [4. , 1.2],\n",
              "       [3.3, 1. ],\n",
              "       [4.2, 1.3],\n",
              "       [4.2, 1.2],\n",
              "       [4.2, 1.3],\n",
              "       [4.3, 1.3],\n",
              "       [3. , 1.1],\n",
              "       [4.1, 1.3],\n",
              "       [6. , 2.5],\n",
              "       [5.1, 1.9],\n",
              "       [5.9, 2.1],\n",
              "       [5.6, 1.8],\n",
              "       [5.8, 2.2],\n",
              "       [6.6, 2.1],\n",
              "       [4.5, 1.7],\n",
              "       [6.3, 1.8],\n",
              "       [5.8, 1.8],\n",
              "       [6.1, 2.5],\n",
              "       [5.1, 2. ],\n",
              "       [5.3, 1.9],\n",
              "       [5.5, 2.1],\n",
              "       [5. , 2. ],\n",
              "       [5.1, 2.4],\n",
              "       [5.3, 2.3],\n",
              "       [5.5, 1.8],\n",
              "       [6.7, 2.2],\n",
              "       [6.9, 2.3],\n",
              "       [5. , 1.5],\n",
              "       [5.7, 2.3],\n",
              "       [4.9, 2. ],\n",
              "       [6.7, 2. ],\n",
              "       [4.9, 1.8],\n",
              "       [5.7, 2.1],\n",
              "       [6. , 1.8],\n",
              "       [4.8, 1.8],\n",
              "       [4.9, 1.8],\n",
              "       [5.6, 2.1],\n",
              "       [5.8, 1.6],\n",
              "       [6.1, 1.9],\n",
              "       [6.4, 2. ],\n",
              "       [5.6, 2.2],\n",
              "       [5.1, 1.5],\n",
              "       [5.6, 1.4],\n",
              "       [6.1, 2.3],\n",
              "       [5.6, 2.4],\n",
              "       [5.5, 1.8],\n",
              "       [4.8, 1.8],\n",
              "       [5.4, 2.1],\n",
              "       [5.6, 2.4],\n",
              "       [5.1, 2.3],\n",
              "       [5.1, 1.9],\n",
              "       [5.9, 2.3],\n",
              "       [5.7, 2.5],\n",
              "       [5.2, 2.3],\n",
              "       [5. , 1.9],\n",
              "       [5.2, 2. ],\n",
              "       [5.4, 2.3],\n",
              "       [5.1, 1.8]])"
            ]
          },
          "metadata": {},
          "execution_count": 97
        }
      ]
    },
    {
      "cell_type": "code",
      "metadata": {
        "colab": {
          "base_uri": "https://localhost:8080/",
          "height": 283
        },
        "id": "CHBJYqaAWwf_",
        "outputId": "7499e682-7b61-48a4-f820-179e05d98c9c"
      },
      "source": [
        "importancias = skb.scores_\n",
        "importancias = pd.Series(data=importancias, index=X.columns.values)\n",
        "importancias.sort_values().plot(kind='barh')\n"
      ],
      "execution_count": 98,
      "outputs": [
        {
          "output_type": "execute_result",
          "data": {
            "text/plain": [
              "<matplotlib.axes._subplots.AxesSubplot at 0x7f97619e1ad0>"
            ]
          },
          "metadata": {},
          "execution_count": 98
        },
        {
          "output_type": "display_data",
          "data": {
            "image/png": "[encoded data removed]",
            "text/plain": [
              "<Figure size 432x288 with 1 Axes>"
            ]
          },
          "metadata": {
            "needs_background": "light"
          }
        }
      ]
    },
    {
      "cell_type": "code",
      "metadata": {
        "id": "s_VKBxwqWziX"
      },
      "source": [
        "# [(2**x)-1 for x in range(1, 100)]"
      ],
      "execution_count": 99,
      "outputs": []
    },
    {
      "cell_type": "code",
      "metadata": {
        "id": "ndyB3CBcW1zv"
      },
      "source": [
        "# Filtros tem um problema (grave!)\n",
        "# Filtros analisam as colunas (features) de forma independente!\n",
        "# Mas qual é a nossa garantia que o SW, quando combinado com outra coluna, não nos daria um resultado bom?\n",
        "# Interação de alta ordem"
      ],
      "execution_count": 100,
      "outputs": []
    },
    {
      "cell_type": "code",
      "metadata": {
        "id": "PtU_4jPLW3Gh"
      },
      "source": [
        "import matplotlib.pyplot as plt\n",
        "from sklearn import tree\n",
        "from sklearn.ensemble import RandomForestClassifier"
      ],
      "execution_count": 101,
      "outputs": []
    },
    {
      "cell_type": "code",
      "metadata": {
        "id": "TlyTirY1W4hy"
      },
      "source": [
        "dt = DecisionTreeClassifier()\n",
        "rf = RandomForestClassifier()"
      ],
      "execution_count": 102,
      "outputs": []
    },
    {
      "cell_type": "code",
      "metadata": {
        "colab": {
          "base_uri": "https://localhost:8080/"
        },
        "id": "QrwDjHy3W6F4",
        "outputId": "4888eb9c-566a-49b1-ec99-2a9473a41f79"
      },
      "source": [
        "dt.fit(X, y)\n",
        "rf.fit(X, y)"
      ],
      "execution_count": 103,
      "outputs": [
        {
          "output_type": "execute_result",
          "data": {
            "text/plain": [
              "RandomForestClassifier(bootstrap=True, ccp_alpha=0.0, class_weight=None,\n",
              "                       criterion='gini', max_depth=None, max_features='auto',\n",
              "                       max_leaf_nodes=None, max_samples=None,\n",
              "                       min_impurity_decrease=0.0, min_impurity_split=None,\n",
              "                       min_samples_leaf=1, min_samples_split=2,\n",
              "                       min_weight_fraction_leaf=0.0, n_estimators=100,\n",
              "                       n_jobs=None, oob_score=False, random_state=None,\n",
              "                       verbose=0, warm_start=False)"
            ]
          },
          "metadata": {},
          "execution_count": 103
        }
      ]
    },
    {
      "cell_type": "code",
      "metadata": {
        "id": "rlMdmcrUW7kr"
      },
      "source": [
        "importancias_dt = dt.feature_importances_\n",
        "importancias_rf = rf.feature_importances_"
      ],
      "execution_count": 104,
      "outputs": []
    },
    {
      "cell_type": "code",
      "metadata": {
        "id": "kkHz1B15W9QX"
      },
      "source": [
        "importancias_dt = pd.Series(importancias_dt, index=X.columns.values)\n",
        "importancias_rf = pd.Series(importancias_rf, index=X.columns.values)"
      ],
      "execution_count": 105,
      "outputs": []
    },
    {
      "cell_type": "code",
      "metadata": {
        "colab": {
          "base_uri": "https://localhost:8080/",
          "height": 283
        },
        "id": "5av6pEk0W-ZX",
        "outputId": "cde5baae-3124-4c09-8f11-a0a195de9b3e"
      },
      "source": [
        "importancias_dt.sort_values().plot(kind='barh')"
      ],
      "execution_count": 106,
      "outputs": [
        {
          "output_type": "execute_result",
          "data": {
            "text/plain": [
              "<matplotlib.axes._subplots.AxesSubplot at 0x7f976a137f50>"
            ]
          },
          "metadata": {},
          "execution_count": 106
        },
        {
          "output_type": "display_data",
          "data": {
            "image/png": "[encoded data removed]",
            "text/plain": [
              "<Figure size 432x288 with 1 Axes>"
            ]
          },
          "metadata": {
            "needs_background": "light"
          }
        }
      ]
    },
    {
      "cell_type": "code",
      "metadata": {
        "colab": {
          "base_uri": "https://localhost:8080/",
          "height": 283
        },
        "id": "lZHeXjsKW_3N",
        "outputId": "c4c652a4-43d5-4a71-ede0-3ef208adb757"
      },
      "source": [
        "importancias_rf.sort_values().plot(kind='barh')"
      ],
      "execution_count": 107,
      "outputs": [
        {
          "output_type": "execute_result",
          "data": {
            "text/plain": [
              "<matplotlib.axes._subplots.AxesSubplot at 0x7f97618e0950>"
            ]
          },
          "metadata": {},
          "execution_count": 107
        },
        {
          "output_type": "display_data",
          "data": {
            "image/png": "[encoded data removed]",
            "text/plain": [
              "<Figure size 432x288 with 1 Axes>"
            ]
          },
          "metadata": {
            "needs_background": "light"
          }
        }
      ]
    },
    {
      "cell_type": "code",
      "metadata": {
        "colab": {
          "base_uri": "https://localhost:8080/",
          "height": 887
        },
        "id": "2IXisNcQXB6R",
        "outputId": "de832cae-c05c-4878-db0a-3383f886e578"
      },
      "source": [
        "# plotando a arvore\n",
        "fig = plt.figure(figsize=(20,10))\n",
        "tree.plot_tree(dt, feature_names=X.columns.values,\n",
        "               class_names=y.unique(), filled=True)"
      ],
      "execution_count": 108,
      "outputs": [
        {
          "output_type": "execute_result",
          "data": {
            "text/plain": [
              "[Text(558.0, 498.3, 'petal.width <= 0.8\\ngini = 0.667\\nsamples = 150\\nvalue = [50, 50, 50]\\nclass = Setosa'),\n",
              " Text(472.15384615384613, 407.70000000000005, 'gini = 0.0\\nsamples = 50\\nvalue = [50, 0, 0]\\nclass = Setosa'),\n",
              " Text(643.8461538461538, 407.70000000000005, 'petal.width <= 1.75\\ngini = 0.5\\nsamples = 100\\nvalue = [0, 50, 50]\\nclass = Versicolor'),\n",
              " Text(343.38461538461536, 317.1, 'petal.length <= 4.95\\ngini = 0.168\\nsamples = 54\\nvalue = [0, 49, 5]\\nclass = Versicolor'),\n",
              " Text(171.69230769230768, 226.5, 'petal.width <= 1.65\\ngini = 0.041\\nsamples = 48\\nvalue = [0, 47, 1]\\nclass = Versicolor'),\n",
              " Text(85.84615384615384, 135.89999999999998, 'gini = 0.0\\nsamples = 47\\nvalue = [0, 47, 0]\\nclass = Versicolor'),\n",
              " Text(257.53846153846155, 135.89999999999998, 'gini = 0.0\\nsamples = 1\\nvalue = [0, 0, 1]\\nclass = Virginica'),\n",
              " Text(515.0769230769231, 226.5, 'petal.width <= 1.55\\ngini = 0.444\\nsamples = 6\\nvalue = [0, 2, 4]\\nclass = Virginica'),\n",
              " Text(429.23076923076917, 135.89999999999998, 'gini = 0.0\\nsamples = 3\\nvalue = [0, 0, 3]\\nclass = Virginica'),\n",
              " Text(600.9230769230769, 135.89999999999998, 'sepal.length <= 6.95\\ngini = 0.444\\nsamples = 3\\nvalue = [0, 2, 1]\\nclass = Versicolor'),\n",
              " Text(515.0769230769231, 45.299999999999955, 'gini = 0.0\\nsamples = 2\\nvalue = [0, 2, 0]\\nclass = Versicolor'),\n",
              " Text(686.7692307692307, 45.299999999999955, 'gini = 0.0\\nsamples = 1\\nvalue = [0, 0, 1]\\nclass = Virginica'),\n",
              " Text(944.3076923076923, 317.1, 'petal.length <= 4.85\\ngini = 0.043\\nsamples = 46\\nvalue = [0, 1, 45]\\nclass = Virginica'),\n",
              " Text(858.4615384615383, 226.5, 'sepal.length <= 5.95\\ngini = 0.444\\nsamples = 3\\nvalue = [0, 1, 2]\\nclass = Virginica'),\n",
              " Text(772.6153846153845, 135.89999999999998, 'gini = 0.0\\nsamples = 1\\nvalue = [0, 1, 0]\\nclass = Versicolor'),\n",
              " Text(944.3076923076923, 135.89999999999998, 'gini = 0.0\\nsamples = 2\\nvalue = [0, 0, 2]\\nclass = Virginica'),\n",
              " Text(1030.1538461538462, 226.5, 'gini = 0.0\\nsamples = 43\\nvalue = [0, 0, 43]\\nclass = Virginica')]"
            ]
          },
          "metadata": {},
          "execution_count": 108
        },
        {
          "output_type": "display_data",
          "data": {
            "image/png": "[encoded data removed]",
            "text/plain": [
              "<Figure size 1440x720 with 1 Axes>"
            ]
          },
          "metadata": {
            "needs_background": "light"
          }
        }
      ]
    },
    {
      "cell_type": "code",
      "metadata": {
        "colab": {
          "base_uri": "https://localhost:8080/"
        },
        "id": "zXtRGEZrXEBZ",
        "outputId": "29200b17-8743-463e-e487-72c7e06ae232"
      },
      "source": [
        "!pip install imblearn"
      ],
      "execution_count": 109,
      "outputs": [
        {
          "output_type": "stream",
          "name": "stdout",
          "text": [
            "Requirement already satisfied: imblearn in /usr/local/lib/python3.7/dist-packages (0.0)\n",
            "Requirement already satisfied: imbalanced-learn in /usr/local/lib/python3.7/dist-packages (from imblearn) (0.4.3)\n",
            "Requirement already satisfied: numpy>=1.8.2 in /usr/local/lib/python3.7/dist-packages (from imbalanced-learn->imblearn) (1.19.5)\n",
            "Requirement already satisfied: scikit-learn>=0.20 in /usr/local/lib/python3.7/dist-packages (from imbalanced-learn->imblearn) (0.22.2.post1)\n",
            "Requirement already satisfied: scipy>=0.13.3 in /usr/local/lib/python3.7/dist-packages (from imbalanced-learn->imblearn) (1.4.1)\n",
            "Requirement already satisfied: joblib>=0.11 in /usr/local/lib/python3.7/dist-packages (from scikit-learn>=0.20->imbalanced-learn->imblearn) (1.0.1)\n"
          ]
        }
      ]
    },
    {
      "cell_type": "code",
      "metadata": {
        "id": "b23FyrPdXWUx"
      },
      "source": [
        "import pandas as pd\n",
        "import matplotlib.pyplot as plt\n",
        "import seaborn as sns"
      ],
      "execution_count": 110,
      "outputs": []
    },
    {
      "cell_type": "code",
      "metadata": {
        "id": "BFI_H6LHXX3J"
      },
      "source": [
        "df = pd.read_csv('http://www.ppgia.pucpr.br/~jean.barddal/datascience/imbalanced.csv')"
      ],
      "execution_count": 111,
      "outputs": []
    },
    {
      "cell_type": "code",
      "metadata": {
        "colab": {
          "base_uri": "https://localhost:8080/",
          "height": 143
        },
        "id": "MsWuaj0eXZeR",
        "outputId": "52411240-29f3-4020-819c-d1b1411c758d"
      },
      "source": [
        "df.head(3)"
      ],
      "execution_count": 112,
      "outputs": [
        {
          "output_type": "execute_result",
          "data": {
            "text/html": [
              "<div>\n",
              "<style scoped>\n",
              "    .dataframe tbody tr th:only-of-type {\n",
              "        vertical-align: middle;\n",
              "    }\n",
              "\n",
              "    .dataframe tbody tr th {\n",
              "        vertical-align: top;\n",
              "    }\n",
              "\n",
              "    .dataframe thead th {\n",
              "        text-align: right;\n",
              "    }\n",
              "</style>\n",
              "<table border=\"1\" class=\"dataframe\">\n",
              "  <thead>\n",
              "    <tr style=\"text-align: right;\">\n",
              "      <th></th>\n",
              "      <th>attrib1</th>\n",
              "      <th>attrib2</th>\n",
              "      <th>attrib3</th>\n",
              "      <th>class</th>\n",
              "    </tr>\n",
              "  </thead>\n",
              "  <tbody>\n",
              "    <tr>\n",
              "      <th>0</th>\n",
              "      <td>1.595781</td>\n",
              "      <td>5.540723</td>\n",
              "      <td>9.109505</td>\n",
              "      <td>groupA</td>\n",
              "    </tr>\n",
              "    <tr>\n",
              "      <th>1</th>\n",
              "      <td>2.657896</td>\n",
              "      <td>1.166703</td>\n",
              "      <td>1.368305</td>\n",
              "      <td>groupA</td>\n",
              "    </tr>\n",
              "    <tr>\n",
              "      <th>2</th>\n",
              "      <td>0.901466</td>\n",
              "      <td>4.374227</td>\n",
              "      <td>3.207844</td>\n",
              "      <td>groupA</td>\n",
              "    </tr>\n",
              "  </tbody>\n",
              "</table>\n",
              "</div>"
            ],
            "text/plain": [
              "    attrib1   attrib2   attrib3   class\n",
              "0  1.595781  5.540723  9.109505  groupA\n",
              "1  2.657896  1.166703  1.368305  groupA\n",
              "2  0.901466  4.374227  3.207844  groupA"
            ]
          },
          "metadata": {},
          "execution_count": 112
        }
      ]
    },
    {
      "cell_type": "code",
      "metadata": {
        "colab": {
          "base_uri": "https://localhost:8080/"
        },
        "id": "rFjtkLnlXa9p",
        "outputId": "fe9b0731-d905-4237-d14f-c9c50ea33ea1"
      },
      "source": [
        "# analisar o desbalanceamento\n",
        "df['class'].value_counts() / len(df)"
      ],
      "execution_count": 113,
      "outputs": [
        {
          "output_type": "execute_result",
          "data": {
            "text/plain": [
              "groupA    0.902\n",
              "groupB    0.098\n",
              "Name: class, dtype: float64"
            ]
          },
          "metadata": {},
          "execution_count": 113
        }
      ]
    },
    {
      "cell_type": "code",
      "metadata": {
        "id": "F2Vo6bReXcuR"
      },
      "source": [
        "# dividir a base em treinamento e teste\n",
        "from sklearn.model_selection import train_test_split\n",
        "X, y = df.drop('class', axis=1), df['class']\n",
        "X_train, X_test, y_train, y_test = train_test_split(X, y, test_size=0.3)"
      ],
      "execution_count": 114,
      "outputs": []
    },
    {
      "cell_type": "code",
      "metadata": {
        "id": "UXF28egWXeLC"
      },
      "source": [
        "# Criar um modelo para verificar o comportamento antes de qualquer pre-processamento\n",
        "from sklearn.linear_model import LogisticRegression\n",
        "from sklearn.metrics import accuracy_score\n",
        "from sklearn.metrics import classification_report\n",
        "from sklearn.metrics import confusion_matrix"
      ],
      "execution_count": 115,
      "outputs": []
    },
    {
      "cell_type": "code",
      "metadata": {
        "colab": {
          "base_uri": "https://localhost:8080/"
        },
        "id": "VsUcH8LOXfjh",
        "outputId": "39e5567e-7fd9-4931-ed16-75a962d91c22"
      },
      "source": [
        "lr = LogisticRegression(max_iter=1000)\n",
        "lr.fit(X_train, y_train)"
      ],
      "execution_count": 116,
      "outputs": [
        {
          "output_type": "execute_result",
          "data": {
            "text/plain": [
              "LogisticRegression(C=1.0, class_weight=None, dual=False, fit_intercept=True,\n",
              "                   intercept_scaling=1, l1_ratio=None, max_iter=1000,\n",
              "                   multi_class='auto', n_jobs=None, penalty='l2',\n",
              "                   random_state=None, solver='lbfgs', tol=0.0001, verbose=0,\n",
              "                   warm_start=False)"
            ]
          },
          "metadata": {},
          "execution_count": 116
        }
      ]
    },
    {
      "cell_type": "code",
      "metadata": {
        "colab": {
          "base_uri": "https://localhost:8080/"
        },
        "id": "ZeBibjRMXl_1",
        "outputId": "d8f38bfa-ad2d-4ba0-f2ae-b87d79b05ea2"
      },
      "source": [
        "# aplicando o modelo nos dados de teste\n",
        "y_pred = lr.predict(X_test)\n",
        "accuracy_score(y_test, y_pred)"
      ],
      "execution_count": 117,
      "outputs": [
        {
          "output_type": "execute_result",
          "data": {
            "text/plain": [
              "0.9866666666666667"
            ]
          },
          "metadata": {},
          "execution_count": 117
        }
      ]
    },
    {
      "cell_type": "code",
      "metadata": {
        "colab": {
          "base_uri": "https://localhost:8080/"
        },
        "id": "RJhSJ5BJXnyr",
        "outputId": "18592a62-1935-42bb-f1da-d1d78144db7f"
      },
      "source": [
        "print(classification_report(y_test, y_pred))\n",
        "# support: quantos exemplos/instancias temos de cada classe nos dados de teste\n",
        "# precision: nos dá uma ideia de confiabilidade do modelo para aquela classe\n",
        "#            de todos os casos que o modelo previu como sendo de uma classe, quantos de fato eram\n",
        "# recall: nos dá uma ideia de \"abrangencia\" do modelo\n",
        "#          de todos as instancias de uma classe, quantas o modelo conseguiu prever como sendo daquela classe"
      ],
      "execution_count": 118,
      "outputs": [
        {
          "output_type": "stream",
          "name": "stdout",
          "text": [
            "              precision    recall  f1-score   support\n",
            "\n",
            "      groupA       0.99      1.00      0.99       280\n",
            "      groupB       1.00      0.80      0.89        20\n",
            "\n",
            "    accuracy                           0.99       300\n",
            "   macro avg       0.99      0.90      0.94       300\n",
            "weighted avg       0.99      0.99      0.99       300\n",
            "\n"
          ]
        }
      ]
    },
    {
      "cell_type": "code",
      "metadata": {
        "colab": {
          "base_uri": "https://localhost:8080/"
        },
        "id": "qi8w_3LPXpbC",
        "outputId": "6b6d623b-ba2d-4fb4-8b22-aac484b2ad63"
      },
      "source": [
        "confusion_matrix(y_test, y_pred)"
      ],
      "execution_count": 119,
      "outputs": [
        {
          "output_type": "execute_result",
          "data": {
            "text/plain": [
              "array([[280,   0],\n",
              "       [  4,  16]])"
            ]
          },
          "metadata": {},
          "execution_count": 119
        }
      ]
    },
    {
      "cell_type": "code",
      "metadata": {
        "id": "Ehm3hml8XrRi",
        "colab": {
          "base_uri": "https://localhost:8080/"
        },
        "outputId": "36a3e4b2-7625-402e-c5ac-acdabde3f739"
      },
      "source": [
        "from imblearn.over_sampling import RandomOverSampler\n",
        "from imblearn.over_sampling import SMOTE\n",
        "from imblearn.under_sampling import RandomUnderSampler\n",
        "from imblearn.under_sampling import NearMiss"
      ],
      "execution_count": 120,
      "outputs": [
        {
          "output_type": "stream",
          "name": "stderr",
          "text": [
            "/usr/local/lib/python3.7/dist-packages/sklearn/externals/six.py:31: FutureWarning: The module is deprecated in version 0.21 and will be removed in version 0.23 since we've dropped support for Python 2.7. Please rely on the official version of six (https://pypi.org/project/six/).\n",
            "  \"(https://pypi.org/project/six/).\", FutureWarning)\n"
          ]
        }
      ]
    },
    {
      "cell_type": "code",
      "metadata": {
        "id": "iqfDXP9qXs76"
      },
      "source": [
        "samplers = {'RO': RandomOverSampler(),\n",
        "            'SMOTE': SMOTE(),\n",
        "            'RU': RandomUnderSampler(),\n",
        "            'NM1': NearMiss(version=1),\n",
        "            'NM2': NearMiss(version=2),\n",
        "            'NM3': NearMiss(version=3)}"
      ],
      "execution_count": 121,
      "outputs": []
    },
    {
      "cell_type": "code",
      "metadata": {
        "colab": {
          "base_uri": "https://localhost:8080/"
        },
        "id": "an4n0jCvXugm",
        "outputId": "bac96846-ca38-4c37-dc49-5a06635ea93d"
      },
      "source": [
        "for nome, sampler in samplers.items():\n",
        "  # aplicar a tecnica APENAS NOS DADOS DE TREINO!\n",
        "  X_sampled, y_sampled = sampler.fit_resample(X_train, y_train)\n",
        "  # verificar o percentual das classes\n",
        "  print(nome)\n",
        "  print(pd.Series(y_sampled).value_counts() / len(y_sampled))\n",
        "\n",
        "  # treinar o modelo com os dados reamostrados\n",
        "  lr.fit(X_sampled, y_sampled)\n",
        "  y_pred = lr.predict(X_test) # DADOS DE TESTE INTACTOS!\n",
        "  print(accuracy_score(y_test, y_pred))\n",
        "  print(classification_report(y_test, y_pred))\n"
      ],
      "execution_count": 122,
      "outputs": [
        {
          "output_type": "stream",
          "name": "stdout",
          "text": [
            "RO\n",
            "groupA    0.5\n",
            "groupB    0.5\n",
            "dtype: float64\n",
            "0.9966666666666667\n",
            "              precision    recall  f1-score   support\n",
            "\n",
            "      groupA       1.00      1.00      1.00       280\n",
            "      groupB       0.95      1.00      0.98        20\n",
            "\n",
            "    accuracy                           1.00       300\n",
            "   macro avg       0.98      1.00      0.99       300\n",
            "weighted avg       1.00      1.00      1.00       300\n",
            "\n",
            "SMOTE\n",
            "groupA    0.5\n",
            "groupB    0.5\n",
            "dtype: float64\n",
            "0.9933333333333333\n",
            "              precision    recall  f1-score   support\n",
            "\n",
            "      groupA       0.99      1.00      1.00       280\n",
            "      groupB       1.00      0.90      0.95        20\n",
            "\n",
            "    accuracy                           0.99       300\n",
            "   macro avg       1.00      0.95      0.97       300\n",
            "weighted avg       0.99      0.99      0.99       300\n",
            "\n",
            "RU\n",
            "groupB    0.5\n",
            "groupA    0.5\n",
            "dtype: float64\n",
            "0.9833333333333333\n"
          ]
        },
        {
          "output_type": "stream",
          "name": "stderr",
          "text": [
            "/usr/local/lib/python3.7/dist-packages/sklearn/utils/deprecation.py:87: FutureWarning: Function safe_indexing is deprecated; safe_indexing is deprecated in version 0.22 and will be removed in version 0.24.\n",
            "  warnings.warn(msg, category=FutureWarning)\n",
            "/usr/local/lib/python3.7/dist-packages/sklearn/utils/deprecation.py:87: FutureWarning: Function safe_indexing is deprecated; safe_indexing is deprecated in version 0.22 and will be removed in version 0.24.\n",
            "  warnings.warn(msg, category=FutureWarning)\n",
            "/usr/local/lib/python3.7/dist-packages/sklearn/utils/deprecation.py:87: FutureWarning: Function safe_indexing is deprecated; safe_indexing is deprecated in version 0.22 and will be removed in version 0.24.\n",
            "  warnings.warn(msg, category=FutureWarning)\n",
            "/usr/local/lib/python3.7/dist-packages/sklearn/utils/deprecation.py:87: FutureWarning: Function safe_indexing is deprecated; safe_indexing is deprecated in version 0.22 and will be removed in version 0.24.\n",
            "  warnings.warn(msg, category=FutureWarning)\n",
            "/usr/local/lib/python3.7/dist-packages/sklearn/utils/deprecation.py:87: FutureWarning: Function safe_indexing is deprecated; safe_indexing is deprecated in version 0.22 and will be removed in version 0.24.\n",
            "  warnings.warn(msg, category=FutureWarning)\n",
            "/usr/local/lib/python3.7/dist-packages/sklearn/utils/deprecation.py:87: FutureWarning: Function safe_indexing is deprecated; safe_indexing is deprecated in version 0.22 and will be removed in version 0.24.\n",
            "  warnings.warn(msg, category=FutureWarning)\n",
            "/usr/local/lib/python3.7/dist-packages/sklearn/utils/deprecation.py:87: FutureWarning: Function safe_indexing is deprecated; safe_indexing is deprecated in version 0.22 and will be removed in version 0.24.\n",
            "  warnings.warn(msg, category=FutureWarning)\n",
            "/usr/local/lib/python3.7/dist-packages/sklearn/utils/deprecation.py:87: FutureWarning: Function safe_indexing is deprecated; safe_indexing is deprecated in version 0.22 and will be removed in version 0.24.\n",
            "  warnings.warn(msg, category=FutureWarning)\n",
            "/usr/local/lib/python3.7/dist-packages/sklearn/utils/deprecation.py:87: FutureWarning: Function safe_indexing is deprecated; safe_indexing is deprecated in version 0.22 and will be removed in version 0.24.\n",
            "  warnings.warn(msg, category=FutureWarning)\n",
            "/usr/local/lib/python3.7/dist-packages/sklearn/utils/deprecation.py:87: FutureWarning: Function safe_indexing is deprecated; safe_indexing is deprecated in version 0.22 and will be removed in version 0.24.\n",
            "  warnings.warn(msg, category=FutureWarning)\n",
            "/usr/local/lib/python3.7/dist-packages/sklearn/utils/deprecation.py:87: FutureWarning: Function safe_indexing is deprecated; safe_indexing is deprecated in version 0.22 and will be removed in version 0.24.\n",
            "  warnings.warn(msg, category=FutureWarning)\n",
            "/usr/local/lib/python3.7/dist-packages/sklearn/utils/deprecation.py:87: FutureWarning: Function safe_indexing is deprecated; safe_indexing is deprecated in version 0.22 and will be removed in version 0.24.\n",
            "  warnings.warn(msg, category=FutureWarning)\n",
            "/usr/local/lib/python3.7/dist-packages/sklearn/utils/deprecation.py:87: FutureWarning: Function safe_indexing is deprecated; safe_indexing is deprecated in version 0.22 and will be removed in version 0.24.\n",
            "  warnings.warn(msg, category=FutureWarning)\n",
            "/usr/local/lib/python3.7/dist-packages/sklearn/utils/deprecation.py:87: FutureWarning: Function safe_indexing is deprecated; safe_indexing is deprecated in version 0.22 and will be removed in version 0.24.\n",
            "  warnings.warn(msg, category=FutureWarning)\n"
          ]
        },
        {
          "output_type": "stream",
          "name": "stdout",
          "text": [
            "              precision    recall  f1-score   support\n",
            "\n",
            "      groupA       1.00      0.98      0.99       280\n",
            "      groupB       0.80      1.00      0.89        20\n",
            "\n",
            "    accuracy                           0.98       300\n",
            "   macro avg       0.90      0.99      0.94       300\n",
            "weighted avg       0.99      0.98      0.98       300\n",
            "\n",
            "NM1\n",
            "groupB    0.5\n",
            "groupA    0.5\n",
            "dtype: float64\n",
            "0.99\n",
            "              precision    recall  f1-score   support\n",
            "\n",
            "      groupA       0.99      1.00      0.99       280\n",
            "      groupB       1.00      0.85      0.92        20\n",
            "\n",
            "    accuracy                           0.99       300\n",
            "   macro avg       0.99      0.93      0.96       300\n",
            "weighted avg       0.99      0.99      0.99       300\n",
            "\n",
            "NM2\n",
            "groupB    0.5\n",
            "groupA    0.5\n",
            "dtype: float64\n",
            "0.9866666666666667\n",
            "              precision    recall  f1-score   support\n",
            "\n",
            "      groupA       0.99      1.00      0.99       280\n",
            "      groupB       0.94      0.85      0.89        20\n",
            "\n",
            "    accuracy                           0.99       300\n",
            "   macro avg       0.97      0.92      0.94       300\n",
            "weighted avg       0.99      0.99      0.99       300\n",
            "\n",
            "NM3\n",
            "groupB    0.5\n",
            "groupA    0.5\n",
            "dtype: float64\n",
            "0.99\n",
            "              precision    recall  f1-score   support\n",
            "\n",
            "      groupA       0.99      1.00      0.99       280\n",
            "      groupB       1.00      0.85      0.92        20\n",
            "\n",
            "    accuracy                           0.99       300\n",
            "   macro avg       0.99      0.93      0.96       300\n",
            "weighted avg       0.99      0.99      0.99       300\n",
            "\n"
          ]
        }
      ]
    },
    {
      "cell_type": "code",
      "metadata": {
        "id": "nA-dok6GXwME"
      },
      "source": [
        "df = pd.read_csv('http://www.ppgia.pucpr.br/~jean.barddal/datascience/customers.csv')"
      ],
      "execution_count": 123,
      "outputs": []
    },
    {
      "cell_type": "code",
      "metadata": {
        "colab": {
          "base_uri": "https://localhost:8080/",
          "height": 143
        },
        "id": "x208xMC0X-p8",
        "outputId": "2d389ece-bb3d-49fc-f9c3-9701740460db"
      },
      "source": [
        "df.head(3)"
      ],
      "execution_count": 124,
      "outputs": [
        {
          "output_type": "execute_result",
          "data": {
            "text/html": [
              "<div>\n",
              "<style scoped>\n",
              "    .dataframe tbody tr th:only-of-type {\n",
              "        vertical-align: middle;\n",
              "    }\n",
              "\n",
              "    .dataframe tbody tr th {\n",
              "        vertical-align: top;\n",
              "    }\n",
              "\n",
              "    .dataframe thead th {\n",
              "        text-align: right;\n",
              "    }\n",
              "</style>\n",
              "<table border=\"1\" class=\"dataframe\">\n",
              "  <thead>\n",
              "    <tr style=\"text-align: right;\">\n",
              "      <th></th>\n",
              "      <th>Channel</th>\n",
              "      <th>Region</th>\n",
              "      <th>Fresh</th>\n",
              "      <th>Milk</th>\n",
              "      <th>Grocery</th>\n",
              "      <th>Frozen</th>\n",
              "      <th>Detergents_Paper</th>\n",
              "      <th>Delicatessen</th>\n",
              "    </tr>\n",
              "  </thead>\n",
              "  <tbody>\n",
              "    <tr>\n",
              "      <th>0</th>\n",
              "      <td>2</td>\n",
              "      <td>3</td>\n",
              "      <td>12669</td>\n",
              "      <td>9656</td>\n",
              "      <td>7561</td>\n",
              "      <td>214</td>\n",
              "      <td>2674</td>\n",
              "      <td>1338</td>\n",
              "    </tr>\n",
              "    <tr>\n",
              "      <th>1</th>\n",
              "      <td>2</td>\n",
              "      <td>3</td>\n",
              "      <td>7057</td>\n",
              "      <td>9810</td>\n",
              "      <td>9568</td>\n",
              "      <td>1762</td>\n",
              "      <td>3293</td>\n",
              "      <td>1776</td>\n",
              "    </tr>\n",
              "    <tr>\n",
              "      <th>2</th>\n",
              "      <td>2</td>\n",
              "      <td>3</td>\n",
              "      <td>6353</td>\n",
              "      <td>8808</td>\n",
              "      <td>7684</td>\n",
              "      <td>2405</td>\n",
              "      <td>3516</td>\n",
              "      <td>7844</td>\n",
              "    </tr>\n",
              "  </tbody>\n",
              "</table>\n",
              "</div>"
            ],
            "text/plain": [
              "   Channel  Region  Fresh  ...  Frozen  Detergents_Paper  Delicatessen\n",
              "0        2       3  12669  ...     214              2674          1338\n",
              "1        2       3   7057  ...    1762              3293          1776\n",
              "2        2       3   6353  ...    2405              3516          7844\n",
              "\n",
              "[3 rows x 8 columns]"
            ]
          },
          "metadata": {},
          "execution_count": 124
        }
      ]
    },
    {
      "cell_type": "code",
      "metadata": {
        "id": "cor1eIVWYADX"
      },
      "source": [
        "df.drop(['Channel', 'Region'], axis=1, inplace=True)"
      ],
      "execution_count": 125,
      "outputs": []
    },
    {
      "cell_type": "code",
      "metadata": {
        "colab": {
          "base_uri": "https://localhost:8080/",
          "height": 143
        },
        "id": "aFTB9DoQYCNV",
        "outputId": "030af589-8881-4dee-c6c8-9c623c57f6d7"
      },
      "source": [
        "df.head(3)"
      ],
      "execution_count": 126,
      "outputs": [
        {
          "output_type": "execute_result",
          "data": {
            "text/html": [
              "<div>\n",
              "<style scoped>\n",
              "    .dataframe tbody tr th:only-of-type {\n",
              "        vertical-align: middle;\n",
              "    }\n",
              "\n",
              "    .dataframe tbody tr th {\n",
              "        vertical-align: top;\n",
              "    }\n",
              "\n",
              "    .dataframe thead th {\n",
              "        text-align: right;\n",
              "    }\n",
              "</style>\n",
              "<table border=\"1\" class=\"dataframe\">\n",
              "  <thead>\n",
              "    <tr style=\"text-align: right;\">\n",
              "      <th></th>\n",
              "      <th>Fresh</th>\n",
              "      <th>Milk</th>\n",
              "      <th>Grocery</th>\n",
              "      <th>Frozen</th>\n",
              "      <th>Detergents_Paper</th>\n",
              "      <th>Delicatessen</th>\n",
              "    </tr>\n",
              "  </thead>\n",
              "  <tbody>\n",
              "    <tr>\n",
              "      <th>0</th>\n",
              "      <td>12669</td>\n",
              "      <td>9656</td>\n",
              "      <td>7561</td>\n",
              "      <td>214</td>\n",
              "      <td>2674</td>\n",
              "      <td>1338</td>\n",
              "    </tr>\n",
              "    <tr>\n",
              "      <th>1</th>\n",
              "      <td>7057</td>\n",
              "      <td>9810</td>\n",
              "      <td>9568</td>\n",
              "      <td>1762</td>\n",
              "      <td>3293</td>\n",
              "      <td>1776</td>\n",
              "    </tr>\n",
              "    <tr>\n",
              "      <th>2</th>\n",
              "      <td>6353</td>\n",
              "      <td>8808</td>\n",
              "      <td>7684</td>\n",
              "      <td>2405</td>\n",
              "      <td>3516</td>\n",
              "      <td>7844</td>\n",
              "    </tr>\n",
              "  </tbody>\n",
              "</table>\n",
              "</div>"
            ],
            "text/plain": [
              "   Fresh  Milk  Grocery  Frozen  Detergents_Paper  Delicatessen\n",
              "0  12669  9656     7561     214              2674          1338\n",
              "1   7057  9810     9568    1762              3293          1776\n",
              "2   6353  8808     7684    2405              3516          7844"
            ]
          },
          "metadata": {},
          "execution_count": 126
        }
      ]
    },
    {
      "cell_type": "code",
      "metadata": {
        "colab": {
          "base_uri": "https://localhost:8080/",
          "height": 143
        },
        "id": "OdelRisMYDeM",
        "outputId": "957c029d-b888-4e46-e6bc-24589da9c9ec"
      },
      "source": [
        "df.head(3)"
      ],
      "execution_count": 127,
      "outputs": [
        {
          "output_type": "execute_result",
          "data": {
            "text/html": [
              "<div>\n",
              "<style scoped>\n",
              "    .dataframe tbody tr th:only-of-type {\n",
              "        vertical-align: middle;\n",
              "    }\n",
              "\n",
              "    .dataframe tbody tr th {\n",
              "        vertical-align: top;\n",
              "    }\n",
              "\n",
              "    .dataframe thead th {\n",
              "        text-align: right;\n",
              "    }\n",
              "</style>\n",
              "<table border=\"1\" class=\"dataframe\">\n",
              "  <thead>\n",
              "    <tr style=\"text-align: right;\">\n",
              "      <th></th>\n",
              "      <th>Fresh</th>\n",
              "      <th>Milk</th>\n",
              "      <th>Grocery</th>\n",
              "      <th>Frozen</th>\n",
              "      <th>Detergents_Paper</th>\n",
              "      <th>Delicatessen</th>\n",
              "    </tr>\n",
              "  </thead>\n",
              "  <tbody>\n",
              "    <tr>\n",
              "      <th>0</th>\n",
              "      <td>12669</td>\n",
              "      <td>9656</td>\n",
              "      <td>7561</td>\n",
              "      <td>214</td>\n",
              "      <td>2674</td>\n",
              "      <td>1338</td>\n",
              "    </tr>\n",
              "    <tr>\n",
              "      <th>1</th>\n",
              "      <td>7057</td>\n",
              "      <td>9810</td>\n",
              "      <td>9568</td>\n",
              "      <td>1762</td>\n",
              "      <td>3293</td>\n",
              "      <td>1776</td>\n",
              "    </tr>\n",
              "    <tr>\n",
              "      <th>2</th>\n",
              "      <td>6353</td>\n",
              "      <td>8808</td>\n",
              "      <td>7684</td>\n",
              "      <td>2405</td>\n",
              "      <td>3516</td>\n",
              "      <td>7844</td>\n",
              "    </tr>\n",
              "  </tbody>\n",
              "</table>\n",
              "</div>"
            ],
            "text/plain": [
              "   Fresh  Milk  Grocery  Frozen  Detergents_Paper  Delicatessen\n",
              "0  12669  9656     7561     214              2674          1338\n",
              "1   7057  9810     9568    1762              3293          1776\n",
              "2   6353  8808     7684    2405              3516          7844"
            ]
          },
          "metadata": {},
          "execution_count": 127
        }
      ]
    },
    {
      "cell_type": "code",
      "metadata": {
        "colab": {
          "base_uri": "https://localhost:8080/",
          "height": 1000
        },
        "id": "-NssD3LcYE1V",
        "outputId": "deb56d6a-24b7-4608-a4d4-0e6979e820a0"
      },
      "source": [
        "# antes de aplicar o PCA, vou analisar o comportamento das variaveis\n",
        "# normais ou nao (?)\n",
        "pd.plotting.scatter_matrix(df, figsize=(10,7), diagonal='kde')"
      ],
      "execution_count": 128,
      "outputs": [
        {
          "output_type": "execute_result",
          "data": {
            "text/plain": [
              "array([[<matplotlib.axes._subplots.AxesSubplot object at 0x7f975eb7bf10>,\n",
              "        <matplotlib.axes._subplots.AxesSubplot object at 0x7f975eb3f890>,\n",
              "        <matplotlib.axes._subplots.AxesSubplot object at 0x7f975eaf3d90>,\n",
              "        <matplotlib.axes._subplots.AxesSubplot object at 0x7f975eab6450>,\n",
              "        <matplotlib.axes._subplots.AxesSubplot object at 0x7f975ea6cad0>,\n",
              "        <matplotlib.axes._subplots.AxesSubplot object at 0x7f975ea2e190>],\n",
              "       [<matplotlib.axes._subplots.AxesSubplot object at 0x7f975ea65890>,\n",
              "        <matplotlib.axes._subplots.AxesSubplot object at 0x7f975ea1ae50>,\n",
              "        <matplotlib.axes._subplots.AxesSubplot object at 0x7f975ea1ae90>,\n",
              "        <matplotlib.axes._subplots.AxesSubplot object at 0x7f975e9dd650>,\n",
              "        <matplotlib.axes._subplots.AxesSubplot object at 0x7f975e955290>,\n",
              "        <matplotlib.axes._subplots.AxesSubplot object at 0x7f975e909910>],\n",
              "       [<matplotlib.axes._subplots.AxesSubplot object at 0x7f975e8c0a10>,\n",
              "        <matplotlib.axes._subplots.AxesSubplot object at 0x7f975e883710>,\n",
              "        <matplotlib.axes._subplots.AxesSubplot object at 0x7f975e838d90>,\n",
              "        <matplotlib.axes._subplots.AxesSubplot object at 0x7f975e7f9450>,\n",
              "        <matplotlib.axes._subplots.AxesSubplot object at 0x7f975e7b2ad0>,\n",
              "        <matplotlib.axes._subplots.AxesSubplot object at 0x7f975e774190>],\n",
              "       [<matplotlib.axes._subplots.AxesSubplot object at 0x7f975e729810>,\n",
              "        <matplotlib.axes._subplots.AxesSubplot object at 0x7f975e75fe90>,\n",
              "        <matplotlib.axes._subplots.AxesSubplot object at 0x7f975e722550>,\n",
              "        <matplotlib.axes._subplots.AxesSubplot object at 0x7f975e6d6bd0>,\n",
              "        <matplotlib.axes._subplots.AxesSubplot object at 0x7f975e69a290>,\n",
              "        <matplotlib.axes._subplots.AxesSubplot object at 0x7f975e650910>],\n",
              "       [<matplotlib.axes._subplots.AxesSubplot object at 0x7f975e607f90>,\n",
              "        <matplotlib.axes._subplots.AxesSubplot object at 0x7f975e5c9650>,\n",
              "        <matplotlib.axes._subplots.AxesSubplot object at 0x7f975e57ecd0>,\n",
              "        <matplotlib.axes._subplots.AxesSubplot object at 0x7f975e541390>,\n",
              "        <matplotlib.axes._subplots.AxesSubplot object at 0x7f975e4f4a10>,\n",
              "        <matplotlib.axes._subplots.AxesSubplot object at 0x7f975e4b80d0>],\n",
              "       [<matplotlib.axes._subplots.AxesSubplot object at 0x7f975e46b950>,\n",
              "        <matplotlib.axes._subplots.AxesSubplot object at 0x7f975e4a1ed0>,\n",
              "        <matplotlib.axes._subplots.AxesSubplot object at 0x7f975e464490>,\n",
              "        <matplotlib.axes._subplots.AxesSubplot object at 0x7f975e41ba10>,\n",
              "        <matplotlib.axes._subplots.AxesSubplot object at 0x7f975e3cff90>,\n",
              "        <matplotlib.axes._subplots.AxesSubplot object at 0x7f975e391550>]],\n",
              "      dtype=object)"
            ]
          },
          "metadata": {},
          "execution_count": 128
        },
        {
          "output_type": "display_data",
          "data": {
            "image/png": "[encoded data removed]",
            "text/plain": [
              "<Figure size 720x504 with 36 Axes>"
            ]
          },
          "metadata": {
            "needs_background": "light"
          }
        }
      ]
    },
    {
      "cell_type": "code",
      "metadata": {
        "id": "6vmraiAJYNtn"
      },
      "source": [
        "# tentando resolver a assimetria dos dados\n",
        "import numpy as np\n",
        "df = np.log(df)"
      ],
      "execution_count": 129,
      "outputs": []
    },
    {
      "cell_type": "code",
      "metadata": {
        "colab": {
          "base_uri": "https://localhost:8080/",
          "height": 1000
        },
        "id": "niGwLk_bYQA8",
        "outputId": "6fae0f7b-e087-4a17-ff49-331917353964"
      },
      "source": [
        "pd.plotting.scatter_matrix(df, figsize=(10,7), diagonal='kde')"
      ],
      "execution_count": 130,
      "outputs": [
        {
          "output_type": "execute_result",
          "data": {
            "text/plain": [
              "array([[<matplotlib.axes._subplots.AxesSubplot object at 0x7f975e1597d0>,\n",
              "        <matplotlib.axes._subplots.AxesSubplot object at 0x7f975e0e1750>,\n",
              "        <matplotlib.axes._subplots.AxesSubplot object at 0x7f975e073dd0>,\n",
              "        <matplotlib.axes._subplots.AxesSubplot object at 0x7f975e032490>,\n",
              "        <matplotlib.axes._subplots.AxesSubplot object at 0x7f975e067b10>,\n",
              "        <matplotlib.axes._subplots.AxesSubplot object at 0x7f975dfac1d0>],\n",
              "       [<matplotlib.axes._subplots.AxesSubplot object at 0x7f975dfdf8d0>,\n",
              "        <matplotlib.axes._subplots.AxesSubplot object at 0x7f975df95e90>,\n",
              "        <matplotlib.axes._subplots.AxesSubplot object at 0x7f975df95ed0>,\n",
              "        <matplotlib.axes._subplots.AxesSubplot object at 0x7f975df59690>,\n",
              "        <matplotlib.axes._subplots.AxesSubplot object at 0x7f975ded02d0>,\n",
              "        <matplotlib.axes._subplots.AxesSubplot object at 0x7f975de86950>],\n",
              "       [<matplotlib.axes._subplots.AxesSubplot object at 0x7f975de47850>,\n",
              "        <matplotlib.axes._subplots.AxesSubplot object at 0x7f975de03650>,\n",
              "        <matplotlib.axes._subplots.AxesSubplot object at 0x7f975ddb6cd0>,\n",
              "        <matplotlib.axes._subplots.AxesSubplot object at 0x7f975dd7b190>,\n",
              "        <matplotlib.axes._subplots.AxesSubplot object at 0x7f975dd31710>,\n",
              "        <matplotlib.axes._subplots.AxesSubplot object at 0x7f975dd65c90>],\n",
              "       [<matplotlib.axes._subplots.AxesSubplot object at 0x7f975dd27250>,\n",
              "        <matplotlib.axes._subplots.AxesSubplot object at 0x7f975dcdd7d0>,\n",
              "        <matplotlib.axes._subplots.AxesSubplot object at 0x7f975dc92d50>,\n",
              "        <matplotlib.axes._subplots.AxesSubplot object at 0x7f975dc55310>,\n",
              "        <matplotlib.axes._subplots.AxesSubplot object at 0x7f975dc0b890>,\n",
              "        <matplotlib.axes._subplots.AxesSubplot object at 0x7f975dbc2e10>],\n",
              "       [<matplotlib.axes._subplots.AxesSubplot object at 0x7f975db843d0>,\n",
              "        <matplotlib.axes._subplots.AxesSubplot object at 0x7f975db39950>,\n",
              "        <matplotlib.axes._subplots.AxesSubplot object at 0x7f975daefed0>,\n",
              "        <matplotlib.axes._subplots.AxesSubplot object at 0x7f975dab0490>,\n",
              "        <matplotlib.axes._subplots.AxesSubplot object at 0x7f975dae7a10>,\n",
              "        <matplotlib.axes._subplots.AxesSubplot object at 0x7f975da9df90>],\n",
              "       [<matplotlib.axes._subplots.AxesSubplot object at 0x7f975da61550>,\n",
              "        <matplotlib.axes._subplots.AxesSubplot object at 0x7f975da15ad0>,\n",
              "        <matplotlib.axes._subplots.AxesSubplot object at 0x7f975d9b6790>,\n",
              "        <matplotlib.axes._subplots.AxesSubplot object at 0x7f975d98d610>,\n",
              "        <matplotlib.axes._subplots.AxesSubplot object at 0x7f975d942b90>,\n",
              "        <matplotlib.axes._subplots.AxesSubplot object at 0x7f975d905150>]],\n",
              "      dtype=object)"
            ]
          },
          "metadata": {},
          "execution_count": 130
        },
        {
          "output_type": "display_data",
          "data": {
            "image/png": "[encoded data removed]",
            "text/plain": [
              "<Figure size 720x504 with 36 Axes>"
            ]
          },
          "metadata": {
            "needs_background": "light"
          }
        }
      ]
    },
    {
      "cell_type": "code",
      "metadata": {
        "colab": {
          "base_uri": "https://localhost:8080/"
        },
        "id": "aXKz6aOYYRRA",
        "outputId": "dc2f85c2-369e-4336-a8ff-6cca3d7ff49a"
      },
      "source": [
        "# aplicando o PCA\n",
        "from sklearn.decomposition import PCA\n",
        "pca = PCA(n_components=0.9)\n",
        "\n",
        "pca.fit(df)"
      ],
      "execution_count": 131,
      "outputs": [
        {
          "output_type": "execute_result",
          "data": {
            "text/plain": [
              "PCA(copy=True, iterated_power='auto', n_components=0.9, random_state=None,\n",
              "    svd_solver='auto', tol=0.0, whiten=False)"
            ]
          },
          "metadata": {},
          "execution_count": 131
        }
      ]
    },
    {
      "cell_type": "code",
      "metadata": {
        "id": "-fPeKN6BYTY9"
      },
      "source": [
        "# transformando os dados\n",
        "dados_pca = pca.transform(df)"
      ],
      "execution_count": 132,
      "outputs": []
    },
    {
      "cell_type": "code",
      "metadata": {
        "colab": {
          "base_uri": "https://localhost:8080/"
        },
        "id": "JSAHY4eSYVRB",
        "outputId": "965194c5-e813-44c5-e54b-482a13c274df"
      },
      "source": [
        "dados_pca"
      ],
      "execution_count": 133,
      "outputs": [
        {
          "output_type": "execute_result",
          "data": {
            "text/plain": [
              "array([[-1.75098532, -0.07051523, -0.91175896, -1.72653578],\n",
              "       [-1.80036534, -0.86975357,  0.2128306 ,  0.0079171 ],\n",
              "       [-1.89373597, -1.67662072,  1.31888515, -0.48520333],\n",
              "       ...,\n",
              "       [-3.74793111, -0.92720658, -0.98904036, -0.92761413],\n",
              "       [ 1.65797167, -0.47603534,  0.56709654, -1.28064478],\n",
              "       [ 0.73789981,  3.63443815, -1.97053491, -1.12584791]])"
            ]
          },
          "metadata": {},
          "execution_count": 133
        }
      ]
    },
    {
      "cell_type": "code",
      "metadata": {
        "colab": {
          "base_uri": "https://localhost:8080/",
          "height": 143
        },
        "id": "8yz7ZeaMYYIl",
        "outputId": "c798df15-9937-41cb-e533-1d0869eb9d29"
      },
      "source": [
        "df.head(3)"
      ],
      "execution_count": 134,
      "outputs": [
        {
          "output_type": "execute_result",
          "data": {
            "text/html": [
              "<div>\n",
              "<style scoped>\n",
              "    .dataframe tbody tr th:only-of-type {\n",
              "        vertical-align: middle;\n",
              "    }\n",
              "\n",
              "    .dataframe tbody tr th {\n",
              "        vertical-align: top;\n",
              "    }\n",
              "\n",
              "    .dataframe thead th {\n",
              "        text-align: right;\n",
              "    }\n",
              "</style>\n",
              "<table border=\"1\" class=\"dataframe\">\n",
              "  <thead>\n",
              "    <tr style=\"text-align: right;\">\n",
              "      <th></th>\n",
              "      <th>Fresh</th>\n",
              "      <th>Milk</th>\n",
              "      <th>Grocery</th>\n",
              "      <th>Frozen</th>\n",
              "      <th>Detergents_Paper</th>\n",
              "      <th>Delicatessen</th>\n",
              "    </tr>\n",
              "  </thead>\n",
              "  <tbody>\n",
              "    <tr>\n",
              "      <th>0</th>\n",
              "      <td>9.446913</td>\n",
              "      <td>9.175335</td>\n",
              "      <td>8.930759</td>\n",
              "      <td>5.365976</td>\n",
              "      <td>7.891331</td>\n",
              "      <td>7.198931</td>\n",
              "    </tr>\n",
              "    <tr>\n",
              "      <th>1</th>\n",
              "      <td>8.861775</td>\n",
              "      <td>9.191158</td>\n",
              "      <td>9.166179</td>\n",
              "      <td>7.474205</td>\n",
              "      <td>8.099554</td>\n",
              "      <td>7.482119</td>\n",
              "    </tr>\n",
              "    <tr>\n",
              "      <th>2</th>\n",
              "      <td>8.756682</td>\n",
              "      <td>9.083416</td>\n",
              "      <td>8.946896</td>\n",
              "      <td>7.785305</td>\n",
              "      <td>8.165079</td>\n",
              "      <td>8.967504</td>\n",
              "    </tr>\n",
              "  </tbody>\n",
              "</table>\n",
              "</div>"
            ],
            "text/plain": [
              "      Fresh      Milk   Grocery    Frozen  Detergents_Paper  Delicatessen\n",
              "0  9.446913  9.175335  8.930759  5.365976          7.891331      7.198931\n",
              "1  8.861775  9.191158  9.166179  7.474205          8.099554      7.482119\n",
              "2  8.756682  9.083416  8.946896  7.785305          8.165079      8.967504"
            ]
          },
          "metadata": {},
          "execution_count": 134
        }
      ]
    },
    {
      "cell_type": "code",
      "metadata": {
        "id": "oYZbu2vvYZp1"
      },
      "source": [
        "def pca_results(df, pca):\n",
        "  '''\n",
        "  Create a DataFrame of the PCA results\n",
        "  Includes dimension feature weights and explained variance\n",
        "  Visualizes the PCA results\n",
        "  '''\n",
        "  # Dimension indexing\n",
        "  dimensions = ['Dimension {}'.format(i) for i in range(1,len(pca.components_)+1)]\n",
        "  # PCA components\n",
        "  components = pd.DataFrame(np.round(pca.components_, 4), columns = df.keys())\n",
        "  components.index = dimensions\n",
        "  # PCA explained variance\n",
        "  ratios = pca.explained_variance_ratio_.reshape(len(pca.components_), 1)\n",
        "  variance_ratios = pd.DataFrame(np.round(ratios, 4), columns = ['Explained Variance'])\n",
        "  variance_ratios.index = dimensions\n",
        "  # Create a bar plot visualization\n",
        "  fig, ax = plt.subplots(figsize = (14,8))\n",
        "  # Plot the feature weights as a function of the components\n",
        "  components.plot(ax = ax, kind = 'bar');\n",
        "  ax.set_ylabel(\"Feature Weights\")\n",
        "  ax.set_xticklabels(dimensions, rotation=0)\n",
        "  # Display the explained variance ratios\n",
        "  for i, ev in enumerate(pca.explained_variance_ratio_):\n",
        "    ax.text(i-0.40, ax.get_ylim()[1] + 0.05, \"Explained Variance\\n %.4f\"%(ev))\n",
        "  # Return a concatenated DataFrame\n",
        "  return pd.concat([variance_ratios, components], axis = 1)"
      ],
      "execution_count": 135,
      "outputs": []
    },
    {
      "cell_type": "code",
      "metadata": {
        "id": "ZptXuDHbYcVP",
        "colab": {
          "base_uri": "https://localhost:8080/",
          "height": 515
        },
        "outputId": "ccc10a65-3812-43f5-ec41-42b9d45a8d37"
      },
      "source": [
        "pca_explanation = pca_results(df, pca)"
      ],
      "execution_count": 136,
      "outputs": [
        {
          "output_type": "display_data",
          "data": {
            "image/png": "[encoded data removed]",
            "text/plain": [
              "<Figure size 1008x576 with 1 Axes>"
            ]
          },
          "metadata": {
            "needs_background": "light"
          }
        }
      ]
    },
    {
      "cell_type": "code",
      "metadata": {
        "id": "6O3oqtWrYegt",
        "colab": {
          "base_uri": "https://localhost:8080/"
        },
        "outputId": "38fd3c49-b625-4873-df7b-a730c43d4a12"
      },
      "source": [
        "dados_pca\n"
      ],
      "execution_count": 137,
      "outputs": [
        {
          "output_type": "execute_result",
          "data": {
            "text/plain": [
              "array([[-1.75098532, -0.07051523, -0.91175896, -1.72653578],\n",
              "       [-1.80036534, -0.86975357,  0.2128306 ,  0.0079171 ],\n",
              "       [-1.89373597, -1.67662072,  1.31888515, -0.48520333],\n",
              "       ...,\n",
              "       [-3.74793111, -0.92720658, -0.98904036, -0.92761413],\n",
              "       [ 1.65797167, -0.47603534,  0.56709654, -1.28064478],\n",
              "       [ 0.73789981,  3.63443815, -1.97053491, -1.12584791]])"
            ]
          },
          "metadata": {},
          "execution_count": 137
        }
      ]
    },
    {
      "cell_type": "code",
      "metadata": {
        "colab": {
          "base_uri": "https://localhost:8080/",
          "height": 424
        },
        "id": "O27VRINqYgq1",
        "outputId": "c39e970b-ad3a-45d3-aad0-8286f1db5775"
      },
      "source": [
        "df"
      ],
      "execution_count": 138,
      "outputs": [
        {
          "output_type": "execute_result",
          "data": {
            "text/html": [
              "<div>\n",
              "<style scoped>\n",
              "    .dataframe tbody tr th:only-of-type {\n",
              "        vertical-align: middle;\n",
              "    }\n",
              "\n",
              "    .dataframe tbody tr th {\n",
              "        vertical-align: top;\n",
              "    }\n",
              "\n",
              "    .dataframe thead th {\n",
              "        text-align: right;\n",
              "    }\n",
              "</style>\n",
              "<table border=\"1\" class=\"dataframe\">\n",
              "  <thead>\n",
              "    <tr style=\"text-align: right;\">\n",
              "      <th></th>\n",
              "      <th>Fresh</th>\n",
              "      <th>Milk</th>\n",
              "      <th>Grocery</th>\n",
              "      <th>Frozen</th>\n",
              "      <th>Detergents_Paper</th>\n",
              "      <th>Delicatessen</th>\n",
              "    </tr>\n",
              "  </thead>\n",
              "  <tbody>\n",
              "    <tr>\n",
              "      <th>0</th>\n",
              "      <td>9.446913</td>\n",
              "      <td>9.175335</td>\n",
              "      <td>8.930759</td>\n",
              "      <td>5.365976</td>\n",
              "      <td>7.891331</td>\n",
              "      <td>7.198931</td>\n",
              "    </tr>\n",
              "    <tr>\n",
              "      <th>1</th>\n",
              "      <td>8.861775</td>\n",
              "      <td>9.191158</td>\n",
              "      <td>9.166179</td>\n",
              "      <td>7.474205</td>\n",
              "      <td>8.099554</td>\n",
              "      <td>7.482119</td>\n",
              "    </tr>\n",
              "    <tr>\n",
              "      <th>2</th>\n",
              "      <td>8.756682</td>\n",
              "      <td>9.083416</td>\n",
              "      <td>8.946896</td>\n",
              "      <td>7.785305</td>\n",
              "      <td>8.165079</td>\n",
              "      <td>8.967504</td>\n",
              "    </tr>\n",
              "    <tr>\n",
              "      <th>3</th>\n",
              "      <td>9.492884</td>\n",
              "      <td>7.086738</td>\n",
              "      <td>8.347827</td>\n",
              "      <td>8.764678</td>\n",
              "      <td>6.228511</td>\n",
              "      <td>7.488853</td>\n",
              "    </tr>\n",
              "    <tr>\n",
              "      <th>4</th>\n",
              "      <td>10.026369</td>\n",
              "      <td>8.596004</td>\n",
              "      <td>8.881558</td>\n",
              "      <td>8.272571</td>\n",
              "      <td>7.482682</td>\n",
              "      <td>8.553525</td>\n",
              "    </tr>\n",
              "    <tr>\n",
              "      <th>...</th>\n",
              "      <td>...</td>\n",
              "      <td>...</td>\n",
              "      <td>...</td>\n",
              "      <td>...</td>\n",
              "      <td>...</td>\n",
              "      <td>...</td>\n",
              "    </tr>\n",
              "    <tr>\n",
              "      <th>435</th>\n",
              "      <td>10.299003</td>\n",
              "      <td>9.396903</td>\n",
              "      <td>9.682030</td>\n",
              "      <td>9.483036</td>\n",
              "      <td>5.204007</td>\n",
              "      <td>7.698029</td>\n",
              "    </tr>\n",
              "    <tr>\n",
              "      <th>436</th>\n",
              "      <td>10.577146</td>\n",
              "      <td>7.266129</td>\n",
              "      <td>6.638568</td>\n",
              "      <td>8.414052</td>\n",
              "      <td>4.532599</td>\n",
              "      <td>7.760467</td>\n",
              "    </tr>\n",
              "    <tr>\n",
              "      <th>437</th>\n",
              "      <td>9.584040</td>\n",
              "      <td>9.647821</td>\n",
              "      <td>10.317020</td>\n",
              "      <td>6.079933</td>\n",
              "      <td>9.605149</td>\n",
              "      <td>7.532088</td>\n",
              "    </tr>\n",
              "    <tr>\n",
              "      <th>438</th>\n",
              "      <td>9.238928</td>\n",
              "      <td>7.591357</td>\n",
              "      <td>7.710653</td>\n",
              "      <td>6.945051</td>\n",
              "      <td>5.123964</td>\n",
              "      <td>7.661527</td>\n",
              "    </tr>\n",
              "    <tr>\n",
              "      <th>439</th>\n",
              "      <td>7.932721</td>\n",
              "      <td>7.437206</td>\n",
              "      <td>7.828038</td>\n",
              "      <td>4.174387</td>\n",
              "      <td>6.167516</td>\n",
              "      <td>3.951244</td>\n",
              "    </tr>\n",
              "  </tbody>\n",
              "</table>\n",
              "<p>440 rows × 6 columns</p>\n",
              "</div>"
            ],
            "text/plain": [
              "         Fresh      Milk    Grocery    Frozen  Detergents_Paper  Delicatessen\n",
              "0     9.446913  9.175335   8.930759  5.365976          7.891331      7.198931\n",
              "1     8.861775  9.191158   9.166179  7.474205          8.099554      7.482119\n",
              "2     8.756682  9.083416   8.946896  7.785305          8.165079      8.967504\n",
              "3     9.492884  7.086738   8.347827  8.764678          6.228511      7.488853\n",
              "4    10.026369  8.596004   8.881558  8.272571          7.482682      8.553525\n",
              "..         ...       ...        ...       ...               ...           ...\n",
              "435  10.299003  9.396903   9.682030  9.483036          5.204007      7.698029\n",
              "436  10.577146  7.266129   6.638568  8.414052          4.532599      7.760467\n",
              "437   9.584040  9.647821  10.317020  6.079933          9.605149      7.532088\n",
              "438   9.238928  7.591357   7.710653  6.945051          5.123964      7.661527\n",
              "439   7.932721  7.437206   7.828038  4.174387          6.167516      3.951244\n",
              "\n",
              "[440 rows x 6 columns]"
            ]
          },
          "metadata": {},
          "execution_count": 138
        }
      ]
    },
    {
      "cell_type": "code",
      "metadata": {
        "colab": {
          "base_uri": "https://localhost:8080/"
        },
        "id": "iHKpayiFYiLA",
        "outputId": "fec9c93b-bdee-4025-bf2f-04b44ad445df"
      },
      "source": [
        "pca_explanation['Explained Variance'].cumsum()"
      ],
      "execution_count": 139,
      "outputs": [
        {
          "output_type": "execute_result",
          "data": {
            "text/plain": [
              "Dimension 1    0.4424\n",
              "Dimension 2    0.7190\n",
              "Dimension 3    0.8352\n",
              "Dimension 4    0.9314\n",
              "Name: Explained Variance, dtype: float64"
            ]
          },
          "metadata": {},
          "execution_count": 139
        }
      ]
    },
    {
      "cell_type": "code",
      "metadata": {
        "id": "7hjhT4T5Yjou"
      },
      "source": [
        "# Digamos que temos um df_teste\n",
        "# eu precisaria antes aplicar o PCA nos dados de teste e entao joga-los no modelo\n",
        "# df_test_PCA = pca.transform(df_teste)\n",
        "# clf.predict(df_test_PCA)\n",
        "\n",
        "# NAO POSSO DAR FIT NOVAMENTE!"
      ],
      "execution_count": 140,
      "outputs": []
    },
    {
      "cell_type": "code",
      "metadata": {
        "id": "4RBIwfegYlg2"
      },
      "source": [
        "from sklearn.datasets import fetch_openml\n",
        "mnist = fetch_openml('mnist_784')"
      ],
      "execution_count": 141,
      "outputs": []
    },
    {
      "cell_type": "code",
      "metadata": {
        "id": "Q895JTzeYmu6"
      },
      "source": [
        "df_mnist = pd.DataFrame(mnist.data)\n",
        "df_mnist['TARGET'] = mnist.target"
      ],
      "execution_count": 142,
      "outputs": []
    },
    {
      "cell_type": "code",
      "metadata": {
        "colab": {
          "base_uri": "https://localhost:8080/",
          "height": 193
        },
        "id": "hYbtF57fYn2P",
        "outputId": "c2d5bdc3-a473-4bd7-ec00-69efd7241c82"
      },
      "source": [
        "df_mnist.head(3)"
      ],
      "execution_count": 143,
      "outputs": [
        {
          "output_type": "execute_result",
          "data": {
            "text/html": [
              "<div>\n",
              "<style scoped>\n",
              "    .dataframe tbody tr th:only-of-type {\n",
              "        vertical-align: middle;\n",
              "    }\n",
              "\n",
              "    .dataframe tbody tr th {\n",
              "        vertical-align: top;\n",
              "    }\n",
              "\n",
              "    .dataframe thead th {\n",
              "        text-align: right;\n",
              "    }\n",
              "</style>\n",
              "<table border=\"1\" class=\"dataframe\">\n",
              "  <thead>\n",
              "    <tr style=\"text-align: right;\">\n",
              "      <th></th>\n",
              "      <th>0</th>\n",
              "      <th>1</th>\n",
              "      <th>2</th>\n",
              "      <th>3</th>\n",
              "      <th>4</th>\n",
              "      <th>5</th>\n",
              "      <th>6</th>\n",
              "      <th>7</th>\n",
              "      <th>8</th>\n",
              "      <th>9</th>\n",
              "      <th>10</th>\n",
              "      <th>11</th>\n",
              "      <th>12</th>\n",
              "      <th>13</th>\n",
              "      <th>14</th>\n",
              "      <th>15</th>\n",
              "      <th>16</th>\n",
              "      <th>17</th>\n",
              "      <th>18</th>\n",
              "      <th>19</th>\n",
              "      <th>20</th>\n",
              "      <th>21</th>\n",
              "      <th>22</th>\n",
              "      <th>23</th>\n",
              "      <th>24</th>\n",
              "      <th>25</th>\n",
              "      <th>26</th>\n",
              "      <th>27</th>\n",
              "      <th>28</th>\n",
              "      <th>29</th>\n",
              "      <th>30</th>\n",
              "      <th>31</th>\n",
              "      <th>32</th>\n",
              "      <th>33</th>\n",
              "      <th>34</th>\n",
              "      <th>35</th>\n",
              "      <th>36</th>\n",
              "      <th>37</th>\n",
              "      <th>38</th>\n",
              "      <th>39</th>\n",
              "      <th>...</th>\n",
              "      <th>745</th>\n",
              "      <th>746</th>\n",
              "      <th>747</th>\n",
              "      <th>748</th>\n",
              "      <th>749</th>\n",
              "      <th>750</th>\n",
              "      <th>751</th>\n",
              "      <th>752</th>\n",
              "      <th>753</th>\n",
              "      <th>754</th>\n",
              "      <th>755</th>\n",
              "      <th>756</th>\n",
              "      <th>757</th>\n",
              "      <th>758</th>\n",
              "      <th>759</th>\n",
              "      <th>760</th>\n",
              "      <th>761</th>\n",
              "      <th>762</th>\n",
              "      <th>763</th>\n",
              "      <th>764</th>\n",
              "      <th>765</th>\n",
              "      <th>766</th>\n",
              "      <th>767</th>\n",
              "      <th>768</th>\n",
              "      <th>769</th>\n",
              "      <th>770</th>\n",
              "      <th>771</th>\n",
              "      <th>772</th>\n",
              "      <th>773</th>\n",
              "      <th>774</th>\n",
              "      <th>775</th>\n",
              "      <th>776</th>\n",
              "      <th>777</th>\n",
              "      <th>778</th>\n",
              "      <th>779</th>\n",
              "      <th>780</th>\n",
              "      <th>781</th>\n",
              "      <th>782</th>\n",
              "      <th>783</th>\n",
              "      <th>TARGET</th>\n",
              "    </tr>\n",
              "  </thead>\n",
              "  <tbody>\n",
              "    <tr>\n",
              "      <th>0</th>\n",
              "      <td>0.0</td>\n",
              "      <td>0.0</td>\n",
              "      <td>0.0</td>\n",
              "      <td>0.0</td>\n",
              "      <td>0.0</td>\n",
              "      <td>0.0</td>\n",
              "      <td>0.0</td>\n",
              "      <td>0.0</td>\n",
              "      <td>0.0</td>\n",
              "      <td>0.0</td>\n",
              "      <td>0.0</td>\n",
              "      <td>0.0</td>\n",
              "      <td>0.0</td>\n",
              "      <td>0.0</td>\n",
              "      <td>0.0</td>\n",
              "      <td>0.0</td>\n",
              "      <td>0.0</td>\n",
              "      <td>0.0</td>\n",
              "      <td>0.0</td>\n",
              "      <td>0.0</td>\n",
              "      <td>0.0</td>\n",
              "      <td>0.0</td>\n",
              "      <td>0.0</td>\n",
              "      <td>0.0</td>\n",
              "      <td>0.0</td>\n",
              "      <td>0.0</td>\n",
              "      <td>0.0</td>\n",
              "      <td>0.0</td>\n",
              "      <td>0.0</td>\n",
              "      <td>0.0</td>\n",
              "      <td>0.0</td>\n",
              "      <td>0.0</td>\n",
              "      <td>0.0</td>\n",
              "      <td>0.0</td>\n",
              "      <td>0.0</td>\n",
              "      <td>0.0</td>\n",
              "      <td>0.0</td>\n",
              "      <td>0.0</td>\n",
              "      <td>0.0</td>\n",
              "      <td>0.0</td>\n",
              "      <td>...</td>\n",
              "      <td>0.0</td>\n",
              "      <td>0.0</td>\n",
              "      <td>0.0</td>\n",
              "      <td>0.0</td>\n",
              "      <td>0.0</td>\n",
              "      <td>0.0</td>\n",
              "      <td>0.0</td>\n",
              "      <td>0.0</td>\n",
              "      <td>0.0</td>\n",
              "      <td>0.0</td>\n",
              "      <td>0.0</td>\n",
              "      <td>0.0</td>\n",
              "      <td>0.0</td>\n",
              "      <td>0.0</td>\n",
              "      <td>0.0</td>\n",
              "      <td>0.0</td>\n",
              "      <td>0.0</td>\n",
              "      <td>0.0</td>\n",
              "      <td>0.0</td>\n",
              "      <td>0.0</td>\n",
              "      <td>0.0</td>\n",
              "      <td>0.0</td>\n",
              "      <td>0.0</td>\n",
              "      <td>0.0</td>\n",
              "      <td>0.0</td>\n",
              "      <td>0.0</td>\n",
              "      <td>0.0</td>\n",
              "      <td>0.0</td>\n",
              "      <td>0.0</td>\n",
              "      <td>0.0</td>\n",
              "      <td>0.0</td>\n",
              "      <td>0.0</td>\n",
              "      <td>0.0</td>\n",
              "      <td>0.0</td>\n",
              "      <td>0.0</td>\n",
              "      <td>0.0</td>\n",
              "      <td>0.0</td>\n",
              "      <td>0.0</td>\n",
              "      <td>0.0</td>\n",
              "      <td>5</td>\n",
              "    </tr>\n",
              "    <tr>\n",
              "      <th>1</th>\n",
              "      <td>0.0</td>\n",
              "      <td>0.0</td>\n",
              "      <td>0.0</td>\n",
              "      <td>0.0</td>\n",
              "      <td>0.0</td>\n",
              "      <td>0.0</td>\n",
              "      <td>0.0</td>\n",
              "      <td>0.0</td>\n",
              "      <td>0.0</td>\n",
              "      <td>0.0</td>\n",
              "      <td>0.0</td>\n",
              "      <td>0.0</td>\n",
              "      <td>0.0</td>\n",
              "      <td>0.0</td>\n",
              "      <td>0.0</td>\n",
              "      <td>0.0</td>\n",
              "      <td>0.0</td>\n",
              "      <td>0.0</td>\n",
              "      <td>0.0</td>\n",
              "      <td>0.0</td>\n",
              "      <td>0.0</td>\n",
              "      <td>0.0</td>\n",
              "      <td>0.0</td>\n",
              "      <td>0.0</td>\n",
              "      <td>0.0</td>\n",
              "      <td>0.0</td>\n",
              "      <td>0.0</td>\n",
              "      <td>0.0</td>\n",
              "      <td>0.0</td>\n",
              "      <td>0.0</td>\n",
              "      <td>0.0</td>\n",
              "      <td>0.0</td>\n",
              "      <td>0.0</td>\n",
              "      <td>0.0</td>\n",
              "      <td>0.0</td>\n",
              "      <td>0.0</td>\n",
              "      <td>0.0</td>\n",
              "      <td>0.0</td>\n",
              "      <td>0.0</td>\n",
              "      <td>0.0</td>\n",
              "      <td>...</td>\n",
              "      <td>0.0</td>\n",
              "      <td>0.0</td>\n",
              "      <td>0.0</td>\n",
              "      <td>0.0</td>\n",
              "      <td>0.0</td>\n",
              "      <td>0.0</td>\n",
              "      <td>0.0</td>\n",
              "      <td>0.0</td>\n",
              "      <td>0.0</td>\n",
              "      <td>0.0</td>\n",
              "      <td>0.0</td>\n",
              "      <td>0.0</td>\n",
              "      <td>0.0</td>\n",
              "      <td>0.0</td>\n",
              "      <td>0.0</td>\n",
              "      <td>0.0</td>\n",
              "      <td>0.0</td>\n",
              "      <td>0.0</td>\n",
              "      <td>0.0</td>\n",
              "      <td>0.0</td>\n",
              "      <td>0.0</td>\n",
              "      <td>0.0</td>\n",
              "      <td>0.0</td>\n",
              "      <td>0.0</td>\n",
              "      <td>0.0</td>\n",
              "      <td>0.0</td>\n",
              "      <td>0.0</td>\n",
              "      <td>0.0</td>\n",
              "      <td>0.0</td>\n",
              "      <td>0.0</td>\n",
              "      <td>0.0</td>\n",
              "      <td>0.0</td>\n",
              "      <td>0.0</td>\n",
              "      <td>0.0</td>\n",
              "      <td>0.0</td>\n",
              "      <td>0.0</td>\n",
              "      <td>0.0</td>\n",
              "      <td>0.0</td>\n",
              "      <td>0.0</td>\n",
              "      <td>0</td>\n",
              "    </tr>\n",
              "    <tr>\n",
              "      <th>2</th>\n",
              "      <td>0.0</td>\n",
              "      <td>0.0</td>\n",
              "      <td>0.0</td>\n",
              "      <td>0.0</td>\n",
              "      <td>0.0</td>\n",
              "      <td>0.0</td>\n",
              "      <td>0.0</td>\n",
              "      <td>0.0</td>\n",
              "      <td>0.0</td>\n",
              "      <td>0.0</td>\n",
              "      <td>0.0</td>\n",
              "      <td>0.0</td>\n",
              "      <td>0.0</td>\n",
              "      <td>0.0</td>\n",
              "      <td>0.0</td>\n",
              "      <td>0.0</td>\n",
              "      <td>0.0</td>\n",
              "      <td>0.0</td>\n",
              "      <td>0.0</td>\n",
              "      <td>0.0</td>\n",
              "      <td>0.0</td>\n",
              "      <td>0.0</td>\n",
              "      <td>0.0</td>\n",
              "      <td>0.0</td>\n",
              "      <td>0.0</td>\n",
              "      <td>0.0</td>\n",
              "      <td>0.0</td>\n",
              "      <td>0.0</td>\n",
              "      <td>0.0</td>\n",
              "      <td>0.0</td>\n",
              "      <td>0.0</td>\n",
              "      <td>0.0</td>\n",
              "      <td>0.0</td>\n",
              "      <td>0.0</td>\n",
              "      <td>0.0</td>\n",
              "      <td>0.0</td>\n",
              "      <td>0.0</td>\n",
              "      <td>0.0</td>\n",
              "      <td>0.0</td>\n",
              "      <td>0.0</td>\n",
              "      <td>...</td>\n",
              "      <td>0.0</td>\n",
              "      <td>0.0</td>\n",
              "      <td>0.0</td>\n",
              "      <td>0.0</td>\n",
              "      <td>0.0</td>\n",
              "      <td>0.0</td>\n",
              "      <td>0.0</td>\n",
              "      <td>0.0</td>\n",
              "      <td>0.0</td>\n",
              "      <td>0.0</td>\n",
              "      <td>0.0</td>\n",
              "      <td>0.0</td>\n",
              "      <td>0.0</td>\n",
              "      <td>0.0</td>\n",
              "      <td>0.0</td>\n",
              "      <td>0.0</td>\n",
              "      <td>0.0</td>\n",
              "      <td>0.0</td>\n",
              "      <td>0.0</td>\n",
              "      <td>0.0</td>\n",
              "      <td>0.0</td>\n",
              "      <td>0.0</td>\n",
              "      <td>0.0</td>\n",
              "      <td>0.0</td>\n",
              "      <td>0.0</td>\n",
              "      <td>0.0</td>\n",
              "      <td>0.0</td>\n",
              "      <td>0.0</td>\n",
              "      <td>0.0</td>\n",
              "      <td>0.0</td>\n",
              "      <td>0.0</td>\n",
              "      <td>0.0</td>\n",
              "      <td>0.0</td>\n",
              "      <td>0.0</td>\n",
              "      <td>0.0</td>\n",
              "      <td>0.0</td>\n",
              "      <td>0.0</td>\n",
              "      <td>0.0</td>\n",
              "      <td>0.0</td>\n",
              "      <td>4</td>\n",
              "    </tr>\n",
              "  </tbody>\n",
              "</table>\n",
              "<p>3 rows × 785 columns</p>\n",
              "</div>"
            ],
            "text/plain": [
              "     0    1    2    3    4    5    6  ...  778  779  780  781  782  783  TARGET\n",
              "0  0.0  0.0  0.0  0.0  0.0  0.0  0.0  ...  0.0  0.0  0.0  0.0  0.0  0.0       5\n",
              "1  0.0  0.0  0.0  0.0  0.0  0.0  0.0  ...  0.0  0.0  0.0  0.0  0.0  0.0       0\n",
              "2  0.0  0.0  0.0  0.0  0.0  0.0  0.0  ...  0.0  0.0  0.0  0.0  0.0  0.0       4\n",
              "\n",
              "[3 rows x 785 columns]"
            ]
          },
          "metadata": {},
          "execution_count": 143
        }
      ]
    },
    {
      "cell_type": "code",
      "metadata": {
        "colab": {
          "base_uri": "https://localhost:8080/",
          "height": 283
        },
        "id": "ZShOFIc4YpFY",
        "outputId": "72a13b8c-38a5-442b-ce0b-ee54f080173c"
      },
      "source": [
        "plt.imshow(np.array(df_mnist.drop('TARGET', axis=1).loc[0]).reshape(28,28))"
      ],
      "execution_count": 144,
      "outputs": [
        {
          "output_type": "execute_result",
          "data": {
            "text/plain": [
              "<matplotlib.image.AxesImage at 0x7f975c9f3450>"
            ]
          },
          "metadata": {},
          "execution_count": 144
        },
        {
          "output_type": "display_data",
          "data": {
            "image/png": "[encoded data removed]",
            "text/plain": [
              "<Figure size 432x288 with 1 Axes>"
            ]
          },
          "metadata": {
            "needs_background": "light"
          }
        }
      ]
    },
    {
      "cell_type": "code",
      "metadata": {
        "id": "l6iGfEuoYq3H"
      },
      "source": [
        "# obtendo apenas uma parte da base de dados\n",
        "# obtendo apenas 500 instancias\n",
        "df_mnist = df_mnist.loc[:500]"
      ],
      "execution_count": 145,
      "outputs": []
    },
    {
      "cell_type": "code",
      "metadata": {
        "colab": {
          "base_uri": "https://localhost:8080/"
        },
        "id": "HQb71VD8Yr8-",
        "outputId": "f194c035-c86e-4878-c32d-31436251adea"
      },
      "source": [
        "df_mnist.shape"
      ],
      "execution_count": 146,
      "outputs": [
        {
          "output_type": "execute_result",
          "data": {
            "text/plain": [
              "(501, 785)"
            ]
          },
          "metadata": {},
          "execution_count": 146
        }
      ]
    },
    {
      "cell_type": "code",
      "metadata": {
        "id": "3doSbyQ2YtLX"
      },
      "source": [
        "X, y = df_mnist.drop('TARGET', axis=1), df_mnist['TARGET']"
      ],
      "execution_count": 147,
      "outputs": []
    },
    {
      "cell_type": "code",
      "metadata": {
        "colab": {
          "base_uri": "https://localhost:8080/",
          "height": 302
        },
        "id": "-nLDeF2LYuXA",
        "outputId": "f727f18f-9a8c-4da6-9b3e-8f8ffd9a8ec7"
      },
      "source": [
        "from sklearn.manifold import TSNE\n",
        "\n",
        "tsne = TSNE(n_components=2, perplexity=80, n_iter=2000)\n",
        "X_transformado = tsne.fit_transform(X)\n",
        "\n",
        "# visualizar o resultado\n",
        "sns.scatterplot(X_transformado[:,0], X_transformado[:,1], hue=y)\n",
        "plt.show()"
      ],
      "execution_count": 148,
      "outputs": [
        {
          "output_type": "stream",
          "name": "stderr",
          "text": [
            "/usr/local/lib/python3.7/dist-packages/seaborn/_decorators.py:43: FutureWarning: Pass the following variables as keyword args: x, y. From version 0.12, the only valid positional argument will be `data`, and passing other arguments without an explicit keyword will result in an error or misinterpretation.\n",
            "  FutureWarning\n"
          ]
        },
        {
          "output_type": "display_data",
          "data": {
            "image/png": "[encoded data removed]",
            "text/plain": [
              "<Figure size 432x288 with 1 Axes>"
            ]
          },
          "metadata": {
            "needs_background": "light"
          }
        }
      ]
    },
    {
      "cell_type": "code",
      "metadata": {
        "id": "X3nXaCb5Yvh2"
      },
      "source": [
        "# TSNE NÃO É PARAMÉTRICO, SIGNIFICA QUE NÃO PODEMOS APLICAR \n",
        "# ELE A CONJUNTOS DE TREINAMENTO E TESTE!"
      ],
      "execution_count": 149,
      "outputs": []
    },
    {
      "cell_type": "code",
      "metadata": {
        "id": "elxdLgrWZXfn"
      },
      "source": [
        "# paired t-test \n",
        "from scipy.stats import ttest_rel\n",
        "# unpaired t-test\n",
        "from scipy.stats import ttest_ind\n",
        "# non-parametric\n",
        "# wilcoxon test (paired)\n",
        "from scipy.stats import wilcoxon\n",
        "# mann-whitney u test (unpaired)\n",
        "from scipy.stats import mannwhitneyu"
      ],
      "execution_count": 150,
      "outputs": []
    },
    {
      "cell_type": "code",
      "metadata": {
        "id": "3m4meSSqZvsF"
      },
      "source": [
        "# criar uma base de dados\n",
        "from sklearn.datasets import make_classification\n",
        "X, y = make_classification(n_samples=10000, n_features=50, \n",
        "                           n_informative=5, n_redundant=5, \n",
        "                           n_repeated=5, n_classes=3)"
      ],
      "execution_count": 151,
      "outputs": []
    },
    {
      "cell_type": "code",
      "metadata": {
        "id": "XyuUWRFWajkp"
      },
      "source": [
        "# definir classificadores\n",
        "from sklearn.linear_model import LogisticRegression\n",
        "from sklearn.tree import DecisionTreeClassifier\n",
        "from sklearn.neighbors import KNeighborsClassifier\n",
        "\n",
        "lr = LogisticRegression(max_iter=1000)\n",
        "dt = DecisionTreeClassifier()\n",
        "knn = KNeighborsClassifier(n_neighbors=3)"
      ],
      "execution_count": 152,
      "outputs": []
    },
    {
      "cell_type": "code",
      "metadata": {
        "colab": {
          "base_uri": "https://localhost:8080/"
        },
        "id": "5SUfoc1ybGsb",
        "outputId": "368839b3-d583-48de-9de3-a2cf7513faa1"
      },
      "source": [
        "from sklearn.model_selection import StratifiedKFold\n",
        "from sklearn.metrics import accuracy_score\n",
        "\n",
        "skf = StratifiedKFold(n_splits=10, shuffle=True, random_state=101)\n",
        "\n",
        "resultados = pd.DataFrame(columns=['lr', 'dt', 'knn'])\n",
        "\n",
        "for train_index, test_index in skf.split(X, y):\n",
        "  # separacao de dados\n",
        "  X_train, y_train = X[train_index], y[train_index]\n",
        "  X_test, y_test = X[test_index], y[test_index]\n",
        "\n",
        "  # treino dos classificadores\n",
        "  lr.fit(X_train, y_train)\n",
        "  dt.fit(X_train, y_train)\n",
        "  knn.fit(X_train, y_train)\n",
        "\n",
        "  # predicoes e estimativa de acuracia\n",
        "  acc_lr = accuracy_score(y_test, lr.predict(X_test))\n",
        "  acc_dt = accuracy_score(y_test, dt.predict(X_test))\n",
        "  acc_knn = accuracy_score(y_test, knn.predict(X_test))\n",
        "\n",
        "  linha = {'lr': acc_lr, 'dt': acc_dt, 'knn': acc_knn}\n",
        "\n",
        "  resultados = resultados.append(linha, ignore_index=True)\n",
        "\n",
        "print(resultados)"
      ],
      "execution_count": 153,
      "outputs": [
        {
          "output_type": "stream",
          "name": "stdout",
          "text": [
            "      lr     dt    knn\n",
            "0  0.701  0.808  0.794\n",
            "1  0.703  0.783  0.748\n",
            "2  0.686  0.814  0.760\n",
            "3  0.692  0.805  0.780\n",
            "4  0.688  0.819  0.761\n",
            "5  0.691  0.819  0.771\n",
            "6  0.695  0.808  0.787\n",
            "7  0.685  0.803  0.765\n",
            "8  0.687  0.794  0.787\n",
            "9  0.704  0.834  0.781\n"
          ]
        }
      ]
    },
    {
      "cell_type": "code",
      "metadata": {
        "id": "OfAwNehSbjfy"
      },
      "source": [
        "# Teste:\n",
        "# 1 - Esse problema é pareado ou não pareado?\n",
        "# R. Como os classificadores foram treinados e testados \n",
        "#    exatamente com os mesmos dados, temos um problema PAREADO!\n",
        "\n",
        "# 2 - Paramétrico ou não paramétrico?\n",
        "# R. Não tenho certeza ou pelo menos não parece ser uma distribuição \n",
        "#    normal/gaussiana, então seguimos com testes não paramétricos!\n",
        "# Dica: KS também serve para saber se os dados seguem uma distribuição gaussiana ou não!"
      ],
      "execution_count": 154,
      "outputs": []
    },
    {
      "cell_type": "code",
      "metadata": {
        "id": "91UAZ-A6ghYe"
      },
      "source": [
        "# H0: Os classificadores se comportam de maneira igual!\n",
        "# H1: Existe diferença significativa entre o comportamento dos classificadores\n",
        "#     Diferença: um método ser melhor ou pior que o outro"
      ],
      "execution_count": 155,
      "outputs": []
    },
    {
      "cell_type": "code",
      "metadata": {
        "colab": {
          "base_uri": "https://localhost:8080/"
        },
        "id": "rYWjIhWdeHNI",
        "outputId": "faf88899-cbc1-45d1-dbed-0964a9b5347f"
      },
      "source": [
        "# Nossa conclusão é que precisamos rodar o teste de Wilcoxon!\n",
        "# LR versus DT (95%)\n",
        "stat, p = wilcoxon(resultados['lr'], resultados['dt'])\n",
        "if p > 0.05:\n",
        "  print('n tem diferença!')\n",
        "else:\n",
        "  print('tenho diferença!')"
      ],
      "execution_count": 156,
      "outputs": [
        {
          "output_type": "stream",
          "name": "stdout",
          "text": [
            "tenho diferença!\n"
          ]
        }
      ]
    },
    {
      "cell_type": "code",
      "metadata": {
        "colab": {
          "base_uri": "https://localhost:8080/"
        },
        "id": "z2cqynTofrEi",
        "outputId": "0597d4a2-1a4f-478c-f37f-eb5ce6a2d60f"
      },
      "source": [
        "# comparando dt versus knn\n",
        "stat, p = wilcoxon(resultados['dt'], resultados['knn'])\n",
        "print(1-p)\n",
        "if p > 0.05:\n",
        "  print('n tem diferença!')\n",
        "else:\n",
        "  print('tenho diferença!')"
      ],
      "execution_count": 157,
      "outputs": [
        {
          "output_type": "stream",
          "name": "stdout",
          "text": [
            "0.9949379678737321\n",
            "tenho diferença!\n"
          ]
        }
      ]
    },
    {
      "cell_type": "markdown",
      "metadata": {
        "id": "_JjwgrKVlkYQ"
      },
      "source": [
        "### Friedman + Nemenyi"
      ]
    },
    {
      "cell_type": "code",
      "metadata": {
        "colab": {
          "base_uri": "https://localhost:8080/"
        },
        "id": "WWIV_ysaf-dk",
        "outputId": "8aa72cd0-7aa4-4ff4-b851-8f7ebb78d9ff"
      },
      "source": [
        "from scipy.stats import friedmanchisquare\n",
        "\n",
        "stat, p = friedmanchisquare(resultados['lr'], resultados['dt'], resultados['knn'])\n",
        "if p > 0.05:\n",
        "  print('n há diferença')\n",
        "else:\n",
        "  print('há diferença, preciso rodar o teste de nemenyi!')"
      ],
      "execution_count": 158,
      "outputs": [
        {
          "output_type": "stream",
          "name": "stdout",
          "text": [
            "há diferença, preciso rodar o teste de nemenyi!\n"
          ]
        }
      ]
    },
    {
      "cell_type": "code",
      "metadata": {
        "colab": {
          "base_uri": "https://localhost:8080/"
        },
        "id": "Gk1gWTKsmN7H",
        "outputId": "a9149a3f-fc5d-4c70-da0e-4dafbda835f6"
      },
      "source": [
        "# Já que temos diferença, precisamos encontrar entre quais métodos!\n",
        "# para isso, aplicaremos o teste de nemenyi!\n",
        "\n",
        "# calculo dos rankings\n",
        "from scipy.stats import rankdata\n",
        "ranking = (resultados * -1).apply(lambda row: rankdata([row['lr'], row['dt'], row['knn']]), axis=1)\n",
        "ranking"
      ],
      "execution_count": 159,
      "outputs": [
        {
          "output_type": "execute_result",
          "data": {
            "text/plain": [
              "0    [3.0, 1.0, 2.0]\n",
              "1    [3.0, 1.0, 2.0]\n",
              "2    [3.0, 1.0, 2.0]\n",
              "3    [3.0, 1.0, 2.0]\n",
              "4    [3.0, 1.0, 2.0]\n",
              "5    [3.0, 1.0, 2.0]\n",
              "6    [3.0, 1.0, 2.0]\n",
              "7    [3.0, 1.0, 2.0]\n",
              "8    [3.0, 1.0, 2.0]\n",
              "9    [3.0, 1.0, 2.0]\n",
              "dtype: object"
            ]
          },
          "metadata": {},
          "execution_count": 159
        }
      ]
    },
    {
      "cell_type": "code",
      "metadata": {
        "colab": {
          "base_uri": "https://localhost:8080/"
        },
        "id": "kV4Tnu0cnHuK",
        "outputId": "5c4a2aad-2635-4a11-809b-e75feeec4b72"
      },
      "source": [
        "!pip install orange3"
      ],
      "execution_count": 160,
      "outputs": [
        {
          "output_type": "stream",
          "name": "stdout",
          "text": [
            "Requirement already satisfied: orange3 in /usr/local/lib/python3.7/dist-packages (3.30.1)\n",
            "Requirement already satisfied: httpx<0.20,>=0.14.0 in /usr/local/lib/python3.7/dist-packages (from orange3) (0.19.0)\n",
            "Requirement already satisfied: openpyxl in /usr/local/lib/python3.7/dist-packages (from orange3) (2.5.9)\n",
            "Requirement already satisfied: scipy>=0.16.1 in /usr/local/lib/python3.7/dist-packages (from orange3) (1.4.1)\n",
            "Requirement already satisfied: matplotlib>=2.0.0 in /usr/local/lib/python3.7/dist-packages (from orange3) (3.2.2)\n",
            "Requirement already satisfied: qtconsole>=4.7.2 in /usr/local/lib/python3.7/dist-packages (from orange3) (5.1.1)\n",
            "Requirement already satisfied: PyQt5!=5.15.1,>=5.12 in /usr/local/lib/python3.7/dist-packages (from orange3) (5.15.5)\n",
            "Requirement already satisfied: baycomp>=1.0.2 in /usr/local/lib/python3.7/dist-packages (from orange3) (1.0.2)\n",
            "Requirement already satisfied: orange-canvas-core<0.2a,>=0.1.21 in /usr/local/lib/python3.7/dist-packages (from orange3) (0.1.22)\n",
            "Requirement already satisfied: chardet>=3.0.2 in /usr/local/lib/python3.7/dist-packages (from orange3) (3.0.4)\n",
            "Requirement already satisfied: keyrings.alt in /usr/local/lib/python3.7/dist-packages (from orange3) (4.1.0)\n",
            "Requirement already satisfied: PyQtWebEngine>=5.12 in /usr/local/lib/python3.7/dist-packages (from orange3) (5.15.5)\n",
            "Requirement already satisfied: networkx in /usr/local/lib/python3.7/dist-packages (from orange3) (2.6.3)\n",
            "Requirement already satisfied: xlsxwriter in /usr/local/lib/python3.7/dist-packages (from orange3) (3.0.1)\n",
            "Requirement already satisfied: pandas>=1.0.0 in /usr/local/lib/python3.7/dist-packages (from orange3) (1.1.5)\n",
            "Requirement already satisfied: joblib>=0.9.4 in /usr/local/lib/python3.7/dist-packages (from orange3) (1.0.1)\n",
            "Requirement already satisfied: serverfiles in /usr/local/lib/python3.7/dist-packages (from orange3) (0.3.1)\n",
            "Requirement already satisfied: AnyQt>=0.0.11 in /usr/local/lib/python3.7/dist-packages (from orange3) (0.0.13)\n",
            "Requirement already satisfied: orange-widget-base>=4.14.0 in /usr/local/lib/python3.7/dist-packages (from orange3) (4.15.0)\n",
            "Requirement already satisfied: pyqtgraph>=0.11.1 in /usr/local/lib/python3.7/dist-packages (from orange3) (0.12.3)\n",
            "Requirement already satisfied: pygments>=2.8.0 in /usr/local/lib/python3.7/dist-packages (from orange3) (2.10.0)\n",
            "Requirement already satisfied: python-louvain>=0.13 in /usr/local/lib/python3.7/dist-packages (from orange3) (0.15)\n",
            "Requirement already satisfied: pyyaml in /usr/local/lib/python3.7/dist-packages (from orange3) (3.13)\n",
            "Requirement already satisfied: keyring in /usr/local/lib/python3.7/dist-packages (from orange3) (23.2.1)\n",
            "Requirement already satisfied: xlrd>=0.9.2 in /usr/local/lib/python3.7/dist-packages (from orange3) (1.1.0)\n",
            "Requirement already satisfied: openTSNE>=0.6.0 in /usr/local/lib/python3.7/dist-packages (from orange3) (0.6.1)\n",
            "Requirement already satisfied: setuptools>=36.3 in /usr/local/lib/python3.7/dist-packages (from orange3) (57.4.0)\n",
            "Requirement already satisfied: bottleneck>=1.0.0 in /usr/local/lib/python3.7/dist-packages (from orange3) (1.3.2)\n",
            "Requirement already satisfied: scikit-learn!=0.23.0,>=0.22.0 in /usr/local/lib/python3.7/dist-packages (from orange3) (0.22.2.post1)\n",
            "Requirement already satisfied: numpy>=1.16.0 in /usr/local/lib/python3.7/dist-packages (from orange3) (1.19.5)\n",
            "Requirement already satisfied: pip>=9.0 in /usr/local/lib/python3.7/dist-packages (from orange3) (21.1.3)\n",
            "Requirement already satisfied: requests in /usr/local/lib/python3.7/dist-packages (from orange3) (2.23.0)\n",
            "Requirement already satisfied: httpcore<0.14.0,>=0.13.3 in /usr/local/lib/python3.7/dist-packages (from httpx<0.20,>=0.14.0->orange3) (0.13.7)\n",
            "Requirement already satisfied: sniffio in /usr/local/lib/python3.7/dist-packages (from httpx<0.20,>=0.14.0->orange3) (1.2.0)\n",
            "Requirement already satisfied: charset-normalizer in /usr/local/lib/python3.7/dist-packages (from httpx<0.20,>=0.14.0->orange3) (2.0.6)\n",
            "Requirement already satisfied: certifi in /usr/local/lib/python3.7/dist-packages (from httpx<0.20,>=0.14.0->orange3) (2021.5.30)\n",
            "Requirement already satisfied: rfc3986[idna2008]<2,>=1.3 in /usr/local/lib/python3.7/dist-packages (from httpx<0.20,>=0.14.0->orange3) (1.5.0)\n",
            "Requirement already satisfied: anyio==3.* in /usr/local/lib/python3.7/dist-packages (from httpcore<0.14.0,>=0.13.3->httpx<0.20,>=0.14.0->orange3) (3.3.4)\n",
            "Requirement already satisfied: h11<0.13,>=0.11 in /usr/local/lib/python3.7/dist-packages (from httpcore<0.14.0,>=0.13.3->httpx<0.20,>=0.14.0->orange3) (0.12.0)\n",
            "Requirement already satisfied: typing-extensions in /usr/local/lib/python3.7/dist-packages (from anyio==3.*->httpcore<0.14.0,>=0.13.3->httpx<0.20,>=0.14.0->orange3) (3.7.4.3)\n",
            "Requirement already satisfied: idna>=2.8 in /usr/local/lib/python3.7/dist-packages (from anyio==3.*->httpcore<0.14.0,>=0.13.3->httpx<0.20,>=0.14.0->orange3) (2.10)\n",
            "Requirement already satisfied: cycler>=0.10 in /usr/local/lib/python3.7/dist-packages (from matplotlib>=2.0.0->orange3) (0.10.0)\n",
            "Requirement already satisfied: python-dateutil>=2.1 in /usr/local/lib/python3.7/dist-packages (from matplotlib>=2.0.0->orange3) (2.8.2)\n",
            "Requirement already satisfied: kiwisolver>=1.0.1 in /usr/local/lib/python3.7/dist-packages (from matplotlib>=2.0.0->orange3) (1.3.2)\n",
            "Requirement already satisfied: pyparsing!=2.0.4,!=2.1.2,!=2.1.6,>=2.0.1 in /usr/local/lib/python3.7/dist-packages (from matplotlib>=2.0.0->orange3) (2.4.7)\n",
            "Requirement already satisfied: six in /usr/local/lib/python3.7/dist-packages (from cycler>=0.10->matplotlib>=2.0.0->orange3) (1.15.0)\n",
            "Requirement already satisfied: importlib-metadata in /usr/local/lib/python3.7/dist-packages (from orange-canvas-core<0.2a,>=0.1.21->orange3) (4.8.1)\n",
            "Requirement already satisfied: docutils in /usr/local/lib/python3.7/dist-packages (from orange-canvas-core<0.2a,>=0.1.21->orange3) (0.17.1)\n",
            "Requirement already satisfied: dictdiffer in /usr/local/lib/python3.7/dist-packages (from orange-canvas-core<0.2a,>=0.1.21->orange3) (0.9.0)\n",
            "Requirement already satisfied: cachecontrol[filecache] in /usr/local/lib/python3.7/dist-packages (from orange-canvas-core<0.2a,>=0.1.21->orange3) (0.12.6)\n",
            "Requirement already satisfied: qasync in /usr/local/lib/python3.7/dist-packages (from orange-canvas-core<0.2a,>=0.1.21->orange3) (0.22.0)\n",
            "Requirement already satisfied: commonmark>=0.8.1 in /usr/local/lib/python3.7/dist-packages (from orange-canvas-core<0.2a,>=0.1.21->orange3) (0.9.1)\n",
            "Requirement already satisfied: pytz>=2017.2 in /usr/local/lib/python3.7/dist-packages (from pandas>=1.0.0->orange3) (2018.9)\n",
            "Requirement already satisfied: PyQt5-sip<13,>=12.8 in /usr/local/lib/python3.7/dist-packages (from PyQt5!=5.15.1,>=5.12->orange3) (12.9.0)\n",
            "Requirement already satisfied: PyQt5-Qt5>=5.15.2 in /usr/local/lib/python3.7/dist-packages (from PyQt5!=5.15.1,>=5.12->orange3) (5.15.2)\n",
            "Requirement already satisfied: PyQtWebEngine-Qt5>=5.15.2 in /usr/local/lib/python3.7/dist-packages (from PyQtWebEngine>=5.12->orange3) (5.15.2)\n",
            "Requirement already satisfied: qtpy in /usr/local/lib/python3.7/dist-packages (from qtconsole>=4.7.2->orange3) (1.11.2)\n",
            "Requirement already satisfied: ipykernel>=4.1 in /usr/local/lib/python3.7/dist-packages (from qtconsole>=4.7.2->orange3) (4.10.1)\n",
            "Requirement already satisfied: pyzmq>=17.1 in /usr/local/lib/python3.7/dist-packages (from qtconsole>=4.7.2->orange3) (22.3.0)\n",
            "Requirement already satisfied: jupyter-client>=4.1 in /usr/local/lib/python3.7/dist-packages (from qtconsole>=4.7.2->orange3) (5.3.5)\n",
            "Requirement already satisfied: ipython-genutils in /usr/local/lib/python3.7/dist-packages (from qtconsole>=4.7.2->orange3) (0.2.0)\n",
            "Requirement already satisfied: jupyter-core in /usr/local/lib/python3.7/dist-packages (from qtconsole>=4.7.2->orange3) (4.8.1)\n",
            "Requirement already satisfied: traitlets in /usr/local/lib/python3.7/dist-packages (from qtconsole>=4.7.2->orange3) (5.1.0)\n",
            "Requirement already satisfied: ipython>=4.0.0 in /usr/local/lib/python3.7/dist-packages (from ipykernel>=4.1->qtconsole>=4.7.2->orange3) (5.5.0)\n",
            "Requirement already satisfied: tornado>=4.0 in /usr/local/lib/python3.7/dist-packages (from ipykernel>=4.1->qtconsole>=4.7.2->orange3) (5.1.1)\n",
            "Requirement already satisfied: pickleshare in /usr/local/lib/python3.7/dist-packages (from ipython>=4.0.0->ipykernel>=4.1->qtconsole>=4.7.2->orange3) (0.7.5)\n",
            "Requirement already satisfied: prompt-toolkit<2.0.0,>=1.0.4 in /usr/local/lib/python3.7/dist-packages (from ipython>=4.0.0->ipykernel>=4.1->qtconsole>=4.7.2->orange3) (1.0.18)\n",
            "Requirement already satisfied: pexpect in /usr/local/lib/python3.7/dist-packages (from ipython>=4.0.0->ipykernel>=4.1->qtconsole>=4.7.2->orange3) (4.8.0)\n",
            "Requirement already satisfied: simplegeneric>0.8 in /usr/local/lib/python3.7/dist-packages (from ipython>=4.0.0->ipykernel>=4.1->qtconsole>=4.7.2->orange3) (0.8.1)\n",
            "Requirement already satisfied: decorator in /usr/local/lib/python3.7/dist-packages (from ipython>=4.0.0->ipykernel>=4.1->qtconsole>=4.7.2->orange3) (4.4.2)\n",
            "Requirement already satisfied: wcwidth in /usr/local/lib/python3.7/dist-packages (from prompt-toolkit<2.0.0,>=1.0.4->ipython>=4.0.0->ipykernel>=4.1->qtconsole>=4.7.2->orange3) (0.2.5)\n",
            "Requirement already satisfied: msgpack>=0.5.2 in /usr/local/lib/python3.7/dist-packages (from cachecontrol[filecache]->orange-canvas-core<0.2a,>=0.1.21->orange3) (1.0.2)\n",
            "Requirement already satisfied: lockfile>=0.9 in /usr/local/lib/python3.7/dist-packages (from cachecontrol[filecache]->orange-canvas-core<0.2a,>=0.1.21->orange3) (0.12.2)\n",
            "Requirement already satisfied: zipp>=0.5 in /usr/local/lib/python3.7/dist-packages (from importlib-metadata->orange-canvas-core<0.2a,>=0.1.21->orange3) (3.6.0)\n",
            "Requirement already satisfied: jeepney>=0.4.2 in /usr/local/lib/python3.7/dist-packages (from keyring->orange3) (0.7.1)\n",
            "Requirement already satisfied: SecretStorage>=3.2 in /usr/local/lib/python3.7/dist-packages (from keyring->orange3) (3.3.1)\n",
            "Requirement already satisfied: cryptography>=2.0 in /usr/local/lib/python3.7/dist-packages (from SecretStorage>=3.2->keyring->orange3) (35.0.0)\n",
            "Requirement already satisfied: cffi>=1.12 in /usr/local/lib/python3.7/dist-packages (from cryptography>=2.0->SecretStorage>=3.2->keyring->orange3) (1.14.6)\n",
            "Requirement already satisfied: pycparser in /usr/local/lib/python3.7/dist-packages (from cffi>=1.12->cryptography>=2.0->SecretStorage>=3.2->keyring->orange3) (2.20)\n",
            "Requirement already satisfied: jdcal in /usr/local/lib/python3.7/dist-packages (from openpyxl->orange3) (1.4.1)\n",
            "Requirement already satisfied: et-xmlfile in /usr/local/lib/python3.7/dist-packages (from openpyxl->orange3) (1.1.0)\n",
            "Requirement already satisfied: ptyprocess>=0.5 in /usr/local/lib/python3.7/dist-packages (from pexpect->ipython>=4.0.0->ipykernel>=4.1->qtconsole>=4.7.2->orange3) (0.7.0)\n",
            "Requirement already satisfied: urllib3!=1.25.0,!=1.25.1,<1.26,>=1.21.1 in /usr/local/lib/python3.7/dist-packages (from requests->orange3) (1.24.3)\n"
          ]
        }
      ]
    },
    {
      "cell_type": "code",
      "metadata": {
        "colab": {
          "base_uri": "https://localhost:8080/",
          "height": 153
        },
        "id": "5Czm4IjSn-Ye",
        "outputId": "dcea49a5-9e6e-4945-b0d5-d6eb3262cffa"
      },
      "source": [
        "import Orange\n",
        "names = resultados.columns.values\n",
        "avranks = ranking.mean() # calculando ranking medio de cada metodo (coluna)\n",
        "cd = Orange.evaluation.compute_CD(avranks, len(ranking), alpha=\"0.1\")\n",
        "Orange.evaluation.graph_ranks(avranks, names, cd=cd, width=6, textspace=1.5)\n",
        "plt.show()\n",
        "print(cd)"
      ],
      "execution_count": 161,
      "outputs": [
        {
          "output_type": "display_data",
          "data": {
            "image/png": "[encoded data removed]",
            "text/plain": [
              "<Figure size 432x104.4 with 1 Axes>"
            ]
          },
          "metadata": {}
        },
        {
          "output_type": "stream",
          "name": "stdout",
          "text": [
            "0.9178133315493953\n"
          ]
        }
      ]
    }
  ]
}