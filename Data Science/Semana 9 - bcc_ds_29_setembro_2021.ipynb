{
  "nbformat": 4,
  "nbformat_minor": 0,
  "metadata": {
    "colab": {
      "name": "bcc_ds_29_setembro_2021.ipynb",
      "provenance": [],
      "collapsed_sections": []
    },
    "kernelspec": {
      "name": "python3",
      "display_name": "Python 3"
    },
    "language_info": {
      "name": "python"
    }
  },
  "cells": [
    {
      "cell_type": "code",
      "metadata": {
        "colab": {
          "base_uri": "https://localhost:8080/"
        },
        "id": "4Q-AOlYzQKNk",
        "outputId": "1bbbdb40-a1a0-4596-daca-f3d4486f9e9f"
      },
      "source": [
        "!pip install imblearn"
      ],
      "execution_count": 1,
      "outputs": [
        {
          "output_type": "stream",
          "name": "stdout",
          "text": [
            "Requirement already satisfied: imblearn in /usr/local/lib/python3.7/dist-packages (0.0)\n",
            "Requirement already satisfied: imbalanced-learn in /usr/local/lib/python3.7/dist-packages (from imblearn) (0.4.3)\n",
            "Requirement already satisfied: scikit-learn>=0.20 in /usr/local/lib/python3.7/dist-packages (from imbalanced-learn->imblearn) (0.22.2.post1)\n",
            "Requirement already satisfied: numpy>=1.8.2 in /usr/local/lib/python3.7/dist-packages (from imbalanced-learn->imblearn) (1.19.5)\n",
            "Requirement already satisfied: scipy>=0.13.3 in /usr/local/lib/python3.7/dist-packages (from imbalanced-learn->imblearn) (1.4.1)\n",
            "Requirement already satisfied: joblib>=0.11 in /usr/local/lib/python3.7/dist-packages (from scikit-learn>=0.20->imbalanced-learn->imblearn) (1.0.1)\n"
          ]
        }
      ]
    },
    {
      "cell_type": "code",
      "metadata": {
        "id": "apTzo5SvQXxt"
      },
      "source": [
        "import pandas as pd\n",
        "import matplotlib.pyplot as plt\n",
        "import seaborn as sns"
      ],
      "execution_count": 2,
      "outputs": []
    },
    {
      "cell_type": "code",
      "metadata": {
        "id": "nyLgVH1kQp9F"
      },
      "source": [
        "df = pd.read_csv('http://www.ppgia.pucpr.br/~jean.barddal/datascience/imbalanced.csv')"
      ],
      "execution_count": 3,
      "outputs": []
    },
    {
      "cell_type": "code",
      "metadata": {
        "colab": {
          "base_uri": "https://localhost:8080/",
          "height": 143
        },
        "id": "nr9XeCU1Qwo7",
        "outputId": "63cd231c-537d-45b1-b504-f2169d32b5d6"
      },
      "source": [
        "df.head(3)"
      ],
      "execution_count": 4,
      "outputs": [
        {
          "output_type": "execute_result",
          "data": {
            "text/html": [
              "<div>\n",
              "<style scoped>\n",
              "    .dataframe tbody tr th:only-of-type {\n",
              "        vertical-align: middle;\n",
              "    }\n",
              "\n",
              "    .dataframe tbody tr th {\n",
              "        vertical-align: top;\n",
              "    }\n",
              "\n",
              "    .dataframe thead th {\n",
              "        text-align: right;\n",
              "    }\n",
              "</style>\n",
              "<table border=\"1\" class=\"dataframe\">\n",
              "  <thead>\n",
              "    <tr style=\"text-align: right;\">\n",
              "      <th></th>\n",
              "      <th>attrib1</th>\n",
              "      <th>attrib2</th>\n",
              "      <th>attrib3</th>\n",
              "      <th>class</th>\n",
              "    </tr>\n",
              "  </thead>\n",
              "  <tbody>\n",
              "    <tr>\n",
              "      <th>0</th>\n",
              "      <td>1.595781</td>\n",
              "      <td>5.540723</td>\n",
              "      <td>9.109505</td>\n",
              "      <td>groupA</td>\n",
              "    </tr>\n",
              "    <tr>\n",
              "      <th>1</th>\n",
              "      <td>2.657896</td>\n",
              "      <td>1.166703</td>\n",
              "      <td>1.368305</td>\n",
              "      <td>groupA</td>\n",
              "    </tr>\n",
              "    <tr>\n",
              "      <th>2</th>\n",
              "      <td>0.901466</td>\n",
              "      <td>4.374227</td>\n",
              "      <td>3.207844</td>\n",
              "      <td>groupA</td>\n",
              "    </tr>\n",
              "  </tbody>\n",
              "</table>\n",
              "</div>"
            ],
            "text/plain": [
              "    attrib1   attrib2   attrib3   class\n",
              "0  1.595781  5.540723  9.109505  groupA\n",
              "1  2.657896  1.166703  1.368305  groupA\n",
              "2  0.901466  4.374227  3.207844  groupA"
            ]
          },
          "metadata": {},
          "execution_count": 4
        }
      ]
    },
    {
      "cell_type": "code",
      "metadata": {
        "colab": {
          "base_uri": "https://localhost:8080/"
        },
        "id": "ZIIjcZVUQxGN",
        "outputId": "f035360a-b495-4380-99f3-f120e968aa26"
      },
      "source": [
        "# analisar o desbalanceamento\n",
        "df['class'].value_counts() / len(df)"
      ],
      "execution_count": 6,
      "outputs": [
        {
          "output_type": "execute_result",
          "data": {
            "text/plain": [
              "groupA    0.902\n",
              "groupB    0.098\n",
              "Name: class, dtype: float64"
            ]
          },
          "metadata": {},
          "execution_count": 6
        }
      ]
    },
    {
      "cell_type": "code",
      "metadata": {
        "id": "twPmWCDJRBe5"
      },
      "source": [
        "# dividir a base em treinamento e teste\n",
        "from sklearn.model_selection import train_test_split\n",
        "X, y = df.drop('class', axis=1), df['class']\n",
        "X_train, X_test, y_train, y_test = train_test_split(X, y, test_size=0.3)"
      ],
      "execution_count": 8,
      "outputs": []
    },
    {
      "cell_type": "code",
      "metadata": {
        "id": "6WdDogNyRiiu"
      },
      "source": [
        "# Criar um modelo para verificar o comportamento antes de qualquer pre-processamento\n",
        "from sklearn.linear_model import LogisticRegression\n",
        "from sklearn.metrics import accuracy_score\n",
        "from sklearn.metrics import classification_report\n",
        "from sklearn.metrics import confusion_matrix"
      ],
      "execution_count": 15,
      "outputs": []
    },
    {
      "cell_type": "code",
      "metadata": {
        "colab": {
          "base_uri": "https://localhost:8080/"
        },
        "id": "sX9ynzyBSZBH",
        "outputId": "56a6e0f9-be98-400a-92a2-07beb2e1f4c5"
      },
      "source": [
        "lr = LogisticRegression(max_iter=1000)\n",
        "lr.fit(X_train, y_train)"
      ],
      "execution_count": 10,
      "outputs": [
        {
          "output_type": "execute_result",
          "data": {
            "text/plain": [
              "LogisticRegression(C=1.0, class_weight=None, dual=False, fit_intercept=True,\n",
              "                   intercept_scaling=1, l1_ratio=None, max_iter=1000,\n",
              "                   multi_class='auto', n_jobs=None, penalty='l2',\n",
              "                   random_state=None, solver='lbfgs', tol=0.0001, verbose=0,\n",
              "                   warm_start=False)"
            ]
          },
          "metadata": {},
          "execution_count": 10
        }
      ]
    },
    {
      "cell_type": "code",
      "metadata": {
        "colab": {
          "base_uri": "https://localhost:8080/"
        },
        "id": "fKa0JYp0SecK",
        "outputId": "5a071352-6f9e-4b66-d304-cda480b310d6"
      },
      "source": [
        "# aplicando o modelo nos dados de teste\n",
        "y_pred = lr.predict(X_test)\n",
        "accuracy_score(y_test, y_pred)"
      ],
      "execution_count": 11,
      "outputs": [
        {
          "output_type": "execute_result",
          "data": {
            "text/plain": [
              "0.9966666666666667"
            ]
          },
          "metadata": {},
          "execution_count": 11
        }
      ]
    },
    {
      "cell_type": "code",
      "metadata": {
        "colab": {
          "base_uri": "https://localhost:8080/"
        },
        "id": "4vcdiikMS0Rs",
        "outputId": "f5577591-93ea-4d00-aeb0-3c53800c1120"
      },
      "source": [
        "print(classification_report(y_test, y_pred))\n",
        "# support: quantos exemplos/instancias temos de cada classe nos dados de teste\n",
        "# precision: nos dá uma ideia de confiabilidade do modelo para aquela classe\n",
        "#            de todos os casos que o modelo previu como sendo de uma classe, quantos de fato eram\n",
        "# recall: nos dá uma ideia de \"abrangencia\" do modelo\n",
        "#          de todos as instancias de uma classe, quantas o modelo conseguiu prever como sendo daquela classe"
      ],
      "execution_count": 14,
      "outputs": [
        {
          "output_type": "stream",
          "name": "stdout",
          "text": [
            "              precision    recall  f1-score   support\n",
            "\n",
            "      groupA       1.00      1.00      1.00       268\n",
            "      groupB       1.00      0.97      0.98        32\n",
            "\n",
            "    accuracy                           1.00       300\n",
            "   macro avg       1.00      0.98      0.99       300\n",
            "weighted avg       1.00      1.00      1.00       300\n",
            "\n"
          ]
        }
      ]
    },
    {
      "cell_type": "code",
      "metadata": {
        "colab": {
          "base_uri": "https://localhost:8080/"
        },
        "id": "M2kAG1e6TJQs",
        "outputId": "8313df7d-5118-4909-e750-dc8bfac81403"
      },
      "source": [
        "confusion_matrix(y_test, y_pred)"
      ],
      "execution_count": 16,
      "outputs": [
        {
          "output_type": "execute_result",
          "data": {
            "text/plain": [
              "array([[268,   0],\n",
              "       [  1,  31]])"
            ]
          },
          "metadata": {},
          "execution_count": 16
        }
      ]
    },
    {
      "cell_type": "code",
      "metadata": {
        "id": "_ZYYn6noVtbp"
      },
      "source": [
        "from imblearn.over_sampling import RandomOverSampler\n",
        "from imblearn.over_sampling import SMOTE\n",
        "from imblearn.under_sampling import RandomUnderSampler\n",
        "from imblearn.under_sampling import NearMiss"
      ],
      "execution_count": 17,
      "outputs": []
    },
    {
      "cell_type": "code",
      "metadata": {
        "id": "QY8-bXj5WqKp"
      },
      "source": [
        "samplers = {'RO': RandomOverSampler(),\n",
        "            'SMOTE': SMOTE(),\n",
        "            'RU': RandomUnderSampler(),\n",
        "            'NM1': NearMiss(version=1),\n",
        "            'NM2': NearMiss(version=2),\n",
        "            'NM3': NearMiss(version=3)}"
      ],
      "execution_count": 18,
      "outputs": []
    },
    {
      "cell_type": "code",
      "metadata": {
        "colab": {
          "base_uri": "https://localhost:8080/"
        },
        "id": "ikAH2PrxXckl",
        "outputId": "ef12e16d-b11f-4bb0-8f5d-e3fd64e3a318"
      },
      "source": [
        "for nome, sampler in samplers.items():\n",
        "  # aplicar a tecnica APENAS NOS DADOS DE TREINO!\n",
        "  X_sampled, y_sampled = sampler.fit_resample(X_train, y_train)\n",
        "  # verificar o percentual das classes\n",
        "  print(nome)\n",
        "  print(pd.Series(y_sampled).value_counts() / len(y_sampled))\n",
        "\n",
        "  # treinar o modelo com os dados reamostrados\n",
        "  lr.fit(X_sampled, y_sampled)\n",
        "  y_pred = lr.predict(X_test) # DADOS DE TESTE INTACTOS!\n",
        "  print(accuracy_score(y_test, y_pred))\n",
        "  print(classification_report(y_test, y_pred))\n"
      ],
      "execution_count": 19,
      "outputs": [
        {
          "output_type": "stream",
          "name": "stdout",
          "text": [
            "RO\n",
            "groupA    0.5\n",
            "groupB    0.5\n",
            "dtype: float64\n",
            "0.97\n",
            "              precision    recall  f1-score   support\n",
            "\n",
            "      groupA       1.00      0.97      0.98       268\n",
            "      groupB       0.78      1.00      0.88        32\n",
            "\n",
            "    accuracy                           0.97       300\n",
            "   macro avg       0.89      0.98      0.93       300\n",
            "weighted avg       0.98      0.97      0.97       300\n",
            "\n",
            "SMOTE\n",
            "groupA    0.5\n",
            "groupB    0.5\n",
            "dtype: float64\n",
            "1.0\n",
            "              precision    recall  f1-score   support\n",
            "\n",
            "      groupA       1.00      1.00      1.00       268\n",
            "      groupB       1.00      1.00      1.00        32\n",
            "\n",
            "    accuracy                           1.00       300\n",
            "   macro avg       1.00      1.00      1.00       300\n",
            "weighted avg       1.00      1.00      1.00       300\n",
            "\n",
            "RU\n",
            "groupA    0.5\n",
            "groupB    0.5\n",
            "dtype: float64\n",
            "0.9333333333333333\n",
            "              precision    recall  f1-score   support\n",
            "\n",
            "      groupA       1.00      0.93      0.96       268\n",
            "      groupB       0.62      1.00      0.76        32\n",
            "\n",
            "    accuracy                           0.93       300\n",
            "   macro avg       0.81      0.96      0.86       300\n",
            "weighted avg       0.96      0.93      0.94       300\n",
            "\n",
            "NM1\n",
            "groupA    0.5\n",
            "groupB    0.5\n",
            "dtype: float64\n",
            "0.9966666666666667\n",
            "              precision    recall  f1-score   support\n",
            "\n",
            "      groupA       1.00      1.00      1.00       268\n",
            "      groupB       1.00      0.97      0.98        32\n",
            "\n",
            "    accuracy                           1.00       300\n",
            "   macro avg       1.00      0.98      0.99       300\n",
            "weighted avg       1.00      1.00      1.00       300\n",
            "\n",
            "NM2\n",
            "groupA    0.5\n",
            "groupB    0.5\n",
            "dtype: float64\n",
            "1.0\n",
            "              precision    recall  f1-score   support\n",
            "\n",
            "      groupA       1.00      1.00      1.00       268\n",
            "      groupB       1.00      1.00      1.00        32\n",
            "\n",
            "    accuracy                           1.00       300\n",
            "   macro avg       1.00      1.00      1.00       300\n",
            "weighted avg       1.00      1.00      1.00       300\n",
            "\n",
            "NM3\n",
            "groupA    0.5\n",
            "groupB    0.5\n",
            "dtype: float64\n",
            "0.9966666666666667\n",
            "              precision    recall  f1-score   support\n",
            "\n",
            "      groupA       1.00      1.00      1.00       268\n",
            "      groupB       1.00      0.97      0.98        32\n",
            "\n",
            "    accuracy                           1.00       300\n",
            "   macro avg       1.00      0.98      0.99       300\n",
            "weighted avg       1.00      1.00      1.00       300\n",
            "\n"
          ]
        },
        {
          "output_type": "stream",
          "name": "stderr",
          "text": [
            "/usr/local/lib/python3.7/dist-packages/sklearn/utils/deprecation.py:87: FutureWarning: Function safe_indexing is deprecated; safe_indexing is deprecated in version 0.22 and will be removed in version 0.24.\n",
            "  warnings.warn(msg, category=FutureWarning)\n",
            "/usr/local/lib/python3.7/dist-packages/sklearn/utils/deprecation.py:87: FutureWarning: Function safe_indexing is deprecated; safe_indexing is deprecated in version 0.22 and will be removed in version 0.24.\n",
            "  warnings.warn(msg, category=FutureWarning)\n",
            "/usr/local/lib/python3.7/dist-packages/sklearn/utils/deprecation.py:87: FutureWarning: Function safe_indexing is deprecated; safe_indexing is deprecated in version 0.22 and will be removed in version 0.24.\n",
            "  warnings.warn(msg, category=FutureWarning)\n",
            "/usr/local/lib/python3.7/dist-packages/sklearn/utils/deprecation.py:87: FutureWarning: Function safe_indexing is deprecated; safe_indexing is deprecated in version 0.22 and will be removed in version 0.24.\n",
            "  warnings.warn(msg, category=FutureWarning)\n",
            "/usr/local/lib/python3.7/dist-packages/sklearn/utils/deprecation.py:87: FutureWarning: Function safe_indexing is deprecated; safe_indexing is deprecated in version 0.22 and will be removed in version 0.24.\n",
            "  warnings.warn(msg, category=FutureWarning)\n",
            "/usr/local/lib/python3.7/dist-packages/sklearn/utils/deprecation.py:87: FutureWarning: Function safe_indexing is deprecated; safe_indexing is deprecated in version 0.22 and will be removed in version 0.24.\n",
            "  warnings.warn(msg, category=FutureWarning)\n",
            "/usr/local/lib/python3.7/dist-packages/sklearn/utils/deprecation.py:87: FutureWarning: Function safe_indexing is deprecated; safe_indexing is deprecated in version 0.22 and will be removed in version 0.24.\n",
            "  warnings.warn(msg, category=FutureWarning)\n",
            "/usr/local/lib/python3.7/dist-packages/sklearn/utils/deprecation.py:87: FutureWarning: Function safe_indexing is deprecated; safe_indexing is deprecated in version 0.22 and will be removed in version 0.24.\n",
            "  warnings.warn(msg, category=FutureWarning)\n",
            "/usr/local/lib/python3.7/dist-packages/sklearn/utils/deprecation.py:87: FutureWarning: Function safe_indexing is deprecated; safe_indexing is deprecated in version 0.22 and will be removed in version 0.24.\n",
            "  warnings.warn(msg, category=FutureWarning)\n",
            "/usr/local/lib/python3.7/dist-packages/sklearn/utils/deprecation.py:87: FutureWarning: Function safe_indexing is deprecated; safe_indexing is deprecated in version 0.22 and will be removed in version 0.24.\n",
            "  warnings.warn(msg, category=FutureWarning)\n",
            "/usr/local/lib/python3.7/dist-packages/sklearn/utils/deprecation.py:87: FutureWarning: Function safe_indexing is deprecated; safe_indexing is deprecated in version 0.22 and will be removed in version 0.24.\n",
            "  warnings.warn(msg, category=FutureWarning)\n",
            "/usr/local/lib/python3.7/dist-packages/sklearn/utils/deprecation.py:87: FutureWarning: Function safe_indexing is deprecated; safe_indexing is deprecated in version 0.22 and will be removed in version 0.24.\n",
            "  warnings.warn(msg, category=FutureWarning)\n",
            "/usr/local/lib/python3.7/dist-packages/sklearn/utils/deprecation.py:87: FutureWarning: Function safe_indexing is deprecated; safe_indexing is deprecated in version 0.22 and will be removed in version 0.24.\n",
            "  warnings.warn(msg, category=FutureWarning)\n",
            "/usr/local/lib/python3.7/dist-packages/sklearn/utils/deprecation.py:87: FutureWarning: Function safe_indexing is deprecated; safe_indexing is deprecated in version 0.22 and will be removed in version 0.24.\n",
            "  warnings.warn(msg, category=FutureWarning)\n"
          ]
        }
      ]
    },
    {
      "cell_type": "code",
      "metadata": {
        "id": "8w_elmbmYIFV"
      },
      "source": [
        ""
      ],
      "execution_count": null,
      "outputs": []
    }
  ]
}