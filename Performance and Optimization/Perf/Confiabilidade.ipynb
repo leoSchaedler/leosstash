{
 "cells": [
  {
   "cell_type": "markdown",
   "metadata": {},
   "source": [
    "# Confiabilidade"
   ]
  },
  {
   "cell_type": "markdown",
   "metadata": {},
   "source": [
    "Importar bibliotecas"
   ]
  },
  {
   "cell_type": "code",
   "execution_count": null,
   "metadata": {},
   "outputs": [],
   "source": [
    "import numpy as np\n",
    "import scipy.stats as st\n",
    "from IPython.display import Image, display"
   ]
  },
  {
   "cell_type": "markdown",
   "metadata": {},
   "source": [
    "## Modelo determinístico\n",
    "### Definição\n",
    "* O funcionamento do sistema depende apenas do estado de seus componentes (em funcionamento ou não).\n",
    "* O sistema é composto de $n$ componentes.\n",
    "* Cada componente pode estar em dois estados possíveis, em funcionamento ou em falha<br>.\n",
    "\n",
    "Para indicar que o i-ésimo componente de um sistema está em funcionamento, define-se a variável de estado (determinística):\n",
    "* $x_{i}=1\\text{ (i_ésimo componente está funcionando)}$\n",
    "* $x_{i}=0\\text{ (i_ésimo componente não está funcionando)}$<br><br>\n",
    "\n",
    "### Vetor estado\n",
    "* O vetor $\\textbf{x} = [ x_{0}, ..., x_{n-1}]$ (denominado vetor estado) indica qual dos componentes está funcionando ou em falha.\n",
    "* Cada elemento do vetor estado indica se o componente correspondentes está funcionando ou em falha.<br>\n",
    "\n",
    "### Função estrutura\n",
    "O estado do sistema pode ser determinado pela função estrutura do sistema definida por:\n",
    "* $\\phi\\left( \\textbf{x} \\right) = 1 \\text{ (o sistema está funcionando no estado }\\textbf{x})$\n",
    "* $\\phi\\left( \\textbf{x} \\right) = 0 \\text{ (o sistema não está funcionando no estado }\\textbf{x})$<br><br>\n",
    "\n",
    "### Função estrutura em série\n",
    "Modela um sistema que estará funcionando se todos os seus componentes estiverem funcionando:\n",
    "* $\\phi\\left( \\textbf{x} \\right) = min\\left( \\textbf{x} \\right)=\\prod_{i=0}^{n-1} x_{i}$<br><br>\n",
    "\n",
    "### Função estrutura em paralelo\n",
    "Modela um sistema que estará funcionando se todos os seus componentes estiverem funcionando:\n",
    "* $\\phi\\left( \\textbf{x} \\right) = max\\left( \\textbf{x} \\right)=1=\\prod_{i=0}^{n-i} \\left(1- x_{i} \\right)$<br><br>\n",
    "\n",
    "### Função estrutura $k\\text{-de-}n$\n",
    "Modela um sistema que estará funcionando se pelo menos k dos seus n componentes estiver funcionando:\n",
    "* $\\phi\\left( \\textbf{x} \\right) = 1 \\text{  (se }\\sum_{i=0}^{n-1} x_{i}\\ge k)$<br><br>\n",
    "* $\\phi\\left( \\textbf{x} \\right) = 0 \\text{  (se }\\sum_{i=0}^{n-1} x_{i}< k)$<br><br>\n",
    "\n",
    "As funções estrutura em série e paralelo são casos especiais da função estrutura $k\\text{-de-}n$\n",
    "* A função estrutura em série corresponde à função estrutura $n\\text{-de-}n$\n",
    "* A função estrutura em paralelo corresponde à função estrutura $1\\text{-de-}n$<br><br>"
   ]
  },
  {
   "cell_type": "markdown",
   "metadata": {},
   "source": [
    "## Exemplo 1\n",
    "Considere um sistema composto de 4 componentes, e suponha que ele funciona se e somente se os componentes 1 e 2 estejam ambos funcionando, e pelo menos um dos componentes 3 ou 4, esteja funcionando.\n",
    "* $min\\left( x_{0},x_{1} \\right)=x_{0}.x_{1}$\n",
    "* $max\\left( x_{2},x_{3} \\right)=1-\\left( \\left( 1-x_{2} \\right) \\left( 1-x_{3} \\right)\\right) = x_{2}+x_{3}-x_{2}.x_{3}$\n",
    "* $\\phi\\left( \\left[ x_{0},x_{1} \\right] \\right) = \\left( x_{0},x_{1} \\right)(x_{2}+x_{3}-x_{2}.x_{3})$"
   ]
  },
  {
   "cell_type": "markdown",
   "metadata": {},
   "source": [
    "## Eemplo2\n",
    "Considere um sistema composto de 5 componentes, e suponha que ele funciona se e somente se os componentes 1 e 2 estejam ambos funcionando, e pelo menos dois dos componentes 3, 4, ou 5 estejam funcionando.<br>\n",
    "Temos 2 subsistemas: $s_{1}$ com componentes $c_{1}$ e $c_{2}$, e $s_{2}$ com componentes $c_{3}$, $c_{4}$, $c_{5}$.\n",
    "As variáveis $x_{0}$, $x_{1}$, $x_{2}$, $x_{3}$, $x_{4}$ representam os componentes $c_{1}$, $c_{2}$, $c_{3}$, $c_{4}$,$c_{5}$.<br>\n",
    "Vetor estado $\\boldsymbol{x} = \\begin{bmatrix} x_{0}&  x_{1}&  x_{2}& x_{3}& x_{4}\\end{bmatrix}$.<br>\n",
    "Representar cada subsistema por uma função estrutura:\n",
    "* $s_{1}$: $\\phi_{1}$\n",
    "* $s_{2}$: $\\phi_{2}$"
   ]
  },
  {
   "cell_type": "code",
   "execution_count": null,
   "metadata": {},
   "outputs": [],
   "source": [
    "def fi_1(x):\n",
    "    return np.prod(x)\n",
    "\n",
    "def fi_2(x):\n",
    "    if np.sum(x)>=2:\n",
    "        return 1\n",
    "    return 0\n",
    "\n",
    "def FI(x):\n",
    "    return fi_1(x[0:2])*fi_2(x[2:5])"
   ]
  },
  {
   "cell_type": "code",
   "execution_count": null,
   "metadata": {},
   "outputs": [],
   "source": [
    "# Testar a função para os seguintes valores do vetor estado\n",
    "x1 = np.array([0, 1, 0, 1, 1], dtype=np.float64)\n",
    "print(FI(x1))\n",
    "\n",
    "x2 = np.array([1, 1, 1, 0, 0], dtype=np.float64)\n",
    "print(FI(x2))\n",
    "\n",
    "x3 = np.array([1, 1, 0, 1, 1], dtype=np.float64)\n",
    "print(FI(x3))"
   ]
  },
  {
   "cell_type": "markdown",
   "metadata": {},
   "source": [
    "### Exercício 1\n",
    "Um complexo míssil tem quatro subsistemas: O subsistema de radares, o software embarcado no míssil, o subsistema de controle, e os operadores humanos. O complexo dispõe de um único míssil. O sistema de radar tem quatro radares, dos quais são necessários três para o bom funcionamento do sistema. Há três computadores no subsistema de controle, dos quais basta que um esteja funcionando para o bom funcionamento do sistema. Existem dois operadores humanos, um dos quais deve ser capaz de disparar o míssil. Escreva a função de estrutura para este sistema composto por 10 componentes.<br><br>\n",
    "\n",
    "Representar cada componente por uma variável binária:\n",
    "* $x_{0}$: míssil\n",
    "* $x_{1}, x_{2}, x_{3}, x_{4}$: radares\n",
    "* $x_{5}, x_{6}, x_{7}$: computadores\n",
    "* $x_{8}, x_{9}$: operadores\n",
    "\n",
    "Vetor estado: $\\textbf{x}=\\left[ x_{0},x_{1},x_{2},x_{3},x_{4},x_{5},x_{6},x_{7},x_{8},x_{9} \\right]$<br><br>\n",
    "\n",
    "Representar cada subsistema por uma função estrutura:\n",
    "* Subsistema míssil: $\\varphi_{1}\\left( \\left[ x_{0} \\right] \\right)=x_{0}$\n",
    "* Subsistema radar: $\\varphi_{2}\\left( \\left[ x_{1},x_{2},x_{3},x_{4} \\right] \\right)=\\text{Se }\\left( x_{1}+x_{2}+x_{3}+x_{4} \\ge 3 \\right)\\text{ retorna 1. Senão retorna 0.}$\n",
    "* Subsistema controle: $\\varphi_{3}\\left( \\left[ x_{5},x_{6},x_{7} \\right] \\right)=\\text{Se }\\left( x_{5}+x_{6}+x_{7} \\ge 2 \\right)\\text{ retorna 1. Senão retorna 0.}$\n",
    "* Subsistema operação: $\\varphi_{4}\\left( \\left[ x_{8},x_{9} \\right] \\right)=1-\\left( \\left( 1-x_{8} \\right) \\left( 1-x_{9} \\right)\\right)$<br>\n",
    "\n",
    "Função estrutura do sistema (estrutura em série):\n",
    "* $\\phi\\left( \\textbf{x} \\right)=\\varphi_{1}\\left( \\left[ x_{0} \\right] \\right)\\varphi_{2}\\left( \\left[ x_{1}, x_{2},x_{3}, x_{4}\\right] \\right)\\varphi_{3}\\left( \\left[ x_{5}, x_{6},x_{7}\\right] \\right)\\varphi_{4}\\left( \\left[ x_{8}, x_{9}\\right] \\right)$"
   ]
  },
  {
   "cell_type": "code",
   "execution_count": null,
   "metadata": {},
   "outputs": [],
   "source": [
    "def fi_1(x):\n",
    "    return x\n",
    "\n",
    "import numpy as np\n",
    "def fi_2(x):\n",
    "    return int(np.sum(x)>=3)\n",
    "\n",
    "def fi_3(x):\n",
    "    # Colocar seu código aqui\n",
    "    return 0\n",
    "\n",
    "def fi_4(x):\n",
    "    return (1-((1-x[0])*(1-x[1])))\n",
    "\n",
    "def FI(x):\n",
    "    # Colocar seu código aqui\n",
    "    return 0"
   ]
  },
  {
   "cell_type": "code",
   "execution_count": null,
   "metadata": {},
   "outputs": [],
   "source": [
    "# Testar a função para os seguintes vetor estado\n",
    "x1 = np.array([1,1,1,1,1,1,1,1,1,1], dtype=int)\n",
    "print(FI(x1))\n",
    "\n",
    "x2 = np.array([1,1,0,1,1,1,0,1,1,1], dtype=int)\n",
    "print(FI(x2))\n",
    "\n",
    "x3 = np.array([1,1,0,1,1,1,1,1,1,1], dtype=int)\n",
    "print(FI(x3))\n",
    "\n",
    "x4 = np.array([1,1,0,1,1,1,1,1,0,0], dtype=int)\n",
    "print(FI(x4))"
   ]
  },
  {
   "cell_type": "markdown",
   "metadata": {},
   "source": [
    "## Modelo probabilístico discreto\n",
    "### Definição\n",
    "* O funcionamento do sistema depende apenas do estado de seus componentes (em funcionamento ou não).\n",
    "* O sistema é composto de $n$ componentes.\n",
    "* Cada componente pode estar em dois estados possíveis, em funcionamento ou em falha<br>.\n",
    "\n",
    "* A probabilidade de o sistema estar funcionando depende apenas do conhecimento do estado de seus componentes (funcionando ou não)\n",
    "* O estado do $\\text{i-ésimo}$ componente é registrado na uma variável aleatória de Bernoulli $X_{i}$\n",
    "* $X_{i}=1$ indica que o componente está funcionando\n",
    "* $X_{i} = 0$ indica que o componente não está funcionando \n",
    "* $P[X_{i} = 1] = p_{i}$\n",
    "* $P[X_{i} = 0] = 1-p_{i}$ \n",
    "* $p_{i} \\text{ é a confiabilidade do componente } i$<br>\n",
    "\n",
    "### Função de confiabilidade do sistema\n",
    "* $\\textbf{X}=\\left[ X_{0}... X_{n-1} \\right]$: vetor probabilístico de estado do sistema\n",
    "* $r\\left( \\textbf{X} \\right)=P[\\phi\\left( \\textbf{X} \\right)=1]$: função de confiabilidade do sistema<br>\n",
    "\n",
    "Quando os componentes falham de modo independente, ou seja, quando as variáveis aleatórias $X_{0}, ..., X_{n-1}$ são independentes, podemos expressar a função $r$ como função da confiabilidade dos componentes:\n",
    "* $\\textbf{p}$: vetor de probabilidade de funcionamento do componente $i$\n",
    "* $r\\left( \\textbf{p} \\right)$: função de confiabilidade do componente $i$<br>\n",
    "\n",
    "### Função de confiabilidade em série\n",
    "O sistema está funcionando se todos os seus componentes estiverem funcionando:\n",
    "* $r\\left( \\textbf{p} \\right)=P\\left[ \\phi\\left( \\textbf{X} =1\\right)\\right]=\\prod_{i=0}^{n-1}p_{i}$<br><br>\n",
    "\n",
    "### Função de confiabilidade em paralelo\n",
    "O sistema está funcionando se todos os seus componentes estiverem funcionando:\n",
    "* $r\\left( \\textbf{p} \\right)=P\\left[ \\phi\\left( \\textbf{X} =1\\right)\\right]=1-\\prod_{i=1}^{n}\\left( 1-p_{i} \\right)$<br><br>\n",
    "\n",
    "### Função de confiabilidade $k\\text{-de-}n$\n",
    "O sistema que estará funcionando se pelo menos $k$ dos seus $n$ componentes estiver funcionando:\n",
    "* $r\\left( \\textbf{p} \\right)=P\\left[ \\phi\\left( \\textbf{X} =1\\right)\\right]=P\\left[ \\sum_{i=0}^{n-1} X_{i} \\ge k\\right]$<br><br>"
   ]
  },
  {
   "cell_type": "markdown",
   "metadata": {},
   "source": [
    "## Exemplo 5\n",
    "Função de confiabilidade de um sistema 2-de-3.\n",
    "* $r\\left( \\textbf{p} \\right)=P\\left[ \\phi\\left( \\textbf{X} =1\\right)\\right]=P\\left[ \\sum_{i=0}^{n-1} X_{i} \\ge k\\right]$\n",
    "* $r\\left( \\textbf{p} \\right)=P\\left[ \\textbf{X}=\\left[ 1,1,1 \\right]\\right]+P\\left[ \\textbf{X}=\\left[ 1,1,0 \\right]\\right]+P\\left[ \\textbf{X}=\\left[ 1,0,1 \\right]+P\\left[ \\textbf{X}=\\left[ 0,1,1 \\right]\\right]\\right]$\n",
    "* $r\\left( \\textbf{p} \\right)=p_{0}.p_{1}.p_{2}+p_{0}.p_{1}.\\left( 1-p_{2} \\right)+p_{0}.\\left( 1-p_{1} \\right).p_{2}+\\left( 1-p_{0} \\right).p_{1}.p_{2}$\n",
    "* $r\\left( \\textbf{p} \\right)=p_{0}.p_{1}+p_{0}.p_{2}+p_{1}.p_{2}+2.p_{0}.p_{1}.p_{2}$"
   ]
  },
  {
   "cell_type": "code",
   "execution_count": null,
   "metadata": {},
   "outputs": [],
   "source": [
    "def r(p):\n",
    "    return np.prod(p[0:2]) + (p[0]*p[2]) + np.prod(p[1:3]) - 2*np.prod(p[0:3])"
   ]
  },
  {
   "cell_type": "code",
   "execution_count": null,
   "metadata": {},
   "outputs": [],
   "source": [
    "p = np.array([0.5, 0.8, 0.7], dtype=np.float64)\n",
    "print(r(p))"
   ]
  },
  {
   "cell_type": "markdown",
   "metadata": {},
   "source": [
    "## Modelo probabilístico contínuo (tempo)\n",
    "### Definição\n",
    "* $X_{i} = 1 \\text{ se o componente }i\\text{ estiver funcionando no instante }t$\n",
    "* $X_{i} = 0 \\text{ se o componente }i\\text{ não estiver funcionando no instante }t$<br>\n",
    "* $T_{i} \\text{ é uma variável aleatória com distribuição contínua} F_{Ti}(t)$\n",
    "* $T_{i} \\text{ também é chamada de } TTF_{i}$ (time to failure)"
   ]
  },
  {
   "cell_type": "code",
   "execution_count": null,
   "metadata": {},
   "outputs": [],
   "source": [
    "display(Image('Tempo_para_falhar.jpg'))"
   ]
  },
  {
   "cell_type": "markdown",
   "metadata": {},
   "source": [
    "### Função de confiabilidade do sistema\n",
    "Para um sistema com componentes independentes com tempo de vida $R_{i}(t)$, sua função de confiabilidade é dada por:\n",
    "* $R(t) = P[\\text{tempo para sistema falhar} > t]$<br>\n",
    "\n",
    "### Função de confiabilidade em série\n",
    "* $R(t)=\\prod_{i=0}^{n-1}R_{i}(t)$<br>\n",
    "\n",
    "\n",
    "### Função de confiabilidade em paralelo\n",
    "* $R(t)=1-\\prod_{i=0}^{n-1}\\left( 1-R_{i} (t)\\right)$<br><br>"
   ]
  },
  {
   "cell_type": "markdown",
   "metadata": {},
   "source": [
    "## Exemplo 6\n",
    "Considere que um sistema seja constituído por três componentes montados em série que funcionam independentemente. Para cada um desses componentes, a probabilidade de que uma falha ocorra até o tempo $t$ é dada por $1-e^{0,1t}$ em que $t > 0$. Os componentes, após falharem, são irrecuperáveis. Como os componentes estão montados em série, o sistema falha no instante em que algum os três componentes tiverem falhado. O sistema é também irrecuperável. Considerando a situação apresentada, qual é a probabilidade de que o sistema falhe até o tempo $t$?<br><br>\n",
    "Como os componentes funcionam de forma independente, as variáveis aleatórias que representam o tempo até falhar de cada componente são independentes. Como os componentes estão em série, o sistema falha apenas se algum os componentes falharem, ou seja, a probabilidade é calculada pela função probabilidade acumulada conjunta das três variáveis aleatórias, que é dada (por causa da independência) pelo produto das funções de distribuição acumulada. Cada variável tem função de distribuição acumulada igual a $1-e^{0,1t}$, portanto a função conjunta é $\\left( 1-e^{0,1t} \\right)^{3}$."
   ]
  },
  {
   "cell_type": "code",
   "execution_count": null,
   "metadata": {},
   "outputs": [],
   "source": [
    "def R(t):\n",
    "    return st.expon.cdf(t,0,10)**3\n",
    "\n",
    "R(10.0)"
   ]
  },
  {
   "cell_type": "markdown",
   "metadata": {},
   "source": [
    "## Exercício 2\n",
    "Considere que um sistema seja constituído por três componentes montados em paralelo que funcionam independentemente. Para cada um desses componentes, a probabilidade de que uma falha ocorra até o tempo $t$ é dada por $1-e^{0,1t}$ em que $t > 0$. Os componentes, após falharem, são irrecuperáveis. Como os componentes estão montados em paralelo, o sistema falha no instante os três componentes tiverem falhado. O sistema é também irrecuperável. Considerando a situação apresentada, qual é a probabilidade de que o sistema falhe até o tempo $t$?<br><br>\n",
    "Como os componentes funcionam de forma independente, as variáveis aleatórias que representam o tempo até falhar de cada componente são independentes. Como os componentes estão em paralelo, o sistema falha apenas se todos os componentes falharem, ou seja, a probabilidade é calculada pela função probabilidade acumulada conforme a equação da função de confiabilidade em paralelo.<br><br>\n",
    "Cada variável tem função de distribuição acumulada igual a $1-e^{0,1t}$, portanto a função conjunta é $1-\\left( 1-e^{0,1t} \\right)^{3}$."
   ]
  },
  {
   "cell_type": "code",
   "execution_count": null,
   "metadata": {},
   "outputs": [],
   "source": [
    "def R(t):\n",
    "    # Coloque seu código aqui\n",
    "    return 0\n",
    "\n",
    "R(10.0)"
   ]
  },
  {
   "cell_type": "markdown",
   "metadata": {},
   "source": [
    "## Disponibilidade\n",
    "Disponibilidade (A) é a proporção de tempo que o sistema funciona.<br><br>\n",
    "\n",
    "O cálculo da disponibilidade de múltiplos componentes é feito pela composição destes em série e/ou paralelo.<br><br>\n",
    "Componentes em série: o sistema falha se algum componente falhar:\n",
    "* $A=\\prod_{i=0}^{n-1} A_{i}$\n",
    "\n",
    "Componentes em paralelo: o sistema falha se todos os componente falharem:\n",
    "* $A=1-\\prod_{i=0}^{n-1} \\left( 1-A_{i} \\right)$\n"
   ]
  },
  {
   "cell_type": "markdown",
   "metadata": {},
   "source": [
    "## Exemplo 7\n",
    "Uma caminho protegido em uma rede de comunicação, iniciado no nó-origem e terminando no nó-destino, é formado por um caminho de serviço e um caminho de proteção. Cada um dos caminhos (serviço e proteção) é considerado um componente da conexão. Se pelo menos um dos caminhos estiver ativo, a conexão estará em operação. Se a disponibilidade do caminho de serviço é A1 e a disponibilidade do caminho de proteção é A2, a disponibilidade da conexão será dada por:\n",
    "* $A=1-\\prod_{i=0}^{n-1} \\left( 1-A_{i} \\right)$\n",
    "* $A=A_{1}+A_{2}-A_{1}.A_{2}$"
   ]
  },
  {
   "cell_type": "markdown",
   "metadata": {},
   "source": [
    "## Exercício 3\n",
    "Seja um sistema com 5 componentes que funciona somente se seus componentes 1 e 2 funcionam juntamente com pelo menos 1 dos demais componentes.<br><br>\n",
    "Calcular a disponibilidade do sistema para os seguintes casos: \n",
    "* A1 = 0,9, A2 = 0,8, A3 = 0,85, A4 = 0,80, A5 = 0,9\n",
    "* A1 = 0,92, A2 = 0,94, A3 = 0,85, A4 = 0,95, A5 = 0,9\n",
    "* A1 = 0,8, A2 = 0,99, A3 = 0,7, A4 = 0,85, A5 = 0,8"
   ]
  },
  {
   "cell_type": "code",
   "execution_count": null,
   "metadata": {},
   "outputs": [],
   "source": [
    "display(Image('Confiabilidade_Imagem.jpg'))"
   ]
  },
  {
   "cell_type": "code",
   "execution_count": null,
   "metadata": {},
   "outputs": [],
   "source": [
    "# função de disponibilidade\n",
    "def disp(A):\n",
    "    return A[0]*A[1]*(1-((1-A[2])*(1-A[3])* (1-A[4])))"
   ]
  },
  {
   "cell_type": "code",
   "execution_count": null,
   "metadata": {},
   "outputs": [],
   "source": [
    "# Caso 1\n",
    "A1 = 0.9\n",
    "A2 = 0.8\n",
    "A3 = 0.85\n",
    "A4 = 0.80\n",
    "A5 = 0.9\n",
    "\n",
    "print(disp([A1,A2,A3,A4,A5]))"
   ]
  },
  {
   "cell_type": "code",
   "execution_count": null,
   "metadata": {},
   "outputs": [],
   "source": [
    "# Caso 2\n"
   ]
  },
  {
   "cell_type": "code",
   "execution_count": null,
   "metadata": {},
   "outputs": [],
   "source": [
    "# Caso 3\n"
   ]
  },
  {
   "cell_type": "code",
   "execution_count": null,
   "metadata": {},
   "outputs": [],
   "source": []
  }
 ],
 "metadata": {
  "kernelspec": {
   "display_name": "Python 3",
   "language": "python",
   "name": "python3"
  },
  "language_info": {
   "codemirror_mode": {
    "name": "ipython",
    "version": 3
   },
   "file_extension": ".py",
   "mimetype": "text/x-python",
   "name": "python",
   "nbconvert_exporter": "python",
   "pygments_lexer": "ipython3",
   "version": "3.8.3"
  }
 },
 "nbformat": 4,
 "nbformat_minor": 4
}
