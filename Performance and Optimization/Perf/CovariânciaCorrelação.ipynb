{
 "cells": [
  {
   "cell_type": "markdown",
   "metadata": {},
   "source": [
    "# Covariância e correlação\n",
    "\n",
    "\n",
    "Vamos usar as bibliotecas $numpy$ e $time$."
   ]
  },
  {
   "cell_type": "code",
   "execution_count": 1,
   "metadata": {},
   "outputs": [],
   "source": [
    "import numpy as np\n",
    "import pandas as pd"
   ]
  },
  {
   "cell_type": "markdown",
   "metadata": {},
   "source": [
    "## Covariância\n",
    "Descreve o grau de relacionamento linear entre duas variáveis aleatórias.\n",
    "* $COV[X,Y]=E[X\\cdot Y]-E[X]\\cdot E[Y]$<br>\n",
    "\n",
    "Valor da covariância\n",
    "* Cresce com a força do relacionamento linear\n",
    "* É difícil fazer julgamentos sobre o força do relacionamento observando a covariância porque ela não é uma medida padronizada\n",
    "\n",
    "\n",
    "Sinal na covariância\n",
    "* Indica a direção do relacionamento linear\n",
    "* Sinal positivo: variam na mesma direção\n",
    "* Sinal negativo: variam em direções opostas<br>\n",
    "\n",
    "A covariância entre as variáveis $X_{1}, X_{1}, ..., X_{n}$ é dada pela matriz cujo elemento $(i, j)$ é $COV(X_{i},X_{j})$.<br>\n",
    "A covariância entre um elemento $X_{i}$ e ele mesmo é a sua variância e forma a diagonal principal da matriz.<br>\n",
    "\n",
    "$\\Sigma = \\begin{bmatrix}\n",
    "COV[X_{1},X_{1}] & COV[X_{1},X_{2}] & \\cdots  & COV[X_{1},X_{n}]\\\\ \n",
    "COV[X_{2},X_{1}] & COV[X_{2},X_{2}] & \\cdots  & COV[X_{2},X_{n}]\\\\\n",
    "\\vdots & \\ddots & \\ddots & \\vdots \\\\\n",
    "COV[X_{3},X_{1}] & COV[X_{3},X_{2}] & \\cdots  & COV[X_{3},X_{n}]\n",
    "\\end{bmatrix}$"
   ]
  },
  {
   "cell_type": "code",
   "execution_count": 2,
   "metadata": {},
   "outputs": [
    {
     "name": "stdout",
     "output_type": "stream",
     "text": [
      "          V1        V2         V3        V4\n",
      "0  38.793707  2.394610   4.771743  0.425009\n",
      "1  17.329355  3.459197   5.280938  0.568836\n",
      "2  15.265747  4.330490  11.583133  0.888388\n",
      "3  33.475601  2.617525   9.724039  0.841919\n",
      "4  24.286244  5.093494   6.904809  0.747310\n"
     ]
    }
   ],
   "source": [
    "# Ler dados\n",
    "DadosDataCenter = pd.read_csv('./DadosDataCenter.csv')\n",
    "print(DadosDataCenter.head(5))"
   ]
  },
  {
   "cell_type": "code",
   "execution_count": 3,
   "metadata": {},
   "outputs": [
    {
     "name": "stdout",
     "output_type": "stream",
     "text": [
      "            V1        V2        V3        V4\n",
      "V1   89.563408 -5.039661  1.520156  0.351915\n",
      " V2  -5.039661  1.372982  0.463601  0.042089\n",
      " V3   1.520156  0.463601  7.141279  0.385457\n",
      " V4   0.351915  0.042089  0.385457  0.030950\n"
     ]
    }
   ],
   "source": [
    "SIGMA = DadosDataCenter.cov()\n",
    "print(SIGMA)"
   ]
  },
  {
   "cell_type": "code",
   "execution_count": 4,
   "metadata": {},
   "outputs": [],
   "source": [
    "sigma = SIGMA.to_numpy()"
   ]
  },
  {
   "cell_type": "code",
   "execution_count": 5,
   "metadata": {},
   "outputs": [
    {
     "name": "stdout",
     "output_type": "stream",
     "text": [
      "[[ 8.95634081e+01 -5.03966114e+00  1.52015637e+00  3.51915201e-01]\n",
      " [-5.03966114e+00  1.37298158e+00  4.63601104e-01  4.20892797e-02]\n",
      " [ 1.52015637e+00  4.63601104e-01  7.14127859e+00  3.85457111e-01]\n",
      " [ 3.51915201e-01  4.20892797e-02  3.85457111e-01  3.09498140e-02]]\n"
     ]
    }
   ],
   "source": [
    "print(sigma)"
   ]
  },
  {
   "cell_type": "code",
   "execution_count": null,
   "metadata": {},
   "outputs": [],
   "source": []
  }
 ],
 "metadata": {
  "kernelspec": {
   "display_name": "Python 3",
   "language": "python",
   "name": "python3"
  },
  "language_info": {
   "codemirror_mode": {
    "name": "ipython",
    "version": 3
   },
   "file_extension": ".py",
   "mimetype": "text/x-python",
   "name": "python",
   "nbconvert_exporter": "python",
   "pygments_lexer": "ipython3",
   "version": "3.8.3"
  }
 },
 "nbformat": 4,
 "nbformat_minor": 4
}
