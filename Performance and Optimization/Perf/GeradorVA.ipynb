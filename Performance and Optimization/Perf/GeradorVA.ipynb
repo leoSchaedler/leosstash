{
 "cells": [
  {
   "cell_type": "markdown",
   "metadata": {},
   "source": [
    "## Geração de variáveis aleatórias\n",
    "Dada uma variável aleatória X com função distribuição acumulada $F_{X}(x)$.\n",
    "* Usar o gerador de números aleatórios para produzir uma sequência de números aleatórios $u_{0}, u_{1},\\cdots, u_{n}$ uniformemente distribuídos entre 0 e 1\n",
    "* Calcular a sequência $x_{0}, x_{1},\\cdots, x_{n}$ onde $x_{i} = F{_{X}}^{-1}(x)$"
   ]
  },
  {
   "cell_type": "markdown",
   "metadata": {},
   "source": [
    "Importar bibliotecas."
   ]
  },
  {
   "cell_type": "code",
   "execution_count": null,
   "metadata": {},
   "outputs": [],
   "source": [
    "import numpy as np\n",
    "import random\n",
    "import matplotlib.pyplot as plt\n",
    "import scipy.stats as st"
   ]
  },
  {
   "cell_type": "markdown",
   "metadata": {},
   "source": [
    "## Geométrica\n",
    "### Função geom.rvs\n",
    "A biblioteca scipy fornece a função geradora de variáveis aleatórias geométricas $geom.rvs$.<br>\n",
    "O código a seguir plota a pdf junto com um histograma com valores gerados pela função $geom.rvs$."
   ]
  },
  {
   "cell_type": "code",
   "execution_count": null,
   "metadata": {},
   "outputs": [],
   "source": [
    "# Escolher p\n",
    "p = 0.5\n",
    "\n",
    "# Plotar\n",
    "fig, ax = plt.subplots(1, 1)\n",
    "a = st.geom.rvs(p, size=10000)  # gera 10.000 valores distribuídos geometricamente\n",
    "x = np.unique(a)                # valores únicos para o eixo x\n",
    "ax.plot(x, st.geom.pmf(x, p), 'bo', ms=5, label='geom pmf')                      # valores da pmf no eixo y\n",
    "ax.vlines(x, 0, st.geom.pmf(x, p), colors='k', linestyles='-', lw=1, alpha=0.5)  # linhas verticas para valores da pmf\n",
    "ax.hist(a, bins=x.max(), density=True, histtype='stepfilled',\n",
    "        label='dados', align='left', alpha=0.2)                     # histograma com um intervalo para cada valor em x\n",
    "ax.legend(loc='best', frameon=False)\n",
    "plt.show()"
   ]
  },
  {
   "cell_type": "markdown",
   "metadata": {},
   "source": [
    "### Formativa - função rndgeo\n",
    "A função $rndgeo$ executa o algoritmo da inversa da cdf para gerar números aleatórios distribuídos geometricamente."
   ]
  },
  {
   "cell_type": "code",
   "execution_count": null,
   "metadata": {},
   "outputs": [],
   "source": [
    "# Formativa\n",
    "def rndgeo(p, n):\n",
    "    out = [0 for x in range(n)]\n",
    "    for i in range(n):\n",
    "        # substituir o comando abaixo pelo codigo que gera os valores\n",
    "        # não usar a função ppf para gerar os valores, mas o algoritmo \n",
    "        # apresentado em aula\n",
    "        out[i] = 0\n",
    "    return out"
   ]
  },
  {
   "cell_type": "markdown",
   "metadata": {},
   "source": [
    "O código a seguir plota a pdf junto com um histograma com valores gerados pela função $rndgeo$."
   ]
  },
  {
   "cell_type": "code",
   "execution_count": null,
   "metadata": {},
   "outputs": [],
   "source": [
    "# Escolher p\n",
    "p = 0.5\n",
    "\n",
    "# Plotar\n",
    "fig, ax = plt.subplots(1, 1)\n",
    "a = rndgeo(p, 10000)  # gera 10.000 valores distribuídos geometricamente\n",
    "x = np.unique(a)                # valores únicos para o eixo x\n",
    "ax.plot(x, st.geom.pmf(x, p), 'bo', ms=5, label='geom pmf')                      # valores da pmf no eixo y\n",
    "ax.vlines(x, 0, st.geom.pmf(x, p), colors='k', linestyles='-', lw=1, alpha=0.5)  # linhas verticas para valores da pmf\n",
    "ax.hist(a, bins=x.max(), density=True, histtype='stepfilled',\n",
    "        label='dados', align='left', alpha=0.2)                     # histograma com um intervalo para cada valor em x\n",
    "ax.legend(loc='best', frameon=False)\n",
    "plt.show()"
   ]
  },
  {
   "cell_type": "markdown",
   "metadata": {},
   "source": [
    "## Poisson\n",
    "### Função poisson.rvs\n",
    "A biblioteca scipy fornece a função geradora de variáveis aleatórias com distribuição de Poisson $poisson.rvs$.<br>\n",
    "O código a seguir plota a pdf junto com um histograma com valores gerados pela função $poisson.rvs$."
   ]
  },
  {
   "cell_type": "code",
   "execution_count": null,
   "metadata": {},
   "outputs": [],
   "source": [
    "# Escolher MU\n",
    "MU = 5\n",
    "\n",
    "#Plotar\n",
    "fig, ax = plt.subplots(1, 1)\n",
    "a = st.poisson.rvs(MU, size=10000)\n",
    "x = np.unique(a)\n",
    "\n",
    "ax.plot(x, st.poisson.pmf(x, MU), 'bo', ms=5, label='Poisson pmf')\n",
    "ax.vlines(x, 0, st.poisson.pmf(x, MU), colors='k', linestyles='-', lw=1, alpha=0.5)\n",
    "ax.hist(a, bins=x.max(), density=True, histtype='stepfilled',\n",
    "    label='dados', align='left', alpha=0.2)\n",
    "ax.legend(loc='best', frameon=False)\n",
    "plt.show()"
   ]
  },
  {
   "cell_type": "markdown",
   "metadata": {},
   "source": [
    "### Função rndpoiss\n",
    "Implementar a função $rndpoiss$ para executar o algoritmo da inversa da cdf para gerar números aleatórios distribuídos de acordo com a distribuição de Poisson."
   ]
  },
  {
   "cell_type": "code",
   "execution_count": null,
   "metadata": {},
   "outputs": [],
   "source": [
    "def rndpoiss(L, n):\n",
    "    import random\n",
    "    import numpy as np\n",
    "    out = [0 for x in range(n)]\n",
    "    for i in range(n):\n",
    "        pdf = np.exp(-L)  # pdf(0)\n",
    "        cdf = np.exp(-L)  # cdf(0)\n",
    "        j = 0             # inversa da cdf(0)\n",
    "        u = random.random()\n",
    "        while (cdf<=u):\n",
    "            pdf = pdf * (L / (j + 1))  # próxima pdf\n",
    "            cdf = cdf + pdf            # próxima cdf\n",
    "            j = j + 1                  # próxima inversa da cdf\n",
    "        out[i] = j\n",
    "    return out"
   ]
  },
  {
   "cell_type": "markdown",
   "metadata": {},
   "source": [
    "O código a seguir plota a pdf junto com um histograma com valores gerados pela função $rndpoiss$."
   ]
  },
  {
   "cell_type": "code",
   "execution_count": null,
   "metadata": {},
   "outputs": [],
   "source": [
    "# Escolher MU\n",
    "MU = 5\n",
    "\n",
    "#Plotar\n",
    "fig, ax = plt.subplots(1, 1)\n",
    "a = rndpoiss(MU, 10000)\n",
    "x = np.unique(a)\n",
    "\n",
    "ax.plot(x, st.poisson.pmf(x, MU), 'bo', ms=5, label='Poisson pmf')\n",
    "ax.vlines(x, 0, st.poisson.pmf(x, MU), colors='k', linestyles='-', lw=1, alpha=0.5)\n",
    "ax.hist(a, bins=x.max(), density=True, histtype='stepfilled',\n",
    "    label='dados', align='left', alpha=0.2)\n",
    "ax.legend(loc='best', frameon=False)\n",
    "plt.show()"
   ]
  },
  {
   "cell_type": "markdown",
   "metadata": {},
   "source": [
    "## Exponencial\n",
    "### Função expon.rvs\n",
    "A biblioteca scipy fornece a função geradora de variáveis aleatórias com distribuição exponencial $expon.rvs$.<br>\n",
    "O código a seguir plota a pdf junto com um histograma com valores gerados pela função $expon.rvs$."
   ]
  },
  {
   "cell_type": "code",
   "execution_count": null,
   "metadata": {},
   "outputs": [],
   "source": [
    "# Selecionar início e média\n",
    "inicio = 0\n",
    "media = 5\n",
    "\n",
    "fig, ax = plt.subplots(1, 1)\n",
    "a = st.expon.rvs(inicio, media, size=10000)                          # gerar 10.000 valores aleatório\n",
    "x = np.arange(inicio, st.expon.ppf(0.9999, inicio, media), 1 / 100)  # Valores do eixo x\n",
    "ax.plot(x, st.expon.pdf(x, inicio, media), 'b', ms=1,\n",
    "    label='exponencial pdf \\ninicio = {0:.2f} \\nmedia = {1:.2f}'.format(inicio,media))\n",
    "ax.hist(a, bins=20, density=True, histtype='stepfilled', label='dados')\n",
    "ax.legend(loc='best', frameon=False)\n",
    "plt.show()"
   ]
  },
  {
   "cell_type": "markdown",
   "metadata": {},
   "source": [
    "### Formativa - Função rndexp\n",
    "Implementar a função $rndexp$ para executar o algoritmo da inversa da cdf para gerar números aleatórios distribuídos de acordo com a distribuição exponencial."
   ]
  },
  {
   "cell_type": "code",
   "execution_count": null,
   "metadata": {},
   "outputs": [],
   "source": [
    "def rndexp(mu, n):\n",
    "    out = [0 for x in range(n)]\n",
    "    for i in range(n):\n",
    "        # substituir o comando abaixo pelo codigo que gera os valores\n",
    "        # não usar a função ppf para gerar os valores, mas a função \n",
    "        # apresentada em aula\n",
    "        out[i] = 0\n",
    "    return out"
   ]
  },
  {
   "cell_type": "markdown",
   "metadata": {},
   "source": [
    "O código a seguir plota a pdf junto com um histograma com valores gerados pela função $rndexp$."
   ]
  },
  {
   "cell_type": "code",
   "execution_count": null,
   "metadata": {},
   "outputs": [],
   "source": [
    "# Selecionar média\n",
    "media = 5\n",
    "\n",
    "fig, ax = plt.subplots(1, 1)\n",
    "a = rndexp(media,10000)                                         # gerar 10.000 valores aleatório\n",
    "x = np.arange(inicio, st.expon.ppf(0.9999, 0, media), 1 / 100)  # Valores do eixo x\n",
    "ax.plot(x, st.expon.pdf(x, 0, media), 'b', ms=1,\n",
    "    label='exponencial pdf \\ninicio = {0:.2f} \\nmedia = {1:.2f}'.format(0,media))\n",
    "ax.hist(a, bins=20, density=True, histtype='stepfilled', label='dados')\n",
    "ax.legend(loc='best', frameon=False)\n",
    "plt.show()"
   ]
  },
  {
   "cell_type": "markdown",
   "metadata": {},
   "source": [
    "## Normal\n",
    "### Função norm.rvs\n",
    "A biblioteca scipy fornece a função geradora de variáveis aleatórias com distribuição normal $norm.rvs$.<br>\n",
    "O código a seguir plota a pdf junto com um histograma com valores gerados pela função $norm.rvs$."
   ]
  },
  {
   "cell_type": "code",
   "execution_count": null,
   "metadata": {},
   "outputs": [],
   "source": [
    "# Selecionar mu e sigma\n",
    "mu = 0\n",
    "sigma = 1\n",
    "\n",
    "fig, ax = plt.subplots(1, 1)\n",
    "a = st.norm.rvs(mu, sigma, size=10000)\n",
    "x = np.arange(st.norm.ppf(0.0001, mu, sigma), st.norm.ppf(0.9999, mu, sigma), 1 / 100)\n",
    "ax.plot(x, st.norm.pdf(x, mu, sigma), 'b', ms=1,\n",
    "    label='normal pdf \\nmu = {0:.2f} \\nsigma = {1:.2f}'.format(mu, sigma))\n",
    "ax.hist(a, bins=20, density=True, histtype='stepfilled', label='dados')\n",
    "ax.legend(loc='best', frameon=False)"
   ]
  },
  {
   "cell_type": "code",
   "execution_count": null,
   "metadata": {},
   "outputs": [],
   "source": [
    "# Geração de valores aleatorios com distribuição normal\n",
    "# Método de Kinderman and Monahan.\n",
    "# Computer generation of random variables using the ratio of uniform deviates \n",
    "# ACM Trans Math Software, 3, (1977), pp257-260\n",
    "def rndnorm(mu, sigma, n):\n",
    "    import random\n",
    "    import numpy as np\n",
    "    NV_MAGICCONST = 4 * np.exp(-0.5)/ np.sqrt(2.0)\n",
    "    out = [0.0 for x in range(n)]\n",
    "    for i in range(n):\n",
    "        while (True):\n",
    "            u1 = random.random()\n",
    "            u2 = 1.0 - random.random()\n",
    "            z = NV_MAGICCONST*(u1-0.5)/u2\n",
    "            zz = z*z/4.0\n",
    "            if zz <= -np.log(u2):\n",
    "                break\n",
    "        # print(zz)\n",
    "        out[i] = mu + z*sigma\n",
    "    return out"
   ]
  },
  {
   "cell_type": "markdown",
   "metadata": {},
   "source": [
    "O código a seguir plota a pdf junto com um histograma com valores gerados pela função $rndnorm$."
   ]
  },
  {
   "cell_type": "code",
   "execution_count": null,
   "metadata": {},
   "outputs": [],
   "source": [
    "# Selecionar mu e sigma\n",
    "mu = 0\n",
    "sigma = 1\n",
    "\n",
    "fig, ax = plt.subplots(1, 1)\n",
    "a = rndnorm(mu,sigma,10000)\n",
    "x = np.arange(st.norm.ppf(0.0001, mu, sigma), st.norm.ppf(0.9999, mu, sigma), 1 / 100)\n",
    "ax.plot(x, st.norm.pdf(x, mu, sigma), 'b', ms=1,\n",
    "    label='normal pdf \\nmu = {0:.2f} \\nsigma = {1:.2f}'.format(mu, sigma))\n",
    "ax.hist(a, bins=20, density=True, histtype='stepfilled', label='dados')\n",
    "ax.legend(loc='best', frameon=False)"
   ]
  },
  {
   "cell_type": "code",
   "execution_count": null,
   "metadata": {},
   "outputs": [],
   "source": []
  }
 ],
 "metadata": {
  "kernelspec": {
   "display_name": "Python 3",
   "language": "python",
   "name": "python3"
  },
  "language_info": {
   "codemirror_mode": {
    "name": "ipython",
    "version": 3
   },
   "file_extension": ".py",
   "mimetype": "text/x-python",
   "name": "python",
   "nbconvert_exporter": "python",
   "pygments_lexer": "ipython3",
   "version": "3.8.3"
  }
 },
 "nbformat": 4,
 "nbformat_minor": 4
}
