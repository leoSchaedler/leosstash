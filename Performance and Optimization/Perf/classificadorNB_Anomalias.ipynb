{
 "cells": [
  {
   "cell_type": "markdown",
   "metadata": {},
   "source": [
    "## Classificador Bayesiano\n",
    "Utilizar classificador Bayesiano para detecção de anomalis"
   ]
  },
  {
   "cell_type": "markdown",
   "metadata": {},
   "source": [
    "Importar as bibliotecas necessárias"
   ]
  },
  {
   "cell_type": "code",
   "execution_count": 1,
   "metadata": {},
   "outputs": [],
   "source": [
    "from sklearn.naive_bayes import GaussianNB\n",
    "import numpy as np\n",
    "import pandas as pd"
   ]
  },
  {
   "cell_type": "markdown",
   "metadata": {},
   "source": [
    "Leitura de dados de de treinamento<br>\n",
    "Vamos usar os dados de valiação para fazer o treinamento"
   ]
  },
  {
   "cell_type": "code",
   "execution_count": 2,
   "metadata": {},
   "outputs": [],
   "source": [
    "df = pd.read_csv('DadosValidacao2.csv', header = None)\n",
    "# print(df)\n",
    "temp = df.iloc [:, [0, 1, 2, 3, 4, 5, 6, 7, 8, 9, 10]]\n",
    "X_trein = temp.to_numpy()\n",
    "# print(X_trein)\n",
    "temp = df.iloc[:, 11]\n",
    "Y_trein = temp.to_numpy()\n",
    "# print(Y_trein)"
   ]
  },
  {
   "cell_type": "markdown",
   "metadata": {},
   "source": [
    "Leitura de dados de teste"
   ]
  },
  {
   "cell_type": "code",
   "execution_count": 3,
   "metadata": {},
   "outputs": [],
   "source": [
    "df = pd.read_csv('DadosTeste2.csv', header = None)\n",
    "# print(df)\n",
    "temp = df.iloc [:, [0, 1, 2, 3, 4, 5, 6, 7, 8, 9, 10]]\n",
    "X_test = temp.to_numpy()\n",
    "# print(X_test)\n",
    "temp = df.iloc[:, 11]\n",
    "Y_test = temp.to_numpy()\n",
    "# print(Y_test)"
   ]
  },
  {
   "cell_type": "markdown",
   "metadata": {},
   "source": [
    "### Treinamento e previsão\n",
    "* Criar classificador<br>\n",
    "* Treinar com dados de treinamento utilizando a matriz com os dados de treinamento (X_trein) e o vetor com os rótulo de treinamento (Y_trein)<br>\n",
    "* Faz previsão utilizando os dados de teste (X_test)"
   ]
  },
  {
   "cell_type": "code",
   "execution_count": 4,
   "metadata": {},
   "outputs": [],
   "source": [
    "clf = GaussianNB()\n",
    "clf.fit(X_trein, Y_trein)\n",
    "Y_prev = clf.predict(X_test)"
   ]
  },
  {
   "cell_type": "markdown",
   "metadata": {},
   "source": [
    "### Calcular vp vn fp fn\n",
    "Usar os vetores Y_test e Y_prev para calcular a quantidade de verdadeiros positivos (vp)<br>\n",
    "* Os valores verdadeiros positivos correspondem aos casos onde os rótulos de teste (em Y_test) têm valor igual a 1 e os valores previstos (em Y_prev) têm valor 1.<br>\n",
    "* Dica: O comando ((Y_test == 1)&(Y_prev == 1)) produz um vetor que terá valores True nas posições correspondentes aos verdadeiros positivos. Para encontrar a quantidade de verdadeiros positivos utilize a função sum.<br><br>\n",
    "\n",
    "Usar os vetores Y_test e Y_prev para calcular a quantidade de verdadeiros negativos (vn)<br>\n",
    "* Os valores verdadeiros positivos correspondem aos casos onde os rótulos de teste (em Y_test) têm valor igual a 1 e os valores previstos (em Y_prev) têm valor 1.<br>\n",
    "* Dica: O comando ((Y_test == 0)&(Y_prev == 0)) produz um vetor que terá valores True nas posições correspondentes aos verdadeiros positivos. Para encontrar a quantidade de verdadeiros positivos utilize a função sum.<br><br>\n",
    "\n",
    "Usar os vetores Y_test e Y_prev para calcular a quantidade de falsos positivos (fp)<br><br>\n",
    "Usar os vetores Y_test e Y_prev para calcular a quantidade de falsos negativos (fn)<br><br>"
   ]
  },
  {
   "cell_type": "code",
   "execution_count": 5,
   "metadata": {},
   "outputs": [
    {
     "name": "stdout",
     "output_type": "stream",
     "text": [
      "vp = 10 fp = 1 vn = 353 fn = 36\n"
     ]
    }
   ],
   "source": [
    "# Calcule a quantidade de verdadeiros positivos\n",
    "vp = sum((Y_test == 1)&(Y_prev == 1))\n",
    "# Calcule a quantidade de verdadeiros negativos\n",
    "vn = sum((Y_test == 0)&(Y_prev == 0))\n",
    "# Calcule a quantidade de falsos positivos\n",
    "fp = sum((Y_test == 0)&(Y_prev == 1))\n",
    "# Calcule a quantidade de falsos positivos\n",
    "fn = sum((Y_test == 1)&(Y_prev == 0))\n",
    "print('vp = {0:d} fp = {1:d} vn = {2:d} fn = {3:d}'.format(vp, fp, vn, fn))"
   ]
  },
  {
   "cell_type": "markdown",
   "metadata": {},
   "source": [
    "### Calcular as métricas\n",
    "* Calcular a métrica accuracy\n",
    "* Calcular as métricas precision, recall e F1 com relação à quantidade de verdadeiros negativos (prec_0, rec_0 e F1_0)<br>\n",
    "* Calcular as métricas precision, recall e F1 com relação à quantidade de verdadeiros positivos (prec_1, rec_1 e F1_1)<br>"
   ]
  },
  {
   "cell_type": "code",
   "execution_count": 6,
   "metadata": {},
   "outputs": [
    {
     "name": "stdout",
     "output_type": "stream",
     "text": [
      "accuracy = 0.91\n",
      "precision_0 = 0.91 recall_0 = 1.00 F1_0 = 0.95\n",
      "precision_1 = 0.91 recall_1 = 0.22 F1_1 = 0.35\n"
     ]
    }
   ],
   "source": [
    "# Calcular accuracy\n",
    "acc = (vp+vn)/(vp+vn+fp+fn)\n",
    "print('accuracy = {0:.2f}'.format(acc))\n",
    "\n",
    "# Calcular a precision, recall e F1 com relação a quantidade de verdadeiros negativos\n",
    "prec_0 = vn/(vn+fn)\n",
    "rec_0 = vn/(vn+fp)\n",
    "F1_0 = (2*prec_0*rec_0) / (prec_0+rec_0)\n",
    "print('precision_0 = {0:.2f} recall_0 = {1:.2f} F1_0 = {2:.2f}'.format(prec_0, rec_0, F1_0))\n",
    "\n",
    "# Calcular a precision, recall e F1 com relação a quantidade de verdadeiros positivos\n",
    "prec_1 = vp/(vp+fp)\n",
    "rec_1 = vp/(vp+fn)\n",
    "F1_1 = (2*prec_1*rec_1) / (prec_1+rec_1)\n",
    "print('precision_1 = {0:.2f} recall_1 = {1:.2f} F1_1 = {2:.2f}'.format(prec_1, rec_1, F1_1))"
   ]
  },
  {
   "cell_type": "markdown",
   "metadata": {},
   "source": [
    "### Conferir as métricas calculadas\n",
    "Você pode conferir as métricas comparando com as métricas calculadas pela biblioteca sklearn.<br>\n",
    "Comparar os valores das métricas precision, recall e f1-score com os valores nas linhas 0 e 1 da tabela abaixo. "
   ]
  },
  {
   "cell_type": "code",
   "execution_count": 7,
   "metadata": {},
   "outputs": [
    {
     "name": "stdout",
     "output_type": "stream",
     "text": [
      "Métricas de classificação\n",
      "              precision    recall  f1-score   support\n",
      "\n",
      "           0       0.91      1.00      0.95       354\n",
      "           1       0.91      0.22      0.35        46\n",
      "\n",
      "    accuracy                           0.91       400\n",
      "   macro avg       0.91      0.61      0.65       400\n",
      "weighted avg       0.91      0.91      0.88       400\n",
      "\n",
      "\n"
     ]
    }
   ],
   "source": [
    "from sklearn import metrics\n",
    "print(f\"Métricas de classificação\\n\"\n",
    "      f\"{metrics.classification_report(Y_test, Y_prev)}\\n\")"
   ]
  },
  {
   "cell_type": "markdown",
   "metadata": {},
   "source": [
    "### Cálculo das métricas ponderadas\n",
    "As médias poderadas são construídas usando a métrica support.<br>\n",
    "support_0 = fp + vn<br>\n",
    "support_1 = vp + fn<br>\n",
    "No cálculo da média ponderada de cada métrica usamos support como peso:\n",
    "* prec_mp = (prec_0 * support_0 + prec_1 * support_1) / (support_0 + support_1)\n",
    "* rec_mp = (rec_0 * support_0 + rec_1 * support_1) / (support_0 + support_1)\n",
    "* F1_mp = (F1_0 * support_0 + F1_1 * support_1) / (support_0 + support_1)"
   ]
  },
  {
   "cell_type": "code",
   "execution_count": 8,
   "metadata": {},
   "outputs": [
    {
     "name": "stdout",
     "output_type": "stream",
     "text": [
      "precision_mp = 0.91 recall_mp = 0.91 F1_mp = 0.88\n"
     ]
    }
   ],
   "source": [
    "support_0 = fp + vn\n",
    "support_1 = vp + fn\n",
    "prec_mp = (prec_0 * support_0 + prec_1 * support_1) / (support_0 + support_1)\n",
    "rec_mp = (rec_0 * support_0 + rec_1 * support_1) / (support_0 + support_1)\n",
    "F1_mp = (F1_0 * support_0 + F1_1 * support_1) / (support_0 + support_1)\n",
    "print('precision_mp = {0:.2f} recall_mp = {1:.2f} F1_mp = {2:.2f}'\n",
    "      .format(prec_mp, rec_mp, F1_mp))"
   ]
  },
  {
   "cell_type": "code",
   "execution_count": null,
   "metadata": {},
   "outputs": [],
   "source": []
  }
 ],
 "metadata": {
  "kernelspec": {
   "display_name": "Python 3",
   "language": "python",
   "name": "python3"
  },
  "language_info": {
   "codemirror_mode": {
    "name": "ipython",
    "version": 3
   },
   "file_extension": ".py",
   "mimetype": "text/x-python",
   "name": "python",
   "nbconvert_exporter": "python",
   "pygments_lexer": "ipython3",
   "version": "3.8.3"
  }
 },
 "nbformat": 4,
 "nbformat_minor": 4
}
