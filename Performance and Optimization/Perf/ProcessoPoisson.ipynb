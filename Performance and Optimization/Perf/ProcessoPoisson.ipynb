{
 "cells": [
  {
   "cell_type": "markdown",
   "metadata": {},
   "source": [
    "# Processo de Poisson"
   ]
  },
  {
   "cell_type": "code",
   "execution_count": null,
   "metadata": {},
   "outputs": [],
   "source": [
    "import scipy.stats as st\n",
    "import numpy as np"
   ]
  },
  {
   "cell_type": "markdown",
   "metadata": {},
   "source": [
    "Seja uma sequência $X_{1}, X_{2}, ...$ de variáveis aleatórias independentes com uma distribuição de probabilidade exponencial parâmetro $L$.<br><br>\n",
    "\n",
    "Pense em $X_{n}$, como o tempo entre a ($n-1$)-ésima e a $n$-ésima ocorrência de algum evento particular em um experimrnto probabilístico.<br>\n",
    "\n",
    "$S_{0}=0$<br>\n",
    "\n",
    "$S_{N}=\\sum_{n=1}^{N} S_{n}$\n",
    "\n",
    "* $S_{N}$ é o momento no qual o $N$ésimo evento ocorre\n",
    "* $S_{N}$ é a soma de $ $ariáveis aleatórias exponenciais<br>\n",
    "\n",
    "\n",
    "Seja $N_{T}$ tal que $N_{T}$ é o maior inteiro $N \\ge 0$ para o qual $S_{N}\\le T$\n",
    "* A variável aleatória $N_{T}$ representa o número de eventos que ocorreram até o instante $T$\n",
    "* $N_{T}$ é um processo de Poisson"
   ]
  },
  {
   "cell_type": "markdown",
   "metadata": {},
   "source": [
    "## Distribuição de $S_{N}$"
   ]
  },
  {
   "cell_type": "markdown",
   "metadata": {},
   "source": [
    "$P\\left[ S_{N} \\le x \\right]= 1 - \\sum _{j=1}^{N-1} e^{-Lx} \\frac{\\left( Lx \\right)^{j}}{j!}$<br><br>\n",
    "\n",
    "$S_{N}$ é o tempo de ocorrência do $N_{esimo}$ evento (soma de $N$ variáveis independentes com distribuição exponencial)<br><br>\n",
    "\n",
    "$P\\left[ S_{N} \\le x \\right]$ é a função de distribuição acumulada do tempo de ocorrência do $N_{esimo}$ evento (distribuição gama com parâmetros $N$ e $L$)<br><br>\n",
    "\n",
    "st.gamma.cdf(x, a=N, scale=mu)\t\t\tmu = 1 / L"
   ]
  },
  {
   "cell_type": "markdown",
   "metadata": {},
   "source": [
    "## Distribuição de $N_{S}$"
   ]
  },
  {
   "cell_type": "markdown",
   "metadata": {},
   "source": [
    "* $N_{S}$ conta a quantidade de eventos que ocorrem no intervalo de tempo $S = t_{2} – t_{1}$\n",
    "* $N_{S}$ tem distribuição de Poisson com média $\\mu = \\frac{1}{L}$\n",
    "\n",
    "$P\\left[ N_{S} =x\\right] = e^{-LS}\\frac{\\left( LS \\right)^{x}}{x!}$<br><br>\n",
    "$P\\left[ N_{S} =x\\right]$ é a função de distribuição de probabilidade da quantidade de eventos que ocorrem durante o intervalo $S$.<br><br>\n",
    "st.poisson.pmf(x, mu)<br>mu = L* S"
   ]
  },
  {
   "cell_type": "markdown",
   "metadata": {},
   "source": [
    "### Exemplo 1\n",
    "Uma conversação em uma rede sem fio é fortemente atrapalhada por sinais de interferência que ocorrem segundo um processo de Poisson com taxa de 0,1 interferências por minuto.<br>\n",
    "* Qual é a probabilidade de que não ocorram interferências durante os 2 primeiros minutos de conversação?<br>\n",
    "* Qual é a probabilidade de que a 3ª interferência ocorra em até 2 minutos de conversação?"
   ]
  },
  {
   "cell_type": "markdown",
   "metadata": {},
   "source": [
    "Qual é a probabilidade de que não ocorram interferências durante os 2 primeiros minutos de conversação?<br>\n",
    "$N_{S}$ registra a quantidade de eventos (interferências) no intervalo de tempo $S$<br><br>\n",
    "$P\\left[ N_{S} =x\\right] = e^{-LS}\\frac{\\left( LS \\right)^{x}}{x!}$<br>\n",
    "$S=2$<br>\n",
    "$L=0,1$<br>\n",
    "$x=0$<br>\n",
    "$P\\left[ N_{2} = 0\\right] = e^{-0,1 * 2}\\frac{\\left( 0,1 * 2 \\right)^{0}}{0!}=e^{-0,2}=0,8187$<br><br>\n",
    "st.poisson.pmf(x, L\\*S)"
   ]
  },
  {
   "cell_type": "code",
   "execution_count": null,
   "metadata": {},
   "outputs": [],
   "source": [
    "S=2\n",
    "L=0.1\n",
    "x=0\n",
    "st.poisson.pmf(x, L*S)"
   ]
  },
  {
   "cell_type": "markdown",
   "metadata": {},
   "source": [
    "Qual é a probabilidade de que a 3ª interferência ocorra em até 2 minutos de conversação?<br><br>\n",
    "$S_{N}$ registra o tempo de ocorrência da $N_{esima}$ interferência.<br><br>\n",
    "$P\\left[ S_{N} \\le x\\right]=1-\\sum_{j=1}^{N-1}e^{-Lx}\\frac{\\left( Lx \\right)^{j}}{j!}$<br><br>\n",
    "$N=3$<br>\n",
    "$x=2$<br>\n",
    "$L=0,1$<br>\n",
    "$P\\left[ S_{3} \\le 2\\right]=1-\\sum_{j=0}^{3-1}e^{-0,1*2}\\frac{\\left( 0,1*2 \\right)^{j}}{j!}$<br>\n",
    "$P\\left[ S_{N} \\le x\\right]=1-\\left( e^{-0,2} \\frac{0,2^{0}}{0!} + e^{-0,2} \\frac{0,2^{1}}{1!} + e^{-0,2} \\frac{0,2^{2}}{2!}\\right )=0,0011$<br><br>\n",
    "\n",
    "st.gamma.cdf(x, a=N, scale=mu)<br>\n",
    "mu = 1/L"
   ]
  },
  {
   "cell_type": "code",
   "execution_count": null,
   "metadata": {},
   "outputs": [],
   "source": [
    "N=3\n",
    "x=2\n",
    "mu = 1/0.1\n",
    "st.gamma.cdf(x, a=N, scale=mu)"
   ]
  },
  {
   "cell_type": "markdown",
   "metadata": {},
   "source": [
    "## Desmembramento\n",
    "Considere um processo de Poisson com taxa $L$, e suponha que cada vez que um evento ocorre, ele é classificado como um evento do tipo 1 ou do tipo 2.<br><br>\n",
    "\n",
    "Cada evento é classificado como sendo do tipo 1 com probabilidade $p$ e como sendo do tipo 2 com probabilidade $1 – p$.<br><br>\n",
    "\n",
    "Sejam $N_{S1}$ e $N_{S2}$, respectivamente, o número de ocorrências de eventos do tipo 1 e do tipo 2 no intervalo $[0, t]$.<br><br>\n",
    "$N_{S1}$ e $N_{S2}$ contam os eventos no intervalo $S$ em processos de Poisson independentes com taxa $Lp$ e $L(1 – p)$."
   ]
  },
  {
   "cell_type": "markdown",
   "metadata": {},
   "source": [
    "### Exemplo 2\n",
    "Imigrantes para certo país chegam segundo um processo de Poisson com taxa de 10 por semana. Cada imigrante é descendente de portugueses com probabilidade 1/12. Qual é a probabilidade de que nenhum imigrante com ascendência portuguesa chegue a este país durante o mês de Fevereiro?<br><br>\n",
    "\n",
    "Os emigrantes descendentes de portugueses chegam ao país segundo um processo de Poisson com taxa $L=10*1/12 = 5/6$ por semana. No mês de fevereiro há 4 semanas.\n",
    "* $L = 5/6$\n",
    "* $S = 4$\n",
    "* $x = 0$ (nenhum imigrante com ascendência prortuguesa)\n",
    "\n",
    "$P\\left[ N_{S} =x\\right] = e^{-LS}\\frac{\\left( LS \\right)^{x}}{x!}$<br>\n",
    "$P\\left[ N_{4} =0\\right] = e^{-\\frac{5}{6}4}\\frac{\\left( \\frac{5}{6} 4\\right)^{0}}{0!}=0,0357$<br><br>\n",
    "st.poisson.pmf(x, L\\*S)"
   ]
  },
  {
   "cell_type": "code",
   "execution_count": null,
   "metadata": {},
   "outputs": [],
   "source": [
    "L = 5/6\n",
    "x = 0\n",
    "S = 4\n",
    "st.poisson.pmf(x, L*S)"
   ]
  },
  {
   "cell_type": "markdown",
   "metadata": {},
   "source": [
    "## União\n",
    "Sejam $N_{S1}$ e $N_{S2}$ dois processos de Poisson com taxas $L_{1}$ e $L_{2}$, respectivamente, onde o processo $N_{Si}$ corresponde a chegadas do tipo $i$.<br><br>\n",
    "Seja $N_{S}$ = $N_{S1}+N_{S2}$.<br><br>\n",
    "$N_{S}$ é um processo de Poisson com taxa $L_{1}+L_{2}.$<br><br>\n",
    "A união de $k$ processos de Poisson com taxa média $L_{i}$ resulta em um processo de Poisson com taxa $\\sum_{i=1}^{k} L_{i}$."
   ]
  },
  {
   "cell_type": "markdown",
   "metadata": {},
   "source": [
    "## Exercício 1\n",
    "Um grupo de mini-VANs está esperando passageiros no aeroporto. Os passageiros chegam segundo um processo de Poisson com média de 20 passageiros por hora. Uma mini-VAN parte assim que tem 4 passageiros ou assim que se passe 10 minutos desde que o primeiro passageiro entrou na mini-VAN.\n",
    "* a) Suponha que você foi o primeiro passageiro a entrar na min-VAN. Qual é a probabilidade que você tenha que esperar 10 minutos até a saída da mini-VAN? \n",
    "* b) Suponha que você foi o primeiro passageiro a entrar na mini-VAN e que você já está esperando a 5 minutos e que nestes 5 minutos mais 1 passageiro chegou. Qual é a probabilidade de você esperar mais 5 minutos?<br>\n",
    "\n",
    "**Resolver com as duas equações $S_{N}$ e $N_{S}$.**"
   ]
  },
  {
   "cell_type": "markdown",
   "metadata": {},
   "source": [
    "a) Suponha que você foi o primeiro passageiro a entrar na min-VAN. Qual é a probabilidade que você tenha que esperar 10 minutos até a saída da mini-VAN?<br><br>\n",
    "**Solução com $S_{N}$**<br>\n",
    "Para que você espere 10 minutos, a terceira chegada (4º passageiro) deve acontecer depois de 10 minutos:\n",
    "* $L = 20/60 = 1/3$ (20 passageiros por hora ou 2/60 passageiros por minuto)\n",
    "* $N = 3$ (terceira chegada)\n",
    "* $x =10$ (tempo maior do que 10 minutos)\n",
    "* $P[S_{3} > 10]$ (terceiro passageiro chega depois de 10 minutos)\n",
    "* $mu = 1/L =3$ (média das exponenciais)\n",
    "\n",
    "1 – st.gamma.cdf (x, a=N, scale=mu)<br><br>\n",
    "\n",
    "**Solução com $N_{S}$**<br>\n",
    "Para que você espere 10 minutos, 0 ou 1, ou 2 passageiros chegaram em 10 minutos:\n",
    "* $S =10$ (em m intervalo de 10 minutos)\n",
    "* $L= 20/60 = 1/3$\n",
    "* $P\\left[ N_{S} =x\\right] = e^{-LS}\\frac{\\left( LS \\right)^{x}}{x!}$<br>\n",
    "* $P\\left[ N_{10}=0 \\right] + P\\left[ N_{10}=1 \\right] + P\\left[ N_{10}=2 \\right]$ (chegar 0, ou 1, ou 2 passageiros)<br>\n",
    "\n",
    "st.poisson.pmf(0, L\\*S) + st.poisson.pmf(1, L\\*S) + st.poisson.pmf(2, L\\*S)<br>\n",
    "np.sum(st.poisson.pmf([0,1,2],L\\*S))"
   ]
  },
  {
   "cell_type": "code",
   "execution_count": null,
   "metadata": {},
   "outputs": [],
   "source": [
    "# Solução com SN\n"
   ]
  },
  {
   "cell_type": "code",
   "execution_count": null,
   "metadata": {},
   "outputs": [],
   "source": [
    "# Solução com NS\n"
   ]
  },
  {
   "cell_type": "markdown",
   "metadata": {},
   "source": [
    "b) Suponha que você foi o primeiro passageiro a entrar na mini-VAN e que você já está esperando a 5 minutos e que nestes 5 minutos mais 1 passageiro chegou. Qual é a probabilidade de você esperar mais 5 minutos?<br><br>\n",
    "**Solução com $S_{N}$**<br>\n",
    "Para que você e 1 passageiro esperem 5 minutos, a segunda chegada (4º passageiro) deve acontecer depois de 5 minutos:\n",
    "$P\\left[ S_{2} \\gt 5\\right]$\n",
    "* $N =2  (segunda chegada)$\n",
    "* $x =5 (depois de 5 minutos)$\n",
    "* $L= 20/60 = 1/3$\n",
    "* $mu = 1/L =3$<br>\n",
    "\n",
    "1 - gamma.cdf (5, a=2, scale=3)\n",
    "\n",
    "**Solução com $N_{S}$**<br>\n",
    "Para que você e 1 passageiro esperem 5 minutos, 0 ou 1 passageiros chegaram no intervalo de 5 minutos:\n",
    "* $S =5$ (intervalo de 5 minutos)\n",
    "* $L= 20/60 = 1/3$\n",
    "* $P\\left[ N_{5} = 0\\right]+P\\left[ N_{5} = 1\\right]$ (0 ou 1 passageiros no intervalo de 5 minutos)<br><br>\n",
    "\n",
    "st.poisson.pmf(0, L\\*S) + st.poisson.pmf(1, L\\*S)<br>\n",
    "np.sum(st.poisson.pmf([0,1], L\\*S))"
   ]
  },
  {
   "cell_type": "code",
   "execution_count": null,
   "metadata": {},
   "outputs": [],
   "source": [
    "# Solução com SN\n"
   ]
  },
  {
   "cell_type": "code",
   "execution_count": null,
   "metadata": {},
   "outputs": [],
   "source": [
    "# Solução com NS\n"
   ]
  },
  {
   "cell_type": "markdown",
   "metadata": {},
   "source": [
    "### Exercício 2\n",
    "Mensagens chegam a um servidor de aplicação de acordo com um Processo de Poisson com uma taxa de 3 chegadas por milissegundo.  Dentre as mensagens recebidas, 1/3 são mensagens de login. Qual a probabilidade de serem registradas mais de uma mensagem de login em 2 milissegundos?<br><br>\n",
    "\n",
    "As mensagens podem ser divididas em 2 processos de Poisson, um com taxa $p$ ∙$L$ e o outro com taxa $(1-p)$∙$L$<br><br>\n",
    "As mensagens de login ocorrem em uma taxa de 3∙1/3 = 1 por milissegundo (L = 1).\n",
    "* $L = 3$\n",
    "* $p = 1/3$\n",
    "* $S = 2$"
   ]
  },
  {
   "cell_type": "code",
   "execution_count": null,
   "metadata": {},
   "outputs": [],
   "source": [
    "# Coloque seu código aqui\n"
   ]
  }
 ],
 "metadata": {
  "kernelspec": {
   "display_name": "Python 3",
   "language": "python",
   "name": "python3"
  },
  "language_info": {
   "codemirror_mode": {
    "name": "ipython",
    "version": 3
   },
   "file_extension": ".py",
   "mimetype": "text/x-python",
   "name": "python",
   "nbconvert_exporter": "python",
   "pygments_lexer": "ipython3",
   "version": "3.8.3"
  }
 },
 "nbformat": 4,
 "nbformat_minor": 4
}
