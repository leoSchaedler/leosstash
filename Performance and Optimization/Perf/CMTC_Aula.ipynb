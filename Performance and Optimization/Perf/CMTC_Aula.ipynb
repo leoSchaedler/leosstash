{
 "cells": [
  {
   "cell_type": "markdown",
   "metadata": {},
   "source": [
    "# Cadeias de Markov em tempo contínuo"
   ]
  },
  {
   "cell_type": "code",
   "execution_count": null,
   "metadata": {},
   "outputs": [],
   "source": [
    "import numpy as np\n",
    "from IPython.display import Image, display"
   ]
  },
  {
   "cell_type": "markdown",
   "metadata": {},
   "source": [
    "## Cracterização\n",
    "Uma CMTC homogênea pode ser caracterizada de duas maneiras distintas:\n",
    "* O processo sorteia uma variável aleatória com distribuição exponencial e taxa $\\mu_{i}$. Tendo decorrido o intervalo de tempo sorteado, o estado de destino é definido através das probabilidades de transição $p_{ij}$\n",
    "* O processo sorteia uma variável aleatória exponencial para cada destino com taxas $\\mu_{ij} = \\mu_{i} p_{ij}$, sendo selecionada a transição que corresponde ao menor intervalo de tempo.<br>\n",
    "\n",
    "Equação de conversão da representação por probabilidades para representação por taxas:\n",
    "* $\\mu_{ij} = \\mu_{i} p_{ij}$\n",
    "\n",
    "Equação de conversão da representação por taxas para representação por probabilidades:\n",
    "* $p_{ij}=\\frac{\\mu_{ij}}{\\mu_{ij}+ ...+\\mu_{ik}}$\n",
    "\n",
    "### Conversão de representação\n",
    "Uma cadeia de Markov pode ser representada pela sua matriz de taxas de transição (Q), ou pelo vetor de taxa de permanência (Mu) e matriz de probabilidades de trandição (P). Tanto para o cálculo do regime do regime transitório quanto para o cálculo estacionário precisamos da matriz Q.<br>\n",
    "Com base na propriedade apresentada acima podemos usar o seguite algoritmo para converter a representação pelo Mu e matriz P para a representação pela matriz Q, incluido as transições para o próprio estado.\n",
    "* Multiplicar cada valor do vetor Mu pela linha correpondente em P\n",
    "* Os elementos da diagonal principal devem ser iguais a soma dos demais valores da linha com sinal negativo (somar todos os elemento, trocar o sinal e somar novamente o elemento da diagonal principal."
   ]
  },
  {
   "cell_type": "markdown",
   "metadata": {},
   "source": [
    "## Exemplo 1\n",
    "A função **cmtcPtoQ** converte a represnetação por probabilidade (P) para a representação por taxas (Q). Recebe como argumentos a matriz de transição de um passo (P) e o vetor de taxas de permanência (Mu) e retorna a matriz Q."
   ]
  },
  {
   "cell_type": "code",
   "execution_count": null,
   "metadata": {},
   "outputs": [],
   "source": [
    "def cmtcPtoQ(P, Mu):\n",
    "    [r,c] = P.shape\n",
    "    Q = np.empty_like(P)\n",
    "    if ((r != c) | np.any(np.sum(P, 1) != 1)):\n",
    "        raise Exception('Matriz P invalida!')\n",
    "\n",
    "    for x in range(0, r):\n",
    "        Q[x, :] = Mu[x] * P[x, :]\n",
    "        Q[x, x] = -np.sum(Q[x, :])\n",
    "    return Q\n",
    "\n",
    "# Matriz P do exemplo 1\n",
    "P = np.array([[0, 1/3, 2/3, 0],[5/6, 0, 0, 1/6],[10/11, 0, 0, 1/11], [0, 1/2, 1/2, 0]], \n",
    "             dtype=np.float64)\n",
    "\n",
    "# Vetor de taxas de permanência\n",
    "Mu = np.array([30, 120, 110, 200], dtype=np.float64)\n",
    "\n",
    "# Imprime matriz Q\n",
    "print(cmtcPtoQ(P,Mu))"
   ]
  },
  {
   "cell_type": "markdown",
   "metadata": {},
   "source": [
    "## Regime transitório\n",
    "Toda CMTC possui uma matriz denominada matriz geradora infinitesimal $\\mathbf{Q}$, onde $q_{i,j}$ é a taxa de transição do estado $i$ para o estado $j$.Os elementos da diagonal $q_{i,i}$ são escolhidos, por definição, iguais ao oposto (negativo) da soma dos demais elementos da mesma linha $i$:<br>\n",
    "* $q_{i,j} = \\mu _{i,j}$   &nbsp;&nbsp;   $\\forall i\\neq j$\n",
    "* $q_{i,i} = -\\sum_{i\\neq i}^{}\\mu_{i,j} = -\\mu _{i}$<br><br>\n",
    "$\\mathbf{Q} = \\begin{bmatrix} \n",
    "-\\mu_{1}&  \\mu_{1,2}&  \\cdots & \\mu_{1,n}\\\\ \n",
    "\\mu_{2,1}&  -\\mu_{2}&  \\cdots & \\mu_{2,n}\\\\ \n",
    "\\vdots &  \\vdots & \\ddots  & \\vdots\\\\\n",
    "\\mu_{n,1}&  \\mu_{n,2} &  \\cdots & -\\mu_{n}\n",
    "\\end{bmatrix}$<br><br>\n",
    "O regime transitório consiste em determinar o vetor $\\boldsymbol{ \\pi } \\left ( t \\right )$ das probabilidades de estado $\\pi _{j}\\left ( t \\right ) = P\\left [ X\\left ( t \\right ) \\right ]=j, j\\in \\left \\{ estados \\right \\}$, em todos os instantes do processo:<br><br>\n",
    "$\\boldsymbol{\\pi }(t)=\\begin{bmatrix} \\boldsymbol{} \\pi _{1}(t)&  \\pi _{2}(t)& \\cdots &  \\pi _{n}(t)\\end{bmatrix}$<br><br><br>\n",
    "O cálculo de $\\boldsymbol{\\pi }(t)$ é realizado pela seguinte equação:<br><br>\n",
    "$\\boldsymbol{\\pi }(t) = \\boldsymbol{\\pi }(0) e^{\\mathbf{Q} t}$<br>\n",
    "onde<br>\n",
    "$\\boldsymbol{\\pi }(0)=\\begin{bmatrix} \\boldsymbol{} \\pi _{1}(0)&  \\pi _{0}(t)& \\cdots &  \\pi _{n}(0)\\end{bmatrix}$<br><br><br>\n",
    "Calculamos $e^{\\mathbf{Q}t}$ utlizando a equação do limite fundamental da exponencial:<br><br>\n",
    "$e^{\\mathbf{Q}t} = \\lim_{n \\to \\infty}\\left ( \\mathbf{I} + \\frac{\\mathbf{Q}t}{n}\\right )^{n}\n",
    "$<br>\n",
    "escolhendo um valor de n suficientemente grande de modo que tenha números positivos menores do que 1 em todas as posições"
   ]
  },
  {
   "cell_type": "code",
   "execution_count": null,
   "metadata": {},
   "outputs": [],
   "source": [
    "def cmtc_eQt(Q, t, n_max):\n",
    "    I = np.identity(Q.shape[1])\n",
    "    for n in range(100, n_max, 100):\n",
    "        X = np.linalg.matrix_power(I + (t * Q / n), n)\n",
    "        if np.all(X < 1):\n",
    "            break\n",
    "    return X"
   ]
  },
  {
   "cell_type": "markdown",
   "metadata": {},
   "source": [
    "## Exemplo 3\n",
    "$\\mathbf{Q} = \\begin{bmatrix} \n",
    "-30 & 10 & 20 & 0 \\\\ 100 & -120 & 0 & 20 \\\\ 100 &  0 & -110  & 10 \\\\ 0 & 100 & 100 & 200\n",
    "\\end{bmatrix}$"
   ]
  },
  {
   "cell_type": "code",
   "execution_count": null,
   "metadata": {},
   "outputs": [],
   "source": [
    "Q = np.array([[-30, 10, 20, 0],[100, -120, 0, 20], [100, 0, -110, 10],[0,100, 100, -200]],\n",
    "             dtype=np.float64)\n",
    "PI0 = np.array([1, 0, 0, 0], dtype=np.float64)\n",
    "t = 0.0035\n",
    "n_max = 2000\n",
    "eQt = cmtc_eQt(Q, t, n_max)\n",
    "\n",
    "print(eQt)\n",
    "print(np.dot(PI0, eQt))"
   ]
  },
  {
   "cell_type": "markdown",
   "metadata": {},
   "source": [
    "## Exemplo 3\n",
    "Calcular as probabilidades no regime permanente da CMTC representada pela seguinte matriz geradora:\n",
    "\n",
    "$\\mathbf{Q }= \\begin{bmatrix} \n",
    "-1/12 & 1/12 & 0 & 0 & 0 & 0 & 0 & 0   \\\\ 1/2 & -5 & 3 & 3/2 & 0 & 0 & 0 & 0 \\\\ \n",
    "0 & 0 & -3/2 & 0 & 3/2 & 0 & 0  & 0    \\\\ 0 & 0 & 0 & -3 & 3 & 0 & 0 & 0     \\\\ \n",
    "0 & 0 & 0 & 0 & -1/6 & 1/15 & 1/10 & 0 \\\\ 3 & 0 & 0 & 0 & 0 & -3 & 0 & 0     \\\\\n",
    "0 & 0 & 0 & 0 & 0 & 0 & -4 & 4         \\\\ 3/2 & 0 & 0 & 0 & 0 & 0 & 0 & -3/2 \\\\\n",
    "\\end{bmatrix}$\n",
    "\n",
    "&nbsp; Equações de quilibrio:<br>\n",
    "&nbsp;&nbsp; $1/12\\pi_{1} = 1/2\\pi_{2} + 3\\pi_{6} + 3/2\\pi_{8}$<br>\n",
    "&nbsp;&nbsp; $\\left ( 1/2 + 3 + 3/2 \\right )\\pi_{2} = 1/12\\pi_{1}$<br>\n",
    "&nbsp;&nbsp; $3/2\\pi_{3} = 3\\pi_{2}$<br>\n",
    "&nbsp;&nbsp; $3\\pi_{4} = 3/2\\pi_{2}$<br>\n",
    "&nbsp;&nbsp; $\\left ( 1/15 + 1/10 \\right )\\pi_{5} = 3/2\\pi_{3} + 3\\pi_{4}$<br>\n",
    "&nbsp;&nbsp; $3\\pi_{6} = 1/15\\pi_{5}$<br>\n",
    "&nbsp;&nbsp; $4\\pi_{7} = 1/10\\pi_{5}$<br>\n",
    "&nbsp;&nbsp; $3/2\\pi_{8} = 4\\pi_{7}$<br>\n",
    "&nbsp;&nbsp; $\\pi_{1} + \\pi_{2} + \\pi_{3} + \\pi_{4} + \\pi_{5} + \\pi_{6} + \\pi_{7} + \\pi_{8}= 1$<br>\n",
    "\n",
    "\n",
    "Escrevendo o sistema na foma matricial temos:<br><br>\n",
    "&nbsp;&nbsp; \n",
    "$\\mathbf{A}= \\begin{bmatrix} \n",
    "-1/12 & 1/12 & 0 & 0 & 0 & 0 & 0 & 3/2  \\\\ 1/2 & -5 & 0 & 0 & 0 & 0 & 0 & 0 \\\\ \n",
    "0 & 3 & -3/2 & 0 & 0 & 0 & 0 & 0 \\\\ 0 & 3/2 & 0 & -3 & 0 & 0 & 0 & 0     \\\\ \n",
    "0 & 0 & 3/2 & 3 & -1/6 & 0 & 0 & 0 \\\\ 0 & 0 & 0 & 0 & 1/15 & -3 & 0 & 0     \\\\\n",
    "0 & 0 & 0 & 0 & 1/10 & 0 & -4 & 0 \\\\ 0 & 0 & 0 & 0 & 0 & 0 & 4 & -3/2 \\\\\n",
    "1 & 1 & 1 & 1 & 1 & 1 & 1 & 1 \\\\\n",
    "\\end{bmatrix}$\n",
    "\n",
    "\n",
    "&nbsp;&nbsp;&nbsp;&nbsp;&nbsp;&nbsp; \n",
    "$\\mathbf{B} =\\begin{bmatrix}0\\\\0\\\\0\\\\0\\\\0\\\\0\\\\0\\\\0\\\\1\\end{bmatrix}$\n",
    "&nbsp;&nbsp;&nbsp;&nbsp;&nbsp;&nbsp; \n",
    "$\\mathbf{\\pi } =\\begin{bmatrix}\n",
    "\\pi_{1}\\\\ \\pi_{2}\\\\ \\pi_{3}\\\\ \\pi_{4}\\\\ \\pi_{5}\\\\ \\pi_{6}\\\\ \\pi_{7}\\\\ \\pi_{8}\n",
    "\\end{bmatrix}$<br><br>\n",
    "&nbsp;&nbsp;\n",
    "$\\mathbf{\\pi } = \\mathbf{A}^{+}\\cdot\\mathbf{B}$\n",
    "&nbsp;&nbsp;&nbsp;&nbsp;&nbsp;&nbsp;\n",
    "$\\mathbf{\\pi } =\\begin{bmatrix}\n",
    "0.6412\\\\0.0107\\\\0.0214\\\\0.0053\\\\0.2885\\\\0.0064\\\\0.0072\\\\0.0192\\end{bmatrix}$<br>\n",
    "\n",
    "* A pseudo inversa de uma matriz $\\mathbf{A}$, denotada por $\\mathbf{A}^{+}$, é a mais importante generalização da inversa de uma matriz. \n",
    "* $\\mathbf{A}^{+}$ é usada para calcular uma solução de \"melhor ajuste\" (pelo método dos mínimos quadrados) para um sistema de equações lineares."
   ]
  },
  {
   "cell_type": "code",
   "execution_count": null,
   "metadata": {},
   "outputs": [],
   "source": [
    "A = np.array([[-1/12, 1/2, 0, 0, 0, 3, 0, 3/2], [1/12, -5, 0, 0, 0, 0, 0, 0], \n",
    "              [0, 3, -3/2, 0, 0, 0, 0, 0], [0, 3/2, 0, -3, 0, 0, 0, 0],\n",
    "              [0, 0, 3/2, 3, -1/6, 0, 0, 0], [0, 0, 0, 0, 1/15, -3, 0, 0],\n",
    "              [0, 0, 0, 0, 1/10, 0, -4, 0], [0, 0, 0, 0, 0, 0, 4, -3/2],\n",
    "              [1, 1, 1, 1, 1, 1, 1, 1]], \n",
    "             dtype=np.float64)\n",
    "B= np.array([0, 0, 0, 0, 0, 0, 0, 0, 1] , dtype=np.float64)\n",
    "\n",
    "A_pinv = np.linalg.pinv(A)\n",
    "PI = np.dot(A_pinv,B)\n",
    "print(PI)"
   ]
  },
  {
   "cell_type": "markdown",
   "metadata": {},
   "source": [
    "## Transições para o mesmo estado\n",
    "Quando utilizamos a representação da CMTC com as taxas de transição, pode-se suprimir os enlaces para o mesmo estado sem alterar o comportamento da cadeia.<br><br>"
   ]
  },
  {
   "cell_type": "code",
   "execution_count": null,
   "metadata": {},
   "outputs": [],
   "source": [
    "display(Image('markov1.png'))"
   ]
  },
  {
   "cell_type": "code",
   "execution_count": null,
   "metadata": {},
   "outputs": [],
   "source": []
  }
 ],
 "metadata": {
  "kernelspec": {
   "display_name": "Python 3",
   "language": "python",
   "name": "python3"
  },
  "language_info": {
   "codemirror_mode": {
    "name": "ipython",
    "version": 3
   },
   "file_extension": ".py",
   "mimetype": "text/x-python",
   "name": "python",
   "nbconvert_exporter": "python",
   "pygments_lexer": "ipython3",
   "version": "3.8.3"
  }
 },
 "nbformat": 4,
 "nbformat_minor": 4
}
