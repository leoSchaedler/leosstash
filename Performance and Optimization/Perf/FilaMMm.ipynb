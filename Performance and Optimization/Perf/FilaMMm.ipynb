{
 "cells": [
  {
   "cell_type": "markdown",
   "metadata": {},
   "source": [
    "# Filas MMm\n",
    "O arquivo filaMMm contém a implementação da classe FilaMMm que calcula probabilidades e valores esperados para as variáveis aleatórias de uma fila MMm.<br><br>\n",
    "Deve ser chamada com 3 argumentos:\n",
    "* taxa de chegada das tarefas\n",
    "* taxa de serviço de cada servidor\n",
    "* quantidade de servidores<br><br>\n",
    "\n",
    "Um objeto da classe FilaMMm oferece os seguintes atibutos:\n",
    "* lb: taxa de chegada\n",
    "* mu: taxa de serviço de cada servidor\n",
    "* m: quantidade de servidores\n",
    "* ro: lb / (m*mu)\n",
    "* p0: probabilidade de nenhuma tarefa no sistema\n",
    "* epsilon: probabilidade de m ou mais tarefas no sistema\n",
    "* E_Ns: valor esperado de Ns (quantidade media de tarefas servidas)\n",
    "* E_Nq: valor esperado de Nq (tamanho medio da fila)\n",
    "* E_N: valor esperado de N (quantidade media de tarefas no sistema)\n",
    "* E_S: valor esperado de S (tempo de serviço médio)\n",
    "* E_W: valor esperado de W (tempo de espera medio na fila)\n",
    "* E_R: valor esperado de R (tempo de resposta medio)<br><br>\n",
    "\n",
    "Um objeto da classe FilaMMm oferece os seguintes métodos:\n",
    "* pmf_N(x): P[N = x]\n",
    "* cdf_W(x): P[W < x]\n",
    "* cdf_R(x): P[R < x]"
   ]
  },
  {
   "cell_type": "code",
   "execution_count": 2,
   "metadata": {},
   "outputs": [],
   "source": [
    "from filaMMm import FilaMMm"
   ]
  },
  {
   "cell_type": "markdown",
   "metadata": {},
   "source": [
    "## Exemplo 1\n",
    "Um servidor web recebe solicitações em uma taxa de 3000 chegadas por minuto. A taxa de serviço do servidor é 58,8235 solicitações por segundo.<br>\n",
    "Qual é o tempo de serviço médio?<br>\n",
    "Qual é o tempo de resposta médio?<br>\n",
    "Qual é o tamanho médio da fila?<br>\n",
    "Qual é a probabilidade de o servidor ficar ocioso?<br>\n",
    "Qual é a probabilidade de haver mais do que 2 tarefas no sistema?<br>\n",
    "Qual é a probabilidade de o tempo de resposta ser menor do que 0,5 segundos?<br>\n",
    "* Taxa de chegada: lb = 3000 por minuto (3000/60 = 50 por segundo)\n",
    "* Taxa de serviço: mu = 58.8235 por segundo"
   ]
  },
  {
   "cell_type": "code",
   "execution_count": 2,
   "metadata": {},
   "outputs": [
    {
     "name": "stdout",
     "output_type": "stream",
     "text": [
      "Tempo de serviço médio: 0.0170\n",
      "Tempo de resposta médio: 0.1133\n",
      "Tamanho médio da fila: 4.8167\n",
      "Probabilidade de o sistema ficar ocioso: 0.1500\n",
      "Probabilidade de haver mais do que 2 tarefas no sistema: 0.6141\n",
      "Probabilidade de o tempo de resposta ser menor que 0.5: 0.9879\n"
     ]
    }
   ],
   "source": [
    "fila = FilaMMm(50, 58.8235, 1)\n",
    "print('Tempo de serviço médio: {:.4f}'.format(fila.E_S))\n",
    "print('Tempo de resposta médio: {:.4f}'.format(fila.E_R))\n",
    "print('Tamanho médio da fila: {:.4f}'.format(fila.E_Nq))\n",
    "print('Probabilidade de o sistema ficar ocioso: {:.4f}'.format(fila.pmf_N(0)))\n",
    "print('Probabilidade de haver mais do que 2 tarefas no sistema: {:.4f}'\n",
    "      .format(1-(fila.pmf_N(0)+fila.pmf_N(1)+fila.pmf_N(2))))\n",
    "print('Probabilidade de o tempo de resposta ser menor que 0.5: {:.4f}'\n",
    "      .format(fila.cdf_R(0.5)))"
   ]
  },
  {
   "cell_type": "markdown",
   "metadata": {},
   "source": [
    "## Exemplo 2\n",
    "Um sistema com um único servidor recebe 4 tarefas por segundo, com os tempos distribuídos exponencialmente. O tempo de serviço médio é de 0,208 segundos.<br>\n",
    "Taxa de chegada: lb = 4<br>\n",
    "Tempo de serviço médio: E[S] = 0,208<br>\n",
    "Quantidade de servidores: m = 1<br>\n",
    "Taxa de serviço: mu = 1/E[S] = 1/0,208 = 4,8 tarefas por segundo<br>\n",
    "Qual é o tempo de resposta médio?"
   ]
  },
  {
   "cell_type": "code",
   "execution_count": 3,
   "metadata": {},
   "outputs": [
    {
     "name": "stdout",
     "output_type": "stream",
     "text": [
      "Tempo de resposta médio: 1.2500\n"
     ]
    }
   ],
   "source": [
    "fila1 = FilaMMm(4, 4.8, 1)\n",
    "print('Tempo de resposta médio: {:.4f}'.format(fila1.E_R))"
   ]
  },
  {
   "cell_type": "markdown",
   "metadata": {},
   "source": [
    "Suponha que foi comprado outro servidor para o sistema, e que metade do fluxo de entrada seja direcionado para cada servidor.<br>\n",
    "Taxa de chegada: lb = 2<br>\n",
    "Tempo de serviço médio: E[S] = 0,208<br>\n",
    "Quantidade de servidores: m = 1<br>\n",
    "Taxa de serviço: mu = 1/E[S] = 1/0,208 = 4,8 tarefas por segundo<br>\n",
    "Qual é o tempo de resposta médio?"
   ]
  },
  {
   "cell_type": "code",
   "execution_count": 4,
   "metadata": {},
   "outputs": [
    {
     "name": "stdout",
     "output_type": "stream",
     "text": [
      "Tempo de resposta médio: 0.3571\n"
     ]
    }
   ],
   "source": [
    "fila2 = FilaMMm(2, 4.8, 1)\n",
    "print('Tempo de resposta médio: {:.4f}'.format(fila2.E_R))"
   ]
  },
  {
   "cell_type": "markdown",
   "metadata": {},
   "source": [
    "Suponha que os dois servidores vão ser utilizados sejam através de uma fila única (M/M/2). Qual é o tempo médio no sistema agora?\n",
    "Taxa de chegada: lb = 4<br>\n",
    "Tempo de serviço médio: E[S] = 0,208<br>\n",
    "Quantidade de servidores: m = 2<br>\n",
    "Taxa de serviço: mu = 1/E[S] = 1/0,208 = 4,8 tarefas por segundo<br>\n",
    "Qual é o tempo de resposta médio?"
   ]
  },
  {
   "cell_type": "code",
   "execution_count": 5,
   "metadata": {},
   "outputs": [
    {
     "name": "stdout",
     "output_type": "stream",
     "text": [
      "Tempo de resposta médio: 0.2521\n"
     ]
    }
   ],
   "source": [
    "fila3 = FilaMMm(4, 4.8, 2)\n",
    "print('Tempo de resposta médio: {:.4f}'.format(fila3.E_R))"
   ]
  },
  {
   "cell_type": "markdown",
   "metadata": {},
   "source": [
    "Suponha que em vez de comprar dois servidores, foi comprado um servidor duas vezes mais rápido. Qual é o tempo médio no sistema agora?<br>\n",
    "Taxa de chegada: lb = 4<br>\n",
    "Tempo de serviço médio: E[S] = 0,104<br>\n",
    "Quantidade de servidores: m = 1<br>\n",
    "Taxa de serviço: mu = 1/E[S] = 1/0,104 = 9,6 tarefas por segundo<br>\n",
    "Qual é o tempo de resposta médio?"
   ]
  },
  {
   "cell_type": "code",
   "execution_count": 6,
   "metadata": {},
   "outputs": [
    {
     "name": "stdout",
     "output_type": "stream",
     "text": [
      "Tempo de resposta médio: 0.1786\n"
     ]
    }
   ],
   "source": [
    "fila4 = FilaMMm(4, 9.6, 1)\n",
    "print('Tempo de resposta médio: {:.4f}'.format(fila4.E_R))"
   ]
  },
  {
   "cell_type": "markdown",
   "metadata": {},
   "source": [
    "## FORMATIVA\n",
    "Um porto recebe um navio a cada 8 horas. Os tempos entre as chegadas são distribuídos exponencialmente. Um navio leva em média 12 horas para ser atendido em um terminal. Suponha que o porto tenha 2 terminais para atender os navios.<br>\n",
    "* Taxa de chegada: lb = 1/8 = 0,125\n",
    "* Tempo médio de serviço: E[S] = 12\n",
    "* Quantidade de servidores: m = 2<br>\n",
    "\n",
    "a)\tQuantos navios podem ser atendidos por hora em cada terminal (qual é a taxa de serviço em cada terminal)?\n",
    "\n",
    "$\\mu =\\frac{1}{{E[S]}}$<br>\n",
    "mu = ?\n",
    "\n",
    "Calcule o valor de mu e crie a fila com os parâmetros lb, mu e m."
   ]
  },
  {
   "cell_type": "code",
   "execution_count": 7,
   "metadata": {},
   "outputs": [],
   "source": [
    "# Calcular o valor de mu\n",
    "\n",
    "# Cria a fila\n"
   ]
  },
  {
   "cell_type": "markdown",
   "metadata": {},
   "source": [
    "b)\tQual é o número médio de navios na fila do porto?\n",
    "\n",
    "\n",
    "\n",
    "c)\tQual é o tempo de resposta médio no porto?\n",
    "\n",
    "\n",
    "\n",
    "d)\tQuantos terminais são necessários para que o tempo de resposta médio seja menor do que 15 horas?\n",
    "\n",
    "\n",
    "\n",
    "e)\tQual o tamanho médio da fila se o porto tiver a quantidade de terminais calculadas no item anterior?"
   ]
  },
  {
   "cell_type": "code",
   "execution_count": null,
   "metadata": {},
   "outputs": [],
   "source": [
    "# Colocar o códogo aqui para responder as questões\n"
   ]
  }
 ],
 "metadata": {
  "kernelspec": {
   "display_name": "Python 3",
   "language": "python",
   "name": "python3"
  },
  "language_info": {
   "codemirror_mode": {
    "name": "ipython",
    "version": 3
   },
   "file_extension": ".py",
   "mimetype": "text/x-python",
   "name": "python",
   "nbconvert_exporter": "python",
   "pygments_lexer": "ipython3",
   "version": "3.8.3"
  }
 },
 "nbformat": 4,
 "nbformat_minor": 4
}
