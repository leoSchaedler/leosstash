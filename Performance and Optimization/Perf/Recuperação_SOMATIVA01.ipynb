{
 "cells": [
  {
   "cell_type": "markdown",
   "metadata": {},
   "source": [
    "# Recuperação da Avaliação Somativa 01\n",
    "Avaliação dividida em duas partes:\n",
    "* Parte 1 - Revisão de probabilidade (2,1 pontos)\n",
    "* Parte 2 - Classificador Bayesiano (1,4 pontos)"
   ]
  },
  {
   "cell_type": "markdown",
   "metadata": {},
   "source": [
    "## Parte 1 - Revisão de probabilidade\n",
    "Resolver as questões utilizando as bibliotecas sipy.stats e numpy."
   ]
  },
  {
   "cell_type": "code",
   "execution_count": null,
   "metadata": {},
   "outputs": [],
   "source": [
    "import scipy.stats as st\n",
    "import numpy as np"
   ]
  },
  {
   "cell_type": "markdown",
   "metadata": {},
   "source": [
    "### Questão 1 (valor 0,7)\n",
    "A ocorrência de defeitos em uma linha de produção de uma fábrica de teclados é distribuída segundo uma distribuição de Poisson com uma taxa de 4 teclados defeituosos produzidos por mês. Qual a probabilidade de que sejam produzidos mais do que dois e menos do que seis teclados defeituosos em um mês?<br><br>\n",
    "Coloque ná próxima célula o comando que resolve a questão."
   ]
  },
  {
   "cell_type": "code",
   "execution_count": null,
   "metadata": {},
   "outputs": [],
   "source": [
    "# Coloque aqui o comando da biblioteca scipy.stats que resolve a Questão 01\n"
   ]
  },
  {
   "cell_type": "markdown",
   "metadata": {},
   "source": [
    "### Questão 2 (valor 0,7)\n",
    "O tempo de atendimento no service desk de uma empresa é distribuído exponencialmente com média igual a 6 minutos. Qual a probabilidade de uma pessoa levar mais do que 8 minutos para ser atendida?<br><br>\n",
    "\n",
    "Coloque ná próxima célula o comando que resolve a questão."
   ]
  },
  {
   "cell_type": "code",
   "execution_count": null,
   "metadata": {},
   "outputs": [],
   "source": [
    "# Coloque aqui o comando da biblioteca scipy.stats que resolve a Questão 02\n"
   ]
  },
  {
   "cell_type": "markdown",
   "metadata": {},
   "source": [
    "### Questão 3 (valor 0,7)\n",
    "O tempo de carregamento de um navio tem distribuição normal com média igual de 10 horas e desvio padrão de 2 horas. Qual a probabilidade de um navio levar entre 5 e 8 horas para ser carregado?<br><br>\n",
    "\n",
    "Coloque ná próxima célula o comando que resolve a questão."
   ]
  },
  {
   "cell_type": "code",
   "execution_count": null,
   "metadata": {},
   "outputs": [],
   "source": [
    "# Coloque aqui o comando da biblioteca scipy.stats que resolve a Questão 03\n"
   ]
  },
  {
   "cell_type": "markdown",
   "metadata": {},
   "source": [
    "## Parte 2 - Classificador Bayesiano\n",
    "Uma empresa utiliza a metodologia de Use Case Points para estimar o esforço necessário para entregar as sprints do desenvolvimento e melhoria do seu produto que tem cinco módulos.<br><br>\n",
    "\n",
    "A equipe de desempenho decidiu testar se o classificador Bayesiano é adequado para prever se as sprints serão entregues no prazo.<br><br>\n",
    "\n",
    "Para isso utilizou os dados que foram coletados nos processos de desenvolvimento de software organizando em dois arquivos:\n",
    "* Dados_Sprints_Treinamento.csv\n",
    "* Dados_Sprints_Teste.csv<br>\n",
    "\n",
    "Cada arquivo contém as seguites informações:\n",
    "* ID_MODULO: identificador do módulo\n",
    "* Estimativa_UCP: estimativa do esforço em use case points\n",
    "* Estimativa_Horas: estimativa do esforço em horas para entregar a sprint\n",
    "* Entrega_no_Prazo: rótulo de classificação\n",
    " * 0 - sprint não entregue no prazo\n",
    " * 1 - sprint entregue no prazo"
   ]
  },
  {
   "cell_type": "markdown",
   "metadata": {},
   "source": [
    "Importar as bibliotecas necessárias"
   ]
  },
  {
   "cell_type": "code",
   "execution_count": null,
   "metadata": {},
   "outputs": [],
   "source": [
    "from sklearn.naive_bayes import GaussianNB\n",
    "from sklearn import metrics\n",
    "import numpy as np\n",
    "import pandas as pd"
   ]
  },
  {
   "cell_type": "markdown",
   "metadata": {},
   "source": [
    "Leitura de dados de de treinamento<br>"
   ]
  },
  {
   "cell_type": "code",
   "execution_count": null,
   "metadata": {},
   "outputs": [],
   "source": [
    "df = pd.read_csv('Dados_Sprints_Treinamento.csv')\n",
    "temp = df.iloc [:, [0,1,2]]  # Não incluir o identificador do módulo (col 0)\n",
    "X_trein = temp.to_numpy()\n",
    "temp = df.iloc[:, 3]\n",
    "Y_trein = temp.to_numpy()"
   ]
  },
  {
   "cell_type": "markdown",
   "metadata": {},
   "source": [
    "Leitura de dados de teste"
   ]
  },
  {
   "cell_type": "code",
   "execution_count": null,
   "metadata": {},
   "outputs": [],
   "source": [
    "df = pd.read_csv('Dados_Sprints_Teste.csv')\n",
    "temp = df.iloc [:, [0,1,2]] # Não incluir o identificador do módulo (col 0)\n",
    "X_test = temp.to_numpy()\n",
    "temp = df.iloc[:, 3]\n",
    "Y_test = temp.to_numpy()"
   ]
  },
  {
   "cell_type": "markdown",
   "metadata": {},
   "source": [
    "### Questão 4 Treinamento e previsão (valor 0,7)\n",
    "Utilizar a próxima célula para:\n",
    "* Criar classificador<br>\n",
    "* Treinar cutilizando os dados na matriz de treinamento (X_trein) e o vetor com os rótulo no vetor de treinamento (Y_trein)<br>\n",
    "* Fazer previsão utilizando os dados de teste (X_test)"
   ]
  },
  {
   "cell_type": "code",
   "execution_count": null,
   "metadata": {},
   "outputs": [],
   "source": [
    "# Colocar aqui o comando para criar o classificador\n",
    "\n",
    "\n",
    "# Colocar aqui o ocmando para treinar o classificador\n",
    "\n",
    "\n",
    "# Colocar aqui o comando para fazer as previsões\n"
   ]
  },
  {
   "cell_type": "markdown",
   "metadata": {},
   "source": [
    "### Questão 5 - Métricas de classificação (valor 0,7)\n",
    "Utilizar o módulo **metrics** da biblioteca **sklearn** para obter as métricas de classificação (já foi importado).<br><br>\n",
    "Utilizar a função **classification_report**.\n",
    "Dicas:\n",
    "* os argumentos da função **classification_report** é o vetor com os rótulos de teste e o vetor com os valores previstos.\n",
    "* ver exemplo na SOMATIVA 05"
   ]
  },
  {
   "cell_type": "code",
   "execution_count": null,
   "metadata": {},
   "outputs": [],
   "source": [
    "# Colocar o código para mostrar o relatório de métricas de classificação aqui\n"
   ]
  },
  {
   "cell_type": "markdown",
   "metadata": {},
   "source": [
    "# Entrega\n",
    "* resolver as questões\n",
    "* salvar o notebook como pdf\n",
    "* renomear o arquivo para <seu_nome>Recuperação_Somativa01\n",
    "* entregar no AVA (entrega individual)"
   ]
  }
 ],
 "metadata": {
  "kernelspec": {
   "display_name": "Python 3",
   "language": "python",
   "name": "python3"
  },
  "language_info": {
   "codemirror_mode": {
    "name": "ipython",
    "version": 3
   },
   "file_extension": ".py",
   "mimetype": "text/x-python",
   "name": "python",
   "nbconvert_exporter": "python",
   "pygments_lexer": "ipython3",
   "version": "3.8.3"
  }
 },
 "nbformat": 4,
 "nbformat_minor": 4
}
