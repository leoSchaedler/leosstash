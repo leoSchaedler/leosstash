{
 "cells": [
  {
   "cell_type": "markdown",
   "metadata": {},
   "source": [
    "# Introdução à  Computação Vetorial\n",
    "\n",
    "Esse é um tutorial introdutório de computação vetorial, um ramo da computação que estuda algoritmos com matrizes e vetores.\n",
    "\n",
    "O objetivo principal desse tutorial é fornecer uma abordagem computacional para tratamento de matrizes, para que o estudante de computação compreenda o que produzem as operações com matrizes, e os algoritmos que realizam essas operações."
   ]
  },
  {
   "cell_type": "markdown",
   "metadata": {},
   "source": [
    "## Matrizes and Vetores\n",
    "\n",
    "Uma **matriz** é um conjunto de números arranjados em uma grade. Segue um exemplo de uma matriz $2$ por $2$:\n",
    "\n",
    "$$A =\n",
    "\\begin{bmatrix} 1 & 2 \\\\ 3 & 4 \\end{bmatrix}$$\n",
    "\n",
    "$A_{i,j}$ refere-se ao elemento arranjado na linha $i$ e coluna $j$ da matriz $A$ (em Python os índices iniciam em 0). Na matriz anterior, $A_{0,1} = 2$.\n",
    "\n",
    "Uma matriz $n \\times m$ terá $n$ linhas e $m$ colunas:\n",
    "\n",
    "$$\\begin{bmatrix}\n",
    "    A_{0,0} & A_{0,1} & \\dotsb & A_{0,m-1} \\\\\n",
    "    A_{1,0} & A_{1,1} & \\dotsb & A_{1,m-1} \\\\\n",
    "    \\vdots  & \\vdots  & \\ddots & \\vdots  \\\\\n",
    "    A_{n-1,0} & A_{n-1,1} & \\dotsb & A_{n-1,m-1}\n",
    "\\end{bmatrix}$$\n",
    "\n",
    "Uma matriz $1 \\times 1$ é equivalente a um escalar:\n",
    "\n",
    "$$\\begin{bmatrix} 3 \\end{bmatrix} = 3$$\n",
    "\n",
    "\n",
    "Um **vetor** é uma matriz $n \\times 1$. Segue exemplo de um vetor $3 \\times 1$:\n",
    "\n",
    "$$V = \\begin{bmatrix} 1 \\\\ 2 \\\\ 3 \\end{bmatrix}$$\n",
    "\n",
    "Como vetores sempre têm largura igual a $1$, os elementos dos vetores são escritos usando apena um índice. No exemplo acima, $V_0 = 1$ e $V_1 = 2$."
   ]
  },
  {
   "cell_type": "markdown",
   "metadata": {},
   "source": [
    "## Soma de Matrizes\n",
    "\n",
    "A **soma de matrizes** ocorre entre duas matrizes de mesma dimensão, adicionando cada componente da primeira matriz ao componente correspondente da segunda matriz. Segue soma das matrizes $X$ e $Y$, ambas de dimensão $n$ por $m$:\n",
    "\n",
    "$$\\begin{bmatrix}\n",
    "    x_{0,0} & x_{0,1} & \\dotsb & x_{0,m-1} \\\\\n",
    "    x_{1,0} & x_{1,1} & \\dotsb & x_{1,m-1} \\\\\n",
    "    \\vdots  & \\vdots  & \\ddots & \\vdots  \\\\\n",
    "    x_{n-1,0} & x_{n-1,1} & \\dotsb & x_{n-1,m-1}\n",
    "\\end{bmatrix}\n",
    "+\n",
    "\\begin{bmatrix}\n",
    "    y_{0,0} & y_{0,1} & \\dotsb & y_{0,m-1} \\\\\n",
    "    y_{1,0} & y_{1,1} & \\dotsb & y_{1,m-1} \\\\\n",
    "    \\vdots  & \\vdots  & \\ddots & \\vdots  \\\\\n",
    "    y_{n-1,0} & y_{n-1,1} & \\dotsb & y_{n-1,m-1}\n",
    "\\end{bmatrix}\n",
    "=\n",
    "\\begin{bmatrix}\n",
    "    x_{0,0} + y_{0,0} & x_{0,1} + y_{0,1} & \\dotsb & x_{0,m-1} + y_{0,m-1} \\\\\n",
    "    x_{1,0} + y_{1,0} & x_{1,1} + y_{1,1} & \\dotsb & x_{1,m-1} + y_{1,m-1} \\\\\n",
    "    \\vdots  & \\vdots  & \\ddots & \\vdots  \\\\\n",
    "    x_{n-1,0} + y_{n-1,0} & x_{n-1,1} + y_{n-1,1} & \\dotsb & x_{n-1,m-1} + y_{n-1,m-1}\n",
    "\\end{bmatrix}$$\n",
    "\n",
    "De modo análogo opdemos calcular $X - Y$ subtraindo componentes de $X$ os componentes correspondentes de $Y$.\n",
    "\n",
    "A soma de matrizes obedecem às se propriedades:\n",
    "\n",
    "* Comutatividade: $A + B = B + A$\n",
    "* Associatividade: $(A + B) + C = A + (B + C)$"
   ]
  },
  {
   "cell_type": "markdown",
   "metadata": {},
   "source": [
    "\n",
    "## Matrizes usando numpy\n",
    "\n",
    "Com a biblioteca numpy podemos usar os tipos Matrix ou Array. \n",
    "A classe Array é a classe multidimensional default. \n",
    "A classe Matrix foi criada para tratar as operações da Algebra linear. "
   ]
  },
  {
   "cell_type": "code",
   "execution_count": null,
   "metadata": {},
   "outputs": [],
   "source": [
    "import numpy as np"
   ]
  },
  {
   "cell_type": "markdown",
   "metadata": {},
   "source": [
    "## Iniciar matrizes\n",
    "As matrizes são armazenadas em variáveis do tipo array, um tipo básico que podem ser criados sem declarar.<br>\n",
    "Os arrays podem ser iniciados com valores numéricos, que devem ser declarados, inclusive a tipo do elementos constituintes.<br>\n",
    "Os valores dos elementos de uma mesma dimensão são dados por uma lista de valores separados por vírgula entre colchetes."
   ]
  },
  {
   "cell_type": "code",
   "execution_count": null,
   "metadata": {},
   "outputs": [],
   "source": [
    "X = np.array([[5,6],[4,3]], dtype=np.float64)\n",
    "Y = np.array([[4,-3],[7,8]], dtype=np.float64)\n",
    "print('--- X -----------------------')\n",
    "print(X)\n",
    "print('\\n--- Y -----------------------')\n",
    "print(Y)"
   ]
  },
  {
   "cell_type": "markdown",
   "metadata": {},
   "source": [
    "## Funções para iniciar matrizes\n",
    "\n",
    "O numpy fornece funções para criação de arrays cujos componentes possuem determinadas características:\n",
    "* random.random(n, m): cria um array de dimensão $n \\times m$ preenchido com números aleatórios entre 0 e 1.\n",
    "* ones(n, m): cria array de dimensão $n \\times m$ preenchido com 1s.\n",
    "* zeros(n, m): cria array de dimensão $n \\times m$ preenchido com 0s."
   ]
  },
  {
   "cell_type": "code",
   "execution_count": null,
   "metadata": {},
   "outputs": [],
   "source": [
    "A = np.random.random((2,2))  # cria uma array com duas linhas e duas colunas preenchida com números aleatórias entre 0 e 1\n",
    "B = np.ones((2,2)) # cria um array com duas linhas e duas colunas preenchida com 1s\n",
    "C = np.zeros((2,2)) # cria um array com duas linhas e duas colunas preenchida com 0s\n",
    "print('--- A -----------------------')\n",
    "print(A)\n",
    "print('\\n--- B -----------------------')\n",
    "print(B)\n",
    "print('\\n--- C -----------------------')\n",
    "print(C)"
   ]
  },
  {
   "cell_type": "markdown",
   "metadata": {},
   "source": [
    "## Soma de matrizes\n",
    "Duas matrizes podem ser somadas quando possuem a mesma dimensão.<br>\n",
    "A soma é realizada elemento a elemento.<br>\n",
    "Pode ser usao o operador \\+ ou a função np.add."
   ]
  },
  {
   "cell_type": "code",
   "execution_count": null,
   "metadata": {},
   "outputs": [],
   "source": [
    "X = np.array([[5,6],[4,3]], dtype=np.float64)\n",
    "Y = np.array([[4,-3],[7,8]], dtype=np.float64)\n",
    "\n",
    "print('--- X -----------------------')\n",
    "print(X)\n",
    "print('\\n--- Y -----------------------')\n",
    "print(Y)\n",
    "print('\\n--- X + Y -----------------------')\n",
    "print(X + Y)\n",
    "print('\\n--- np.add(X, Y) -----------------------')\n",
    "print(np.add(X, Y))"
   ]
  },
  {
   "cell_type": "markdown",
   "metadata": {},
   "source": [
    "## Soma de linhas e colunas\n",
    "A função numpy.sum(array, axis): retorna a soma dos elementos da matriz sobre o eixo (dimensão) especificado.<br>\n",
    "O argumento eixo é opcional, e se não for especificado soma todos os elementos do array<br>\n",
    "A função tem outros argumentos opcionais [ver aqui](https://numpy.org/doc/stable/reference/generated/numpy.sum.html)."
   ]
  },
  {
   "cell_type": "code",
   "execution_count": null,
   "metadata": {},
   "outputs": [],
   "source": [
    "print('--- X -----------------------')\n",
    "print(X)\n",
    "print('--- np.sum(X) soma todos os elementos -----------------------')\n",
    "print(np.sum(X))\n",
    "print('--- np.sum(X,axis = 0) soma as colunas -----------------------')\n",
    "print(np.sum(X,axis=0))\n",
    "print('--- np.sum(X,axis = 1) soma as linhas -----------------------')\n",
    "print(np.sum(X,axis=1))"
   ]
  },
  {
   "cell_type": "markdown",
   "metadata": {},
   "source": [
    "## Matriz de Durer (quadrado mágico)\n",
    "Matriz quadrada de dimensão 2 onde a de todas as linhas e soma de todas as colunas dão os mesmo valor.<br>\n",
    "A soma da diagonal principal também dá o mesmo valor.<br>\n",
    "Podemos chamar a função sum como um método do objeto array.<br>\n",
    "A função np.diag extrai a diagonal principal de uma matriz."
   ]
  },
  {
   "cell_type": "code",
   "execution_count": null,
   "metadata": {},
   "outputs": [],
   "source": [
    "D = np.array([[16,3,2,13],[5,10,11,8],[9,6,7,12],[4,15,14,1]], dtype=np.float64)\n",
    "print('--- D.sum(axis=0) soma as colunas -----------------------')\n",
    "print(D.sum(axis=0))\n",
    "print('--- D.sum(1) soma as linhas -----------------------')\n",
    "print(np.sum(D,axis=1))\n",
    "print('\\n---- np.sum(D.diag()) soma a diagonal ----')\n",
    "print(np.sum(np.diag(D)))"
   ]
  },
  {
   "cell_type": "markdown",
   "metadata": {},
   "source": [
    "## Quadrado mágico de dimensão ímpar\n",
    "\n",
    "A função magic no arquivo Magic.py cria um quadrado mágico de dimensão ímpar."
   ]
  },
  {
   "cell_type": "code",
   "execution_count": null,
   "metadata": {},
   "outputs": [],
   "source": [
    "from Magic import magic"
   ]
  },
  {
   "cell_type": "markdown",
   "metadata": {},
   "source": [
    "## Observar as propriedades da matriz criada pela função magic (quadrado mágico)\n",
    "A soma de cada linha deve ser igual a soma de cada coluna e igual a soma da diagonal principal."
   ]
  },
  {
   "cell_type": "code",
   "execution_count": null,
   "metadata": {},
   "outputs": [],
   "source": [
    "M = magic(5)\n",
    "print('---- M----')\n",
    "print(M)\n",
    "\n",
    "print('\\n---- M.sum(0) ----')\n",
    "print(M.sum(0))\n",
    "\n",
    "print('\\n---- M.sum(1) ----')\n",
    "print(M.sum(1))\n",
    "\n",
    "print('\\n---- np.sum(M.diag()) ----')\n",
    "print(np.sum(np.diag(M)))"
   ]
  },
  {
   "cell_type": "markdown",
   "metadata": {},
   "source": [
    "## Função para testar se uma matriz tem as propriedades do quadrado mágico\n",
    "Utilizar o algoritmo seguinte para criar uma função que testa se uma matriz tem as propriedades do quadrado mágico:\n",
    "* verificar se a matriz é quadrada: shape[0] tem que ser igual a shape[1]\n",
    "* somar as colunas e colocar no array x0: utilizar a função sum (cada elemento de x0 é a soma de cada coluna)\n",
    "* somar as colunas e colocar no array x1: utilizar a função sum (os elementos de x1 são a soma de cada linha)\n",
    "* concatenar x1 e x2 no array x: usar a função np.concatenate (se a matriz é um quadrado mágico, todos os elementos de x devem ser iguais)\n",
    "* encontrar os elementos únicos no array x: y = np.unique(x) \n",
    "* testar se a quantidade de elementos únicos é igual a 1 (todos os elemntos iguais): usar len(y)\n",
    "* testar se a soma da diagonal é igual a um dos elemento de x0 (ou de x1): usar np.diag<br><br>\n",
    "Usar a função teste_magic para testar as matrizes A, B, magic(3) e magic(5)."
   ]
  },
  {
   "cell_type": "code",
   "execution_count": null,
   "metadata": {},
   "outputs": [],
   "source": [
    "def teste_magic(m):\n",
    "    # Colocar seu código aqui\n",
    "    return True\n",
    "\n",
    "\n",
    "M3 = magic(3)\n",
    "M5 = magic(5)\n",
    "\n",
    "print(teste_magic(A))\n",
    "print(teste_magic(B))\n",
    "print(teste_magic(C))\n",
    "print(teste_magic(M3))\n",
    "print(teste_magic(M5))"
   ]
  },
  {
   "cell_type": "markdown",
   "metadata": {},
   "source": [
    "## Multiplicação de uma matriz por um escalar\n",
    "\n",
    "A **multiplicação por escalar** ocorre entre um escalar e uma matriz, multiplicando cada componente da matriz pelo escalar:\n",
    "\n",
    "$$a \\cdot\n",
    "\\begin{bmatrix}\n",
    "    x_{0,0} & x_{0,1} & \\dotsb & x_{0,m-1} \\\\\n",
    "    x_{1,0} & x_{1,1} & \\dotsb & x_{1,m-1} \\\\\n",
    "    \\vdots  & \\vdots  & \\ddots & \\vdots  \\\\\n",
    "    x_{n-1,0} & x_{n-1,1} & \\dotsb & x_{n-1,m-1}\n",
    "\\end{bmatrix}\n",
    "=\n",
    "\\begin{bmatrix}\n",
    "    a \\cdot x_{0,0} & a \\cdot x_{0,1} & \\dotsb & a \\cdot x_{0,m-1} \\\\\n",
    "    a \\cdot x_{1,0} & a \\cdot x_{1,1} & \\dotsb & a \\cdot x_{1,m-1} \\\\\n",
    "    \\vdots  & \\vdots  & \\ddots & \\vdots  \\\\\n",
    "    a \\cdot x_{n-1,0} & a \\cdot x_{n-1,1} & \\dotsb & a \\cdot x_{n-1,m-1}\n",
    "\\end{bmatrix}$$\n",
    "\n",
    "A multiplicação escalar obedece às seguintes propriedades:\n",
    "\n",
    "* Associatividade: $x \\cdot (yA) = (x \\cdot y)A$\n",
    "* Distributividade sobre a soma de matrizes: $x(A + B) = xA + xB$\n",
    "* Distributividade sobre a soma de escalares: $(x + y)A = xA + yA$"
   ]
  },
  {
   "cell_type": "markdown",
   "metadata": {},
   "source": [
    "## Multiplicação de uma matriz por um escalar em numpy\n",
    "\n",
    "Com numpy basta multiplicar a matriz (array) pelo escalar."
   ]
  },
  {
   "cell_type": "code",
   "execution_count": null,
   "metadata": {},
   "outputs": [],
   "source": [
    "# Multiplicação por escalar\n",
    "print('------ X ---------------------')\n",
    "print(X)\n",
    "print('\\n---- 7*X ---------------------')\n",
    "print(7*X)"
   ]
  },
  {
   "cell_type": "markdown",
   "metadata": {},
   "source": [
    "## Multiplicação de matrizes\n",
    "\n",
    "### Multiplicação matricial\n",
    "A **multiplicação de duas matrizes** pode ocorrer se o número de colunas da primeira matriz for igual ao número de linhas da segunda. Uma matriz $n \\times m$ multiplicada por uma matriz $m \\times k$ resulta em uma matriz $n \\times k$. \n",
    "\n",
    "Se estamos calculando $AB = C$, então\n",
    "\n",
    "$$C_{i,j} = A_{i,0} \\cdot B_{0,j} + A_{i,1} \\cdot B_{1,j} + \\dotsb + A_{i,m-1} \\cdot B_{m-1,j} = \\sum_{t = 0}^{m-1} A_{i,t} \\cdot B_{t,j}$$\n",
    "\n",
    "Por exemplo:\n",
    "\n",
    "$$\\begin{bmatrix}\n",
    "    \\color{blue} 1 & \\color{blue} 2 & \\color{blue} 3 \\\\\n",
    "    \\color{red}  4 & \\color{red}  5 & \\color{red}  6\n",
    "\\end{bmatrix}\n",
    "\\begin{bmatrix}\n",
    "    1 \\\\\n",
    "    2 \\\\\n",
    "    3\n",
    "\\end{bmatrix}\n",
    "=\n",
    "\\begin{bmatrix}\n",
    "    (\\color{blue} 1 \\cdot 1) + (\\color{blue} 2 \\cdot 2) + (\\color{blue} 3 \\cdot 3) \\\\\n",
    "    (\\color{red}  4 \\cdot 1) + (\\color{red}  5 \\cdot 2) + (\\color{red}  6 \\cdot 3)\n",
    "\\end{bmatrix}\n",
    "=\n",
    "\\begin{bmatrix}\n",
    "    14 \\\\\n",
    "    32\n",
    "\\end{bmatrix}$$\n",
    "\n",
    "A multiplicação de matrizes obedece às seguintes propriedades:\n",
    "\n",
    "* Associatividade: $A(BC) = (AB)C$\n",
    "* Distributividade  sobre a soma de matrizes: $A(B + C) = AB + AC$ and $(A + B)C = AC + BC$\n",
    "* Associatividade com multiplicação por escalares: $xAB = x(AB) = A(xB)$\n",
    "\n",
    "> A multiplicação de matrizes **não é commutativa:** $AB$ é raramente igual a $BA$.\n",
    "\n",
    "Outra propriedade importante é que uma matriz multiplicada por um vetor produz outro vetor.\n",
    "\n",
    "### Multiplicação elemento a elemento\n",
    "Se duas matrizes $A$ e $B$ possuem as mesmas dimensões ($n \\times m$) é possivel fazer a multiplicação elemento a elemento, ou seja, cada elemento da matriz $A$ é multiplicado pelo elemento correspondente da matriz $B$. A matriz resultante também terá dimensão $n \\times m$. <br>\n",
    "Essa não é uma operação definida na algebra linear, mas é implementada nas bibliotecas e liguagens que operam com matrizes."
   ]
  },
  {
   "cell_type": "markdown",
   "metadata": {},
   "source": [
    "## Multiplicação de matrizes em numpy\n",
    "\n",
    "O operador * em numpy atua elemento a elemento. \n",
    "Para multiplicação de matrizes utilizar np.dot."
   ]
  },
  {
   "cell_type": "code",
   "execution_count": null,
   "metadata": {},
   "outputs": [],
   "source": [
    "print('\\n--- Multiplicação matricial ---')\n",
    "print(np.dot(X,Y))\n",
    "\n",
    "print('--- Multiplicação elemento a elemento ---')\n",
    "C = X*Y\n",
    "print(C)"
   ]
  },
  {
   "cell_type": "markdown",
   "metadata": {},
   "source": [
    "## Matriz identidade\n",
    "\n",
    "A **matriz identidade** $I_n$ é uma matriz $n \\times n$ especial que tem $1$s nos componentes da diagonal principal, e $0$s nos demais componentes:\n",
    "\n",
    "$$I_n =\n",
    "\\begin{bmatrix}\n",
    "    1 & 0 & \\dotsb & 0 \\\\\n",
    "    0 & 1 & \\dotsb & 0 \\\\\n",
    "    \\vdots & \\vdots & \\ddots & \\vdots \\\\\n",
    "    0 & 0 & \\dotsb & 1\n",
    "\\end{bmatrix}$$\n",
    "\n",
    "Qualquer matriz (com dimensão compatível) multiplicada por $I_n$ retorna a matriz original. Se $A$ é uma matriz $n \\times m$:\n",
    "\n",
    "$$AI_m = I_nA = A$$\n",
    "\n",
    "$I_n$ atua como a **identidade multiplicativa**. Ou seja, $I_n$ é equivalente ao escalar $1$."
   ]
  },
  {
   "cell_type": "code",
   "execution_count": null,
   "metadata": {},
   "outputs": [],
   "source": [
    "# Matriz identidade de dimensão 3\n",
    "print('\\n--- Matriz identidade de dimensão 3 ---')\n",
    "print(np.identity(3))"
   ]
  },
  {
   "cell_type": "markdown",
   "metadata": {
    "collapsed": true
   },
   "source": [
    "## Matriz inversa\n",
    "\n",
    "Uma matriz quadrada $A$ de dimensão $n \\times n$ é **inversível** se existe a matriz $A^{-1}$  de dimensão $n \\times n$ com a seguinte propriedade:\n",
    "\n",
    "$$A A^{-1} = A^{-1} A = I_n$$\n",
    "\n",
    "$A^{-1}$ atua como o **inverso multiplicativo** de $A$.\n",
    "\n",
    "Uma matriz é inversível se o seu determinante é diferente de zero."
   ]
  },
  {
   "cell_type": "markdown",
   "metadata": {},
   "source": [
    "## Matriz inversa em numpy\n",
    "\n",
    "Muitos algoritmos de algebra linear estão implementados em numpy.linalg.\n",
    "Podemos calcular o determinante de uma matriz quadrada e a matriz inversa."
   ]
  },
  {
   "cell_type": "code",
   "execution_count": null,
   "metadata": {},
   "outputs": [],
   "source": [
    "# A matriz tem que ser quadrada\n",
    "# O determinante da matriz precisa ser diferente de zero\n",
    "print('----------- Matriz A -------------')\n",
    "print(A)\n",
    "print('----------- Determinante de A -------------')\n",
    "print(np.linalg.det(A))\n",
    "IA = np.linalg.inv(A)\n",
    "print('------------- Inversa de A ----------------')\n",
    "print(IA)\n",
    "print('--- Inversa de multiplicada por A  --------')\n",
    "print(np.dot(IA,A))\n",
    "\n",
    "print('\\n----------- Matriz B -------------')\n",
    "print(B)\n",
    "print('----------- Determinante de B -------------')\n",
    "print(np.linalg.det(B))\n",
    "print('B ão é inversível')\n",
    "\n",
    "print('\\n----------- Matriz C -------------')\n",
    "print(C)\n",
    "print('----------- Determinante de C -------------')\n",
    "print(np.linalg.det(C))\n",
    "print('------------- Inversa de C ----------------')\n",
    "print(np.linalg.inv(C))"
   ]
  },
  {
   "cell_type": "markdown",
   "metadata": {},
   "source": [
    "## Matriz transposta\n",
    "\n",
    "A matriz $X^T$ é a **transposta** da matriz $X$. Corresponde a uma reflexão dos componentes da matriz $X$ ao longo da diagonal principal: $(X^T)_{i,j} = X_{j,i}$.\n",
    "\n",
    "Dada uma matriz $X$ de dimensão $n \\times m$, sua transposta a matriz $X^T$ de dimensão $m \\times n$, tal que, se:\n",
    "\n",
    "$$X =\n",
    "\\begin{bmatrix}\n",
    "    x_{0,0} & x_{0,1} & \\dotsb & x_{0,m-1} \\\\\n",
    "    x_{1,0} & x_{1,1} & \\dotsb & x_{1,m-1} \\\\\n",
    "    \\vdots & \\vdots & \\ddots & \\vdots \\\\\n",
    "    x_{n-1,0} & x_{n-1,1} & \\dotsb & x_{n-1,m-1}\n",
    "\\end{bmatrix}$$\n",
    "\n",
    "então:\n",
    "\n",
    "$$X^T =\n",
    "\\begin{bmatrix}\n",
    "    x_{0,0} & x_{1,0} & \\dotsb & x_{n-1,0} \\\\\n",
    "    x_{0,1} & x_{1,1} & \\dotsb & x_{n-1,1} \\\\\n",
    "    \\vdots & \\vdots & \\ddots & \\vdots \\\\\n",
    "    x_{0,m-1} & x_{1,m-1} & \\dotsb & x_{n-1,m-1}\n",
    "\\end{bmatrix}$$\n",
    "\n",
    "Por exemplo:\n",
    "\n",
    "$$\\begin{bmatrix}\n",
    "    1 & 2 \\\\\n",
    "    3 & 4 \\\\\n",
    "    5 & 6\n",
    "\\end{bmatrix}^T\n",
    "=\n",
    "\\begin{bmatrix}\n",
    "    1 & 3 & 5 \\\\\n",
    "    2 & 4 & 6\n",
    "\\end{bmatrix}$$\n"
   ]
  },
  {
   "cell_type": "markdown",
   "metadata": {},
   "source": [
    "## Matriz transposta em numpy\n",
    "\n",
    "Basta usar o método transpose no próprio array."
   ]
  },
  {
   "cell_type": "code",
   "execution_count": null,
   "metadata": {
    "scrolled": true
   },
   "outputs": [],
   "source": [
    "print('--- A ------------')\n",
    "print(A)\n",
    "print('--- A transposta ------------')\n",
    "print(A.transpose())\n",
    "print('\\n--- B ------------')\n",
    "print(B)\n",
    "print('--- B transposta ------------')\n",
    "print(B.transpose())"
   ]
  }
 ],
 "metadata": {
  "kernelspec": {
   "display_name": "Python 3",
   "language": "python",
   "name": "python3"
  },
  "language_info": {
   "codemirror_mode": {
    "name": "ipython",
    "version": 3
   },
   "file_extension": ".py",
   "mimetype": "text/x-python",
   "name": "python",
   "nbconvert_exporter": "python",
   "pygments_lexer": "ipython3",
   "version": "3.8.3"
  }
 },
 "nbformat": 4,
 "nbformat_minor": 2
}
