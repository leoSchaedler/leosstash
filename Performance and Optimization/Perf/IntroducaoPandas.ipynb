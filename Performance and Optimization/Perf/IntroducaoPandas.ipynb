{
 "cells": [
  {
   "cell_type": "markdown",
   "metadata": {},
   "source": [
    "# Pandas Dataframe\n",
    "\n",
    "É um tipo de dados para armazenar e tratar dados em forma tabular.\n",
    "Consiste em uma coleção de Series que são dispostas como colunas.\n",
    "A cada linha está associado um índice que serve para ordenar e selecionar dados.\n",
    "Cada coluna tem um tipo definido, não sendo necessário que todas as colunas tenham o mesmo tipo (dados de tipos diferentes podem ser armazenados).<br>\n",
    "\n",
    "Muitas operações com dataframes levam em consideração o eixo (axis):\n",
    "* axis = 0 (ou axis = 'index') indica operação sobre as linhas\n",
    "* axis = 1 (ou axis = 'column') indica operação sobre as colunas"
   ]
  },
  {
   "cell_type": "code",
   "execution_count": null,
   "metadata": {},
   "outputs": [],
   "source": [
    "import pandas as pd"
   ]
  },
  {
   "cell_type": "markdown",
   "metadata": {},
   "source": [
    "## Criação\n",
    "Para criar um dataframe passa-se um dicionário e uma lista de índices para o construtor.<br>\n",
    "No exemplo a seguir usamos um dict onde as chaves são os nomes dos campos ou colunas.<br>\n",
    "Cada chave está associada uma lista cujos valores se tornam os valores das linhas, em cada coluna.<br>\n",
    "Uma lista de índices (ids) foi fornecida separadamente. Se ids não tivesse sido fornecida os índices do Data Frame seriam inteiros começando em 0."
   ]
  },
  {
   "cell_type": "code",
   "execution_count": null,
   "metadata": {},
   "outputs": [],
   "source": [
    "dados = {\n",
    "    'nome': ['Pedro', 'Maria', 'Janaina', 'Wong', 'Roberto', 'Marco', 'Paula'],\n",
    "    'cidade': ['São Paulo', 'São Paulo', 'Rio de Janeiro', 'Brasília', 'Salvador', 'Curitiba', 'Belo Horizonte'],\n",
    "    'idade': [34, 23, 32, 43, 38, 31, 34], \n",
    "    'nota 1': [83.0, 59.0, 86.0, 89.0, 98.0, 61.0, 44.0]\n",
    "}\n",
    "ids = [10, 11, 12, 13, 14, 15, 16]\n",
    "dfAlunos = pd.DataFrame(data=dados, index=ids)\n",
    "dfAlunos"
   ]
  },
  {
   "cell_type": "markdown",
   "metadata": {},
   "source": [
    "## Dimensão (shape) e vizualização\n",
    "\n",
    "Dataframes possuem a propriedade *shape* que contém as dimensões do objeto e os métodos *head(n)* e *tail(n)* que permitem, respectivamente, a visualização das *n* primeiras ou últimas linhas.<br>\n",
    "Ao carregar um dataframe é sempre útil visualizar suas primeiras linhas e nomes de colunas.<br>\n",
    "Também pode ser útil visualizar a matriz sob forma transposta."
   ]
  },
  {
   "cell_type": "code",
   "execution_count": null,
   "metadata": {},
   "outputs": [],
   "source": [
    "print(dfAlunos.shape)\n",
    "# Visualizar as duas primeiras linhas\n",
    "print(dfAlunos.head(2))\n",
    "# Visualizar as duas últimas linhas\n",
    "print(dfAlunos.tail(2))\n",
    "# Visualizar a transposta\n",
    "dfAlunos.T"
   ]
  },
  {
   "cell_type": "markdown",
   "metadata": {},
   "source": [
    "\n",
    "## Colunas\n",
    "\n",
    "Os nomes das colunas podem ser obtidos em uma lista ou em um nome específico.<br>\n",
    "Devemos nos lembrar que cada coluna do dataframe é uma Series.<br>\n",
    "Portanto valem para elas os métodos e propriedades das Series."
   ]
  },
  {
   "cell_type": "code",
   "execution_count": null,
   "metadata": {},
   "outputs": [],
   "source": [
    "# Colunas do dataframe\n",
    "print(dfAlunos.columns)\n",
    "\n",
    "# Coluna dois do dataframe (numeração inicia em zero)\n",
    "print(dfAlunos.columns[1])\n",
    "\n",
    "# Coluna cidade\n",
    "print(dfAlunos['cidade'])\n",
    "\n",
    "# Cada coluna é uma Series\n",
    "type(dfAlunos['cidade'])"
   ]
  },
  {
   "cell_type": "markdown",
   "metadata": {},
   "source": [
    "Os métodos das Series se aplicam"
   ]
  },
  {
   "cell_type": "code",
   "execution_count": null,
   "metadata": {},
   "outputs": [],
   "source": [
    "# Conta valores\n",
    "print(dfAlunos['cidade'].value_counts())\n",
    "\n",
    "# Valores únicos\n",
    "dfAlunos['cidade'].unique()"
   ]
  },
  {
   "cell_type": "markdown",
   "metadata": {},
   "source": [
    "## Operações com colunas e linhas\n",
    "### Incluir colunas\n",
    "As colunas são incluídas do datataframe pela operação de atribuição.<br>\n",
    "Basta indexar o dataframe com o nome da nova coluna e atribuir os valores correspondentes.<br>\n",
    "Os valores podem derivar de operações com valores de colunas existentes.<br>\n",
    "O dataframe original é modificado."
   ]
  },
  {
   "cell_type": "code",
   "execution_count": null,
   "metadata": {},
   "outputs": [],
   "source": [
    "# Inclui a coluna nota 2\n",
    "dfAlunos['nota 2'] = [72.0, 86.0, 82.0, 83.0, 94.0, 86.0, 62.0]\n",
    "# Inclui a coluna media com valores iguais à media aritmética nota 1 e nota 2\n",
    "dfAlunos['media'] = (dfAlunos['nota 1'] + dfAlunos['nota 2'])/2\n",
    "print(dfAlunos)\n",
    "print(dfAlunos.shape)"
   ]
  },
  {
   "cell_type": "markdown",
   "metadata": {},
   "source": [
    "### Excluir colunas\n",
    "Como os valores da coluna *media* podem ser derivados das colunas *nota 1* e *nota 2* vamos remover a coluna *media*.<br>\n",
    "Para remover uma coluna utilizamos o método *.drop()*, sendo necessário informar o identificador da coluna e o eixo.<br>\n",
    "Por default o método *.drop()* gera um novo dataframe e não altera o original.<br>\n",
    "Para alterar o original é necessário usar o parâmetro *inplace=True*."
   ]
  },
  {
   "cell_type": "code",
   "execution_count": null,
   "metadata": {},
   "outputs": [],
   "source": [
    "# a operação seguinte retorna o dataframe sem a coluna 'calculado' mas não altera a original\n",
    "print(dfAlunos.drop(['media'], axis=1))\n",
    "print(dfAlunos)\n",
    "# para alterar o dataframe usamos o parâmetro inplace=True\n",
    "dfAlunos.drop(['media'], axis=1, inplace=True)\n",
    "print(dfAlunos)"
   ]
  },
  {
   "cell_type": "markdown",
   "metadata": {},
   "source": [
    "### Seleção de colunas\n",
    "Para selecionar mais de uma coluna passamos uma lista com os nomes dos campos entre os colchetes."
   ]
  },
  {
   "cell_type": "code",
   "execution_count": null,
   "metadata": {},
   "outputs": [],
   "source": [
    "dfAlunos[['nome','idade']]"
   ]
  },
  {
   "cell_type": "markdown",
   "metadata": {},
   "source": [
    "## Incluir linhas\n",
    "Para incluir uma ou mais linhas (registros) ao dataframe cria-se um novo dataframe com quantas linhas forem necessárias e o concatena com o antigo usando o método *.concat()*.\n",
    "O dataframe original não é modificado.<br>\n",
    "Caso se pretenda que modificação se torne permanente deve-se atribuir o resultado retornado a um novo (ou o mesmo) dataframe."
   ]
  },
  {
   "cell_type": "code",
   "execution_count": null,
   "metadata": {},
   "outputs": [],
   "source": [
    "# criar novo dataframe para Juliana e seus dados\n",
    "dfNovo1 = pd.DataFrame([('Juliana','Curitiba',28,80.0,76.0)],\n",
    "                             columns=['nome','cidade','idade','nota 1','nota 2'],\n",
    "                             index=[17])\n",
    "dfNovo2 = pd.DataFrame([('Paulo','Porto Alegre',25,88.0, 92.0)],\n",
    "                             columns=['nome','cidade','idade','nota 1','nota 2'],\n",
    "                             index=[18])\n",
    "dfAlunos = pd.concat([dfAlunos, dfNovo1, dfNovo2])\n",
    "print(dfAlunos)"
   ]
  },
  {
   "cell_type": "markdown",
   "metadata": {},
   "source": [
    "### Soma de linhas e colunas\n",
    "É possível obter somas dos termos, tanto no sentido das linhas quanto das colunas com o método *.sum()*."
   ]
  },
  {
   "cell_type": "code",
   "execution_count": null,
   "metadata": {},
   "outputs": [],
   "source": [
    "# selecionar as variáveis nota1 e nota 2\n",
    "dfNumerico=dfAlunos[['nota 1', 'nota 2']]\n",
    "# somar no eixo vertical\n",
    "print(dfNumerico.sum())   # o mesmo que dfNumerico.sum(axis=0)\n",
    "# somar no eixo horizontal\n",
    "print(dfNumerico.sum(axis=1))"
   ]
  },
  {
   "cell_type": "markdown",
   "metadata": {},
   "source": [
    "## Escrever arquivo .csv\n",
    "O dataframe pode ser gravado em arquivos *csv* utilizando o método *.to_csv()*.<br>\n",
    "A coluna de índices será salva sem identificador.<br>\n",
    "Para excluir a coluna de índices passar o parâmetro *index=False*.<br>\n",
    "Para incluir o identificador na coluna de índices passar o parâmentro *index_label = 'identificador_do_indice'*."
   ]
  },
  {
   "cell_type": "code",
   "execution_count": null,
   "metadata": {},
   "outputs": [],
   "source": [
    "dfAlunos.to_csv('./alunos.csv')"
   ]
  },
  {
   "cell_type": "markdown",
   "metadata": {},
   "source": [
    "## Ler arquivo .csv\n",
    "Um arquivo csv pode ser carregado em um dataframe com o comando *pr.read_csv*\n",
    "Para recuperar o ídice é necessário informar em que coluna ele se encontra."
   ]
  },
  {
   "cell_type": "code",
   "execution_count": null,
   "metadata": {},
   "outputs": [],
   "source": [
    "dfAlunos1 = pd.read_csv('./alunos.csv', index_col=0)\n",
    "print(dfAlunos1)"
   ]
  },
  {
   "cell_type": "markdown",
   "metadata": {},
   "source": [
    "## Extrega\n",
    "Envar o arquivo alunos.csv"
   ]
  }
 ],
 "metadata": {
  "kernelspec": {
   "display_name": "Python 3",
   "language": "python",
   "name": "python3"
  },
  "language_info": {
   "codemirror_mode": {
    "name": "ipython",
    "version": 3
   },
   "file_extension": ".py",
   "mimetype": "text/x-python",
   "name": "python",
   "nbconvert_exporter": "python",
   "pygments_lexer": "ipython3",
   "version": "3.8.3"
  }
 },
 "nbformat": 4,
 "nbformat_minor": 2
}
