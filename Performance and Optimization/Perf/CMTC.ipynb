{
 "cells": [
  {
   "cell_type": "markdown",
   "metadata": {},
   "source": [
    "# FORMATIVA - cadeias de Markov em tempo contínuo"
   ]
  },
  {
   "cell_type": "markdown",
   "metadata": {},
   "source": [
    "Importar as bibliotecas que serão usadas."
   ]
  },
  {
   "cell_type": "code",
   "execution_count": null,
   "metadata": {},
   "outputs": [],
   "source": [
    "import numpy as np\n",
    "from IPython.display import Image, display"
   ]
  },
  {
   "cell_type": "markdown",
   "metadata": {},
   "source": [
    "## Exercício 1\n",
    "Implementar uma função cmtdP para calcular o estado permanente de uma cadeia de Markov em tempo discreto.<br>\n",
    "A função recebe como argumento a matriz de probabilidades de um passo (P)<br><br>\n",
    "Algoritmo:\n",
    "* Testa se a matriz está corretamente construída<br>\n",
    "Matriz quadrada e valores de uma linha tem que somar 0\n",
    "* Calcula matriz A <br>\n",
    "A = Transposta(Q) <br>\n",
    "A = A concatenada com vetor de 1s de tamanho n (usar np.vstack para concatenar)\n",
    "* Calcula vetor B <br>\n",
    "B = vetor de zeros de tamanho n concatenado com [1] (usar np.hstack para concatenar)\n",
    "* Calcular o vetor PI <br>\n",
    "Usar a função np.linalg.pinv para calcular A_pinv<br>\n",
    "Usar a função np.dot para multiplicar A_pinv e B"
   ]
  },
  {
   "cell_type": "code",
   "execution_count": null,
   "metadata": {},
   "outputs": [],
   "source": [
    "def cmtcP(Q):\n",
    "    [r,c] = Q.shape\n",
    "    if ((r != c) | np.any(np.sum(Q, 1) != 0)):\n",
    "        raise Exception('Matriz P invalida!')\n",
    "    \n",
    "    # Coloque seu código aqui\n",
    "\n",
    "    return PI"
   ]
  },
  {
   "cell_type": "markdown",
   "metadata": {},
   "source": [
    "## Exercício 2\n",
    "Um ateliê comporta duas máquinas idênticas, cada uma com taxa de falha de 0,25 falhas por dia. Quando uma máquina falha ela precisa passar por dois reparadores (r1 e r2), necessariamente nessa ordem, ou seja, primeiro pelo reparador r1 e depois pelo reparador r2. A taxa de reparação do reparador r1 é 0,5 reparações por dia e a taxa de reparação do reparador r2 é 0,75 reparações por dia. Os estados do sistema são representados por uma tripla de variáveis (n, r1, r2), onde n é a quantidade de máquinas em reparação, ou seja, n = 0, 1 ou 2; r1é igual a zero se o reparador 1 não está ocupado e igual a 1 se o reparador 1 está ocupado; r2é igual a zero se o reparador 2 não está ocupado e igual a 1 se o reparador 2 está ocupado. A cadeia de Markov que representa o processo de funcionamento do atelier terá então 6 estados:<br>\n",
    "Estado 1: (0, 0, 0) = nenhuma máquina com defeito e nenhum reparador trabalhando<br> \n",
    "Estado 2: (1, 1, 0) = uma máquina com defeito e reparador 1 trabalhando<br>\n",
    "Estado 3: (1, 0, 1) = uma máquina com defeito e reparador 2 trabalhando<br>\n",
    "Estado 4: (2, 1, 0) = duas máquinas com defeito e reparador 1 trabalhando<br> \n",
    "Estado 5: (2, 1, 1) = duas máquinas com defeito e reparadores 1 e 2 trabalhando<br>\n",
    "Estado 6: (2, 0, 1) = duas máquinas com defeito e reparador 2 trabalhando (a segunda máquina que falhou está aguardando o reparador 2 que ainda trabalha na primeira máquina que falhou)<br><br>\n",
    "Calcular as probabilidades do regime permanente."
   ]
  },
  {
   "cell_type": "code",
   "execution_count": null,
   "metadata": {},
   "outputs": [],
   "source": [
    "display(Image('CMTC_Imagem.jpg'))"
   ]
  },
  {
   "cell_type": "code",
   "execution_count": null,
   "metadata": {},
   "outputs": [],
   "source": [
    "# Calcular a matriz Q\n",
    "# Colocar seu código aqui\n",
    "Q = np.array([[0, 0, 0, 0, 0, 0],[0, 0, 0, 0, 0, 0],[0, 0, 0, 0, 0, 0],\n",
    "              [0, 0, 0, 0, 0, 0],[0, 0, 0, 0, 0, 0],[0, 0, 0, 0, 0, 0]], \n",
    "             dtype=np.float64)"
   ]
  },
  {
   "cell_type": "code",
   "execution_count": null,
   "metadata": {},
   "outputs": [],
   "source": [
    "# Calcular o vetor PI\n",
    "print(cmtcP(Q))"
   ]
  },
  {
   "cell_type": "code",
   "execution_count": null,
   "metadata": {},
   "outputs": [],
   "source": []
  }
 ],
 "metadata": {
  "kernelspec": {
   "display_name": "Python 3",
   "language": "python",
   "name": "python3"
  },
  "language_info": {
   "codemirror_mode": {
    "name": "ipython",
    "version": 3
   },
   "file_extension": ".py",
   "mimetype": "text/x-python",
   "name": "python",
   "nbconvert_exporter": "python",
   "pygments_lexer": "ipython3",
   "version": "3.8.3"
  }
 },
 "nbformat": 4,
 "nbformat_minor": 4
}
