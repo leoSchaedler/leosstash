{
 "cells": [
  {
   "cell_type": "markdown",
   "metadata": {},
   "source": [
    "# Matplotlib\n",
    "\n",
    "Plotar dados em gráficos.<br>\n",
    "Importar a biblioteca $matplotlib$ como mpl, as funções de plotagem $pyplot$ como plt e a biblioteca $numpy$ como np."
   ]
  },
  {
   "cell_type": "code",
   "execution_count": null,
   "metadata": {},
   "outputs": [],
   "source": [
    "import matplotlib as mpl\n",
    "import matplotlib.pyplot as plt\n",
    "import numpy as np"
   ]
  },
  {
   "cell_type": "markdown",
   "metadata": {},
   "source": [
    "\n",
    "## Componentes principais\n",
    "[Artist](https://matplotlib.org/stable/api/artist_api.html#matplotlib.artist.Artist) é uma classe abstrata que é base para os objetos que são renderizados em uma Figure.<br>\n",
    "\n",
    "[Figure](https://matplotlib.org/stable/api/figure_api.html#matplotlib.figure.Figure) é a instância de nível mais alto da classe $Artist$. Todos os elementos visíveis em uma $Figure$ (figura) são subclasses da classe $Artist$.<br>\n",
    "\n",
    "[Axes](https://matplotlib.org/stable/api/axes_api.html#matplotlib.axes.Axes) é um $Artist$ anexado a uma Figure que contém uma região para plotagem de dados. Inclui dois ou três (no caso de 3D) objetos $Axis$.<br>\n",
    "\n",
    "[Axis](https://matplotlib.org/stable/api/axis_api.html#matplotlib.axis.Axis) é uma classe para os eixos de umm subplot. Fornece ticks e rótulos de ticks para as escalas dos dados nos eixos da figura. Cada Eixo tem um título (definido por meio de set_title()), um rótulo x (definido por meio de set_xlabel()) e um rótulo y definido por set_ylabel()).<br>\n",
    "\n",
    "Função $pyplot.subplots$: Cria uma figura e um conjunto de áreas de plotagens (subplot). Cada subplot é um objeto $Axes$ que contém dois ou tês eixos de coordenadas ($Axis$).<br>\n",
    "\n",
    "Função $Axes.plot$: Recebe um conjunto de dados para cada eixo ($Axis$) e plota os dados recebidos.\n",
    "\n",
    "### Tipos de entradas para funções de plotagem\n",
    "* numpy.array\n",
    "* numpy.ma.masked_array\n",
    "* objetos que podem ser convertidos pela função numpy.asarray\n",
    "\n",
    "A maioria dos métodos poderá receber um objeto endereçável: $dict$, $numpy.matrix$ ou $pandas.DataFrame$.<br>\n",
    "Classes semelhantes a arrays, como $pandas.DataFrame$ e $numpy.matrix$, podem não funcionar conforme o esperado e devem ser convertidos para numpy.array antes da plotagem.\n",
    "\n",
    "### Exemplo\n",
    "* Criar uma figura com uma única área de plotagem (ax)<br>\n",
    "* Usar ax.plot para desenhar dados"
   ]
  },
  {
   "cell_type": "code",
   "execution_count": null,
   "metadata": {},
   "outputs": [],
   "source": [
    "fig, ax = plt.subplots()  # Cria figura com um único subplot (eixo ax)\n",
    "ax.plot([1, 2, 3, 4], [1, 4, 2, 3]);  # Plotar os dados"
   ]
  },
  {
   "cell_type": "markdown",
   "metadata": {},
   "source": [
    "## Estilos de codificação\n",
    "* orientado a objetos: criar Figures e Axes e chamar seus métodos\n",
    "* automático: utilizar no pyplot para criar e gerenciar automaticamente as Figures e Axes"
   ]
  },
  {
   "cell_type": "markdown",
   "metadata": {},
   "source": [
    "### Orientado a objetos"
   ]
  },
  {
   "cell_type": "code",
   "execution_count": null,
   "metadata": {},
   "outputs": [],
   "source": [
    "x = np.linspace(0, 2, 100)  # Dados\n",
    "\n",
    "# Nos dois estilos usamos pyplot.figure para criar a figura\n",
    "fig, ax = plt.subplots(figsize=(5, 2.7))\n",
    "ax.plot(x, x, label='linear')  # Plotar y = x\n",
    "ax.plot(x, x**2, label='quadratico')  # Plotar y = x**2\n",
    "ax.plot(x, x**3, label='cubico')  # Plotar y = x**3\n",
    "ax.set_xlabel('x')  # Rótulo do eixo x (Axis)\n",
    "ax.set_ylabel('y')  # Rótulo do eixo y (Axis)\n",
    "ax.set_title(\"Gráfico simples\")  # Título do subplot (Axe)\n",
    "ax.legend();  # Legenda"
   ]
  },
  {
   "cell_type": "markdown",
   "metadata": {},
   "source": [
    "\n",
    "### Automático"
   ]
  },
  {
   "cell_type": "code",
   "execution_count": null,
   "metadata": {},
   "outputs": [],
   "source": [
    "x = np.linspace(0, 2, 100)  # Dados\n",
    "\n",
    "plt.figure(figsize=(5, 2.7))\n",
    "plt.plot(x, x, label='linear')  # Plotar y = x\n",
    "plt.plot(x, x**2, label='quadratico')  # Plotar y = x**2\n",
    "plt.plot(x, x**3, label='cubico') # Plotar y = x***3\n",
    "plt.xlabel('x')\n",
    "plt.ylabel('y')\n",
    "plt.title(\"Gráfico simples\")\n",
    "plt.legend();"
   ]
  },
  {
   "cell_type": "markdown",
   "metadata": {},
   "source": [
    "## Estilos\n",
    "A maioria dos métodos de plotagem tem opções de estilo para os objetos da classe $Artist$.<br>\n",
    "As linhas podem ter [estilos](https://matplotlib.org/stable/gallery/lines_bars_and_markers/linestyles.html) diferentes.<br>\n",
    "Exemplo: definição manual da cor, da largura de linha e do estilo de linha."
   ]
  },
  {
   "cell_type": "code",
   "execution_count": null,
   "metadata": {},
   "outputs": [],
   "source": [
    "dados1, dados2, dados3, dados4 = np.random.randn(4, 100)  # Quatro datasets aleatórios\n",
    "\n",
    "fig, ax = plt.subplots(figsize=(5, 2.7))\n",
    "x = np.arange(len(dados1))\n",
    "ax.plot(x, np.cumsum(dados1), color='blue', linewidth=3, linestyle='--')\n",
    "ax.plot(x, np.cumsum(dados2), color='orange', linewidth=2, linestyle=':');"
   ]
  },
  {
   "cell_type": "markdown",
   "metadata": {},
   "source": [
    "### Marcadores\n",
    "O tamanho do marcador depende do método que está sendo usado:\n",
    "* plot especifica o tamanho do marcador em pontos e geralmente é o \"diâmetro\" ou a largura do marcador\n",
    "* scatter especifica o tamanho do marcador como aproximadamente proporcional à área visual do marcador.<br>\n",
    "\n",
    "Há vários [estilos de marcador](https://matplotlib.org/stable/gallery/lines_bars_and_markers/marker_reference.html) disponíveis.<br>\n",
    "[Legendas](https://matplotlib.org/stable/api/_as_gen/matplotlib.axes.Axes.legend.html#matplotlib.axes.Axes.legend) podem ser colocada fora do quadro da figura."
   ]
  },
  {
   "cell_type": "code",
   "execution_count": null,
   "metadata": {},
   "outputs": [],
   "source": [
    "fig, ax = plt.subplots(figsize=(5, 2.7))\n",
    "ax.plot(data1, 'o', label='dados1')\n",
    "ax.plot(data2, 'd', label='dados2')\n",
    "ax.plot(data3, 'v', label='dados3')\n",
    "ax.plot(data4, 's', label='dados4')\n",
    "ax.legend(loc='center left', bbox_to_anchor=(1, 0.5));"
   ]
  },
  {
   "cell_type": "markdown",
   "metadata": {},
   "source": [
    "### Cores\n",
    "Um $Artist$ pode ter mais de uma [c](https://matplotlib.org/stable/tutorials/colors/colors.html)or.<br>\n",
    "No diagrama de dispersão (scatter) a seguir:\n",
    "* a borda dos marcadores possue cor diferente do seu interior\n",
    "* o tamanho do marcador é modificado pelo parâmetro s"
   ]
  },
  {
   "cell_type": "code",
   "execution_count": null,
   "metadata": {},
   "outputs": [],
   "source": [
    "fig, ax = plt.subplots(figsize=(5, 2.7))\n",
    "ax.scatter(dados1, dados2, s=50, facecolor='C0', edgecolor='k');"
   ]
  },
  {
   "cell_type": "markdown",
   "metadata": {},
   "source": [
    "### Rótulos e intervalos de eixos"
   ]
  },
  {
   "cell_type": "code",
   "execution_count": null,
   "metadata": {},
   "outputs": [],
   "source": [
    "mu, sigma = 115, 15\n",
    "x = mu + sigma * np.random.randn(10000)\n",
    "fig, ax = plt.subplots(figsize=(5, 2.7))\n",
    "# Histograma\n",
    "n, bins, patches = ax.hist(x, 50, density=1, facecolor='C0', alpha=0.75)\n",
    "\n",
    "ax.set_xlabel('Tamanho [cm]')\n",
    "ax.set_ylabel('Probabilidade')\n",
    "ax.set_title('Vamos estudar o que é um histograma')\n",
    "ax.axis([55, 175, 0, 0.03])\n",
    "ax.grid(True);"
   ]
  },
  {
   "cell_type": "markdown",
   "metadata": {},
   "source": [
    "### Múltiplos Axes\n",
    "A função subplots pode criar múltiplos $Axes$ (informar quantidade de linhas e colunas).<br>\n",
    "Os ticks podem ser atribuídos automaticamente ou manualmente."
   ]
  },
  {
   "cell_type": "code",
   "execution_count": null,
   "metadata": {},
   "outputs": [],
   "source": [
    "x = np.arange(len(data1))  # dados eixo x\n",
    "\n",
    "fig, axes = plt.subplots(1, 2, figsize=(12, 2.7))\n",
    "axes[0].plot(x, dados1)\n",
    "axes[0].set_title('Ticks automáticos')\n",
    "\n",
    "axes[1].plot(x, dados1)\n",
    "axes[1].set_xticks(np.arange(0, 100, 30))\n",
    "axes[1].set_yticks([-1.5, 0, 1.5]) \n",
    "axes[1].set_title('Ticks manuais');\n",
    "\n",
    "plt.savefig('FORMATIVA02.png')"
   ]
  },
  {
   "cell_type": "code",
   "execution_count": null,
   "metadata": {},
   "outputs": [],
   "source": []
  }
 ],
 "metadata": {
  "kernelspec": {
   "display_name": "Python 3",
   "language": "python",
   "name": "python3"
  },
  "language_info": {
   "codemirror_mode": {
    "name": "ipython",
    "version": 3
   },
   "file_extension": ".py",
   "mimetype": "text/x-python",
   "name": "python",
   "nbconvert_exporter": "python",
   "pygments_lexer": "ipython3",
   "version": "3.8.3"
  }
 },
 "nbformat": 4,
 "nbformat_minor": 2
}
