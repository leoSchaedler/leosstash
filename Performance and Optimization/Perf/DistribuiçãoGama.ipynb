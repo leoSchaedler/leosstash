{
 "cells": [
  {
   "cell_type": "markdown",
   "metadata": {},
   "source": [
    "# Distribuição gama\n",
    "Função de densidade de probabilidade:<br>\n",
    "* $f_{X}(x)=\\frac{\\beta e^{-\\beta x} \\left( \\beta x \\right)^{\\alpha-1}} {\\Gamma\\left( \\alpha \\right)}$\n",
    "* onde $\\Gamma\\left( \\alpha \\right) = \\int_{-\\infty }^{\\infty }\\beta e^{-\\beta x} \\left( \\beta x \\right)^{\\alpha-1}dx$\n",
    "* $x\\ge 0,\\text{  }\\alpha\\gt 0,\\text{ }\\beta\\gt 0$\n",
    "* $E\\left[ X \\right]=\\frac{\\alpha}{\\beta}$\n",
    "* $V\\left[ X \\right]=\\frac{\\alpha}{\\beta^{2}}$\n",
    "\n",
    "Propriedade da função gama:\n",
    "* $\\Gamma\\left( \\alpha \\right)=\\left( \\alpha-1 \\right)\\text{ }\\Gamma\\left( \\alpha-1 \\right)$"
   ]
  },
  {
   "cell_type": "code",
   "execution_count": null,
   "metadata": {},
   "outputs": [],
   "source": [
    "from gamma_PDF_CDF import plotGamaPDF, plotGamaCDF\n",
    "plotGamaPDF(0.8, 2)\n",
    "plotGamaPDF(1.5, 2)\n",
    "plotGamaPDF(50, 1)\n",
    "plotGamaCDF(5, 0.5)"
   ]
  },
  {
   "cell_type": "markdown",
   "metadata": {},
   "source": [
    "## Distribuição de Erlang\n",
    "Quando $\\alpha$ = $N$ (inteiro positivo) e $\\beta$ = $L$.\n",
    "* $f_{x}\\left( x \\right)=\\frac{L e^{-Lx} \\left( Lx \\right)^{N-1}}{\\left( N-1 \\right)!}=\\frac{L^{N} x^{N-1}}{\\left( N-1 \\right)!} e^{-Lx}$\n",
    "* $F_{x}\\left( x \\right)= 1-\\sum_{j=0}^{N-1} e^{-Lx} \\frac{\\left( Lx \\right)^{j}}{j!}$\n",
    "* $E\\left[ X \\right]=\\frac{N}{L}$\n",
    "* $V\\left[ X \\right]=\\frac{N}{L^{2}}$\n",
    "\n",
    "A distribuição de Erlang corresponde à soma de $N$ varáveis aleatórias exponenciais com parâmetro $L$ e média $MU = \\frac{1}{L}$.<br><br>\n",
    "\n",
    "Para enfatizar que trata-se da soma de $N$ variáveis aleatórias com média $MU$ vamos representar pela variável aleatória $S_{N,MU}$:\n",
    "* $P\\left[ S_{N,MU} = x \\right] =  1-\\sum_{j=0}^{N-1} e^{-Lx} \\frac{\\left( Lx \\right)^{j}}{j!}$\n",
    "\n",
    "No scipy.stats:\n",
    "* import scipy.stats as st\n",
    "* st.gamma.pdf(a=N, scale=MU)\n",
    "* st.gamma.cff(a=N,scale=MU)"
   ]
  },
  {
   "cell_type": "markdown",
   "metadata": {},
   "source": [
    "## Exercício 1\n",
    "Um grupo de mini-VANs está esperando passageiros no aeroporto. O tempo entre duas chegadas consecutivas de passageiros é distribuído exponencialmente com  média de 3 passageiros por minuto. Uma mini-VAN parte assim que tem 5 passageiros ou assim que se passe 10 minutos desde que o primeiro passageiro entrou na mini-VAN. Suponha que você foi o primeiro passageiro a entrar na min-VAN. Qual é a probabilidade que você tenha que esperar 10 minutos até a saída da mini-VAN?<br><br>\n",
    "$P\\left[ S_{N,MU} = x \\right] =  1-\\sum_{j=0}^{N-1} e^{-Lx} \\frac{\\left( Lx \\right)^{j}}{j!}$<br>\n",
    "Para que você espere 10 minutos, a chegada do quarto passageiro depois de você deve ocorrer após 10 minutos.<br>\n",
    "Isso corresponde à soma de 4 variáveis aleatórias exponenciais com média 3 ($L=1/3)$ ser maior do que 10.<br>\n",
    "$P\\left[ S_{4,3} > 10 \\right] =  \\sum_{j=0}^{4-1} e^{-\\frac{1}{3}10} \\frac{\\left( \\frac{1}{3}10 \\right)^{j}}{j!}$\n",
    "$P\\left[ S_{4,3} > 10 \\right] = \\frac{\\left( 10/3 \\right)^{0}}{0!}e^{-\\frac{1}{3}10}+\\frac{\\left( 10/3 \\right)^{1}}{1!}e^{-\\frac{1}{3}10}+\\frac{\\left( 10/3 \\right)^{2}}{2!}e^{-\\frac{1}{3}10}+\\frac{\\left( 10/3 \\right)^{3}}{3!}e^{-\\frac{1}{3}10}=0,5730$"
   ]
  },
  {
   "cell_type": "code",
   "execution_count": null,
   "metadata": {},
   "outputs": [],
   "source": [
    "import scipy.stats as st\n",
    "1- st.gamma.cdf(10, a=4, scale=3)"
   ]
  },
  {
   "cell_type": "code",
   "execution_count": null,
   "metadata": {},
   "outputs": [],
   "source": []
  }
 ],
 "metadata": {
  "kernelspec": {
   "display_name": "Python 3",
   "language": "python",
   "name": "python3"
  },
  "language_info": {
   "codemirror_mode": {
    "name": "ipython",
    "version": 3
   },
   "file_extension": ".py",
   "mimetype": "text/x-python",
   "name": "python",
   "nbconvert_exporter": "python",
   "pygments_lexer": "ipython3",
   "version": "3.8.3"
  }
 },
 "nbformat": 4,
 "nbformat_minor": 4
}
