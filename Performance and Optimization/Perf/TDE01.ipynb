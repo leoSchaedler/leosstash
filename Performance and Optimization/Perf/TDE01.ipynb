{
 "cells": [
  {
   "cell_type": "markdown",
   "metadata": {},
   "source": [
    "## Passeio Aleatório\n",
    "\n",
    "Uma partícula se desloca passo a passo de modo aleatório em uma trajetória reta. A partícula inicia na posição 0 (zero) e a cada passo vai para uma posição adjacente. A cada etapa, a partícula pode realizar um deslocamento (um passo) de comprimento 1, para uma direção (direita ou esquerda) com igual probabilidade. A probabilidade de ela se deslocar para a esquerda é a mesma de ela se deslocar para direta, e igual a 0,5 (a partícula não pode permanecer parada de uma etapa para outra).\n",
    "\n",
    "Por exemplo, se estiver na posição 0, pode ir para posição 1 ou para a posição -1, com a mesma probabilidade. Se estiver na posição 1, pode ir para a posição 0 ou para a posição 2. Se estiver na posição -1 pode ir para a posição 0 ou para a posição -2. E assim para todas as posições, realizando um passeio de n passos.\n",
    "\n",
    "Ao terminar o passeio aleatório a partícula estará na posição k. Queremos determinar a probabilidade de que partícula termine o passeio de n (n ≥ 1) passos na posição k? Para mais detalhes sobre o problema, assista o vídeo no seguinte link: \n",
    "[https://www.youtube.com/watch?v=vz1wWCFpzl0&feature=youtu.be&hd=1]"
   ]
  },
  {
   "cell_type": "markdown",
   "metadata": {},
   "source": [
    "### Simulação interativa\n",
    "\n",
    "A função Passeio (próxima célula) realiza nsim simulações interativas de um passeio aleatório de npasssos e calcula a probabilidade de o passeio terminar em pos. Várias funções de apoio compõem a solução:\n",
    "* Função mesma_paridade: A posição final do passeio tem que ter a mesma paridade do número de passos. Se passarmos valores de npassos e pos com valores com paridade diferente, o resultado tem que ser zero, e a fórmula da probabilidade não é valida para esse caso (assistir o vídeo para explicação mais detalhada). Retorna verdadeiro se n e x têm a mesma paridade, ou seja, retorna verdadeiro se ambos são pares ou se ambos são ímpares.<br>\n",
    "* Função combinacao: Calcula combinação de n, x-a-x.<br>\n",
    "* Função simula_posição: Simula um passeio aleatório. A quantidade de passos e passado no argumento (passos). Retorna a posição final após a simulação.\n",
    "\n",
    "Execute a simulação para diversos números de passos, para diversas posições finais. Em cada caso, varie o número de simulações usando 1000, 10.000 e 100.000. Observe que quanto maior o número de simulações, melhor a precisão da simulação. Procure entender como o código resolve o problema."
   ]
  },
  {
   "cell_type": "code",
   "execution_count": 1,
   "metadata": {},
   "outputs": [
    {
     "name": "stdout",
     "output_type": "stream",
     "text": [
      "Defina o numero de passos: 10\n",
      "Defina a posicao final da trajetoria: 4\n",
      "Defina o numero de simulacoes: 10000\n",
      "Resultado teorico: 0.11719\n",
      "Resultado simulado: 0.12030\n"
     ]
    }
   ],
   "source": [
    "# Passeio aleatorio\n",
    "\n",
    "from math import factorial\n",
    "from random import randrange\n",
    "\n",
    "def combinacao(n, x):\n",
    "    return factorial(n)/(factorial(x)*(factorial(n - x)))\n",
    "\n",
    "def mesma_paridade(n, k):\n",
    "\treturn (n % 2 == 0 and k % 2 == 0) or (n % 2 != 0 and k % 2 != 0)\n",
    "\n",
    "def simula_posicao(passos):\n",
    "\tposicao = 0\n",
    "\tfor i in range(passos):\n",
    "\t\tlado = randrange(0,2)\n",
    "\t\tif lado == 0:\n",
    "\t\t\t# foi pra esquerda\n",
    "\t\t\tposicao -= 1\n",
    "\t\telse:\n",
    "\t\t\t# foi pra direita\n",
    "\t\t\tposicao += 1\n",
    "\treturn posicao\n",
    "\n",
    "def Passeio(npassos, pos, nsim):\n",
    "\t# calculo simulado\n",
    "\tdeuCerto = 0\n",
    "\tfor i in range(nsim):\n",
    "\t\tif simula_posicao(npassos) == pos:\n",
    "\t\t\tdeuCerto += 1\n",
    "\n",
    "\tpSim = deuCerto/nsim\n",
    "\n",
    "\t# calculo teorico\n",
    "\tif mesma_paridade(npassos, pos):\n",
    "\t\tpTeorica = combinacao(npassos, (npassos+pos)/2) * (2**(-npassos))\n",
    "\telse:\n",
    "\t\tpTeorica = 0\n",
    "\n",
    "\treturn(pTeorica, pSim)\n",
    "\n",
    "npassos = int(input(\"Defina o numero de passos: \"))\n",
    "pos = int(input(\"Defina a posicao final da trajetoria: \"))\n",
    "nsim = int(input(\"Defina o numero de simulacoes: \"))\n",
    "\n",
    "resultado_teorico, resultado_simulado = Passeio(npassos, pos, nsim)\n",
    "\n",
    "\n",
    "print ('Resultado teorico: {0:.5f}'.format(resultado_teorico))\n",
    "print ('Resultado simulado: {0:.5f}'.format(resultado_simulado))"
   ]
  },
  {
   "cell_type": "markdown",
   "metadata": {},
   "source": [
    "### Simulação vetorial\n",
    "\n",
    "Complete o código da função PasseioV (próxima célula). A função de realizar nsim simulações vetoriais de passeios aleatórios de npasssos e calcular a probabilidade de o passeio terminar em pos. \n",
    "\n",
    "Execute a simulação para diversos números de passos, para diversas posições finais. Em cada caso, varie o número de simulações usando 1000, 10.000 e 100.000. Compare os resultados com os resultdos da simulação interativa. Os resultados teóricos devem ser idênticos aos resultados encontrados na simulação interativa. Para nsim = 100000, os resultados simulados devem ficar muito próximos dos resultados encontrados na simulação interativa (diferença dos resultados deve ser menor do que 0.01)."
   ]
  },
  {
   "cell_type": "code",
   "execution_count": null,
   "metadata": {},
   "outputs": [],
   "source": [
    "import numpy as np\n",
    "from math import factorial\n",
    "\n",
    "def combinacao(n, x):\n",
    "    return factorial(n)/(factorial(x)*(factorial(n - x)))\n",
    "\n",
    "def mesma_paridade(n, k):\n",
    "\treturn (n % 2 == 0 and k % 2 == 0) or (n % 2 != 0 and k % 2 != 0)\n",
    "\n",
    "def PasseioV(npassos, pos, nsim):\n",
    "    # simulacao vetorial\n",
    "\n",
    "    # Passo 1\n",
    "    # sortear uma matriz (array) com nsim linhas e npassos colunas\n",
    "    # cada linha da matriz é um passeio com npassos\n",
    "    # cada passo tem valor 1 (passo à direita) ou -1 (passo à esquerda) com a mesma probabilidade\n",
    "    # dica: utilizar np.random.choice\n",
    "    \n",
    "    # Passo 2\n",
    "    # somar os valores das linhas da matriz calculada anteriormente\n",
    "    # o resultado é um vetor com as posicoes finais de cada passeio\n",
    "    \n",
    "    \n",
    "    # Passo 3\n",
    "    # calcular a probabilidade simulada \n",
    "    # pSim deve ser igual a quantidade de passeios que terminaram na posicao pos divida pelo numero de simulacoes\n",
    "    # o comando abaixo faz pSim = 0 para o programa não dar erro se for executado\n",
    "    # você deve substituir o comando pelo calculo apropriado\n",
    "    # Dica: se o o nome do vetor calculado no Passo 2 for \"posicoes\", o comando \"posicoes == pos\" produz um novo vetor\n",
    "    # Os valores do novo vetor são iguais a True se o passeio terminou na posicao pos e False caso contrario\n",
    "    # Usar np.sum para contar a quantidade de True\n",
    "    \n",
    "    pSim = 0\n",
    "\n",
    "    # calculo teorico\n",
    "    if mesma_paridade(npassos, pos):\n",
    "        pTeorica = combinacao(npassos, (npassos + pos) / 2) * (2 ** (-npassos))\n",
    "    else:\n",
    "        pTeorica = 0\n",
    "\n",
    "    return pSim, pTeorica\n",
    "\n",
    "\n",
    "passos = int(input(\"Defina o numero de passos: \"))\n",
    "pos = int(input(\"Defina a posicao final da trajetoria: \"))\n",
    "nsim = int(input(\"Def1ina o numero de simulacoes: \"))\n",
    "\n",
    "pSim, pTeorica = PasseioV(passos, pos, nsim)\n",
    "\n",
    "print('Probabilidade simulada:  {:.4f}'.format(pSim))\n",
    "print('Probabilidade teorica: {:.4f}'.format(pTeorica))"
   ]
  },
  {
   "cell_type": "code",
   "execution_count": null,
   "metadata": {},
   "outputs": [],
   "source": []
  }
 ],
 "metadata": {
  "kernelspec": {
   "display_name": "Python 3",
   "language": "python",
   "name": "python3"
  },
  "language_info": {
   "codemirror_mode": {
    "name": "ipython",
    "version": 3
   },
   "file_extension": ".py",
   "mimetype": "text/x-python",
   "name": "python",
   "nbconvert_exporter": "python",
   "pygments_lexer": "ipython3",
   "version": "3.8.3"
  }
 },
 "nbformat": 4,
 "nbformat_minor": 4
}
