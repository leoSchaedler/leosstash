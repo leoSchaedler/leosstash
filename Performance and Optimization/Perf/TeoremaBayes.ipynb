{
 "cells": [
  {
   "cell_type": "markdown",
   "metadata": {},
   "source": [
    "# Teorema de Bayes"
   ]
  },
  {
   "cell_type": "markdown",
   "metadata": {},
   "source": [
    "### Dada a regra da probabilidade total\n",
    "$P[A]=P[A\\mid B]\\cdot P[B] = P[A\\mid B^{c}]\\cdot P[B^{c}]$<br>\n",
    "$P[A]=P[A\\mid B_{1}]\\cdot P[B_{1}]+P[A\\mid B_{2}]\\cdot P[B_{2}]+\\cdots+P[A\\mid B_{n}]\\cdot P[B_{n}]$\n",
    "\n",
    "### O teorema de Bayes responde a seguite questão:\n",
    "Se o evento $A$ é observado, qual é a probabilidade de ocorrência de $B_{i}$?\n",
    "* $P[B_{i} \\mid A]= \\frac{P[B_{i} \\cap  A]}{P[A]}$<br><br>\n",
    "\n",
    "* $P[B_{i} \\mid A]= \\frac{P[A\\mid B_{i}]\\cdot P[B_{i}]}{P[A]}$<br><br>\n",
    "\n",
    "* $P[B_{i} \\mid A]= \\frac{P[A\\mid B_{i}]\\cdot P[B_{i}]}{P[A\\mid B_{1}]\\cdot P[B_{1}]+P[A\\mid B_{2}]\\cdot P[B_{2}]+P[A\\mid B_{3}]\\cdot P[B_{3}]}$"
   ]
  },
  {
   "attachments": {},
   "cell_type": "markdown",
   "metadata": {},
   "source": [
    "## Exemplo\n",
    "Uma vacina tem 90% de eficiência na imunização contra certa doença.\n",
    "* A probabilidade de um paciente ter a doença dado que ele tomou a vacina é 0,1<br>\n",
    "\n",
    "A doença acomete 50% da população não vacinada.\n",
    "* A probabilidade de um paciente ter a doença dado que ele não tomou a vacina é 0,5<br>\n",
    "\n",
    "Suponha que, após uma campanha de vacinação em que 70% da população tenham sido vacinadas.\n",
    "* A probabilidade de um paciente ter tomado a vacina é 0,7<br>\n",
    "\n",
    "Um paciente chega a um hospital com a doença em questão, mas sem saber se tomou vacina ou não.\n",
    "Qual é a probabilidade de que o paciente tenha tomado a vacina?\n",
    "\n",
    "\n",
    "Sejam os eventos:\n",
    "* $A\\equiv$ {paciente foi acometido pela doença}\n",
    "* $B\\equiv$ {paciente tomou vacina}<br>\n",
    "\n",
    "Temos as seguintes informações:\n",
    "* $P[A\\mid B] = 0,1$\n",
    "* $P[A\\mid B^{c}] = 0,5$\n",
    "* $P[B] = 0,7$\n",
    "* $P[B^{c}] = 0,3$\n",
    "\n",
    "\n",
    "Queremos calcular:\n",
    "* $P[B\\mid A]$ (probabilidade de o paciente ter tomado a vacina dado que está foi acometido pela doença)<br><br>\n",
    "\n",
    "Solução<br>\n",
    "* $P[B \\mid A]= \\frac{P[B \\cap  A]}{P[A]} = \\frac{P[A\\mid B]\\cdot P[B]}{P[A]} $<br><br>\n",
    "* $P[A\\mid B]\\cdot P[B]=0,1\\cdot0,7=0,007$<br><br>\n",
    "* $P[A]=P[A\\mid B]\\cdot P[B] = P[A\\mid B^{c}]\\cdot P[B^{c}] = 0,1\\cdot0,7 + 0,5\\cdot0,3=0,22$<br><br>\n",
    "* $P[B \\mid A]= \\frac{0,07}{0,22} = 0,32$"
   ]
  },
  {
   "cell_type": "code",
   "execution_count": null,
   "metadata": {},
   "outputs": [],
   "source": [
    "PAcondB = 0.8\n",
    "PAcondBc = 0.6\n",
    "PB = 0.7\n",
    "PBc = 0.3\n",
    "PA = PAcondB * PB + PAcondBc * PBc\n",
    "print(PA)"
   ]
  },
  {
   "cell_type": "markdown",
   "metadata": {},
   "source": [
    "## Exercício 1\n",
    "Ao responder um teste de múltipla escolha um estudante ou sabe a resposta ou tenta adivinhar. A probabilidade de ele saber a resposta é 0,7. Cada questão tem cinco alternativas, portanto, quando ele não sabe a resposta e tenta adivinhar a probabilidade de ele acertar é 1/5. Considerando que um estudante que sabe a resposta responde corretamente, qual é a probabilidade do estudante saber a resposta dado que ele respondeu corretamente?\n",
    "\n",
    "Eventos:\n",
    "* $A\\equiv$ estudante responde corretamente\n",
    "* $B\\equiv$ estudante sabe a resposta<br>\n",
    "\n",
    "Informações disponíveis:\n",
    "* $P\\left[B\\right]=0,7$\n",
    "* $P\\left[B^c\\right]=0,3$\n",
    "* $P\\left[A|B\\right]=1$\n",
    "* $P\\left[A|B^c\\right]=0,2$\n",
    "\n",
    "Calcular:\n",
    "* $P[B \\mid A]$\n",
    "\n",
    "Da regra de probabilidade total temos:\n",
    "* $P[A]=P[A\\mid B]\\cdot P[B] = P[A\\mid B^{c}]\\cdot P[B^{c}]$\n",
    "\n",
    "No exercício de probabilidade condicional calculamos:\n",
    "* $P\\left[A\\right]=0,76$\n",
    "\n",
    "Do teorema de Bayes temos:\n",
    "* $P[B \\mid A]= \\frac{P[B \\cap  A]}{P[A]} = \\frac{P[A\\mid B]\\cdot P[B]}{P[A]}$<br><br>\n",
    "* $P[B \\mid A]= \\frac{1 \\cdot 0,7}{0,76}=0,9210$"
   ]
  },
  {
   "cell_type": "code",
   "execution_count": null,
   "metadata": {},
   "outputs": [],
   "source": [
    "# Cálculo de PA\n",
    "PB = 0.7\n",
    "PBc = 0.3\n",
    "PAcondB = 1\n",
    "PAcondBc = 0.2\n",
    "PA = PAcondB * PB + PAcondBc * PBc\n",
    "\n",
    "# Cálculo de PBcondA\n",
    "PBcondA = PAcondB*PB/PA\n",
    "print(PBcondA)"
   ]
  },
  {
   "cell_type": "markdown",
   "metadata": {},
   "source": [
    "## Exercício 2\n",
    "Em uma fábrica de teclados, as linhas de produção I, II, e III respondem por 50, 30 e 20% da produção total. Sabendo-se os teclados apresentam defeitos nas seguintes proporções: 0,3% na linha de produção I; 0,6% na linha de produção II; e 0,2% na linha de produção III.<br>\n",
    "Calcular a probabilidade que um teclado com defeito tenha sido produzido na linha de produção I.<br><br>\n",
    "\n",
    "Eventos:\n",
    "* $A\\equiv$ teclado fabricado com defeito\n",
    "* $B_1,B_2,B_3\\equiv$ teclado fabricado na linha de produção I, II, III\n",
    "\n",
    "Dados:\n",
    "* $P\\left[B_{1}\\right]=0,5$\n",
    "* $P\\left[B_{2}\\right]=0,3$\n",
    "* $P\\left[B_{3}\\right]=0,2$\n",
    "* $P\\left[A|B_{1}\\right]=0,004$\n",
    "* $P\\left[A|B_{2}\\right]=0,006$\n",
    "* $P\\left[A|B_{3}\\right]=0,002$\n",
    "\n",
    "Queremos calcular:\n",
    "* $P\\left[B_{1}|A\\right]$\n",
    "\n",
    "No exercício de probabilidade condicional calculamos:\n",
    "* $P\\left[A \\right] = 0,0042$\n",
    "\n",
    "Da teorema de Bayes temos:\n",
    "* $P[B_{1} \\mid A]= \\frac{P[A\\mid B_{1}]\\cdot P[B_{1}]}{P[A]}$<br><br>\n",
    "* $P[B_{1} \\mid A]= \\frac{0,0042 \\cdot 0,5}{0,0042} = 0,4762$"
   ]
  },
  {
   "cell_type": "code",
   "execution_count": null,
   "metadata": {},
   "outputs": [],
   "source": [
    "# Cálculo de PA\n",
    "PB1 = 0.5\n",
    "PB2 = 0.3\n",
    "PB3 = 0.2\n",
    "PAcondB1 = 0.004\n",
    "PAcondB2 = 0.006\n",
    "PAcondB3 = 0.002\n",
    "PA = PAcondB1 * PB1 + PAcondB2 * PB2 + PAcondB3 * PB3\n",
    "\n",
    "# Cálculo de PB1codA\n",
    "PB1codA = PAcondB1*PB1/PA\n",
    "print(PB1codA)"
   ]
  },
  {
   "cell_type": "code",
   "execution_count": null,
   "metadata": {},
   "outputs": [],
   "source": []
  }
 ],
 "metadata": {
  "kernelspec": {
   "display_name": "Python 3",
   "language": "python",
   "name": "python3"
  },
  "language_info": {
   "codemirror_mode": {
    "name": "ipython",
    "version": 3
   },
   "file_extension": ".py",
   "mimetype": "text/x-python",
   "name": "python",
   "nbconvert_exporter": "python",
   "pygments_lexer": "ipython3",
   "version": "3.8.3"
  }
 },
 "nbformat": 4,
 "nbformat_minor": 4
}
