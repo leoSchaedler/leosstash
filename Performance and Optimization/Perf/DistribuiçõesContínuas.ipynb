{
 "cells": [
  {
   "cell_type": "markdown",
   "metadata": {},
   "source": [
    "# Distribuições contínuas"
   ]
  },
  {
   "attachments": {},
   "cell_type": "markdown",
   "metadata": {},
   "source": [
    "## Distribuição uniforme\n",
    "\n",
    "Equações:\n",
    "* $\\Omega _{X}: [a-b]$\n",
    "* Função de densidade de probabilidade: $f_{X}(x)=\\frac{1}{b-a}$\n",
    "* Função de distribuição acumulada: $F_{X}(x)=\\frac{(x-a)}{(b-a)}$\n",
    "* Valor esperado: $E[X]=\\frac{a+b}{2}$\n",
    "* Variância: $V[X]=\\frac{(a-b)^{2}}{2}$\n",
    "\n",
    "scipy.stats.uniform:\n",
    "* pdf: função de densidade de probabilidade\n",
    "* cdf: função de distribuição acumulada\n",
    "* rvs: gerador de valores aleatórios\n",
    "* ppf: função inversa da cdf<br>\n",
    "\n",
    "Cálculo de probabilidade $P[X < x]$\n",
    "* X é uma variável aleatória uniformemente distribuída no intervalo $[a-b]$<br>\n",
    "* st.uniform.cdf(x, inicio, deslocamento)\n",
    "* st.uniform.cdf(x, a, b – a)"
   ]
  },
  {
   "cell_type": "code",
   "execution_count": null,
   "metadata": {},
   "outputs": [],
   "source": [
    "from VA_Continua import plotUnifPDF, plotUnifCDF, plotUnifRVS\n",
    "# Plotar a pmf\n",
    "plotUnifPDF(2,10)\n",
    "# plotar a cdf\n",
    "plotUnifCDF(2,10)"
   ]
  },
  {
   "attachments": {},
   "cell_type": "markdown",
   "metadata": {},
   "source": [
    "#### Exemplo 1\n",
    "X é uniformemente distribuída no intervalo $[2 – 12]$<br>\n",
    "* $a = 2$\n",
    "* $b = 10$\n",
    "* $inicio = 2$\n",
    "* $deslocamento = 10$\n",
    "\n",
    "Calcular:\n",
    "* $P[X<3]$\n",
    "* $P[X>7]$\n",
    "* $P[3<X<7]$"
   ]
  },
  {
   "cell_type": "code",
   "execution_count": null,
   "metadata": {},
   "outputs": [],
   "source": [
    "import numpy as np\n",
    "import scipy.stats as st\n",
    "# X menor do que 3\n",
    "print(f'{st.uniform.cdf(3,2,10):,.6f}')\n",
    "\n",
    "# X maior do que 7\n",
    "print(f'{1-st.uniform.cdf(7, 2,10):,.6f}')\n",
    "\n",
    "# X maior do que 3 e menor do que 8\n",
    "print(f'{st.uniform.cdf(8,2,10)-st.uniform.cdf(3,2,10):,.6f}')"
   ]
  },
  {
   "cell_type": "markdown",
   "metadata": {},
   "source": [
    "#### Exemplo 2\n",
    "* Selecionar a e b\n",
    "* Gerar e imprimir 10 números aleatórios com distribuição uniforme com parâmetros a e b\n",
    "* Calcular a média de 50.000 números aleatórios com distribuição uniforme com parâmetro a e b\n",
    "* Calcular a variância de 50.000 números aleatórios com distribuição uniforme com parâmetro a e b\n",
    "* Plotar histograma dos números aleatórios simulados e PDF"
   ]
  },
  {
   "cell_type": "code",
   "execution_count": null,
   "metadata": {},
   "outputs": [],
   "source": [
    "a = 0\n",
    "b = 100\n",
    "# Gerar e imprimir 10 números aleatórios com distribuição geométrica com parâmetro p\n",
    "print(st.uniform.rvs(a, b-a, size=10))\n",
    "\n",
    "# Calcular a média de 50.000 números aleatórios com distribuição geométrica com parâmetro p\n",
    "print(f'Média simulada: {np.mean(st.uniform.rvs(a, b-a, size=50000)):,.4f}')\n",
    "print(f'Média teórica: {(a+b)/2:,.4f}')\n",
    "\n",
    "# Calcular a variância de 50.000 números aleatórios com distribuição geométrica com parâmetro p\n",
    "print(f'Variância simulada: {np.var(st.uniform.rvs(a, b-a, size=50000)):,.4f}')\n",
    "print(f'Variância teórica: {(a-b)**2/12:,.4f}')\n",
    "\n",
    "# Plotar histograma dos números aleatórios simulados e PMF\n",
    "plotUnifRVS(a,b-a)"
   ]
  },
  {
   "cell_type": "markdown",
   "metadata": {},
   "source": [
    "## Distribuição exponencial\n",
    "Equações:\n",
    "* $\\Omega_{X}:\\left [ 0 , \\infty  \\right ]$\n",
    "* Função de densidade de probabilidade: $f_{X}(x)=Le^{-Lx}\\; \\; \\; \\: \\; \\; \\; x\\geq 0$\n",
    "* Função de distribuição acumulada: $F_{X}(x)=1 - e^{-Lx}\\; \\; \\; \\: \\; \\; \\; \\; \\; x\\geq 0$\n",
    "* Valor esperado: $E[X]=\\frac{1}{L}$\n",
    "* Variância: $V[X]=\\frac{1}{L^{2}}$\n",
    "\n",
    "scipy.stats.expon:\n",
    "* pdf: função de densidade de probabilidade\n",
    "* cdf: função de distribuição acumulada\n",
    "* rvs: gerador de valores aleatórios\n",
    "* ppf: função inversa da cdf<br>\n",
    "\n",
    "Cálculo de probabilidade $P[X < x]$\n",
    "* X é uma variável aleatória exponencialmente distribuída no intervalo $\\left [ inicio-\\infty  \\right ]$<br>\n",
    "* st.uniform.cdf(x, inicio, media)"
   ]
  },
  {
   "cell_type": "code",
   "execution_count": null,
   "metadata": {},
   "outputs": [],
   "source": [
    "from VA_Continua import plotExpPDF, plotExpCDF, plotExpRVS\n",
    "# Plotar a pdf\n",
    "plotExpPDF(10,5)\n",
    "# plotar a cdf\n",
    "plotExpCDF(10,5)"
   ]
  },
  {
   "cell_type": "markdown",
   "metadata": {},
   "source": [
    "#### Exemplo 3\n",
    "O tempo de vida de uma lâmpada é uma variável aleatória X com distribuição exponencial com média 20 meses.\n",
    "* Qual a probabilidade da lâmpada durar menos do que 8 meses? $P[X < 8]$\n",
    "* Qual a probabilidade da lâmpada durar mais do que 7 meses? $P[X > 7]$\n",
    "* Qual a probabilidade da lâmpada durar entre 6 e 14 meses? $P[6 < X < 14]$"
   ]
  },
  {
   "cell_type": "code",
   "execution_count": null,
   "metadata": {},
   "outputs": [],
   "source": [
    "import numpy as np\n",
    "import scipy.stats as st\n",
    "# Menos do que 8 meses\n",
    "print(f'{st.expon.cdf(8,0,20):,.6f}')\n",
    "\n",
    "# Mais do que 7 meses\n",
    "print(f'{1 - st.expon.cdf(7,0,20):,.6f}')\n",
    "\n",
    "# Entre entre 6 e 14 meses\n",
    "print(f'{st.expon.cdf(14,0,20)-st.expon.cdf(6,0,20):,.6f}')"
   ]
  },
  {
   "cell_type": "markdown",
   "metadata": {},
   "source": [
    "#### Exemplo 4\n",
    "* Selecionar inicio e media\n",
    "* Gerar e imprimir 10 números aleatórios com distribuição expoencial com parâmetros inicio e media\n",
    "* Calcular a média de 50.000 números aleatórios com distribuição expoencial com parâmetros inicio e media\n",
    "* Calcular a variância de 50.000 números aleatórios com distribuição expoencial com parâmetros inicio e media\n",
    "* Plotar histograma dos números aleatórios simulados e PDF"
   ]
  },
  {
   "cell_type": "code",
   "execution_count": null,
   "metadata": {},
   "outputs": [],
   "source": [
    "inicio = 1\n",
    "media = 3\n",
    "# Gerar e imprimir 10 números aleatórios com distribuição expoencial com parâmetros inicio e media\n",
    "print(st.expon.rvs(inicio, media, size=10))\n",
    "\n",
    "# Calcular a média de 50.000 números aleatórios com distribuição expoencial com parâmetros inicio e media\n",
    "print(f'Média simulada: {np.mean(st.expon.rvs(inicio, media, size=50000)):,.6f}')\n",
    "print(f'Média teórica: {inicio+media:,.6f}')\n",
    "\n",
    "# Calcular a variância de 50.000 números aleatórios com distribuição expoencial com parâmetros inicio e media\n",
    "print(f'Variância simulada: {np.var(st.expon.rvs(inicio, media, size=50000)):,.6f}')\n",
    "print(f'Variância teórica: {media**2:,.6f}')\n",
    "\n",
    "# Plotar histograma dos números aleatórios simulados e PMF\n",
    "plotExpRVS(media)"
   ]
  },
  {
   "cell_type": "markdown",
   "metadata": {},
   "source": [
    "## Distribuição normal\n",
    "Equações:\n",
    "* $\\Omega_{X}:\\left [ -\\infty,+\\infty  \\right ]$\n",
    "* Função de densidade de probabilidade: $f_{X}(x)=\\frac{1}{\\sigma\\, \\sqrt[]{2\\pi }}exp\\left [ -\\frac{(x-\\mu )^{2}}{2\\sigma ^{2}} \\right ]$\n",
    "* Função de distribuição acumulada:\n",
    "* Valor esperado: $E[X]=\\mu$\n",
    "* Variância: $V[X]=\\sigma ^{2}$\n",
    "\n",
    "scipy.stats.norm:\n",
    "* pdf: função de densidade de probabilidade\n",
    "* cdf: função de distribuição acumulada\n",
    "* rvs: gerador de valores aleatórios\n",
    "* ppf: função inversa da cdf<br>\n",
    "\n",
    "Cálculo de probabilidade:<br>\n",
    "X é uma variável aleatória normal com média = mu e desvio padrão = sigma<br>\n",
    "* $P[X < x]$\n",
    "* st.norm.cdf(x, mu, sigma)<br>\n",
    "\n",
    "\n",
    "* $P[X > x]$\n",
    "* 1 - st.norm.cdf(x, mu, sigma)\n",
    "\n",
    "\n",
    "* $P[x_{1}<X<x_{2}]$\n",
    "* st.norm.cdf(x2, mu, sigma) - st.norm.cdf(x2, mu, sigma) "
   ]
  },
  {
   "cell_type": "code",
   "execution_count": 2,
   "metadata": {},
   "outputs": [
    {
     "data": {
      "image/png": "[encoded data removed]",
      "text/plain": [
       "<Figure size 432x288 with 1 Axes>"
      ]
     },
     "metadata": {
      "needs_background": "light"
     },
     "output_type": "display_data"
    },
    {
     "data": {
      "image/png": "[encoded data removed]",
      "text/plain": [
       "<Figure size 432x288 with 1 Axes>"
      ]
     },
     "metadata": {
      "needs_background": "light"
     },
     "output_type": "display_data"
    }
   ],
   "source": [
    "from VA_Continua import plotNormPDF, plotNormCDF, plotNormRVS\n",
    "# Plotar a pdf\n",
    "plotNormPDF(10,2)\n",
    "# plotar a cdf\n",
    "plotNormCDF(10,2)"
   ]
  },
  {
   "cell_type": "markdown",
   "metadata": {},
   "source": [
    "#### Exemplo 5\n",
    "Os salários anuais pagos em uma empresa são normalmente distribuídos com média 45k e desvio padrão 10k.<br>\n",
    "mu: 45   sigma  = 10<br>\n",
    "* Qual a probabilidade do salário anual de uma pessoa ser menor do 69K? $P[X < 69]$\n",
    "* Qual a probabilidade do salário anual de uma pessoa ser maior do 51K? $P[X > 51]$\n",
    "* Qual a probabilidade do salário anual de uma pessoa estar entre 12k e 37k? $P[12 < X < 37]$"
   ]
  },
  {
   "cell_type": "code",
   "execution_count": 3,
   "metadata": {},
   "outputs": [
    {
     "name": "stdout",
     "output_type": "stream",
     "text": [
      "0.99180\n",
      "0.27425\n",
      "0.21137\n"
     ]
    }
   ],
   "source": [
    "import numpy as np\n",
    "import scipy.stats as st\n",
    "\n",
    "# Menor do que 69K\n",
    "print(f'{st.norm.cdf(69,45,10):,.5f}')\n",
    "\n",
    "# Maior do que 51K\n",
    "print(f'{1-st.norm.cdf(51,45,10):,.5f}')\n",
    "\n",
    "# Entre entre 12k e 37k\n",
    "print(f'{st.norm.cdf(37,45,10)-st.norm.cdf(12,45,10):,.5f}')"
   ]
  },
  {
   "cell_type": "markdown",
   "metadata": {},
   "source": [
    "#### Exemplo 6\n",
    "* Selecionar mu e sigma\n",
    "* Gerar e imprimir 10 números aleatórios com distribuição normal com média mu e desvio padrão sigma\n",
    "* Calcular a média de 50.000 números aleatórios com distribuição normal com média mu e desvio padrão sigma\n",
    "* Calcular a variância de 50.000 números aleatórios com distribuição normal com média mu e desvio padrão sigma\n",
    "* Plotar histograma dos números aleatórios simulados e PMF"
   ]
  },
  {
   "cell_type": "code",
   "execution_count": 4,
   "metadata": {},
   "outputs": [
    {
     "name": "stdout",
     "output_type": "stream",
     "text": [
      "[33.97776993 43.21540101 43.60680803 47.11704541 38.89016223 56.57587661\n",
      " 37.75975491 39.31851774 41.17870807 38.35946428]\n",
      "Média simulada: 45.018524\n",
      "Média teórica: 45.000000\n",
      "Variância simulada: 100.340479\n",
      "Variância teórica: 100.000000\n"
     ]
    },
    {
     "data": {
      "image/png": "[encoded data removed]",
      "text/plain": [
       "<Figure size 432x288 with 1 Axes>"
      ]
     },
     "metadata": {
      "needs_background": "light"
     },
     "output_type": "display_data"
    }
   ],
   "source": [
    "mu = 45\n",
    "sigma = 10\n",
    "# Gerar e imprimir 10 números aleatórios com distribuição normal com média mu e desvio padrão sigma\n",
    "print(st.norm.rvs(mu,sigma, size=10))\n",
    "\n",
    "# Calcular a média de 50.000 números aleatórios com distribuição normal com média mu e desvio padrão sigma\n",
    "print(f'Média simulada: {np.mean(st.norm.rvs(mu,sigma,size=50000)):,.6f}')\n",
    "print(f'Média teórica: {mu:,.6f}')\n",
    "\n",
    "# Calcular a variância de 50.000 números aleatórios com distribuição normal com média mu e desvio padrão sigma\n",
    "print(f'Variância simulada: {np.var(st.norm.rvs(mu,sigma,size=50000)):,.6f}')\n",
    "print(f'Variância teórica: {sigma**2:,.6f}')\n",
    "\n",
    "# Plotar histograma dos números aleatórios simulados e PMF\n",
    "plotNormRVS(mu,sigma)"
   ]
  },
  {
   "cell_type": "code",
   "execution_count": null,
   "metadata": {},
   "outputs": [],
   "source": []
  }
 ],
 "metadata": {
  "kernelspec": {
   "display_name": "Python 3",
   "language": "python",
   "name": "python3"
  },
  "language_info": {
   "codemirror_mode": {
    "name": "ipython",
    "version": 3
   },
   "file_extension": ".py",
   "mimetype": "text/x-python",
   "name": "python",
   "nbconvert_exporter": "python",
   "pygments_lexer": "ipython3",
   "version": "3.8.3"
  }
 },
 "nbformat": 4,
 "nbformat_minor": 2
}
