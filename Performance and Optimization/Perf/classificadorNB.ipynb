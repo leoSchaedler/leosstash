{
 "cells": [
  {
   "cell_type": "markdown",
   "metadata": {},
   "source": [
    "# Classificador Bayesiano\n",
    "Nesse exercício vamos utilizar o classificador Bayesiano da biblioteca Scikit-Learn.<br>\n",
    "Importar as bibliotecas necessárias."
   ]
  },
  {
   "cell_type": "markdown",
   "metadata": {},
   "source": [
    "## Exemplo da Aula\n",
    "Dados do exemplo:\n",
    "* Idade = ['Jovem', 'Jovem', 'Adulto', 'Idoso', 'Idoso', 'Idoso', 'Adulto', 'Jovem', 'Jovem', 'Idoso', 'Jovem', 'Adulto', 'Adulto', 'Idoso' ]<br>\n",
    "* Renda = [6300, 5800, 6100, 5200, 2300, 2800, 3100, 4500, 3300, 4800, 4400, 4900, 6000, 4600 ]<br>\n",
    "* Estudante = ['Nao', 'Nao', 'Nao', 'Nao', 'Sim', 'Sim', 'Sim', 'Nao', 'Sim', 'Sim', 'Sim', 'Nao', 'Sim', 'Nao']<br>\n",
    "* Crédito = ['Bom', 'Bom', 'Bom', 'Bom', 'Bom', 'Excelente', 'Excelente', 'Bom', 'Bom', 'Bom', 'Excelente', 'Excelente', 'Bom', 'Excelente']<br><br>\n",
    "* Decisão de compra = ['Nao', 'Nao', 'Sim', 'Sim', 'Sim', 'Nao', 'Sim', 'Nao', 'Sim', 'Sim', 'Sim', 'Sim', 'Sim', 'Nao']<br><br>\n",
    "\n",
    "\n",
    "Importar a biblioteca."
   ]
  },
  {
   "cell_type": "code",
   "execution_count": null,
   "metadata": {},
   "outputs": [],
   "source": [
    "from sklearn.naive_bayes import GaussianNB"
   ]
  },
  {
   "cell_type": "markdown",
   "metadata": {},
   "source": [
    "Os dados são mapeados para valores numéricos."
   ]
  },
  {
   "cell_type": "code",
   "execution_count": null,
   "metadata": {},
   "outputs": [],
   "source": [
    "X = [[2, 6300.0, 0, 0], \n",
    "[2, 5800.0, 0, 0],\n",
    "[0, 6100.0, 0, 0],\n",
    "[1, 5200.0, 0, 0],\n",
    "[1, 2300.0, 1, 0],\n",
    "[1, 2800.0, 1, 1],\n",
    "[0, 3100.0, 1, 1],\n",
    "[2, 4500.0, 0, 0],\n",
    "[2, 3300.0, 1, 0],\n",
    "[1, 4800.0, 1, 0],\n",
    "[2, 4400.0, 1, 1],\n",
    "[0 ,4900.0, 0, 1],\n",
    "[0 ,6000.0, 1, 0],\n",
    "[1 ,4600.0, 0, 1]]\n",
    "\n",
    "Y = [0, 0, 1, 1, 1, 0, 1, 0, 1, 1, 1, 1, 1, 0]"
   ]
  },
  {
   "cell_type": "markdown",
   "metadata": {},
   "source": [
    "A função GaussianNB é o construtor do classificador que fornece os seguintes métodos.<br>\n",
    "* fit: ajustar o classificador aos dados (treinamento)\n",
    "* predict: fazer novas previsões"
   ]
  },
  {
   "cell_type": "code",
   "execution_count": null,
   "metadata": {},
   "outputs": [],
   "source": [
    "clf = GaussianNB()"
   ]
  },
  {
   "cell_type": "markdown",
   "metadata": {},
   "source": [
    "Para ajustar o classificador passamos como argumento os dados (X) e as classes previstas (Y)."
   ]
  },
  {
   "cell_type": "code",
   "execution_count": null,
   "metadata": {},
   "outputs": [],
   "source": [
    "clf.fit(X, Y)"
   ]
  },
  {
   "cell_type": "markdown",
   "metadata": {},
   "source": [
    "Para realizar pevisões fornecemos novos valores para as features (X_novo) e o classificador retora as previsões (Y_previsto).<br>\n",
    "O primeiro valor em X_novo é o valor mostrado no exemplo da aula."
   ]
  },
  {
   "cell_type": "code",
   "execution_count": null,
   "metadata": {},
   "outputs": [],
   "source": [
    "X_novo = [[2, 4650.00, 1, 0],\n",
    "          [1, 3282.70, 0, 1],\n",
    "          [0, 5282.70, 0, 1]]\n",
    "Y_previsto = clf.predict(X_novo)\n",
    "print(Y_previsto)"
   ]
  },
  {
   "cell_type": "markdown",
   "metadata": {},
   "source": [
    "## Desempenho de servidores\n",
    "Uma empresa quer medir o desempenho de seus servidores para avaliar se estão sobrecarregados. Foram levantados dados do uso da CPU e de memória nos momentos de sobrecarga. Esses atributos que vão definir os pontos onde o servidor está com carga normal ou sobrecarregado. As proporções de utilização de CPU e de memória são definidas por um número entre 0 e 1, onde 0 significa 0% de utilização e 1 significa recurso com 100% de utilização.<br><br>\n",
    "\n",
    "Importar bibliotecas."
   ]
  },
  {
   "cell_type": "code",
   "execution_count": null,
   "metadata": {},
   "outputs": [],
   "source": [
    "import numpy as np\n",
    "import matplotlib.pyplot as plt"
   ]
  },
  {
   "cell_type": "markdown",
   "metadata": {},
   "source": [
    "Os dados de um servidor são produzidos (simulados) por sorteio aleatório pela função *dadosServidor* que retorna dois conjuntos de dados com atributos e rótulos, um para a fase de treinamento e outro para a fase de teste."
   ]
  },
  {
   "cell_type": "code",
   "execution_count": null,
   "metadata": {},
   "outputs": [],
   "source": [
    "import random\n",
    "def dadosServidor(n_medidas=1000):\n",
    "    ###############################################################################\n",
    "    ### constroi o dataset\n",
    "    ### quantidade de medidas = n_medidas\n",
    "\n",
    "    ### sorteia as proporcoes de utilizacao de cpu e de memoria\n",
    "    random.seed(42)\n",
    "    prop_util_cpu = [random.random() for ii in range(0, n_medidas)]\n",
    "    prop_util_memoria = [random.random() for ii in range(0, n_medidas)]\n",
    "\n",
    "    ### sorteia uma ocilacao (erro) para gerar os valores de y (rotulos)\n",
    "    ### depois desse passo, y tera valores iguais a 0 ou 1\n",
    "    ### dependendo das proporções de utilizacao da cpu, da memoria, e da oscilacao\n",
    "    erro = [random.random() for ii in range(0, n_medidas)]\n",
    "    y = [round(prop_util_cpu[ii] * prop_util_memoria[ii] + 0.3 + 0.1 * erro[ii]) for ii in range(0, n_medidas)]\n",
    "\n",
    "    ### para casos mais criticos forca y = 1\n",
    "    for ii in range(0, len(y)):\n",
    "        if prop_util_cpu[ii] > 0.9 or prop_util_memoria[ii] > 0.9:\n",
    "            y[ii] = 1.0\n",
    "\n",
    "    ### divide nos conjuntos trein e test\n",
    "    ### 75% vai para treinamento e 25% vai para teste\n",
    "    X = [[gg, ss] for gg, ss in zip(prop_util_cpu, prop_util_memoria)]\n",
    "    split = int(0.75 * n_medidas)\n",
    "    X_trein = X[0:split]\n",
    "    X_test = X[split:]\n",
    "    Y_trein = y[0:split]\n",
    "    Y_test = y[split:]\n",
    "\n",
    "    return X_trein, Y_trein, X_test, Y_test"
   ]
  },
  {
   "cell_type": "markdown",
   "metadata": {},
   "source": [
    "Chamar a função dadosServidor para gerar os dados que serão utilizados."
   ]
  },
  {
   "cell_type": "code",
   "execution_count": null,
   "metadata": {},
   "outputs": [],
   "source": [
    "X_trein, Y_trein, X_test, Y_test = dadosServidor()"
   ]
  },
  {
   "cell_type": "markdown",
   "metadata": {},
   "source": [
    "Vamos vizualizar o os resultados da classificação através de gráficos.<br><br>\n",
    "Primeiro vamos imprimir o gráfico com o conjunto de dados de treinamento com as respectivas classificações (rótulos).<br>\n",
    "* As coordenadas de cada ponto (números entre 0 e 1) foram definidas pelos dois atributos, utilização de CPU e utilização de mamória.\n",
    "* A cor de cada ponto é definida pelo rótulo do estado do servidor (carga normal ou carga alta).\n",
    "* Pontos onde o rótulo determina que a carga da cpu está normal foram coloridos de azul enquanto pontos onde o rótulo determina que a cpu está sobregarregada foram coloridos de vermelho.<br>\n",
    "\n",
    "O gráfico é plotado pela função figuraTreinamento."
   ]
  },
  {
   "cell_type": "code",
   "execution_count": null,
   "metadata": {},
   "outputs": [],
   "source": [
    "from datetime import date\n",
    "def figuraTreinamento(X_trein, y_trein):\n",
    "    ### Prepara a plotagem dos pontos de treinamento\n",
    "    ### os dados de treinamento (X_trein, y_trein) possuem pontos \"rapido\" e \"devagar\" misturados\n",
    "    ### separar para dar cores diferentes no scatterplot\n",
    "    cpu_normal = [X_trein[ii][0] for ii in range(0, len(X_trein)) if y_trein[ii] == 0]\n",
    "    memoria_normal = [X_trein[ii][1] for ii in range(0, len(X_trein)) if y_trein[ii] == 0]\n",
    "    cpu_alta = [X_trein[ii][0] for ii in range(0, len(X_trein)) if y_trein[ii] == 1]\n",
    "    memoria_alta = [X_trein[ii][1] for ii in range(0, len(X_trein)) if y_trein[ii] == 1]\n",
    "\n",
    "    # Limites dos eixos\n",
    "    plt.xlim(0.0, 1.0)\n",
    "    plt.ylim(0.0, 1.0)\n",
    "\n",
    "    # Scatter plot\n",
    "    plt.scatter(cpu_normal, memoria_normal, color=\"b\", label=\"carga normal\")\n",
    "    plt.scatter(cpu_alta, memoria_alta, color=\"r\", label=\"carga alta\")\n",
    "\n",
    "    # Legenda\n",
    "    plt.legend()\n",
    "    plt.xlabel(\"utilização de cpu\")\n",
    "    plt.ylabel(\"utilização de memória\")\n",
    "\n",
    "    # Titulo\n",
    "    plt.title(date.today())\n",
    "    plt.show()\n",
    "\n",
    "    # Salva figura\n",
    "    plt.savefig(\"treinamento.png\")\n",
    "    plt.close()\n",
    "    \n",
    "\n",
    "figuraTreinamento(X_trein, Y_trein)"
   ]
  },
  {
   "cell_type": "markdown",
   "metadata": {},
   "source": [
    "O classificador bayesiano deve ser construído e treinado por comandos que serão incluídos a seguir.<br>\n",
    "Para treinar o classificador deve-se usar os dados de treinamento.<br><br>\n",
    "\n",
    "Utilizar a biblioteca GaussianNB:<br>\n",
    "* Criar o classificador\n",
    "* Ajustar (treinar) o classificador com os dados gerados (X_trein e T_trein)\n",
    "* Fazer as previsões usando X_test e salvar e Y_previsto"
   ]
  },
  {
   "cell_type": "code",
   "execution_count": null,
   "metadata": {},
   "outputs": [],
   "source": [
    "# Criar o classificador\n",
    "clf = GaussianNB()\n",
    "\n",
    "# Ajustar o classificador\n",
    "# Incluir aqui o comando para treinar o classificador\n",
    "\n",
    "\n",
    "# Incluir aqui o comando para fazer as previsões usando X_test e salvar em Y_previsto\n"
   ]
  },
  {
   "cell_type": "markdown",
   "metadata": {},
   "source": [
    "Para tornar a demonstração da classificação mais visual usamos a função *figuraTeste* para plotar os pontos do conjunto de teste em um fundo colorido que representa o limite de decisão.<br>\n",
    "* Os pontos são plotados da mesma forma que foram plotados os pontos de treinamento.\n",
    "* O limite de decisão é plotado usando-se uma grade de pontos que são coloridos de acordo com a previsão feita pelo classificador levando-se em conta as respectivas coordenadas.\n",
    "\n",
    "O conjunto de dados de teste é usado demonstrar o funcionamento do classificador.<br>\n",
    "Utilizamos o classificador bayesiano treinado para fazer a previsão dos pontos que estão no conjunto de teste.<br>\n",
    "\n",
    "A função *figuraTeste* utiliza o classificador treinado para colorir o limite de decisão que separa a carga normal da carga alta do servidor:\n",
    "* Recebe como argumento o classificador treinado e os dados de teste\n",
    "* Usa o classificador para colorir o limite de decisão\n",
    "* Usa o conjunto de teste para mostrar como estão os pontos do conjunto de teste con relação ao limite de decisão<br> <br>\n",
    "\n",
    "A figura abaixo mostra um exemplo, com o resultado da classificação, incluindo os pontos do conjunto de teste e o limite de decisão.<br>"
   ]
  },
  {
   "cell_type": "code",
   "execution_count": null,
   "metadata": {},
   "outputs": [],
   "source": [
    "import pylab as pl\n",
    "def figuraTeste(clf, X_test, y_test):\n",
    "    x_min = 0.0;\n",
    "    x_max = 1.0\n",
    "    y_min = 0.0;\n",
    "    y_max = 1.0\n",
    "\n",
    "    #####################################################################\n",
    "    # Esse trecho do codigo plota figura com o limite de decisao\n",
    "    ######################################################################\n",
    "\n",
    "    # Construir uma grade de pontos com os eixos x e y com entre 0.0 e 1.0\n",
    "    # O passo da grade é h = 0.01\n",
    "    h = .01  # tamanho do passo na construcao do mesh\n",
    "    xx, yy = np.meshgrid(np.arange(x_min, x_max, h), np.arange(y_min, y_max, h))\n",
    "\n",
    "    ## Fazer a previsão para cada ponto e salvar no array Z\n",
    "    Z = clf.predict(np.c_[xx.ravel(), yy.ravel()])\n",
    "\n",
    "    ## O valor da previsão em Z determina a cor de cada ponto (argumanto cmap)\n",
    "    Z = Z.reshape(xx.shape)\n",
    "    plt.xlim(xx.min(), xx.max())\n",
    "    plt.ylim(yy.min(), yy.max())\n",
    "    plt.pcolormesh(xx, yy, Z, cmap=pl.cm.seismic)\n",
    "\n",
    "    ###############################################################\n",
    "    # Essa parte do codigo prepara a plotagem dos pontos de teste\n",
    "    ###############################################################\n",
    "\n",
    "    ### dados de teste (X_test, y_test) possuem pontos \"carga normal\" e \"carga alta\" misturados\n",
    "    ### separar para dar cores diferentes no scatterplot\n",
    "    ### assim podem ser identificados\n",
    "    cpu_normal = [X_test[ii][0] for ii in range(0, len(X_test)) if y_test[ii] == 0]\n",
    "    memoria_normal = [X_test[ii][1] for ii in range(0, len(X_test)) if y_test[ii] == 0]\n",
    "    cpu_alta = [X_test[ii][0] for ii in range(0, len(X_test)) if y_test[ii] == 1]\n",
    "    memoria_alta = [X_test[ii][1] for ii in range(0, len(X_test)) if y_test[ii] == 1]\n",
    "\n",
    "    ### colore os pontos com label = 1 (carga normal) de azul\n",
    "    ### colore os pontos com label = 0 (sobrecarregado) de vermelho\n",
    "    plt.scatter(cpu_normal, memoria_normal, color=\"b\", label=\"carga normal\")\n",
    "    plt.scatter(cpu_alta, memoria_alta, color=\"r\", label=\"carga alta\")\n",
    "\n",
    "    #############################################################\n",
    "    # Fim da preparacao da plotgem dos pontos de teste\n",
    "    ############################################################\n",
    "\n",
    "    # Legenda\n",
    "    plt.legend()\n",
    "    plt.xlabel(\"utilização de cpu\")\n",
    "    plt.ylabel(\"utilização de memória\")\n",
    "\n",
    "    plt.title(date.today())\n",
    "    plt.show()\n",
    "\n",
    "    # Salva figura\n",
    "    plt.savefig(\"teste.png\")\n",
    "    plt.close()\n",
    "\n",
    "figuraTeste(clf, X_test, Y_test)"
   ]
  },
  {
   "cell_type": "markdown",
   "metadata": {},
   "source": [
    "A biblioteca sklearn fornece uma biblioteca com métricas de classificação que serão exploradas no TDE02.<br>\n",
    "Para gerar as métricas utilizamos compara-se os valores previstos com os dados de teste."
   ]
  },
  {
   "cell_type": "code",
   "execution_count": null,
   "metadata": {
    "scrolled": true
   },
   "outputs": [],
   "source": [
    "from sklearn import metrics\n",
    "print(f\"Métricas de classificação\\n\"\n",
    "      f\"{metrics.classification_report(Y_test, Y_previsto)}\\n\")"
   ]
  }
 ],
 "metadata": {
  "kernelspec": {
   "display_name": "Python 3 (ipykernel)",
   "language": "python",
   "name": "python3"
  },
  "language_info": {
   "codemirror_mode": {
    "name": "ipython",
    "version": 3
   },
   "file_extension": ".py",
   "mimetype": "text/x-python",
   "name": "python",
   "nbconvert_exporter": "python",
   "pygments_lexer": "ipython3",
   "version": "3.9.12"
  }
 },
 "nbformat": 4,
 "nbformat_minor": 4
}
