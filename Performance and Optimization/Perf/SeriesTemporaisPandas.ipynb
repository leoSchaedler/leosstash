{
 "cells": [
  {
   "cell_type": "markdown",
   "metadata": {},
   "source": [
    "# Séries temporais no Pandas\n",
    "Qualquer conjunto de dados em que os valores são medidos em diferentes pontos no tempo. Muitas séries temporais são espaçadas uniformemente em uma frequência específica, por exemplo, medições meteorológicas horárias, contagens diárias de visitas a sites ou totais de vendas mensais. As séries temporais também podem ser espaçadas irregularmente e esporádicas, por exemplo, dados com timestamp de data e hora no log de eventos de um sistema de computador ou um histórico de chamadas de emergência 911. As ferramentas de série temporal do Pandas se aplicam igualmente bem a qualquer tipo de série temporal.<br>"
   ]
  },
  {
   "cell_type": "markdown",
   "metadata": {},
   "source": [
    "## Bibliotecas\n",
    "* Pandas\n",
    "* Matplotlib [pylot](https://matplotlib.org/stable/api/_as_gen/matplotlib.pyplot.html)\n",
    "* Matplotlib [dates](https://matplotlib.org/stable/api/dates_api.html)\n",
    "* [Seaborn](https://seaborn.pydata.org/generated/seaborn.set_style.html)"
   ]
  },
  {
   "cell_type": "code",
   "execution_count": null,
   "metadata": {},
   "outputs": [],
   "source": [
    "import pandas as pd\n",
    "import matplotlib.pyplot as plt\n",
    "\n",
    "# Tratamento de datas\n",
    "import matplotlib.dates as mdates\n",
    "\n",
    "# Estilo seaborn\n",
    "import seaborn as sns\n",
    "sns.set(rc={'figure.figsize':(11, 4)})"
   ]
  },
  {
   "cell_type": "markdown",
   "metadata": {},
   "source": [
    "# Parte 1 - Conceitos"
   ]
  },
  {
   "cell_type": "markdown",
   "metadata": {},
   "source": [
    "### Estruturas de dados de série temporal\n",
    "Cada instante de tempo é representado por um *timestamp* (rótulo de tempo), que é uma variável do [tipo *datetime*](https://pandas.pydata.org/pandas-docs/stable/user_guide/timeseries.html).<br>\n",
    "A estrutura *datetime* tem o formato aaaa-mm-dd hh:mm:ss.<br><br>\n",
    "\n",
    "A função *to_datetime()* converte strings com informação de tempo em *timestamps*.<br>\n",
    "Aceita como agumento diversos formatos de data e hora.<br>\n",
    "Infere automaticamente um formato de data/hora com base na entrada.<br><br>"
   ]
  },
  {
   "cell_type": "markdown",
   "metadata": {},
   "source": [
    "#### Exemplo\n",
    "Converter as seguintes strings em *timestamps*:\n",
    "* 2018-01-15 3:45pm\n",
    "* 7/8/2021<br>"
   ]
  },
  {
   "cell_type": "code",
   "execution_count": null,
   "metadata": {},
   "outputs": [],
   "source": [
    "# Data e hora no formato: aaaa-mm-dd hh:mm am-pm\n",
    "print(pd.to_datetime('2018-01-15 3:45pm'))"
   ]
  },
  {
   "cell_type": "markdown",
   "metadata": {},
   "source": [
    "No segundo exemplo exemplo a data é ambígua, já que tanto 7 quanto 8 podem estar representando o dia ou o mês.<br>\n",
    "A função *to_datetime* entende '7/8/1952' como mês/dia/ano (default), interpretando a data no string como 8 de julho de 2021.<br>"
   ]
  },
  {
   "cell_type": "code",
   "execution_count": null,
   "metadata": {},
   "outputs": [],
   "source": [
    "# Data e hora no formato ambíguo (8 de julho de 1952)\n",
    "# Assume mm/dd/aaaa\n",
    "pd.to_datetime('7/8/2021')"
   ]
  },
  {
   "cell_type": "markdown",
   "metadata": {},
   "source": [
    "Podemos usar o parâmetro *dayfirst* para definir a data como 7 de agosto 2021.<br>"
   ]
  },
  {
   "cell_type": "code",
   "execution_count": null,
   "metadata": {},
   "outputs": [],
   "source": [
    "# Informa que o dia vem primeiro\n",
    "# Assume dd/mm/aaaa\n",
    "pd.to_datetime('7/8/2021', dayfirst=True)"
   ]
  },
  {
   "cell_type": "code",
   "execution_count": null,
   "metadata": {},
   "outputs": [],
   "source": [
    "# Não é mais ambíguo porque 17 não pode ser mês\n",
    "# Assume dd/mm/aaaa\n",
    "pd.to_datetime('17/8/2021')"
   ]
  },
  {
   "cell_type": "markdown",
   "metadata": {},
   "source": [
    "### DatetimeIndex\n",
    "Se fornecermos uma lista ou matriz de strings como entrada para a função *to_datetime*, ela retornará uma sequência de valores de data e hora em um objeto do tipo *DatetimeIndex*, a estrutura de dados principal de séries temporais do pandas.<br>\n",
    "\n",
    "No exemplo a seguir podemos ver que a estrutura *DatetimeIndex* armazena os valores no tipo de dados *datetime64[ns]*, o que indica que os dados são armazenados como inteiros de 64 bits, em unidades de nanossegundos (ns).<br>\n",
    "\n",
    "Essa forma de armazenamento permite que os *DatetimeIndex* armazenem grandes sequências de valores de data e hora de forma compacta, e executem operações vetorizadas com eficiência usando matrizes *NumPy datetime64*."
   ]
  },
  {
   "cell_type": "code",
   "execution_count": null,
   "metadata": {},
   "outputs": [],
   "source": [
    "pd.to_datetime(['2018-01-05', '7/8/2021', 'Oct 10, 1995'])"
   ]
  },
  {
   "cell_type": "markdown",
   "metadata": {},
   "source": [
    "## Formatar datas e horas em string\n",
    "O parâmetro *format* da função *to_datetime* permite especificar o formato das datas e horas que estão armazenadas em strings. Isso é importante ao tratar sequências de strings porque acelera bastante o desempenho da função em comparação com o comportamento padrão, onde cada formato é inferido separadamente para cada string individual.<br><br>\n",
    "Exemplo:<br>\n",
    "Usar os códigos de formato %m (mês numérico), %d (dia do mês) e %y (ano de 2 dígitos) para especificar o formato."
   ]
  },
  {
   "cell_type": "code",
   "execution_count": null,
   "metadata": {},
   "outputs": [],
   "source": [
    "pd.to_datetime(['2/25/10', '8/6/17', '12/15/12'], format='%m/%d/%y')"
   ]
  },
  {
   "cell_type": "markdown",
   "metadata": {},
   "source": [
    "## Carregar os dados\n",
    "* Leitura do arquivo *requisicoes_dia.csv*\n",
    "* Mostrar o *shape* do dataframe\n",
    "* Mostrar 3 primeiras linhas\n",
    "* Mostrar 3 última linhas\n",
    "* Mostrar o tipo de cada coluna\n",
    "* Fazer a coluna Data ser o índice do dataframe\n",
    "* Mostrar as 3 primeiras linhas\n",
    "* Mostrar o índice"
   ]
  },
  {
   "cell_type": "code",
   "execution_count": null,
   "metadata": {},
   "outputs": [],
   "source": [
    "req_dia = pd.read_csv(\"requisicoes_dia.csv\")\n",
    "print(req_dia.shape)"
   ]
  },
  {
   "cell_type": "code",
   "execution_count": null,
   "metadata": {},
   "outputs": [],
   "source": [
    "req_dia.head(3)"
   ]
  },
  {
   "cell_type": "code",
   "execution_count": null,
   "metadata": {},
   "outputs": [],
   "source": [
    "req_dia.tail(3)"
   ]
  },
  {
   "cell_type": "code",
   "execution_count": null,
   "metadata": {},
   "outputs": [],
   "source": [
    "req_dia.dtypes"
   ]
  },
  {
   "cell_type": "code",
   "execution_count": null,
   "metadata": {},
   "outputs": [],
   "source": [
    "req_dia = req_dia.set_index('Data')\n",
    "req_dia.head(3)"
   ]
  },
  {
   "cell_type": "code",
   "execution_count": null,
   "metadata": {},
   "outputs": [],
   "source": [
    "req_dia.index"
   ]
  },
  {
   "cell_type": "markdown",
   "metadata": {},
   "source": [
    "## Definir o índice no comando read\n",
    "Podemos consolidar a transformação do índice em uma única linha, usando os parâmetros index_col e parse_dates da função read_csv()."
   ]
  },
  {
   "cell_type": "code",
   "execution_count": null,
   "metadata": {},
   "outputs": [],
   "source": [
    "req_dia = pd.read_csv('requisicoes_dia.csv', index_col=0, parse_dates=True)\n",
    "print(req_dia.head(3))\n",
    "req_dia.index"
   ]
  },
  {
   "cell_type": "markdown",
   "metadata": {},
   "source": [
    "## Tipo datetime\n",
    "Cada valor no Datetimeindex é do tipo *datetime*.<br>\n",
    "Os componentes de data e tempo individuais estão disponíveis como atributos (ano, mês, dia e assim por diante).<br><br>\n",
    "Exemplo:\n",
    "Adicionar colunas contendo o nome do ano, mês e dia da semana ao *dataframe*."
   ]
  },
  {
   "cell_type": "code",
   "execution_count": null,
   "metadata": {},
   "outputs": [],
   "source": [
    "# Adicionar colunas com o ano, mes, e dia da semana\n",
    "req_dia['Ano'] = req_dia.index.year\n",
    "req_dia['Mes'] = req_dia.index.month\n",
    "req_dia['Num dia semana'] = req_dia.index.dayofweek\n",
    "nome_dia = {0:'Seg',1:'Ter',2:'Qua',3:'Qui',4:'Sex',5:'Sab',6:'Dom'}\n",
    "req_dia['Dia da semana'] = req_dia['Num dia semana'].apply(lambda x: nome_dia[x])\n",
    "req_dia.drop(columns=['Num dia semana'], axis=1, inplace=True)\n",
    "\n",
    "# Mostrar cinco linhas aleatórias\n",
    "req_dia.sample(5, random_state=0)"
   ]
  },
  {
   "cell_type": "markdown",
   "metadata": {},
   "source": [
    "## Indexação baseada no tempo\n",
    "Um dos recursos mais poderosos e convenientes das séries temporais do pandas é a indexação baseada no tempo, que utiliza datas e horas para organizar e acessar os dados de forma intuitiva.<br>\n",
    "Podemos usar strings formatadas de data e hora para selecionar dados no dataframe com o indexador *loc*.<br>\n",
    "A indexação funciona de maneira semelhante à indexação padrão com *loc*, com alguns recursos adicionais."
   ]
  },
  {
   "cell_type": "code",
   "execution_count": null,
   "metadata": {},
   "outputs": [],
   "source": [
    "req_dia.loc['2017-08-10']"
   ]
  },
  {
   "cell_type": "code",
   "execution_count": null,
   "metadata": {},
   "outputs": [],
   "source": [
    "# Selecionar a faixa de dias '2014-01-20':'2014-01-22' (inclui ambos os pontos de extremidade)\n",
    "req_dia.loc['2014-01-20':'2014-01-22']"
   ]
  },
  {
   "cell_type": "markdown",
   "metadata": {},
   "source": [
    "## Indexação parcial\n",
    "Selecionar todas as datas e horas que correspondem parcialmente a uma determinada string.<br>\n",
    "Por exemplo, selecionar todas as datas e horas do mês de fevereiro de 2012."
   ]
  },
  {
   "cell_type": "code",
   "execution_count": null,
   "metadata": {},
   "outputs": [],
   "source": [
    "req_dia.loc['2012-02']"
   ]
  },
  {
   "cell_type": "markdown",
   "metadata": {},
   "source": [
    "# Parte 2 - Visualização"
   ]
  },
  {
   "cell_type": "markdown",
   "metadata": {},
   "source": [
    "## Carregar os dados\n",
    "* Leitura do arquivo *requisicoes_dia.csv*\n",
    "* Definir colouna 0 como índice\n",
    "* Mostrar as 3 primeiras linhas"
   ]
  },
  {
   "cell_type": "code",
   "execution_count": null,
   "metadata": {},
   "outputs": [],
   "source": [
    "req_dia = pd.read_csv('requisicoes_dia.csv', index_col=0, parse_dates=True)\n",
    "print(req_dia.head(3))"
   ]
  },
  {
   "cell_type": "markdown",
   "metadata": {},
   "source": [
    "## Visualização da série WEB"
   ]
  },
  {
   "cell_type": "code",
   "execution_count": null,
   "metadata": {},
   "outputs": [],
   "source": [
    "req_dia['WEB'].plot(linewidth=0.5);"
   ]
  },
  {
   "cell_type": "markdown",
   "metadata": {},
   "source": [
    "## Séries WEB BD APLIC"
   ]
  },
  {
   "cell_type": "code",
   "execution_count": null,
   "metadata": {},
   "outputs": [],
   "source": [
    "colunas = ['WEB', 'BD', 'APLIC']\n",
    "axes = req_dia[colunas].plot(marker='.', alpha=0.5, linestyle='None', figsize=(11, 9), subplots=True)\n",
    "for ax in axes:\n",
    "    ax.set_ylabel('Total diário (x 1000)')"
   ]
  },
  {
   "cell_type": "markdown",
   "metadata": {},
   "source": [
    "## Redimensionamento\n",
    "O redimensionamento de uma série temporal para uma frequência mais baixa (downsampling) envolve uma operação de agregação — por exemplo, computar os totais mensais a partir de dados diários.<br>\n",
    "* Usar o método *resample()* para reorganizar o DatetimeIndex agrupando os dados em intervalos de tempo mais amplos (downsampling).\n",
    "* Aplicar um método de agregação como mean(), median(), sum(), etc., ao grupo de dados para cada intervalo de tempo.\n",
    "\n",
    "Cada linha da série temporal redimensionada é rotulada com o maior valor do intervalo de tempo do intervalo."
   ]
  },
  {
   "cell_type": "markdown",
   "metadata": {},
   "source": [
    "### Redimensionamento semanal com agregação por média\n",
    "Plotar as séries temporais diárias e semanais da coluna solar em um período de seis meses no mesmo gráfico.\n",
    "* A agregação por média produz NaN quando algum dado do intervalo de agregação for inexistente"
   ]
  },
  {
   "cell_type": "code",
   "execution_count": null,
   "metadata": {},
   "outputs": [],
   "source": [
    "# Selecionar as colunas\n",
    "colunas = ['WEB', 'BD', 'APLIC']\n",
    "# Redimensionar para frequencia semanal agregando com a média\n",
    "req_media_semanal = req_dia[colunas].resample('W').mean()\n",
    "inicio, fim = '2017-01', '2017-02'\n",
    "print(req_media_semanal.loc[inicio:fim, 'APLIC'])\n",
    "print(req_dia.loc['2017-02-20':'2017-02-26', 'APLIC'])"
   ]
  },
  {
   "cell_type": "markdown",
   "metadata": {},
   "source": [
    "#### Observações sobre o exemplo\n",
    "* O valor correspondente à media semanal em 2017-02-26 (53.013143) é o valor da média dos valores nos dias 20, 21, 22, 23, 24, 25 e 26 (31.768, 35.746, 25.278, 50.721, 70.540, 97.579, 59.460)\n",
    "* Cada linha da série temporal redimensionada é rotulada com o maior valor do intervalo de tempo de cada intervalo de agregação"
   ]
  },
  {
   "cell_type": "code",
   "execution_count": null,
   "metadata": {},
   "outputs": [],
   "source": [
    "# Inicio e fim do período\n",
    "inicio, fim = '2017-01', '2017-06'\n",
    "# Plotar os dados semanal e diário no mesmo gráfico\n",
    "fig, ax = plt.subplots()\n",
    "ax.plot(req_dia.loc[inicio:fim, 'APLIC'],\n",
    "marker='.', linestyle='-', linewidth=0.5, label='Diário')\n",
    "ax.plot(req_media_semanal.loc[inicio:fim, 'APLIC'],\n",
    "marker='o', markersize=8, linestyle='-', label='Média semanal')\n",
    "ax.set_ylabel('Requisições (x 1000)')\n",
    "ax.set_title('Servidor Aplicação')\n",
    "ax.legend();"
   ]
  },
  {
   "cell_type": "markdown",
   "metadata": {},
   "source": [
    "#### Redimensionamento mensal com agregação por soma\n",
    "A agregação por soma retorna a saída 0 como a soma dos dados ausentes.<br>\n",
    "Usamos o parâmetro min_count para alterar esse comportamento."
   ]
  },
  {
   "cell_type": "code",
   "execution_count": null,
   "metadata": {},
   "outputs": [],
   "source": [
    "# Calcula as somas mensais\n",
    "# Default: coloca a soma em zero para meses com valores faltantes\n",
    "# min_count: coloca a soma em zero se houver menos do que min_count valores no mês\n",
    "req_soma_mensal = req_dia[colunas].resample('M').sum(min_count=28)\n",
    "\n",
    "fig, ax = plt.subplots()\n",
    "ax.plot(req_soma_mensal['WEB'], color='black', label='Servidor WEB')\n",
    "req_soma_mensal[['BD', 'APLIC']].plot.area(ax=ax, linewidth=0)\n",
    "ax.xaxis.set_major_locator(mdates.YearLocator())\n",
    "ax.legend()\n",
    "ax.set_ylabel('Requisições (x 1000)')\n",
    "ax.legend();"
   ]
  },
  {
   "cell_type": "markdown",
   "metadata": {},
   "source": [
    "## Intervalos móveis\n",
    "Divide os dados em intervalos móveis de tempo que podem ser agregados.<br>\n",
    "Os intervalos móveis se sobrepõem e “rolam” na mesma frequência que os dados, e a série temporal transformada permanece na mesma frequência que a série temporal original.<br><br>\n",
    "\n",
    "Usar o método rolling() para calcular a média móvel de 7 dias de nossos dados diários.<br>\n",
    "Usar o argumento center=True para rotular cada janela na posição central do intervalo (4a medida da semana).<br>\n",
    "As janelas rolantes são:\n",
    "* 01-01-2006 a 07-01-2006 — rotulado como 04-01-2006\n",
    "* 02-01-2006 a 08-01-2006 — rotulado como 05-01-2006\n",
    "* 03-01-2006 a 09-01-2006 — rotulado como 06-01-2006\n",
    "* e assim por diante…"
   ]
  },
  {
   "cell_type": "code",
   "execution_count": null,
   "metadata": {},
   "outputs": [],
   "source": [
    "# Calcular a média móvel de 7 dias\n",
    "# O primeiro valor médio não ausente está em 04/01/2006\n",
    "# Esta é a posição central do primeiro intervalo móvel\n",
    "req_7d = req_dia[colunas].rolling(7, center=True).mean()\n",
    "req_7d.head(10)"
   ]
  },
  {
   "cell_type": "markdown",
   "metadata": {},
   "source": [
    "Gráfico das requisições para o Servidor de Aplicações de janeiro a junho de 2017\n",
    "* Dados diários\n",
    "* Dados agregados semanalmente pela média\n",
    "* Média móvel de 7 dias"
   ]
  },
  {
   "cell_type": "code",
   "execution_count": null,
   "metadata": {},
   "outputs": [],
   "source": [
    "# Início e fim\n",
    "start, end = '2017-01', '2017-06'\n",
    "# Diário, agrupado pela média semanal, média móvel de sete dias\n",
    "fig, ax = plt.subplots()\n",
    "ax.plot(req_dia.loc[start:end, 'APLIC'],\n",
    "marker='.', linestyle='-', linewidth=0.5, label='Diário')\n",
    "ax.plot(req_media_semanal.loc[start:end, 'APLIC'],\n",
    "marker='o', markersize=8, linestyle='-', label='Média semanal')\n",
    "ax.plot(req_7d.loc[start:end, 'APLIC'],\n",
    "marker='.', linestyle='-', label='Média móvel de 7 dias')\n",
    "ax.set_ylabel('Requisições (x 1000)')\n",
    "ax.set_title('Servidor Aplicação')\n",
    "ax.legend();"
   ]
  },
  {
   "cell_type": "markdown",
   "metadata": {},
   "source": [
    "# Parte 2 - Análise visual"
   ]
  },
  {
   "cell_type": "markdown",
   "metadata": {},
   "source": [
    "## Séries WEB BD APLIC"
   ]
  },
  {
   "cell_type": "code",
   "execution_count": null,
   "metadata": {},
   "outputs": [],
   "source": [
    "colunas = ['WEB', 'BD', 'APLIC']\n",
    "axes = req_dia[colunas].plot(marker='.', alpha=0.5, linestyle='None', figsize=(11, 9), subplots=True)\n",
    "for ax in axes:\n",
    "    ax.set_ylabel('Total diário (x 1000)')"
   ]
  },
  {
   "cell_type": "markdown",
   "metadata": {},
   "source": [
    "## Sazonalidade\n",
    "Padrão que se repete em intervalos de tempo regulares.<br><br>\n",
    "O gráfico anterior mostra que as três séries temporais podem exibir sazonalidade.<br>\n",
    "* Oscilam entre valores altos e baixos em uma escala de tempo anual.<br>\n",
    "* Sugere a existência sazonalidade em periodos menores (por exemplo, dias de semana e fins de semana).<br><br>"
   ]
  },
  {
   "cell_type": "markdown",
   "metadata": {},
   "source": [
    "## Autocorrelação (dados diários)\n",
    "A autocorrelação é a correlação entre uma série e ela mesma defasada no tempo (lag em inglês).<br>\n",
    "Função de autocorrelação de defasagem $h$ para a série $X_{t}$ (estacionária):\n",
    "* $COR(X_{t+h},X_{t})=\\frac{COV(X_{t+h},X_{t})}{VAR(X_{t})}$<br><br>\n",
    "\n",
    "A função de autocorrelação é usada para identificação de sazonalidade.<br>\n",
    "Como os dados são diários, vamos avaliar a autorrelação entre dias."
   ]
  },
  {
   "cell_type": "code",
   "execution_count": null,
   "metadata": {},
   "outputs": [],
   "source": [
    "# Autocorrelação na série de dados do servidor WEB\n",
    "# Pico de autocorrelação na defasagem de 7 dias (1 semana)\n",
    "pd.plotting.autocorrelation_plot(req_dia.loc['2017-01','WEB']);"
   ]
  },
  {
   "cell_type": "code",
   "execution_count": null,
   "metadata": {},
   "outputs": [],
   "source": [
    "pd.plotting.autocorrelation_plot(req_dia.loc['2017-01','BD']);"
   ]
  },
  {
   "cell_type": "markdown",
   "metadata": {},
   "source": [
    "#### Podemos observa que o pico de autocorrelação ocorre após 7 dias (1 semana)."
   ]
  },
  {
   "cell_type": "markdown",
   "metadata": {},
   "source": [
    "## Visualizar sazonalidade semanal\n",
    "Para visualizar a sazonalidades é necessário plotar a série temporal em períodos de tempo menores.\n",
    "* Plotar a série temporal de um bimestre (Janeiro e Fevereiro de 2017)"
   ]
  },
  {
   "cell_type": "code",
   "execution_count": null,
   "metadata": {},
   "outputs": [],
   "source": [
    "ax = req_dia.loc['2017-01':'2017-02', 'WEB'].plot(marker='o', linestyle='-')\n",
    "ax.set_title('Servidor WEB Janeiro e Fevereiro de 2017')\n",
    "ax.set_ylabel('Requisições por dia (x 1000)');"
   ]
  },
  {
   "cell_type": "markdown",
   "metadata": {},
   "source": [
    "### Incluir dias da semana no gráfico\n",
    "Para observar a sazonalidade semanal é importante que os dias da semana fique evidenciados no gráfico.<br>\n",
    "Os ticks de data e hora são tratados de maneira diferente em matplotlib.dates em comparação com o método plot() do dataFrame.<br>\n",
    "Utilizar matplotlib.dates para personalizar o gráfico.<br>\n",
    "* Criar o gráfico no matplotlib\n",
    "* Usar mdates.WeekdayLocator() e mdates.MONDAY para definir os ticks do eixo x para a primeira segunda-feira de cada semana\n",
    "* Usar mdates.DateFormatter() para melhorar a formatação dos rótulos dos ticks."
   ]
  },
  {
   "cell_type": "code",
   "execution_count": null,
   "metadata": {},
   "outputs": [],
   "source": [
    "fig, ax = plt.subplots()\n",
    "ax.plot(req_dia.loc['2017-01':'2017-02', 'WEB'], marker='o', linestyle='-')\n",
    "ax.set_ylabel('Requisições por dia (x 1000)')\n",
    "ax.set_title('Servidor WEB (Jan-Fev 2017)')\n",
    "# Setar os ticks principais no eixo x para intervalos semanais iniciando nas segundas feiras\n",
    "ax.xaxis.set_major_locator(mdates.WeekdayLocator(byweekday=mdates.MONDAY))\n",
    "# Formatar rótulos dos ticks no eixo x para meses (três letras) e dias (dois dígitos)\n",
    "ax.xaxis.set_major_formatter(mdates.DateFormatter('%b %d'));"
   ]
  },
  {
   "cell_type": "markdown",
   "metadata": {},
   "source": [
    "## Sazonalidade anual\n",
    "Para observar a sazonalidade anual é necessário fazer uma agregação mensal dos dados<br>\n",
    "\n",
    "### Redimensionamento mensal com agregação por média"
   ]
  },
  {
   "cell_type": "code",
   "execution_count": null,
   "metadata": {},
   "outputs": [],
   "source": [
    "# Selecionar as colunas\n",
    "colunas = ['WEB', 'BD', 'APLIC']\n",
    "# Redimensionar para frequencia semanal agregando com a média\n",
    "req_media_mensal = req_dia[colunas].resample('M').mean()"
   ]
  },
  {
   "cell_type": "code",
   "execution_count": null,
   "metadata": {},
   "outputs": [],
   "source": [
    "pd.plotting.autocorrelation_plot(req_media_mensal['WEB']);"
   ]
  },
  {
   "cell_type": "code",
   "execution_count": null,
   "metadata": {},
   "outputs": [],
   "source": [
    "ax = req_media_mensal['WEB'].plot(marker='o', linestyle='-')\n",
    "ax.set_title('Servidor WEB')\n",
    "ax.set_ylabel('Requisições (média mensal x 1000)');"
   ]
  },
  {
   "cell_type": "markdown",
   "metadata": {},
   "source": [
    "# Entrega\n",
    "Imprimir para pdf.\n",
    "Fazer uplod no AVA."
   ]
  }
 ],
 "metadata": {
  "kernelspec": {
   "display_name": "Python 3",
   "language": "python",
   "name": "python3"
  },
  "language_info": {
   "codemirror_mode": {
    "name": "ipython",
    "version": 3
   },
   "file_extension": ".py",
   "mimetype": "text/x-python",
   "name": "python",
   "nbconvert_exporter": "python",
   "pygments_lexer": "ipython3",
   "version": "3.8.3"
  }
 },
 "nbformat": 4,
 "nbformat_minor": 4
}
