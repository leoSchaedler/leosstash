{
 "cells": [
  {
   "cell_type": "markdown",
   "metadata": {},
   "source": [
    "# Configurações de falha"
   ]
  },
  {
   "cell_type": "markdown",
   "metadata": {},
   "source": [
    "Em um sistema composto por vários componentes cada conjunto de falhas (simultâneas) de componentes corresponde a uma configuração de falha. Cada falha implica em alterações de funcionamento e pode acarretar uma situação de falha do sistema (defeito). As probabilidades de cada configuração de falha podem ser obtidas através de cadeias de Markov. Cada estado da cadeia representa uma configuração de falha.<br><br>\n",
    "\n",
    "Seja $C=\\left \\{ c_{1}, c_{2}, \\cdots , c_{n}\\right \\}$ o conjunto de componentes de um sistema.<br>\n",
    "Os estados de falha podem ser representados pelo conjunto dos subconjuntos de C. <br>\n",
    "$\\left \\{ \\left \\{  \\right \\}, \\left \\{ 1 \\right \\}, \\left \\{ 2 \\right \\}, \\cdots \\left \\{ 1, 2, \\cdots , n \\right \\} \\right \\}$\n",
    "\n",
    "Acadeia de Markov terá $2^{n}$ estados:\n",
    "* O estado representado pelo conjunto vazio { } corresponde ao estado inicial (sem falhas)\n",
    "* Os estados representados pelos conjuntos unitários {1}, {2} ... {n} representam os estados de falha apenas dos componentes correspondentes (c1 ou c2 ou ... ou cn)\n",
    "* Os estados formados por conjuntos com 2 elementos representam os estados de falha de dois componentes<br>\n",
    "{1, 2} representa o estado onde os componentes c1 e c2 estão falhados, não importando a ordem de ocorrência da falha<br>\n",
    "{1, 3} ...<br>\n",
    "{1, 2, ..., n} representa o estado com todos os componentes falhados<br><br>\n",
    "\n",
    "Supondo que as funções de taxa de falha são exponenciais:<br>\n",
    "* A taxa de ocorrência de falhas do componente i é representada por λi (número de falhas por unidade de tempo)<br>\n",
    "* A taxa de ocorrência de recuperações do componente i é representada por μi (número de recuperações por unidade de tempo)<br>\n",
    "* As probabilidades de configurações de falha são calculadas através das equações de equilíbrio da cadeia de Markov<br><br>"
   ]
  },
  {
   "cell_type": "markdown",
   "metadata": {},
   "source": [
    "Importar as bibliotecas que serão usadas."
   ]
  },
  {
   "cell_type": "code",
   "execution_count": null,
   "metadata": {},
   "outputs": [],
   "source": [
    "import numpy as np"
   ]
  },
  {
   "cell_type": "markdown",
   "metadata": {},
   "source": [
    "### Exemplo 1\n",
    "Um sistema com 3 componentes está em funcionamento se o componente 1 estiver funcionando, ou se os componentes 2 e 3 estiverem funcionando.\n",
    "![alt text](markov.png)<br>\n",
    "Estados com sistema funcionando: 0 = { }, 1 = {1}, 2 = {2}, 3 = {3}, 6 = {2, 3}<br>\n",
    "Estados com sistema com defeito: 4 = {1, 2}, 5 = {1, 3}, 7 = {1, 2, 3}<br>\n",
    "Se\n",
    "\tλ1 = 10 \tλ2 = 20\t\tλ3 = 28\n",
    "\tμ1 = 32\t    μ2 = 25\t\tμ3 = 15\n",
    "<br>\n",
    "Calcular a probabilidade de o sistema estar em erro."
   ]
  },
  {
   "cell_type": "code",
   "execution_count": null,
   "metadata": {},
   "outputs": [],
   "source": [
    "# Copie aqui a função cmtcP implementada na FORMATIVA 12\n"
   ]
  },
  {
   "cell_type": "code",
   "execution_count": null,
   "metadata": {},
   "outputs": [],
   "source": [
    "# Calcular a matriz Q\n",
    "# Colocar seu código aqui\n",
    "Q = np.array([[0, 0, 0, 0, 0, 0, 0, 0],[0, 0, 0, 0, 0, 0, 0, 0],\n",
    "              [0, 0, 0, 0, 0, 0, 0, 0],[0, 0, 0, 0, 0, 0, 0, 0],\n",
    "              [0, 0, 0, 0, 0, 0, 0, 0],[0, 0, 0, 0, 0, 0, 0, 0],\n",
    "              [0, 0, 0, 0, 0, 0, 0, 0],[0, 0, 0, 0, 0, 0, 0, 0]],\n",
    "             dtype=np.float64)"
   ]
  },
  {
   "cell_type": "code",
   "execution_count": null,
   "metadata": {},
   "outputs": [],
   "source": [
    "# Calcular o vetor PI\n",
    "PI = cmtcP(Q)\n",
    "print(PI)"
   ]
  },
  {
   "cell_type": "code",
   "execution_count": null,
   "metadata": {},
   "outputs": [],
   "source": [
    "# Probabilidade do sistema ter defeito (indisponibilidade)\n",
    "PI[4] + PI[5] + PI[7]"
   ]
  },
  {
   "cell_type": "code",
   "execution_count": null,
   "metadata": {},
   "outputs": [],
   "source": [
    "# Probabilidade do sistema funcionar (disponibilidade)\n",
    "PI[0] + PI[1] + PI[2] + PI[3] + PI[6]"
   ]
  },
  {
   "cell_type": "code",
   "execution_count": null,
   "metadata": {},
   "outputs": [],
   "source": []
  }
 ],
 "metadata": {
  "kernelspec": {
   "display_name": "Python 3",
   "language": "python",
   "name": "python3"
  },
  "language_info": {
   "codemirror_mode": {
    "name": "ipython",
    "version": 3
   },
   "file_extension": ".py",
   "mimetype": "text/x-python",
   "name": "python",
   "nbconvert_exporter": "python",
   "pygments_lexer": "ipython3",
   "version": "3.8.3"
  }
 },
 "nbformat": 4,
 "nbformat_minor": 4
}
