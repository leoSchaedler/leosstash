{
 "cells": [
  {
   "cell_type": "markdown",
   "metadata": {},
   "source": [
    "# Probabilidade Condicional"
   ]
  },
  {
   "cell_type": "markdown",
   "metadata": {},
   "source": [
    "## Definição\n",
    "Para eventos são dependentes, a ocorrência de um afeta o espaço de amostras e a probabilidades do outro.<br>\n",
    "O modelo de probabilidade condicional define as equações para calcular as probabilidades levando em conta as alterações no espaço de amostras.<br><br>\n",
    "\n",
    "Probabilidade condicional do evento $B$ dada a ocorrência do evento $A$ é a proporção de vezes que $A$ e $B$ ocorrem juntos, dividido pela proporção de vezes que $A$ ocorre sozinho.<br>\n",
    "A ocorrência do evento $A$ define um novo espaço amostral.<br>\n",
    "Se conhecemos o novo espaço amostral basta resolver o problema de probabilidade no novo espaço amostral.<br><br>\n",
    "\n",
    "Também podemos resolver o problema de probabilidade usando as informações do espaço amostral inicial com as segintes equações:<br><br>\n",
    "Se $P[A] > 0$\n",
    "* $P[B\\mid A] = \\frac{P[A\\cap B]}{P[A]}$<br>\n",
    "\n",
    "Se $P[A] = 0$\n",
    "* $P[B\\mid A] = P[B]$<br><br>\n",
    "\n",
    "Se $P[B] > 0$\n",
    "* $P[A\\mid B] = \\frac{P[B\\cap A]}{P[B]}$<br>\n",
    "\n",
    "Se $P[B] = 0$\n",
    "* $P[A\\mid B] = P[A]$<br>"
   ]
  },
  {
   "cell_type": "markdown",
   "metadata": {},
   "source": [
    "## Eventos independentes\n",
    "Se $P[A] \\neq  0$ e $P[A\\mid B] = P[A]$ então o evento $A$ é independente do evento $B$.<br>\n",
    "Se $A$ é independente de $B$, $B$ também é independente de $A$.<br>\n",
    "Dizemos que os dois eventos são independentes:\n",
    "* $P[A\\mid B] = P[A]\\Leftrightarrow P[B\\mid A] = P[B]$"
   ]
  },
  {
   "cell_type": "markdown",
   "metadata": {},
   "source": [
    "## Regra da multiplicação\n",
    "Ocorrência conjunta de dois eventos:\n",
    "* $P[A\\cap B]=P[A\\mid B]\\cdot P[A] = P[B\\mid A]\\cdot P[B]$<br>\n",
    "\n",
    "Ocorrência conjunta de dois eventos mutuamente exclusivos:\n",
    "* $P[A\\cap B]=P[A]\\cdot P[B] = P[B]\\cdot P[A]$<br>"
   ]
  },
  {
   "cell_type": "markdown",
   "metadata": {},
   "source": [
    "## Regra da probabilidade total\n",
    "$P[A]=P[A\\mid B]\\cdot P[B] = P[A\\mid B^{c}]\\cdot P[B^{c}]$<br>\n",
    "$P[A]=P[A\\mid B_{1}]\\cdot P[B_{1}]+P[A\\mid B_{2}]\\cdot P[B_{2}]+\\cdots+P[A\\mid B_{n}]\\cdot P[B_{n}]$"
   ]
  },
  {
   "cell_type": "markdown",
   "metadata": {},
   "source": [
    "## Exemplo\n",
    "Um meteorologista prevê corretamente o tempo de certa localidade em 80% dos dias de sol (a probabilidade de o meteorologista prever corretamente o tempo dado que o dia é ensolarado é 0,8), e em 60% dos dias nublados (probabilidade de o meteorologista prever corretamente o tempo dado que o dia não é ensolarado é 0,6).<br>\n",
    "Dado que os dias são ensolarados na localidade em questão em 70% dos dias (probabilidade do dia ser ensolarado = 0,7), qual a porcentagem de acerto total do meteorologista?<br><br>\n",
    "Sejam os eventos:\n",
    "* $A =$ “meteorologista prevê corretamente o tempo”\n",
    "* $B =$ “o dia é ensolarado”<br>\n",
    "\n",
    "As informações que temos são as seguintes:\n",
    "* $P[A\\mid B] = 0,8$\n",
    "* $P[A\\mid B^{c}] = 0,6$\n",
    "* $P[B] = 0,7$\n",
    "* $P[B^{c}] = 0,3$<br>\n",
    "\n",
    "Da regra de probabilidade total temos:\n",
    "* $P[A]=P[A\\mid B]\\cdot P[B] = P[A\\mid B^{c}]\\cdot P[B^{c}]$\n",
    "* 0,8×0,7+0,6×0,3 = 0,56+0,18 = 0,74"
   ]
  },
  {
   "cell_type": "code",
   "execution_count": 1,
   "metadata": {},
   "outputs": [
    {
     "name": "stdout",
     "output_type": "stream",
     "text": [
      "0.74\n"
     ]
    }
   ],
   "source": [
    "PAcondB = 0.8\n",
    "PAcondBc = 0.6\n",
    "PB = 0.7\n",
    "PBc = 0.3\n",
    "PA = PAcondB * PB + PAcondBc * PBc\n",
    "print(PA)"
   ]
  },
  {
   "cell_type": "markdown",
   "metadata": {},
   "source": [
    "## Exercício 1\n",
    "Ao responder um teste de múltipla escolha um estudante ou sabe a resposta ou tenta adivinhar. A probabilidade de ele saber a resposta é 0,7. Cada questão tem cinco alternativas, portanto, quando ele não sabe a resposta e tenta adivinhar a probabilidade de ele acertar é 1/5. Considerando que um estudante que sabe a resposta responde corretamente, qual é a probabilidade do estudante responder corretamente?\n",
    "\n",
    "Eventos:\n",
    "* $A\\equiv$ estudante responde corretamente\n",
    "* $B\\equiv$ estudante sabe a resposta<br>\n",
    "\n",
    "Informações disponíveis:\n",
    "* $P\\left[B\\right]=0,7$\n",
    "* $P\\left[B^c\\right]=0,3$\n",
    "* $P\\left[A|B\\right]=1$\n",
    "* $P\\left[A|B^c\\right]=0,2$\n",
    "\n",
    "Calcular:\n",
    "* $P\\left[A\\right]$\n",
    "\n",
    "Da regra de probabilidade total temos:\n",
    "* $P[A]=P[A\\mid B]\\cdot P[B] = P[A\\mid B^{c}]\\cdot P[B^{c}]$"
   ]
  },
  {
   "cell_type": "code",
   "execution_count": 2,
   "metadata": {},
   "outputs": [
    {
     "name": "stdout",
     "output_type": "stream",
     "text": [
      "0.76\n"
     ]
    }
   ],
   "source": [
    "PB = 0.7\n",
    "PBc = 0.3\n",
    "PAcondB = 1\n",
    "PAcondBc = 0.2\n",
    "PA = PAcondB * PB + PAcondBc * PBc\n",
    "print(PA)"
   ]
  },
  {
   "cell_type": "markdown",
   "metadata": {},
   "source": [
    "## Exercício 2\n",
    "Em uma fábrica de teclados, as linhas de produção I, II, e III respondem por 50, 30 e 20% da produção total. Sabendo-se os teclados apresentam defeitos nas seguintes proporções: 0,3% na linha de produção I; 0,6% na linha de produção II; e 0,2% na linha de produção III.<br>\n",
    "Calcular a probabilidade de um teclado ser produzido com defeito.<br><br>\n",
    "\n",
    "Eventos:\n",
    "* $A\\equiv$ teclado fabricado com defeito\n",
    "* $B_1,B_2,B_3\\equiv$ teclado fabricado na linha de produção I, II, III\n",
    "\n",
    "\n",
    "\n",
    "Dados:\n",
    "* $P\\left[B_{1}\\right]=0,5$\n",
    "* $P\\left[B_{2}\\right]=0,3$\n",
    "* $P\\left[B_{3}\\right]=0,2$\n",
    "* $P\\left[A|B_{1}\\right]=0,004$\n",
    "* $P\\left[A|B_{2}\\right]=0,006$\n",
    "* $P\\left[A|B_{3}\\right]=0,002$\n",
    "\n",
    "\n",
    "\n",
    "Calcular:\n",
    "* $P\\left[A\\right]$\n",
    "\n",
    "\n",
    "Da regra da probabilidade total temos:\n",
    "* $P[A]=P[A\\mid B_{1}]\\cdot P[B_{1}]+P[A\\mid B_{2}]\\cdot P[B_{2}]+P[A\\mid B_{3}]\\cdot P[B_{3}]$"
   ]
  },
  {
   "cell_type": "code",
   "execution_count": 3,
   "metadata": {},
   "outputs": [
    {
     "name": "stdout",
     "output_type": "stream",
     "text": [
      "0.0042\n"
     ]
    }
   ],
   "source": [
    "PB1 = 0.5\n",
    "PB2 = 0.3\n",
    "PB3 = 0.2\n",
    "PAcondB1 = 0.004\n",
    "PAcondB2 = 0.006\n",
    "PAcondB3 = 0.002\n",
    "PA = PAcondB1 * PB1 + PAcondB2 * PB2 + PAcondB3 * PB3\n",
    "print(PA)"
   ]
  },
  {
   "cell_type": "code",
   "execution_count": null,
   "metadata": {},
   "outputs": [],
   "source": []
  }
 ],
 "metadata": {
  "kernelspec": {
   "display_name": "Python 3",
   "language": "python",
   "name": "python3"
  },
  "language_info": {
   "codemirror_mode": {
    "name": "ipython",
    "version": 3
   },
   "file_extension": ".py",
   "mimetype": "text/x-python",
   "name": "python",
   "nbconvert_exporter": "python",
   "pygments_lexer": "ipython3",
   "version": "3.8.3"
  }
 },
 "nbformat": 4,
 "nbformat_minor": 4
}
