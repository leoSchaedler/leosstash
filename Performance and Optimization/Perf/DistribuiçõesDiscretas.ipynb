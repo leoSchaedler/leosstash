{
 "cells": [
  {
   "cell_type": "markdown",
   "metadata": {},
   "source": [
    "# Distribuições discretas"
   ]
  },
  {
   "cell_type": "markdown",
   "metadata": {},
   "source": [
    "## Distribuição geométrica\n",
    "\n",
    "Seja um evento *A* de um experimento de Bernoulli:\n",
    "* $P[A] = p$\n",
    "* $P[A^{c}] = (1-p)$\n",
    "\n",
    "A variável aleatória $X$ conta a quantidade de vezes que o experimento é realizado até a ocorrência do evento $A$.<br>\n",
    "\n",
    "Equações:\n",
    "* $\\Omega _{X}: \\left \\{ 1, 2, 3, \\cdots  \\right \\}$\n",
    "* Função de probabilidade: $p_{X}(x)=(1-p))^{x-1}p$\n",
    "* Valor esperado: $E[X]=\\frac{1}{p}$\n",
    "* Variância: $V[X]=\\frac{(1-p)}{p^{2}}$\n",
    "\n",
    "scipy.stats.geom:\n",
    "* pmf: função de distribuição de probabilidade\n",
    "* cdf: função de distribuição acumulada\n",
    "* rvs: gerador de valores aleatórios\n",
    "* ppf: função inversa da cdf"
   ]
  },
  {
   "cell_type": "code",
   "execution_count": 1,
   "metadata": {},
   "outputs": [
    {
     "data": {
      "image/png": "[encoded data removed]",
      "text/plain": [
       "<Figure size 432x288 with 1 Axes>"
      ]
     },
     "metadata": {
      "needs_background": "light"
     },
     "output_type": "display_data"
    },
    {
     "data": {
      "image/png": "[encoded data removed]",
      "text/plain": [
       "<Figure size 432x288 with 1 Axes>"
      ]
     },
     "metadata": {
      "needs_background": "light"
     },
     "output_type": "display_data"
    }
   ],
   "source": [
    "from VA_Discreta import plotGeoPMF, plotGeoCDF, plotGeoRVS\n",
    "# Plotar a pmf\n",
    "plotGeoPMF(0.3)\n",
    "# plotar a cdf\n",
    "plotGeoCDF(0.3)"
   ]
  },
  {
   "cell_type": "markdown",
   "metadata": {},
   "source": [
    "#### Exemplo 1\n",
    "A probabilidade do teste de integração em novas releases de um produto de software dar certo é de 0,96 (significa que 96% dos testes de integração dão certo quando são realizados).<br>\n",
    "Calcular a probabilidade de o teste de integração passar:\n",
    "* Na primeira tentativa: $P[X=0]$\n",
    "* Na terceira tentativa: $P[X=3]$\n",
    "* Até a terceira tentativa (na primeira, segunda, ou terceira): $P[X\\leq  3]$\n",
    "* Após a terceira tentativa (na quarta, quinta, sexta, ...): $P[X> 3]$\n",
    "* Entre a segunda e a quarta tentativa (na segunda, terceira ou quarta): $ P[2 \\leq X \\leq  4] $"
   ]
  },
  {
   "cell_type": "code",
   "execution_count": null,
   "metadata": {},
   "outputs": [],
   "source": [
    "import numpy as np\n",
    "import scipy.stats as st\n",
    "# Na primeira tentativa\n",
    "print(f'{st.geom.pmf(1, 0.96):,.6f}')\n",
    "\n",
    "# Na terceira tentativa\n",
    "print(f'{st.geom.pmf(3, 0.96):,.6f}')\n",
    "\n",
    "# Até até a terceira tentativa\n",
    "print(f'{st.geom.cdf(3, 0.96):,.6f}')\n",
    "print(f'{np.sum(st.geom.pmf([1,2,3], 0.96)):,.6f}')\n",
    "\n",
    "# Após a terceira tentativa\n",
    "print(f'{1 - st.geom.cdf(3, 0.96):,.6f}')\n",
    "\n",
    "# Entre a segunda e a qurarta tentativa\n",
    "print(f'{np.sum(st.geom.pmf([2,3,4], 0.96)):,.6f}')\n",
    "print(f'{st.geom.cdf(4, 0.96)-st.geom.cdf(1, 0.96):,.6f}')"
   ]
  },
  {
   "cell_type": "markdown",
   "metadata": {},
   "source": [
    "#### Exemplo 2\n",
    "* Selecionar p\n",
    "* Gerar e imprimir 10 números aleatórios com distribuição geométrica com parâmetro p\n",
    "* Calcular a média de 50.000 números aleatórios com distribuição geométrica com parâmetro p\n",
    "* Calcular a variância de 50.000 números aleatórios com distribuição geométrica com parâmetro p\n",
    "* Plotar histograma dos números aleatórios simulados e PMF"
   ]
  },
  {
   "cell_type": "code",
   "execution_count": null,
   "metadata": {},
   "outputs": [],
   "source": [
    "p = 0.3\n",
    "# Gerar e imprimir 10 números aleatórios com distribuição geométrica com parâmetro p\n",
    "print(st.geom.rvs(p, size=10))\n",
    "\n",
    "# Calcular a média de 50.000 números aleatórios com distribuição geométrica com parâmetro p\n",
    "print(f'Média simulada: {np.mean(st.geom.rvs(p, size=50000)):,.6f}')\n",
    "print(f'Média teórica: {1/p:,.6f}')\n",
    "\n",
    "# Calcular a variância de 50.000 números aleatórios com distribuição geométrica com parâmetro p\n",
    "print(f'Variância simulada: {np.var(st.geom.rvs(p, size=50000)):,.6f}')\n",
    "print(f'Variância teórica: {(1-p)/(p**2):,.6f}')\n",
    "\n",
    "# Plotar histograma dos números aleatórios simulados e PMF\n",
    "plotGeoRVS(p)"
   ]
  },
  {
   "cell_type": "markdown",
   "metadata": {},
   "source": [
    "## Distribuição de Poisson\n",
    "Equações:\n",
    "* $\\Omega _{X}: \\left \\{ 0, 1, 2, 3, \\cdots  \\right \\}$\n",
    "* Função de probabilidade: $p_{X}(x)=e^{-L}\\frac{L^{x}}{x!}$\n",
    "* Valor esperado: $E[X]=L$\n",
    "* Variância: $V[X]=L$\n",
    "\n",
    "scipy.stats.poisson:\n",
    "* pmf: função de distribuição de probabilidade\n",
    "* cdf: função de distribuição acumulada\n",
    "* rvs: gerador de valores aleatórios\n",
    "* ppf: função inversa da cdf"
   ]
  },
  {
   "cell_type": "code",
   "execution_count": null,
   "metadata": {},
   "outputs": [],
   "source": [
    "from VA_Discreta import plotPoissPMF, plotPoissCDF, plotPoissRVS\n",
    "# Plotar a pmf\n",
    "plotPoissPMF(5)\n",
    "# plotar a cdf\n",
    "plotPoissCDF(5)"
   ]
  },
  {
   "cell_type": "markdown",
   "metadata": {},
   "source": [
    "#### Exemplo 3\n",
    "O número médio de chamados de defeitos que ocorrem em um service desk a cada dia é uma variável aleatória com distribuição de Poisson. Em média ocorrem 3 chamadas a cada dia.\n",
    "* Qual a probabilidade de que não ocorram chamados hoje? $P[X= 0] $\n",
    "* Qual a probabilidade de ocorrer um ou dois chamados em um dia? $P[X= 1]  + P[X= 2] $\n",
    "* Qual a probabilidade de ocorrer mais do que 3 chamados em um dia? $P[X> 3] $\n",
    "* Qual a probabilidade de ocorrer entre dois e seis chamados em um dia? $P[2 \\leq X \\leq  6] $"
   ]
  },
  {
   "cell_type": "code",
   "execution_count": null,
   "metadata": {},
   "outputs": [],
   "source": [
    "import numpy as np\n",
    "import scipy.stats as st\n",
    "# Não ocorrer chamados\n",
    "print(f'{st.poisson.pmf(0, 3):,.6f}')\n",
    "\n",
    "# Ocorrer um ou dois chamados\n",
    "print(f'{np.sum(st.poisson.pmf([1,2], 3)):,.6f}')\n",
    "\n",
    "# Mais do que 3 chamados\n",
    "print(f'{1 - st.poisson.cdf(3, 3):,.6f}')\n",
    "\n",
    "# Entre entre dois e seis chamados\n",
    "print(f'{np.sum(st.poisson.pmf([2,3,4,5,6], 3)):,.6f}')\n",
    "print(f'{st.poisson.cdf(6, 3)-st.poisson.cdf(1, 3):,.6f}')"
   ]
  },
  {
   "cell_type": "markdown",
   "metadata": {},
   "source": [
    "#### Exemplo 4\n",
    "* Selecionar Mu\n",
    "* Gerar e imprimir 10 números aleatórios com distribuição de poisson com média MU\n",
    "* Calcular a média de 50.000 números aleatórios com distribuição de poisson com média MU\n",
    "* Calcular a variância de 50.000 números aleatórios com distribuição de poisson com média MU\n",
    "* Plotar histograma dos números aleatórios simulados e PMF"
   ]
  },
  {
   "cell_type": "code",
   "execution_count": null,
   "metadata": {},
   "outputs": [],
   "source": [
    "MU = 3\n",
    "# Gerar e imprimir 10 números aleatórios com distribuição de poisson com média MU\n",
    "print(st.poisson.rvs(MU, size=10))\n",
    "\n",
    "# Calcular a média de 50.000 números aleatórios com distribuição de poisson com média MU\n",
    "print(f'Média simulada: {np.mean(st.poisson.rvs(MU, size=50000)):,.6f}')\n",
    "print(f'Média teórica: {MU:,.6f}')\n",
    "\n",
    "# Calcular a variância de 50.000 números aleatórios com distribuição de poisson com média MU\n",
    "print(f'Variância simulada: {np.var(st.poisson.rvs(MU, size=50000)):,.6f}')\n",
    "print(f'Variância teórica: {MU:,.6f}')\n",
    "\n",
    "# Plotar histograma dos números aleatórios simulados e PMF\n",
    "plotPoissRVS(MU)"
   ]
  },
  {
   "cell_type": "code",
   "execution_count": null,
   "metadata": {},
   "outputs": [],
   "source": []
  }
 ],
 "metadata": {
  "kernelspec": {
   "display_name": "Python 3",
   "language": "python",
   "name": "python3"
  },
  "language_info": {
   "codemirror_mode": {
    "name": "ipython",
    "version": 3
   },
   "file_extension": ".py",
   "mimetype": "text/x-python",
   "name": "python",
   "nbconvert_exporter": "python",
   "pygments_lexer": "ipython3",
   "version": "3.8.3"
  }
 },
 "nbformat": 4,
 "nbformat_minor": 2
}
