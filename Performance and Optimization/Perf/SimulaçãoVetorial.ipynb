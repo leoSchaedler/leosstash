{
 "cells": [
  {
   "cell_type": "markdown",
   "metadata": {},
   "source": [
    "## Simulação vetorial\n",
    "\n",
    "Consiste em utilizar operações com matrizes e vetores para o cálculo da simulação. <br>\n",
    "Armazena-se em vetores e/ou matrizes os dados da simulação. <br>\n",
    "O resultado é obtido realizando operações lógicas e matemáticas com os mesmos. <br>\n",
    "A simulação vetorial permite um ganho de desempenho considerável.\n",
    "\n",
    "Vamos usar as bibliotecas $numpy$ e $time$."
   ]
  },
  {
   "cell_type": "code",
   "execution_count": null,
   "metadata": {},
   "outputs": [],
   "source": [
    "import numpy as np\n",
    "import time"
   ]
  },
  {
   "cell_type": "markdown",
   "metadata": {},
   "source": [
    "### Simulação 1 - Dado\n",
    "#### Simulação Interativa\n",
    "A função Dado simula interativamente o lançamento de dois dados e o calculo da probabilidade de observarmos os valores 3 e 6."
   ]
  },
  {
   "cell_type": "code",
   "execution_count": null,
   "metadata": {},
   "outputs": [],
   "source": [
    "# Simulacao iterativa\n",
    "def Dado(n):\n",
    "    deuCerto = 0\n",
    "    for i in range(n):\n",
    "        d1 = np.random.randint(1, 7, 1)\n",
    "        d2 = np.random.randint(1, 7, 1)\n",
    "        if ((d1 == 3) & (d2 == 6)) | ((d1 == 6) & (d2 == 3)):\n",
    "            deuCerto = deuCerto + 1\n",
    "    return deuCerto/n"
   ]
  },
  {
   "cell_type": "markdown",
   "metadata": {},
   "source": [
    "Os comandos abaixos simulam 10000 lançamentos de dois dados.<br>\n",
    "Imprime a proporção de vezes que o par (3,6) foi observado (probabilidade simulada).<br>\n",
    "Imprime o valor previsto pela teoria (probabilidade teórica).<br>\n",
    "Imprime o tempo de simulação (em segundos)."
   ]
  },
  {
   "cell_type": "code",
   "execution_count": null,
   "metadata": {},
   "outputs": [],
   "source": [
    "t1 = time.perf_counter()\n",
    "probS = Dado(100000)\n",
    "t2 = time.perf_counter()\n",
    "print('Probabilidade simulada:  {:.4f}'.format(probS))\n",
    "print('Probabilidade teórica: {:.4f}'.format(2/36))\n",
    "print('Tempo de simulação: {:.4f}'.format(t2-t1))"
   ]
  },
  {
   "cell_type": "markdown",
   "metadata": {},
   "source": [
    "#### Simulação vetorial\n",
    "A função DadoV simula o experimento do dado com um algoritmo vetorial. <br>\n",
    "Sorteia cada dado n vezes em um array. <br>\n",
    "Registra no array deuCerto os lançamentos que obtiveram 3 e 6 ou 6 e 3. <br>\n",
    "Probabilidade simulada é a proporção entre a quatidade de vezes que deu certo em n experimentos."
   ]
  },
  {
   "cell_type": "code",
   "execution_count": null,
   "metadata": {},
   "outputs": [],
   "source": [
    "# Simulacao vetorial\n",
    "def DadoV(n):\n",
    "    # sorteia n vezes o primeiro dado\n",
    "    d1 = np.random.randint(1,7, n)\n",
    "    # sorteia n vezes o segundo dado\n",
    "    d2 = np.random.randint(1,7, n)\n",
    "    # calcula array booleano com valores verdadeiros nos lançamentos que apresentaram o vento desejado;\n",
    "    # (primeiro dado 3 e segundo 6) ou (primeiro dado 6 e segundo dado 3)\n",
    "    deuCerto = ((d1 == 3) & (d2 == 6)) | ((d1 == 6) & (d2 == 3))\n",
    "    # print(deuCerto)\n",
    "    return deuCerto.sum() / n"
   ]
  },
  {
   "cell_type": "code",
   "execution_count": null,
   "metadata": {},
   "outputs": [],
   "source": [
    "import time\n",
    "t1 = time.perf_counter()\n",
    "probS = DadoV(100000)\n",
    "t2 = time.perf_counter()\n",
    "print('Probabilidade simulada:  {:.4f}'.format(probS))\n",
    "print('Probabilidade teórica: {:.4f}'.format(2/36))\n",
    "print('Tempo de simulação: {:.4f}'.format(t2-t1))"
   ]
  },
  {
   "cell_type": "markdown",
   "metadata": {},
   "source": [
    "### Simulação 2 - Moeda\n",
    "#### Simulação interativa\n",
    "Lançar uma moeda até sair a primeira cara. <br>\n",
    "Calcular a probabilidade do número de lançamentos necessários ser par."
   ]
  },
  {
   "cell_type": "code",
   "execution_count": null,
   "metadata": {},
   "outputs": [],
   "source": [
    "# Simulacao interativa\n",
    "def Moeda(n):\n",
    "    deuCerto = 0\n",
    "    for i in range(n):\n",
    "        k = 0\n",
    "        moeda = 0\n",
    "        while (moeda != 1):\n",
    "            k = k+1\n",
    "            moeda = np.random.randint(0, 2, 1)\n",
    "        if (k % 2 == 0):\n",
    "            deuCerto = deuCerto + 1\n",
    "    return deuCerto/n"
   ]
  },
  {
   "cell_type": "markdown",
   "metadata": {},
   "source": [
    "Os comandos abaixos simulam 10000 o lançamento de uma moeda até sair a primeira cara.<br>\n",
    "Imprime a proporção de vezes que foram necessários um número par de lançamentos (probabilidade simulada).<br>\n",
    "Imprime o valor previsto pela teoria (probabilidade teórica).<br>\n",
    "Imprime o tempo de simulação (em segundos)."
   ]
  },
  {
   "cell_type": "code",
   "execution_count": null,
   "metadata": {},
   "outputs": [],
   "source": [
    "import time\n",
    "t1 = time.perf_counter()\n",
    "probS = Moeda(10000)\n",
    "t2 = time.perf_counter()\n",
    "print('Probabilidade simulada:  {:.4f}'.format(probS))\n",
    "print('Probabilidade teórica: {:.4f}'.format(1/3))\n",
    "print('Tempo de simulação: {:.4f}'.format(t2-t1))"
   ]
  },
  {
   "cell_type": "markdown",
   "metadata": {},
   "source": [
    "#### Simulação vetorial\n",
    "Programar a função Moeda para simular o experimento da moeda com um algoritmo vetorial. <br><br>\n",
    "<b>Passo 1:</b> Sortear um array bi-dimensional com $n$ linhas ($n$ é a quantidade de simulações) e $m$ colunas, de modo que cada linha contenha uma sequência de ($m$) lançamentos da moeda. <br>\n",
    "Dica: <br>\n",
    "Em cada experimento precisamos lançar a moeda até sair a primeira cara. como não sabemos quantas vezes serã necessárias, vamos lançar uma quantidade de vezes onde a probabilidade de não sair nehuma cara seja muito baixa (0.999). Para isso vamos usar a função inversa da cdf (geom.ppf) e salvar o valor na variável m.<br>\n",
    "Como serão realizadas $n$ simulações, vamos realizar $n$ sorteios de cada experimento com $m$ lançamentos de moeda e colocar o resultado em um array bidimensional ($n$ linhas e $m$ colunas). Utilizar o comando np.random.randint para sortear 0s e 1s, sendo que 0 significa coroa e 1 significa cara. <br><br>\n",
    "<b>Passo 2:</b> Encontrar em cada sequência de lançamentos a primeira ocorrência de $cara$ (o primeiro valor igual a 1). <br>\n",
    "Dica: <br>\n",
    "A função np.argmax retorna o índice do primeiro valor máximo ao longo de uma dimensão. Podemos usá-la para encontrar o indice do primeiro valor 1 em cada linha (primeira cara de cada sequência). Precisa somar 1 nesse índice porque em numpy os indices iniciam em zero. <br><br>\n",
    "<b>Passo 3:</b> Contar quantas vezes a primeira cara saiu em um lançamento de número de ordem par e dividir pela quantidade de simulações. <br>\n",
    "Dica: <br>\n",
    "Para testar se x é par, o resto da divisão por 2 tem que ser zero. Usar $x\\% 2$ para calcular o resto da divisão e np.sum para contar a quantidade de pares.<br><br>"
   ]
  },
  {
   "cell_type": "code",
   "execution_count": null,
   "metadata": {},
   "outputs": [],
   "source": [
    "import scipy.stats as st\n",
    "\n",
    "def MoedaV(n):\n",
    "    # Passo 1\n",
    "    # Calcular o valo de m\n",
    "    m = int(st.geom.ppf(0.9999, 0.5))\n",
    "    # sortear n simulacoes do lancamento de uma moeda m vezes\n",
    "    # 0 - coroa      1 - cara\n",
    "    # substituir o comando abaixo pelo comando correto\n",
    "    sorteio = np.zeros((n,m))\n",
    "    \n",
    "    # Passo 2\n",
    "    # Usar np.argmax para encontrar um vetor com as posições da primeira cara sorteada em cada linha\n",
    "    x = np.argmax(sorteio, 1)+1\n",
    "    \n",
    "    # Passo 3 Passo 3\n",
    "    # Contar quantas vezes a primeira cara saiu em um lançamento de número de ordem par e dividir pela quantidade de simulações.\n",
    "    return np.sum(x % 2 == 0)/n"
   ]
  },
  {
   "cell_type": "markdown",
   "metadata": {},
   "source": [
    "Os comandos abaixos simulam 10000 o lançamento de uma moeda até sair a primeira cara.<br>\n",
    "Imprime a proporção de vezes que foram necessários um número par de lançamentos (probabilidade simulada).<br>\n",
    "Imprime o valor previsto pela teoria (probabilidade teórica).<br>\n",
    "Imprime o tempo de simulação (em segundos)."
   ]
  },
  {
   "cell_type": "code",
   "execution_count": null,
   "metadata": {},
   "outputs": [],
   "source": [
    "t1 = time.perf_counter()\n",
    "probS = MoedaV(10000)\n",
    "t2 = time.perf_counter()\n",
    "print('Probabilidade simulada:  {:.4f}'.format(probS))\n",
    "print('Probabilidade teórica: {:.4f}'.format(1/3))\n",
    "print('Tempo de simulação: {:.4f}'.format(t2-t1))"
   ]
  },
  {
   "cell_type": "markdown",
   "metadata": {},
   "source": [
    "\\-----------------------------------------------------<br>\n",
    "Observe os tempos de simulação interativa e vetorial."
   ]
  },
  {
   "cell_type": "markdown",
   "metadata": {},
   "source": [
    "## Problema do aniversário\n",
    "Deseja-se calcular a probabilidade de em um grupo com n pessoas, duas ou mais fazerem aniversário no mesmo dia e no mesmo mês, mas não necessariamente no mesmo ano."
   ]
  },
  {
   "cell_type": "markdown",
   "metadata": {},
   "source": [
    "### Cálculo teórico\n",
    "A probabilidade pode ser calculada pela seguinte expressão:\n",
    "\n",
    "$$ 1 -  \\frac{365\\cdot 364\\cdot \\cdots (365-n+1)}{365^{n}} $$\n",
    "\n",
    "A função aniverT calcula essa probabilidade."
   ]
  },
  {
   "cell_type": "code",
   "execution_count": null,
   "metadata": {},
   "outputs": [],
   "source": [
    "def aniverT(tGrupo):\n",
    "    x = np.arange(365, 365 - tGrupo, -1, dtype = float)\n",
    "    # print(x)\n",
    "    return(1 - np.prod(x)/(365**tGrupo))"
   ]
  },
  {
   "cell_type": "markdown",
   "metadata": {},
   "source": [
    "### Simulação iterativa\n",
    "A probabilidade pode ser calculada pelo seguinte algoritmo iterativo:<br>\n",
    "n = quantidade de pessoas no grupo<br>\n",
    "nSim = quantidade de simulações<br>\n",
    "deuCerto = 0<br>\n",
    "Realizar os seguintes passos nSim vezes<br>\n",
    "&emsp;Sortear n datas de aniversários (sortear n números inteiros aleatórios uniformemente distribuídos entre 1 e 365)<br>\n",
    "&emsp;Verificar se houve duas datas iguais<br>\n",
    "&emsp;Caso posititivo, somar 1 a deuCerto<br>\n",
    "Probabilidade simulada = deuCerto / nSim"
   ]
  },
  {
   "cell_type": "code",
   "execution_count": null,
   "metadata": {},
   "outputs": [],
   "source": [
    "def aniverS(tGrupo, nSim):\n",
    "    deuCerto = 0\n",
    "    for i in range(nSim):\n",
    "        # sorteia grupo com tGrupo pessoas\n",
    "        grupo = np.random.randint(1, 366, tGrupo)\n",
    "        # se duas ou mais pessoa fazem aniver na mesma data\n",
    "        if grupo.size > np.unique(grupo).size:\n",
    "            deuCerto = deuCerto + 1\n",
    "\n",
    "    return(deuCerto/nSim)"
   ]
  },
  {
   "cell_type": "markdown",
   "metadata": {},
   "source": [
    "Os comandos abaixos simulam 10000 grupos de 40 pessoas.<br>\n",
    "Imprime a proporção de vezes que duas ou mais pessoas do grupo fizeram aniversário no mesmo dia.<br>\n",
    "Imprime o valor previsto pela teoria (probabilidade teórica).<br>\n",
    "Imprime o tempo de simulação (em segundos)."
   ]
  },
  {
   "cell_type": "code",
   "execution_count": null,
   "metadata": {},
   "outputs": [],
   "source": [
    "probT = aniverT(40) \n",
    "t1 = time.perf_counter()\n",
    "probS = aniverS(40, 50000)\n",
    "t2 = time.perf_counter()\n",
    "print('Probabilidade simulada:  {:.4f}'.format(probS))\n",
    "print('Probabilidade teórica: {:.4f}'.format(probT))\n",
    "print('Tempo de simulação iterativa: {:.4f}'.format(t2-t1))"
   ]
  },
  {
   "cell_type": "markdown",
   "metadata": {},
   "source": [
    "### Simulação vetorial\n",
    "A probabilidade pode ser calculada pelo seguinte algoritmo vetorial:<br><br>\n",
    "Sortear uma matriz $grupos$ com $nSim$ linhas e $tGrupo$ colunas.<br>\n",
    "* Observação: Cada linha corresponde a uma simulação e contém as datas de aniversário de um grupo. <br>\n",
    "* Dica: sortear números inteiros uniformemente distribuídos entre 1 e 365.<br><br>\n",
    "\n",
    "Calcular a matriz $ordenada$ a partir da matriz $grupos$ onde as datas de aniversário de cada linha (de cada grupo estão ordenadas).<br><br>\n",
    "Calcular a matriz $diferenca$ a partir da matriz $ordenada$ onde cada linha contenha as diferenças entre duas datas adjacentes. <br>\n",
    "* Observação: Se alguma diferença de datas na linha (ou seja, no grupo) for zero significa que houve aniversário no mesmo dia.<br>\n",
    "* Dica: usar função np.diff.<br><br>\n",
    "\n",
    "Calcular o array mesmaData que contem $True$ ou $False$ para cada linha da matriz. Será $True$, se algum valor na linha for 0, $False$ caso contrário.<br>\n",
    "* Dica: usar o comando np.any(diferenca == 0, 1)<br>\n",
    "* Observação: O operador lógico \\\"==\\\" aplica a operação lógica igual a cada elemento retornando True ou False. O comando np.any retorna True se houver algum True na linha correspondete (grupo com pelo menos uas datas de aniversário iguais)<br><br>\n",
    "\n",
    "Retornar a quantidade de elementos no vetor com valor True dividido por $nSim$.<br>\n",
    "* Dica: usar a função np.count_nonzero para contar a quantidade de elementos com valor True."
   ]
  },
  {
   "cell_type": "code",
   "execution_count": null,
   "metadata": {},
   "outputs": [],
   "source": [
    "def aniverV(tGrupo, nSim):\n",
    "    # sortear nSim grupos de tamanho tGrupo\n",
    "    grupos = np.random.randint(1, 366, nSim, tGrupo)\n",
    "    # ordena\n",
    "    ordenada = np.sort(grupos, 1)\n",
    "    # calcula a diferenca entre as datas adjacentes\n",
    "    diferenca = \n",
    "    # se diferenca for zero tem aniver na mesma data\n",
    "    # mesmaData eh um array unidimensional com valor verdadeiro  \n",
    "    # para cada grupo que tiver dois ou mais aniversarios no mesmo dia\n",
    "    mesmaData = \n",
    "    # conta quantos grupos tiveram aniversario no mesmo dia, divide por nsim e retorna\n",
    "    return"
   ]
  },
  {
   "cell_type": "markdown",
   "metadata": {},
   "source": [
    "Os comandos abaixos simulam 10000 grupos de 40 pessoas.<br>\n",
    "Imprime a proporção de vezes que duas ou mais pessoas do grupo fizeram aniversário no mesmo dia.<br>\n",
    "Imprime o valor previsto pela teoria (probabilidade teórica).<br>\n",
    "Imprime o tempo de simulação (em segundos)."
   ]
  },
  {
   "cell_type": "code",
   "execution_count": null,
   "metadata": {},
   "outputs": [],
   "source": [
    "probT = aniverT(40) \n",
    "t1 = time.perf_counter()\n",
    "probS = aniverV(40, 10000)\n",
    "t2 = time.perf_counter()\n",
    "print('Probabilidade simulada:  {:.4f}'.format(probS))\n",
    "print('Probabilidade teórica: {:.4f}'.format(probT))\n",
    "print('Tempo de simulação vetorial: {:.4f}'.format(t2-t1))"
   ]
  },
  {
   "cell_type": "markdown",
   "metadata": {},
   "source": [
    "## Entrega\n",
    "Salvar como pdf (grupo_SimulaçãoVetorial.pdf).\n",
    "submeter no AVA."
   ]
  }
 ],
 "metadata": {
  "kernelspec": {
   "display_name": "Python 3",
   "language": "python",
   "name": "python3"
  },
  "language_info": {
   "codemirror_mode": {
    "name": "ipython",
    "version": 3
   },
   "file_extension": ".py",
   "mimetype": "text/x-python",
   "name": "python",
   "nbconvert_exporter": "python",
   "pygments_lexer": "ipython3",
   "version": "3.8.3"
  }
 },
 "nbformat": 4,
 "nbformat_minor": 4
}
