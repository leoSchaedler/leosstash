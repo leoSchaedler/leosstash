{
 "cells": [
  {
   "cell_type": "markdown",
   "metadata": {},
   "source": [
    "# Notebook dos Encontros de Modelagem de Fenômenos Físicos para o Trabalho Discente Efetivo"
   ]
  },
  {
   "cell_type": "markdown",
   "metadata": {},
   "source": [
    "Estudante: Leonardo Ribeiro Schaedler"
   ]
  },
  {
   "cell_type": "markdown",
   "metadata": {},
   "source": [
    "# Primeira Aula - 20/02/2019"
   ]
  },
  {
   "cell_type": "markdown",
   "metadata": {},
   "source": [
    "- Em nossa primeira aula, tivemos a introdução da matéria e primeiro contato com o professor."
   ]
  },
  {
   "cell_type": "markdown",
   "metadata": {},
   "source": [
    "Também ocorreu:\n",
    "\n",
    "1. Apresentação da matéria, e apanhado geral do que ela trata.\n",
    "1. Apresentação do professor e sua área de conhecimento.\n",
    "1. Apresentação dos alunos, e breve fala do porquê de ter escolhido o curso de Ciência da Computação."
   ]
  },
  {
   "cell_type": "markdown",
   "metadata": {},
   "source": [
    "# Segunda Aula - 21/02/2019"
   ]
  },
  {
   "cell_type": "markdown",
   "metadata": {},
   "source": [
    "Tivemos uma breve ambientação com o software Anaconda, e algumas opções de ambientes de programação em Python, cabe listar:\n",
    "    \n",
    "- Spyder\n",
    "- VSCode\n",
    "- Jupyter\n",
    "- JupyterLab\n"
   ]
  },
  {
   "cell_type": "markdown",
   "metadata": {},
   "source": [
    "Também tivemos uma ambientação um pouco mas aprofundada na ferramenta *Jupyterlab* , e um pouco de história da ciência da computação sobre a ferramenta TeX."
   ]
  },
  {
   "cell_type": "markdown",
   "metadata": {},
   "source": [
    "Aprendemos a utilizar formatos de tipografia dentro desse software, como:\n",
    "    \n",
    "- Formato **MARKDOWN** : Para texto em caracteres linguísticos.\n",
    "- Formato **LaTeX** : Para caracteres matemáticos,  primeiramente inventado por Donald Knuth, com o nome de TeX, pronunciado \"técki\" ou \"téri\", pois vem do grego, TeX são caracteres gregos. Autor do livro \"The Art of Computer Programming\" . Leslie Lamport adicionou uma camada facilitadora no TeX, e batizou de \"LaTeX\", a parte \"La\" veio de seu sobrenome.\n",
    "- Formato **MathJax** : Adaptação do LaTeX para uso em browser. Projeto liderado pela AMS (American Mathematical Society), e apoiado por inúmeros grupos científicos. Equivalente ao KaTeX, porém mais robusto.\n",
    "    "
   ]
  },
  {
   "cell_type": "markdown",
   "metadata": {},
   "source": [
    "## Como utilizar textos de nível 1 e 2."
   ]
  },
  {
   "cell_type": "markdown",
   "metadata": {},
   "source": [
    "Texto nível 1: Usar sustenido para usar texto de nível 1, sair do modo edição e apertar \"m\", para ue jupyter reconheça e executar com shift+enter."
   ]
  },
  {
   "cell_type": "markdown",
   "metadata": {},
   "source": [
    "Texto nível 2: Usar dois sustenidos para um texto de nível 2, para executar, mesmo processo do texto de nível 1."
   ]
  },
  {
   "cell_type": "markdown",
   "metadata": {},
   "source": [
    "## Formatação *Markdown*"
   ]
  },
  {
   "cell_type": "markdown",
   "metadata": {},
   "source": [
    "Algumas formatações básicas em estilo de texto **Markdown**, ***para uso nos textos das aulas...***"
   ]
  },
  {
   "cell_type": "markdown",
   "metadata": {},
   "source": [
    "## Lista de Disciplinas"
   ]
  },
  {
   "cell_type": "markdown",
   "metadata": {},
   "source": [
    "Abaixo está listado nossas disciplinas:\n",
    "    \n",
    "1. Modelagem de fenômenos Físicos\n",
    "  - Quarta-Feira\n",
    "    * XXX\n",
    "    * YYY\n",
    "  - Quinta-Feira\n",
    "1. Raciocínio Algorítmico\n",
    "1. Filosofia"
   ]
  },
  {
   "cell_type": "markdown",
   "metadata": {},
   "source": [
    "## Formatação *Mathjax*"
   ]
  },
  {
   "cell_type": "markdown",
   "metadata": {},
   "source": [
    "A seguir exemplos de fómulas, como $a = b+c$ ."
   ]
  },
  {
   "cell_type": "markdown",
   "metadata": {},
   "source": [
    "A seguir o Teorema de Pitágoras: $a^2 = b^2+c^2$ ."
   ]
  },
  {
   "cell_type": "markdown",
   "metadata": {},
   "source": [
    "Outro formato: $$z-y^{(x+1)}$$"
   ]
  },
  {
   "cell_type": "markdown",
   "metadata": {},
   "source": [
    "Também iremos representar a fórmula da ***equação quadrática*** : $$x = \\frac{-b^2 \\pm \\sqrt {b^2-4ac}}{2a}$$"
   ]
  },
  {
   "cell_type": "markdown",
   "metadata": {},
   "source": [
    "# Terceira Aula - 27/02/2019"
   ]
  },
  {
   "cell_type": "markdown",
   "metadata": {},
   "source": [
    "Apredemos a mexer em algumas configurações do ambiente Jupyterlab, como por exemplo, tamanho de fonteem um notebook python 3."
   ]
  },
  {
   "cell_type": "markdown",
   "metadata": {},
   "source": [
    "## Algumas operadores aritiméticos no Python:"
   ]
  },
  {
   "cell_type": "code",
   "execution_count": 2,
   "metadata": {},
   "outputs": [
    {
     "data": {
      "text/plain": [
       "12"
      ]
     },
     "execution_count": 2,
     "metadata": {},
     "output_type": "execute_result"
    }
   ],
   "source": [
    "2+10"
   ]
  },
  {
   "cell_type": "code",
   "execution_count": 3,
   "metadata": {},
   "outputs": [
    {
     "data": {
      "text/plain": [
       "100"
      ]
     },
     "execution_count": 3,
     "metadata": {},
     "output_type": "execute_result"
    }
   ],
   "source": [
    "2 * 50"
   ]
  },
  {
   "cell_type": "code",
   "execution_count": 10,
   "metadata": {},
   "outputs": [
    {
     "data": {
      "text/plain": [
       "32"
      ]
     },
     "execution_count": 10,
     "metadata": {},
     "output_type": "execute_result"
    }
   ],
   "source": [
    "2 ** 5"
   ]
  },
  {
   "cell_type": "markdown",
   "metadata": {},
   "source": [
    "## Operadores Boolianos (Verdadeiro ou Falso), remete a George Boole, matemático britânico."
   ]
  },
  {
   "cell_type": "code",
   "execution_count": 14,
   "metadata": {},
   "outputs": [
    {
     "data": {
      "text/plain": [
       "False"
      ]
     },
     "execution_count": 14,
     "metadata": {},
     "output_type": "execute_result"
    }
   ],
   "source": [
    "2 > 3"
   ]
  },
  {
   "cell_type": "code",
   "execution_count": 16,
   "metadata": {},
   "outputs": [
    {
     "data": {
      "text/plain": [
       "False"
      ]
     },
     "execution_count": 16,
     "metadata": {},
     "output_type": "execute_result"
    }
   ],
   "source": [
    "2 == 3"
   ]
  },
  {
   "cell_type": "code",
   "execution_count": 17,
   "metadata": {},
   "outputs": [
    {
     "data": {
      "text/plain": [
       "True"
      ]
     },
     "execution_count": 17,
     "metadata": {},
     "output_type": "execute_result"
    }
   ],
   "source": [
    "2 != 3"
   ]
  },
  {
   "cell_type": "markdown",
   "metadata": {},
   "source": [
    "## Criação de Variáveis"
   ]
  },
  {
   "cell_type": "code",
   "execution_count": 27,
   "metadata": {},
   "outputs": [],
   "source": [
    "peso_do_Rafael = 70\n",
    "pesoDoLucas = 45\n",
    "a = 50\n",
    "preço_do_Feijão = 7.5"
   ]
  },
  {
   "cell_type": "code",
   "execution_count": 26,
   "metadata": {},
   "outputs": [
    {
     "data": {
      "text/plain": [
       "4750"
      ]
     },
     "execution_count": 26,
     "metadata": {},
     "output_type": "execute_result"
    }
   ],
   "source": [
    "(50 + pesoDoLucas) * a"
   ]
  },
  {
   "cell_type": "markdown",
   "metadata": {},
   "source": [
    "## Estilos de Códigos"
   ]
  },
  {
   "cell_type": "markdown",
   "metadata": {},
   "source": [
    "Camel Code: nome para as variáveis com maiúsculo.\n",
    "- preçoDoFeijão\n",
    "- pesoDoLucas\n",
    "- tipoDeDado"
   ]
  },
  {
   "cell_type": "markdown",
   "metadata": {},
   "source": [
    "Snake Code: nome para variáveis com underscore (____)\n",
    "- preço_do_feijão\n",
    "- peso_do_lucas\n",
    "- tipo_de_dado"
   ]
  },
  {
   "cell_type": "markdown",
   "metadata": {},
   "source": [
    "- Abaixo temos a designação de uma variável como uma string (str)."
   ]
  },
  {
   "cell_type": "code",
   "execution_count": 32,
   "metadata": {},
   "outputs": [],
   "source": [
    "nomeDoLucas = \"Lucas Dantas\""
   ]
  },
  {
   "cell_type": "code",
   "execution_count": 33,
   "metadata": {},
   "outputs": [
    {
     "data": {
      "text/plain": [
       "'Lucas Dantas'"
      ]
     },
     "execution_count": 33,
     "metadata": {},
     "output_type": "execute_result"
    }
   ],
   "source": [
    "nomeDoLucas"
   ]
  },
  {
   "cell_type": "markdown",
   "metadata": {},
   "source": [
    "- Podemos utilizar operadores aritiméticos entre dois elementos inteiros (int)."
   ]
  },
  {
   "cell_type": "code",
   "execution_count": 34,
   "metadata": {},
   "outputs": [
    {
     "data": {
      "text/plain": [
       "85"
      ]
     },
     "execution_count": 34,
     "metadata": {},
     "output_type": "execute_result"
    }
   ],
   "source": [
    "50 + 35"
   ]
  },
  {
   "cell_type": "markdown",
   "metadata": {},
   "source": [
    "- Podemos utilizar operadores aritiméticos entre um elemento int e um decimal (float)."
   ]
  },
  {
   "cell_type": "code",
   "execution_count": 39,
   "metadata": {},
   "outputs": [
    {
     "data": {
      "text/plain": [
       "85.67"
      ]
     },
     "execution_count": 39,
     "metadata": {},
     "output_type": "execute_result"
    }
   ],
   "source": [
    "50 + 35.67"
   ]
  },
  {
   "cell_type": "markdown",
   "metadata": {},
   "source": [
    "- Podemos utilizar operadores aritiméticos entre elementos str."
   ]
  },
  {
   "cell_type": "code",
   "execution_count": 36,
   "metadata": {},
   "outputs": [
    {
     "data": {
      "text/plain": [
       "'LucasDantas'"
      ]
     },
     "execution_count": 36,
     "metadata": {},
     "output_type": "execute_result"
    }
   ],
   "source": [
    "\"Lucas\" + \"\" + \"Dantas\""
   ]
  },
  {
   "cell_type": "markdown",
   "metadata": {},
   "source": [
    "- \"+\" tem função binária, e classificado como polimorfos, comportamento do operador muda conforme elementos utilizados. Adiciona elementos de mesma classe, como caractere com caractere, string com string etc."
   ]
  },
  {
   "cell_type": "markdown",
   "metadata": {},
   "source": [
    "- Abaixo, exemplo do operador \"+\" entre int e str, no qual resulta em erro."
   ]
  },
  {
   "cell_type": "code",
   "execution_count": 45,
   "metadata": {},
   "outputs": [
    {
     "ename": "TypeError",
     "evalue": "unsupported operand type(s) for +: 'int' and 'str'",
     "output_type": "error",
     "traceback": [
      "\u001b[1;31m---------------------------------------------------------------------------\u001b[0m",
      "\u001b[1;31mTypeError\u001b[0m                                 Traceback (most recent call last)",
      "\u001b[1;32m<ipython-input-45-908713710fff>\u001b[0m in \u001b[0;36m<module>\u001b[1;34m\u001b[0m\n\u001b[1;32m----> 1\u001b[1;33m \u001b[1;36m5\u001b[0m \u001b[1;33m+\u001b[0m \u001b[1;34m\"xxx\"\u001b[0m\u001b[1;33m\u001b[0m\u001b[1;33m\u001b[0m\u001b[0m\n\u001b[0m",
      "\u001b[1;31mTypeError\u001b[0m: unsupported operand type(s) for +: 'int' and 'str'"
     ]
    }
   ],
   "source": [
    "5 + \"xxx\""
   ]
  },
  {
   "cell_type": "markdown",
   "metadata": {},
   "source": [
    "- Agora um exemplo do operador '+' entre duas str. No qual gera um resultado válido."
   ]
  },
  {
   "cell_type": "code",
   "execution_count": 40,
   "metadata": {},
   "outputs": [
    {
     "data": {
      "text/plain": [
       "'5xxx'"
      ]
     },
     "execution_count": 40,
     "metadata": {},
     "output_type": "execute_result"
    }
   ],
   "source": [
    "\"5\" + \"xxx\""
   ]
  },
  {
   "cell_type": "markdown",
   "metadata": {},
   "source": [
    "- A seguir um exemplo de função, no caso a \"type\", que mostra o tipo de elemento."
   ]
  },
  {
   "cell_type": "code",
   "execution_count": 41,
   "metadata": {},
   "outputs": [
    {
     "data": {
      "text/plain": [
       "int"
      ]
     },
     "execution_count": 41,
     "metadata": {},
     "output_type": "execute_result"
    }
   ],
   "source": [
    "type (5)"
   ]
  },
  {
   "cell_type": "code",
   "execution_count": 47,
   "metadata": {},
   "outputs": [
    {
     "data": {
      "text/plain": [
       "float"
      ]
     },
     "execution_count": 47,
     "metadata": {},
     "output_type": "execute_result"
    }
   ],
   "source": [
    "type (5.56)"
   ]
  },
  {
   "cell_type": "code",
   "execution_count": 52,
   "metadata": {},
   "outputs": [
    {
     "data": {
      "text/plain": [
       "bool"
      ]
     },
     "execution_count": 52,
     "metadata": {},
     "output_type": "execute_result"
    }
   ],
   "source": [
    "type(True)"
   ]
  },
  {
   "cell_type": "code",
   "execution_count": 53,
   "metadata": {},
   "outputs": [
    {
     "data": {
      "text/plain": [
       "bool"
      ]
     },
     "execution_count": 53,
     "metadata": {},
     "output_type": "execute_result"
    }
   ],
   "source": [
    "type (2==5)"
   ]
  },
  {
   "cell_type": "markdown",
   "metadata": {},
   "source": [
    "- É possível também usar operadores boolianos entre duas funções do tipo \"type\"."
   ]
  },
  {
   "cell_type": "code",
   "execution_count": 50,
   "metadata": {},
   "outputs": [
    {
     "data": {
      "text/plain": [
       "True"
      ]
     },
     "execution_count": 50,
     "metadata": {},
     "output_type": "execute_result"
    }
   ],
   "source": [
    "type (nomeDoLucas) == type ('WoW')"
   ]
  },
  {
   "cell_type": "markdown",
   "metadata": {},
   "source": [
    "### Nessa aula aprendemos denominação de variáveis, operadores aritiméticos e operadores boolianos, assim como funções do tipo \"type\" no Python. orlando.soares@pucpr.br"
   ]
  },
  {
   "cell_type": "markdown",
   "metadata": {},
   "source": [
    "# Quarta Aula - 28/02/2019"
   ]
  },
  {
   "cell_type": "markdown",
   "metadata": {},
   "source": [
    "## Estudo das funções"
   ]
  },
  {
   "cell_type": "code",
   "execution_count": 1,
   "metadata": {},
   "outputs": [],
   "source": [
    "import math"
   ]
  },
  {
   "cell_type": "code",
   "execution_count": null,
   "metadata": {},
   "outputs": [],
   "source": [
    "'dobro de'\n",
    "$f(x) = 2x$"
   ]
  },
  {
   "cell_type": "markdown",
   "metadata": {},
   "source": [
    "- O x dentro dessa função representa um parâmetro. A $f(x)=$ é uma função unária, pois tem somente um parâmetro."
   ]
  },
  {
   "cell_type": "code",
   "execution_count": null,
   "metadata": {},
   "outputs": [],
   "source": [
    "soma (a+b) = a + b"
   ]
  },
  {
   "cell_type": "markdown",
   "metadata": {},
   "source": [
    "- Já nesse caso, \"soma (a+b)\" representa uma função binária, pois existem dois parâmetros."
   ]
  },
  {
   "cell_type": "code",
   "execution_count": null,
   "metadata": {},
   "outputs": [],
   "source": [
    "areaTriang(base,alt) = (base*alt/2)"
   ]
  },
  {
   "cell_type": "markdown",
   "metadata": {},
   "source": [
    "- Acima, está demonstrado como escrever uma função (no caso Área do triangulo) matematicamente, porém não em modelo Python, é importante notar que toda função possui um ou mais parâmetros que iram receber valores."
   ]
  },
  {
   "cell_type": "markdown",
   "metadata": {},
   "source": [
    "- Função matmática do sucessor."
   ]
  },
  {
   "cell_type": "code",
   "execution_count": null,
   "metadata": {},
   "outputs": [],
   "source": [
    "suc(n) + n + 1"
   ]
  },
  {
   "cell_type": "markdown",
   "metadata": {},
   "source": [
    "## Como definir uma função em Python."
   ]
  },
  {
   "cell_type": "markdown",
   "metadata": {},
   "source": [
    "- \"def\" = Define"
   ]
  },
  {
   "cell_type": "code",
   "execution_count": 37,
   "metadata": {},
   "outputs": [],
   "source": [
    "def suc(n) : \n",
    "    return n + 1\n",
    "def double(n) :\n",
    "    return 2 * n\n",
    "def soma(a, b) :\n",
    "    return(a+b)"
   ]
  },
  {
   "cell_type": "code",
   "execution_count": null,
   "metadata": {},
   "outputs": [],
   "source": [
    "- Usar indentação para definir a lógica da função. "
   ]
  },
  {
   "cell_type": "code",
   "execution_count": 16,
   "metadata": {},
   "outputs": [
    {
     "data": {
      "text/plain": [
       "7"
      ]
     },
     "execution_count": 16,
     "metadata": {},
     "output_type": "execute_result"
    }
   ],
   "source": [
    "suc(6)"
   ]
  },
  {
   "cell_type": "code",
   "execution_count": 22,
   "metadata": {},
   "outputs": [
    {
     "data": {
      "text/plain": [
       "-69"
      ]
     },
     "execution_count": 22,
     "metadata": {},
     "output_type": "execute_result"
    }
   ],
   "source": [
    "suc(-70)"
   ]
  },
  {
   "cell_type": "code",
   "execution_count": 24,
   "metadata": {},
   "outputs": [
    {
     "data": {
      "text/plain": [
       "4"
      ]
     },
     "execution_count": 24,
     "metadata": {},
     "output_type": "execute_result"
    }
   ],
   "source": [
    "double(2)"
   ]
  },
  {
   "cell_type": "code",
   "execution_count": 29,
   "metadata": {},
   "outputs": [
    {
     "data": {
      "text/plain": [
       "(10, 6)"
      ]
     },
     "execution_count": 29,
     "metadata": {},
     "output_type": "execute_result"
    }
   ],
   "source": [
    "double(5),suc(5)"
   ]
  },
  {
   "cell_type": "code",
   "execution_count": 28,
   "metadata": {},
   "outputs": [
    {
     "data": {
      "text/plain": [
       "10.0"
      ]
     },
     "execution_count": 28,
     "metadata": {},
     "output_type": "execute_result"
    }
   ],
   "source": [
    "double(math.sqrt(25))"
   ]
  },
  {
   "cell_type": "markdown",
   "metadata": {},
   "source": [
    "- Abaixo temos uma composição de função. É de extrema importância, pois para fazer funções complexas mais facilmente, é recomendado fazer funções elementares, para aí sim compor as funções mais complexas, a partir delas."
   ]
  },
  {
   "cell_type": "code",
   "execution_count": 34,
   "metadata": {},
   "outputs": [
    {
     "data": {
      "text/plain": [
       "45"
      ]
     },
     "execution_count": 34,
     "metadata": {},
     "output_type": "execute_result"
    }
   ],
   "source": [
    "suc(double(22))"
   ]
  },
  {
   "cell_type": "markdown",
   "metadata": {},
   "source": [
    "- Função Soma:"
   ]
  },
  {
   "cell_type": "code",
   "execution_count": 38,
   "metadata": {},
   "outputs": [
    {
     "data": {
      "text/plain": [
       "8"
      ]
     },
     "execution_count": 38,
     "metadata": {},
     "output_type": "execute_result"
    }
   ],
   "source": [
    "soma(4,4)"
   ]
  },
  {
   "cell_type": "markdown",
   "metadata": {},
   "source": [
    "## Conceituação de Função"
   ]
  },
  {
   "cell_type": "markdown",
   "metadata": {},
   "source": [
    "- Antigamente a matemática era estuda por meios linguístios padrões. Por exemplo, a função quadrática como conhecemos hoje ($ax^2+b*x+c$), não era representada dessa maneira, era por meios fonéticos variados, mas não em linguagem matemática. As funções remetiam as fórmulas da época."
   ]
  },
  {
   "cell_type": "markdown",
   "metadata": {},
   "source": [
    "- Um tempo depois os matemáticos começaram a tentar procurar o real conceito e significado de uma **função**. Pela função da raiz quadrada, que continha um resultado ambíguo, por exemplo, $\\sqrt 4$ = (2, -2), foi definido que a raiz quadrada não é considerada uma função, e possui excessões de valores possíveis nos parâmetros, por exemplo, $\\sqrt -4$, só existe no campo imaginário.   \n",
    "\n",
    "***Assim ficou definido que para ser uma função, não é admissível que existam excessões no domínio e ambiguidades no codomínio.***"
   ]
  },
  {
   "cell_type": "markdown",
   "metadata": {},
   "source": [
    "***A função é uma regra que para os valores recebidos não existe exceção, e não possui ambiguidade para os valores computados.***"
   ]
  },
  {
   "cell_type": "markdown",
   "metadata": {},
   "source": [
    "## Assinatua de uma Função\n",
    "\n",
    "- É de extrema importância para a Ciência da Computação.\n",
    "  - Abaixo, a função dobro.\n",
    "\n",
    "    - $ \\text{Dobro} : \\mathbb{R}\\rightarrow \\mathbb{R}$\n",
    "    \n"
   ]
  },
  {
   "cell_type": "markdown",
   "metadata": {},
   "source": [
    "- $ \\text{Soma}  : \\mathbb{R}\\times\\mathbb{R} \\rightarrow \\mathbb{R}$\n",
    "    - x nesse caso não representa multiplicação, e sim atua como \"formador de pares\".\n",
    "    e.g. :\n",
    "       - $+6 + 8 \\mapsto 14$"
   ]
  },
  {
   "cell_type": "markdown",
   "metadata": {},
   "source": [
    "- $ \\text{Quadrado} : \\mathbb{R} \\rightarrow \\mathbb{R}^{\\ge0}$"
   ]
  },
  {
   "cell_type": "markdown",
   "metadata": {},
   "source": [
    "- A única maneira de a raíz quadrada ser considerada uma função, sem muita gambiarra, é com a seguinte assinatura:\n",
    "\n",
    "   - $ \\text{Raíz Quadrada} : \\mathbb{R}^{\\ge 0} \\rightarrow \\mathbb{R}^{\\ge 0} $"
   ]
  },
  {
   "cell_type": "markdown",
   "metadata": {},
   "source": [
    "## Gambiarra da $\\sqrt {}$"
   ]
  },
  {
   "cell_type": "markdown",
   "metadata": {},
   "source": [
    "- Antes: $\\sqrt4$ = 2\n",
    "                -2\n",
    "- Depois: $\\sqrt4$ = (2, -2)"
   ]
  },
  {
   "cell_type": "markdown",
   "metadata": {},
   "source": [
    " - Isso transforma o codomínio da função da raíz quadrada, em um par, e assim, elimina ambiguidade."
   ]
  },
  {
   "cell_type": "markdown",
   "metadata": {},
   "source": [
    " $$ \\text {Assinatura Final da Raiz Quadrada} : \\mathbb{R}^\\ge0 \\longrightarrow \\mathbb{R}^\\gt0 \\times \\mathbb{R}^\\lt0$$"
   ]
  },
  {
   "cell_type": "markdown",
   "metadata": {},
   "source": [
    "- $\\text {Imagem} : (()^2) = \\mathbb {R}^{\\ge 0}$"
   ]
  },
  {
   "cell_type": "markdown",
   "metadata": {},
   "source": [
    "## Desafios\n",
    "\n",
    "- Dados dois números, faça uma função que retorne o maior deles. **FEITO**\n",
    "- Dado o polinômio $2x^3-5x^2+7$, escrever uma função, que dado o x, retorne o resultado **FEITO**"
   ]
  },
  {
   "cell_type": "code",
   "execution_count": 9,
   "metadata": {},
   "outputs": [],
   "source": [
    "def Maior(a,b):\n",
    "    if  (a>b):\n",
    "         return  a\n",
    "    elif (a<b):\n",
    "        return b\n",
    "    else:\n",
    "         return  a"
   ]
  },
  {
   "cell_type": "code",
   "execution_count": 10,
   "metadata": {},
   "outputs": [
    {
     "data": {
      "text/plain": [
       "3"
      ]
     },
     "execution_count": 10,
     "metadata": {},
     "output_type": "execute_result"
    }
   ],
   "source": [
    "Maior (3,3)"
   ]
  },
  {
   "cell_type": "code",
   "execution_count": 4,
   "metadata": {},
   "outputs": [
    {
     "name": "stdout",
     "output_type": "stream",
     "text": [
      "Escolha um valor de x para realizar a equação 2x^3-5x^2+7.\n"
     ]
    },
    {
     "name": "stdin",
     "output_type": "stream",
     "text": [
      "X: 8\n"
     ]
    },
    {
     "name": "stdout",
     "output_type": "stream",
     "text": [
      "711\n"
     ]
    }
   ],
   "source": [
    "print (\"Escolha um valor de x para realizar a equação 2x^3-5x^2+7.\")\n",
    "\n",
    "x = input(\"X:\")\n",
    "x = int(x)\n",
    "poli = ( 2*x**3-5*x**2+7)\n",
    "\n",
    "print (poli)"
   ]
  },
  {
   "cell_type": "code",
   "execution_count": 4,
   "metadata": {},
   "outputs": [],
   "source": [
    "def func(x):\n",
    " return (2*x**3-5*x**2+7)"
   ]
  },
  {
   "cell_type": "code",
   "execution_count": 5,
   "metadata": {},
   "outputs": [
    {
     "data": {
      "text/plain": [
       "711"
      ]
     },
     "execution_count": 5,
     "metadata": {},
     "output_type": "execute_result"
    }
   ],
   "source": [
    "func(8)"
   ]
  },
  {
   "cell_type": "markdown",
   "metadata": {},
   "source": [
    "# Quinta Aula - 07/03/2019 "
   ]
  },
  {
   "cell_type": "markdown",
   "metadata": {},
   "source": [
    "## Mais Funções"
   ]
  },
  {
   "cell_type": "markdown",
   "metadata": {},
   "source": [
    "- Foi feita a correção dos desafios propostos, para a resolução do polinômio, a resolução mais básica foi suficiente; Para o desafio do maior número, ocorreu 3 variações de resultado: \n",
    "    - If & Else\n",
    "    - If, Elif & Else\n",
    "    - Print e Input"
   ]
  },
  {
   "cell_type": "markdown",
   "metadata": {},
   "source": [
    "- O comando elif é considerado \"Switch Case\", caso o primeiro Case (if) der negativo, elif entra em ação."
   ]
  },
  {
   "cell_type": "markdown",
   "metadata": {},
   "source": [
    "- Curiosidade: René Descartes, matemático e filósofo francês foi quem definiu o uso das letras para representação matemática, por exemplo $ax^4=bx^3+cx^2=dx+e$, as primeiras letras do alfabeto para valores dados (conhecidos), e as últimas para valores variáveis (desconhecidos). O uso frequente do X foi devido ao seu escasso uso na linguagem francesa."
   ]
  },
  {
   "cell_type": "markdown",
   "metadata": {},
   "source": [
    "### Desafio 1: Calcular o valor do polinômio de quarto grau, dando os 5 parâmetros. **FEITO**"
   ]
  },
  {
   "cell_type": "code",
   "execution_count": 55,
   "metadata": {},
   "outputs": [],
   "source": [
    "def poli4(x, a, b, c, d, e):\n",
    "    return (a*x**4 + b*x**3+c*x**2+d*x+e)"
   ]
  },
  {
   "cell_type": "code",
   "execution_count": 56,
   "metadata": {},
   "outputs": [
    {
     "data": {
      "text/plain": [
       "8393"
      ]
     },
     "execution_count": 56,
     "metadata": {},
     "output_type": "execute_result"
    }
   ],
   "source": [
    "poli4(7,3,2,9,6,21)"
   ]
  },
  {
   "cell_type": "markdown",
   "metadata": {},
   "source": [
    "# Tipagem de parâmetros e valores"
   ]
  },
  {
   "cell_type": "markdown",
   "metadata": {},
   "source": [
    "- Numa função de soma por exemplo, é importante definir qual o tipo de parâmetros que queremos trabalhar, por isso é importante tipar os parâmetros."
   ]
  },
  {
   "cell_type": "markdown",
   "metadata": {},
   "source": [
    "- Em Python os parâmetros não podem ser tipados, porem valores podem:"
   ]
  },
  {
   "cell_type": "markdown",
   "metadata": {},
   "source": [
    "- Abaixo, parâmetros sendo tipados (não é possível em Python)."
   ]
  },
  {
   "cell_type": "code",
   "execution_count": 27,
   "metadata": {},
   "outputs": [
    {
     "ename": "SyntaxError",
     "evalue": "invalid syntax (<ipython-input-27-b1f9fa0c476d>, line 1)",
     "output_type": "error",
     "traceback": [
      "\u001b[1;36m  File \u001b[1;32m\"<ipython-input-27-b1f9fa0c476d>\"\u001b[1;36m, line \u001b[1;32m1\u001b[0m\n\u001b[1;33m    def soma (a::float, b::float):\u001b[0m\n\u001b[1;37m                ^\u001b[0m\n\u001b[1;31mSyntaxError\u001b[0m\u001b[1;31m:\u001b[0m invalid syntax\n"
     ]
    }
   ],
   "source": [
    "def soma (a::float, b::float):\n",
    "    return a + b"
   ]
  },
  {
   "cell_type": "markdown",
   "metadata": {},
   "source": [
    "- Abaixo, valores sendo tipados."
   ]
  },
  {
   "cell_type": "code",
   "execution_count": 1,
   "metadata": {},
   "outputs": [],
   "source": [
    "def somaSimplesProf(a,b):\n",
    "    if type(a)!= float:\n",
    "        return \"a não é float\"\n",
    "    if type(b) != float:\n",
    "        return \"b não é float\"\n",
    "    else:\n",
    "        return a+b"
   ]
  },
  {
   "cell_type": "markdown",
   "metadata": {},
   "source": [
    "### Desafio: Garantir que a função soma só rode com valores do tipo float. **FEITO**"
   ]
  },
  {
   "cell_type": "markdown",
   "metadata": {},
   "source": [
    "- A seguir uma solução formulada por nosso grupo. Complexa, porém bem completa."
   ]
  },
  {
   "cell_type": "code",
   "execution_count": 44,
   "metadata": {},
   "outputs": [],
   "source": [
    "def soma (a, b):\n",
    "    if not(((type(a)==float) or type(a)==int) and ((type(b)==float) or type(b)==int)):\n",
    "        return \"Só trabalhamos com números amigo.\"\n",
    "    else:\n",
    "        return a+b"
   ]
  },
  {
   "cell_type": "code",
   "execution_count": 45,
   "metadata": {},
   "outputs": [
    {
     "data": {
      "text/plain": [
       "'Só trabalhamos com números amigo.'"
      ]
     },
     "execution_count": 45,
     "metadata": {},
     "output_type": "execute_result"
    }
   ],
   "source": [
    "soma (\"p\", 8)"
   ]
  },
  {
   "cell_type": "code",
   "execution_count": 46,
   "metadata": {},
   "outputs": [
    {
     "data": {
      "text/plain": [
       "26.0"
      ]
     },
     "execution_count": 46,
     "metadata": {},
     "output_type": "execute_result"
    }
   ],
   "source": [
    "soma (9,17.0)"
   ]
  },
  {
   "cell_type": "markdown",
   "metadata": {},
   "source": [
    "- Abaixo uma maneira de tipagem simples, verificando se os parâmetros são ou não do tipo float, como requisitado."
   ]
  },
  {
   "cell_type": "code",
   "execution_count": 57,
   "metadata": {},
   "outputs": [],
   "source": [
    "def somaSimples(a,b):\n",
    "    if type(a) == float and type(b) == float :\n",
    "        return a + b\n",
    "    else:\n",
    "        \"FATAL ERROR\""
   ]
  },
  {
   "cell_type": "code",
   "execution_count": 58,
   "metadata": {},
   "outputs": [
    {
     "data": {
      "text/plain": [
       "6.0"
      ]
     },
     "execution_count": 58,
     "metadata": {},
     "output_type": "execute_result"
    }
   ],
   "source": [
    "somaSimples(1,5.0)"
   ]
  },
  {
   "cell_type": "markdown",
   "metadata": {},
   "source": [
    "- A seguir podemos ver a solução que o professor Orlando nos apresentou, verificando se os valores são diferentes do tipo float, caso sim, gera um erro, caso não, retorna a + b. Notasse que não é nem necessário o uso do \"else\", pois caso as condições \"if\" não sejam atendidas, automaticamente irá retornar a + b."
   ]
  },
  {
   "cell_type": "code",
   "execution_count": 64,
   "metadata": {},
   "outputs": [],
   "source": [
    "def somaSimplesProf(a,b):\n",
    "    if type(a)!= float:\n",
    "        return \"a não é float\"\n",
    "    if type(b) != float:\n",
    "        return \"b não é float\"\n",
    "        return a+b"
   ]
  },
  {
   "cell_type": "code",
   "execution_count": 67,
   "metadata": {},
   "outputs": [
    {
     "data": {
      "text/plain": [
       "16.0"
      ]
     },
     "execution_count": 67,
     "metadata": {},
     "output_type": "execute_result"
    }
   ],
   "source": [
    "somaSimplesProf(8.0,8.0)"
   ]
  },
  {
   "cell_type": "markdown",
   "metadata": {},
   "source": [
    "## OBS: Com essas funções, e a explicação do professor, fica nítido que o melhor caminho na maioria das vezes é o caminho mais simples, que faz estritamente o que foi pedido, da forma mais direta possível. ***MENOS É MAIS***"
   ]
  },
  {
   "cell_type": "markdown",
   "metadata": {},
   "source": [
    "### - Dica do Vinícius (Bônus)"
   ]
  },
  {
   "cell_type": "markdown",
   "metadata": {},
   "source": [
    "- Como calcular o maior número, dentro de uma lista de valores."
   ]
  },
  {
   "cell_type": "code",
   "execution_count": 24,
   "metadata": {},
   "outputs": [],
   "source": [
    "def retMaior (*listeme):\n",
    "    maior = 0\n",
    "    for i in range(0,len(listeme),1):\n",
    "        if(maior<listeme[i]):\n",
    "            maior = listeme[i]\n",
    "    return maior  \n"
   ]
  },
  {
   "cell_type": "code",
   "execution_count": 26,
   "metadata": {},
   "outputs": [
    {
     "data": {
      "text/plain": [
       "999"
      ]
     },
     "execution_count": 26,
     "metadata": {},
     "output_type": "execute_result"
    }
   ],
   "source": [
    "retMaior (23,78,999,504,230,429)"
   ]
  },
  {
   "cell_type": "markdown",
   "metadata": {},
   "source": [
    "- É notável que \"listeme\" está com um asterisco, o que o condiciona os valores passados como parâmetros a serem uma tupla (lista de valores não modificáveis, representado por parênteses ( ), caso o asterisco não seja especificado, Python irá tratar o vetor como um array ( lista com valores modificados, representados por colchetes [ ])."
   ]
  },
  {
   "cell_type": "markdown",
   "metadata": {},
   "source": [
    "## DESAFIO DE TIPAGEM\n",
    "\n",
    "- Refaça todas as funções já aprendidas, porém com a técnica de tipagem aplicada.\n",
    "\n",
    "  - Sucessor\n",
    "  - Dobro de um número.\n",
    "  - Soma. \n",
    "  - Quadrado de um número.\n",
    "  - Maior entre dois números.\n",
    "  - Resolver o polinômio $2x^3-5x^2+7$, dando os valores de X. \n",
    "  - Resolver $ax4+bx^3+cx^2+dx+e$, dando os valores de a, b, c, d, e, x."
   ]
  },
  {
   "cell_type": "code",
   "execution_count": 1,
   "metadata": {},
   "outputs": [],
   "source": [
    "# Funções do desafio:\n",
    "\n",
    "def sucTip(n):\n",
    "    if type(n) != float and type(n) != int:\n",
    "        return \"É necessário que o valor inserido seja do tipo float, para que seu sucessor possa ser calculado.\"\n",
    "    else:\n",
    "        return (n+1)\n",
    "\n",
    "## SUCESSO\n",
    "\n",
    "def doubleTip(x):\n",
    "    if type(x) != float and type(x) != int:\n",
    "        return \"É necessário que o valor inserido seja do tipo float, para que seu dobro possa ser calculado.\"\n",
    "    else:\n",
    "        return (x*2)\n",
    "\n",
    "## SUCESSO\n",
    "\n",
    "def somaTip(x,y):\n",
    "    if type(x) != float and type(x) != int:\n",
    "        return \"É necesário que o valor de x seja um número fora de uma string.\"\n",
    "    if type(y) != float and type(y) != int:\n",
    "        return \"É necesário que o valor de y seja um número fora de uma string.\"\n",
    "    else:\n",
    "        return (x+y)\n",
    "    \n",
    "## SUCESSO\n",
    "\n",
    "def quadradoTip(x):\n",
    "    if type(x) != float and type(x) != int:\n",
    "        return \"Para calcular o quadrado de x, é preciso que o mesmo seja um número fora de string.\"\n",
    "    else:\n",
    "        return (x**2)\n",
    "    \n",
    "## SUCESSO\n",
    "\n",
    "def maiorEntreTip(x,y):\n",
    "    if type(x) != float and type(x) != int:\n",
    "        return \"É necesário que o valor de x seja um número fora de uma string.\"\n",
    "    if type(y) != float and type(y) != int:\n",
    "        return \"É necesário que o valor de y seja um número fora de uma string.\"\n",
    "    if x > y:\n",
    "        return x\n",
    "    else:\n",
    "        return y\n",
    "    \n",
    "## SUCESSO\n",
    "\n",
    "def poliTip(x):\n",
    "    if type(x) != float and type(x) != int:\n",
    "        return \"É necessário que x seja um número real, fora de uma string.\"\n",
    "    else:\n",
    "        return  (2*x**3 - 5*x**2 + 7)\n",
    "    \n",
    "## SUCESSO\n",
    "\n",
    "def poli4Tip(a,b,c,d,e,x):\n",
    "    if type(a) != float and type (a) != int:\n",
    "        return \"O valor de a deve ser um número real, fora de uma string.\"\n",
    "    \n",
    "    if type(b) != float and type (b) != int:\n",
    "        return \"O valor de b deve ser um número real, fora de uma string.\"\n",
    "    \n",
    "    if type(c) != float and type (c) != int:\n",
    "        return \"O valor de c deve ser um número real, fora de uma string.\"\n",
    "    \n",
    "    if type(d) != float and type (d) != int:\n",
    "        return \"O valor de d deve ser um número real, fora de uma string.\"\n",
    "    \n",
    "    if type(e) != float and type (e) != int:\n",
    "        return \"O valor de e deve ser um número real, fora de uma string.\"\n",
    "    \n",
    "    if type(x) != float and type (x) != int:\n",
    "        return \"O valor de x deve ser um número real, fora de uma string.\"\n",
    "    \n",
    "    return (a*x**4 + b*x**3+c*x**2+d*x+e)\n",
    "\n",
    "## SUCESSO\n",
    "    "
   ]
  },
  {
   "cell_type": "markdown",
   "metadata": {},
   "source": [
    "- Sucessor "
   ]
  },
  {
   "cell_type": "code",
   "execution_count": 2,
   "metadata": {},
   "outputs": [
    {
     "data": {
      "text/plain": [
       "'É necessário que o valor inserido seja do tipo float, para que seu sucessor possa ser calculado.'"
      ]
     },
     "execution_count": 2,
     "metadata": {},
     "output_type": "execute_result"
    }
   ],
   "source": [
    "sucTip(\"6\")"
   ]
  },
  {
   "cell_type": "code",
   "execution_count": 3,
   "metadata": {},
   "outputs": [
    {
     "data": {
      "text/plain": [
       "7"
      ]
     },
     "execution_count": 3,
     "metadata": {},
     "output_type": "execute_result"
    }
   ],
   "source": [
    "sucTip(6)"
   ]
  },
  {
   "cell_type": "markdown",
   "metadata": {},
   "source": [
    "- Dobro de..."
   ]
  },
  {
   "cell_type": "code",
   "execution_count": 33,
   "metadata": {},
   "outputs": [
    {
     "data": {
      "text/plain": [
       "12"
      ]
     },
     "execution_count": 33,
     "metadata": {},
     "output_type": "execute_result"
    }
   ],
   "source": [
    "doubleTip(6)"
   ]
  },
  {
   "cell_type": "code",
   "execution_count": 32,
   "metadata": {},
   "outputs": [
    {
     "data": {
      "text/plain": [
       "'É necessário que o valor inserido seja do tipo float, para que seu dobro possa ser calculado.'"
      ]
     },
     "execution_count": 32,
     "metadata": {},
     "output_type": "execute_result"
    }
   ],
   "source": [
    "doubleTip(\"6\")"
   ]
  },
  {
   "cell_type": "markdown",
   "metadata": {},
   "source": [
    "- Soma"
   ]
  },
  {
   "cell_type": "code",
   "execution_count": 34,
   "metadata": {},
   "outputs": [
    {
     "data": {
      "text/plain": [
       "'É necesário que o valor de x seja um número fora de uma string.'"
      ]
     },
     "execution_count": 34,
     "metadata": {},
     "output_type": "execute_result"
    }
   ],
   "source": [
    "somaTip(\"6\",\"6\")"
   ]
  },
  {
   "cell_type": "code",
   "execution_count": 35,
   "metadata": {},
   "outputs": [
    {
     "data": {
      "text/plain": [
       "12"
      ]
     },
     "execution_count": 35,
     "metadata": {},
     "output_type": "execute_result"
    }
   ],
   "source": [
    "somaTip(6,6)"
   ]
  },
  {
   "cell_type": "markdown",
   "metadata": {},
   "source": [
    "- Quadrado de..."
   ]
  },
  {
   "cell_type": "code",
   "execution_count": 37,
   "metadata": {},
   "outputs": [
    {
     "data": {
      "text/plain": [
       "'Para calcular o quadrado de x, é preciso que o mesmo seja um número fora de string.'"
      ]
     },
     "execution_count": 37,
     "metadata": {},
     "output_type": "execute_result"
    }
   ],
   "source": [
    "quadradoTip(\"6\")"
   ]
  },
  {
   "cell_type": "code",
   "execution_count": 38,
   "metadata": {},
   "outputs": [
    {
     "data": {
      "text/plain": [
       "36"
      ]
     },
     "execution_count": 38,
     "metadata": {},
     "output_type": "execute_result"
    }
   ],
   "source": [
    "quadradoTip(6)"
   ]
  },
  {
   "cell_type": "markdown",
   "metadata": {},
   "source": [
    "- Maior entre..."
   ]
  },
  {
   "cell_type": "code",
   "execution_count": 45,
   "metadata": {},
   "outputs": [
    {
     "data": {
      "text/plain": [
       "'É necesário que o valor de x seja um número fora de uma string.'"
      ]
     },
     "execution_count": 45,
     "metadata": {},
     "output_type": "execute_result"
    }
   ],
   "source": [
    "maiorEntreTip(\"6\",10)"
   ]
  },
  {
   "cell_type": "code",
   "execution_count": 43,
   "metadata": {},
   "outputs": [
    {
     "data": {
      "text/plain": [
       "10"
      ]
     },
     "execution_count": 43,
     "metadata": {},
     "output_type": "execute_result"
    }
   ],
   "source": [
    "maiorEntreTip(5,10)"
   ]
  },
  {
   "cell_type": "code",
   "execution_count": 44,
   "metadata": {},
   "outputs": [
    {
     "data": {
      "text/plain": [
       "10"
      ]
     },
     "execution_count": 44,
     "metadata": {},
     "output_type": "execute_result"
    }
   ],
   "source": [
    "maiorEntreTip(10,10)"
   ]
  },
  {
   "cell_type": "markdown",
   "metadata": {},
   "source": [
    "- Polinômio  $2x^3-5x^2+7$"
   ]
  },
  {
   "cell_type": "code",
   "execution_count": 47,
   "metadata": {},
   "outputs": [
    {
     "data": {
      "text/plain": [
       "'É necessário que x seja um número real, fora de uma string.'"
      ]
     },
     "execution_count": 47,
     "metadata": {},
     "output_type": "execute_result"
    }
   ],
   "source": [
    "poliTip(\"6\")"
   ]
  },
  {
   "cell_type": "code",
   "execution_count": 48,
   "metadata": {},
   "outputs": [
    {
     "data": {
      "text/plain": [
       "259"
      ]
     },
     "execution_count": 48,
     "metadata": {},
     "output_type": "execute_result"
    }
   ],
   "source": [
    "poliTip(6)"
   ]
  },
  {
   "cell_type": "markdown",
   "metadata": {},
   "source": [
    "- Polinômio de quarto grau $ax^4+bx^3+cx^2+dx+e$"
   ]
  },
  {
   "cell_type": "code",
   "execution_count": 51,
   "metadata": {},
   "outputs": [
    {
     "data": {
      "text/plain": [
       "'O valor de x deve ser um número real, fora de uma string.'"
      ]
     },
     "execution_count": 51,
     "metadata": {},
     "output_type": "execute_result"
    }
   ],
   "source": [
    "poli4Tip(1,2,3,4,5,\"10\")"
   ]
  },
  {
   "cell_type": "code",
   "execution_count": 52,
   "metadata": {},
   "outputs": [
    {
     "data": {
      "text/plain": [
       "12345"
      ]
     },
     "execution_count": 52,
     "metadata": {},
     "output_type": "execute_result"
    }
   ],
   "source": [
    "poli4Tip(1,2,3,4,5,10)"
   ]
  },
  {
   "cell_type": "markdown",
   "metadata": {},
   "source": [
    "##  -- Desafio de tipagem concluído."
   ]
  },
  {
   "cell_type": "markdown",
   "metadata": {},
   "source": [
    "# Sexta Aula - 13/03/2019"
   ]
  },
  {
   "cell_type": "markdown",
   "metadata": {},
   "source": [
    "## Domínio e Imagem de Funções"
   ]
  },
  {
   "cell_type": "markdown",
   "metadata": {},
   "source": [
    "### Dica do Professor Orlando: Sempre tenha um BKP (Backup), preferencialmente 2 offline e, convenientemente, 1 online."
   ]
  },
  {
   "cell_type": "markdown",
   "metadata": {},
   "source": [
    "$f : X \\longrightarrow Y$\n",
    "\n",
    "$f(x) = x^2$; $\\mathrm{Quadrado}: \\mathbb{R} \\longrightarrow \\mathbb{R}^{\\gt0} \\ {e} \\  \\mathbb{R}^{\\lt0}$\n",
    "\n",
    "$f(x) = \\frac {1}  {x-1}$  :  $\\mathbb{R} \\neq {1} \\ \\longmapsto \\mathbb{R}^ \\neq 1$"
   ]
  },
  {
   "cell_type": "markdown",
   "metadata": {},
   "source": [
    "## - Exemplo de funções com suas assinaturas, e de espaçamento entre caracteres e comandos."
   ]
  },
  {
   "cell_type": "markdown",
   "metadata": {},
   "source": [
    "$h(x) = \\frac {1} {x^2 -1}$  :  $\\mathbb{R} \\neq {1} \\ \\mathrm {e} \\ -{1} \\longmapsto \\mathbb{R}^ \\neq {1} \\ e \\ \\mathbb{R}^ \\neq {-1}$"
   ]
  },
  {
   "cell_type": "markdown",
   "metadata": {},
   "source": [
    "- $j(x) = \\frac {1} {\\sqrt {x^2-4}}$ : $\\sqrt {x^2-4} \\ \\neq \\ 0$ $\\ \\mathrm{e} \\  x^2-4 \\ \\gt \\ 0$\n",
    "        \n",
    "   - Domínio = { $ X \\ \\in \\ \\mathbb{R}$  $ | x \\gt 2 \\ \\mathrm{e} \\ x \\lt -2$}\n",
    "  "
   ]
  },
  {
   "cell_type": "markdown",
   "metadata": {},
   "source": [
    "# - Desafios"
   ]
  },
  {
   "cell_type": "markdown",
   "metadata": {},
   "source": [
    "## - Qual é o domínio para:\n",
    "\n",
    "- $y=x^2-x$\n",
    "\n",
    "  - $\\mathbb{R} \\gt {1} \\ e \\ \\mathbb{R} \\lt 0 \\ { \\longmapsto \\mathbb{R}^ \\neq {1} \\ e \\ \\mathbb{R}^ \\neq {0}}$\n",
    "  \n",
    "  \n",
    "\n",
    "- $y=\\frac {1} {x^2-x}$\n",
    "  \n",
    "  - $\\mathbb{R} \\neq {1} \\ \\mathrm {e} \\ -{1} \\longmapsto \\mathbb{R}^ \\neq {1} \\ e \\ \\mathbb{R}^ \\neq {-1}$\n",
    "  \n",
    "\n",
    "- $y=x^3$\n",
    "  - $ \\mathbb{R} \\neq {0}$\n",
    "  \n",
    "\n",
    "- $y=\\frac {1} {x^3-1}$\n",
    "   - $\\mathbb{R} \\neq {1}$\n"
   ]
  },
  {
   "cell_type": "markdown",
   "metadata": {},
   "source": [
    "#### - Implementar em Python as funções da aula de hoje, e validar seus parâmetros (Domínio) para que o valor esteja somente dentro do permitido no domínio."
   ]
  },
  {
   "cell_type": "markdown",
   "metadata": {},
   "source": [
    "$f(x) = x^2$\n",
    "\n",
    "$g(x) = \\frac {1}  {x-1}$\n",
    "\n",
    "$h(x) = \\frac {1} {x^2 -1}$\n",
    "\n",
    "$i(x) = \\frac {1} {\\sqrt {x^2-4}}$ \n",
    "\n"
   ]
  },
  {
   "cell_type": "code",
   "execution_count": 45,
   "metadata": {},
   "outputs": [],
   "source": [
    "import math\n",
    "\n",
    "## Primeira função.\n",
    "\n",
    "def f(x):\n",
    "    if x == 0:\n",
    "       return \"0 não pertence ao domínio.\"\n",
    "    else:\n",
    "       return x**2\n",
    "\n",
    "## Segunda Função\n",
    "\n",
    "def g(x):\n",
    "    if x == 1:\n",
    "        return \"1 não pertence ao domínio\"\n",
    "    else:\n",
    "        return 1 / x-1\n",
    "    \n",
    "## Terceira Função\n",
    "\n",
    "def h(x):\n",
    "    if x == 1 or x == -1:\n",
    "        return \"O valor inserido não pertence ao domínio.\"\n",
    "    else:\n",
    "        return 1 / x**2-1\n",
    "    \n",
    "## Quarta função\n",
    "\n",
    "def i(x):\n",
    "    if x == 2 or x == 1 or x == 0 or x == -1 or x == -2:\n",
    "        return \"O valor inserido não pertence ao domínio.\"\n",
    "    else:\n",
    "        return 1 / math.sqrt(x**2-4)"
   ]
  },
  {
   "cell_type": "code",
   "execution_count": 18,
   "metadata": {},
   "outputs": [
    {
     "data": {
      "text/plain": [
       "'0 não pertence ao domínio.'"
      ]
     },
     "execution_count": 18,
     "metadata": {},
     "output_type": "execute_result"
    }
   ],
   "source": [
    "f(0)"
   ]
  },
  {
   "cell_type": "code",
   "execution_count": 19,
   "metadata": {},
   "outputs": [
    {
     "data": {
      "text/plain": [
       "4"
      ]
     },
     "execution_count": 19,
     "metadata": {},
     "output_type": "execute_result"
    }
   ],
   "source": [
    "f(2)"
   ]
  },
  {
   "cell_type": "code",
   "execution_count": 20,
   "metadata": {},
   "outputs": [
    {
     "data": {
      "text/plain": [
       "4"
      ]
     },
     "execution_count": 20,
     "metadata": {},
     "output_type": "execute_result"
    }
   ],
   "source": [
    "f(-2)"
   ]
  },
  {
   "cell_type": "code",
   "execution_count": 23,
   "metadata": {},
   "outputs": [
    {
     "data": {
      "text/plain": [
       "'1 não pertence ao domínio'"
      ]
     },
     "execution_count": 23,
     "metadata": {},
     "output_type": "execute_result"
    }
   ],
   "source": [
    "g(1)"
   ]
  },
  {
   "cell_type": "code",
   "execution_count": 24,
   "metadata": {},
   "outputs": [
    {
     "data": {
      "text/plain": [
       "-0.6666666666666667"
      ]
     },
     "execution_count": 24,
     "metadata": {},
     "output_type": "execute_result"
    }
   ],
   "source": [
    "g(3)"
   ]
  },
  {
   "cell_type": "code",
   "execution_count": 25,
   "metadata": {},
   "outputs": [
    {
     "data": {
      "text/plain": [
       "-1.3333333333333333"
      ]
     },
     "execution_count": 25,
     "metadata": {},
     "output_type": "execute_result"
    }
   ],
   "source": [
    "g(-3)"
   ]
  },
  {
   "cell_type": "code",
   "execution_count": 27,
   "metadata": {},
   "outputs": [
    {
     "data": {
      "text/plain": [
       "'O valor inserido não pertence ao domínio.'"
      ]
     },
     "execution_count": 27,
     "metadata": {},
     "output_type": "execute_result"
    }
   ],
   "source": [
    "h(1)"
   ]
  },
  {
   "cell_type": "code",
   "execution_count": 28,
   "metadata": {},
   "outputs": [
    {
     "data": {
      "text/plain": [
       "'O valor inserido não pertence ao domínio.'"
      ]
     },
     "execution_count": 28,
     "metadata": {},
     "output_type": "execute_result"
    }
   ],
   "source": [
    "h(-1)"
   ]
  },
  {
   "cell_type": "code",
   "execution_count": 29,
   "metadata": {},
   "outputs": [
    {
     "data": {
      "text/plain": [
       "-0.9876543209876543"
      ]
     },
     "execution_count": 29,
     "metadata": {},
     "output_type": "execute_result"
    }
   ],
   "source": [
    "h(9)"
   ]
  },
  {
   "cell_type": "code",
   "execution_count": 30,
   "metadata": {},
   "outputs": [
    {
     "data": {
      "text/plain": [
       "-0.9876543209876543"
      ]
     },
     "execution_count": 30,
     "metadata": {},
     "output_type": "execute_result"
    }
   ],
   "source": [
    "h(-9)"
   ]
  },
  {
   "cell_type": "code",
   "execution_count": 35,
   "metadata": {},
   "outputs": [
    {
     "data": {
      "text/plain": [
       "'O valor inserido não pertence ao domínio.'"
      ]
     },
     "execution_count": 35,
     "metadata": {},
     "output_type": "execute_result"
    }
   ],
   "source": [
    "i(2)"
   ]
  },
  {
   "cell_type": "code",
   "execution_count": 38,
   "metadata": {},
   "outputs": [
    {
     "data": {
      "text/plain": [
       "'O valor inserido não pertence ao domínio.'"
      ]
     },
     "execution_count": 38,
     "metadata": {},
     "output_type": "execute_result"
    }
   ],
   "source": [
    "i(1) and i (0)"
   ]
  },
  {
   "cell_type": "code",
   "execution_count": 39,
   "metadata": {},
   "outputs": [
    {
     "data": {
      "text/plain": [
       "'O valor inserido não pertence ao domínio.'"
      ]
     },
     "execution_count": 39,
     "metadata": {},
     "output_type": "execute_result"
    }
   ],
   "source": [
    "i(-1) and i(-2)"
   ]
  },
  {
   "cell_type": "code",
   "execution_count": 46,
   "metadata": {},
   "outputs": [
    {
     "data": {
      "text/plain": [
       "0.2886751345948129"
      ]
     },
     "execution_count": 46,
     "metadata": {},
     "output_type": "execute_result"
    }
   ],
   "source": [
    "i(4)"
   ]
  },
  {
   "cell_type": "code",
   "execution_count": 47,
   "metadata": {},
   "outputs": [
    {
     "data": {
      "text/plain": [
       "0.2886751345948129"
      ]
     },
     "execution_count": 47,
     "metadata": {},
     "output_type": "execute_result"
    }
   ],
   "source": [
    "i(-4)"
   ]
  },
  {
   "cell_type": "markdown",
   "metadata": {},
   "source": [
    "## -- Desafios Finalizados."
   ]
  },
  {
   "cell_type": "markdown",
   "metadata": {},
   "source": [
    "# Sétima Aula - 14/03/2019"
   ]
  },
  {
   "cell_type": "markdown",
   "metadata": {},
   "source": [
    "## - Conceito Abstrato de Listas"
   ]
  },
  {
   "cell_type": "markdown",
   "metadata": {},
   "source": [
    "Ex: \n",
    "- 4 6 8 1 0 3 9\n",
    "- \"uva\" \"limão\" \"laranja\""
   ]
  },
  {
   "cell_type": "markdown",
   "metadata": {},
   "source": [
    "#### - É uma estrutura linear, que tem noção de \"próximo\". Uma sequência de objetos."
   ]
  },
  {
   "cell_type": "markdown",
   "metadata": {},
   "source": [
    "- Uma lista é uma estrutura binária, que possui um elemento inicial (*head* ou *first*) e,logo em seguida, uma lista (*tail*), que também possui sua própia *head* e sua *tail* e assim subsequentemente, até a última *head* qe tem *tail* vazia. É uma definição recursiva."
   ]
  },
  {
   "cell_type": "markdown",
   "metadata": {},
   "source": [
    "#### Definição recursiva: \"Na lógica matemática e em ciência da computação, uma definição recursiva é usada para definir um objeto em termos de si próprio. Uma definição recursiva de uma função define valores das funções para algumas entradas em termos dos valores da mesma função para outras entradas. Por exemplo, a função fatorial n! \""
   ]
  },
  {
   "cell_type": "markdown",
   "metadata": {},
   "source": [
    "- A LISP (List Processing), é uma linguagem de programção baseada no conceito de lista, uma das duas linguagens mais utilizadas em Inteligência Artificial."
   ]
  },
  {
   "cell_type": "markdown",
   "metadata": {},
   "source": [
    "## - Listas em \"*Python*\""
   ]
  },
  {
   "cell_type": "markdown",
   "metadata": {},
   "source": [
    "Exemplos:"
   ]
  },
  {
   "cell_type": "code",
   "execution_count": 13,
   "metadata": {},
   "outputs": [
    {
     "data": {
      "text/plain": [
       "[3, 7, 2, 9, 0, 4]"
      ]
     },
     "execution_count": 13,
     "metadata": {},
     "output_type": "execute_result"
    }
   ],
   "source": [
    "[3, 7, 2, 9, 0, 4]"
   ]
  },
  {
   "cell_type": "code",
   "execution_count": 5,
   "metadata": {},
   "outputs": [
    {
     "data": {
      "text/plain": [
       "[1, 'uva', 3, 'limão', 8, 'laranja']"
      ]
     },
     "execution_count": 5,
     "metadata": {},
     "output_type": "execute_result"
    }
   ],
   "source": [
    "[1, \"uva\", 3, \"limão\", 8, \"laranja\"]"
   ]
  },
  {
   "cell_type": "code",
   "execution_count": 6,
   "metadata": {},
   "outputs": [
    {
     "data": {
      "text/plain": [
       "[(1, 'uva'), (3, 'limão'), (8, 'laranja')]"
      ]
     },
     "execution_count": 6,
     "metadata": {},
     "output_type": "execute_result"
    }
   ],
   "source": [
    "[(1, \"uva\"), (3, \"limão\"), (8, \"laranja\")]"
   ]
  },
  {
   "cell_type": "code",
   "execution_count": 7,
   "metadata": {},
   "outputs": [],
   "source": [
    "pesoArthur = 65"
   ]
  },
  {
   "cell_type": "code",
   "execution_count": null,
   "metadata": {},
   "outputs": [],
   "source": []
  },
  {
   "cell_type": "markdown",
   "metadata": {},
   "source": [
    "- Listas podem ser variáveis:"
   ]
  },
  {
   "cell_type": "code",
   "execution_count": 12,
   "metadata": {},
   "outputs": [],
   "source": [
    "lst = [3, 7, 2, 9, 0, 4]"
   ]
  },
  {
   "cell_type": "markdown",
   "metadata": {},
   "source": [
    "- Fazendo isso, a variável \"lst\" é armazenada na memória, e se refere, quando acionada, ao primeiro slot de memória ocupado pela lista."
   ]
  },
  {
   "cell_type": "code",
   "execution_count": 16,
   "metadata": {},
   "outputs": [
    {
     "data": {
      "text/plain": [
       "9"
      ]
     },
     "execution_count": 16,
     "metadata": {},
     "output_type": "execute_result"
    }
   ],
   "source": [
    "lst[3]"
   ]
  },
  {
   "cell_type": "code",
   "execution_count": 17,
   "metadata": {},
   "outputs": [
    {
     "data": {
      "text/plain": [
       "4"
      ]
     },
     "execution_count": 17,
     "metadata": {},
     "output_type": "execute_result"
    }
   ],
   "source": [
    "[3, 7, 2, 9, 0, 4] [5]"
   ]
  },
  {
   "cell_type": "markdown",
   "metadata": {},
   "source": [
    "### Vetor e Arranjo:"
   ]
  },
  {
   "cell_type": "markdown",
   "metadata": {},
   "source": [
    "- Vetor: Lista de tamanho fixo e normalmente tem os mesmos tipos de elementos (homogêneos quanto ao tipo).\n",
    "    \n",
    "- Arranjo: Modo de cognar. Em programação de computadores, um arranjo é uma estrutura de dados que armazena uma coleção de elementos de tal forma que cada um dos elementos possa ser identificado por, pelo menos, um índice ou uma chave."
   ]
  },
  {
   "cell_type": "markdown",
   "metadata": {},
   "source": [
    "#### - Como mudar valores de uma lista"
   ]
  },
  {
   "cell_type": "code",
   "execution_count": 19,
   "metadata": {},
   "outputs": [],
   "source": [
    "lst[3] = 999"
   ]
  },
  {
   "cell_type": "code",
   "execution_count": 21,
   "metadata": {},
   "outputs": [
    {
     "data": {
      "text/plain": [
       "999"
      ]
     },
     "execution_count": 21,
     "metadata": {},
     "output_type": "execute_result"
    }
   ],
   "source": [
    "lst[3]"
   ]
  },
  {
   "cell_type": "code",
   "execution_count": 22,
   "metadata": {},
   "outputs": [
    {
     "data": {
      "text/plain": [
       "[3, 7, 2, 999, 0, 4]"
      ]
     },
     "execution_count": 22,
     "metadata": {},
     "output_type": "execute_result"
    }
   ],
   "source": [
    "lst"
   ]
  },
  {
   "cell_type": "markdown",
   "metadata": {},
   "source": [
    "- O mesmo já não é possível para vetores:"
   ]
  },
  {
   "cell_type": "code",
   "execution_count": 23,
   "metadata": {},
   "outputs": [],
   "source": [
    "vet= (3, 4, 5)"
   ]
  },
  {
   "cell_type": "code",
   "execution_count": 24,
   "metadata": {},
   "outputs": [
    {
     "ename": "TypeError",
     "evalue": "'tuple' object does not support item assignment",
     "output_type": "error",
     "traceback": [
      "\u001b[1;31m---------------------------------------------------------------------------\u001b[0m",
      "\u001b[1;31mTypeError\u001b[0m                                 Traceback (most recent call last)",
      "\u001b[1;32m<ipython-input-24-ac9c13e6c290>\u001b[0m in \u001b[0;36m<module>\u001b[1;34m()\u001b[0m\n\u001b[1;32m----> 1\u001b[1;33m \u001b[0mvet\u001b[0m\u001b[1;33m[\u001b[0m\u001b[1;36m1\u001b[0m\u001b[1;33m]\u001b[0m \u001b[1;33m=\u001b[0m \u001b[1;36m7\u001b[0m\u001b[1;33m\u001b[0m\u001b[0m\n\u001b[0m",
      "\u001b[1;31mTypeError\u001b[0m: 'tuple' object does not support item assignment"
     ]
    }
   ],
   "source": [
    "vet[1] = 7"
   ]
  },
  {
   "cell_type": "markdown",
   "metadata": {},
   "source": [
    "## Vetor com:\n",
    " - 2 objetos: dupla\n",
    " - 3 objetos: tripla\n",
    " - T objetos: Tupla"
   ]
  },
  {
   "cell_type": "markdown",
   "metadata": {},
   "source": [
    "## - Concatenação e ampliação de listas"
   ]
  },
  {
   "cell_type": "markdown",
   "metadata": {},
   "source": [
    "Exemplo de concatenação:"
   ]
  },
  {
   "cell_type": "code",
   "execution_count": 25,
   "metadata": {},
   "outputs": [
    {
     "data": {
      "text/plain": [
       "[1, 3, 5, 7, 9, 2, 4, 6, 8]"
      ]
     },
     "execution_count": 25,
     "metadata": {},
     "output_type": "execute_result"
    }
   ],
   "source": [
    "[1, 3, 5, 7, 9] + [2, 4, 6, 8]"
   ]
  },
  {
   "cell_type": "code",
   "execution_count": 26,
   "metadata": {},
   "outputs": [
    {
     "data": {
      "text/plain": [
       "[3, 7, 2, 999, 0, 4, 1, 3, 5, 7, 9, 2, 4, 6, 8]"
      ]
     },
     "execution_count": 26,
     "metadata": {},
     "output_type": "execute_result"
    }
   ],
   "source": [
    "nova = [1, 3, 5, 7, 9] + [2, 4, 6, 8]\n",
    "listanova = lst + nova\n",
    "listanova"
   ]
  },
  {
   "cell_type": "code",
   "execution_count": 28,
   "metadata": {},
   "outputs": [
    {
     "data": {
      "text/plain": [
       "[3, 7, 2, 999, 0, 4, 1, 3, 5, 7, 9, 2, 4, 6, 8, 'uva', 'morango']"
      ]
     },
     "execution_count": 28,
     "metadata": {},
     "output_type": "execute_result"
    }
   ],
   "source": [
    "extend = listanova + [\"uva\", \"morango\"]\n",
    "extend"
   ]
  },
  {
   "cell_type": "markdown",
   "metadata": {},
   "source": [
    "Como inserir um novo elemento no meio da lista:"
   ]
  },
  {
   "cell_type": "code",
   "execution_count": 29,
   "metadata": {},
   "outputs": [
    {
     "data": {
      "text/plain": [
       "[1, 3, 5, 7, 9]"
      ]
     },
     "execution_count": 29,
     "metadata": {},
     "output_type": "execute_result"
    }
   ],
   "source": [
    "[1, 3, 7, 9]\n",
    "[1, 3] + [5] + [7, 9]"
   ]
  },
  {
   "cell_type": "markdown",
   "metadata": {},
   "source": [
    "## - Percorrer e acumular listas"
   ]
  },
  {
   "cell_type": "markdown",
   "metadata": {},
   "source": [
    "- Como percorrer uma lista:"
   ]
  },
  {
   "cell_type": "code",
   "execution_count": 30,
   "metadata": {},
   "outputs": [
    {
     "name": "stdout",
     "output_type": "stream",
     "text": [
      "1\n",
      "2\n",
      "3\n",
      "4\n",
      "5\n"
     ]
    }
   ],
   "source": [
    "for i in [1, 2, 3, 4, 5]:\n",
    "    print (i)"
   ]
  },
  {
   "cell_type": "markdown",
   "metadata": {},
   "source": [
    "- Acumulador de soma na lista:"
   ]
  },
  {
   "cell_type": "code",
   "execution_count": 32,
   "metadata": {},
   "outputs": [],
   "source": [
    "acc = 0\n",
    "for i in [1, 2, 3, 4, 5]:\n",
    "    acc = acc + i"
   ]
  },
  {
   "cell_type": "code",
   "execution_count": 33,
   "metadata": {},
   "outputs": [
    {
     "data": {
      "text/plain": [
       "15"
      ]
     },
     "execution_count": 33,
     "metadata": {},
     "output_type": "execute_result"
    }
   ],
   "source": [
    "acc"
   ]
  },
  {
   "cell_type": "markdown",
   "metadata": {},
   "source": [
    "- Usando \"for\" multiplique os valores da lista;"
   ]
  },
  {
   "cell_type": "code",
   "execution_count": 34,
   "metadata": {},
   "outputs": [
    {
     "data": {
      "text/plain": [
       "120"
      ]
     },
     "execution_count": 34,
     "metadata": {},
     "output_type": "execute_result"
    }
   ],
   "source": [
    "mpl = 1\n",
    "for i in [1, 2, 3, 4, 5]:\n",
    "    mpl = mpl * i\n",
    "mpl"
   ]
  },
  {
   "cell_type": "markdown",
   "metadata": {},
   "source": [
    "### - O Acumulador deve ser sempre o elemento neutro, para assim, não alterar o resultado."
   ]
  },
  {
   "cell_type": "markdown",
   "metadata": {},
   "source": [
    "- Desafio, definir uma função que receba uma lista numérica e efetue a soma de seus elementos."
   ]
  },
  {
   "cell_type": "code",
   "execution_count": 11,
   "metadata": {},
   "outputs": [],
   "source": [
    "def somaLista (lst):\n",
    "    acc = 0\n",
    "    for i in lst:\n",
    "        acc = acc + i\n",
    "    return acc"
   ]
  },
  {
   "cell_type": "code",
   "execution_count": 12,
   "metadata": {},
   "outputs": [
    {
     "data": {
      "text/plain": [
       "15"
      ]
     },
     "execution_count": 12,
     "metadata": {},
     "output_type": "execute_result"
    }
   ],
   "source": [
    "somaLista ([1, 2, 3, 4, 5])"
   ]
  },
  {
   "cell_type": "code",
   "execution_count": 13,
   "metadata": {},
   "outputs": [],
   "source": [
    "def somaListaDobro (lst):\n",
    "    acc = 0\n",
    "    for i in lst:\n",
    "        acc = acc + i * 2\n",
    "    return acc"
   ]
  },
  {
   "cell_type": "code",
   "execution_count": 14,
   "metadata": {},
   "outputs": [
    {
     "data": {
      "text/plain": [
       "30"
      ]
     },
     "execution_count": 14,
     "metadata": {},
     "output_type": "execute_result"
    }
   ],
   "source": [
    "somaListaDobro([1, 2, 3, 4, 5])"
   ]
  },
  {
   "cell_type": "markdown",
   "metadata": {},
   "source": [
    "- Outra maneira:"
   ]
  },
  {
   "cell_type": "code",
   "execution_count": 19,
   "metadata": {},
   "outputs": [],
   "source": [
    "def somaListaDobroQuick (lst):\n",
    "    return 2 * somaLista(lst)"
   ]
  },
  {
   "cell_type": "code",
   "execution_count": 20,
   "metadata": {},
   "outputs": [
    {
     "data": {
      "text/plain": [
       "30"
      ]
     },
     "execution_count": 20,
     "metadata": {},
     "output_type": "execute_result"
    }
   ],
   "source": [
    "somaListaDobroQuick([1, 2, 3, 4, 5])"
   ]
  },
  {
   "cell_type": "markdown",
   "metadata": {},
   "source": [
    "# - Desafio "
   ]
  },
  {
   "cell_type": "markdown",
   "metadata": {},
   "source": [
    "### - Escrever a somalista de modo que ela só aceite listas numéricas."
   ]
  },
  {
   "cell_type": "code",
   "execution_count": 13,
   "metadata": {},
   "outputs": [],
   "source": [
    "def somaListaD (lst):\n",
    "    acc = 0\n",
    "    for i in lst:\n",
    "        if type(i)== str or type(i)== bool:\n",
    "            return \"Listas Numéricas por favor.\"\n",
    "        else:\n",
    "            for i in lst:\n",
    "                acc = acc + i\n",
    "        return acc"
   ]
  },
  {
   "cell_type": "code",
   "execution_count": 7,
   "metadata": {},
   "outputs": [
    {
     "data": {
      "text/plain": [
       "'Listas Numéricas por favor.'"
      ]
     },
     "execution_count": 7,
     "metadata": {},
     "output_type": "execute_result"
    }
   ],
   "source": [
    "somaListaD([False, \"2\"])"
   ]
  },
  {
   "cell_type": "code",
   "execution_count": 14,
   "metadata": {},
   "outputs": [
    {
     "data": {
      "text/plain": [
       "15"
      ]
     },
     "execution_count": 14,
     "metadata": {},
     "output_type": "execute_result"
    }
   ],
   "source": [
    "somaListaD([1, 2, 3, 4, 5])"
   ]
  },
  {
   "cell_type": "markdown",
   "metadata": {},
   "source": [
    "### - Fazer uma função/programa que receba um valor \"n\" e efetue a soma $ [1, \\frac {1} {2}, \\frac {1} {3}, \\frac {1} {4}, \\cdots , \\frac{1}{n}] $.\n"
   ]
  },
  {
   "cell_type": "code",
   "execution_count": 65,
   "metadata": {},
   "outputs": [],
   "source": [
    "def somaListaFrac (n):\n",
    "   \n",
    "    if type(n)== str or type(n)== bool:\n",
    "            return \"Não trabalhamos com strigs e valores boolianos.\"\n",
    "    else:\n",
    "        sum = 0\n",
    "        for i in range(1,n+1):\n",
    "            sum = sum + (1/i)\n",
    "    return sum"
   ]
  },
  {
   "cell_type": "code",
   "execution_count": 69,
   "metadata": {},
   "outputs": [
    {
     "data": {
      "text/plain": [
       "1.5"
      ]
     },
     "execution_count": 69,
     "metadata": {},
     "output_type": "execute_result"
    }
   ],
   "source": [
    "somaListaFrac(2)"
   ]
  },
  {
   "cell_type": "code",
   "execution_count": 66,
   "metadata": {},
   "outputs": [
    {
     "data": {
      "text/plain": [
       "'Não trabalhamos com strigs e valores boolianos.'"
      ]
     },
     "execution_count": 66,
     "metadata": {},
     "output_type": "execute_result"
    }
   ],
   "source": [
    "somaListaFrac(\"2\")"
   ]
  },
  {
   "cell_type": "markdown",
   "metadata": {},
   "source": [
    "## -- Desafio Concluído"
   ]
  },
  {
   "cell_type": "markdown",
   "metadata": {},
   "source": [
    "# Oitava Aula - 20/03/2019"
   ]
  },
  {
   "cell_type": "markdown",
   "metadata": {},
   "source": [
    "# - Trabalhando com listas."
   ]
  },
  {
   "cell_type": "markdown",
   "metadata": {},
   "source": [
    "## - Como gerar e manipular listas:"
   ]
  },
  {
   "cell_type": "code",
   "execution_count": 18,
   "metadata": {},
   "outputs": [
    {
     "data": {
      "text/plain": [
       "[1, 8, -2, 3, 5, 6]"
      ]
     },
     "execution_count": 18,
     "metadata": {},
     "output_type": "execute_result"
    }
   ],
   "source": [
    "[x for x in [1, 8, -2, 3, 5, 6]]"
   ]
  },
  {
   "cell_type": "code",
   "execution_count": 1,
   "metadata": {},
   "outputs": [
    {
     "data": {
      "text/plain": [
       "[2, 16, -4, 6, 10, 12]"
      ]
     },
     "execution_count": 1,
     "metadata": {},
     "output_type": "execute_result"
    }
   ],
   "source": [
    "[2*x for x in [1, 8, -2, 3, 5, 6]]"
   ]
  },
  {
   "cell_type": "markdown",
   "metadata": {},
   "source": [
    "## - Listas Comprehension"
   ]
  },
  {
   "cell_type": "markdown",
   "metadata": {},
   "source": [
    "- Lista no meio."
   ]
  },
  {
   "cell_type": "code",
   "execution_count": 4,
   "metadata": {},
   "outputs": [
    {
     "data": {
      "text/plain": [
       "[1, 512, -8, 27, 125, 216]"
      ]
     },
     "execution_count": 4,
     "metadata": {},
     "output_type": "execute_result"
    }
   ],
   "source": [
    "[x**3 for x in [1, 8, -2, 3, 5, 6]]"
   ]
  },
  {
   "cell_type": "markdown",
   "metadata": {},
   "source": [
    "- Lista especificada antes."
   ]
  },
  {
   "cell_type": "code",
   "execution_count": 5,
   "metadata": {},
   "outputs": [
    {
     "data": {
      "text/plain": [
       "[512, 125, 216]"
      ]
     },
     "execution_count": 5,
     "metadata": {},
     "output_type": "execute_result"
    }
   ],
   "source": [
    "lista = [1, 8, -2, 3, 5, 6]\n",
    "[x**3 for x in lista if x >3]"
   ]
  },
  {
   "cell_type": "markdown",
   "metadata": {},
   "source": [
    "- Em LaTeX:"
   ]
  },
  {
   "cell_type": "markdown",
   "metadata": {},
   "source": [
    "$ [1, \\frac {1}{2}, \\frac {1}{3}, \\frac {1}{4}, \\frac {1}{5}, \\frac {1}{6}] $"
   ]
  },
  {
   "cell_type": "markdown",
   "metadata": {},
   "source": [
    "- Em Código:"
   ]
  },
  {
   "cell_type": "code",
   "execution_count": 24,
   "metadata": {},
   "outputs": [
    {
     "data": {
      "text/plain": [
       "[1.0, 0.5, 0.3333333333333333, 0.25, 0.2, 0.16666666666666666]"
      ]
     },
     "execution_count": 24,
     "metadata": {},
     "output_type": "execute_result"
    }
   ],
   "source": [
    "[1/n for n in [1, 2, 3, 4, 5, 6]]"
   ]
  },
  {
   "cell_type": "markdown",
   "metadata": {},
   "source": [
    "$1, 4, 9, 16, 25$"
   ]
  },
  {
   "cell_type": "markdown",
   "metadata": {},
   "source": [
    "- Outras listas:"
   ]
  },
  {
   "cell_type": "code",
   "execution_count": 3,
   "metadata": {},
   "outputs": [
    {
     "data": {
      "text/plain": [
       "[0.25, 0.1111111111111111, 0.0625, 0.04000000000000001, 0.027777777777777776]"
      ]
     },
     "execution_count": 3,
     "metadata": {},
     "output_type": "execute_result"
    }
   ],
   "source": [
    "[n**2 for n in [1/2, 1/3, 1/4, 1/5, 1/6]]"
   ]
  },
  {
   "cell_type": "code",
   "execution_count": 26,
   "metadata": {},
   "outputs": [
    {
     "data": {
      "text/plain": [
       "[2.0, 3.0, 4.0, 5.0, 6.0]"
      ]
     },
     "execution_count": 26,
     "metadata": {},
     "output_type": "execute_result"
    }
   ],
   "source": [
    "[1/n for n in [1/2, 1/3, 1/4, 1/5, 1/6]]"
   ]
  },
  {
   "cell_type": "code",
   "execution_count": 27,
   "metadata": {},
   "outputs": [
    {
     "data": {
      "text/plain": [
       "[1, 4, 9]"
      ]
     },
     "execution_count": 27,
     "metadata": {},
     "output_type": "execute_result"
    }
   ],
   "source": [
    "lista = [1,2,3,4,5]\n",
    "[n**2 for n in lista if n <4]"
   ]
  },
  {
   "cell_type": "code",
   "execution_count": 29,
   "metadata": {},
   "outputs": [
    {
     "data": {
      "text/plain": [
       "[1, 4, 9]"
      ]
     },
     "execution_count": 29,
     "metadata": {},
     "output_type": "execute_result"
    }
   ],
   "source": [
    "[n**2 for n in [1,2,3,4,5,6] if n < 4]\n"
   ]
  },
  {
   "cell_type": "markdown",
   "metadata": {},
   "source": [
    "## Listas com Range:"
   ]
  },
  {
   "cell_type": "code",
   "execution_count": 30,
   "metadata": {},
   "outputs": [],
   "source": [
    "import math"
   ]
  },
  {
   "cell_type": "markdown",
   "metadata": {},
   "source": [
    "- O que queremos: $ 1, 4, 9, 16, 25, \\cdots, 10000 $"
   ]
  },
  {
   "cell_type": "code",
   "execution_count": 9,
   "metadata": {},
   "outputs": [
    {
     "name": "stdout",
     "output_type": "stream",
     "text": [
      "9\n",
      "16\n",
      "25\n",
      "36\n",
      "49\n"
     ]
    }
   ],
   "source": [
    "for i in range(3, 8): print(i)"
   ]
  },
  {
   "cell_type": "code",
   "execution_count": 16,
   "metadata": {},
   "outputs": [
    {
     "name": "stdout",
     "output_type": "stream",
     "text": [
      "1\n",
      "4\n",
      "9\n",
      "16\n",
      "25\n",
      "36\n",
      "49\n",
      "64\n",
      "81\n",
      "100\n",
      "121\n",
      "144\n",
      "169\n",
      "196\n",
      "225\n",
      "256\n",
      "289\n",
      "324\n",
      "361\n",
      "400\n",
      "441\n",
      "484\n",
      "529\n",
      "576\n",
      "625\n",
      "676\n",
      "729\n",
      "784\n",
      "841\n",
      "900\n",
      "961\n",
      "1024\n",
      "1089\n",
      "1156\n",
      "1225\n",
      "1296\n",
      "1369\n",
      "1444\n",
      "1521\n",
      "1600\n",
      "1681\n",
      "1764\n",
      "1849\n",
      "1936\n",
      "2025\n",
      "2116\n",
      "2209\n",
      "2304\n",
      "2401\n",
      "2500\n",
      "2601\n",
      "2704\n",
      "2809\n",
      "2916\n",
      "3025\n",
      "3136\n",
      "3249\n",
      "3364\n",
      "3481\n",
      "3600\n",
      "3721\n",
      "3844\n",
      "3969\n",
      "4096\n",
      "4225\n",
      "4356\n",
      "4489\n",
      "4624\n",
      "4761\n",
      "4900\n",
      "5041\n",
      "5184\n",
      "5329\n",
      "5476\n",
      "5625\n",
      "5776\n",
      "5929\n",
      "6084\n",
      "6241\n",
      "6400\n",
      "6561\n",
      "6724\n",
      "6889\n",
      "7056\n",
      "7225\n",
      "7396\n",
      "7569\n",
      "7744\n",
      "7921\n",
      "8100\n",
      "8281\n",
      "8464\n",
      "8649\n",
      "8836\n",
      "9025\n",
      "9216\n",
      "9409\n",
      "9604\n",
      "9801\n",
      "10000\n"
     ]
    }
   ],
   "source": [
    "for i in range (1,101): print(i*i)"
   ]
  },
  {
   "cell_type": "code",
   "execution_count": 11,
   "metadata": {},
   "outputs": [
    {
     "data": {
      "text/plain": [
       "[1,\n",
       " 4,\n",
       " 9,\n",
       " 16,\n",
       " 25,\n",
       " 36,\n",
       " 49,\n",
       " 64,\n",
       " 81,\n",
       " 100,\n",
       " 121,\n",
       " 144,\n",
       " 169,\n",
       " 196,\n",
       " 225,\n",
       " 256,\n",
       " 289,\n",
       " 324,\n",
       " 361,\n",
       " 400,\n",
       " 441,\n",
       " 484,\n",
       " 529,\n",
       " 576,\n",
       " 625,\n",
       " 676,\n",
       " 729,\n",
       " 784,\n",
       " 841,\n",
       " 900,\n",
       " 961,\n",
       " 1024,\n",
       " 1089,\n",
       " 1156,\n",
       " 1225,\n",
       " 1296,\n",
       " 1369,\n",
       " 1444,\n",
       " 1521,\n",
       " 1600,\n",
       " 1681,\n",
       " 1764,\n",
       " 1849,\n",
       " 1936,\n",
       " 2025,\n",
       " 2116,\n",
       " 2209,\n",
       " 2304,\n",
       " 2401,\n",
       " 2500,\n",
       " 2601,\n",
       " 2704,\n",
       " 2809,\n",
       " 2916,\n",
       " 3025,\n",
       " 3136,\n",
       " 3249,\n",
       " 3364,\n",
       " 3481,\n",
       " 3600,\n",
       " 3721,\n",
       " 3844,\n",
       " 3969,\n",
       " 4096,\n",
       " 4225,\n",
       " 4356,\n",
       " 4489,\n",
       " 4624,\n",
       " 4761,\n",
       " 4900,\n",
       " 5041,\n",
       " 5184,\n",
       " 5329,\n",
       " 5476,\n",
       " 5625,\n",
       " 5776,\n",
       " 5929,\n",
       " 6084,\n",
       " 6241,\n",
       " 6400,\n",
       " 6561,\n",
       " 6724,\n",
       " 6889,\n",
       " 7056,\n",
       " 7225,\n",
       " 7396,\n",
       " 7569,\n",
       " 7744,\n",
       " 7921,\n",
       " 8100,\n",
       " 8281,\n",
       " 8464,\n",
       " 8649,\n",
       " 8836,\n",
       " 9025,\n",
       " 9216,\n",
       " 9409,\n",
       " 9604,\n",
       " 9801,\n",
       " 10000]"
      ]
     },
     "execution_count": 11,
     "metadata": {},
     "output_type": "execute_result"
    }
   ],
   "source": [
    "[n**2 for n in range(1, 101)]"
   ]
  },
  {
   "cell_type": "code",
   "execution_count": 14,
   "metadata": {},
   "outputs": [
    {
     "data": {
      "text/plain": [
       "[4,\n",
       " 16,\n",
       " 36,\n",
       " 64,\n",
       " 100,\n",
       " 144,\n",
       " 196,\n",
       " 256,\n",
       " 324,\n",
       " 400,\n",
       " 484,\n",
       " 576,\n",
       " 676,\n",
       " 784,\n",
       " 900,\n",
       " 1024,\n",
       " 1156,\n",
       " 1296,\n",
       " 1444,\n",
       " 1600,\n",
       " 1764,\n",
       " 1936,\n",
       " 2116,\n",
       " 2304,\n",
       " 2500,\n",
       " 2704,\n",
       " 2916,\n",
       " 3136,\n",
       " 3364,\n",
       " 3600,\n",
       " 3844,\n",
       " 4096,\n",
       " 4356,\n",
       " 4624,\n",
       " 4900,\n",
       " 5184,\n",
       " 5476,\n",
       " 5776,\n",
       " 6084,\n",
       " 6400,\n",
       " 6724,\n",
       " 7056,\n",
       " 7396,\n",
       " 7744,\n",
       " 8100,\n",
       " 8464,\n",
       " 8836,\n",
       " 9216,\n",
       " 9604,\n",
       " 10000]"
      ]
     },
     "execution_count": 14,
     "metadata": {},
     "output_type": "execute_result"
    }
   ],
   "source": [
    "[n**2 for n in range(1,101) if n%2 == 0]"
   ]
  },
  {
   "cell_type": "code",
   "execution_count": 19,
   "metadata": {},
   "outputs": [
    {
     "data": {
      "text/plain": [
       "[1.0,\n",
       " 0.25,\n",
       " 0.1111111111111111,\n",
       " 0.0625,\n",
       " 0.04,\n",
       " 0.027777777777777776,\n",
       " 0.02040816326530612,\n",
       " 0.015625,\n",
       " 0.012345679012345678,\n",
       " 0.01,\n",
       " 0.008264462809917356,\n",
       " 0.006944444444444444,\n",
       " 0.005917159763313609,\n",
       " 0.00510204081632653,\n",
       " 0.0044444444444444444,\n",
       " 0.00390625,\n",
       " 0.0034602076124567475,\n",
       " 0.0030864197530864196,\n",
       " 0.002770083102493075,\n",
       " 0.0025,\n",
       " 0.0022675736961451248,\n",
       " 0.002066115702479339,\n",
       " 0.001890359168241966,\n",
       " 0.001736111111111111,\n",
       " 0.0016,\n",
       " 0.0014792899408284023,\n",
       " 0.0013717421124828531,\n",
       " 0.0012755102040816326,\n",
       " 0.0011890606420927466,\n",
       " 0.0011111111111111111,\n",
       " 0.001040582726326743,\n",
       " 0.0009765625,\n",
       " 0.0009182736455463728,\n",
       " 0.0008650519031141869,\n",
       " 0.0008163265306122449,\n",
       " 0.0007716049382716049,\n",
       " 0.0007304601899196494,\n",
       " 0.0006925207756232687,\n",
       " 0.0006574621959237344,\n",
       " 0.000625,\n",
       " 0.000594883997620464,\n",
       " 0.0005668934240362812,\n",
       " 0.0005408328826392645,\n",
       " 0.0005165289256198347,\n",
       " 0.0004938271604938272,\n",
       " 0.0004725897920604915,\n",
       " 0.0004526935264825713,\n",
       " 0.00043402777777777775,\n",
       " 0.00041649312786339027,\n",
       " 0.0004,\n",
       " 0.00038446751249519417,\n",
       " 0.0003698224852071006,\n",
       " 0.000355998576005696,\n",
       " 0.0003429355281207133,\n",
       " 0.00033057851239669424,\n",
       " 0.00031887755102040814,\n",
       " 0.0003077870113881194,\n",
       " 0.00029726516052318666,\n",
       " 0.0002872737719046251,\n",
       " 0.0002777777777777778,\n",
       " 0.0002687449610319806,\n",
       " 0.00026014568158168577,\n",
       " 0.0002519526329050139,\n",
       " 0.000244140625,\n",
       " 0.00023668639053254438,\n",
       " 0.0002295684113865932,\n",
       " 0.00022276676319893073,\n",
       " 0.00021626297577854672,\n",
       " 0.00021003990758244065,\n",
       " 0.00020408163265306123,\n",
       " 0.00019837333862328903,\n",
       " 0.00019290123456790122,\n",
       " 0.00018765246762994934,\n",
       " 0.00018261504747991235,\n",
       " 0.00017777777777777779,\n",
       " 0.00017313019390581717,\n",
       " 0.00016866250632484398,\n",
       " 0.0001643655489809336,\n",
       " 0.0001602307322544464,\n",
       " 0.00015625,\n",
       " 0.00015241579027587258,\n",
       " 0.000148720999405116,\n",
       " 0.00014515894904920887,\n",
       " 0.0001417233560090703,\n",
       " 0.0001384083044982699,\n",
       " 0.00013520822065981613,\n",
       " 0.0001321178491214163,\n",
       " 0.00012913223140495868,\n",
       " 0.00012624668602449185,\n",
       " 0.0001234567901234568,\n",
       " 0.00012075836251660427,\n",
       " 0.00011814744801512288,\n",
       " 0.00011562030292519366,\n",
       " 0.00011317338162064282,\n",
       " 0.00011080332409972299,\n",
       " 0.00010850694444444444,\n",
       " 0.00010628122010840685,\n",
       " 0.00010412328196584757,\n",
       " 0.00010203040506070809,\n",
       " 0.0001]"
      ]
     },
     "execution_count": 19,
     "metadata": {},
     "output_type": "execute_result"
    }
   ],
   "source": [
    "[1/n**2 for n in range( 1, 101)]"
   ]
  },
  {
   "cell_type": "markdown",
   "metadata": {},
   "source": [
    "## - Range sempre deve ser um a mais do valor que se quer trabalhar, por exemplo, se queremos até o 100, o range deve ser até 101."
   ]
  },
  {
   "cell_type": "markdown",
   "metadata": {},
   "source": [
    "# - Iteradores"
   ]
  },
  {
   "cell_type": "code",
   "execution_count": null,
   "metadata": {},
   "outputs": [],
   "source": [
    "[f(x) for x in iterator]"
   ]
  },
  {
   "cell_type": "code",
   "execution_count": 32,
   "metadata": {},
   "outputs": [
    {
     "name": "stdout",
     "output_type": "stream",
     "text": [
      "0\n",
      "1\n",
      "2\n",
      "3\n",
      "4\n",
      "5\n",
      "6\n",
      "7\n",
      "8\n",
      "9\n"
     ]
    }
   ],
   "source": [
    "# iterator é aquilo que aparece depois do 'in' de um 'for'.\n",
    "for i in range(10): print(i)"
   ]
  },
  {
   "cell_type": "markdown",
   "metadata": {},
   "source": [
    "# George Cantor foi o criador da teoria dos conjuntos. Nasceu perto da rússia, mas falava alemão. Pensou em criar um conjunto novo a partir de um já existent, isso ocorreu no século 19;\n"
   ]
  },
  {
   "cell_type": "code",
   "execution_count": null,
   "metadata": {},
   "outputs": [],
   "source": [
    "[n**2 for n in [5, 6, 8]]"
   ]
  },
  {
   "cell_type": "code",
   "execution_count": null,
   "metadata": {},
   "outputs": [],
   "source": [
    "Teoria do Set Builder; Construtor de conjuntos."
   ]
  },
  {
   "cell_type": "code",
   "execution_count": null,
   "metadata": {},
   "outputs": [],
   "source": [
    "{f(x) | x in Set}"
   ]
  },
  {
   "cell_type": "code",
   "execution_count": 33,
   "metadata": {},
   "outputs": [
    {
     "ename": "NameError",
     "evalue": "name 'n' is not defined",
     "output_type": "error",
     "traceback": [
      "\u001b[1;31m---------------------------------------------------------------------------\u001b[0m",
      "\u001b[1;31mNameError\u001b[0m                                 Traceback (most recent call last)",
      "\u001b[1;32m<ipython-input-33-b9be30d210e5>\u001b[0m in \u001b[0;36m<module>\u001b[1;34m\u001b[0m\n\u001b[1;32m----> 1\u001b[1;33m \u001b[1;33m{\u001b[0m\u001b[0mn\u001b[0m\u001b[1;33m**\u001b[0m\u001b[1;36m2\u001b[0m\u001b[1;33m|\u001b[0m\u001b[0mn\u001b[0m \u001b[1;32min\u001b[0m \u001b[0mZ\u001b[0m\u001b[1;33m,\u001b[0m \u001b[1;36m1\u001b[0m \u001b[1;33m<=\u001b[0m \u001b[0mn\u001b[0m \u001b[1;33m<=\u001b[0m \u001b[1;36m100\u001b[0m\u001b[1;33m}\u001b[0m\u001b[1;33m\u001b[0m\u001b[1;33m\u001b[0m\u001b[0m\n\u001b[0m",
      "\u001b[1;31mNameError\u001b[0m: name 'n' is not defined"
     ]
    }
   ],
   "source": [
    "{n**2|n in Z, 1 <= n <= 100}"
   ]
  },
  {
   "cell_type": "markdown",
   "metadata": {},
   "source": [
    "# Nona Aula - 21/03/2019"
   ]
  },
  {
   "cell_type": "markdown",
   "metadata": {},
   "source": [
    "## - Sequências, Somatórios e Limites"
   ]
  },
  {
   "cell_type": "code",
   "execution_count": 1,
   "metadata": {},
   "outputs": [],
   "source": [
    "import math"
   ]
  },
  {
   "cell_type": "markdown",
   "metadata": {},
   "source": [
    "- Sequências:"
   ]
  },
  {
   "cell_type": "markdown",
   "metadata": {},
   "source": [
    "$[ 1, \\frac {1}{2}, \\frac {1}{3}, \\frac {1}{4}, \\cdots, \\frac {1}{n}]$ :\n",
    "  $an = \\frac {1}{n}$"
   ]
  },
  {
   "cell_type": "markdown",
   "metadata": {},
   "source": [
    "$[\\frac {1}{2^0} , \\frac {1}{2^1}, \\frac {1}{4}, \\frac {1}{8}, \\frac{1}{16}, \\cdots]$ :\n",
    "  $an = \\frac {1}{2^n}$"
   ]
  },
  {
   "cell_type": "markdown",
   "metadata": {},
   "source": [
    "- Somatório proporciona uma forma mais simples de representar uma soma."
   ]
  },
  {
   "cell_type": "markdown",
   "metadata": {},
   "source": [
    "$$\\sum_{n=0}^{4} \\frac{1}{n}$$"
   ]
  },
  {
   "cell_type": "markdown",
   "metadata": {},
   "source": [
    "- Intervalo fehado = Limite faz parte da sequência, viden."
   ]
  },
  {
   "cell_type": "markdown",
   "metadata": {},
   "source": [
    "# - Leonard Euler, nasceu na Suiça, em uma cidade onde nasceram uma família de matemáticos. Morreu em São Petesburgo de catarata. (Teorias de sequências)"
   ]
  },
  {
   "cell_type": "markdown",
   "metadata": {},
   "source": [
    "- Sequência de Somas:"
   ]
  },
  {
   "cell_type": "markdown",
   "metadata": {},
   "source": [
    "$ 1 + \\frac {1}{2} + \\frac {1}{3}, \\frac {1}{4} + \\cdots + \\frac {1}{M} $"
   ]
  },
  {
   "cell_type": "markdown",
   "metadata": {},
   "source": [
    "$ s1 = 1$\n",
    "$ s2 = 1 + \\frac {1}{2}$\n",
    "$ s3 = 1 +\\frac {1}{2} + \\frac {1}{3}$\n",
    "$ sn = 1 +\\frac {1}{2} + \\frac {1}{3 + \\cdots + \\frac {1}{M}}$"
   ]
  },
  {
   "cell_type": "markdown",
   "metadata": {},
   "source": [
    "$[s1, s2, s3, s4]$"
   ]
  },
  {
   "cell_type": "markdown",
   "metadata": {},
   "source": [
    "Desafios:"
   ]
  },
  {
   "cell_type": "markdown",
   "metadata": {},
   "source": [
    "$1 + \\frac {1}{2} + \\frac {1}{4} + \\frac {1}{8} + \\frac {1}{16} + \\cdots$"
   ]
  },
  {
   "cell_type": "markdown",
   "metadata": {},
   "source": [
    "## A - Escrever em formato de somatório."
   ]
  },
  {
   "cell_type": "markdown",
   "metadata": {},
   "source": [
    "## B - Usando a \"LIST COMPREHENSION\", dado M, gerar $1 + \\frac {1}{2} + \\frac {1}{4} + \\frac {1}{8} + \\frac {1}{16} + \\cdots, \\frac {1}{2^n}$"
   ]
  },
  {
   "cell_type": "markdown",
   "metadata": {},
   "source": [
    "## C- Dado M,escrever um programa Python que calcule $1 + \\frac {1}{2} + \\frac {1}{4} + \\frac {1}{8} + \\frac {1}{16} + \\cdots, \\frac {1}{2^n}$"
   ]
  },
  {
   "cell_type": "markdown",
   "metadata": {},
   "source": [
    "# $\\sum_{k=1}^{n}{1 \\over 2^k} = {1 \\over 2} + {1 \\over 4} + {1 \\over 8} + \\cdots$"
   ]
  },
  {
   "cell_type": "markdown",
   "metadata": {},
   "source": [
    "# $\\lim_{ n \\rightarrow \\infty} {1 \\over n} = 0$"
   ]
  },
  {
   "cell_type": "code",
   "execution_count": 6,
   "metadata": {},
   "outputs": [],
   "source": [
    "def geraFrac(n):\n",
    "    return [1/2**n for n in range(0, n)]"
   ]
  },
  {
   "cell_type": "code",
   "execution_count": 5,
   "metadata": {},
   "outputs": [
    {
     "data": {
      "text/plain": [
       "[1.0,\n",
       " 0.5,\n",
       " 0.25,\n",
       " 0.125,\n",
       " 0.0625,\n",
       " 0.03125,\n",
       " 0.015625,\n",
       " 0.0078125,\n",
       " 0.00390625,\n",
       " 0.001953125,\n",
       " 0.0009765625]"
      ]
     },
     "execution_count": 5,
     "metadata": {},
     "output_type": "execute_result"
    }
   ],
   "source": [
    "geraFrac(10)"
   ]
  },
  {
   "cell_type": "code",
   "execution_count": 15,
   "metadata": {},
   "outputs": [],
   "source": [
    "def sumFrac(n):\n",
    "    soma = 0\n",
    "    for termo in geraFrac(n):\n",
    "        soma = soma + termo\n",
    "    return soma\n",
    "    "
   ]
  },
  {
   "cell_type": "code",
   "execution_count": 16,
   "metadata": {},
   "outputs": [
    {
     "data": {
      "text/plain": [
       "1.998046875"
      ]
     },
     "execution_count": 16,
     "metadata": {},
     "output_type": "execute_result"
    }
   ],
   "source": [
    "sumFrac(10)"
   ]
  },
  {
   "cell_type": "markdown",
   "metadata": {},
   "source": [
    "## -- DESAFIO CONCLUÍDO"
   ]
  },
  {
   "cell_type": "markdown",
   "metadata": {},
   "source": [
    "# - Primeira Lista de exercícios"
   ]
  },
  {
   "cell_type": "markdown",
   "metadata": {},
   "source": [
    "## 1- Considerando a sequência: [$ 1 + \\frac {1}{2} + \\frac {1}{3}, \\frac {1}{4} + \\cdots + \\frac {1}{M}, \\cdots $] , explane:\n",
    "\n",
    "   - # $\\lim_{ n \\rightarrow \\infty} {1 \\over n} = ?$\n",
    "     - RESPOSTA: $\\lim_{ n \\rightarrow \\infty} {1 \\over n} = 0$\n",
    "   - # Uma função que dado n, calcule o somatório:  $\\sum_{k=1}^{n}{1 \\over k}$\n",
    "   - # $\\lim_{ n \\rightarrow \\infty} ({\\sum_{k=1}^{n}{1 \\over k}}) = ?$\n",
    "    -  $\\lim_{ n \\rightarrow \\infty} ({\\sum_{k=1}^{n}{1 \\over k}}) = {\\infty}$"
   ]
  },
  {
   "cell_type": "markdown",
   "metadata": {},
   "source": [
    "# - 2ª Bolinha:"
   ]
  },
  {
   "cell_type": "code",
   "execution_count": 48,
   "metadata": {},
   "outputs": [],
   "source": [
    "def somaEx(n):\n",
    "    soma = 0\n",
    "    for i in [1/n for n in range (1, n+1)]:\n",
    "        soma = soma + i\n",
    "    return soma"
   ]
  },
  {
   "cell_type": "code",
   "execution_count": 52,
   "metadata": {},
   "outputs": [
    {
     "data": {
      "text/plain": [
       "1.5"
      ]
     },
     "execution_count": 52,
     "metadata": {},
     "output_type": "execute_result"
    }
   ],
   "source": [
    "somaEx(2)"
   ]
  },
  {
   "cell_type": "markdown",
   "metadata": {},
   "source": [
    "## 2- Escreva uma função em Python para cada um dos itens a seguir:\n",
    "\n",
    "   - # Dado n, multiplique:\n",
    "        - # $1 \\times 2 \\times 3, \\cdots, \\times  n$\n",
    "   - # Dado n, calcule o fatorial de n.\n",
    "   - # Dado n, gere a sequência:\n",
    "        - # 1 . $ 1, \\frac {1} {1!} . \\frac {1} {2!} . \\frac {1} {3!} . \\frac {1} {4!} . \\cdots . \\frac {1} {n!}$\n",
    "   - # Calcule o número $e$ (número de Euler, a base dos logaritmos neperianos), dada a quantidade n de parcelas.\n",
    "      - # $e = 1, \\frac {1} {1!} . \\frac {1} {2!} . \\frac {1} {3!} . \\frac {1} {4!} . \\cdots . \\frac {1} {n!}$"
   ]
  },
  {
   "cell_type": "markdown",
   "metadata": {},
   "source": [
    "# - 1ª e 2ª Bolinha:"
   ]
  },
  {
   "cell_type": "code",
   "execution_count": 1,
   "metadata": {},
   "outputs": [],
   "source": [
    "def mplEx(n):\n",
    "    mpl = 1\n",
    "    for i in range (1, n+1):\n",
    "        mpl = mpl * i\n",
    "    return mpl"
   ]
  },
  {
   "cell_type": "code",
   "execution_count": 2,
   "metadata": {},
   "outputs": [
    {
     "data": {
      "text/plain": [
       "120"
      ]
     },
     "execution_count": 2,
     "metadata": {},
     "output_type": "execute_result"
    }
   ],
   "source": [
    "mplEx(5)"
   ]
  },
  {
   "cell_type": "code",
   "execution_count": 3,
   "metadata": {},
   "outputs": [],
   "source": [
    "def geraFracEx(i):\n",
    "    return [1/1*i for i in mplEx(i)]"
   ]
  },
  {
   "cell_type": "code",
   "execution_count": 4,
   "metadata": {},
   "outputs": [
    {
     "ename": "TypeError",
     "evalue": "'int' object is not iterable",
     "output_type": "error",
     "traceback": [
      "\u001b[1;31m---------------------------------------------------------------------------\u001b[0m",
      "\u001b[1;31mTypeError\u001b[0m                                 Traceback (most recent call last)",
      "\u001b[1;32m<ipython-input-4-79b706d1ba88>\u001b[0m in \u001b[0;36m<module>\u001b[1;34m\u001b[0m\n\u001b[1;32m----> 1\u001b[1;33m \u001b[0mgeraFracEx\u001b[0m\u001b[1;33m(\u001b[0m\u001b[1;36m5\u001b[0m\u001b[1;33m)\u001b[0m\u001b[1;33m\u001b[0m\u001b[1;33m\u001b[0m\u001b[0m\n\u001b[0m",
      "\u001b[1;32m<ipython-input-3-4c486a064ddc>\u001b[0m in \u001b[0;36mgeraFracEx\u001b[1;34m(i)\u001b[0m\n\u001b[0;32m      1\u001b[0m \u001b[1;32mdef\u001b[0m \u001b[0mgeraFracEx\u001b[0m\u001b[1;33m(\u001b[0m\u001b[0mi\u001b[0m\u001b[1;33m)\u001b[0m\u001b[1;33m:\u001b[0m\u001b[1;33m\u001b[0m\u001b[1;33m\u001b[0m\u001b[0m\n\u001b[1;32m----> 2\u001b[1;33m     \u001b[1;32mreturn\u001b[0m \u001b[1;33m[\u001b[0m\u001b[1;36m1\u001b[0m\u001b[1;33m/\u001b[0m\u001b[1;36m1\u001b[0m\u001b[1;33m*\u001b[0m\u001b[0mi\u001b[0m \u001b[1;32mfor\u001b[0m \u001b[0mi\u001b[0m \u001b[1;32min\u001b[0m \u001b[0mmplEx\u001b[0m\u001b[1;33m(\u001b[0m\u001b[0mi\u001b[0m\u001b[1;33m)\u001b[0m\u001b[1;33m]\u001b[0m\u001b[1;33m\u001b[0m\u001b[1;33m\u001b[0m\u001b[0m\n\u001b[0m",
      "\u001b[1;31mTypeError\u001b[0m: 'int' object is not iterable"
     ]
    }
   ],
   "source": [
    "geraFracEx(5)"
   ]
  },
  {
   "cell_type": "code",
   "execution_count": 163,
   "metadata": {},
   "outputs": [],
   "source": [
    "def fatFrac(n):\n",
    "    mpl = 1\n",
    "    for i in range (1, n+1): \n",
    "        mpl = mpl * i\n",
    "    return [1/mpl for mpl in range(1, n+1)]\n",
    " \n",
    "    "
   ]
  },
  {
   "cell_type": "code",
   "execution_count": 164,
   "metadata": {},
   "outputs": [
    {
     "data": {
      "text/plain": [
       "[1.0, 0.5, 0.3333333333333333]"
      ]
     },
     "execution_count": 164,
     "metadata": {},
     "output_type": "execute_result"
    }
   ],
   "source": [
    "fatFrac(3)"
   ]
  },
  {
   "cell_type": "code",
   "execution_count": 167,
   "metadata": {},
   "outputs": [],
   "source": [
    "def e(i):\n",
    "    mpl = 1\n",
    "    for i in fatFrac(i): \n",
    "        mpl = mpl * i\n",
    "    return mpl\n",
    "  "
   ]
  },
  {
   "cell_type": "code",
   "execution_count": 169,
   "metadata": {},
   "outputs": [
    {
     "data": {
      "text/plain": [
       "0.16666666666666666"
      ]
     },
     "execution_count": 169,
     "metadata": {},
     "output_type": "execute_result"
    }
   ],
   "source": [
    "e(3)"
   ]
  },
  {
   "cell_type": "markdown",
   "metadata": {},
   "source": [
    "#  - TAREFA CONCLUÍDA"
   ]
  },
  {
   "cell_type": "markdown",
   "metadata": {},
   "source": [
    "# Décima aula - 27/03/2019"
   ]
  },
  {
   "cell_type": "markdown",
   "metadata": {},
   "source": [
    "## - Funções e Plotagem de Funções"
   ]
  },
  {
   "cell_type": "code",
   "execution_count": 3,
   "metadata": {},
   "outputs": [],
   "source": [
    "from matplotlib import pyplot as plt\n",
    "import numpy as np"
   ]
  },
  {
   "cell_type": "code",
   "execution_count": 4,
   "metadata": {},
   "outputs": [
    {
     "data": {
      "image/png": "[encoded data removed]",
      "text/plain": [
       "<Figure size 432x288 with 1 Axes>"
      ]
     },
     "metadata": {
      "needs_background": "light"
     },
     "output_type": "display_data"
    }
   ],
   "source": [
    "X = np.linspace(-4, 4, 100)\n",
    "r1 = 2*X #reta\n",
    "q2 = X**2 #parabola\n",
    "c3 = X**3-16 #sin\n",
    "\n",
    "plt.plot (X, r1, color=\"red\", linestyle=\"-\", linewidth=4, label=\"Reta\")\n",
    "plt.plot (X, q2, color=\"blue\", linestyle=\"--\", linewidth=3, label=\"Reta\") #ola\n",
    "plt.plot (X, c3, color=\"green\", linestyle=\"-\", linewidth=2, label=\"Reta\")\n",
    "plt.savefig(\"exemplo1.png\", dpi=1080)\n",
    "plt.show()"
   ]
  },
  {
   "cell_type": "markdown",
   "metadata": {},
   "source": [
    "## - Isso possibilita com que uma função seja aplicada a todos os valores do intervalo, no caso \"f(x)=2x\""
   ]
  },
  {
   "cell_type": "markdown",
   "metadata": {},
   "source": [
    "### Rene Descartes criou o sistema de coordenadas cartesianas. A matematica como se e escrita atualmente ($y=x^3+4x-1$) foi simplificada por ele.Nao ha coisa mais igual do que duas retas paralelas, por isso o uso do \"=\"."
   ]
  },
  {
   "cell_type": "markdown",
   "metadata": {},
   "source": [
    "# Décima Primeira Aula - 28/03/2019"
   ]
  },
  {
   "cell_type": "markdown",
   "metadata": {},
   "source": [
    "### - Apresentação do Plano de Ensino"
   ]
  },
  {
   "cell_type": "markdown",
   "metadata": {},
   "source": [
    "## - Limite de Funções"
   ]
  },
  {
   "cell_type": "markdown",
   "metadata": {},
   "source": [
    "# $$\\lim_{x \\to 1} \\frac{x - 1}{x^2-1}$$"
   ]
  },
  {
   "cell_type": "markdown",
   "metadata": {},
   "source": [
    "## - Soma de uma função e sua representação em somatório. ***IMPORTANTE.***"
   ]
  },
  {
   "cell_type": "markdown",
   "metadata": {},
   "source": [
    "# Sm = $1 + \\frac {1}{2} + \\frac {1}{3} + \\cdots + \\frac {1}{2^n}$ = $\\sum_{R=0}^{M}$ $\\frac {1}{2^R}$"
   ]
  },
  {
   "cell_type": "markdown",
   "metadata": {},
   "source": [
    "# Exercício em aula, usar a função abaixo e:\n",
    "    - Definir a função.\n",
    "    - Lista de valores que tendem pra 1.\n",
    "    - Analisar os valores de Y."
   ]
  },
  {
   "cell_type": "markdown",
   "metadata": {},
   "source": [
    "# $f(x)= \\frac {x-1}{x^2-1}$"
   ]
  },
  {
   "cell_type": "code",
   "execution_count": 15,
   "metadata": {},
   "outputs": [],
   "source": [
    "listaEx=[0.1, 0.2, 0.3, 0.4, 0.5, 0.6, 0.7, 0.8, 0.9]"
   ]
  },
  {
   "cell_type": "code",
   "execution_count": 34,
   "metadata": {},
   "outputs": [],
   "source": [
    "def esquentaEX(n):\n",
    "    return (n-1)/(n**2-1)"
   ]
  },
  {
   "cell_type": "code",
   "execution_count": 36,
   "metadata": {},
   "outputs": [
    {
     "name": "stdout",
     "output_type": "stream",
     "text": [
      "0.9090909090909092\n",
      "0.8333333333333334\n",
      "0.7692307692307692\n",
      "0.7142857142857143\n",
      "0.6666666666666666\n",
      "0.625\n",
      "0.5882352941176472\n",
      "0.5555555555555556\n",
      "0.5263157894736843\n"
     ]
    }
   ],
   "source": [
    "for i in [0.1, 0.2, 0.3, 0.4, 0.5, 0.6, 0.7, 0.8, 0.9]:\n",
    "    print(esquentaEX(i))"
   ]
  },
  {
   "cell_type": "markdown",
   "metadata": {},
   "source": [
    "# - Faça o mesmo com o de baixo:"
   ]
  },
  {
   "cell_type": "markdown",
   "metadata": {},
   "source": [
    "# $$\\lim_{t \\to 0} \\frac{\\sqrt{t^2 + 9} -3}{t^2}$$"
   ]
  },
  {
   "cell_type": "code",
   "execution_count": 95,
   "metadata": {},
   "outputs": [],
   "source": [
    "def Ex(t):\n",
    "    return ((math.sqrt(t**2+9)-3 ) / t**2)"
   ]
  },
  {
   "cell_type": "code",
   "execution_count": 42,
   "metadata": {},
   "outputs": [
    {
     "data": {
      "text/plain": [
       "0.16227766016837952"
      ]
     },
     "execution_count": 42,
     "metadata": {},
     "output_type": "execute_result"
    }
   ],
   "source": [
    "Ex(1)"
   ]
  },
  {
   "cell_type": "code",
   "execution_count": 44,
   "metadata": {},
   "outputs": [
    {
     "name": "stdout",
     "output_type": "stream",
     "text": [
      "9.449795943468102\n",
      "8.49712874531753\n",
      "7.55454861606799\n",
      "6.624870599166036\n",
      "5.710951894845301\n",
      "4.8125\n",
      "3.9093073537859513\n",
      "2.855551275463989\n",
      "0.16227766016837952\n"
     ]
    }
   ],
   "source": [
    "for i in [-9, -8, -7, -6, -5, -4, -3, -2, -1]:\n",
    "    print (Ex(i))"
   ]
  },
  {
   "cell_type": "markdown",
   "metadata": {},
   "source": [
    "# - Outro Jeito"
   ]
  },
  {
   "cell_type": "code",
   "execution_count": 64,
   "metadata": {},
   "outputs": [],
   "source": [
    "def listaVals(lst):\n",
    "    temp = []\n",
    "    for e in lst:\n",
    "        temp = temp + [Ex(e)]\n",
    "    return temp"
   ]
  },
  {
   "cell_type": "code",
   "execution_count": 52,
   "metadata": {},
   "outputs": [
    {
     "data": {
      "text/plain": [
       "[9.449795943468102,\n",
       " 8.49712874531753,\n",
       " 7.55454861606799,\n",
       " 6.624870599166036,\n",
       " 5.710951894845301,\n",
       " 4.8125,\n",
       " 3.9093073537859513,\n",
       " 3.9093073537859513,\n",
       " 2.855551275463989,\n",
       " 0.16227766016837952]"
      ]
     },
     "execution_count": 52,
     "metadata": {},
     "output_type": "execute_result"
    }
   ],
   "source": [
    "listaVals([-9, -8, -7, -6, -5, -4, -3, -3, -2, -1])"
   ]
  },
  {
   "cell_type": "markdown",
   "metadata": {},
   "source": [
    "## - Note que ainda depende da função \"Ex\"."
   ]
  },
  {
   "cell_type": "code",
   "execution_count": 82,
   "metadata": {},
   "outputs": [],
   "source": [
    "import numpy as np\n",
    "#def listaValsTESTE(x,y):\n",
    "    temp = []\n",
    "    for e in np.arange(x,y):\n",
    "        #temp = temp + [Ex(e)]\n",
    "        temp.append(temp + [Ex(10)])\n",
    "    return temp"
   ]
  },
  {
   "cell_type": "code",
   "execution_count": 83,
   "metadata": {},
   "outputs": [
    {
     "data": {
      "text/plain": [
       "[]"
      ]
     },
     "execution_count": 83,
     "metadata": {},
     "output_type": "execute_result"
    }
   ],
   "source": [
    "listaValsTESTE(500,0.0001)"
   ]
  },
  {
   "cell_type": "code",
   "execution_count": 96,
   "metadata": {},
   "outputs": [],
   "source": [
    "def listaValsTESTE(x,y):\n",
    "    temp = []\n",
    "    for e in range(x,y,-1):\n",
    "        r= e/1000\n",
    "        temp = temp + [Ex(r)]\n",
    "    return temp"
   ]
  },
  {
   "cell_type": "code",
   "execution_count": 97,
   "metadata": {},
   "outputs": [
    {
     "data": {
      "text/plain": [
       "[0.16552506059643868,\n",
       " 0.1655295606291484,\n",
       " 0.16553405213905764,\n",
       " 0.16553853512334715,\n",
       " 0.16554300957918894,\n",
       " 0.16554747550377322,\n",
       " 0.16555193289428738,\n",
       " 0.16555638174792173,\n",
       " 0.16556082206187858,\n",
       " 0.1655652538333585,\n",
       " 0.16556967705956926,\n",
       " 0.16557409173772475,\n",
       " 0.16557849786504136,\n",
       " 0.16558289543873841,\n",
       " 0.16558728445604778,\n",
       " 0.1655916649141974,\n",
       " 0.16559603681042476,\n",
       " 0.16560040014196958,\n",
       " 0.16560475490608195,\n",
       " 0.1656091011000072,\n",
       " 0.16561343872100168,\n",
       " 0.1656177677663292,\n",
       " 0.1656220882332517,\n",
       " 0.16562640011904134,\n",
       " 0.165630703420969,\n",
       " 0.16563499813631832,\n",
       " 0.16563928426237057,\n",
       " 0.16564356179641648,\n",
       " 0.16564783073575087,\n",
       " 0.165652091077671,\n",
       " 0.16565634281948075,\n",
       " 0.16566058595848915,\n",
       " 0.1656648204920085,\n",
       " 0.1656690464173612,\n",
       " 0.16567326373186533,\n",
       " 0.1656774724328517,\n",
       " 0.16568167251765176,\n",
       " 0.16568586398360416,\n",
       " 0.16569004682805313,\n",
       " 0.16569422104834242,\n",
       " 0.1656983866418283,\n",
       " 0.16570254360586514,\n",
       " 0.1657066919378165,\n",
       " 0.16571083163505318,\n",
       " 0.1657149626949409,\n",
       " 0.16571908511485986,\n",
       " 0.16572319889219217,\n",
       " 0.16572730402432675,\n",
       " 0.16573140050865076,\n",
       " 0.16573548834256532,\n",
       " 0.1657395675234706,\n",
       " 0.16574363804877276,\n",
       " 0.1657476999158842,\n",
       " 0.16575175312221974,\n",
       " 0.16575579766520562,\n",
       " 0.1657598335422622,\n",
       " 0.1657638607508289,\n",
       " 0.16576787928833314,\n",
       " 0.16577188915222443,\n",
       " 0.16577589033994558,\n",
       " 0.16577988284894865,\n",
       " 0.16578386667668865,\n",
       " 0.1657878418206309,\n",
       " 0.1657918082782396,\n",
       " 0.1657957660469855,\n",
       " 0.165799715124346,\n",
       " 0.16580365550780563,\n",
       " 0.16580758719484712,\n",
       " 0.16581151018296345,\n",
       " 0.16581542446965353,\n",
       " 0.16581933005241792,\n",
       " 0.16582322692876147,\n",
       " 0.16582711509619857,\n",
       " 0.16583099455224393,\n",
       " 0.16583486529442254,\n",
       " 0.16583872732026053,\n",
       " 0.1658425806272902,\n",
       " 0.16584642521304827,\n",
       " 0.1658502610750783,\n",
       " 0.16585408821092662,\n",
       " 0.1658579066181448,\n",
       " 0.16586171629429536,\n",
       " 0.16586551723693693,\n",
       " 0.1658693094436372,\n",
       " 0.16587309291197103,\n",
       " 0.16587686763951548,\n",
       " 0.16588063362385552,\n",
       " 0.16588439086257933,\n",
       " 0.16588813935327842,\n",
       " 0.16589187909355088,\n",
       " 0.16589561008100703,\n",
       " 0.1658993323132487,\n",
       " 0.16590304578789342,\n",
       " 0.1659067505025589,\n",
       " 0.16591044645487152,\n",
       " 0.16591413364246138,\n",
       " 0.1659178120629599,\n",
       " 0.16592148171401122,\n",
       " 0.16592514259325886,\n",
       " 0.16592879469834898,\n",
       " 0.16593243802694443,\n",
       " 0.16593607257670337,\n",
       " 0.16593969834529038,\n",
       " 0.16594331533037718,\n",
       " 0.16594692352963733,\n",
       " 0.1659505229407607,\n",
       " 0.16595411356142872,\n",
       " 0.16595769538933142,\n",
       " 0.16596126842216802,\n",
       " 0.1659648326576448,\n",
       " 0.1659683880934636,\n",
       " 0.16597193472733685,\n",
       " 0.165975472556991,\n",
       " 0.16597900158014356,\n",
       " 0.16598252179452402,\n",
       " 0.16598603319786545,\n",
       " 0.16598953578791087,\n",
       " 0.1659930295623988,\n",
       " 0.16599651451908784,\n",
       " 0.16599999065572352,\n",
       " 0.16600345797006952,\n",
       " 0.16600691645989565,\n",
       " 0.16601036612296924,\n",
       " 0.16601380695706794,\n",
       " 0.1660172389599675,\n",
       " 0.16602066212946434,\n",
       " 0.16602407646334466,\n",
       " 0.16602748195940986,\n",
       " 0.16603087861545826,\n",
       " 0.16603426642930127,\n",
       " 0.1660376453987511,\n",
       " 0.1660410155216245,\n",
       " 0.16604437679574974,\n",
       " 0.16604772921895053,\n",
       " 0.16605107278906978,\n",
       " 0.16605440750394018,\n",
       " 0.16605773336141114,\n",
       " 0.16606105035933288,\n",
       " 0.16606435849556328,\n",
       " 0.1660676577679584,\n",
       " 0.16607094817439325,\n",
       " 0.16607422971273167,\n",
       " 0.1660775023808575,\n",
       " 0.16608076617665116,\n",
       " 0.1660840210980002,\n",
       " 0.1660872671428036,\n",
       " 0.16609050430895472,\n",
       " 0.16609373259435897,\n",
       " 0.16609695199693128,\n",
       " 0.16610016251458207,\n",
       " 0.16610336414523574,\n",
       " 0.16610655688681303,\n",
       " 0.16610974073725335,\n",
       " 0.16611291569448988,\n",
       " 0.16611608175646075,\n",
       " 0.1661192389211246,\n",
       " 0.1661223871864238,\n",
       " 0.16612552655032223,\n",
       " 0.16612865701078738,\n",
       " 0.1661317785657828,\n",
       " 0.1661348912132879,\n",
       " 0.16613799495128315,\n",
       " 0.16614108977775044,\n",
       " 0.1661441756906893,\n",
       " 0.16614725268808603,\n",
       " 0.1661503207679575,\n",
       " 0.16615337992829649,\n",
       " 0.16615643016712336,\n",
       " 0.16615947148245927,\n",
       " 0.1661625038723263,\n",
       " 0.16616552733475617,\n",
       " 0.16616854186777855,\n",
       " 0.1661715474694419,\n",
       " 0.16617454413778973,\n",
       " 0.16617753187087309,\n",
       " 0.16618051066675132,\n",
       " 0.16618348052348425,\n",
       " 0.1661864414391409,\n",
       " 0.16618939341179612,\n",
       " 0.166192336439531,\n",
       " 0.16619527052043337,\n",
       " 0.16619819565258548,\n",
       " 0.16620111183409042,\n",
       " 0.16620401906304672,\n",
       " 0.16620691733756632,\n",
       " 0.16620980665575297,\n",
       " 0.16621268701573402,\n",
       " 0.16621555841562516,\n",
       " 0.16621842085356237,\n",
       " 0.16622127432768016,\n",
       " 0.1662241188361117,\n",
       " 0.16622695437701263,\n",
       " 0.1662297809485338,\n",
       " 0.16623259854882666,\n",
       " 0.16623540717605745,\n",
       " 0.16623820682839882,\n",
       " 0.1662409975040159,\n",
       " 0.16624377920109076,\n",
       " 0.16624655191781343,\n",
       " 0.16624931565237294,\n",
       " 0.16625207040296747,\n",
       " 0.16625481616779522,\n",
       " 0.1662575529450647,\n",
       " 0.16626028073299048,\n",
       " 0.16626299952978885,\n",
       " 0.1662657093336883,\n",
       " 0.16626841014292026,\n",
       " 0.16627110195570913,\n",
       " 0.1662737847703142,\n",
       " 0.16627645858496312,\n",
       " 0.16627912339792497,\n",
       " 0.16628177920745396,\n",
       " 0.16628442601180493,\n",
       " 0.16628706380926128,\n",
       " 0.16628969259809254,\n",
       " 0.16629231237657088,\n",
       " 0.16629492314299923,\n",
       " 0.16629752489565724,\n",
       " 0.16630011763284552,\n",
       " 0.16630270135287561,\n",
       " 0.16630527605404846,\n",
       " 0.16630784173467664,\n",
       " 0.1663103983930916,\n",
       " 0.16631294602760965,\n",
       " 0.16631548463656706,\n",
       " 0.1663180142183034,\n",
       " 0.16632053477115638,\n",
       " 0.16632304629348607,\n",
       " 0.16632554878363398,\n",
       " 0.1663280422399774,\n",
       " 0.16633052666086406,\n",
       " 0.16633300204467294,\n",
       " 0.16633546838977875,\n",
       " 0.16633792569457723,\n",
       " 0.16634037395744852,\n",
       " 0.16634281317678895,\n",
       " 0.16634524335099915,\n",
       " 0.16634766447847832,\n",
       " 0.16635007655765058,\n",
       " 0.16635247958692717,\n",
       " 0.16635487356473275,\n",
       " 0.16635725848949326,\n",
       " 0.1663596343596496,\n",
       " 0.16636200117364533,\n",
       " 0.16636435892991375,\n",
       " 0.16636670762692565,\n",
       " 0.16636904726311574,\n",
       " 0.16637137783697173,\n",
       " 0.16637369934694599,\n",
       " 0.1663760117915254,\n",
       " 0.1663783151691831,\n",
       " 0.16638060947840738,\n",
       " 0.16638289471769538,\n",
       " 0.16638517088553945,\n",
       " 0.16638743798044958,\n",
       " 0.1663896960009322,\n",
       " 0.16639194494550563,\n",
       " 0.1663941848126935,\n",
       " 0.1663964156010179,\n",
       " 0.16639863730900742,\n",
       " 0.16640084993522117,\n",
       " 0.1664030534781805,\n",
       " 0.16640524793645425,\n",
       " 0.16640743330858207,\n",
       " 0.1664096095931377,\n",
       " 0.16641177678869054,\n",
       " 0.16641393489380615,\n",
       " 0.16641608390707924,\n",
       " 0.16641822382707766,\n",
       " 0.16642035465240018,\n",
       " 0.16642247638164462,\n",
       " 0.16642458901341692,\n",
       " 0.16642669254631492,\n",
       " 0.16642878697897165,\n",
       " 0.1664308723099966,\n",
       " 0.16643294853801016,\n",
       " 0.16643501566166255,\n",
       " 0.16643707367956423,\n",
       " 0.1664391225903926,\n",
       " 0.1664411623927686,\n",
       " 0.16644319308537373,\n",
       " 0.16644521466685167,\n",
       " 0.16644722713586313,\n",
       " 0.16644923049110602,\n",
       " 0.16645122473124171,\n",
       " 0.1664532098549515,\n",
       " 0.16645518586094765,\n",
       " 0.16645715274791703,\n",
       " 0.16645911051454992,\n",
       " 0.16646105915956064,\n",
       " 0.16646299868167946,\n",
       " 0.16646492907961302,\n",
       " 0.16646685035208508,\n",
       " 0.16646876249783782,\n",
       " 0.16647066551560194,\n",
       " 0.16647255940411784,\n",
       " 0.16647444416214743,\n",
       " 0.16647631978844343,\n",
       " 0.16647818628176045,\n",
       " 0.16648004364086663,\n",
       " 0.16648189186453385,\n",
       " 0.166483730951561,\n",
       " 0.16648556090070796,\n",
       " 0.16648738171078586,\n",
       " 0.16648919338057933,\n",
       " 0.16649099590889263,\n",
       " 0.16649278929453926,\n",
       " 0.16649457353634334,\n",
       " 0.1664963486331045,\n",
       " 0.16649811458367036,\n",
       " 0.16649987138684127,\n",
       " 0.16650161904150523,\n",
       " 0.16650335754646736,\n",
       " 0.1665050869005857,\n",
       " 0.16650680710273633,\n",
       " 0.1665085181517501,\n",
       " 0.16651022004652888,\n",
       " 0.16651191278591757,\n",
       " 0.16651359636883561,\n",
       " 0.16651527079411937,\n",
       " 0.166516936060696,\n",
       " 0.166518592167451,\n",
       " 0.16652023911329647,\n",
       " 0.1665218768971308,\n",
       " 0.16652350551788161,\n",
       " 0.16652512497446473,\n",
       " 0.16652673526581335,\n",
       " 0.16652833639085038,\n",
       " 0.16652992834853333,\n",
       " 0.16653151113779643,\n",
       " 0.16653308475759618,\n",
       " 0.1665346492068822,\n",
       " 0.16653620448462897,\n",
       " 0.16653775058980633,\n",
       " 0.16653928752139616,\n",
       " 0.16654081527836098,\n",
       " 0.16654233385969328,\n",
       " 0.16654384326440133,\n",
       " 0.16654534349147718,\n",
       " 0.16654683453993044,\n",
       " 0.16654831640875584,\n",
       " 0.1665497890969854,\n",
       " 0.16655125260365633,\n",
       " 0.1665527069277759,\n",
       " 0.1665541520683934,\n",
       " 0.16655558802454823,\n",
       " 0.16655701479528878,\n",
       " 0.16655843237965479,\n",
       " 0.16655984077671612,\n",
       " 0.16656123998555622,\n",
       " 0.16656263000525387,\n",
       " 0.16656401083484393,\n",
       " 0.16656538247341643,\n",
       " 0.1665667449201007,\n",
       " 0.16656809817396487,\n",
       " 0.1665694422341179,\n",
       " 0.1665707770996706,\n",
       " 0.16657210276973666,\n",
       " 0.16657341924343355,\n",
       " 0.16657472651988398,\n",
       " 0.16657602459823942,\n",
       " 0.16657731347759178,\n",
       " 0.1665785931571558,\n",
       " 0.16657986363604282,\n",
       " 0.16658112491339808,\n",
       " 0.16658237698837963,\n",
       " 0.16658361986020986,\n",
       " 0.1665848535280056,\n",
       " 0.16658607799097475,\n",
       " 0.16658729324829494,\n",
       " 0.16658849929919112,\n",
       " 0.16658969614280653,\n",
       " 0.16659088377841427,\n",
       " 0.1665920622051532,\n",
       " 0.16659323142229804,\n",
       " 0.16659439142901533,\n",
       " 0.1665955422245869,\n",
       " 0.16659668380824405,\n",
       " 0.1665978161791945,\n",
       " 0.1665989393367122,\n",
       " 0.16660005328005145,\n",
       " 0.1666011580084779,\n",
       " 0.1666022535212065,\n",
       " 0.16660333981759304,\n",
       " 0.16660441689685046,\n",
       " 0.16660548475827236,\n",
       " 0.16660654340117295,\n",
       " 0.16660759282482054,\n",
       " 0.16660863302854062,\n",
       " 0.16660966401165025,\n",
       " 0.16661068577342153,\n",
       " 0.16661169831322828,\n",
       " 0.1666127016303282,\n",
       " 0.16661369572416354,\n",
       " 0.16661468059394485,\n",
       " 0.16661565623911356,\n",
       " 0.16661662265895474,\n",
       " 0.16661757985287637,\n",
       " 0.166618527820209,\n",
       " 0.16661946656037355,\n",
       " 0.16662039607266974,\n",
       " 0.16662131635653665,\n",
       " 0.16662222741133736,\n",
       " 0.16662312923649392,\n",
       " 0.16662402183135025,\n",
       " 0.166624905195362,\n",
       " 0.16662577932795924,\n",
       " 0.16662664422849363,\n",
       " 0.1666274998963886,\n",
       " 0.16662834633114862,\n",
       " 0.16662918353220565,\n",
       " 0.1666300114989118,\n",
       " 0.16663083023081848,\n",
       " 0.16663163972729067,\n",
       " 0.16663243998784633,\n",
       " 0.16663323101193048,\n",
       " 0.16663401279909684,\n",
       " 0.16663478534863546,\n",
       " 0.16663554866026853,\n",
       " 0.16663630273332616,\n",
       " 0.16663704756732234,\n",
       " 0.16663778316183842,\n",
       " 0.1666385095163143,\n",
       " 0.16663922663033084,\n",
       " 0.16663993450324638,\n",
       " 0.16664063313487848,\n",
       " 0.1666413225244337,\n",
       " 0.16664200267175716,\n",
       " 0.16664267357614013,\n",
       " 0.16664333523738714,\n",
       " 0.16664398765480518,\n",
       " 0.1666446308280649,\n",
       " 0.1666452647567769,\n",
       " 0.16664588944048436,\n",
       " 0.16664650487885854,\n",
       " 0.16664711107130012,\n",
       " 0.16664770801765733,\n",
       " 0.16664829571718157,\n",
       " 0.16664887416993315,\n",
       " 0.16664944337512858,\n",
       " 0.16665000333247904,\n",
       " 0.16665055404176882,\n",
       " 0.1666510955024739,\n",
       " 0.16665162771439215,\n",
       " 0.16665215067699649,\n",
       " 0.1666526643901108,\n",
       " 0.16665316885321743,\n",
       " 0.166653664066026,\n",
       " 0.16665415002835707,\n",
       " 0.16665462673965412,\n",
       " 0.16665509419979682,\n",
       " 0.16665555240845617,\n",
       " 0.16665600136524392,\n",
       " 0.16665644106970298,\n",
       " 0.16665687152171582,\n",
       " 0.16665729272114646,\n",
       " 0.1666577046676083,\n",
       " 0.16665810736064654,\n",
       " 0.16665850080022987,\n",
       " 0.1666588849858036,\n",
       " 0.16665925991754538,\n",
       " 0.16665962559510264,\n",
       " 0.16665998201775664,\n",
       " 0.16666032918562465,\n",
       " 0.16666066709853578,\n",
       " 0.16666099575630833,\n",
       " 0.16666131515836527,\n",
       " 0.1666616253052469,\n",
       " 0.16666192619550768,\n",
       " 0.16666221783013696,\n",
       " 0.1666625002084822,\n",
       " 0.16666277332976143,\n",
       " 0.16666303719473255,\n",
       " 0.16666329180324937,\n",
       " 0.16666353715454194,\n",
       " 0.16666377324838774,\n",
       " 0.16666400008537152,\n",
       " 0.16666421766473338,\n",
       " 0.1666644259864725,\n",
       " 0.1666646250497375,\n",
       " 0.1666648148568317,\n",
       " 0.16666499540389254,\n",
       " 0.1666651666936767,\n",
       " 0.16666532872600573,\n",
       " 0.16666548149912863,\n",
       " 0.16666562501260135,\n",
       " 0.16666575927069854,\n",
       " 0.16666588426521342,\n",
       " 0.1666660000072046,\n",
       " 0.16666610648427035,\n",
       " 0.16666620370475727,\n",
       " 0.16666629167033176,\n",
       " 0.16666637037143772,\n",
       " 0.166666439814755,\n",
       " 0.16666649999614375,\n",
       " 0.16666655092478777,\n",
       " 0.16666659261033168,\n",
       " 0.16666662499492052,\n",
       " 0.16666664814923848,\n",
       " 0.1666666618049817]"
      ]
     },
     "execution_count": 97,
     "metadata": {},
     "output_type": "execute_result"
    }
   ],
   "source": [
    "listaValsTESTE(500, 0)"
   ]
  },
  {
   "cell_type": "markdown",
   "metadata": {},
   "source": [
    "# Décima Segunda Aula - 03/04/2019"
   ]
  },
  {
   "cell_type": "markdown",
   "metadata": {},
   "source": [
    "## - Como definir funções de intervalos múltiplos"
   ]
  },
  {
   "cell_type": "markdown",
   "metadata": {},
   "source": [
    "#### - Rampa 45 Graus."
   ]
  },
  {
   "cell_type": "code",
   "execution_count": 20,
   "metadata": {},
   "outputs": [],
   "source": [
    "def multipleIntervals(x):\n",
    "    if x <= 1:\n",
    "        return 2*x\n",
    "    elif x > 1 and x <= 2:\n",
    "        return 2**x\n",
    "    else:\n",
    "        return 4"
   ]
  },
  {
   "cell_type": "code",
   "execution_count": 23,
   "metadata": {},
   "outputs": [
    {
     "data": {
      "image/png": "[encoded data removed]",
      "text/plain": [
       "<Figure size 432x288 with 1 Axes>"
      ]
     },
     "metadata": {
      "needs_background": "light"
     },
     "output_type": "display_data"
    }
   ],
   "source": [
    "X = np.linspace(-40, 10, 100)\n",
    "Fm = [multipleIntervals(x) for x in X]\n",
    "plt.xlabel('eixo X')\n",
    "plt.ylabel('eixo Y')\n",
    "plt.grid(True, linestyle='-')\n",
    "plt.title(\"Função definida em partes\")\n",
    "plt.plot(X, Fm, color=\"red\", linewidth=5.0, linestyle=\"-\")\n",
    "plt.savefig(\"multParts.png\", dpi=72)\n",
    "plt.show()"
   ]
  },
  {
   "cell_type": "markdown",
   "metadata": {},
   "source": [
    "#### - Half-Pipe"
   ]
  },
  {
   "cell_type": "code",
   "execution_count": 4,
   "metadata": {},
   "outputs": [],
   "source": [
    "def multipleIntervals1(x):\n",
    "    if x>1.5 and x<=2:\n",
    "        return 4\n",
    "    elif x>2 and x<=4:\n",
    "        return +x**2 -6*x +12\n",
    "    elif x >4 and x<=4.5:\n",
    "        return 4"
   ]
  },
  {
   "cell_type": "code",
   "execution_count": 5,
   "metadata": {},
   "outputs": [
    {
     "data": {
      "image/png": "[encoded data removed]",
      "text/plain": [
       "<Figure size 432x288 with 1 Axes>"
      ]
     },
     "metadata": {
      "needs_background": "light"
     },
     "output_type": "display_data"
    }
   ],
   "source": [
    "from matplotlib import pyplot as plt\n",
    "import numpy as np\n",
    "X = np.linspace(0, 6, 100)\n",
    "r1 = [multipleIntervals1(x) for x in X]\n",
    "\n",
    "plt.plot(X, r1, color=\"red\", linestyle=\"-.\", linewidth=2.0, label=\"Reta\")\n",
    "plt.show()"
   ]
  },
  {
   "cell_type": "markdown",
   "metadata": {},
   "source": [
    "#### - Regata"
   ]
  },
  {
   "cell_type": "code",
   "execution_count": 6,
   "metadata": {},
   "outputs": [],
   "source": [
    "def regata(x):\n",
    "    if x <= 1:\n",
    "        return 1\n",
    "    elif x>1 and x<=1.5:\n",
    "        return 2*x\n",
    "    elif x>1.5 and x<=2:\n",
    "        return 4\n",
    "    elif x>2 and x<=4:\n",
    "        return +x**2 -6*x +12\n",
    "    elif x >4 and x<=4.5:\n",
    "        return 4\n",
    "    elif x>4.5 and x<=5:\n",
    "        return -2*x+12\n",
    "    else:\n",
    "        return 1"
   ]
  },
  {
   "cell_type": "code",
   "execution_count": 7,
   "metadata": {},
   "outputs": [
    {
     "data": {
      "image/png": "[encoded data removed]",
      "text/plain": [
       "<Figure size 432x288 with 1 Axes>"
      ]
     },
     "metadata": {
      "needs_background": "light"
     },
     "output_type": "display_data"
    }
   ],
   "source": [
    "from matplotlib import pyplot as plt\n",
    "import numpy as np\n",
    "X = np.linspace(0, 6, 100)\n",
    "r1 = [regata(x) for x in X]\n",
    "\n",
    "plt.plot(X, r1, color=\"red\", linestyle=\"-.\", linewidth=2.0, label=\"Reta\")\n",
    "plt.show()"
   ]
  },
  {
   "cell_type": "code",
   "execution_count": null,
   "metadata": {},
   "outputs": [],
   "source": []
  },
  {
   "cell_type": "code",
   "execution_count": null,
   "metadata": {},
   "outputs": [],
   "source": [
    "\n",
    "        "
   ]
  },
  {
   "cell_type": "markdown",
   "metadata": {},
   "source": [
    "# Décima Terceira Aula - 04/04/2019"
   ]
  },
  {
   "cell_type": "markdown",
   "metadata": {},
   "source": [
    "## - Funções de Apoio (utilizando lambda)"
   ]
  },
  {
   "cell_type": "markdown",
   "metadata": {},
   "source": [
    "### Exemplos em MathJaX:\n",
    "\n",
    "$(\\lambda x . 2^2+x-1)(3) \\longmapsto 2(3)^2+3-1 \\longmapsto 20$\n",
    "   \n",
    "$(\\lambda x . \\lambda y . x+y)(5) \\longmapsto (\\lambda y . 5+y) (-1) \\longmapsto 5 - 1$"
   ]
  },
  {
   "cell_type": "code",
   "execution_count": 16,
   "metadata": {},
   "outputs": [],
   "source": [
    "dobro = lambda x :2*x\n",
    "\n",
    "quadrado = lambda x: x**2\n",
    "\n",
    "polinomio = lambda x: lambda y: 2*x + y"
   ]
  },
  {
   "cell_type": "code",
   "execution_count": 14,
   "metadata": {},
   "outputs": [
    {
     "data": {
      "text/plain": [
       "8"
      ]
     },
     "execution_count": 14,
     "metadata": {},
     "output_type": "execute_result"
    }
   ],
   "source": [
    "quadrado(2) + dobro(2)"
   ]
  },
  {
   "cell_type": "code",
   "execution_count": 18,
   "metadata": {},
   "outputs": [
    {
     "data": {
      "text/plain": [
       "26"
      ]
     },
     "execution_count": 18,
     "metadata": {},
     "output_type": "execute_result"
    }
   ],
   "source": [
    "polinomio(9)(8)"
   ]
  },
  {
   "cell_type": "markdown",
   "metadata": {},
   "source": [
    "### - Quando se é escrito utilizando lambda, na verdade você está, na base, lidando com o próprio algoritmo. Que com base nisso tem como definição: Algoritmo é aquilo que pode ser implementado em forma de lambda cálculo."
   ]
  },
  {
   "cell_type": "markdown",
   "metadata": {},
   "source": [
    "### - Alonzo Church criou a teoria do lambda cálculo, e isso resultou numa linha inteira de pensamento computacional."
   ]
  },
  {
   "cell_type": "markdown",
   "metadata": {},
   "source": [
    "### Curiosidade: O autor do python não gosta do lambda cálculo e quis remover do python, porém a comunidade não o deixou fazer isso. Na visão deles ambos são pilares de pensamentos matemáticos/computacionais, desse modo se conflitam."
   ]
  },
  {
   "cell_type": "markdown",
   "metadata": {},
   "source": [
    "## - Coeficiente Fiferencial (Ex: Preço. Pode variar em intensidades diferentes, e até se manter estável."
   ]
  },
  {
   "cell_type": "markdown",
   "metadata": {},
   "source": [
    "### - Abaixo gráfico representando aumento de preço."
   ]
  },
  {
   "cell_type": "code",
   "execution_count": 8,
   "metadata": {},
   "outputs": [
    {
     "data": {
      "image/png": "[encoded data removed]",
      "text/plain": [
       "<Figure size 432x288 with 1 Axes>"
      ]
     },
     "metadata": {
      "needs_background": "light"
     },
     "output_type": "display_data"
    }
   ],
   "source": [
    "from matplotlib import pyplot as plt\n",
    "\n",
    "import numpy as np\n",
    "\n",
    "X = np.linspace(-0, 11, 100) #, endpoint=True)\n",
    "\n",
    "# fplot = lambda x: 8*quadrado(x)\n",
    "fplot = lambda x: x**3\n",
    "\n",
    "Fm = [fplot(x) for x in X]\n",
    "\n",
    "plt.xlabel('X')\n",
    "plt.xlabel('Y')\n",
    "\n",
    "plt.grid(True, linestyle='-.')\n",
    "plt.title(\"coeficiente diferencial\")\n",
    "plt.plot(X, Fm, color=\"red\", linewidth=3.0, linestyle='-')\n",
    "plt.show()"
   ]
  },
  {
   "cell_type": "markdown",
   "metadata": {},
   "source": [
    "# - Exercício de Coeficiente Diferencial"
   ]
  },
  {
   "cell_type": "code",
   "execution_count": 11,
   "metadata": {},
   "outputs": [],
   "source": [
    "def coefDif(f, a, h):\n",
    "    return (f(a + h) - f(a))/h"
   ]
  },
  {
   "cell_type": "code",
   "execution_count": 12,
   "metadata": {},
   "outputs": [
    {
     "data": {
      "text/plain": [
       "172.0"
      ]
     },
     "execution_count": 12,
     "metadata": {},
     "output_type": "execute_result"
    }
   ],
   "source": [
    "coefDif(lambda x: x**3, 2, 10)"
   ]
  },
  {
   "cell_type": "code",
   "execution_count": 28,
   "metadata": {},
   "outputs": [],
   "source": [
    "seq = [coefDif(lambda x: x**2, 2, i/100) for i in range(1000, 0, -1)]"
   ]
  },
  {
   "cell_type": "code",
   "execution_count": 29,
   "metadata": {},
   "outputs": [
    {
     "data": {
      "text/plain": [
       "[14.0,\n",
       " 13.989999999999998,\n",
       " 13.980000000000002,\n",
       " 13.969999999999999,\n",
       " 13.96,\n",
       " 13.95,\n",
       " 13.94,\n",
       " 13.93,\n",
       " 13.92,\n",
       " 13.910000000000002,\n",
       " 13.9,\n",
       " 13.89,\n",
       " 13.880000000000003,\n",
       " 13.87,\n",
       " 13.86,\n",
       " 13.85,\n",
       " 13.84,\n",
       " 13.83,\n",
       " 13.82,\n",
       " 13.809999999999999,\n",
       " 13.8,\n",
       " 13.790000000000001,\n",
       " 13.78,\n",
       " 13.77,\n",
       " 13.76,\n",
       " 13.75,\n",
       " 13.740000000000002,\n",
       " 13.73,\n",
       " 13.72,\n",
       " 13.71,\n",
       " 13.7,\n",
       " 13.69,\n",
       " 13.679999999999998,\n",
       " 13.669999999999998,\n",
       " 13.66,\n",
       " 13.649999999999999,\n",
       " 13.640000000000002,\n",
       " 13.630000000000003,\n",
       " 13.62,\n",
       " 13.609999999999998,\n",
       " 13.600000000000001,\n",
       " 13.590000000000002,\n",
       " 13.579999999999998,\n",
       " 13.57,\n",
       " 13.559999999999999,\n",
       " 13.549999999999999,\n",
       " 13.54,\n",
       " 13.530000000000001,\n",
       " 13.52,\n",
       " 13.51,\n",
       " 13.5,\n",
       " 13.490000000000002,\n",
       " 13.48,\n",
       " 13.469999999999999,\n",
       " 13.459999999999999,\n",
       " 13.45,\n",
       " 13.44,\n",
       " 13.430000000000001,\n",
       " 13.420000000000002,\n",
       " 13.409999999999998,\n",
       " 13.4,\n",
       " 13.389999999999999,\n",
       " 13.379999999999999,\n",
       " 13.37,\n",
       " 13.360000000000001,\n",
       " 13.35,\n",
       " 13.34,\n",
       " 13.33,\n",
       " 13.32,\n",
       " 13.31,\n",
       " 13.3,\n",
       " 13.29,\n",
       " 13.28,\n",
       " 13.27,\n",
       " 13.26,\n",
       " 13.25,\n",
       " 13.24,\n",
       " 13.23,\n",
       " 13.22,\n",
       " 13.21,\n",
       " 13.2,\n",
       " 13.19,\n",
       " 13.18,\n",
       " 13.17,\n",
       " 13.16,\n",
       " 13.15,\n",
       " 13.14,\n",
       " 13.13,\n",
       " 13.12,\n",
       " 13.11,\n",
       " 13.1,\n",
       " 13.09,\n",
       " 13.08,\n",
       " 13.07,\n",
       " 13.06,\n",
       " 13.05,\n",
       " 13.04,\n",
       " 13.03,\n",
       " 13.02,\n",
       " 13.01,\n",
       " 13.0,\n",
       " 12.99,\n",
       " 12.98,\n",
       " 12.97,\n",
       " 12.96,\n",
       " 12.95,\n",
       " 12.94,\n",
       " 12.93,\n",
       " 12.92,\n",
       " 12.91,\n",
       " 12.9,\n",
       " 12.89,\n",
       " 12.88,\n",
       " 12.87,\n",
       " 12.86,\n",
       " 12.85,\n",
       " 12.84,\n",
       " 12.83,\n",
       " 12.82,\n",
       " 12.81,\n",
       " 12.8,\n",
       " 12.79,\n",
       " 12.78,\n",
       " 12.77,\n",
       " 12.76,\n",
       " 12.75,\n",
       " 12.74,\n",
       " 12.73,\n",
       " 12.72,\n",
       " 12.71,\n",
       " 12.7,\n",
       " 12.69,\n",
       " 12.68,\n",
       " 12.67,\n",
       " 12.66,\n",
       " 12.65,\n",
       " 12.64,\n",
       " 12.63,\n",
       " 12.62,\n",
       " 12.61,\n",
       " 12.6,\n",
       " 12.59,\n",
       " 12.58,\n",
       " 12.57,\n",
       " 12.56,\n",
       " 12.55,\n",
       " 12.54,\n",
       " 12.53,\n",
       " 12.52,\n",
       " 12.51,\n",
       " 12.5,\n",
       " 12.49,\n",
       " 12.48,\n",
       " 12.47,\n",
       " 12.46,\n",
       " 12.45,\n",
       " 12.44,\n",
       " 12.43,\n",
       " 12.42,\n",
       " 12.41,\n",
       " 12.4,\n",
       " 12.39,\n",
       " 12.38,\n",
       " 12.37,\n",
       " 12.36,\n",
       " 12.35,\n",
       " 12.34,\n",
       " 12.33,\n",
       " 12.32,\n",
       " 12.31,\n",
       " 12.3,\n",
       " 12.29,\n",
       " 12.28,\n",
       " 12.27,\n",
       " 12.26,\n",
       " 12.25,\n",
       " 12.24,\n",
       " 12.23,\n",
       " 12.22,\n",
       " 12.21,\n",
       " 12.2,\n",
       " 12.19,\n",
       " 12.18,\n",
       " 12.17,\n",
       " 12.16,\n",
       " 12.15,\n",
       " 12.14,\n",
       " 12.13,\n",
       " 12.12,\n",
       " 12.11,\n",
       " 12.1,\n",
       " 12.09,\n",
       " 12.08,\n",
       " 12.07,\n",
       " 12.06,\n",
       " 12.05,\n",
       " 12.04,\n",
       " 12.03,\n",
       " 12.02,\n",
       " 12.01,\n",
       " 12.0,\n",
       " 11.99,\n",
       " 11.98,\n",
       " 11.969999999999997,\n",
       " 11.96,\n",
       " 11.949999999999998,\n",
       " 11.940000000000003,\n",
       " 11.93,\n",
       " 11.92,\n",
       " 11.91,\n",
       " 11.9,\n",
       " 11.890000000000002,\n",
       " 11.879999999999997,\n",
       " 11.870000000000003,\n",
       " 11.859999999999998,\n",
       " 11.85,\n",
       " 11.84,\n",
       " 11.83,\n",
       " 11.82,\n",
       " 11.809999999999999,\n",
       " 11.800000000000002,\n",
       " 11.789999999999997,\n",
       " 11.780000000000003,\n",
       " 11.77,\n",
       " 11.76,\n",
       " 11.75,\n",
       " 11.74,\n",
       " 11.73,\n",
       " 11.719999999999997,\n",
       " 11.710000000000003,\n",
       " 11.699999999999998,\n",
       " 11.690000000000001,\n",
       " 11.68,\n",
       " 11.67,\n",
       " 11.66,\n",
       " 11.65,\n",
       " 11.640000000000002,\n",
       " 11.629999999999997,\n",
       " 11.620000000000003,\n",
       " 11.61,\n",
       " 11.6,\n",
       " 11.59,\n",
       " 11.58,\n",
       " 11.57,\n",
       " 11.559999999999997,\n",
       " 11.550000000000002,\n",
       " 11.539999999999997,\n",
       " 11.530000000000003,\n",
       " 11.52,\n",
       " 11.51,\n",
       " 11.5,\n",
       " 11.49,\n",
       " 11.48,\n",
       " 11.469999999999997,\n",
       " 11.460000000000003,\n",
       " 11.449999999999998,\n",
       " 11.440000000000001,\n",
       " 11.43,\n",
       " 11.42,\n",
       " 11.41,\n",
       " 11.400000000000002,\n",
       " 11.390000000000002,\n",
       " 11.379999999999997,\n",
       " 11.370000000000003,\n",
       " 11.359999999999998,\n",
       " 11.35,\n",
       " 11.34,\n",
       " 11.33,\n",
       " 11.32,\n",
       " 11.309999999999997,\n",
       " 11.3,\n",
       " 11.29,\n",
       " 11.280000000000003,\n",
       " 11.27,\n",
       " 11.26,\n",
       " 11.25,\n",
       " 11.24,\n",
       " 11.23,\n",
       " 11.219999999999997,\n",
       " 11.210000000000003,\n",
       " 11.199999999999998,\n",
       " 11.190000000000003,\n",
       " 11.18,\n",
       " 11.17,\n",
       " 11.16,\n",
       " 11.15,\n",
       " 11.140000000000002,\n",
       " 11.129999999999997,\n",
       " 11.120000000000003,\n",
       " 11.11,\n",
       " 11.1,\n",
       " 11.09,\n",
       " 11.08,\n",
       " 11.070000000000002,\n",
       " 11.059999999999997,\n",
       " 11.050000000000002,\n",
       " 11.039999999999997,\n",
       " 11.030000000000003,\n",
       " 11.02,\n",
       " 11.01,\n",
       " 11.0,\n",
       " 10.990000000000002,\n",
       " 10.98,\n",
       " 10.969999999999997,\n",
       " 10.96,\n",
       " 10.95,\n",
       " 10.940000000000003,\n",
       " 10.930000000000001,\n",
       " 10.92,\n",
       " 10.91,\n",
       " 10.9,\n",
       " 10.890000000000002,\n",
       " 10.879999999999997,\n",
       " 10.870000000000003,\n",
       " 10.859999999999998,\n",
       " 10.85,\n",
       " 10.84,\n",
       " 10.83,\n",
       " 10.82,\n",
       " 10.809999999999997,\n",
       " 10.800000000000002,\n",
       " 10.789999999999997,\n",
       " 10.780000000000003,\n",
       " 10.77,\n",
       " 10.76,\n",
       " 10.75,\n",
       " 10.74,\n",
       " 10.73,\n",
       " 10.719999999999997,\n",
       " 10.710000000000003,\n",
       " 10.699999999999998,\n",
       " 10.690000000000003,\n",
       " 10.68,\n",
       " 10.67,\n",
       " 10.659999999999998,\n",
       " 10.65,\n",
       " 10.640000000000002,\n",
       " 10.629999999999997,\n",
       " 10.620000000000003,\n",
       " 10.61,\n",
       " 10.6,\n",
       " 10.59,\n",
       " 10.58,\n",
       " 10.57,\n",
       " 10.559999999999997,\n",
       " 10.55,\n",
       " 10.539999999999997,\n",
       " 10.530000000000003,\n",
       " 10.52,\n",
       " 10.51,\n",
       " 10.5,\n",
       " 10.49,\n",
       " 10.48,\n",
       " 10.469999999999997,\n",
       " 10.460000000000003,\n",
       " 10.449999999999998,\n",
       " 10.440000000000003,\n",
       " 10.43,\n",
       " 10.42,\n",
       " 10.41,\n",
       " 10.4,\n",
       " 10.390000000000002,\n",
       " 10.379999999999999,\n",
       " 10.370000000000001,\n",
       " 10.359999999999998,\n",
       " 10.35,\n",
       " 10.34,\n",
       " 10.33,\n",
       " 10.32,\n",
       " 10.309999999999997,\n",
       " 10.300000000000002,\n",
       " 10.29,\n",
       " 10.280000000000003,\n",
       " 10.27,\n",
       " 10.26,\n",
       " 10.25,\n",
       " 10.239999999999998,\n",
       " 10.229999999999999,\n",
       " 10.219999999999997,\n",
       " 10.210000000000003,\n",
       " 10.2,\n",
       " 10.190000000000003,\n",
       " 10.18,\n",
       " 10.169999999999998,\n",
       " 10.16,\n",
       " 10.149999999999999,\n",
       " 10.140000000000002,\n",
       " 10.129999999999999,\n",
       " 10.120000000000001,\n",
       " 10.11,\n",
       " 10.1,\n",
       " 10.09,\n",
       " 10.08,\n",
       " 10.070000000000002,\n",
       " 10.059999999999999,\n",
       " 10.050000000000002,\n",
       " 10.039999999999997,\n",
       " 10.030000000000003,\n",
       " 10.02,\n",
       " 10.01,\n",
       " 10.0,\n",
       " 9.99,\n",
       " 9.98,\n",
       " 9.97,\n",
       " 9.96,\n",
       " 9.95,\n",
       " 9.94,\n",
       " 9.93,\n",
       " 9.92,\n",
       " 9.91,\n",
       " 9.9,\n",
       " 9.889999999999999,\n",
       " 9.88,\n",
       " 9.87,\n",
       " 9.86,\n",
       " 9.85,\n",
       " 9.84,\n",
       " 9.83,\n",
       " 9.82,\n",
       " 9.809999999999999,\n",
       " 9.799999999999999,\n",
       " 9.790000000000001,\n",
       " 9.780000000000001,\n",
       " 9.77,\n",
       " 9.76,\n",
       " 9.75,\n",
       " 9.74,\n",
       " 9.73,\n",
       " 9.72,\n",
       " 9.709999999999999,\n",
       " 9.700000000000001,\n",
       " 9.690000000000001,\n",
       " 9.68,\n",
       " 9.67,\n",
       " 9.66,\n",
       " 9.65,\n",
       " 9.64,\n",
       " 9.629999999999999,\n",
       " 9.62,\n",
       " 9.61,\n",
       " 9.6,\n",
       " 9.59,\n",
       " 9.58,\n",
       " 9.57,\n",
       " 9.56,\n",
       " 9.55,\n",
       " 9.54,\n",
       " 9.530000000000001,\n",
       " 9.52,\n",
       " 9.51,\n",
       " 9.5,\n",
       " 9.49,\n",
       " 9.48,\n",
       " 9.47,\n",
       " 9.46,\n",
       " 9.450000000000001,\n",
       " 9.440000000000001,\n",
       " 9.43,\n",
       " 9.42,\n",
       " 9.41,\n",
       " 9.4,\n",
       " 9.39,\n",
       " 9.379999999999999,\n",
       " 9.370000000000001,\n",
       " 9.36,\n",
       " 9.35,\n",
       " 9.34,\n",
       " 9.33,\n",
       " 9.32,\n",
       " 9.31,\n",
       " 9.3,\n",
       " 9.290000000000001,\n",
       " 9.280000000000001,\n",
       " 9.27,\n",
       " 9.26,\n",
       " 9.25,\n",
       " 9.24,\n",
       " 9.23,\n",
       " 9.22,\n",
       " 9.209999999999999,\n",
       " 9.200000000000001,\n",
       " 9.190000000000001,\n",
       " 9.18,\n",
       " 9.17,\n",
       " 9.16,\n",
       " 9.15,\n",
       " 9.14,\n",
       " 9.13,\n",
       " 9.120000000000001,\n",
       " 9.11,\n",
       " 9.1,\n",
       " 9.09,\n",
       " 9.08,\n",
       " 9.07,\n",
       " 9.06,\n",
       " 9.05,\n",
       " 9.04,\n",
       " 9.03,\n",
       " 9.02,\n",
       " 9.01,\n",
       " 9.0,\n",
       " 8.99,\n",
       " 8.98,\n",
       " 8.97,\n",
       " 8.96,\n",
       " 8.95,\n",
       " 8.94,\n",
       " 8.93,\n",
       " 8.92,\n",
       " 8.91,\n",
       " 8.9,\n",
       " 8.89,\n",
       " 8.879999999999999,\n",
       " 8.87,\n",
       " 8.86,\n",
       " 8.85,\n",
       " 8.84,\n",
       " 8.83,\n",
       " 8.82,\n",
       " 8.809999999999999,\n",
       " 8.799999999999999,\n",
       " 8.790000000000001,\n",
       " 8.78,\n",
       " 8.77,\n",
       " 8.76,\n",
       " 8.75,\n",
       " 8.74,\n",
       " 8.73,\n",
       " 8.719999999999999,\n",
       " 8.709999999999999,\n",
       " 8.7,\n",
       " 8.69,\n",
       " 8.68,\n",
       " 8.67,\n",
       " 8.66,\n",
       " 8.65,\n",
       " 8.64,\n",
       " 8.629999999999999,\n",
       " 8.620000000000001,\n",
       " 8.61,\n",
       " 8.6,\n",
       " 8.59,\n",
       " 8.58,\n",
       " 8.57,\n",
       " 8.559999999999999,\n",
       " 8.549999999999999,\n",
       " 8.54,\n",
       " 8.53,\n",
       " 8.52,\n",
       " 8.51,\n",
       " 8.5,\n",
       " 8.49,\n",
       " 8.48,\n",
       " 8.469999999999999,\n",
       " 8.46,\n",
       " 8.45,\n",
       " 8.44,\n",
       " 8.43,\n",
       " 8.42,\n",
       " 8.41,\n",
       " 8.4,\n",
       " 8.39,\n",
       " 8.38,\n",
       " 8.370000000000001,\n",
       " 8.36,\n",
       " 8.35,\n",
       " 8.34,\n",
       " 8.33,\n",
       " 8.32,\n",
       " 8.309999999999999,\n",
       " 8.299999999999999,\n",
       " 8.290000000000001,\n",
       " 8.28,\n",
       " 8.27,\n",
       " 8.26,\n",
       " 8.25,\n",
       " 8.24,\n",
       " 8.23,\n",
       " 8.219999999999999,\n",
       " 8.209999999999999,\n",
       " 8.200000000000001,\n",
       " 8.190000000000001,\n",
       " 8.18,\n",
       " 8.17,\n",
       " 8.16,\n",
       " 8.15,\n",
       " 8.14,\n",
       " 8.13,\n",
       " 8.12,\n",
       " 8.110000000000001,\n",
       " 8.1,\n",
       " 8.09,\n",
       " 8.08,\n",
       " 8.07,\n",
       " 8.06,\n",
       " 8.05,\n",
       " 8.04,\n",
       " 8.03,\n",
       " 8.02,\n",
       " 8.01,\n",
       " 8.0,\n",
       " 7.990000000000001,\n",
       " 7.980000000000001,\n",
       " 7.9700000000000015,\n",
       " 7.96,\n",
       " 7.95,\n",
       " 7.939999999999999,\n",
       " 7.929999999999999,\n",
       " 7.92,\n",
       " 7.91,\n",
       " 7.9,\n",
       " 7.890000000000001,\n",
       " 7.88,\n",
       " 7.870000000000001,\n",
       " 7.859999999999998,\n",
       " 7.849999999999999,\n",
       " 7.839999999999999,\n",
       " 7.83,\n",
       " 7.820000000000002,\n",
       " 7.8100000000000005,\n",
       " 7.800000000000001,\n",
       " 7.789999999999999,\n",
       " 7.7799999999999985,\n",
       " 7.769999999999999,\n",
       " 7.76,\n",
       " 7.75,\n",
       " 7.74,\n",
       " 7.73,\n",
       " 7.720000000000002,\n",
       " 7.710000000000001,\n",
       " 7.7,\n",
       " 7.689999999999999,\n",
       " 7.68,\n",
       " 7.67,\n",
       " 7.66,\n",
       " 7.650000000000001,\n",
       " 7.6400000000000015,\n",
       " 7.63,\n",
       " 7.62,\n",
       " 7.6099999999999985,\n",
       " 7.599999999999999,\n",
       " 7.59,\n",
       " 7.58,\n",
       " 7.570000000000001,\n",
       " 7.560000000000001,\n",
       " 7.55,\n",
       " 7.54,\n",
       " 7.5299999999999985,\n",
       " 7.519999999999999,\n",
       " 7.51,\n",
       " 7.5,\n",
       " 7.49,\n",
       " 7.480000000000001,\n",
       " 7.4700000000000015,\n",
       " 7.46,\n",
       " 7.45,\n",
       " 7.439999999999999,\n",
       " 7.429999999999999,\n",
       " 7.42,\n",
       " 7.41,\n",
       " 7.400000000000001,\n",
       " 7.3900000000000015,\n",
       " 7.38,\n",
       " 7.37,\n",
       " 7.3599999999999985,\n",
       " 7.349999999999999,\n",
       " 7.34,\n",
       " 7.329999999999999,\n",
       " 7.320000000000001,\n",
       " 7.310000000000001,\n",
       " 7.300000000000001,\n",
       " 7.29,\n",
       " 7.279999999999998,\n",
       " 7.269999999999999,\n",
       " 7.26,\n",
       " 7.25,\n",
       " 7.24,\n",
       " 7.230000000000001,\n",
       " 7.2200000000000015,\n",
       " 7.209999999999999,\n",
       " 7.2,\n",
       " 7.189999999999999,\n",
       " 7.179999999999999,\n",
       " 7.17,\n",
       " 7.16,\n",
       " 7.150000000000001,\n",
       " 7.1400000000000015,\n",
       " 7.130000000000001,\n",
       " 7.12,\n",
       " 7.1099999999999985,\n",
       " 7.099999999999999,\n",
       " 7.09,\n",
       " 7.08,\n",
       " 7.070000000000001,\n",
       " 7.060000000000001,\n",
       " 7.05,\n",
       " 7.040000000000001,\n",
       " 7.0299999999999985,\n",
       " 7.019999999999998,\n",
       " 7.01,\n",
       " 7.0,\n",
       " 6.99,\n",
       " 6.980000000000001,\n",
       " 6.970000000000002,\n",
       " 6.960000000000001,\n",
       " 6.95,\n",
       " 6.939999999999998,\n",
       " 6.929999999999999,\n",
       " 6.92,\n",
       " 6.91,\n",
       " 6.900000000000002,\n",
       " 6.8900000000000015,\n",
       " 6.88,\n",
       " 6.870000000000001,\n",
       " 6.8599999999999985,\n",
       " 6.849999999999999,\n",
       " 6.84,\n",
       " 6.83,\n",
       " 6.820000000000001,\n",
       " 6.810000000000002,\n",
       " 6.8,\n",
       " 6.789999999999999,\n",
       " 6.7799999999999985,\n",
       " 6.769999999999999,\n",
       " 6.76,\n",
       " 6.75,\n",
       " 6.74,\n",
       " 6.730000000000002,\n",
       " 6.7200000000000015,\n",
       " 6.71,\n",
       " 6.700000000000001,\n",
       " 6.689999999999999,\n",
       " 6.679999999999998,\n",
       " 6.669999999999999,\n",
       " 6.66,\n",
       " 6.650000000000001,\n",
       " 6.6400000000000015,\n",
       " 6.63,\n",
       " 6.62,\n",
       " 6.6099999999999985,\n",
       " 6.599999999999999,\n",
       " 6.59,\n",
       " 6.58,\n",
       " 6.570000000000001,\n",
       " 6.560000000000001,\n",
       " 6.549999999999999,\n",
       " 6.54,\n",
       " 6.5299999999999985,\n",
       " 6.519999999999998,\n",
       " 6.510000000000001,\n",
       " 6.5,\n",
       " 6.490000000000001,\n",
       " 6.480000000000001,\n",
       " 6.4700000000000015,\n",
       " 6.46,\n",
       " 6.45,\n",
       " 6.439999999999999,\n",
       " 6.429999999999998,\n",
       " 6.42,\n",
       " 6.409999999999999,\n",
       " 6.400000000000001,\n",
       " 6.390000000000002,\n",
       " 6.38,\n",
       " 6.37,\n",
       " 6.3599999999999985,\n",
       " 6.349999999999998,\n",
       " 6.34,\n",
       " 6.329999999999999,\n",
       " 6.320000000000001,\n",
       " 6.310000000000001,\n",
       " 6.3,\n",
       " 6.29,\n",
       " 6.279999999999998,\n",
       " 6.269999999999999,\n",
       " 6.259999999999999,\n",
       " 6.25,\n",
       " 6.24,\n",
       " 6.230000000000002,\n",
       " 6.220000000000002,\n",
       " 6.21,\n",
       " 6.2,\n",
       " 6.189999999999999,\n",
       " 6.179999999999998,\n",
       " 6.17,\n",
       " 6.16,\n",
       " 6.150000000000002,\n",
       " 6.140000000000002,\n",
       " 6.13,\n",
       " 6.119999999999999,\n",
       " 6.1099999999999985,\n",
       " 6.099999999999999,\n",
       " 6.089999999999999,\n",
       " 6.08,\n",
       " 6.070000000000001,\n",
       " 6.060000000000001,\n",
       " 6.050000000000001,\n",
       " 6.04,\n",
       " 6.0299999999999985,\n",
       " 6.019999999999998,\n",
       " 6.01,\n",
       " 6.0,\n",
       " 5.990000000000001,\n",
       " 5.98,\n",
       " 5.969999999999999,\n",
       " 5.96,\n",
       " 5.95,\n",
       " 5.94,\n",
       " 5.929999999999999,\n",
       " 5.92,\n",
       " 5.910000000000001,\n",
       " 5.8999999999999995,\n",
       " 5.889999999999999,\n",
       " 5.88,\n",
       " 5.87,\n",
       " 5.860000000000001,\n",
       " 5.8500000000000005,\n",
       " 5.84,\n",
       " 5.83,\n",
       " 5.82,\n",
       " 5.81,\n",
       " 5.8,\n",
       " 5.79,\n",
       " 5.78,\n",
       " 5.77,\n",
       " 5.76,\n",
       " 5.75,\n",
       " 5.740000000000001,\n",
       " 5.73,\n",
       " 5.719999999999999,\n",
       " 5.71,\n",
       " 5.700000000000001,\n",
       " 5.6899999999999995,\n",
       " 5.679999999999999,\n",
       " 5.67,\n",
       " 5.660000000000001,\n",
       " 5.65,\n",
       " 5.639999999999999,\n",
       " 5.63,\n",
       " 5.619999999999999,\n",
       " 5.61,\n",
       " 5.6000000000000005,\n",
       " 5.59,\n",
       " 5.579999999999999,\n",
       " 5.57,\n",
       " 5.5600000000000005,\n",
       " 5.549999999999999,\n",
       " 5.540000000000001,\n",
       " 5.530000000000001,\n",
       " 5.52,\n",
       " 5.509999999999999,\n",
       " 5.5,\n",
       " 5.490000000000001,\n",
       " 5.48,\n",
       " 5.469999999999999,\n",
       " 5.460000000000001,\n",
       " 5.450000000000001,\n",
       " 5.4399999999999995,\n",
       " 5.429999999999998,\n",
       " 5.419999999999999,\n",
       " 5.410000000000002,\n",
       " 5.3999999999999995,\n",
       " 5.389999999999998,\n",
       " 5.379999999999999,\n",
       " 5.370000000000001,\n",
       " 5.360000000000001,\n",
       " 5.35,\n",
       " 5.34,\n",
       " 5.33,\n",
       " 5.32,\n",
       " 5.3100000000000005,\n",
       " 5.299999999999999,\n",
       " 5.289999999999999,\n",
       " 5.280000000000001,\n",
       " 5.27,\n",
       " 5.26,\n",
       " 5.25,\n",
       " 5.240000000000002,\n",
       " 5.23,\n",
       " 5.219999999999998,\n",
       " 5.21,\n",
       " 5.200000000000002,\n",
       " 5.19,\n",
       " 5.179999999999998,\n",
       " 5.17,\n",
       " 5.160000000000002,\n",
       " 5.1499999999999995,\n",
       " 5.139999999999999,\n",
       " 5.13,\n",
       " 5.12,\n",
       " 5.110000000000001,\n",
       " 5.1000000000000005,\n",
       " 5.09,\n",
       " 5.079999999999999,\n",
       " 5.07,\n",
       " 5.06,\n",
       " 5.049999999999998,\n",
       " 5.04,\n",
       " 5.030000000000001,\n",
       " 5.02,\n",
       " 5.009999999999999,\n",
       " 5.0,\n",
       " 4.990000000000001,\n",
       " 4.9799999999999995,\n",
       " 4.969999999999998,\n",
       " 4.96,\n",
       " 4.950000000000001,\n",
       " 4.9399999999999995,\n",
       " 4.930000000000001,\n",
       " 4.919999999999998,\n",
       " 4.910000000000002,\n",
       " 4.9,\n",
       " 4.89,\n",
       " 4.88,\n",
       " 4.87,\n",
       " 4.8599999999999985,\n",
       " 4.8500000000000005,\n",
       " 4.84,\n",
       " 4.830000000000001,\n",
       " 4.819999999999999,\n",
       " 4.8100000000000005,\n",
       " 4.799999999999998,\n",
       " 4.79,\n",
       " 4.780000000000002,\n",
       " 4.7700000000000005,\n",
       " 4.759999999999998,\n",
       " 4.75,\n",
       " 4.740000000000001,\n",
       " 4.7299999999999995,\n",
       " 4.719999999999999,\n",
       " 4.71,\n",
       " 4.700000000000002,\n",
       " 4.6899999999999995,\n",
       " 4.6800000000000015,\n",
       " 4.669999999999999,\n",
       " 4.660000000000001,\n",
       " 4.6499999999999995,\n",
       " 4.640000000000001,\n",
       " 4.629999999999999,\n",
       " 4.620000000000001,\n",
       " 4.6099999999999985,\n",
       " 4.600000000000001,\n",
       " 4.589999999999999,\n",
       " 4.580000000000001,\n",
       " 4.5699999999999985,\n",
       " 4.5600000000000005,\n",
       " 4.549999999999999,\n",
       " 4.54,\n",
       " 4.530000000000001,\n",
       " 4.5200000000000005,\n",
       " 4.509999999999997,\n",
       " 4.5,\n",
       " 4.490000000000002,\n",
       " 4.48,\n",
       " 4.469999999999997,\n",
       " 4.459999999999999,\n",
       " 4.450000000000003,\n",
       " 4.4399999999999995,\n",
       " 4.4300000000000015,\n",
       " 4.42,\n",
       " 4.410000000000001,\n",
       " 4.3999999999999995,\n",
       " 4.390000000000001,\n",
       " 4.379999999999999,\n",
       " 4.370000000000001,\n",
       " 4.3599999999999985,\n",
       " 4.350000000000002,\n",
       " 4.339999999999997,\n",
       " 4.330000000000001,\n",
       " 4.3199999999999985,\n",
       " 4.3100000000000005,\n",
       " 4.299999999999997,\n",
       " 4.290000000000002,\n",
       " 4.280000000000004,\n",
       " 4.269999999999999,\n",
       " 4.259999999999995,\n",
       " 4.25,\n",
       " 4.240000000000003,\n",
       " 4.23,\n",
       " 4.220000000000003,\n",
       " 4.210000000000001,\n",
       " 4.200000000000004,\n",
       " 4.19,\n",
       " 4.180000000000003,\n",
       " 4.169999999999999,\n",
       " 4.160000000000003,\n",
       " 4.149999999999998,\n",
       " 4.140000000000001,\n",
       " 4.129999999999995,\n",
       " 4.120000000000005,\n",
       " 4.109999999999998,\n",
       " 4.100000000000001,\n",
       " 4.089999999999991,\n",
       " 4.080000000000005,\n",
       " 4.069999999999992,\n",
       " 4.059999999999997,\n",
       " 4.049999999999994,\n",
       " 4.039999999999999,\n",
       " 4.029999999999964,\n",
       " 4.020000000000001,\n",
       " 4.009999999999891]"
      ]
     },
     "execution_count": 29,
     "metadata": {},
     "output_type": "execute_result"
    }
   ],
   "source": [
    "seq"
   ]
  },
  {
   "cell_type": "markdown",
   "metadata": {},
   "source": [
    "# - Décima Terceira Aula - 10/04/2019\n",
    "# - Décima Quarta Aula - 11/04/2019\n",
    "# - Décima Quinta Aula - 17/04/2019 (18/04/2019 - FERIADO)\n",
    "\n",
    "# - Desenvolvimento de lista de exercícios."
   ]
  },
  {
   "cell_type": "markdown",
   "metadata": {},
   "source": [
    "# - Décima Sexta Aula - 24/04/2019"
   ]
  },
  {
   "cell_type": "markdown",
   "metadata": {},
   "source": [
    "- Revisão para prova do dia 25/04/2019"
   ]
  },
  {
   "cell_type": "markdown",
   "metadata": {},
   "source": [
    "# - Décima Sétima Aula - 25/04/2019 - PROVA"
   ]
  },
  {
   "cell_type": "markdown",
   "metadata": {},
   "source": [
    "# - Décima Oitava Aula - 02/05/2019"
   ]
  },
  {
   "cell_type": "markdown",
   "metadata": {},
   "source": [
    "- Relações Trigonométricas no círculo:\n",
    "    - $ sen , cos , tg,; sin, cos, tan $ \n",
    "    - Interpretação geométrica das funções\n",
    "    - Relações Trigonométricas:\n",
    "        - $ sen^2(x)+cos^2(x) = 1 $\n",
    "        -$\\mathrm{tg(x)}=\\frac{\\mathrm{sen(x)}} {\\mathrm{cos(x)}}$\n",
    "    - Radiano:\n",
    "        - Medida de ângulo\n",
    "        - Arco de comprimento igual ao raio; $\\theta = 1/\\mathrm{rad}$\n",
    "        - $ 180^o \\equiv \\mathrm{\\pi} \\mathrm{rad}$"
   ]
  },
  {
   "cell_type": "code",
   "execution_count": 2,
   "metadata": {},
   "outputs": [],
   "source": [
    "import numpy as np"
   ]
  },
  {
   "cell_type": "code",
   "execution_count": 3,
   "metadata": {},
   "outputs": [
    {
     "data": {
      "text/plain": [
       "-0.3048106211022167"
      ]
     },
     "execution_count": 3,
     "metadata": {},
     "output_type": "execute_result"
    }
   ],
   "source": [
    "np.sin(60)"
   ]
  },
  {
   "cell_type": "code",
   "execution_count": 1,
   "metadata": {},
   "outputs": [],
   "source": [
    "import matplotlib.pyplot as plt"
   ]
  },
  {
   "cell_type": "code",
   "execution_count": 4,
   "metadata": {},
   "outputs": [
    {
     "data": {
      "image/png": "[encoded data removed]",
      "text/plain": [
       "<Figure size 432x288 with 1 Axes>"
      ]
     },
     "metadata": {
      "needs_background": "light"
     },
     "output_type": "display_data"
    }
   ],
   "source": [
    "pts_x = np.linspace(-np.pi, 2*np.pi, 50)\n",
    "sin_pts_x = np.sin(pts_x)\n",
    "\n",
    "plt.plot(pts_x, sin_pts_x, color = 'red')\n",
    "plt.title(\"numpy.sin()\")\n",
    "plt.xlabel(\"X\")\n",
    "plt.ylabel(\"Y\")\n",
    "plt.show()"
   ]
  },
  {
   "cell_type": "markdown",
   "metadata": {},
   "source": [
    "## - Processamento Funcional de Listasm"
   ]
  },
  {
   "cell_type": "code",
   "execution_count": 2,
   "metadata": {},
   "outputs": [
    {
     "name": "stdout",
     "output_type": "stream",
     "text": [
      "[3, 5, 2, 6, 1]\n"
     ]
    }
   ],
   "source": [
    "x = [3, 5, 2, 6, 1]\n",
    "print (x)"
   ]
  },
  {
   "cell_type": "code",
   "execution_count": 3,
   "metadata": {},
   "outputs": [
    {
     "data": {
      "text/plain": [
       "17"
      ]
     },
     "execution_count": 3,
     "metadata": {},
     "output_type": "execute_result"
    }
   ],
   "source": [
    "acc = 0\n",
    "for i in x:\n",
    "    acc = acc + i\n",
    "acc"
   ]
  },
  {
   "cell_type": "code",
   "execution_count": 43,
   "metadata": {},
   "outputs": [
    {
     "data": {
      "text/plain": [
       "20"
      ]
     },
     "execution_count": 43,
     "metadata": {},
     "output_type": "execute_result"
    }
   ],
   "source": [
    "from functools import reduce\n",
    "reduce(lambda x, y: x+y, x, 3)"
   ]
  },
  {
   "cell_type": "code",
   "execution_count": 19,
   "metadata": {},
   "outputs": [
    {
     "ename": "SyntaxError",
     "evalue": "can't assign to function call (<ipython-input-19-a744ecdde0a2>, line 3)",
     "output_type": "error",
     "traceback": [
      "\u001b[1;36m  File \u001b[1;32m\"<ipython-input-19-a744ecdde0a2>\"\u001b[1;36m, line \u001b[1;32m3\u001b[0m\n\u001b[1;33m    fat(0) = 1\u001b[0m\n\u001b[1;37m              ^\u001b[0m\n\u001b[1;31mSyntaxError\u001b[0m\u001b[1;31m:\u001b[0m can't assign to function call\n"
     ]
    }
   ],
   "source": [
    "## - Fat em Haskell\n",
    "\n",
    "fat 0  = 1\n",
    "fat n = n*fat(n-1)"
   ]
  },
  {
   "cell_type": "code",
   "execution_count": 20,
   "metadata": {},
   "outputs": [],
   "source": [
    "def fat(n):\n",
    "    if n == 0:\n",
    "        return 1\n",
    "    else:\n",
    "        return n * fat(n-1)"
   ]
  },
  {
   "cell_type": "code",
   "execution_count": 21,
   "metadata": {},
   "outputs": [
    {
     "data": {
      "text/plain": [
       "1"
      ]
     },
     "execution_count": 21,
     "metadata": {},
     "output_type": "execute_result"
    }
   ],
   "source": [
    "fat(0)"
   ]
  },
  {
   "cell_type": "code",
   "execution_count": 22,
   "metadata": {},
   "outputs": [
    {
     "data": {
      "text/plain": [
       "120"
      ]
     },
     "execution_count": 22,
     "metadata": {},
     "output_type": "execute_result"
    }
   ],
   "source": [
    "fat(5)"
   ]
  },
  {
   "cell_type": "markdown",
   "metadata": {},
   "source": [
    "# Conceito de Recursividade ( Acima )"
   ]
  },
  {
   "cell_type": "code",
   "execution_count": 26,
   "metadata": {},
   "outputs": [
    {
     "data": {
      "text/plain": [
       "[4, 5, 6, 7]"
      ]
     },
     "execution_count": 26,
     "metadata": {},
     "output_type": "execute_result"
    }
   ],
   "source": [
    "list(filter(lambda x: x>3, [1,2,3,4,5,6,7]))"
   ]
  },
  {
   "cell_type": "code",
   "execution_count": 28,
   "metadata": {},
   "outputs": [
    {
     "data": {
      "text/plain": [
       "[1.0,\n",
       " 0.25,\n",
       " 0.1111111111111111,\n",
       " 0.0625,\n",
       " 0.04,\n",
       " 0.027777777777777776,\n",
       " 0.02040816326530612]"
      ]
     },
     "execution_count": 28,
     "metadata": {},
     "output_type": "execute_result"
    }
   ],
   "source": [
    "list(map(lambda n: 1/n**2, [1,2,3,4,5,6,7]))"
   ]
  },
  {
   "cell_type": "code",
   "execution_count": null,
   "metadata": {},
   "outputs": [],
   "source": [
    "## [30, 5, 12, 8, 1, 5, 100, 9] - multiplique isso aqui por 1.5e soma somente os valores > 20. NUMA LNHA Só"
   ]
  },
  {
   "cell_type": "code",
   "execution_count": 49,
   "metadata": {},
   "outputs": [
    {
     "ename": "TypeError",
     "evalue": "'float' object is not iterable",
     "output_type": "error",
     "traceback": [
      "\u001b[1;31m---------------------------------------------------------------------------\u001b[0m",
      "\u001b[1;31mTypeError\u001b[0m                                 Traceback (most recent call last)",
      "\u001b[1;32m<ipython-input-49-71b831125520>\u001b[0m in \u001b[0;36m<module>\u001b[1;34m\u001b[0m\n\u001b[1;32m----> 1\u001b[1;33m \u001b[0mlist\u001b[0m\u001b[1;33m(\u001b[0m\u001b[0mreduce\u001b[0m\u001b[1;33m(\u001b[0m\u001b[1;32mlambda\u001b[0m \u001b[0mx\u001b[0m\u001b[1;33m,\u001b[0m \u001b[0my\u001b[0m\u001b[1;33m:\u001b[0m \u001b[0mx\u001b[0m\u001b[1;33m+\u001b[0m\u001b[0my\u001b[0m\u001b[1;33m,\u001b[0m\u001b[0mfilter\u001b[0m\u001b[1;33m(\u001b[0m\u001b[1;32mlambda\u001b[0m \u001b[0mx\u001b[0m \u001b[1;33m:\u001b[0m \u001b[0mx\u001b[0m \u001b[1;33m>\u001b[0m\u001b[1;36m20\u001b[0m \u001b[1;33m,\u001b[0m \u001b[0mmap\u001b[0m\u001b[1;33m(\u001b[0m\u001b[1;32mlambda\u001b[0m \u001b[0mx\u001b[0m\u001b[1;33m:\u001b[0m \u001b[0mx\u001b[0m\u001b[1;33m*\u001b[0m\u001b[1;36m1.5\u001b[0m\u001b[1;33m,\u001b[0m \u001b[1;33m[\u001b[0m\u001b[1;36m30\u001b[0m\u001b[1;33m,\u001b[0m \u001b[1;36m5\u001b[0m\u001b[1;33m,\u001b[0m \u001b[1;36m12\u001b[0m\u001b[1;33m,\u001b[0m \u001b[1;36m8\u001b[0m\u001b[1;33m,\u001b[0m \u001b[1;36m1\u001b[0m\u001b[1;33m,\u001b[0m \u001b[1;36m5\u001b[0m\u001b[1;33m,\u001b[0m \u001b[1;36m100\u001b[0m\u001b[1;33m,\u001b[0m \u001b[1;36m9\u001b[0m\u001b[1;33m]\u001b[0m\u001b[1;33m)\u001b[0m\u001b[1;33m)\u001b[0m\u001b[1;33m)\u001b[0m\u001b[1;33m)\u001b[0m\u001b[1;33m\u001b[0m\u001b[1;33m\u001b[0m\u001b[0m\n\u001b[0m",
      "\u001b[1;31mTypeError\u001b[0m: 'float' object is not iterable"
     ]
    }
   ],
   "source": [
    "list(reduce(lambda x, y: x+y,filter(lambda x : x >20 , map(lambda x: x*1.5, [30, 5, 12, 8, 1, 5, 100, 9]))))"
   ]
  },
  {
   "cell_type": "code",
   "execution_count": 52,
   "metadata": {},
   "outputs": [
    {
     "data": {
      "text/plain": [
       "[45.0, 150.0]"
      ]
     },
     "execution_count": 52,
     "metadata": {},
     "output_type": "execute_result"
    }
   ],
   "source": [
    "list(filter(lambda x : x >20 , map(lambda x: x*1.5, [30, 5, 12, 8, 1, 5, 100, 9])))"
   ]
  },
  {
   "cell_type": "code",
   "execution_count": null,
   "metadata": {},
   "outputs": [],
   "source": []
  }
 ],
 "metadata": {
  "kernelspec": {
   "display_name": "Python 3",
   "language": "python",
   "name": "python3"
  },
  "language_info": {
   "codemirror_mode": {
    "name": "ipython",
    "version": 3
   },
   "file_extension": ".py",
   "mimetype": "text/x-python",
   "name": "python",
   "nbconvert_exporter": "python",
   "pygments_lexer": "ipython3",
   "version": "3.7.3"
  }
 },
 "nbformat": 4,
 "nbformat_minor": 2
}
