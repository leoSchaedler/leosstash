{
  "cells": [
    {
      "cell_type": "markdown",
      "metadata": {
        "id": "g8xP7rGBDTYT"
      },
      "source": [
        "# Atividade Spark SQL, Visualização, Estatística Descritiva - Atividade 5\n",
        "\n",
        "Considerando o dataset detalhado a seguir, extraia o conjunto de informações solicitadas.\n",
        "\n",
        "### Dataset dados de sensores veicular\n",
        "\n",
        "- Dados relativos a vários sensores instalados em um carro durante a sua locomoção em diferentes terrenos\n",
        "- ~700MB\n",
        "- ~1M de instâncias\n",
        "\n",
        "\n",
        "| #  \t| Nome do campo           \t| Descrição                                                                     \t|\n",
        "|----\t|-------------------------\t|-------------------------------------------------------------------------------\t|\n",
        "| 0  \t| timestamp               \t| timestamp da medição                                                          \t|\n",
        "| 1  \t| acc_x_dashboard         \t| Valor do acelerometro no eixo X                                               \t|\n",
        "| 2  \t| acc_y_dashboard         \t| Valor do acelerometro no eixo Y                                               \t|\n",
        "| 3  \t| acc_z_dashboard         \t| Valor do acelerometro no eixo Z                                               \t|\n",
        "| 4  \t| acc_x_above_suspension  \t| Valor do acelerometro sobre a suspensão no eixo X                             \t|\n",
        "| 5  \t| acc_y_above_suspension  \t| Valor do acelerometro sobre a suspensão no eixo Y                             \t|\n",
        "| 6  \t| acc_z_above_suspension  \t| Valor do acelerometro sobre a suspensão no eixo Z                             \t|\n",
        "| 7  \t| acc_x_below_suspension  \t| Valor do acelerometro sob a suspensão no eixo X                               \t|\n",
        "| 8  \t| acc_y_below_suspension  \t| Valor do acelerometro sob a suspensão no eixo Y                               \t|\n",
        "| 9  \t| acc_z_below_suspension  \t| Valor do acelerometro sob a suspensão no eixo Z                               \t|\n",
        "| 10 \t| gyro_x_dashboard        \t| Valor do giroscópio (velocidade angular) no eixo X                            \t|\n",
        "| 11 \t| gyro_y_dashboard        \t| Valor do giroscópio (velocidade angular) no eixo Y                            \t|\n",
        "| 12 \t| gyro_z_dashboard        \t| Valor do giroscópio (velocidade angular) no eixo Z                            \t|\n",
        "| 13 \t| gyro_x_above_suspension \t| Valor do giroscópio (velocidade angular) sobre a suspensão no eixo X          \t|\n",
        "| 14 \t| gyro_y_above_suspension \t| Valor do giroscópio (velocidade angular) sobre a suspensão no eixo Y          \t|\n",
        "| 15 \t| gyro_z_above_suspension \t| Valor do giroscópio (velocidade angular) sobre a suspensão no eixo Z          \t|\n",
        "| 16 \t| gyro_x_below_suspension \t| Valor do giroscópio (velocidade angular) sob a suspensão no eixo X            \t|\n",
        "| 17 \t| gyro_y_below_suspension \t| Valor do giroscópio (velocidade angular) sob a suspensão no eixo Y            \t|\n",
        "| 18 \t| gyro_z_below_suspension \t| Valor do giroscópio (velocidade angular) sob a suspensão no eixo Z            \t|\n",
        "| 19 \t| mag_x_dashboard         \t| Valor da intensidade do campo magnético no eixo X                             \t|\n",
        "| 20 \t| mag_y_dashboard         \t| Valor da intensidade do campo magnético no eixo Y                             \t|\n",
        "| 21 \t| mag_z_dashboard         \t| Valor da intensidade do campo magnético no eixo Z                             \t|\n",
        "| 22 \t| mag_x_above_suspension  \t| Valor da intensidade do campo magnético sobre a suspensão no eixo X           \t|\n",
        "| 23 \t| mag_y_above_suspension  \t| Valor da intensidade do campo magnético sobre a suspensão no eixo Y           \t|\n",
        "| 24 \t| mag_z_above_suspension  \t| Valor da intensidade do campo magnético sobre a suspensão no eixo Z           \t|\n",
        "| 25 \t| temp_dashboard          \t| Temperatura                                                                   \t|\n",
        "| 26 \t| temp_above_suspension   \t| Temperatura sobre a suspensão                                                 \t|\n",
        "| 27 \t| temp_below_suspension   \t| Temperatura sob a suspensão                                                   \t|\n",
        "| 28 \t| timestamp_gps           \t| Timestamp do GPS                                                              \t|\n",
        "| 29 \t| latitude_x              \t| Latitude no eixo X                                                            \t|\n",
        "| 30 \t| longitude_x             \t| Longitude no eixo Y                                                           \t|\n",
        "| 31 \t| speed                   \t| Velocidade                                                                    \t|\n",
        "| 32 \t| latitude_y              \t| Latitude no eixo Y                                                            \t|\n",
        "| 33 \t| longitude_y             \t| Longitude no eixo Y                                                           \t|\n",
        "| 34 \t| elevation               \t| Elevação                                                                      \t|\n",
        "| 35 \t| accuracy                \t| Precisão do GPS                                                               \t|\n",
        "| 36 \t| bearing                 \t| Direção para o destino                                                        \t|\n",
        "| 37 \t| speed_meters_per_second \t| Velocidade em metros/segundo                                                  \t|\n",
        "| 38 \t| satellites              \t| # de satélites                                                                \t|\n",
        "| 39 \t| provider                \t| Provedor                                                                      \t|\n",
        "| 40 \t| hdop                    \t| Diluição da precisão horizontal do GPS (impacta acurácia do GPS)              \t|\n",
        "| 41 \t| vdop                    \t| Diluição da precisão vertical do GPS (impacta acurácia do GPS)                \t|\n",
        "| 42 \t| pdop                    \t| Diluição da precisão horizontal e vertical do GPS (impacta acurácia do   GPS) \t|\n",
        "| 43 \t| geoidheight             \t| Elevação do GPS                                                               \t|\n",
        "| 44 \t| ageofdgpsdata           \t| Tempo de vida do GPS                                                          \t|\n",
        "| 45 \t| dgpsid                  \t| Identificador do gps                                                          \t|\n",
        "| 46 \t| activity                \t| Atividade                                                                     \t|\n",
        "| 47 \t| battery                 \t| Nível de bateria                                                              \t|\n",
        "| 48 \t| annotation              \t| Anotação                                                                      \t|\n",
        "| 49 \t| distance_meters         \t| Distância em metros                                                           \t|\n",
        "| 50 \t| elapsed_time_seconds    \t| Tempo percorrido                                                              \t|\n",
        "| 51 \t| paved_road              \t| 1 se rua pavimentada                                                          \t|\n",
        "| 52 \t| unpaved_road            \t| 1 se rua não é pavimentada                                                    \t|\n",
        "| 53 \t| dirt_road               \t| 1 se rua de terra                                                             \t|\n",
        "| 54 \t| cobblestone_road        \t| 1 se rua de calçada                                                           \t|\n",
        "| 55 \t| asphalt_road            \t| 1 se rua de asfalto                                                           \t|\n",
        "| 56 \t| no_speed_bump           \t| 1 se não há lombada                                                           \t|\n",
        "| 57 \t| irregular_speed_bump    \t| 1 se há lombada irregular                                                     \t|\n",
        "| 58 \t| regular_speed_bump      \t| 1 se há lombada regular                                                       \t|\n",
        "\n",
        "**Informações a serem extraídas:**\n",
        "\n",
        "1. Gráfico com as medidas de frequência (Quantidade e Frequência) de acordo com o tipo de pavimento\n",
        "    - paved_road X unpaved_road\n",
        "2. Gráfico com os valores de tendência central (Média, Mediana) da velocidade de acordo com o tipo de pavimento\n",
        "    - paved_road X unpaved_road\n",
        "3. Valores de dispersão (Desvio Padrão, Amplitude) da velocidade de acordo com o tipo de pavimento\n",
        "    - paved_road X unpaved_road\n",
        "4. Valores de dispersão (Percentil Q1, Q2, Q3) da velocidade de acordo com o tipo de pavimento\n",
        "    - paved_road X unpaved_road\n",
        "5. Boxplot da velocidade de acordo com o pavimento (paved_road ou unpaved)\n",
        "6. Boxplot do acelerometro para os eixos X, Y e Z em paved_road\n",
        "7. Velocidade (speed) ao longo do tempo (timestamp_gps) em paved_road\n",
        "    - Atente para a quantidade de entradas\n",
        "    - Dica, sumarize a velocidade em intervalos de tempo para conseguir exibir\n",
        "8. Histograma da velocidade (speed) com 20 intervalos em paved\n",
        "9. Histograma da velocidade (speed) com 20 intervalos em unpaved\n",
        "10. Boxplot da velocidade (speed) em unpaved\n",
        "11. Quantidade de medições de outliers da velocidade (speed) em unpaved\n",
        "\n",
        "**Utilizando seu conhecimento sobre análise descritiva, procure determinar (coloque comentado na celula o critério utilizado para concluir a informação solicitada):**\n",
        "12. Qual é o melhor tipo de pavimento para dirigir?\n",
        "13. O tipo de pavimento influencia a dirigibilidade do veiculo?\n",
        "14. A temperatura da suspensão é influenciada por algum fator medido?\n",
        "\n",
        "**Dicas:**\n",
        "- *Crie uma célula (Insert -> Insert Cell Below) para cada informação solicitada*\n",
        "- *A análise deve ser feita sobre os dados do HDFS*\n",
        "- *Inicialize o seu cluster executando o script em: Desktop/ambientes/spark/inicializar.sh*\n",
        "- *Acesse o seu cluster executando o script em: Desktop/ambientes/spark/abrir_navegador.sh*"
      ]
    },
    {
      "cell_type": "code",
      "execution_count": null,
      "metadata": {
        "id": "7hNAVnN_DTYW"
      },
      "outputs": [],
      "source": [
        "#instala pyspark no google colab\n",
        "!pip install pyspark==3.3.1"
      ]
    },
    {
      "cell_type": "code",
      "source": [
        "# abre sessão no spark sql\n",
        "from pyspark.sql import SparkSession\n",
        "\n",
        "sc = SparkSession \\\n",
        "    .builder \\\n",
        "    .master('local[*]') \\\n",
        "    .getOrCreate()"
      ],
      "metadata": {
        "id": "llDSAtu-DXdc"
      },
      "execution_count": 2,
      "outputs": []
    },
    {
      "cell_type": "code",
      "source": [
        "#Efetua download do arquivo covid\n",
        "!gdown 1KvKLex7rA4LmTV_uOejZ4-okFXCLdY5E"
      ],
      "metadata": {
        "id": "WplasGJhDY1z"
      },
      "execution_count": null,
      "outputs": []
    },
    {
      "cell_type": "code",
      "execution_count": 5,
      "metadata": {
        "id": "tTNwQHahDTYX"
      },
      "outputs": [],
      "source": [
        "df=sc.read\\\n",
        "    .option('delimiter',',')\\\n",
        "    .option('header','true')\\\n",
        "    .option('inferschema','true')\\\n",
        "    .csv('file:////content/dados.csv')"
      ]
    },
    {
      "cell_type": "code",
      "execution_count": null,
      "metadata": {
        "id": "_houhj9WDTYX"
      },
      "outputs": [],
      "source": [
        "df.printSchema()"
      ]
    },
    {
      "cell_type": "code",
      "execution_count": null,
      "metadata": {
        "id": "MYNKNo-qDTYY"
      },
      "outputs": [],
      "source": []
    },
    {
      "cell_type": "code",
      "execution_count": null,
      "metadata": {
        "id": "G11phPNIDTYY"
      },
      "outputs": [],
      "source": []
    },
    {
      "cell_type": "code",
      "execution_count": null,
      "metadata": {
        "id": "PPgYvFh9DTYY"
      },
      "outputs": [],
      "source": []
    },
    {
      "cell_type": "code",
      "execution_count": null,
      "metadata": {
        "id": "wkpx4j7lDTYY"
      },
      "outputs": [],
      "source": [
        "#informação 1 - Gráfico com as medidas de frequência (Quantidade e Frequência) de acordo com o tipo de pavimento\n",
        "#        paved_road X unpaved_road\n"
      ]
    },
    {
      "cell_type": "code",
      "execution_count": null,
      "metadata": {
        "id": "3tDnQiy6DTYY"
      },
      "outputs": [],
      "source": []
    },
    {
      "cell_type": "code",
      "execution_count": null,
      "metadata": {
        "id": "z8mg1u28DTYZ"
      },
      "outputs": [],
      "source": []
    },
    {
      "cell_type": "code",
      "execution_count": null,
      "metadata": {
        "id": "qLUWs9uGDTYZ"
      },
      "outputs": [],
      "source": [
        "#informação 2 - Gráfico com os valores de tendência central (Média, Mediana) da velocidade de acordo com o tipo de pavimento\n",
        "#        paved_road X unpaved_road\n"
      ]
    },
    {
      "cell_type": "code",
      "execution_count": null,
      "metadata": {
        "id": "tuheNTQGDTYZ"
      },
      "outputs": [],
      "source": []
    },
    {
      "cell_type": "code",
      "execution_count": null,
      "metadata": {
        "id": "NH4YPVeeDTYZ"
      },
      "outputs": [],
      "source": []
    },
    {
      "cell_type": "code",
      "execution_count": null,
      "metadata": {
        "id": "5tBmh34LDTYZ"
      },
      "outputs": [],
      "source": [
        "#informação 3 - Valores de dispersão (Desvio Padrão, Amplitude) da velocidade de acordo com o tipo de pavimento\n",
        "#        paved_road X unpaved_road\n"
      ]
    },
    {
      "cell_type": "code",
      "execution_count": null,
      "metadata": {
        "id": "U6tubF_8DTYZ"
      },
      "outputs": [],
      "source": []
    },
    {
      "cell_type": "code",
      "execution_count": null,
      "metadata": {
        "id": "retQ30MYDTYZ"
      },
      "outputs": [],
      "source": []
    },
    {
      "cell_type": "code",
      "execution_count": null,
      "metadata": {
        "id": "pwkPJQVQDTYZ"
      },
      "outputs": [],
      "source": [
        "#informação 4 - Valores de dispersão (Percentil Q1, Q2, Q3) da velocidade de acordo com o tipo de pavimento\n",
        "#        paved_road X unpaved_road\n"
      ]
    },
    {
      "cell_type": "code",
      "execution_count": null,
      "metadata": {
        "id": "Mqn1j2OcDTYZ"
      },
      "outputs": [],
      "source": []
    },
    {
      "cell_type": "code",
      "execution_count": null,
      "metadata": {
        "id": "t5odrXjTDTYa"
      },
      "outputs": [],
      "source": []
    },
    {
      "cell_type": "code",
      "execution_count": null,
      "metadata": {
        "id": "tUqO9Tb4DTYa"
      },
      "outputs": [],
      "source": [
        "#informação 5 - Boxplot da velocidade de acordo com o pavimento (paved_road ou unpaved)\n"
      ]
    },
    {
      "cell_type": "code",
      "execution_count": null,
      "metadata": {
        "id": "Ka4UverwDTYa"
      },
      "outputs": [],
      "source": []
    },
    {
      "cell_type": "code",
      "execution_count": null,
      "metadata": {
        "id": "IrnRKQRsDTYa"
      },
      "outputs": [],
      "source": []
    },
    {
      "cell_type": "code",
      "execution_count": null,
      "metadata": {
        "id": "EC_iowUFDTYa"
      },
      "outputs": [],
      "source": [
        "#informação 6 - Boxplot do acelerometro para os eixos X, Y e Z em paved_road\n"
      ]
    },
    {
      "cell_type": "code",
      "execution_count": null,
      "metadata": {
        "id": "x6I3h_JlDTYa"
      },
      "outputs": [],
      "source": []
    },
    {
      "cell_type": "code",
      "execution_count": null,
      "metadata": {
        "id": "Xjx00TB1DTYa"
      },
      "outputs": [],
      "source": []
    },
    {
      "cell_type": "code",
      "execution_count": null,
      "metadata": {
        "id": "OhiD9ZrpDTYa"
      },
      "outputs": [],
      "source": [
        "#informação 7 - Velocidade (speed) ao longo do tempo (timestamp_gps) em paved_road\n",
        "#        Atente para a quantidade de entradas\n",
        "#        Dica, sumarize a velocidade em intervalos de tempo para conseguir exibir\n"
      ]
    },
    {
      "cell_type": "code",
      "execution_count": null,
      "metadata": {
        "id": "kWud-5IJDTYa"
      },
      "outputs": [],
      "source": []
    },
    {
      "cell_type": "code",
      "execution_count": null,
      "metadata": {
        "id": "eXFedW60DTYa"
      },
      "outputs": [],
      "source": []
    },
    {
      "cell_type": "code",
      "execution_count": null,
      "metadata": {
        "id": "OHRTRkAwDTYa"
      },
      "outputs": [],
      "source": [
        "#informação 8 - Histograma da velocidade (speed) com 20 intervalos em paved\n"
      ]
    },
    {
      "cell_type": "code",
      "execution_count": null,
      "metadata": {
        "id": "1RcagCNkDTYb"
      },
      "outputs": [],
      "source": []
    },
    {
      "cell_type": "code",
      "execution_count": null,
      "metadata": {
        "id": "kkp3a0ekDTYb"
      },
      "outputs": [],
      "source": []
    },
    {
      "cell_type": "code",
      "execution_count": null,
      "metadata": {
        "id": "5SQfoXRJDTYb"
      },
      "outputs": [],
      "source": [
        "#informação 9 - Histograma da velocidade (speed) com 20 intervalos em unpaved\n"
      ]
    },
    {
      "cell_type": "code",
      "execution_count": null,
      "metadata": {
        "id": "twqkNb7ODTYb"
      },
      "outputs": [],
      "source": []
    },
    {
      "cell_type": "code",
      "execution_count": null,
      "metadata": {
        "id": "NXwJNuWJDTYb"
      },
      "outputs": [],
      "source": []
    },
    {
      "cell_type": "code",
      "execution_count": null,
      "metadata": {
        "id": "sLSufAbDDTYb"
      },
      "outputs": [],
      "source": [
        "#informação 10 - Boxplot da velocidade (speed) em unpaved\n"
      ]
    },
    {
      "cell_type": "code",
      "execution_count": null,
      "metadata": {
        "id": "KeYU2H4xDTYb"
      },
      "outputs": [],
      "source": []
    },
    {
      "cell_type": "code",
      "execution_count": null,
      "metadata": {
        "id": "2Qa5rqiXDTYb"
      },
      "outputs": [],
      "source": []
    },
    {
      "cell_type": "code",
      "execution_count": null,
      "metadata": {
        "id": "QcmlZFdfDTYb"
      },
      "outputs": [],
      "source": [
        "#informação 11 - Quantidade de medições de outliers da velocidade (speed) em unpaved\n"
      ]
    },
    {
      "cell_type": "code",
      "execution_count": null,
      "metadata": {
        "id": "luh3c4OzDTYb"
      },
      "outputs": [],
      "source": []
    },
    {
      "cell_type": "code",
      "execution_count": null,
      "metadata": {
        "id": "xR4Y6_gVDTYe"
      },
      "outputs": [],
      "source": []
    },
    {
      "cell_type": "code",
      "execution_count": null,
      "metadata": {
        "id": "VxSBLSViDTYf"
      },
      "outputs": [],
      "source": [
        "#informação 12 - Qual é o melhor tipo de pavimento para dirigir?\n"
      ]
    },
    {
      "cell_type": "code",
      "execution_count": null,
      "metadata": {
        "id": "OV8CyT1CDTYf"
      },
      "outputs": [],
      "source": []
    },
    {
      "cell_type": "code",
      "execution_count": null,
      "metadata": {
        "id": "NTEZywV_DTYf"
      },
      "outputs": [],
      "source": []
    },
    {
      "cell_type": "code",
      "execution_count": null,
      "metadata": {
        "id": "OWXJjwvRDTYf"
      },
      "outputs": [],
      "source": [
        "#informação 13 - O tipo de pavimento influencia a dirigibilidade do veiculo?\n"
      ]
    },
    {
      "cell_type": "code",
      "execution_count": null,
      "metadata": {
        "id": "atslWGS7DTYf"
      },
      "outputs": [],
      "source": []
    },
    {
      "cell_type": "code",
      "execution_count": null,
      "metadata": {
        "id": "C15gl0-YDTYf"
      },
      "outputs": [],
      "source": []
    },
    {
      "cell_type": "code",
      "execution_count": null,
      "metadata": {
        "id": "VnDixRLVDTYf"
      },
      "outputs": [],
      "source": [
        "#informação 14 - A temperatura da suspensão é influenciada por algum fator medido?\n"
      ]
    },
    {
      "cell_type": "code",
      "execution_count": null,
      "metadata": {
        "id": "SyB2S1qTDTYg"
      },
      "outputs": [],
      "source": []
    },
    {
      "cell_type": "code",
      "execution_count": null,
      "metadata": {
        "id": "tC5piX1YDTYg"
      },
      "outputs": [],
      "source": []
    }
  ],
  "metadata": {
    "kernelspec": {
      "display_name": "Python 3",
      "language": "python",
      "name": "python3"
    },
    "language_info": {
      "codemirror_mode": {
        "name": "ipython",
        "version": 3
      },
      "file_extension": ".py",
      "mimetype": "text/x-python",
      "name": "python",
      "nbconvert_exporter": "python",
      "pygments_lexer": "ipython3",
      "version": "3.7.6"
    },
    "colab": {
      "provenance": []
    }
  },
  "nbformat": 4,
  "nbformat_minor": 0
}