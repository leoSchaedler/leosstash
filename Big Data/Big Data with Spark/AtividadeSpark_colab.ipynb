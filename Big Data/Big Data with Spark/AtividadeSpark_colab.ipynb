{
  "cells": [
    {
      "cell_type": "markdown",
      "metadata": {
        "id": "wAyIvfaaEdJd"
      },
      "source": [
        "# Atividade Spark\n",
        "\n",
        "Considerando o dataset detalhado a seguir, extraia o conjunto de informações solicitadas.\n",
        "\n",
        "### Dataset dados de COVID no Brasil\n",
        "\n",
        "- Dados relativos a pacientes que realizaram exames de Covid19 no Brasil ate Marco 2020\n",
        "- ~1.6GB\n",
        "- 4.4M de instâncias\n",
        "\n",
        "\n",
        "|  # | Nome do campo        \t| Descrição                                     \t|\n",
        "|----|----------------------\t|-----------------------------------------------\t|\n",
        "|  0 | id                   \t| identificador                                 \t|\n",
        "|  1 | dataNotificacao      \t| Data da notificação                           \t|\n",
        "|  2 | dataInicioSintomas   \t| Data do inicio dos sintomas                   \t|\n",
        "|  3 | dataNascimento       \t| Data de nascimento                            \t|\n",
        "|  4 | sintomas             \t| Sintomas do paciente                          \t|\n",
        "|  5 | profissionalSaude    \t| Relacionado a profissional de saúde           \t|\n",
        "|  6 | cbo                  \t| Ocupação                                      \t|\n",
        "|  7 | condicoes            \t| Condições do paciente                         \t|\n",
        "|  8 | estadoTeste          \t| Estado do teste                               \t|\n",
        "|  9 | dataTeste            \t| Data do teste                                 \t|\n",
        "| 10 | tipoTeste            \t| Tipo de teste realizado                       \t|\n",
        "| 11 | resultadoTeste       \t| Resultado do Teste                            \t|\n",
        "| 12 | paisOrigem           \t| Pais de Origem do paciente                    \t|\n",
        "| 13 | sexo                 \t| Sexo do paciente                              \t|\n",
        "| 14 | bairro               \t| Bairro do paciente                            \t|\n",
        "| 15 | estado               \t| Estado do paciente                            \t|\n",
        "| 16 | estadoIBGE              \t| Estado do paciente IBGE                          \t|\n",
        "| 17 | municipio            \t| Municipio do paciente                         \t|\n",
        "| 18 | municipioIBGE          \t| Municipio do paciente                         \t|\n",
        "| 19 | cep            \t        | CEP                                            \t|\n",
        "| 20 | origem               \t| Origem do paciente                            \t|\n",
        "| 21 | cnes                 \t| Código da unidade de saúde                    \t|\n",
        "| 22 | estadoNotificacao    \t| Estado da notificação                         \t|\n",
        "| 23 | estadoNotificacaoIBGE    | Estado da notificação IBGE                      \t|\n",
        "| 24 | municipioNotificacao \t| Município da notificação                      \t|\n",
        "| 25 | municipioNotificacaoIBGE | Município da notificação IBGE                    \t|\n",
        "| 26 | numeroNotificacao    \t| Número da notificação                         \t|\n",
        "| 27 | excluido             \t| ID de exclusão                                \t|\n",
        "| 28 | validado             \t| Local validação                               \t|\n",
        "| 29 | idade                \t| Idade do paciente                             \t|\n",
        "| 30 | dataEncerramento     \t| Data do encerramento da avaliação do paciente \t|\n",
        "| 31 | evolucaoCaso         \t| Evolução do caso do paciente                  \t|\n",
        "| 32 | classificacaoFinal   \t| Avaliação final do caso                       \t|\n",
        "\n",
        "Informações a serem extraídas:\n",
        "\n",
        "1. Quantidade de pacientes positivos para corona virus (resultadoTeste)\n",
        "2. Quantidade de pacientes do sexo feminino positivos para corona virus (resultadoTeste)\n",
        "3. Quantidade de pacientes de acordo com o sexo e o resultado do teste (resultadoTeste)\n",
        "4. Sintomas mais comuns para casos positivos para corona virus\n",
        "5. Sintomas mais comuns para casos não positivos para corona virus\n",
        "6. Quantidade de casos positivos no Paraná\n",
        "7. Municipio do Paraná com a maior quantidade de óbitos (evolucaoCaso)\n",
        "8. Quantidade de municipios no Paraná com casos positivos\n",
        "9. Quantidade de municipios no Paraná sem casos positivos\n",
        "10. Estado com a maior taxa de falecimento de mulheres\n",
        "11. Menor idade de mulher positiva para covid\n",
        "12. Maior idade de mulher positiva para covid\n",
        "13. Quantidade de casos positivos, em granularidade diária, ao longo do tempo\n",
        "14. Quantidade de casos positivos, em granularidade semanal, ao longo do tempo\n",
        "15. Quantidade de pacientes que faleceram (evolucaoCaso) separados pela idade\n",
        "16. Taxa de óbito (evolucaoCaso) por idade\n",
        "17. Idade média das mulheres positivas para covid\n",
        "18. Município do Paraná com a maior quantidade de mulheres positivos para covid\n",
        "19. Dia da semana com a maior quantidade de testes realizados\n",
        "20. Dia da semana com maior quantidade de pacientes positivos para corona virus\n",
        "21. Municipio, com mais de 500 testes, com a maior taxa de exames que não foram positivos para COVID (casos que foram testados porém não tiveram o resultadoTeste como Positivo)\n",
        "\n",
        "**Dicas:**\n",
        "- *Crie uma célula (Insert -> Insert Cell Below) para cada informação solicitada*"
      ]
    },
    {
      "cell_type": "code",
      "source": [],
      "metadata": {
        "id": "MOzkKQYcOL9g"
      },
      "execution_count": null,
      "outputs": []
    },
    {
      "cell_type": "code",
      "source": [
        "#instala pyspark no google colab\n",
        "!pip install pyspark==3.3.1"
      ],
      "metadata": {
        "id": "8_yyegCRE4YG"
      },
      "execution_count": null,
      "outputs": []
    },
    {
      "cell_type": "code",
      "execution_count": null,
      "metadata": {
        "id": "5oa0PA69EdJf"
      },
      "outputs": [],
      "source": [
        "# abre sessão no spark\n",
        "import pyspark\n",
        "conf = pyspark.SparkConf()\n",
        "conf.setMaster('local[*]')\n",
        "sc = pyspark.SparkContext.getOrCreate(conf)"
      ]
    },
    {
      "cell_type": "code",
      "source": [
        "#Efetua download do arquivo covid\n",
        "!gdown 1EYMih3Ys1-DmaIZ9n0Sl5KAcRGqtpuj9"
      ],
      "metadata": {
        "id": "dsLk2QFUE8cn"
      },
      "execution_count": null,
      "outputs": []
    },
    {
      "cell_type": "code",
      "source": [
        "#carrega arquivo da COVID em um rdd\n",
        "rdd = sc.textFile('file:////content/covid.csv')"
      ],
      "metadata": {
        "id": "WAohEGP2E9CO"
      },
      "execution_count": null,
      "outputs": []
    },
    {
      "cell_type": "code",
      "source": [],
      "metadata": {
        "id": "BWMbSmQ5Fgw1"
      },
      "execution_count": null,
      "outputs": []
    },
    {
      "cell_type": "code",
      "source": [],
      "metadata": {
        "id": "9Ys6WecLFge6"
      },
      "execution_count": null,
      "outputs": []
    },
    {
      "cell_type": "code",
      "source": [],
      "metadata": {
        "id": "O6hHt5tDFfp1"
      },
      "execution_count": null,
      "outputs": []
    },
    {
      "cell_type": "code",
      "execution_count": null,
      "metadata": {
        "id": "y-6j-VzxEdJg"
      },
      "outputs": [],
      "source": [
        "#informacao 1\n"
      ]
    },
    {
      "cell_type": "code",
      "source": [],
      "metadata": {
        "id": "iI12DL8aFhNU"
      },
      "execution_count": null,
      "outputs": []
    },
    {
      "cell_type": "code",
      "execution_count": null,
      "metadata": {
        "id": "c39VCGGuEdJg"
      },
      "outputs": [],
      "source": [
        "#informacao 2\n"
      ]
    },
    {
      "cell_type": "code",
      "source": [],
      "metadata": {
        "id": "-_V4lEqGFhhX"
      },
      "execution_count": null,
      "outputs": []
    },
    {
      "cell_type": "code",
      "execution_count": null,
      "metadata": {
        "id": "gAxnz6KtEdJg"
      },
      "outputs": [],
      "source": [
        "#informacao 3\n"
      ]
    },
    {
      "cell_type": "code",
      "source": [],
      "metadata": {
        "id": "Fxw62ebPFh6W"
      },
      "execution_count": null,
      "outputs": []
    },
    {
      "cell_type": "code",
      "execution_count": null,
      "metadata": {
        "id": "-tfKdf8lEdJg"
      },
      "outputs": [],
      "source": [
        "#informacao 4\n"
      ]
    },
    {
      "cell_type": "code",
      "source": [],
      "metadata": {
        "id": "MpxcM41WFiNU"
      },
      "execution_count": null,
      "outputs": []
    },
    {
      "cell_type": "code",
      "execution_count": null,
      "metadata": {
        "id": "_Pg5i0w5EdJg"
      },
      "outputs": [],
      "source": [
        "#informacao 5\n"
      ]
    },
    {
      "cell_type": "code",
      "source": [],
      "metadata": {
        "id": "Lkmv6LV9Fim9"
      },
      "execution_count": null,
      "outputs": []
    },
    {
      "cell_type": "code",
      "execution_count": null,
      "metadata": {
        "id": "pLmEO2EnEdJg"
      },
      "outputs": [],
      "source": [
        "#informacao 6\n"
      ]
    },
    {
      "cell_type": "code",
      "source": [],
      "metadata": {
        "id": "RHcCOe6XFizS"
      },
      "execution_count": null,
      "outputs": []
    },
    {
      "cell_type": "code",
      "execution_count": null,
      "metadata": {
        "id": "J9Tj1b1dEdJg"
      },
      "outputs": [],
      "source": [
        "#informacao 7\n"
      ]
    },
    {
      "cell_type": "code",
      "source": [],
      "metadata": {
        "id": "urN6jLETFjJx"
      },
      "execution_count": null,
      "outputs": []
    },
    {
      "cell_type": "code",
      "execution_count": null,
      "metadata": {
        "id": "_mJDcscmEdJh"
      },
      "outputs": [],
      "source": [
        "#informacao 8\n"
      ]
    },
    {
      "cell_type": "code",
      "source": [],
      "metadata": {
        "id": "yIxFL5TGFjVu"
      },
      "execution_count": null,
      "outputs": []
    },
    {
      "cell_type": "code",
      "execution_count": null,
      "metadata": {
        "id": "5MzFvirgEdJh"
      },
      "outputs": [],
      "source": [
        "#informacao 9\n"
      ]
    },
    {
      "cell_type": "code",
      "source": [],
      "metadata": {
        "id": "AHM6JnS5Fjq2"
      },
      "execution_count": null,
      "outputs": []
    },
    {
      "cell_type": "code",
      "execution_count": null,
      "metadata": {
        "id": "X_DOjqudEdJh"
      },
      "outputs": [],
      "source": [
        "#informacao 10\n"
      ]
    },
    {
      "cell_type": "code",
      "source": [],
      "metadata": {
        "id": "IUrSXeK0FkNR"
      },
      "execution_count": null,
      "outputs": []
    },
    {
      "cell_type": "code",
      "execution_count": null,
      "metadata": {
        "id": "tdSti370EdJh"
      },
      "outputs": [],
      "source": [
        "#informacao 11\n"
      ]
    },
    {
      "cell_type": "code",
      "source": [],
      "metadata": {
        "id": "JkXMcMvjFkgn"
      },
      "execution_count": null,
      "outputs": []
    },
    {
      "cell_type": "code",
      "execution_count": null,
      "metadata": {
        "id": "hA43YWXWEdJh"
      },
      "outputs": [],
      "source": [
        "#informacao 12\n"
      ]
    },
    {
      "cell_type": "code",
      "source": [],
      "metadata": {
        "id": "iYYdZaGpFkwy"
      },
      "execution_count": null,
      "outputs": []
    },
    {
      "cell_type": "code",
      "execution_count": null,
      "metadata": {
        "id": "uvkLha0CEdJh"
      },
      "outputs": [],
      "source": [
        "#informacao 13\n"
      ]
    },
    {
      "cell_type": "code",
      "source": [],
      "metadata": {
        "id": "mQCeV8ymFlG7"
      },
      "execution_count": null,
      "outputs": []
    },
    {
      "cell_type": "code",
      "execution_count": null,
      "metadata": {
        "id": "egPwzuMfEdJh"
      },
      "outputs": [],
      "source": [
        "#informacao 14\n"
      ]
    },
    {
      "cell_type": "code",
      "source": [],
      "metadata": {
        "id": "_Z8Ye120FlXe"
      },
      "execution_count": null,
      "outputs": []
    },
    {
      "cell_type": "code",
      "execution_count": null,
      "metadata": {
        "id": "eQ9nVlqVEdJh"
      },
      "outputs": [],
      "source": [
        "#informacao 15\n"
      ]
    },
    {
      "cell_type": "code",
      "source": [],
      "metadata": {
        "id": "NWSnQpf3Flmk"
      },
      "execution_count": null,
      "outputs": []
    },
    {
      "cell_type": "code",
      "execution_count": null,
      "metadata": {
        "id": "VqThUoisEdJh"
      },
      "outputs": [],
      "source": [
        "#informacao 16\n"
      ]
    },
    {
      "cell_type": "code",
      "source": [],
      "metadata": {
        "id": "solZFx95Fl1s"
      },
      "execution_count": null,
      "outputs": []
    },
    {
      "cell_type": "code",
      "execution_count": null,
      "metadata": {
        "id": "j6vwg5UiEdJi"
      },
      "outputs": [],
      "source": [
        "#informacao 17\n"
      ]
    },
    {
      "cell_type": "code",
      "source": [],
      "metadata": {
        "id": "EREh4QZWFmRf"
      },
      "execution_count": null,
      "outputs": []
    },
    {
      "cell_type": "code",
      "execution_count": null,
      "metadata": {
        "id": "Ph-iqND0EdJi"
      },
      "outputs": [],
      "source": [
        "#informacao 18\n"
      ]
    },
    {
      "cell_type": "code",
      "source": [],
      "metadata": {
        "id": "rjpRMJhIFmpw"
      },
      "execution_count": null,
      "outputs": []
    },
    {
      "cell_type": "code",
      "execution_count": null,
      "metadata": {
        "id": "qYTxR1LfEdJi"
      },
      "outputs": [],
      "source": [
        "#informacao 19\n"
      ]
    },
    {
      "cell_type": "code",
      "source": [],
      "metadata": {
        "id": "5kCxb_GqFnBo"
      },
      "execution_count": null,
      "outputs": []
    },
    {
      "cell_type": "code",
      "execution_count": null,
      "metadata": {
        "id": "FAwKh9vMEdJi"
      },
      "outputs": [],
      "source": [
        "#informacao 20\n"
      ]
    },
    {
      "cell_type": "code",
      "source": [],
      "metadata": {
        "id": "uXZSquGmFnvV"
      },
      "execution_count": null,
      "outputs": []
    },
    {
      "cell_type": "code",
      "execution_count": null,
      "metadata": {
        "id": "dR9HrH0HEdJi"
      },
      "outputs": [],
      "source": [
        "#informacao 21\n"
      ]
    },
    {
      "cell_type": "code",
      "source": [],
      "metadata": {
        "id": "C2_droiMFnlI"
      },
      "execution_count": null,
      "outputs": []
    }
  ],
  "metadata": {
    "kernelspec": {
      "display_name": "Python 3",
      "language": "python",
      "name": "python3"
    },
    "language_info": {
      "codemirror_mode": {
        "name": "ipython",
        "version": 3
      },
      "file_extension": ".py",
      "mimetype": "text/x-python",
      "name": "python",
      "nbconvert_exporter": "python",
      "pygments_lexer": "ipython3",
      "version": "3.7.6"
    },
    "colab": {
      "provenance": []
    }
  },
  "nbformat": 4,
  "nbformat_minor": 0
}