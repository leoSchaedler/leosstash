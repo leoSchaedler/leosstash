{
  "cells": [
    {
      "cell_type": "markdown",
      "metadata": {
        "id": "-n8u3NEIDhvi"
      },
      "source": [
        "# Atividade Spark SQL\n",
        "\n",
        "Considerando o dataset detalhado a seguir, extraia o conjunto de informações solicitadas.\n",
        "\n",
        "### Dataset dados da BOVESPA\n",
        "\n",
        "- Dados relativos a bovespa, a bolsa de valores no Brasil\n",
        "- ~1.3GB\n",
        "- 8.1M de instâncias\n",
        "\n",
        "\n",
        "| #  \t| Nome do campo                                                             \t| Descrição                                                                        \t|\n",
        "|----\t|---------------------------------------------------------------------------\t|----------------------------------------------------------------------------------\t|\n",
        "| 0  \t| RegisterType                                                             \t| Fixo '1'                                                                                 \t|\n",
        "| 1  \t| TradingDate                                                              \t| Data do pregão                                                                   \t|\n",
        "| 2  \t| BDICode                                                                  \t| Utilizado para classificar os papéis na emissão do boletim diário de informações \t|\n",
        "| 3  \t| NegociationCode                                                          \t| Codigo de negociação do papel                                                    \t|\n",
        "| 4  \t| MarketType                                                               \t| Cód. Do mercado em que o papel está cadastrado                                   \t|\n",
        "| 5  \t| TradeName                                                                \t| Nome resumido da empresa emissora do papel                                       \t|\n",
        "| 6  \t| Specification                                                             \t| Especificação do Papel                                                           \t|\n",
        "| 7  \t| ForwardMarketTermInDays                                               \t| Prazo em dias do mercado a termo                                                 \t|\n",
        "| 8  \t| Currency                                                                  \t| Moeda de referência                                                              \t|\n",
        "| 9  \t| OpeningPrice                                                             \t| Preço de abertura do papel no pregão                                             \t|\n",
        "| 10 \t| MaxPrice                                                                \t| Preço máximo do papel no pregão                                                  \t|\n",
        "| 11 \t| MinPrice                                                                \t| Preço mínimo do papel no pregão                                                  \t|\n",
        "| 12 \t| MeanPrice                                                                \t| Preço médio do papel no pregão                                                   \t|\n",
        "| 13 \t| LastTradePrice                                                          \t| Preço do último negócio do papel no pregão                                       \t|\n",
        "| 14 \t| BestPurshaseOrderPrice                                                 \t| Preço da melhor oferta de compra do papel no mercado                             \t|\n",
        "| 15 \t| BestPurshaseSalePrice                                                  \t| Preço da melhor oferta de venda do papel no mercado                              \t|\n",
        "| 16 \t| NumborOfTrades                                                          \t| Número de negócios efetuados com o papel no pregão                               \t|\n",
        "| 17 \t| NumberOfTradedStocks                                                   \t| Quantidade total de títulos negociados neste papel                               \t|\n",
        "| 18 \t| VolumeOfTradedStocks                                                   \t| Volume total de títulos negociados neste papel                                   \t|\n",
        "| 19 \t| PriceForOptionsMarketOrSecondaryTermMarket                         \t| Preço de exercício para o mercado de opções ou valor do contrato para o mercado  \t|\n",
        "| 20 \t| PriceCorrectionsForOptionsMarketOrSecondaryTermMarket             \t| Indicador de correção de preços de exercícios ou valores de contrato             \t|\n",
        "| 21 \t| DueDateForOptionsMarketOrSecondaryTermMarket                      \t| Data do vencimento para os mercados de opções                                    \t|\n",
        "| 22 \t| FactorOfPaperQuotatuion                                                \t| Fator de cotação do papel                                                        \t|\n",
        "| 23 \t| PointsInPriceForOptionsMarketReferencedInDollarOrSecondaryTerm \t| Preço de exercício em pontos para opções referenciadas em dólar                  \t|\n",
        "| 24 \t| ISINOrInternCode                                                       \t| Código do papel no sistema ISIN                                                  \t|\n",
        "| 25 \t| DistributionNumber                                                       \t| Número de distribuição do papel                                                  \t|\n",
        "\n",
        "Informações a serem extraídas:\n",
        "\n",
        "1. Quantidade de dias com operações da PETR4 (NegociationCode)\n",
        "2. Maior valor (MaxPrice) histórico por ação (NegociationCode)\n",
        "3. Maior valor (MaxPrice) histórico da PETR4 (NegociationCode)\n",
        "4. Dia ('TradingDate') com a maior quantidade de papeis (NegociationCode) operados\n",
        "5. Dia ('TradingDate') da semana com a maior quantidade de papeis (NegociationCode) operados\n",
        "6. Maior lucro histórico de um papel (NegociationCode) na bovespa (MaxPrice - OpeningPrice)\n",
        "7. Maior prejuizo histórico de um papel (NegociationCode) na bovespa (OpeningPrice - LastTradePrice)\n",
        "8. Moeda (Currency) com mais operações\n",
        "9. Papel (NegociationCode) operado em CZ (Currency) com maior quantidade de operações\n",
        "10. Papel (NegociationCode) operado em CZ (Currency) com maior valor médio das operações (MeanPrice)\n",
        "11. Media do preço médio (MeanPrice), mínimo (MinPrice) e máximo (MaxPrice) anual (TradingDate) das ações da PETR4 (NegociationCode)\n",
        "12. Preço médio (MeanPrice) anual (TradingDate) das ações da PETR4 (NegociationCode)\n",
        "13. Preço médio (MeanPrice) anual (TradingDate) das 10 ações (NegociationCode) com mais operações na bovespa\n",
        "14. Desvio Padrão anual do preço médio (MeanPrice) da ação da PETR4 (NegociationCode)\n",
        "15. Desvio Padrão anual do preço médio (MeanPrice) das 10 ações (NegociationCode) com mais operações na bovespa\n",
        "16. Preço médio (MeanPrice) anual (TradingDate) das ações (NegociationCode) com a maior quantidade de operações de acordo com a moeda (Currency)\n",
        "\n",
        "\n",
        "**Dicas:**\n",
        "- *Crie uma célula (Insert -> Insert Cell Below) para cada informação solicitada*"
      ]
    },
    {
      "cell_type": "code",
      "source": [
        "#instala pyspark no google colab\n",
        "!pip install pyspark==3.3.1"
      ],
      "metadata": {
        "id": "BIfB9IclEC2q"
      },
      "execution_count": null,
      "outputs": []
    },
    {
      "cell_type": "code",
      "source": [
        "# abre sessão no spark sql\n",
        "from pyspark.sql import SparkSession\n",
        "\n",
        "sc = SparkSession \\\n",
        "    .builder \\\n",
        "    .master('local[*]') \\\n",
        "    .getOrCreate()"
      ],
      "metadata": {
        "id": "-gijrrcmECTg"
      },
      "execution_count": null,
      "outputs": []
    },
    {
      "cell_type": "code",
      "source": [
        "#Efetua download do arquivo covid\n",
        "!gdown 1FbkYKnij5N6A2P3VLgfMLYhoPSb4_wur"
      ],
      "metadata": {
        "id": "BJ2IBv-mENOF"
      },
      "execution_count": null,
      "outputs": []
    },
    {
      "cell_type": "code",
      "execution_count": null,
      "metadata": {
        "id": "NJNnhsG5Dhvl"
      },
      "outputs": [],
      "source": [
        "df = sc.read \\\n",
        "    .option('delimiter', ',') \\\n",
        "    .option('header', 'true') \\\n",
        "    .option('inferschema', 'true') \\\n",
        "    .csv('file:////content/bovespa.csv')"
      ]
    },
    {
      "cell_type": "code",
      "source": [],
      "metadata": {
        "id": "V0dY_okCE6yY"
      },
      "execution_count": null,
      "outputs": []
    },
    {
      "cell_type": "code",
      "execution_count": null,
      "metadata": {
        "id": "6b9qSFCuDhvm"
      },
      "outputs": [],
      "source": []
    },
    {
      "cell_type": "code",
      "source": [],
      "metadata": {
        "id": "KBWzEWE1GO1D"
      },
      "execution_count": null,
      "outputs": []
    },
    {
      "cell_type": "code",
      "source": [],
      "metadata": {
        "id": "7gKgFeJ1GP1v"
      },
      "execution_count": null,
      "outputs": []
    },
    {
      "cell_type": "code",
      "source": [],
      "metadata": {
        "id": "6TOGVrq0GOW0"
      },
      "execution_count": null,
      "outputs": []
    },
    {
      "cell_type": "code",
      "execution_count": null,
      "metadata": {
        "id": "7sGAr7meDhvm"
      },
      "outputs": [],
      "source": [
        "#informacao 1\n"
      ]
    },
    {
      "cell_type": "code",
      "source": [],
      "metadata": {
        "id": "XnhSxNzFGAyc"
      },
      "execution_count": null,
      "outputs": []
    },
    {
      "cell_type": "code",
      "execution_count": null,
      "metadata": {
        "id": "95LTgCvqDhvm"
      },
      "outputs": [],
      "source": [
        "#informacao 2\n"
      ]
    },
    {
      "cell_type": "code",
      "source": [],
      "metadata": {
        "id": "82EalC73GBDU"
      },
      "execution_count": null,
      "outputs": []
    },
    {
      "cell_type": "code",
      "execution_count": null,
      "metadata": {
        "id": "Uk0t-ygRDhvm"
      },
      "outputs": [],
      "source": [
        "#informacao 3\n"
      ]
    },
    {
      "cell_type": "code",
      "source": [],
      "metadata": {
        "id": "ZTp707__GBUk"
      },
      "execution_count": null,
      "outputs": []
    },
    {
      "cell_type": "code",
      "execution_count": null,
      "metadata": {
        "id": "EKwQsjfGDhvm"
      },
      "outputs": [],
      "source": [
        "#informacao 4\n"
      ]
    },
    {
      "cell_type": "code",
      "source": [],
      "metadata": {
        "id": "Rr7Ste9JGIcg"
      },
      "execution_count": null,
      "outputs": []
    },
    {
      "cell_type": "code",
      "execution_count": null,
      "metadata": {
        "id": "ZbNzh8WJDhvm"
      },
      "outputs": [],
      "source": [
        "#informacao 5\n"
      ]
    },
    {
      "cell_type": "code",
      "source": [],
      "metadata": {
        "id": "1kp6NMHqGITA"
      },
      "execution_count": null,
      "outputs": []
    },
    {
      "cell_type": "code",
      "execution_count": null,
      "metadata": {
        "id": "VbD-8nkODhvn"
      },
      "outputs": [],
      "source": [
        "#informacao 6\n"
      ]
    },
    {
      "cell_type": "code",
      "source": [],
      "metadata": {
        "id": "5JV8diqjGID6"
      },
      "execution_count": null,
      "outputs": []
    },
    {
      "cell_type": "code",
      "execution_count": null,
      "metadata": {
        "id": "E3RwAl4vDhvn"
      },
      "outputs": [],
      "source": [
        "#informacao 7\n"
      ]
    },
    {
      "cell_type": "code",
      "source": [],
      "metadata": {
        "id": "ge4bBEoDGDvk"
      },
      "execution_count": null,
      "outputs": []
    },
    {
      "cell_type": "code",
      "execution_count": null,
      "metadata": {
        "id": "HTG5v6Z6Dhvn"
      },
      "outputs": [],
      "source": [
        "#informacao 8\n"
      ]
    },
    {
      "cell_type": "code",
      "source": [],
      "metadata": {
        "id": "zkWEFzjYGDnJ"
      },
      "execution_count": null,
      "outputs": []
    },
    {
      "cell_type": "code",
      "execution_count": null,
      "metadata": {
        "id": "5J63fYHuDhvn"
      },
      "outputs": [],
      "source": [
        "#informacao 9\n"
      ]
    },
    {
      "cell_type": "code",
      "source": [],
      "metadata": {
        "id": "IVHmD9M8GDes"
      },
      "execution_count": null,
      "outputs": []
    },
    {
      "cell_type": "code",
      "execution_count": null,
      "metadata": {
        "id": "oCD-PYDRDhvn"
      },
      "outputs": [],
      "source": [
        "#informacao 10\n"
      ]
    },
    {
      "cell_type": "code",
      "source": [],
      "metadata": {
        "id": "OmQdpv8vGDTH"
      },
      "execution_count": null,
      "outputs": []
    },
    {
      "cell_type": "code",
      "execution_count": null,
      "metadata": {
        "id": "o-wMRp2hDhvn"
      },
      "outputs": [],
      "source": [
        "#informacao 11\n"
      ]
    },
    {
      "cell_type": "code",
      "source": [],
      "metadata": {
        "id": "_3_3JDb6GDHJ"
      },
      "execution_count": null,
      "outputs": []
    },
    {
      "cell_type": "code",
      "execution_count": null,
      "metadata": {
        "id": "1H_sglgyDhvn"
      },
      "outputs": [],
      "source": [
        "#informacao 12\n"
      ]
    },
    {
      "cell_type": "code",
      "source": [],
      "metadata": {
        "id": "YbKTkNoNGCc8"
      },
      "execution_count": null,
      "outputs": []
    },
    {
      "cell_type": "code",
      "execution_count": null,
      "metadata": {
        "id": "beZ-bKCGDhvn"
      },
      "outputs": [],
      "source": [
        "#informacao 13\n"
      ]
    },
    {
      "cell_type": "code",
      "source": [],
      "metadata": {
        "id": "R81jkEliGCU3"
      },
      "execution_count": null,
      "outputs": []
    },
    {
      "cell_type": "code",
      "execution_count": null,
      "metadata": {
        "id": "Qb81anbIDhvo"
      },
      "outputs": [],
      "source": [
        "#informacao 14\n"
      ]
    },
    {
      "cell_type": "code",
      "source": [],
      "metadata": {
        "id": "Rq2ZJMu9GCME"
      },
      "execution_count": null,
      "outputs": []
    },
    {
      "cell_type": "code",
      "execution_count": null,
      "metadata": {
        "id": "T_VUm-3CDhvo"
      },
      "outputs": [],
      "source": [
        "#informacao 15\n"
      ]
    },
    {
      "cell_type": "code",
      "source": [],
      "metadata": {
        "id": "Cw1sHWAuGCBh"
      },
      "execution_count": null,
      "outputs": []
    },
    {
      "cell_type": "code",
      "execution_count": null,
      "metadata": {
        "id": "CMXXrUZ2Dhvo"
      },
      "outputs": [],
      "source": [
        "#informacao 16\n"
      ]
    },
    {
      "cell_type": "code",
      "source": [],
      "metadata": {
        "id": "KRf7i2J5GB4Y"
      },
      "execution_count": null,
      "outputs": []
    }
  ],
  "metadata": {
    "kernelspec": {
      "display_name": "Python 3",
      "language": "python",
      "name": "python3"
    },
    "language_info": {
      "codemirror_mode": {
        "name": "ipython",
        "version": 3
      },
      "file_extension": ".py",
      "mimetype": "text/x-python",
      "name": "python",
      "nbconvert_exporter": "python",
      "pygments_lexer": "ipython3",
      "version": "3.7.6"
    },
    "colab": {
      "provenance": []
    }
  },
  "nbformat": 4,
  "nbformat_minor": 0
}