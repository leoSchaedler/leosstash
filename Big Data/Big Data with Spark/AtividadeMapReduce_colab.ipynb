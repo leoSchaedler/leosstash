{
  "cells": [
    {
      "cell_type": "markdown",
      "metadata": {
        "id": "wAyIvfaaEdJd"
      },
      "source": [
        "# Atividade MapReduce\n",
        "\n",
        "Considerando o dataset detalhado a seguir, extraia o conjunto de informações solicitadas.\n",
        "\n",
        "### Dataset dados de operacoes comerciais entre paises\n",
        "- Dados relativos a transacoes comerciais entre paises ao longo do tempo\n",
        "- 2 bases:\n",
        "  - base.csv ~433MB (3M de eventos)\n",
        "  - base_sample.csv ~4MB (35k de eventos)\n",
        "- 4.4M de instâncias\n",
        "\n",
        "### Formato da base\n",
        "\n",
        "|  # | Nome do campo        \t| Descrição                                     \t|\n",
        "|----|----------------------\t|-----------------------------------------------\t|\n",
        "|  0 | \tPaís\tPaís envolvido na transação comercial|\n",
        "|  1 | \tAno\tAno em que a transação foi efetuada|\n",
        "|  2 | \tCódigo\tCódigo da mercadoria|\n",
        "|  3 | \tMercadoria \tDescrição da mercadoria|\n",
        "|  4 | \tFluxo\tFluxo, e.g. Exportação ou Importação|\n",
        "|  5 | \tValor\tValor em dólares|\n",
        "|  6 | \tPeso\tPeso da mercadoria|\n",
        "|  7 | \tUnidade \tUnidade de medida da mercadoria, e.g. Quantidade de itens|\n",
        "|  8 | \tQuantidade\tQuantidade conforme a unidade especificada da mercadoria|\n",
        "|  9 | \tCategoria\tCategoria da mercadoria, e.g. Produto Animal|\n",
        "\n",
        "\n",
        "### Informações a serem extraídas:\n",
        "\n",
        "1.\tPaís com a maior quantidade de transações comerciais efetuadas;\n",
        "2.\tMercadoria com a maior quantidade de transações comerciais no Brasil (como a base de dados está em inglês utilize Brazil, com Z, utilize a função “contains” do Java);\n",
        "3.\tQuantidade de transações financeiras realizadas por ano;\n",
        "4.\tMercadoria com maior quantidade de transações financeiras;\n",
        "5.\tMercadoria com maior quantidade de transações financeiras em 2016;\n",
        "6.\tMercadoria com maior quantidade de transações financeiras em 2016, no Brasil (como a base de dados está em inglês utilize Brazil, com Z);\n",
        "7.\tMercadoria com maior total de peso, de acordo com todas transações comerciais;\n",
        "8.\tMercadoria com maior total de peso, de acordo com todas transações comerciais, separadas de acordo com o ano;\n",
        "9.\tMédia de peso por mercadoria, separadas de acordo com o ano;\n",
        "10.\tMédia de peso por mercadoria comercializadas no Brasil (como a base de dados está em inglês utilize Brazil, com Z), separadas de acordo com o ano;\n",
        "11.\tMédia de peso por mercadoria comercializadas no Brasil (como a base de dados está em inglês utilize Brazil, com Z), em relação ao fluxo, separadas de acordo com o ano;\n",
        "12.\tPreco medio das commodities de acordo com o ano\n",
        "13.\tValores maximos, minimos e médios de cada tipo de mercadoria por ano\n",
        "14.\tPais com o maior preco da commodity em fluxos do tipo Export\n",
        "15.\tQuantidade de transações comerciais de acordo com o fluxo, de acordo com o ano;"
      ]
    },
    {
      "cell_type": "code",
      "source": [
        "#Instala ambiente local do MapReduce\n",
        "!pip --quiet install mrjob\n",
        "#Efetua download da base completa (400MB)  https://drive.google.com/file/d/1LdeDR5wKP15kUywI7491OmKzdMzVgO-c/view?usp=sharing\n",
        "!gdown 1LdeDR5wKP15kUywI7491OmKzdMzVgO-c\n",
        "#Efetua download da base parcial (4MB)   https://drive.google.com/file/d/1CBi-jpBlJrKX4BmWMO0bM-DjLeLXrnDm/view?usp=sharing\n",
        "!gdown 1CBi-jpBlJrKX4BmWMO0bM-DjLeLXrnDm"
      ],
      "metadata": {
        "id": "MOzkKQYcOL9g"
      },
      "execution_count": null,
      "outputs": []
    },
    {
      "cell_type": "code",
      "source": [],
      "metadata": {
        "id": "8_yyegCRE4YG"
      },
      "execution_count": null,
      "outputs": []
    },
    {
      "cell_type": "code",
      "execution_count": null,
      "metadata": {
        "id": "5oa0PA69EdJf"
      },
      "outputs": [],
      "source": []
    },
    {
      "cell_type": "markdown",
      "source": [
        "### Informação 1\n",
        " - País com a maior quantidade de transações comerciais efetuadas;"
      ],
      "metadata": {
        "id": "PRXOKvQzu7f9"
      }
    },
    {
      "cell_type": "code",
      "source": [
        "%%file pratica.py\n",
        "from mrjob.job import MRJob\n",
        "import sys\n",
        "\n",
        "class WordCount(MRJob):\n",
        "    def mapper(self, _, linha):\n",
        "      try:\n",
        "        campos = linha.split(';')\n",
        "        pais = campos[0]\n",
        "        yield(pais, 1)\n",
        "      except:\n",
        "        pass\n",
        "\n",
        "    def reducer(self, chave, valores):\n",
        "      valor = 0\n",
        "      for v in valores:\n",
        "        valor = valor + 1\n",
        "      yield(chave, valor)\n",
        "\n",
        "if __name__ == '__main__':\n",
        "     WordCount.run()"
      ],
      "metadata": {
        "id": "K1-g1QDbu5cX"
      },
      "execution_count": null,
      "outputs": []
    },
    {
      "cell_type": "markdown",
      "source": [
        "Teste prévio com base parcial (Top 1 = \"Canada\"\t936)"
      ],
      "metadata": {
        "id": "f3PFWNVKvDwK"
      }
    },
    {
      "cell_type": "code",
      "source": [
        "!rm -rf /content/atividade\n",
        "!python pratica.py /content/base_sample.csv --output-dir=/content/atividade\n",
        "print('\\nTop 10 Entradas da atividade')\n",
        "!cat /content/atividade/* | sort -k2,2rn -t$'\\t' | head -10"
      ],
      "metadata": {
        "id": "j7OzfeAnvDa0"
      },
      "execution_count": null,
      "outputs": []
    },
    {
      "cell_type": "markdown",
      "source": [
        "Teste com base completa (Top 1 = \"Australia\"\t89487)"
      ],
      "metadata": {
        "id": "2EmJ-fVevLJQ"
      }
    },
    {
      "cell_type": "code",
      "source": [
        "!rm -rf /content/atividade\n",
        "!python pratica.py /content/base.csv --output-dir=/content/atividade\n",
        "print('\\nTop 10 Entradas da atividade')\n",
        "!cat /content/atividade/* | sort -k2,2rn -t$'\\t' | head -10"
      ],
      "metadata": {
        "id": "rmLHhq0du5Zx"
      },
      "execution_count": null,
      "outputs": []
    },
    {
      "cell_type": "code",
      "source": [],
      "metadata": {
        "id": "14oxwV7uu5XW"
      },
      "execution_count": null,
      "outputs": []
    },
    {
      "cell_type": "code",
      "source": [],
      "metadata": {
        "id": "OAEhAofnu5Up"
      },
      "execution_count": null,
      "outputs": []
    },
    {
      "cell_type": "markdown",
      "source": [
        "### Informação 2\n",
        " - Mercadoria com a maior quantidade de transações comerciais no Brasil (como a base de dados está em inglês utilize Brazil, com Z)"
      ],
      "metadata": {
        "id": "IjERlJ1gyAlM"
      }
    },
    {
      "cell_type": "code",
      "source": [
        "%%file pratica.py\n",
        "from mrjob.job import MRJob\n",
        "import sys\n",
        "\n",
        "class WordCount(MRJob):\n",
        "    def mapper(self, _, linha):\n",
        "      yield('nada', 1)\n",
        "\n",
        "    def reducer(self, chave, valores):\n",
        "      yield('nada', 1)\n",
        "\n",
        "if __name__ == '__main__':\n",
        "     WordCount.run()"
      ],
      "metadata": {
        "id": "oeKIkcAmyAlM"
      },
      "execution_count": null,
      "outputs": []
    },
    {
      "cell_type": "markdown",
      "source": [
        "Teste prévio com base parcial"
      ],
      "metadata": {
        "id": "xkT46bN9yAlN"
      }
    },
    {
      "cell_type": "code",
      "source": [
        "!rm -rf /content/atividade\n",
        "!python pratica.py /content/base_sample.csv --output-dir=/content/atividade\n",
        "print('\\nTop 10 Entradas da atividade')\n",
        "!cat /content/atividade/* | sort -k2,2rn -t$'\\t' | head -10"
      ],
      "metadata": {
        "id": "-Z5dd55ayAlN"
      },
      "execution_count": null,
      "outputs": []
    },
    {
      "cell_type": "markdown",
      "source": [
        "Teste com base completa"
      ],
      "metadata": {
        "id": "KyOXAOwMyAlN"
      }
    },
    {
      "cell_type": "code",
      "source": [
        "!rm -rf /content/atividade\n",
        "!python pratica.py /content/base.csv --output-dir=/content/atividade\n",
        "print('\\nTop 10 Entradas da atividade')\n",
        "!cat /content/atividade/* | sort -k2,2rn -t$'\\t' | head -10"
      ],
      "metadata": {
        "id": "J8HzyIcLyAlN"
      },
      "execution_count": null,
      "outputs": []
    },
    {
      "cell_type": "code",
      "source": [],
      "metadata": {
        "id": "H1775c--yAlN"
      },
      "execution_count": null,
      "outputs": []
    },
    {
      "cell_type": "code",
      "source": [],
      "metadata": {
        "id": "iAriufiuu5NX"
      },
      "execution_count": null,
      "outputs": []
    },
    {
      "cell_type": "markdown",
      "source": [
        "### Informação 3\n",
        " - Quantidade de transações financeiras realizadas por ano;"
      ],
      "metadata": {
        "id": "rvi20aQEyjJ_"
      }
    },
    {
      "cell_type": "code",
      "source": [
        "%%file pratica.py\n",
        "from mrjob.job import MRJob\n",
        "import sys\n",
        "\n",
        "class WordCount(MRJob):\n",
        "    def mapper(self, _, linha):\n",
        "      yield('nada', 1)\n",
        "\n",
        "    def reducer(self, chave, valores):\n",
        "      yield('nada', 1)\n",
        "\n",
        "if __name__ == '__main__':\n",
        "     WordCount.run()"
      ],
      "metadata": {
        "id": "iqTfirfKyjKE"
      },
      "execution_count": null,
      "outputs": []
    },
    {
      "cell_type": "markdown",
      "source": [
        "Teste prévio com base parcial"
      ],
      "metadata": {
        "id": "_mEi9Dn6yjKE"
      }
    },
    {
      "cell_type": "code",
      "source": [
        "!rm -rf /content/atividade\n",
        "!python pratica.py /content/base_sample.csv --output-dir=/content/atividade\n",
        "print('\\nTop 10 Entradas da atividade')\n",
        "!cat /content/atividade/* | sort -k2,2rn -t$'\\t' | head -10"
      ],
      "metadata": {
        "id": "eny-_aXYyjKE"
      },
      "execution_count": null,
      "outputs": []
    },
    {
      "cell_type": "markdown",
      "source": [
        "Teste com base completa"
      ],
      "metadata": {
        "id": "z4kWzYVRyjKE"
      }
    },
    {
      "cell_type": "code",
      "source": [
        "!rm -rf /content/atividade\n",
        "!python pratica.py /content/base.csv --output-dir=/content/atividade\n",
        "print('\\nTop 10 Entradas da atividade')\n",
        "!cat /content/atividade/* | sort -k2,2rn -t$'\\t' | head -10"
      ],
      "metadata": {
        "id": "hvin6ScgyjKE"
      },
      "execution_count": null,
      "outputs": []
    },
    {
      "cell_type": "code",
      "source": [],
      "metadata": {
        "id": "q-bLnjYLyjKF"
      },
      "execution_count": null,
      "outputs": []
    },
    {
      "cell_type": "code",
      "source": [],
      "metadata": {
        "id": "Ahv4igj0u5K5"
      },
      "execution_count": null,
      "outputs": []
    },
    {
      "cell_type": "markdown",
      "source": [
        "### Informação 4\n",
        " - Mercadoria com maior quantidade de transações financeiras;"
      ],
      "metadata": {
        "id": "fPD9zvZpyn86"
      }
    },
    {
      "cell_type": "code",
      "source": [
        "%%file pratica.py\n",
        "from mrjob.job import MRJob\n",
        "import sys\n",
        "\n",
        "class WordCount(MRJob):\n",
        "    def mapper(self, _, linha):\n",
        "      yield('nada', 1)\n",
        "\n",
        "    def reducer(self, chave, valores):\n",
        "      yield('nada', 1)\n",
        "\n",
        "if __name__ == '__main__':\n",
        "     WordCount.run()"
      ],
      "metadata": {
        "id": "kwD8KEQwyn8_"
      },
      "execution_count": null,
      "outputs": []
    },
    {
      "cell_type": "markdown",
      "source": [
        "Teste prévio com base parcial"
      ],
      "metadata": {
        "id": "WF0iV2oVyn8_"
      }
    },
    {
      "cell_type": "code",
      "source": [
        "!rm -rf /content/atividade\n",
        "!python pratica.py /content/base_sample.csv --output-dir=/content/atividade\n",
        "print('\\nTop 10 Entradas da atividade')\n",
        "!cat /content/atividade/* | sort -k2,2rn -t$'\\t' | head -10"
      ],
      "metadata": {
        "id": "B6vjFM_myn8_"
      },
      "execution_count": null,
      "outputs": []
    },
    {
      "cell_type": "markdown",
      "source": [
        "Teste com base completa"
      ],
      "metadata": {
        "id": "QTri17_Zyn8_"
      }
    },
    {
      "cell_type": "code",
      "source": [
        "!rm -rf /content/atividade\n",
        "!python pratica.py /content/base.csv --output-dir=/content/atividade\n",
        "print('\\nTop 10 Entradas da atividade')\n",
        "!cat /content/atividade/* | sort -k2,2rn -t$'\\t' | head -10"
      ],
      "metadata": {
        "id": "2htfylGCyn8_"
      },
      "execution_count": null,
      "outputs": []
    },
    {
      "cell_type": "code",
      "source": [],
      "metadata": {
        "id": "fkO_RJ3syn8_"
      },
      "execution_count": null,
      "outputs": []
    },
    {
      "cell_type": "code",
      "source": [],
      "metadata": {
        "id": "bp16PeVuu5Ic"
      },
      "execution_count": null,
      "outputs": []
    },
    {
      "cell_type": "markdown",
      "source": [
        "### Informação 5\n",
        " - Mercadoria com maior quantidade de transações financeiras em 2016"
      ],
      "metadata": {
        "id": "4utZ6Yq9yrFq"
      }
    },
    {
      "cell_type": "code",
      "source": [
        "%%file pratica.py\n",
        "from mrjob.job import MRJob\n",
        "import sys\n",
        "\n",
        "class WordCount(MRJob):\n",
        "    def mapper(self, _, linha):\n",
        "      yield('nada', 1)\n",
        "\n",
        "    def reducer(self, chave, valores):\n",
        "      yield('nada', 1)\n",
        "\n",
        "if __name__ == '__main__':\n",
        "     WordCount.run()"
      ],
      "metadata": {
        "id": "_ErOALrAyrFv"
      },
      "execution_count": null,
      "outputs": []
    },
    {
      "cell_type": "markdown",
      "source": [
        "Teste prévio com base parcial"
      ],
      "metadata": {
        "id": "mAnHtbF0yrFv"
      }
    },
    {
      "cell_type": "code",
      "source": [
        "!rm -rf /content/atividade\n",
        "!python pratica.py /content/base_sample.csv --output-dir=/content/atividade\n",
        "print('\\nTop 10 Entradas da atividade')\n",
        "!cat /content/atividade/* | sort -k2,2rn -t$'\\t' | head -10"
      ],
      "metadata": {
        "id": "TypZLtILyrFv"
      },
      "execution_count": null,
      "outputs": []
    },
    {
      "cell_type": "markdown",
      "source": [
        "Teste com base completa"
      ],
      "metadata": {
        "id": "vSmaRLqhyrFv"
      }
    },
    {
      "cell_type": "code",
      "source": [
        "!rm -rf /content/atividade\n",
        "!python pratica.py /content/base.csv --output-dir=/content/atividade\n",
        "print('\\nTop 10 Entradas da atividade')\n",
        "!cat /content/atividade/* | sort -k2,2rn -t$'\\t' | head -10"
      ],
      "metadata": {
        "id": "y9KUZH7UyrFv"
      },
      "execution_count": null,
      "outputs": []
    },
    {
      "cell_type": "code",
      "source": [],
      "metadata": {
        "id": "4YS5c4MCyrFv"
      },
      "execution_count": null,
      "outputs": []
    },
    {
      "cell_type": "code",
      "source": [],
      "metadata": {
        "id": "Rge_TgkAu5F4"
      },
      "execution_count": null,
      "outputs": []
    },
    {
      "cell_type": "markdown",
      "source": [
        "### Informação 6\n",
        " - Mercadoria com maior quantidade de transações financeiras em 2016, no Brasil (como a base de dados está em inglês utilize Brazil, com Z);"
      ],
      "metadata": {
        "id": "APUwOzdyyvpe"
      }
    },
    {
      "cell_type": "code",
      "source": [
        "%%file pratica.py\n",
        "from mrjob.job import MRJob\n",
        "import sys\n",
        "\n",
        "class WordCount(MRJob):\n",
        "    def mapper(self, _, linha):\n",
        "      yield('nada', 1)\n",
        "\n",
        "    def reducer(self, chave, valores):\n",
        "      yield('nada', 1)\n",
        "\n",
        "if __name__ == '__main__':\n",
        "     WordCount.run()"
      ],
      "metadata": {
        "id": "SbaG0ezVyvpk"
      },
      "execution_count": null,
      "outputs": []
    },
    {
      "cell_type": "markdown",
      "source": [
        "Teste prévio com base parcial"
      ],
      "metadata": {
        "id": "F3Y6CycEyvpk"
      }
    },
    {
      "cell_type": "code",
      "source": [
        "!rm -rf /content/atividade\n",
        "!python pratica.py /content/base_sample.csv --output-dir=/content/atividade\n",
        "print('\\nTop 10 Entradas da atividade')\n",
        "!cat /content/atividade/* | sort -k2,2rn -t$'\\t' | head -10"
      ],
      "metadata": {
        "id": "mbiO7Tugyvpk"
      },
      "execution_count": null,
      "outputs": []
    },
    {
      "cell_type": "markdown",
      "source": [
        "Teste com base completa"
      ],
      "metadata": {
        "id": "NqlnhhIayvpk"
      }
    },
    {
      "cell_type": "code",
      "source": [
        "!rm -rf /content/atividade\n",
        "!python pratica.py /content/base.csv --output-dir=/content/atividade\n",
        "print('\\nTop 10 Entradas da atividade')\n",
        "!cat /content/atividade/* | sort -k2,2rn -t$'\\t' | head -10"
      ],
      "metadata": {
        "id": "tbIqSMX2yvpk"
      },
      "execution_count": null,
      "outputs": []
    },
    {
      "cell_type": "code",
      "source": [],
      "metadata": {
        "id": "qlGdNFBzu5Dg"
      },
      "execution_count": null,
      "outputs": []
    },
    {
      "cell_type": "code",
      "source": [],
      "metadata": {
        "id": "3Y2AxxGvu5A8"
      },
      "execution_count": null,
      "outputs": []
    },
    {
      "cell_type": "code",
      "source": [],
      "metadata": {
        "id": "wNBGMv9fu4-f"
      },
      "execution_count": null,
      "outputs": []
    },
    {
      "cell_type": "markdown",
      "source": [
        "### Informação 7\n",
        " - Mercadoria com maior total de peso, de acordo com todas transações comerciais;"
      ],
      "metadata": {
        "id": "RvBTwoeJyz-3"
      }
    },
    {
      "cell_type": "code",
      "source": [
        "%%file pratica.py\n",
        "from mrjob.job import MRJob\n",
        "import sys\n",
        "\n",
        "class WordCount(MRJob):\n",
        "    def mapper(self, _, linha):\n",
        "      yield('nada', 1)\n",
        "\n",
        "    def reducer(self, chave, valores):\n",
        "      yield('nada', 1)\n",
        "\n",
        "if __name__ == '__main__':\n",
        "     WordCount.run()"
      ],
      "metadata": {
        "id": "WczDWkUlyz-4"
      },
      "execution_count": null,
      "outputs": []
    },
    {
      "cell_type": "markdown",
      "source": [
        "Teste prévio com base parcial"
      ],
      "metadata": {
        "id": "uTADJ3X1yz-4"
      }
    },
    {
      "cell_type": "code",
      "source": [
        "!rm -rf /content/atividade\n",
        "!python pratica.py /content/base_sample.csv --output-dir=/content/atividade\n",
        "print('\\nTop 10 Entradas da atividade')\n",
        "!cat /content/atividade/* | sort -k2,2rn -t$'\\t' | head -10"
      ],
      "metadata": {
        "id": "KsmAF-rfyz-4"
      },
      "execution_count": null,
      "outputs": []
    },
    {
      "cell_type": "markdown",
      "source": [
        "Teste com base completa"
      ],
      "metadata": {
        "id": "HL-Wyb31yz-4"
      }
    },
    {
      "cell_type": "code",
      "source": [
        "!rm -rf /content/atividade\n",
        "!python pratica.py /content/base.csv --output-dir=/content/atividade\n",
        "print('\\nTop 10 Entradas da atividade')\n",
        "!cat /content/atividade/* | sort -k2,2rn -t$'\\t' | head -10"
      ],
      "metadata": {
        "id": "JnVrO-8jyz-4"
      },
      "execution_count": null,
      "outputs": []
    },
    {
      "cell_type": "code",
      "source": [],
      "metadata": {
        "id": "ImGJNqpEu48B"
      },
      "execution_count": null,
      "outputs": []
    },
    {
      "cell_type": "code",
      "source": [],
      "metadata": {
        "id": "u2so-zAMu45j"
      },
      "execution_count": null,
      "outputs": []
    },
    {
      "cell_type": "code",
      "source": [],
      "metadata": {
        "id": "WwUdKFhmu43O"
      },
      "execution_count": null,
      "outputs": []
    },
    {
      "cell_type": "markdown",
      "source": [
        "### Informação 8\n",
        " - Mercadoria com maior total de peso, de acordo com todas transações comerciais, separadas de acordo com o ano;"
      ],
      "metadata": {
        "id": "SobP-0thy4ju"
      }
    },
    {
      "cell_type": "code",
      "source": [
        "%%file pratica.py\n",
        "from mrjob.job import MRJob\n",
        "import sys\n",
        "\n",
        "class WordCount(MRJob):\n",
        "    def mapper(self, _, linha):\n",
        "      yield('nada', 1)\n",
        "\n",
        "    def reducer(self, chave, valores):\n",
        "      yield('nada', 1)\n",
        "\n",
        "if __name__ == '__main__':\n",
        "     WordCount.run()"
      ],
      "metadata": {
        "id": "05zNdsbHy4jz"
      },
      "execution_count": null,
      "outputs": []
    },
    {
      "cell_type": "markdown",
      "source": [
        "Teste prévio com base parcial"
      ],
      "metadata": {
        "id": "tmMJjUvgy4jz"
      }
    },
    {
      "cell_type": "code",
      "source": [
        "!rm -rf /content/atividade\n",
        "!python pratica.py /content/base_sample.csv --output-dir=/content/atividade\n",
        "print('\\nTop 10 Entradas da atividade')\n",
        "!cat /content/atividade/* | sort -k2,2rn -t$'\\t' | head -10"
      ],
      "metadata": {
        "id": "KbnBoKTRy4jz"
      },
      "execution_count": null,
      "outputs": []
    },
    {
      "cell_type": "markdown",
      "source": [
        "Teste com base completa"
      ],
      "metadata": {
        "id": "7EGKWFCLy4jz"
      }
    },
    {
      "cell_type": "code",
      "source": [
        "!rm -rf /content/atividade\n",
        "!python pratica.py /content/base.csv --output-dir=/content/atividade\n",
        "print('\\nTop 10 Entradas da atividade')\n",
        "!cat /content/atividade/* | sort -k2,2rn -t$'\\t' | head -10"
      ],
      "metadata": {
        "id": "9ejLxdx3y4jz"
      },
      "execution_count": null,
      "outputs": []
    },
    {
      "cell_type": "code",
      "source": [],
      "metadata": {
        "id": "ImpdBWW2u40o"
      },
      "execution_count": null,
      "outputs": []
    },
    {
      "cell_type": "code",
      "source": [],
      "metadata": {
        "id": "1sKqEUjZu4yL"
      },
      "execution_count": null,
      "outputs": []
    },
    {
      "cell_type": "markdown",
      "source": [
        "### Informação 9\n",
        " - Média de peso por mercadoria, separadas de acordo com o ano;"
      ],
      "metadata": {
        "id": "ZUWxo-TLy_8l"
      }
    },
    {
      "cell_type": "code",
      "source": [
        "%%file pratica.py\n",
        "from mrjob.job import MRJob\n",
        "import sys\n",
        "\n",
        "class WordCount(MRJob):\n",
        "    def mapper(self, _, linha):\n",
        "      yield('nada', 1)\n",
        "\n",
        "    def reducer(self, chave, valores):\n",
        "      yield('nada', 1)\n",
        "\n",
        "if __name__ == '__main__':\n",
        "     WordCount.run()"
      ],
      "metadata": {
        "id": "wUGiqVIZy_8q"
      },
      "execution_count": null,
      "outputs": []
    },
    {
      "cell_type": "markdown",
      "source": [
        "Teste prévio com base parcial"
      ],
      "metadata": {
        "id": "bGRepZuCy_8q"
      }
    },
    {
      "cell_type": "code",
      "source": [
        "!rm -rf /content/atividade\n",
        "!python pratica.py /content/base_sample.csv --output-dir=/content/atividade\n",
        "print('\\nTop 10 Entradas da atividade')\n",
        "!cat /content/atividade/* | sort -k2,2rn -t$'\\t' | head -10"
      ],
      "metadata": {
        "id": "crWXiZyfy_8q"
      },
      "execution_count": null,
      "outputs": []
    },
    {
      "cell_type": "markdown",
      "source": [
        "Teste com base completa"
      ],
      "metadata": {
        "id": "SZtzQlWCy_8q"
      }
    },
    {
      "cell_type": "code",
      "source": [
        "!rm -rf /content/atividade\n",
        "!python pratica.py /content/base.csv --output-dir=/content/atividade\n",
        "print('\\nTop 10 Entradas da atividade')\n",
        "!cat /content/atividade/* | sort -k2,2rn -t$'\\t' | head -10"
      ],
      "metadata": {
        "id": "aGJtrY9Ky_8q"
      },
      "execution_count": null,
      "outputs": []
    },
    {
      "cell_type": "code",
      "source": [],
      "metadata": {
        "id": "i2sb5M-Hu4vv"
      },
      "execution_count": null,
      "outputs": []
    },
    {
      "cell_type": "code",
      "source": [],
      "metadata": {
        "id": "snNWyrcwu4tI"
      },
      "execution_count": null,
      "outputs": []
    },
    {
      "cell_type": "code",
      "source": [],
      "metadata": {
        "id": "YX0xtSmYu4qj"
      },
      "execution_count": null,
      "outputs": []
    },
    {
      "cell_type": "markdown",
      "source": [
        "### Informação 10\n",
        " - Média de peso por mercadoria comercializadas no Brasil (como a base de dados está em inglês utilize Brazil, com Z), separadas de acordo com o ano;"
      ],
      "metadata": {
        "id": "stoST7dWzDlr"
      }
    },
    {
      "cell_type": "code",
      "source": [
        "%%file pratica.py\n",
        "from mrjob.job import MRJob\n",
        "import sys\n",
        "\n",
        "class WordCount(MRJob):\n",
        "    def mapper(self, _, linha):\n",
        "      yield('nada', 1)\n",
        "\n",
        "    def reducer(self, chave, valores):\n",
        "      yield('nada', 1)\n",
        "\n",
        "if __name__ == '__main__':\n",
        "     WordCount.run()"
      ],
      "metadata": {
        "id": "LqEgvFWfzDlw"
      },
      "execution_count": null,
      "outputs": []
    },
    {
      "cell_type": "markdown",
      "source": [
        "Teste prévio com base parcial"
      ],
      "metadata": {
        "id": "jn2yrbtYzDlw"
      }
    },
    {
      "cell_type": "code",
      "source": [
        "!rm -rf /content/atividade\n",
        "!python pratica.py /content/base_sample.csv --output-dir=/content/atividade\n",
        "print('\\nTop 10 Entradas da atividade')\n",
        "!cat /content/atividade/* | sort -k2,2rn -t$'\\t' | head -10"
      ],
      "metadata": {
        "id": "RCBvxdoizDlw"
      },
      "execution_count": null,
      "outputs": []
    },
    {
      "cell_type": "markdown",
      "source": [
        "Teste com base completa"
      ],
      "metadata": {
        "id": "pqkdrGRHzDlw"
      }
    },
    {
      "cell_type": "code",
      "source": [
        "!rm -rf /content/atividade\n",
        "!python pratica.py /content/base.csv --output-dir=/content/atividade\n",
        "print('\\nTop 10 Entradas da atividade')\n",
        "!cat /content/atividade/* | sort -k2,2rn -t$'\\t' | head -10"
      ],
      "metadata": {
        "id": "kenl676YzDlw"
      },
      "execution_count": null,
      "outputs": []
    },
    {
      "cell_type": "code",
      "source": [],
      "metadata": {
        "id": "zR6d-2dEu4oN"
      },
      "execution_count": null,
      "outputs": []
    },
    {
      "cell_type": "code",
      "source": [],
      "metadata": {
        "id": "STqmBgGAzIOS"
      },
      "execution_count": null,
      "outputs": []
    },
    {
      "cell_type": "code",
      "source": [],
      "metadata": {
        "id": "j78H_MabzIMJ"
      },
      "execution_count": null,
      "outputs": []
    },
    {
      "cell_type": "markdown",
      "source": [
        "### Informação 11\n",
        " - Média de peso por mercadoria comercializadas no Brasil (como a base de dados está em inglês utilize Brazil, com Z), em relação ao fluxo, separadas de acordo com o ano;"
      ],
      "metadata": {
        "id": "oLFGzyoDzIcI"
      }
    },
    {
      "cell_type": "code",
      "source": [
        "%%file pratica.py\n",
        "from mrjob.job import MRJob\n",
        "import sys\n",
        "\n",
        "class WordCount(MRJob):\n",
        "    def mapper(self, _, linha):\n",
        "      yield('nada', 1)\n",
        "\n",
        "    def reducer(self, chave, valores):\n",
        "      yield('nada', 1)\n",
        "\n",
        "if __name__ == '__main__':\n",
        "     WordCount.run()"
      ],
      "metadata": {
        "id": "GNxK82UzzIcI"
      },
      "execution_count": null,
      "outputs": []
    },
    {
      "cell_type": "markdown",
      "source": [
        "Teste prévio com base parcial"
      ],
      "metadata": {
        "id": "JS_IRVTpzIcI"
      }
    },
    {
      "cell_type": "code",
      "source": [
        "!rm -rf /content/atividade\n",
        "!python pratica.py /content/base_sample.csv --output-dir=/content/atividade\n",
        "print('\\nTop 10 Entradas da atividade')\n",
        "!cat /content/atividade/* | sort -k2,2rn -t$'\\t' | head -10"
      ],
      "metadata": {
        "id": "haWm3EZFzIcI"
      },
      "execution_count": null,
      "outputs": []
    },
    {
      "cell_type": "markdown",
      "source": [
        "Teste com base completa"
      ],
      "metadata": {
        "id": "35fJu3DdzIcI"
      }
    },
    {
      "cell_type": "code",
      "source": [
        "!rm -rf /content/atividade\n",
        "!python pratica.py /content/base.csv --output-dir=/content/atividade\n",
        "print('\\nTop 10 Entradas da atividade')\n",
        "!cat /content/atividade/* | sort -k2,2rn -t$'\\t' | head -10"
      ],
      "metadata": {
        "id": "LOyWL0yyzIcI"
      },
      "execution_count": null,
      "outputs": []
    },
    {
      "cell_type": "code",
      "source": [],
      "metadata": {
        "id": "XutxGVXlzIcI"
      },
      "execution_count": null,
      "outputs": []
    },
    {
      "cell_type": "code",
      "source": [],
      "metadata": {
        "id": "rDfo25EpzIJ1"
      },
      "execution_count": null,
      "outputs": []
    },
    {
      "cell_type": "code",
      "source": [],
      "metadata": {
        "id": "bEVXPMh0zIHs"
      },
      "execution_count": null,
      "outputs": []
    },
    {
      "cell_type": "markdown",
      "source": [
        "### Informação 12\n",
        " - Preco medio das commodities de acordo com o ano"
      ],
      "metadata": {
        "id": "z5hsFMl2zM1X"
      }
    },
    {
      "cell_type": "code",
      "source": [
        "%%file pratica.py\n",
        "from mrjob.job import MRJob\n",
        "import sys\n",
        "\n",
        "class WordCount(MRJob):\n",
        "    def mapper(self, _, linha):\n",
        "      yield('nada', 1)\n",
        "\n",
        "    def reducer(self, chave, valores):\n",
        "      yield('nada', 1)\n",
        "\n",
        "if __name__ == '__main__':\n",
        "     WordCount.run()"
      ],
      "metadata": {
        "id": "Jlv_DLqjzM1X"
      },
      "execution_count": null,
      "outputs": []
    },
    {
      "cell_type": "markdown",
      "source": [
        "Teste prévio com base parcial"
      ],
      "metadata": {
        "id": "-kvka7zWzM1Y"
      }
    },
    {
      "cell_type": "code",
      "source": [
        "!rm -rf /content/atividade\n",
        "!python pratica.py /content/base_sample.csv --output-dir=/content/atividade\n",
        "print('\\nTop 10 Entradas da atividade')\n",
        "!cat /content/atividade/* | sort -k2,2rn -t$'\\t' | head -10"
      ],
      "metadata": {
        "id": "h-pRDHbszM1Y"
      },
      "execution_count": null,
      "outputs": []
    },
    {
      "cell_type": "markdown",
      "source": [
        "Teste com base completa"
      ],
      "metadata": {
        "id": "02Y9y0vvzM1Y"
      }
    },
    {
      "cell_type": "code",
      "source": [
        "!rm -rf /content/atividade\n",
        "!python pratica.py /content/base.csv --output-dir=/content/atividade\n",
        "print('\\nTop 10 Entradas da atividade')\n",
        "!cat /content/atividade/* | sort -k2,2rn -t$'\\t' | head -10"
      ],
      "metadata": {
        "id": "X2vSkc4TzM1Y"
      },
      "execution_count": null,
      "outputs": []
    },
    {
      "cell_type": "code",
      "source": [],
      "metadata": {
        "id": "0A6Yp5pHzIFe"
      },
      "execution_count": null,
      "outputs": []
    },
    {
      "cell_type": "code",
      "source": [],
      "metadata": {
        "id": "Atyt8hhmzIC4"
      },
      "execution_count": null,
      "outputs": []
    },
    {
      "cell_type": "markdown",
      "source": [
        "### Informação 13\n",
        " - Valores maximos, minimos e médios de cada tipo de mercadoria por ano"
      ],
      "metadata": {
        "id": "RZmUJsEJzf81"
      }
    },
    {
      "cell_type": "code",
      "source": [
        "%%file pratica.py\n",
        "from mrjob.job import MRJob\n",
        "import sys\n",
        "\n",
        "class WordCount(MRJob):\n",
        "    def mapper(self, _, linha):\n",
        "      yield('nada', 1)\n",
        "\n",
        "    def reducer(self, chave, valores):\n",
        "      yield('nada', 1)\n",
        "\n",
        "if __name__ == '__main__':\n",
        "     WordCount.run()"
      ],
      "metadata": {
        "id": "k3EuPt4zzf81"
      },
      "execution_count": null,
      "outputs": []
    },
    {
      "cell_type": "markdown",
      "source": [
        "Teste prévio com base parcial"
      ],
      "metadata": {
        "id": "Oy2uz-a3zf82"
      }
    },
    {
      "cell_type": "code",
      "source": [
        "!rm -rf /content/atividade\n",
        "!python pratica.py /content/base_sample.csv --output-dir=/content/atividade\n",
        "print('\\nTop 10 Entradas da atividade')\n",
        "!cat /content/atividade/* | sort -k2,2rn -t$'\\t' | head -10"
      ],
      "metadata": {
        "id": "mtIpVd5Vzf82"
      },
      "execution_count": null,
      "outputs": []
    },
    {
      "cell_type": "markdown",
      "source": [
        "Teste com base completa"
      ],
      "metadata": {
        "id": "J77Z57X2zf82"
      }
    },
    {
      "cell_type": "code",
      "source": [
        "!rm -rf /content/atividade\n",
        "!python pratica.py /content/base.csv --output-dir=/content/atividade\n",
        "print('\\nTop 10 Entradas da atividade')\n",
        "!cat /content/atividade/* | sort -k2,2rn -t$'\\t' | head -10"
      ],
      "metadata": {
        "id": "zKs2-K-zzf82"
      },
      "execution_count": null,
      "outputs": []
    },
    {
      "cell_type": "code",
      "source": [],
      "metadata": {
        "id": "t9OzspG8zqB0"
      },
      "execution_count": null,
      "outputs": []
    },
    {
      "cell_type": "code",
      "source": [],
      "metadata": {
        "id": "Stzeb88iztQE"
      },
      "execution_count": null,
      "outputs": []
    },
    {
      "cell_type": "markdown",
      "source": [
        "### Informação 14\n",
        " - Pais com o maior preco da commodity em fluxos do tipo Export"
      ],
      "metadata": {
        "id": "pcFnYAKoztg2"
      }
    },
    {
      "cell_type": "code",
      "source": [
        "%%file pratica.py\n",
        "from mrjob.job import MRJob\n",
        "import sys\n",
        "\n",
        "class WordCount(MRJob):\n",
        "    def mapper(self, _, linha):\n",
        "      yield('nada', 1)\n",
        "\n",
        "    def reducer(self, chave, valores):\n",
        "      yield('nada', 1)\n",
        "\n",
        "if __name__ == '__main__':\n",
        "     WordCount.run()"
      ],
      "metadata": {
        "id": "muu3daACztg2"
      },
      "execution_count": null,
      "outputs": []
    },
    {
      "cell_type": "markdown",
      "source": [
        "Teste prévio com base parcial"
      ],
      "metadata": {
        "id": "6W-lz6vtztg2"
      }
    },
    {
      "cell_type": "code",
      "source": [
        "!rm -rf /content/atividade\n",
        "!python pratica.py /content/base_sample.csv --output-dir=/content/atividade\n",
        "print('\\nTop 10 Entradas da atividade')\n",
        "!cat /content/atividade/* | sort -k2,2rn -t$'\\t' | head -10"
      ],
      "metadata": {
        "id": "Q1mFjIqBztg2"
      },
      "execution_count": null,
      "outputs": []
    },
    {
      "cell_type": "markdown",
      "source": [
        "Teste com base completa"
      ],
      "metadata": {
        "id": "459ZTL8oztg2"
      }
    },
    {
      "cell_type": "code",
      "source": [
        "!rm -rf /content/atividade\n",
        "!python pratica.py /content/base.csv --output-dir=/content/atividade\n",
        "print('\\nTop 10 Entradas da atividade')\n",
        "!cat /content/atividade/* | sort -k2,2rn -t$'\\t' | head -10"
      ],
      "metadata": {
        "id": "AsB0wX4Jztg3"
      },
      "execution_count": null,
      "outputs": []
    },
    {
      "cell_type": "code",
      "source": [],
      "metadata": {
        "id": "UdHqJpMZztKN"
      },
      "execution_count": null,
      "outputs": []
    },
    {
      "cell_type": "code",
      "source": [],
      "metadata": {
        "id": "4KzOva_C0KpX"
      },
      "execution_count": null,
      "outputs": []
    },
    {
      "cell_type": "code",
      "source": [],
      "metadata": {
        "id": "0OKfwD7A0KiA"
      },
      "execution_count": null,
      "outputs": []
    },
    {
      "cell_type": "markdown",
      "source": [
        "### Informação 15\n",
        " - Quantidade de transações comerciais de acordo com o fluxo, de acordo com o ano"
      ],
      "metadata": {
        "id": "wa-m-YVS0K11"
      }
    },
    {
      "cell_type": "code",
      "source": [
        "%%file pratica.py\n",
        "from mrjob.job import MRJob\n",
        "import sys\n",
        "\n",
        "class WordCount(MRJob):\n",
        "    def mapper(self, _, linha):\n",
        "      yield('nada', 1)\n",
        "\n",
        "    def reducer(self, chave, valores):\n",
        "      yield('nada', 1)\n",
        "\n",
        "if __name__ == '__main__':\n",
        "     WordCount.run()"
      ],
      "metadata": {
        "id": "6Hp79Axv0K12"
      },
      "execution_count": null,
      "outputs": []
    },
    {
      "cell_type": "markdown",
      "source": [
        "Teste prévio com base parcial"
      ],
      "metadata": {
        "id": "eLopft5r0K12"
      }
    },
    {
      "cell_type": "code",
      "source": [
        "!rm -rf /content/atividade\n",
        "!python pratica.py /content/base_sample.csv --output-dir=/content/atividade\n",
        "print('\\nTop 10 Entradas da atividade')\n",
        "!cat /content/atividade/* | sort -k2,2rn -t$'\\t' | head -10"
      ],
      "metadata": {
        "id": "ReLWyMor0K12"
      },
      "execution_count": null,
      "outputs": []
    },
    {
      "cell_type": "markdown",
      "source": [
        "Teste com base completa"
      ],
      "metadata": {
        "id": "ixK0Sslz0K12"
      }
    },
    {
      "cell_type": "code",
      "source": [
        "!rm -rf /content/atividade\n",
        "!python pratica.py /content/base.csv --output-dir=/content/atividade\n",
        "print('\\nTop 10 Entradas da atividade')\n",
        "!cat /content/atividade/* | sort -k2,2rn -t$'\\t' | head -10"
      ],
      "metadata": {
        "id": "iS6jIzlu0K12"
      },
      "execution_count": null,
      "outputs": []
    },
    {
      "cell_type": "code",
      "source": [],
      "metadata": {
        "id": "Gz1aEcxv0K12"
      },
      "execution_count": null,
      "outputs": []
    }
  ],
  "metadata": {
    "kernelspec": {
      "display_name": "Python 3",
      "language": "python",
      "name": "python3"
    },
    "language_info": {
      "codemirror_mode": {
        "name": "ipython",
        "version": 3
      },
      "file_extension": ".py",
      "mimetype": "text/x-python",
      "name": "python",
      "nbconvert_exporter": "python",
      "pygments_lexer": "ipython3",
      "version": "3.7.6"
    },
    "colab": {
      "provenance": []
    }
  },
  "nbformat": 4,
  "nbformat_minor": 0
}