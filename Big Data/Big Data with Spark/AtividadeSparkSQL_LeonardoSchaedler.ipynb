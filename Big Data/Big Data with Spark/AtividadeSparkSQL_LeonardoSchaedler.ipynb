{
  "cells": [
    {
      "cell_type": "markdown",
      "source": [
        "**Aluno: Leonardo Ribeiro Schaedler**"
      ],
      "metadata": {
        "id": "R7V6eAfFHznj"
      }
    },
    {
      "cell_type": "markdown",
      "metadata": {
        "id": "-n8u3NEIDhvi"
      },
      "source": [
        "# Atividade Spark SQL\n",
        "\n",
        "Considerando o dataset detalhado a seguir, extraia o conjunto de informações solicitadas.\n",
        "\n",
        "### Dataset dados da BOVESPA\n",
        "\n",
        "- Dados relativos a bovespa, a bolsa de valores no Brasil\n",
        "- ~1.3GB\n",
        "- 8.1M de instâncias\n",
        "\n",
        "\n",
        "| #  \t| Nome do campo                                                             \t| Descrição                                                                        \t|\n",
        "|----\t|---------------------------------------------------------------------------\t|----------------------------------------------------------------------------------\t|\n",
        "| 0  \t| RegisterType                                                             \t| Fixo '1'                                                                                 \t|\n",
        "| 1  \t| TradingDate                                                              \t| Data do pregão                                                                   \t|\n",
        "| 2  \t| BDICode                                                                  \t| Utilizado para classificar os papéis na emissão do boletim diário de informações \t|\n",
        "| 3  \t| NegociationCode                                                          \t| Codigo de negociação do papel                                                    \t|\n",
        "| 4  \t| MarketType                                                               \t| Cód. Do mercado em que o papel está cadastrado                                   \t|\n",
        "| 5  \t| TradeName                                                                \t| Nome resumido da empresa emissora do papel                                       \t|\n",
        "| 6  \t| Specification                                                             \t| Especificação do Papel                                                           \t|\n",
        "| 7  \t| ForwardMarketTermInDays                                               \t| Prazo em dias do mercado a termo                                                 \t|\n",
        "| 8  \t| Currency                                                                  \t| Moeda de referência                                                              \t|\n",
        "| 9  \t| OpeningPrice                                                             \t| Preço de abertura do papel no pregão                                             \t|\n",
        "| 10 \t| MaxPrice                                                                \t| Preço máximo do papel no pregão                                                  \t|\n",
        "| 11 \t| MinPrice                                                                \t| Preço mínimo do papel no pregão                                                  \t|\n",
        "| 12 \t| MeanPrice                                                                \t| Preço médio do papel no pregão                                                   \t|\n",
        "| 13 \t| LastTradePrice                                                          \t| Preço do último negócio do papel no pregão                                       \t|\n",
        "| 14 \t| BestPurshaseOrderPrice                                                 \t| Preço da melhor oferta de compra do papel no mercado                             \t|\n",
        "| 15 \t| BestPurshaseSalePrice                                                  \t| Preço da melhor oferta de venda do papel no mercado                              \t|\n",
        "| 16 \t| NumborOfTrades                                                          \t| Número de negócios efetuados com o papel no pregão                               \t|\n",
        "| 17 \t| NumberOfTradedStocks                                                   \t| Quantidade total de títulos negociados neste papel                               \t|\n",
        "| 18 \t| VolumeOfTradedStocks                                                   \t| Volume total de títulos negociados neste papel                                   \t|\n",
        "| 19 \t| PriceForOptionsMarketOrSecondaryTermMarket                         \t| Preço de exercício para o mercado de opções ou valor do contrato para o mercado  \t|\n",
        "| 20 \t| PriceCorrectionsForOptionsMarketOrSecondaryTermMarket             \t| Indicador de correção de preços de exercícios ou valores de contrato             \t|\n",
        "| 21 \t| DueDateForOptionsMarketOrSecondaryTermMarket                      \t| Data do vencimento para os mercados de opções                                    \t|\n",
        "| 22 \t| FactorOfPaperQuotatuion                                                \t| Fator de cotação do papel                                                        \t|\n",
        "| 23 \t| PointsInPriceForOptionsMarketReferencedInDollarOrSecondaryTerm \t| Preço de exercício em pontos para opções referenciadas em dólar                  \t|\n",
        "| 24 \t| ISINOrInternCode                                                       \t| Código do papel no sistema ISIN                                                  \t|\n",
        "| 25 \t| DistributionNumber                                                       \t| Número de distribuição do papel                                                  \t|\n",
        "\n",
        "Informações a serem extraídas:\n",
        "\n",
        "1. Quantidade de dias com operações da PETR4 (NegociationCode)\n",
        "2. Maior valor (MaxPrice) histórico por ação (NegociationCode)\n",
        "3. Maior valor (MaxPrice) histórico da PETR4 (NegociationCode)\n",
        "4. Dia ('TradingDate') com a maior quantidade de papeis (NegociationCode) operados\n",
        "5. Dia ('TradingDate') da semana com a maior quantidade de papeis (NegociationCode) operados\n",
        "6. Maior lucro histórico de um papel (NegociationCode) na bovespa (MaxPrice - OpeningPrice)\n",
        "7. Maior prejuizo histórico de um papel (NegociationCode) na bovespa (OpeningPrice - LastTradePrice)\n",
        "8. Moeda (Currency) com mais operações\n",
        "9. Papel (NegociationCode) operado em CZ (Currency) com maior quantidade de operações\n",
        "10. Papel (NegociationCode) operado em CZ (Currency) com maior valor médio das operações (MeanPrice)\n",
        "11. Media do preço médio (MeanPrice), mínimo (MinPrice) e máximo (MaxPrice) anual (TradingDate) das ações da PETR4 (NegociationCode)\n",
        "12. Preço médio (MeanPrice) anual (TradingDate) das ações da PETR4 (NegociationCode)\n",
        "13. Preço médio (MeanPrice) anual (TradingDate) das 10 ações (NegociationCode) com mais operações na bovespa\n",
        "14. Desvio Padrão anual do preço médio (MeanPrice) da ação da PETR4 (NegociationCode)\n",
        "15. Desvio Padrão anual do preço médio (MeanPrice) das 10 ações (NegociationCode) com mais operações na bovespa\n",
        "16. Preço médio (MeanPrice) anual (TradingDate) das ações (NegociationCode) com a maior quantidade de operações de acordo com a moeda (Currency)\n",
        "\n",
        "\n",
        "**Dicas:**\n",
        "- *Crie uma célula (Insert -> Insert Cell Below) para cada informação solicitada*"
      ]
    },
    {
      "cell_type": "code",
      "execution_count": 88,
      "metadata": {
        "colab": {
          "base_uri": "https://localhost:8080/"
        },
        "id": "BIfB9IclEC2q",
        "outputId": "d75136f6-8ea6-4c72-8a60-98a564b30a0a"
      },
      "outputs": [
        {
          "output_type": "stream",
          "name": "stdout",
          "text": [
            "Requirement already satisfied: pyspark==3.3.1 in /usr/local/lib/python3.10/dist-packages (3.3.1)\n",
            "Requirement already satisfied: py4j==0.10.9.5 in /usr/local/lib/python3.10/dist-packages (from pyspark==3.3.1) (0.10.9.5)\n"
          ]
        }
      ],
      "source": [
        "#instala pyspark no google colab\n",
        "!pip install pyspark==3.3.1"
      ]
    },
    {
      "cell_type": "code",
      "execution_count": 89,
      "metadata": {
        "id": "-gijrrcmECTg"
      },
      "outputs": [],
      "source": [
        "# abre sessão no spark sql\n",
        "from pyspark.sql import SparkSession\n",
        "\n",
        "sc = SparkSession \\\n",
        "    .builder \\\n",
        "    .master('local[*]') \\\n",
        "    .getOrCreate()"
      ]
    },
    {
      "cell_type": "code",
      "execution_count": 90,
      "metadata": {
        "colab": {
          "base_uri": "https://localhost:8080/"
        },
        "id": "BJ2IBv-mENOF",
        "outputId": "fe6e54cf-7c97-44dc-a763-bb8ea943863b"
      },
      "outputs": [
        {
          "output_type": "stream",
          "name": "stdout",
          "text": [
            "Downloading...\n",
            "From: https://drive.google.com/uc?id=1FbkYKnij5N6A2P3VLgfMLYhoPSb4_wur\n",
            "To: /content/bovespa.csv\n",
            "100% 1.29G/1.29G [00:15<00:00, 83.7MB/s]\n"
          ]
        }
      ],
      "source": [
        "#Efetua download do arquivo covid\n",
        "!gdown 1FbkYKnij5N6A2P3VLgfMLYhoPSb4_wur"
      ]
    },
    {
      "cell_type": "code",
      "execution_count": 91,
      "metadata": {
        "id": "NJNnhsG5Dhvl"
      },
      "outputs": [],
      "source": [
        "df = sc.read \\\n",
        "    .option('delimiter', ',') \\\n",
        "    .option('header', 'true') \\\n",
        "    .option('inferschema', 'true') \\\n",
        "    .csv('file:////content/bovespa.csv')"
      ]
    },
    {
      "cell_type": "code",
      "execution_count": 92,
      "metadata": {
        "colab": {
          "base_uri": "https://localhost:8080/"
        },
        "id": "V0dY_okCE6yY",
        "outputId": "9c2cf01c-0f53-42cc-8823-6c62deb00c4b"
      },
      "outputs": [
        {
          "output_type": "stream",
          "name": "stdout",
          "text": [
            "root\n",
            " |-- RegisterType: integer (nullable = true)\n",
            " |-- TradingDate: integer (nullable = true)\n",
            " |-- BDICode: double (nullable = true)\n",
            " |-- NegociationCode: string (nullable = true)\n",
            " |-- MarketType: integer (nullable = true)\n",
            " |-- TradeName: string (nullable = true)\n",
            " |-- Specification: string (nullable = true)\n",
            " |-- ForwardMarketTermInDays: string (nullable = true)\n",
            " |-- Currency: string (nullable = true)\n",
            " |-- OpeningPrice: double (nullable = true)\n",
            " |-- MaxPrice: double (nullable = true)\n",
            " |-- MinPrice: double (nullable = true)\n",
            " |-- MeanPrice: double (nullable = true)\n",
            " |-- LastTradePrice: double (nullable = true)\n",
            " |-- BestPurshaseOrderPrice: double (nullable = true)\n",
            " |-- BestPurshaseSalePrice: double (nullable = true)\n",
            " |-- NumborOfTrades: double (nullable = true)\n",
            " |-- NumberOfTradedStocks: double (nullable = true)\n",
            " |-- VolumeOfTradedStocks: double (nullable = true)\n",
            " |-- PriceForOptionsMarketOrSecondaryTermMarket: double (nullable = true)\n",
            " |-- PriceCorrectionsForOptionsMarketOrSecondaryTermMarket: double (nullable = true)\n",
            " |-- DueDateForOptionsMarketOrSecondaryTermMarket: double (nullable = true)\n",
            " |-- FactorOfPaperQuotatuion: double (nullable = true)\n",
            " |-- PointsInPriceForOptionsMarketReferencedInDollarOrSecondaryTerm: double (nullable = true)\n",
            " |-- ISINOrInternCode: string (nullable = true)\n",
            " |-- DistributionNumber: double (nullable = true)\n",
            "\n"
          ]
        }
      ],
      "source": [
        "df.printSchema()"
      ]
    },
    {
      "cell_type": "code",
      "execution_count": 93,
      "metadata": {
        "id": "6b9qSFCuDhvm"
      },
      "outputs": [],
      "source": [
        "df.createOrReplaceTempView('bovespa')"
      ]
    },
    {
      "cell_type": "code",
      "execution_count": 94,
      "metadata": {
        "colab": {
          "base_uri": "https://localhost:8080/"
        },
        "id": "KBWzEWE1GO1D",
        "outputId": "907d1cf5-91e6-4129-c083-4d5863ecf315"
      },
      "outputs": [
        {
          "output_type": "stream",
          "name": "stdout",
          "text": [
            "+-----------+---------------+\n",
            "|tradingDate|NegociationCode|\n",
            "+-----------+---------------+\n",
            "|   19980316|          PETR4|\n",
            "|   19980317|          PETR4|\n",
            "|   19980318|          PETR4|\n",
            "|   19980319|          PETR4|\n",
            "|   19980320|          PETR4|\n",
            "|   19980323|          PETR4|\n",
            "|   19980324|          PETR4|\n",
            "|   19980325|          PETR4|\n",
            "|   19980326|          PETR4|\n",
            "|   19980327|          PETR4|\n",
            "+-----------+---------------+\n",
            "only showing top 10 rows\n",
            "\n"
          ]
        }
      ],
      "source": [
        "sc.sql('select tradingDate, NegociationCode from bovespa where NegociationCode==\"PETR4\"').show(10)"
      ]
    },
    {
      "cell_type": "code",
      "execution_count": 95,
      "metadata": {
        "colab": {
          "base_uri": "https://localhost:8080/"
        },
        "id": "7gKgFeJ1GP1v",
        "outputId": "cf0073d5-f7f5-448d-d2d2-70d8bb150b32"
      },
      "outputs": [
        {
          "output_type": "stream",
          "name": "stdout",
          "text": [
            "+-----------+---------------+\n",
            "|TradingDate|NegociationCode|\n",
            "+-----------+---------------+\n",
            "|   19980316|          PETR4|\n",
            "|   19980317|          PETR4|\n",
            "|   19980318|          PETR4|\n",
            "|   19980319|          PETR4|\n",
            "|   19980320|          PETR4|\n",
            "|   19980323|          PETR4|\n",
            "|   19980324|          PETR4|\n",
            "|   19980325|          PETR4|\n",
            "|   19980326|          PETR4|\n",
            "|   19980327|          PETR4|\n",
            "+-----------+---------------+\n",
            "only showing top 10 rows\n",
            "\n"
          ]
        }
      ],
      "source": [
        "df.select('TradingDate', \"NegociationCode\")\\\n",
        "  .where(df.NegociationCode == 'PETR4')\\\n",
        "  .show(10)"
      ]
    },
    {
      "cell_type": "code",
      "execution_count": 96,
      "metadata": {
        "colab": {
          "base_uri": "https://localhost:8080/"
        },
        "id": "6TOGVrq0GOW0",
        "outputId": "4537963b-479f-44ae-95a0-56ce916236eb"
      },
      "outputs": [
        {
          "output_type": "stream",
          "name": "stdout",
          "text": [
            "+-----------+----+\n",
            "|TradingDate|  qt|\n",
            "+-----------+----+\n",
            "|   20191216|4652|\n",
            "|   20191212|4241|\n",
            "|   20191213|4223|\n",
            "|   20191118|4208|\n",
            "|   20190819|4135|\n",
            "|   20191114|4131|\n",
            "|   20191021|3975|\n",
            "|   20190916|3954|\n",
            "|   20191113|3930|\n",
            "|   20190715|3916|\n",
            "+-----------+----+\n",
            "only showing top 10 rows\n",
            "\n"
          ]
        }
      ],
      "source": [
        "import pyspark.sql.functions as func\n",
        "\n",
        "df.select('TradingDate', \"NegociationCode\")\\\n",
        "  .where(df.TradingDate >= 20100000)\\\n",
        "  .groupBy(df.TradingDate)\\\n",
        "  .agg(func.count('TradingDate').alias('qt'))\\\n",
        "  .orderBy('qt', ascending=False)\\\n",
        "  .show(10)"
      ]
    },
    {
      "cell_type": "code",
      "execution_count": 97,
      "metadata": {
        "id": "7sGAr7meDhvm"
      },
      "outputs": [],
      "source": [
        "#informacao 1\n",
        "# Quantidade de dias com operações da PETR4 (NegociationCode)\n"
      ]
    },
    {
      "cell_type": "code",
      "execution_count": 98,
      "metadata": {
        "colab": {
          "base_uri": "https://localhost:8080/"
        },
        "id": "XnhSxNzFGAyc",
        "outputId": "ce3654f3-b09d-40f5-93f3-a4fda14d188f"
      },
      "outputs": [
        {
          "output_type": "stream",
          "name": "stdout",
          "text": [
            "+--------+\n",
            "|count(1)|\n",
            "+--------+\n",
            "|    5391|\n",
            "+--------+\n",
            "\n"
          ]
        }
      ],
      "source": [
        "sc.sql('select count(*) from bovespa where NegociationCode == \"PETR4\" group by NegociationCode').show(10)"
      ]
    },
    {
      "cell_type": "code",
      "execution_count": 99,
      "metadata": {
        "id": "vhiYn7EpLw4Z",
        "colab": {
          "base_uri": "https://localhost:8080/"
        },
        "outputId": "7935f018-1a3f-4b30-87fb-d5ea117c8a2d"
      },
      "outputs": [
        {
          "output_type": "execute_result",
          "data": {
            "text/plain": [
              "5391"
            ]
          },
          "metadata": {},
          "execution_count": 99
        }
      ],
      "source": [
        "df.select(df.NegociationCode)\\\n",
        "  .where(df.NegociationCode == 'PETR4')\\\n",
        "  .count()"
      ]
    },
    {
      "cell_type": "code",
      "execution_count": 100,
      "metadata": {
        "id": "95LTgCvqDhvm"
      },
      "outputs": [],
      "source": [
        "#informacao 2\n",
        "# Maior valor (MaxPrice) histórico por ação (NegociationCode)"
      ]
    },
    {
      "cell_type": "code",
      "execution_count": 101,
      "metadata": {
        "id": "82EalC73GBDU",
        "colab": {
          "base_uri": "https://localhost:8080/"
        },
        "outputId": "0e3a0f00-e3ea-4674-da3f-871aae0ea30a"
      },
      "outputs": [
        {
          "output_type": "stream",
          "name": "stdout",
          "text": [
            "+---------------+-------------+\n",
            "|NegociationCode|max(MaxPrice)|\n",
            "+---------------+-------------+\n",
            "|          FGO 4|     240000.0|\n",
            "|          VAG 3|    5395600.0|\n",
            "|          EST 1|      18000.0|\n",
            "|          BIO 1|     160000.0|\n",
            "|         OEA 10|        270.0|\n",
            "|          OPC 9|       2000.0|\n",
            "|         OBE 18|        200.0|\n",
            "|         MAG 13|       6000.0|\n",
            "|         OPU 23|        700.0|\n",
            "|         OCZ 20|       9800.0|\n",
            "+---------------+-------------+\n",
            "only showing top 10 rows\n",
            "\n"
          ]
        }
      ],
      "source": [
        "sc.sql('select NegociationCode, max(MaxPrice) from bovespa group by NegociationCode').show(10)"
      ]
    },
    {
      "cell_type": "code",
      "execution_count": 102,
      "metadata": {
        "id": "b5ztxIyNMRAn",
        "colab": {
          "base_uri": "https://localhost:8080/"
        },
        "outputId": "b4eee6fa-2043-4d14-ab46-7514d5450a41"
      },
      "outputs": [
        {
          "output_type": "stream",
          "name": "stdout",
          "text": [
            "+---------------+----------+\n",
            "|NegociationCode|MaiorValor|\n",
            "+---------------+----------+\n",
            "|          FGO 4|  240000.0|\n",
            "|          VAG 3| 5395600.0|\n",
            "|          EST 1|   18000.0|\n",
            "|          BIO 1|  160000.0|\n",
            "|         OEA 10|     270.0|\n",
            "|          OPC 9|    2000.0|\n",
            "|         OBE 18|     200.0|\n",
            "|         MAG 13|    6000.0|\n",
            "|         OPU 23|     700.0|\n",
            "|         OCZ 20|    9800.0|\n",
            "+---------------+----------+\n",
            "only showing top 10 rows\n",
            "\n"
          ]
        }
      ],
      "source": [
        "df.select('NegociationCode', 'MaxPrice')\\\n",
        "  .groupBy('NegociationCode')\\\n",
        "  .agg(func.max('MaxPrice').alias('MaiorValor'))\\\n",
        "  .show(10)"
      ]
    },
    {
      "cell_type": "code",
      "execution_count": 103,
      "metadata": {
        "id": "Uk0t-ygRDhvm"
      },
      "outputs": [],
      "source": [
        "#informacao 3\n",
        "# Maior valor (MaxPrice) histórico da PETR4 (NegociationCode)"
      ]
    },
    {
      "cell_type": "code",
      "execution_count": 104,
      "metadata": {
        "id": "ZTp707__GBUk",
        "colab": {
          "base_uri": "https://localhost:8080/"
        },
        "outputId": "803f3389-9590-43b8-9a44-2e585c7fed10"
      },
      "outputs": [
        {
          "output_type": "stream",
          "name": "stdout",
          "text": [
            "+---------------+----------+\n",
            "|NegociationCode|MaiorValor|\n",
            "+---------------+----------+\n",
            "|          PETR4|   52100.0|\n",
            "+---------------+----------+\n",
            "\n"
          ]
        }
      ],
      "source": [
        "df.select('NegociationCode', 'MaxPrice')\\\n",
        "  .where(df.NegociationCode == 'PETR4')\\\n",
        "  .groupBy('NegociationCode')\\\n",
        "  .agg(func.max('MaxPrice').alias('MaiorValor'))\\\n",
        "  .show(10)"
      ]
    },
    {
      "cell_type": "code",
      "execution_count": 105,
      "metadata": {
        "id": "EKwQsjfGDhvm"
      },
      "outputs": [],
      "source": [
        "#informacao 4\n",
        "# Dia ('TradingDate') com a maior quantidade de papeis (NegociationCode) operados"
      ]
    },
    {
      "cell_type": "code",
      "execution_count": 106,
      "metadata": {
        "id": "PnwNEuYePd_7",
        "colab": {
          "base_uri": "https://localhost:8080/"
        },
        "outputId": "28e02e3a-df50-4136-eb0b-60fb5682b2cc"
      },
      "outputs": [
        {
          "output_type": "stream",
          "name": "stdout",
          "text": [
            "+-----------+----+\n",
            "|TradingDate|  qt|\n",
            "+-----------+----+\n",
            "|   20191216|4652|\n",
            "|   20191212|4241|\n",
            "|   20191213|4223|\n",
            "|   20191118|4208|\n",
            "|   20190819|4135|\n",
            "|   20191114|4131|\n",
            "|   20191021|3975|\n",
            "|   20190916|3954|\n",
            "|   20191113|3930|\n",
            "|   20190715|3916|\n",
            "+-----------+----+\n",
            "only showing top 10 rows\n",
            "\n"
          ]
        }
      ],
      "source": [
        "sc.sql('select TradingDate, count(*) as qt from bovespa group by TradingDate order by qt desc').show(10)"
      ]
    },
    {
      "cell_type": "code",
      "execution_count": 107,
      "metadata": {
        "id": "Rr7Ste9JGIcg",
        "colab": {
          "base_uri": "https://localhost:8080/"
        },
        "outputId": "53ad935d-ab1e-4290-80b7-4f958e3ba379"
      },
      "outputs": [
        {
          "output_type": "stream",
          "name": "stdout",
          "text": [
            "+-----------+----+\n",
            "|TradingDate|  qt|\n",
            "+-----------+----+\n",
            "|   20191216|4652|\n",
            "|   20191212|4241|\n",
            "|   20191213|4223|\n",
            "|   20191118|4208|\n",
            "|   20190819|4135|\n",
            "|   20191114|4131|\n",
            "|   20191021|3975|\n",
            "|   20190916|3954|\n",
            "|   20191113|3930|\n",
            "|   20190715|3916|\n",
            "+-----------+----+\n",
            "only showing top 10 rows\n",
            "\n"
          ]
        }
      ],
      "source": [
        "df.select('TradingDate')\\\n",
        "  .groupBy('TradingDate')\\\n",
        "  .agg(func.count('TradingDate').alias('qt'))\\\n",
        "  .orderBy('qt', ascending=False)\\\n",
        "  .show(10)"
      ]
    },
    {
      "cell_type": "code",
      "execution_count": 108,
      "metadata": {
        "id": "ZbNzh8WJDhvm"
      },
      "outputs": [],
      "source": [
        "#informacao 5\n",
        "# Dia ('TradingDate') da semana com a maior quantidade de papeis (NegociationCode) operados"
      ]
    },
    {
      "cell_type": "code",
      "execution_count": 109,
      "metadata": {
        "id": "MjYJ7fMhaL_N",
        "colab": {
          "base_uri": "https://localhost:8080/",
          "height": 35
        },
        "outputId": "2c4cbf11-51ae-4905-8ea4-01d82160b81f"
      },
      "outputs": [
        {
          "output_type": "execute_result",
          "data": {
            "text/plain": [
              "'Thursday'"
            ],
            "application/vnd.google.colaboratory.intrinsic+json": {
              "type": "string"
            }
          },
          "metadata": {},
          "execution_count": 109
        }
      ],
      "source": [
        "import datetime\n",
        "\n",
        "dia = '19860102'\n",
        "\n",
        "dt = datetime.datetime.strptime(dia, '%Y%m%d')\n",
        "\n",
        "dt.strftime('%A')"
      ]
    },
    {
      "cell_type": "code",
      "execution_count": 110,
      "metadata": {
        "id": "1kp6NMHqGITA",
        "colab": {
          "base_uri": "https://localhost:8080/"
        },
        "outputId": "cc0faf88-b6d0-4612-d819-3e6c87065d2f"
      },
      "outputs": [
        {
          "output_type": "stream",
          "name": "stdout",
          "text": [
            "+---------+-------+\n",
            "|diaSemana|     qt|\n",
            "+---------+-------+\n",
            "|Wednesday|1688444|\n",
            "|   Monday|1626494|\n",
            "|  Tuesday|1613747|\n",
            "|   Friday|1599650|\n",
            "| Thursday|1597353|\n",
            "| Saturday|      3|\n",
            "+---------+-------+\n",
            "\n"
          ]
        }
      ],
      "source": [
        "from pyspark.sql.functions import udf\n",
        "from pyspark.sql.types import StringType\n",
        "\n",
        "func_udf = udf(lambda tradingDate: datetime.datetime.strptime(str(tradingDate), '%Y%m%d').strftime('%A'), StringType())\n",
        "\n",
        "df.select('TradingDate')\\\n",
        "  .withColumn('diaSemana', func_udf('TradingDate'))\\\n",
        "  .groupBy(func.col('diaSemana'))\\\n",
        "  .agg(func.count('diaSemana').alias('qt'))\\\n",
        "  .orderBy(func.col('qt'), ascending=False)\\\n",
        "  .show(10)"
      ]
    },
    {
      "cell_type": "code",
      "execution_count": 111,
      "metadata": {
        "id": "VbD-8nkODhvn"
      },
      "outputs": [],
      "source": [
        "#informacao 6\n",
        "# Maior lucro histórico de um papel (NegociationCode) na bovespa (MaxPrice - OpeningPrice)"
      ]
    },
    {
      "cell_type": "code",
      "execution_count": 112,
      "metadata": {
        "id": "5JV8diqjGID6",
        "colab": {
          "base_uri": "https://localhost:8080/"
        },
        "outputId": "df9b42cd-d327-4c39-d234-c8e5d9de7f52"
      },
      "outputs": [
        {
          "output_type": "stream",
          "name": "stdout",
          "text": [
            "+---------------+---------+\n",
            "|NegociationCode|MaxProfit|\n",
            "+---------------+---------+\n",
            "|          ANT 3|  4.411E8|\n",
            "+---------------+---------+\n",
            "only showing top 1 row\n",
            "\n"
          ]
        }
      ],
      "source": [
        "df.select('NegociationCode', 'OpeningPrice', 'MaxPrice') \\\n",
        "  .withColumn('Profit', func.col('MaxPrice') - func.col('OpeningPrice')) \\\n",
        "  .groupBy('NegociationCode') \\\n",
        "  .agg(func.max('Profit').alias('MaxProfit')) \\\n",
        "  .orderBy('MaxProfit', ascending=False) \\\n",
        "  .show(1)"
      ]
    },
    {
      "cell_type": "code",
      "execution_count": 113,
      "metadata": {
        "id": "E3RwAl4vDhvn"
      },
      "outputs": [],
      "source": [
        "#informacao 7\n",
        "# Maior prejuizo histórico de um papel (NegociationCode) na bovespa (OpeningPrice - LastTradePrice)"
      ]
    },
    {
      "cell_type": "code",
      "execution_count": 114,
      "metadata": {
        "id": "ge4bBEoDGDvk",
        "colab": {
          "base_uri": "https://localhost:8080/"
        },
        "outputId": "7b5016c5-c8c7-4a8d-bbb7-8866329eade2"
      },
      "outputs": [
        {
          "output_type": "stream",
          "name": "stdout",
          "text": [
            "+---------------+-------+\n",
            "|NegociationCode|MaxLoss|\n",
            "+---------------+-------+\n",
            "|          ANT 3| 1.45E8|\n",
            "+---------------+-------+\n",
            "only showing top 1 row\n",
            "\n"
          ]
        }
      ],
      "source": [
        "df.select('NegociationCode', 'OpeningPrice', 'LastTradePrice') \\\n",
        "  .withColumn('Loss', func.col('OpeningPrice') - func.col('LastTradePrice')) \\\n",
        "  .groupBy('NegociationCode') \\\n",
        "  .agg(func.max('Loss').alias('MaxLoss')) \\\n",
        "  .orderBy('MaxLoss', ascending=False) \\\n",
        "  .show(1)"
      ]
    },
    {
      "cell_type": "code",
      "execution_count": 115,
      "metadata": {
        "id": "HTG5v6Z6Dhvn"
      },
      "outputs": [],
      "source": [
        "#informacao 8\n",
        "# Moeda (Currency) com mais operações"
      ]
    },
    {
      "cell_type": "code",
      "execution_count": 116,
      "metadata": {
        "id": "zkWEFzjYGDnJ",
        "colab": {
          "base_uri": "https://localhost:8080/"
        },
        "outputId": "f6770454-9efb-4da7-c4cc-6d980669ebba"
      },
      "outputs": [
        {
          "output_type": "stream",
          "name": "stdout",
          "text": [
            "+--------+-------+\n",
            "|Currency|     qt|\n",
            "+--------+-------+\n",
            "|      R$|6995662|\n",
            "|     CR$| 498562|\n",
            "|     CZ$| 458842|\n",
            "|    NCZ$| 172625|\n",
            "+--------+-------+\n",
            "\n"
          ]
        }
      ],
      "source": [
        "df.select('Currency')\\\n",
        "  .groupBy('Currency')\\\n",
        "  .agg(func.count('Currency').alias('qt'))\\\n",
        "  .orderBy('qt', ascending=False)\\\n",
        "  .show(10)"
      ]
    },
    {
      "cell_type": "code",
      "execution_count": 117,
      "metadata": {
        "id": "5J63fYHuDhvn"
      },
      "outputs": [],
      "source": [
        "#informacao 9\n",
        "# Papel (NegociationCode) operado em CZ (Currency) com maior quantidade de operações"
      ]
    },
    {
      "cell_type": "code",
      "execution_count": 135,
      "metadata": {
        "id": "IVHmD9M8GDes",
        "colab": {
          "base_uri": "https://localhost:8080/"
        },
        "outputId": "e8b1a4b6-33f8-424c-d7e7-ce4858d7cdc1"
      },
      "outputs": [
        {
          "output_type": "stream",
          "name": "stdout",
          "text": [
            "+---------------+----+\n",
            "|NegociationCode|  qt|\n",
            "+---------------+----+\n",
            "|          PMA 2|2002|\n",
            "+---------------+----+\n",
            "only showing top 1 row\n",
            "\n"
          ]
        }
      ],
      "source": [
        "df.select('NegociationCode', 'Currency')\\\n",
        "  .where(df.Currency == 'CZ$')\\\n",
        "  .groupBy('NegociationCode')\\\n",
        "  .agg(func.count('NegociationCode').alias('qt'))\\\n",
        "  .orderBy('qt', ascending=False)\\\n",
        "  .show(1)"
      ]
    },
    {
      "cell_type": "code",
      "execution_count": 119,
      "metadata": {
        "id": "oCD-PYDRDhvn"
      },
      "outputs": [],
      "source": [
        "#informacao 10\n",
        "# Papel (NegociationCode) operado em CZ (Currency) com maior valor médio das operações (MeanPrice)"
      ]
    },
    {
      "cell_type": "code",
      "execution_count": 120,
      "metadata": {
        "id": "OmQdpv8vGDTH",
        "colab": {
          "base_uri": "https://localhost:8080/"
        },
        "outputId": "5f6eadab-1a42-4c95-b68e-c971f6f97a34"
      },
      "outputs": [
        {
          "output_type": "stream",
          "name": "stdout",
          "text": [
            "+---------------+------------+\n",
            "|NegociationCode|MaxMeanPrice|\n",
            "+---------------+------------+\n",
            "|          TLS 6|    3.7975E7|\n",
            "+---------------+------------+\n",
            "only showing top 1 row\n",
            "\n"
          ]
        }
      ],
      "source": [
        "df.select('NegociationCode', 'Currency', 'MeanPrice') \\\n",
        "  .where(df.Currency == 'CZ$') \\\n",
        "  .groupBy('NegociationCode') \\\n",
        "  .agg(func.max('MeanPrice').alias('MaxMeanPrice')) \\\n",
        "  .orderBy('MaxMeanPrice', ascending=False) \\\n",
        "  .show(1)"
      ]
    },
    {
      "cell_type": "code",
      "execution_count": 121,
      "metadata": {
        "id": "o-wMRp2hDhvn"
      },
      "outputs": [],
      "source": [
        "#informacao 11\n",
        "# Media do preço médio (MeanPrice), mínimo (MinPrice) e máximo (MaxPrice) anual (TradingDate) das ações da PETR4 (NegociationCode)"
      ]
    },
    {
      "cell_type": "code",
      "execution_count": 122,
      "metadata": {
        "id": "AB68xH7BiEHo",
        "colab": {
          "base_uri": "https://localhost:8080/"
        },
        "outputId": "c7bb362a-ce6d-4246-ddf2-21d5dd9dc832"
      },
      "outputs": [
        {
          "output_type": "stream",
          "name": "stdout",
          "text": [
            "+----+------------------+-------+------+\n",
            "| ano|             media|    max|   min|\n",
            "+----+------------------+-------+------+\n",
            "|1999| 26273.98775510204|46500.0|7900.0|\n",
            "|1998|20242.401015228428|29700.0|9000.0|\n",
            "|2005| 8094.469879518072|13000.0|2925.0|\n",
            "|2000|24186.137096774193|52100.0|4400.0|\n",
            "|2002|4796.7389558232935| 6079.0|3440.0|\n",
            "|2004| 8383.638554216868| 9800.0|6704.0|\n",
            "|2001|  5297.70325203252| 6288.0|4460.0|\n",
            "|2003|          5613.908| 7890.0|4091.0|\n",
            "|2006|4344.0609756097565| 4996.0|3632.0|\n",
            "|2008| 4806.373493975903| 8774.0|1675.0|\n",
            "+----+------------------+-------+------+\n",
            "only showing top 10 rows\n",
            "\n"
          ]
        }
      ],
      "source": [
        "sc.sql('select substring(TradingDate,0,4) as ano, avg(MeanPrice) as media, max(MaxPrice) as max, min(MinPrice) as min from bovespa\\\n",
        "  where NegociationCode == \"PETR4\"\\\n",
        "  group by ano').show(10)"
      ]
    },
    {
      "cell_type": "code",
      "execution_count": 123,
      "metadata": {
        "id": "_3_3JDb6GDHJ",
        "colab": {
          "base_uri": "https://localhost:8080/"
        },
        "outputId": "8cebbfb5-25a9-4157-fc4d-18e4c8e51981"
      },
      "outputs": [
        {
          "output_type": "stream",
          "name": "stdout",
          "text": [
            "+----+------------------+------+-------+\n",
            "| ano|             media|minimo| maximo|\n",
            "+----+------------------+------+-------+\n",
            "|1999| 26273.98775510204|7900.0|46500.0|\n",
            "|1998|20242.401015228428|9000.0|29700.0|\n",
            "|2005| 8094.469879518072|2925.0|13000.0|\n",
            "|2000|24186.137096774193|4400.0|52100.0|\n",
            "|2002|4796.7389558232935|3440.0| 6079.0|\n",
            "|2004| 8383.638554216868|6704.0| 9800.0|\n",
            "|2001|  5297.70325203252|4460.0| 6288.0|\n",
            "|2003|          5613.908|4091.0| 7890.0|\n",
            "|2006|4344.0609756097565|3632.0| 4996.0|\n",
            "|2008| 4806.373493975903|1675.0| 8774.0|\n",
            "+----+------------------+------+-------+\n",
            "only showing top 10 rows\n",
            "\n"
          ]
        }
      ],
      "source": [
        "df.select('MeanPrice', 'MinPrice', 'MaxPrice', 'TradingDate', 'NegociationCode')\\\n",
        "  .where(df.NegociationCode == 'PETR4')\\\n",
        "  .withColumn('ano', df.TradingDate[0:4])\\\n",
        "  .groupBy(func.col('ano'))\\\n",
        "  .agg(func.avg('MeanPrice').alias('media'),\n",
        "    func.min('MinPrice').alias('minimo'),\n",
        "    func.max('MaxPrice').alias('maximo'))\\\n",
        "  .show(10)"
      ]
    },
    {
      "cell_type": "code",
      "execution_count": 124,
      "metadata": {
        "id": "1H_sglgyDhvn"
      },
      "outputs": [],
      "source": [
        "#informacao 12\n",
        "# Preço médio (MeanPrice) anual (TradingDate) das ações da PETR4 (NegociationCode)"
      ]
    },
    {
      "cell_type": "code",
      "execution_count": 125,
      "metadata": {
        "id": "YbKTkNoNGCc8",
        "colab": {
          "base_uri": "https://localhost:8080/"
        },
        "outputId": "0f77c42e-1cae-4d67-f629-82a573087f77"
      },
      "outputs": [
        {
          "output_type": "stream",
          "name": "stdout",
          "text": [
            "+----+------------------+\n",
            "|Year|   AnnualMeanPrice|\n",
            "+----+------------------+\n",
            "|1998|20242.401015228428|\n",
            "|1999| 26273.98775510204|\n",
            "|2000|24186.137096774193|\n",
            "|2001|  5297.70325203252|\n",
            "|2002|4796.7389558232935|\n",
            "|2003|          5613.908|\n",
            "|2004| 8383.638554216868|\n",
            "|2005| 8094.469879518072|\n",
            "|2006|4344.0609756097565|\n",
            "|2007| 5442.975510204082|\n",
            "|2008| 4806.373493975903|\n",
            "|2009| 3183.650406504065|\n",
            "|2010| 2975.072874493927|\n",
            "|2011|2369.9236947791164|\n",
            "|2012| 2134.691056910569|\n",
            "|2013|1825.3064516129032|\n",
            "|2014|1669.7298387096773|\n",
            "|2015| 980.4349593495934|\n",
            "|2016|1077.4939759036145|\n",
            "|2017| 1459.060975609756|\n",
            "+----+------------------+\n",
            "only showing top 20 rows\n",
            "\n"
          ]
        }
      ],
      "source": [
        "df.select('NegociationCode', 'TradingDate', 'MeanPrice') \\\n",
        "  .where(df.NegociationCode == 'PETR4') \\\n",
        "  .withColumn('Year', func.year(func.to_date('TradingDate', 'yyyyMMdd'))) \\\n",
        "  .groupBy('Year') \\\n",
        "  .agg(func.avg('MeanPrice').alias('AnnualMeanPrice')) \\\n",
        "  .orderBy('Year') \\\n",
        "  .show()"
      ]
    },
    {
      "cell_type": "code",
      "execution_count": 126,
      "metadata": {
        "id": "beZ-bKCGDhvn"
      },
      "outputs": [],
      "source": [
        "#informacao 13\n",
        "# Preço médio (MeanPrice) anual (TradingDate) das 10 ações (NegociationCode) com mais operações na bovespa"
      ]
    },
    {
      "cell_type": "code",
      "execution_count": 127,
      "metadata": {
        "id": "R81jkEliGCU3"
      },
      "outputs": [],
      "source": [
        "top10 = df.select('NegociationCode')\\\n",
        "  .groupBy('NegociationCode')\\\n",
        "  .agg(func.count('*').alias('qt'))\\\n",
        "  .orderBy('qt', ascending=False)\\\n",
        "  .take(10)\n",
        "\n",
        "lista10 = [x['NegociationCode'] for x in top10]"
      ]
    },
    {
      "cell_type": "code",
      "execution_count": 128,
      "metadata": {
        "id": "bwOEEFfWqqGa",
        "colab": {
          "base_uri": "https://localhost:8080/"
        },
        "outputId": "4cb82ddf-5c8a-4679-ee29-5f92a92e5430"
      },
      "outputs": [
        {
          "output_type": "stream",
          "name": "stdout",
          "text": [
            "+---------------+----+------------------+\n",
            "|NegociationCode| ano|             media|\n",
            "+---------------+----+------------------+\n",
            "|         VALE5T|1999|3489.3505154639174|\n",
            "|         BBAS3T|1999| 697.3055555555555|\n",
            "|         BBDC4T|1999| 925.7908163265306|\n",
            "|         USIM5T|1999|506.05732484076435|\n",
            "|         BBDC4T|1998|  872.018018018018|\n",
            "|         CSNA3T|1998|2523.1486486486488|\n",
            "|         PETR4T|1999|26129.480662983424|\n",
            "|         BBAS3T|1998| 944.0075757575758|\n",
            "|         CSNA3T|1999|4042.7311827956987|\n",
            "|         PETR4T|1998| 20028.90404040404|\n",
            "+---------------+----+------------------+\n",
            "only showing top 10 rows\n",
            "\n"
          ]
        }
      ],
      "source": [
        "df.select('MeanPrice', 'TradingDate', 'NegociationCode')\\\n",
        "  .filter(func.col('NegociationCode').isin(lista10))\\\n",
        "  .withColumn('ano', df.TradingDate[0:4])\\\n",
        "  .groupBy('NegociationCode', 'ano')\\\n",
        "  .agg(func.avg('MeanPrice').alias('media'))\\\n",
        "  .show(10)"
      ]
    },
    {
      "cell_type": "code",
      "execution_count": 129,
      "metadata": {
        "id": "Qb81anbIDhvo"
      },
      "outputs": [],
      "source": [
        "#informacao 14\n",
        "# Desvio Padrão anual do preço médio (MeanPrice) da ação da PETR4 (NegociationCode)"
      ]
    },
    {
      "cell_type": "code",
      "execution_count": 130,
      "metadata": {
        "id": "Rq2ZJMu9GCME",
        "colab": {
          "base_uri": "https://localhost:8080/"
        },
        "outputId": "267a0d55-2d8f-4e92-ed2b-1b3f4bbcaa03"
      },
      "outputs": [
        {
          "output_type": "stream",
          "name": "stdout",
          "text": [
            "+----+------------------+\n",
            "|Year|      AnnualStdDev|\n",
            "+----+------------------+\n",
            "|1998|5739.2884608935565|\n",
            "|1999| 7692.556188216364|\n",
            "|2000|20189.956356803512|\n",
            "|2001| 333.4576639125791|\n",
            "|2002| 613.8605232990918|\n",
            "|2003| 863.8748535443933|\n",
            "|2004| 757.8230426632923|\n",
            "|2005|3377.0688879989852|\n",
            "|2006|242.19193000733262|\n",
            "|2007| 1200.445391820076|\n",
            "|2008|2311.3643124656405|\n",
            "|2009| 414.3029746894998|\n",
            "|2010|392.22804616214563|\n",
            "|2011|304.10310718438365|\n",
            "|2012|202.65900303596553|\n",
            "|2013|136.15365084480885|\n",
            "|2014|319.84012263210207|\n",
            "|2015|212.59195810379697|\n",
            "|2016|379.52406656319016|\n",
            "|2017|131.33322761191312|\n",
            "+----+------------------+\n",
            "only showing top 20 rows\n",
            "\n"
          ]
        }
      ],
      "source": [
        "df.select('NegociationCode', 'TradingDate', 'MeanPrice') \\\n",
        "  .where(df.NegociationCode == 'PETR4') \\\n",
        "  .withColumn('Year', func.year(func.to_date('TradingDate', 'yyyyMMdd'))) \\\n",
        "  .groupBy('Year') \\\n",
        "  .agg(func.stddev('MeanPrice').alias('AnnualStdDev')) \\\n",
        "  .orderBy('Year') \\\n",
        "  .show()"
      ]
    },
    {
      "cell_type": "code",
      "execution_count": 131,
      "metadata": {
        "id": "T_VUm-3CDhvo"
      },
      "outputs": [],
      "source": [
        "#informacao 15\n",
        "# Desvio Padrão anual do preço médio (MeanPrice) das 10 ações (NegociationCode) com mais operações na bovespa"
      ]
    },
    {
      "cell_type": "code",
      "execution_count": 132,
      "metadata": {
        "id": "Cw1sHWAuGCBh",
        "colab": {
          "base_uri": "https://localhost:8080/"
        },
        "outputId": "841a9e6a-73f5-42e1-8ee7-446991050792"
      },
      "outputs": [
        {
          "output_type": "stream",
          "name": "stdout",
          "text": [
            "+---------------+----+------------------+\n",
            "|NegociationCode|Year|      AnnualStdDev|\n",
            "+---------------+----+------------------+\n",
            "|          BBAS3|1998| 191.0232089288056|\n",
            "|          BBAS3|1999| 71.34827969702083|\n",
            "|          BBAS3|2000| 75.82122753206457|\n",
            "|          BBAS3|2001|  97.5732118997873|\n",
            "|          BBAS3|2002|147.50261524927728|\n",
            "|          BBAS3|2003|433.52504457423527|\n",
            "|          BBAS3|2004| 385.5920887080102|\n",
            "|          BBAS3|2005| 507.4842826373836|\n",
            "|          BBAS3|2006| 533.7911685739903|\n",
            "|          BBAS3|2007|2075.1843619944507|\n",
            "|          BBAS3|2008| 557.3112212675186|\n",
            "|          BBAS3|2009| 613.3250335246126|\n",
            "|          BBAS3|2010|222.82637293543215|\n",
            "|          BBAS3|2011|240.25052354303372|\n",
            "|          BBAS3|2012|  276.610203947405|\n",
            "|          BBAS3|2013|208.67184429609298|\n",
            "|          BBAS3|2014| 387.4057204353948|\n",
            "|          BBAS3|2015| 339.7799999006763|\n",
            "|          BBAS3|2016|468.92560147381585|\n",
            "|          BBAS3|2017|277.91281758768434|\n",
            "+---------------+----+------------------+\n",
            "only showing top 20 rows\n",
            "\n"
          ]
        }
      ],
      "source": [
        "top10_stocks = df.groupBy('NegociationCode') \\\n",
        "                 .agg(func.sum('NumborOfTrades').alias('TotalTrades')) \\\n",
        "                 .orderBy('TotalTrades', ascending=False) \\\n",
        "                 .limit(10) \\\n",
        "                 .select('NegociationCode')\n",
        "\n",
        "filtered_df = df.join(top10_stocks, 'NegociationCode')\n",
        "\n",
        "filtered_df.select('NegociationCode', 'TradingDate', 'MeanPrice') \\\n",
        "           .withColumn('Year', func.year(func.to_date('TradingDate', 'yyyyMMdd'))) \\\n",
        "           .groupBy('NegociationCode', 'Year') \\\n",
        "           .agg(func.stddev('MeanPrice').alias('AnnualStdDev')) \\\n",
        "           .orderBy('NegociationCode', 'Year') \\\n",
        "           .show()"
      ]
    },
    {
      "cell_type": "code",
      "execution_count": 133,
      "metadata": {
        "id": "CMXXrUZ2Dhvo"
      },
      "outputs": [],
      "source": [
        "#informacao 16\n",
        "# Preço médio (MeanPrice) anual (TradingDate) das ações (NegociationCode) com a maior quantidade de operações de acordo com a moeda (Currency)"
      ]
    },
    {
      "cell_type": "code",
      "execution_count": 134,
      "metadata": {
        "id": "KRf7i2J5GB4Y",
        "colab": {
          "base_uri": "https://localhost:8080/"
        },
        "outputId": "331a28b8-1154-47a5-a743-535a6e3cff2f"
      },
      "outputs": [
        {
          "output_type": "stream",
          "name": "stdout",
          "text": [
            "+--------+----+---------------+------------------+\n",
            "|Currency|Year|NegociationCode|   AnnualMeanPrice|\n",
            "+--------+----+---------------+------------------+\n",
            "|     CR$|1990|          TEL 4|24479.032786885247|\n",
            "|     CR$|1991|          TEL 4| 282141.6230636833|\n",
            "|     CR$|1992|          TEL 4|232933.65988909427|\n",
            "|     CR$|1993|          TEL 4| 286500.4512195122|\n",
            "|     CR$|1994|          TEL 4|  4429.55785123967|\n",
            "|     CZ$|1986|          PMA 2|1718.6313672922251|\n",
            "|     CZ$|1987|          PMA 2|1507.8791018998272|\n",
            "|     CZ$|1988|          PMA 2| 4754.275229357798|\n",
            "|     CZ$|1989|          PMA 2|16335.695652173914|\n",
            "|    NCZ$|1989|          PMA 2|41372.546845124285|\n",
            "|    NCZ$|1990|          PMA 2| 62042.07608695652|\n",
            "|      R$|1998|          PETR4|20242.401015228428|\n",
            "|      R$|1999|          PETR4| 26273.98775510204|\n",
            "|      R$|2000|          PETR4|24186.137096774193|\n",
            "|      R$|2001|          PETR4|  5297.70325203252|\n",
            "|      R$|2002|          PETR4|4796.7389558232935|\n",
            "|      R$|2003|          PETR4|          5613.908|\n",
            "|      R$|2004|          PETR4| 8383.638554216868|\n",
            "|      R$|2005|          PETR4| 8094.469879518072|\n",
            "|      R$|2006|          PETR4|4344.0609756097565|\n",
            "+--------+----+---------------+------------------+\n",
            "only showing top 20 rows\n",
            "\n"
          ]
        }
      ],
      "source": [
        "from pyspark.sql.window import Window\n",
        "\n",
        "windowSpec = Window.partitionBy('Currency').orderBy(func.desc('TotalTrades'))\n",
        "\n",
        "most_traded_stocks = df.groupBy('NegociationCode', 'Currency') \\\n",
        "                       .agg(func.sum('NumborOfTrades').alias('TotalTrades')) \\\n",
        "                       .withColumn('rank', func.rank().over(windowSpec)) \\\n",
        "                       .filter(func.col('rank') == 1) \\\n",
        "                       .select('NegociationCode', 'Currency')\n",
        "\n",
        "df.join(most_traded_stocks, ['NegociationCode', 'Currency']) \\\n",
        "  .select('NegociationCode', 'Currency', 'TradingDate', 'MeanPrice') \\\n",
        "  .withColumn('Year', func.year(func.to_date('TradingDate', 'yyyyMMdd'))) \\\n",
        "  .groupBy('Currency', 'Year', 'NegociationCode') \\\n",
        "  .agg(func.avg('MeanPrice').alias('AnnualMeanPrice')) \\\n",
        "  .orderBy('Currency', 'Year', 'NegociationCode') \\\n",
        "  .show()"
      ]
    }
  ],
  "metadata": {
    "colab": {
      "provenance": []
    },
    "kernelspec": {
      "display_name": "Python 3",
      "language": "python",
      "name": "python3"
    },
    "language_info": {
      "codemirror_mode": {
        "name": "ipython",
        "version": 3
      },
      "file_extension": ".py",
      "mimetype": "text/x-python",
      "name": "python",
      "nbconvert_exporter": "python",
      "pygments_lexer": "ipython3",
      "version": "3.7.6"
    }
  },
  "nbformat": 4,
  "nbformat_minor": 0
}