{
  "cells": [
    {
      "cell_type": "markdown",
      "source": [
        "**Aluno: Leonardo Ribeiro Schaedler**"
      ],
      "metadata": {
        "id": "5ptoX3ipS-WY"
      }
    },
    {
      "cell_type": "markdown",
      "metadata": {
        "id": "wAyIvfaaEdJd"
      },
      "source": [
        "# Atividade Spark\n",
        "\n",
        "Considerando o dataset detalhado a seguir, extraia o conjunto de informações solicitadas.\n",
        "\n",
        "### Dataset dados de COVID no Brasil\n",
        "\n",
        "- Dados relativos a pacientes que realizaram exames de Covid19 no Brasil ate Marco 2020\n",
        "- ~1.6GB\n",
        "- 4.4M de instâncias\n",
        "\n",
        "\n",
        "|  # | Nome do campo        \t| Descrição                                     \t|\n",
        "|----|----------------------\t|-----------------------------------------------\t|\n",
        "|  0 | id                   \t| identificador                                 \t|\n",
        "|  1 | dataNotificacao      \t| Data da notificação                           \t|\n",
        "|  2 | dataInicioSintomas   \t| Data do inicio dos sintomas                   \t|\n",
        "|  3 | dataNascimento       \t| Data de nascimento                            \t|\n",
        "|  4 | sintomas             \t| Sintomas do paciente                          \t|\n",
        "|  5 | profissionalSaude    \t| Relacionado a profissional de saúde           \t|\n",
        "|  6 | cbo                  \t| Ocupação                                      \t|\n",
        "|  7 | condicoes            \t| Condições do paciente                         \t|\n",
        "|  8 | estadoTeste          \t| Estado do teste                               \t|\n",
        "|  9 | dataTeste            \t| Data do teste                                 \t|\n",
        "| 10 | tipoTeste            \t| Tipo de teste realizado                       \t|\n",
        "| 11 | resultadoTeste       \t| Resultado do Teste                            \t|\n",
        "| 12 | paisOrigem           \t| Pais de Origem do paciente                    \t|\n",
        "| 13 | sexo                 \t| Sexo do paciente                              \t|\n",
        "| 14 | bairro               \t| Bairro do paciente                            \t|\n",
        "| 15 | estado               \t| Estado do paciente                            \t|\n",
        "| 16 | estadoIBGE              \t| Estado do paciente IBGE                          \t|\n",
        "| 17 | municipio            \t| Municipio do paciente                         \t|\n",
        "| 18 | municipioIBGE          \t| Municipio do paciente                         \t|\n",
        "| 19 | cep            \t        | CEP                                            \t|\n",
        "| 20 | origem               \t| Origem do paciente                            \t|\n",
        "| 21 | cnes                 \t| Código da unidade de saúde                    \t|\n",
        "| 22 | estadoNotificacao    \t| Estado da notificação                         \t|\n",
        "| 23 | estadoNotificacaoIBGE    | Estado da notificação IBGE                      \t|\n",
        "| 24 | municipioNotificacao \t| Município da notificação                      \t|\n",
        "| 25 | municipioNotificacaoIBGE | Município da notificação IBGE                    \t|\n",
        "| 26 | numeroNotificacao    \t| Número da notificação                         \t|\n",
        "| 27 | excluido             \t| ID de exclusão                                \t|\n",
        "| 28 | validado             \t| Local validação                               \t|\n",
        "| 29 | idade                \t| Idade do paciente                             \t|\n",
        "| 30 | dataEncerramento     \t| Data do encerramento da avaliação do paciente \t|\n",
        "| 31 | evolucaoCaso         \t| Evolução do caso do paciente                  \t|\n",
        "| 32 | classificacaoFinal   \t| Avaliação final do caso                       \t|\n",
        "\n",
        "Informações a serem extraídas:\n",
        "\n",
        "1. Quantidade de pacientes positivos para corona virus (resultadoTeste)\n",
        "2. Quantidade de pacientes do sexo feminino positivos para corona virus (resultadoTeste)\n",
        "3. Quantidade de pacientes de acordo com o sexo e o resultado do teste (resultadoTeste)\n",
        "4. Sintomas mais comuns para casos positivos para corona virus\n",
        "5. Sintomas mais comuns para casos não positivos para corona virus\n",
        "6. Quantidade de casos positivos no Paraná\n",
        "7. Municipio do Paraná com a maior quantidade de óbitos (evolucaoCaso)\n",
        "8. Quantidade de municipios no Paraná com casos positivos\n",
        "9. Quantidade de municipios no Paraná sem casos positivos\n",
        "10. Estado com a maior taxa de falecimento de mulheres\n",
        "11. Menor idade de mulher positiva para covid\n",
        "12. Maior idade de mulher positiva para covid\n",
        "13. Quantidade de casos positivos, em granularidade diária, ao longo do tempo\n",
        "14. Quantidade de casos positivos, em granularidade semanal, ao longo do tempo\n",
        "15. Quantidade de pacientes que faleceram (evolucaoCaso) separados pela idade\n",
        "16. Taxa de óbito (evolucaoCaso) por idade\n",
        "17. Idade média das mulheres positivas para covid\n",
        "18. Município do Paraná com a maior quantidade de mulheres positivos para covid\n",
        "19. Dia da semana com a maior quantidade de testes realizados\n",
        "20. Dia da semana com maior quantidade de pacientes positivos para corona virus\n",
        "21. Municipio, com mais de 500 testes, com a maior taxa de exames que não foram positivos para COVID (casos que foram testados porém não tiveram o resultadoTeste como Positivo)\n",
        "\n",
        "**Dicas:**\n",
        "- *Crie uma célula (Insert -> Insert Cell Below) para cada informação solicitada*"
      ]
    },
    {
      "cell_type": "code",
      "source": [
        "#instala pyspark no google colab\n",
        "!pip install pyspark==3.3.1"
      ],
      "metadata": {
        "id": "8_yyegCRE4YG",
        "colab": {
          "base_uri": "https://localhost:8080/"
        },
        "outputId": "db331f11-5a82-4725-a3e6-3a9e5a6e16bf"
      },
      "execution_count": 1,
      "outputs": [
        {
          "output_type": "stream",
          "name": "stdout",
          "text": [
            "Collecting pyspark==3.3.1\n",
            "  Downloading pyspark-3.3.1.tar.gz (281.4 MB)\n",
            "\u001b[2K     \u001b[90m━━━━━━━━━━━━━━━━━━━━━━━━━━━━━━━━━━━━━━━━\u001b[0m \u001b[32m281.4/281.4 MB\u001b[0m \u001b[31m5.0 MB/s\u001b[0m eta \u001b[36m0:00:00\u001b[0m\n",
            "\u001b[?25h  Preparing metadata (setup.py) ... \u001b[?25l\u001b[?25hdone\n",
            "Collecting py4j==0.10.9.5 (from pyspark==3.3.1)\n",
            "  Downloading py4j-0.10.9.5-py2.py3-none-any.whl (199 kB)\n",
            "\u001b[2K     \u001b[90m━━━━━━━━━━━━━━━━━━━━━━━━━━━━━━━━━━━━━━━━\u001b[0m \u001b[32m199.7/199.7 kB\u001b[0m \u001b[31m25.4 MB/s\u001b[0m eta \u001b[36m0:00:00\u001b[0m\n",
            "\u001b[?25hBuilding wheels for collected packages: pyspark\n",
            "  Building wheel for pyspark (setup.py) ... \u001b[?25l\u001b[?25hdone\n",
            "  Created wheel for pyspark: filename=pyspark-3.3.1-py2.py3-none-any.whl size=281845494 sha256=bf3e6fc1ae53d380d4eb3f0e967170fb28781878925320642fed7ef818cf95e5\n",
            "  Stored in directory: /root/.cache/pip/wheels/0f/f0/3d/517368b8ce80486e84f89f214e0a022554e4ee64969f46279b\n",
            "Successfully built pyspark\n",
            "Installing collected packages: py4j, pyspark\n",
            "  Attempting uninstall: py4j\n",
            "    Found existing installation: py4j 0.10.9.7\n",
            "    Uninstalling py4j-0.10.9.7:\n",
            "      Successfully uninstalled py4j-0.10.9.7\n",
            "Successfully installed py4j-0.10.9.5 pyspark-3.3.1\n"
          ]
        }
      ]
    },
    {
      "cell_type": "code",
      "execution_count": 2,
      "metadata": {
        "id": "5oa0PA69EdJf"
      },
      "outputs": [],
      "source": [
        "# abre sessão no spark\n",
        "import pyspark\n",
        "conf = pyspark.SparkConf()\n",
        "conf.setMaster('local[*]')\n",
        "sc = pyspark.SparkContext.getOrCreate(conf)"
      ]
    },
    {
      "cell_type": "code",
      "source": [
        "#Efetua download do arquivo covid\n",
        "!gdown 1EYMih3Ys1-DmaIZ9n0Sl5KAcRGqtpuj9"
      ],
      "metadata": {
        "id": "dsLk2QFUE8cn",
        "colab": {
          "base_uri": "https://localhost:8080/"
        },
        "outputId": "4fc5b73f-4a26-4d7e-cfc2-27a51b503272"
      },
      "execution_count": 3,
      "outputs": [
        {
          "output_type": "stream",
          "name": "stdout",
          "text": [
            "Downloading...\n",
            "From: https://drive.google.com/uc?id=1EYMih3Ys1-DmaIZ9n0Sl5KAcRGqtpuj9\n",
            "To: /content/covid.csv\n",
            "100% 1.64G/1.64G [00:17<00:00, 96.2MB/s]\n"
          ]
        }
      ]
    },
    {
      "cell_type": "code",
      "source": [
        "#carrega arquivo da COVID em um rdd\n",
        "rdd = sc.textFile('file:////content/covid.csv')"
      ],
      "metadata": {
        "id": "WAohEGP2E9CO"
      },
      "execution_count": 4,
      "outputs": []
    },
    {
      "cell_type": "code",
      "source": [
        "rdd.map(lambda linha: linha.split(';')[15])\\\n",
        "  .filter(lambda estado: estado == 'PARANÁ')\\\n",
        "  .count()"
      ],
      "metadata": {
        "id": "BWMbSmQ5Fgw1",
        "colab": {
          "base_uri": "https://localhost:8080/"
        },
        "outputId": "0e1dc5c0-7d2e-4acb-8bcb-275fdd9ac36d"
      },
      "execution_count": 5,
      "outputs": [
        {
          "output_type": "execute_result",
          "data": {
            "text/plain": [
              "41969"
            ]
          },
          "metadata": {},
          "execution_count": 5
        }
      ]
    },
    {
      "cell_type": "code",
      "source": [
        "def pegaEstado(linha):\n",
        "  campos = linha.split(';')\n",
        "  return campos[15]\n",
        "\n",
        "def isParana(estado):\n",
        "  return estado == 'PARANÁ'\n",
        "\n",
        "rdd.map(pegaEstado)\\\n",
        "  .filter(isParana)\\\n",
        "  .count()"
      ],
      "metadata": {
        "id": "9Ys6WecLFge6",
        "colab": {
          "base_uri": "https://localhost:8080/"
        },
        "outputId": "ff54c03a-3a1c-4392-deb4-b562004bd659"
      },
      "execution_count": 6,
      "outputs": [
        {
          "output_type": "execute_result",
          "data": {
            "text/plain": [
              "41969"
            ]
          },
          "metadata": {},
          "execution_count": 6
        }
      ]
    },
    {
      "cell_type": "code",
      "source": [
        "# qt de entradas para Paraná no bairro boa vista e cabral\n",
        "\n",
        "def pegaCampos(linha):\n",
        "  campos = linha.split(';')\n",
        "  estado = campos[15]\n",
        "  bairro = campos[14]\n",
        "  return [estado, bairro]\n",
        "\n",
        "rdd.map(pegaCampos)\\\n",
        "  .filter(lambda lista: lista[0] == 'PARANÁ')\\\n",
        "  .filter(lambda lista: lista[1] == 'Boa Vista' or lista[1] == 'Cabral')\\\n",
        "  .map(lambda lista: [lista[1], 1])\\\n",
        "  .reduceByKey(lambda x, y: x + y)\\\n",
        "  .take(5)"
      ],
      "metadata": {
        "id": "O6hHt5tDFfp1",
        "colab": {
          "base_uri": "https://localhost:8080/"
        },
        "outputId": "cabd0596-5617-4a76-9085-4e71113f0b74"
      },
      "execution_count": 7,
      "outputs": [
        {
          "output_type": "execute_result",
          "data": {
            "text/plain": [
              "[('Boa Vista', 58), ('Cabral', 22)]"
            ]
          },
          "metadata": {},
          "execution_count": 7
        }
      ]
    },
    {
      "cell_type": "code",
      "execution_count": 8,
      "metadata": {
        "id": "y-6j-VzxEdJg"
      },
      "outputs": [],
      "source": [
        "#informacao 1\n",
        "#Quantidade de pacientes positivos para corona virus (resultadoTeste)"
      ]
    },
    {
      "cell_type": "code",
      "source": [
        "rdd.map(lambda linha: linha.split(';')[11])\\\n",
        "  .filter(lambda result: result == 'Positivo')\\\n",
        "  .count()"
      ],
      "metadata": {
        "id": "iI12DL8aFhNU",
        "colab": {
          "base_uri": "https://localhost:8080/"
        },
        "outputId": "71131722-243f-4a50-8630-4626cd07205e"
      },
      "execution_count": 9,
      "outputs": [
        {
          "output_type": "execute_result",
          "data": {
            "text/plain": [
              "1230210"
            ]
          },
          "metadata": {},
          "execution_count": 9
        }
      ]
    },
    {
      "cell_type": "code",
      "execution_count": 10,
      "metadata": {
        "id": "c39VCGGuEdJg"
      },
      "outputs": [],
      "source": [
        "#informacao 2\n",
        "#Quantidade de pacientes do sexo feminino positivos para corona virus (resultadoTeste)"
      ]
    },
    {
      "cell_type": "code",
      "source": [
        "def pegaCampos(linha):\n",
        "  campos = linha.split(';')\n",
        "  result = campos[11]\n",
        "  sex = campos[13]\n",
        "  return [result, sex]\n",
        "\n",
        "rdd.map(pegaCampos)\\\n",
        "  .filter(lambda lista: lista[0] == 'Positivo')\\\n",
        "  .filter(lambda lista: lista[1] == 'Feminino')\\\n",
        "  .map(lambda lista: [lista[1], 1])\\\n",
        "  .reduceByKey(lambda x, y: x + y)\\\n",
        "  .take(1)"
      ],
      "metadata": {
        "id": "-_V4lEqGFhhX",
        "colab": {
          "base_uri": "https://localhost:8080/"
        },
        "outputId": "0b9e0db3-7089-486e-ef46-163a13bfde76"
      },
      "execution_count": 11,
      "outputs": [
        {
          "output_type": "execute_result",
          "data": {
            "text/plain": [
              "[('Feminino', 632899)]"
            ]
          },
          "metadata": {},
          "execution_count": 11
        }
      ]
    },
    {
      "cell_type": "code",
      "execution_count": 12,
      "metadata": {
        "id": "gAxnz6KtEdJg",
        "colab": {
          "base_uri": "https://localhost:8080/"
        },
        "outputId": "f8359ba9-2527-4f3b-8ccb-e2e600f08ad7"
      },
      "outputs": [
        {
          "output_type": "execute_result",
          "data": {
            "text/plain": [
              "[('Feminino Negativo', 1318173),\n",
              " ('Masculino Negativo', 1141559),\n",
              " ('Feminino Positivo', 632899),\n",
              " ('Masculino Positivo', 578177),\n",
              " ('Feminino null', 371661),\n",
              " ('Masculino null', 274303),\n",
              " ('Indefinido Negativo', 88174),\n",
              " ('Indefinido Positivo', 19117),\n",
              " ('null null', 453),\n",
              " ('null Negativo', 36)]"
            ]
          },
          "metadata": {},
          "execution_count": 12
        }
      ],
      "source": [
        "#informacao 3\n",
        "#Quantidade de pacientes de acordo com o sexo e o resultado do teste (resultadoTeste)\n",
        "\n",
        "def pegaCampo(linha):\n",
        "  campos = linha.split(';')\n",
        "  sexo = campos[13]\n",
        "  resultado = campos[11]\n",
        "  return [sexo, resultado]\n",
        "\n",
        "def geraChaveValor(entrada):\n",
        "  return [entrada[0] + ' ' + entrada[1], 1]\n",
        "\n",
        "rdd.map(pegaCampo)\\\n",
        "  .map(geraChaveValor)\\\n",
        "  .reduceByKey(lambda x, y: x + y)\\\n",
        "  .sortBy(lambda entrada: entrada[1], ascending=False)\\\n",
        "  .take(10)\n"
      ]
    },
    {
      "cell_type": "code",
      "execution_count": 13,
      "metadata": {
        "id": "-tfKdf8lEdJg"
      },
      "outputs": [],
      "source": [
        "#informacao 4\n",
        "#Sintomas mais comuns para casos positivos para corona virus\n"
      ]
    },
    {
      "cell_type": "code",
      "source": [
        "rdd.filter(lambda linha: linha.split(';')[11] == 'Positivo')\\\n",
        "  .map(lambda linha: linha.split(';')[4])\\\n",
        "  .flatMap(lambda s: [x.strip() for x in s.split(',')])\\\n",
        "  .map(lambda entrada: [entrada, 1])\\\n",
        "  .reduceByKey(lambda x,y: x + y)\\\n",
        "  .sortBy(lambda entrada: entrada[1], ascending=False)\\\n",
        "  .take(10)"
      ],
      "metadata": {
        "id": "MpxcM41WFiNU",
        "colab": {
          "base_uri": "https://localhost:8080/"
        },
        "outputId": "e40b66f7-2385-4032-eef9-a5e4cc9298d9"
      },
      "execution_count": 14,
      "outputs": [
        {
          "output_type": "execute_result",
          "data": {
            "text/plain": [
              "[('Outros', 841588),\n",
              " ('Tosse', 576175),\n",
              " ('Febre', 462087),\n",
              " ('Dor de Garganta', 288681),\n",
              " ('Dispneia', 185306),\n",
              " ('Outros: Paciente assintomático', 24481),\n",
              " ('\"\"', 14236),\n",
              " ('null', 10439),\n",
              " ('Dor De Garganta', 1476),\n",
              " ('', 528)]"
            ]
          },
          "metadata": {},
          "execution_count": 14
        }
      ]
    },
    {
      "cell_type": "code",
      "execution_count": 15,
      "metadata": {
        "id": "_Pg5i0w5EdJg"
      },
      "outputs": [],
      "source": [
        "#informacao 5\n",
        "#Sintomas mais comuns para casos não positivos para corona virus\n"
      ]
    },
    {
      "cell_type": "code",
      "source": [
        "rdd.filter(lambda linha: linha.split(';')[11] != 'Positivo')\\\n",
        "  .map(lambda linha: linha.split(';')[4])\\\n",
        "  .flatMap(lambda s: [x.strip() for x in s.split(',')])\\\n",
        "  .map(lambda entrada: [entrada, 1])\\\n",
        "  .reduceByKey(lambda x,y: x + y)\\\n",
        "  .sortBy(lambda entrada: entrada[1], ascending=False)\\\n",
        "  .take(10)"
      ],
      "metadata": {
        "id": "Lkmv6LV9Fim9",
        "colab": {
          "base_uri": "https://localhost:8080/"
        },
        "outputId": "d77675e8-d26b-40dd-ffc3-f788c70773d0"
      },
      "execution_count": 16,
      "outputs": [
        {
          "output_type": "execute_result",
          "data": {
            "text/plain": [
              "[('Outros', 2089840),\n",
              " ('Tosse', 1124685),\n",
              " ('Febre', 752467),\n",
              " ('Dor de Garganta', 711525),\n",
              " ('Dispneia', 404983),\n",
              " ('Outros: Paciente assintomático', 260902),\n",
              " ('\"\"', 42023),\n",
              " ('', 20507),\n",
              " ('Dor De Garganta', 16532),\n",
              " ('null', 14934)]"
            ]
          },
          "metadata": {},
          "execution_count": 16
        }
      ]
    },
    {
      "cell_type": "code",
      "execution_count": 17,
      "metadata": {
        "id": "pLmEO2EnEdJg"
      },
      "outputs": [],
      "source": [
        "#informacao 6\n",
        "#Quantidade de casos positivos no Paraná\n"
      ]
    },
    {
      "cell_type": "code",
      "source": [
        "rdd.filter(lambda linha: linha.split(';')[11] == 'Positivo' and linha.split(';')[15] == 'PARANÁ')\\\n",
        "  .count()"
      ],
      "metadata": {
        "id": "RHcCOe6XFizS",
        "colab": {
          "base_uri": "https://localhost:8080/"
        },
        "outputId": "8d0ea115-de75-414a-caa7-5e40bbb7159a"
      },
      "execution_count": 18,
      "outputs": [
        {
          "output_type": "execute_result",
          "data": {
            "text/plain": [
              "6183"
            ]
          },
          "metadata": {},
          "execution_count": 18
        }
      ]
    },
    {
      "cell_type": "code",
      "execution_count": 19,
      "metadata": {
        "id": "J9Tj1b1dEdJg"
      },
      "outputs": [],
      "source": [
        "#informacao 7\n",
        "#Municipio do Paraná com a maior quantidade de óbitos (evolucaoCaso)"
      ]
    },
    {
      "cell_type": "code",
      "source": [
        "rdd.filter(lambda linha: linha.split(';')[15] == 'PARANÁ' and linha.split(';')[31] == \"Óbito\") \\\n",
        "  .map(lambda linha: (linha.split(';')[17], 1)) \\\n",
        "  .reduceByKey(lambda x, y: x + y) \\\n",
        "  .sortBy(lambda x: x[1], ascending=False) \\\n",
        "  .take(1)"
      ],
      "metadata": {
        "id": "urN6jLETFjJx",
        "colab": {
          "base_uri": "https://localhost:8080/"
        },
        "outputId": "5ea2e6af-9dc4-4936-a078-2e18bc4481ee"
      },
      "execution_count": 39,
      "outputs": [
        {
          "output_type": "execute_result",
          "data": {
            "text/plain": [
              "[('Foz do Iguaçu', 25)]"
            ]
          },
          "metadata": {},
          "execution_count": 39
        }
      ]
    },
    {
      "cell_type": "code",
      "execution_count": 21,
      "metadata": {
        "id": "_mJDcscmEdJh"
      },
      "outputs": [],
      "source": [
        "#informacao 8\n",
        "#Quantidade de municipios no Paraná com casos positivos\n"
      ]
    },
    {
      "cell_type": "code",
      "source": [
        "rdd.filter(lambda line: line.split(';')[11] == 'Positivo' and line.split(';')[15] == 'PARANÁ') \\\n",
        "  .map(lambda line: line.split(';')[17]) \\\n",
        "  .distinct() \\\n",
        "  .count()"
      ],
      "metadata": {
        "id": "yIxFL5TGFjVu",
        "colab": {
          "base_uri": "https://localhost:8080/"
        },
        "outputId": "924db7c5-6d5d-4597-be79-eded1a9a0acf"
      },
      "execution_count": 36,
      "outputs": [
        {
          "output_type": "execute_result",
          "data": {
            "text/plain": [
              "296"
            ]
          },
          "metadata": {},
          "execution_count": 36
        }
      ]
    },
    {
      "cell_type": "code",
      "execution_count": 22,
      "metadata": {
        "id": "5MzFvirgEdJh"
      },
      "outputs": [],
      "source": [
        "#informacao 9\n",
        "#Quantidade de municipios no Paraná sem casos positivos\n"
      ]
    },
    {
      "cell_type": "code",
      "source": [
        "rdd.filter(lambda line: line.split(';')[11] != 'Positivo' and line.split(';')[15] == 'PARANÁ') \\\n",
        "  .map(lambda line: line.split(';')[17]) \\\n",
        "  .distinct() \\\n",
        "  .count()"
      ],
      "metadata": {
        "id": "AHM6JnS5Fjq2",
        "colab": {
          "base_uri": "https://localhost:8080/"
        },
        "outputId": "513f25b2-7186-4dac-a108-f907f0b8e9f6"
      },
      "execution_count": 37,
      "outputs": [
        {
          "output_type": "execute_result",
          "data": {
            "text/plain": [
              "482"
            ]
          },
          "metadata": {},
          "execution_count": 37
        }
      ]
    },
    {
      "cell_type": "code",
      "execution_count": 23,
      "metadata": {
        "id": "X_DOjqudEdJh"
      },
      "outputs": [],
      "source": [
        "#informacao 10\n",
        "#Estado com a maior taxa de falecimento de mulheres"
      ]
    },
    {
      "cell_type": "code",
      "source": [
        "def pegaCampos(linha):\n",
        "    campos = linha.split(';')\n",
        "    estado = campos[15]\n",
        "    sexo = campos[13]\n",
        "    evolucaoCaso = campos[31]\n",
        "    obitoFeminino = sexo == 'Feminino' and 'Óbito' in evolucaoCaso\n",
        "    return (estado, obitoFeminino)\n",
        "\n",
        "rdd.map(pegaCampos) \\\n",
        "  .map(lambda x: (x[0], (1, int(x[1])))) \\\n",
        "  .reduceByKey(lambda x, y: (x[0] + y[0], x[1] + y[1]))\\\n",
        "  .map(lambda x: (x[0], (x[1][1] / x[1][0]) * 100 if x[1][0] > 0 else 0))\\\n",
        "  .sortBy(lambda entrada: entrada[1], ascending=False)\\\n",
        "  .first()\n",
        "\n"
      ],
      "metadata": {
        "colab": {
          "base_uri": "https://localhost:8080/"
        },
        "id": "JaPYGYJT_y0Z",
        "outputId": "44577cc1-e13c-4d03-e677-05c0daac76c7"
      },
      "execution_count": 112,
      "outputs": [
        {
          "output_type": "execute_result",
          "data": {
            "text/plain": [
              "('BAHIA', 0.2837001068341712)"
            ]
          },
          "metadata": {},
          "execution_count": 112
        }
      ]
    },
    {
      "cell_type": "code",
      "execution_count": 24,
      "metadata": {
        "id": "tdSti370EdJh"
      },
      "outputs": [],
      "source": [
        "#informacao 11\n",
        "#Menor idade de mulher positiva para covid"
      ]
    },
    {
      "cell_type": "code",
      "source": [
        "rdd.filter(lambda linha: linha.split(';')[11] == 'Positivo' \\\n",
        "  and linha.split(';')[13] == 'Feminino' \\\n",
        "  and 1 < int(linha.split(';')[29]) <= 116) \\\n",
        "  .map(lambda linha: int(linha.split(';')[29])) \\\n",
        "  .min()\n",
        "\n",
        "# Optei pelo minimo de idade acima de 1 pois sem filtro estava retornando idade 0."
      ],
      "metadata": {
        "id": "JkXMcMvjFkgn",
        "colab": {
          "base_uri": "https://localhost:8080/"
        },
        "outputId": "2a5f6272-22d9-412e-f865-313c7dc8ab3a"
      },
      "execution_count": 50,
      "outputs": [
        {
          "output_type": "execute_result",
          "data": {
            "text/plain": [
              "2"
            ]
          },
          "metadata": {},
          "execution_count": 50
        }
      ]
    },
    {
      "cell_type": "code",
      "execution_count": 25,
      "metadata": {
        "id": "hA43YWXWEdJh"
      },
      "outputs": [],
      "source": [
        "#informacao 12\n",
        "#Maior idade de mulher positiva para covid"
      ]
    },
    {
      "cell_type": "code",
      "source": [
        "rdd.filter(lambda linha: linha.split(';')[11] == 'Positivo' \\\n",
        "  and linha.split(';')[13] == 'Feminino' \\\n",
        "  and 1 < int(linha.split(';')[29]) <= 116) \\\n",
        "  .map(lambda linha: int(linha.split(';')[29])) \\\n",
        "  .max()\n",
        "\n",
        "# Optei pelo teto de idade 116 pois ser a maior idade já registrada no Brasil,\n",
        "# sem filtro retornava idades impossíveis."
      ],
      "metadata": {
        "id": "iYYdZaGpFkwy",
        "colab": {
          "base_uri": "https://localhost:8080/"
        },
        "outputId": "3d166374-880e-4d7a-f3dc-ff177460f9c5"
      },
      "execution_count": 54,
      "outputs": [
        {
          "output_type": "execute_result",
          "data": {
            "text/plain": [
              "111"
            ]
          },
          "metadata": {},
          "execution_count": 54
        }
      ]
    },
    {
      "cell_type": "code",
      "execution_count": 26,
      "metadata": {
        "id": "uvkLha0CEdJh"
      },
      "outputs": [],
      "source": [
        "#informacao 13\n",
        "#Quantidade de casos positivos, em granularidade diária, ao longo do tempo"
      ]
    },
    {
      "cell_type": "code",
      "source": [
        "def pegaCampos(linha):\n",
        "  campos = linha.split(';')\n",
        "  resultado = campos[11]\n",
        "  data = campos[9]\n",
        "  return [resultado, data]\n",
        "\n",
        "rdd.map(pegaCampos)\\\n",
        "  .filter(lambda entrada: entrada[0] == 'Positivo')\\\n",
        "  .map(lambda entrada: [entrada[1][0:10], 1])\\\n",
        "  .reduceByKey(lambda x, y: x + y)\\\n",
        "  .sortBy(lambda entrada: entrada[0], ascending=True)\\\n",
        "  .take(10)"
      ],
      "metadata": {
        "id": "mQCeV8ymFlG7",
        "colab": {
          "base_uri": "https://localhost:8080/"
        },
        "outputId": "ba22f4c4-aeb6-4f37-f1fe-34821e5680c4"
      },
      "execution_count": 61,
      "outputs": [
        {
          "output_type": "execute_result",
          "data": {
            "text/plain": [
              "[('2020-01-01', 13),\n",
              " ('2020-01-02', 3),\n",
              " ('2020-01-06', 3),\n",
              " ('2020-01-07', 2),\n",
              " ('2020-01-08', 1),\n",
              " ('2020-01-09', 1),\n",
              " ('2020-01-10', 1),\n",
              " ('2020-01-13', 4),\n",
              " ('2020-01-15', 5),\n",
              " ('2020-01-16', 1)]"
            ]
          },
          "metadata": {},
          "execution_count": 61
        }
      ]
    },
    {
      "cell_type": "code",
      "execution_count": 28,
      "metadata": {
        "id": "egPwzuMfEdJh"
      },
      "outputs": [],
      "source": [
        "#informacao 14\n",
        "#Quantidade de casos positivos, em granularidade semanal, ao longo do tempo"
      ]
    },
    {
      "cell_type": "code",
      "source": [
        "def pegaCampos(linha):\n",
        "    campos = linha.split(';')\n",
        "    resultado = campos[11]\n",
        "    data = campos[9][0:10]\n",
        "    ano, mes, dia = map(int, data.split('-'))\n",
        "    numero_semana = (mes - 1) * 4 + (dia // 7 + 1)\n",
        "    chave_semana = f\"{ano}-W{numero_semana}\"\n",
        "    return [resultado, chave_semana]\n",
        "\n",
        "indexed_rdd = rdd.zipWithIndex()\n",
        "filtered_rdd = indexed_rdd.filter(lambda entrada: entrada[1] > 0).map(lambda entrada: entrada[0])\n",
        "\n",
        "filtered_rdd.map(pegaCampos) \\\n",
        "  .filter(lambda entrada: entrada[0] == 'Positivo') \\\n",
        "  .map(lambda entrada: (entrada[1], 1)) \\\n",
        "  .reduceByKey(lambda x, y: x + y) \\\n",
        "  .sortBy(lambda entrada: entrada[0], ascending=True) \\\n",
        "  .take(10)"
      ],
      "metadata": {
        "id": "_Z8Ye120FlXe",
        "colab": {
          "base_uri": "https://localhost:8080/"
        },
        "outputId": "1999fe29-84d5-4120-ad50-98691b8b1e24"
      },
      "execution_count": 111,
      "outputs": [
        {
          "output_type": "execute_result",
          "data": {
            "text/plain": [
              "[('2020-W1', 19),\n",
              " ('2020-W10', 416),\n",
              " ('2020-W11', 2040),\n",
              " ('2020-W12', 4131),\n",
              " ('2020-W13', 11449),\n",
              " ('2020-W14', 11202),\n",
              " ('2020-W15', 16612),\n",
              " ('2020-W16', 20933),\n",
              " ('2020-W17', 49387),\n",
              " ('2020-W18', 36928)]"
            ]
          },
          "metadata": {},
          "execution_count": 111
        }
      ]
    },
    {
      "cell_type": "code",
      "execution_count": 74,
      "metadata": {
        "id": "eQ9nVlqVEdJh"
      },
      "outputs": [],
      "source": [
        "#informacao 15\n",
        "#Quantidade de pacientes que faleceram (evolucaoCaso) separados pela idade"
      ]
    },
    {
      "cell_type": "code",
      "source": [
        "def pegaCampos(linha):\n",
        "    campos = linha.split(';')\n",
        "    idade = campos[29]\n",
        "    evolucaoCaso = campos[31]\n",
        "    return [idade, evolucaoCaso]\n",
        "\n",
        "rdd.map(pegaCampos) \\\n",
        "  .filter(lambda entrada: 'Óbito' in entrada[1]) \\\n",
        "  .map(lambda entrada: (entrada[0], 1)) \\\n",
        "  .reduceByKey(lambda x, y: x + y) \\\n",
        "  .sortBy(lambda entrada: entrada[0], ascending=True) \\\n",
        "  .collect()"
      ],
      "metadata": {
        "id": "NWSnQpf3Flmk",
        "colab": {
          "base_uri": "https://localhost:8080/"
        },
        "outputId": "1baa9880-7d1b-4444-8978-8d7aae32033a"
      },
      "execution_count": 110,
      "outputs": [
        {
          "output_type": "execute_result",
          "data": {
            "text/plain": [
              "[('0', 271),\n",
              " ('1', 9),\n",
              " ('10', 3),\n",
              " ('100', 10),\n",
              " ('101', 7),\n",
              " ('102', 10),\n",
              " ('103', 4),\n",
              " ('104', 4),\n",
              " ('105', 2),\n",
              " ('107', 1),\n",
              " ('108', 2),\n",
              " ('110', 2),\n",
              " ('12', 4),\n",
              " ('13', 2),\n",
              " ('14', 2),\n",
              " ('15', 3),\n",
              " ('16', 12),\n",
              " ('17', 7),\n",
              " ('18', 10),\n",
              " ('188', 1),\n",
              " ('19', 14),\n",
              " ('2', 14),\n",
              " ('20', 14),\n",
              " ('21', 16),\n",
              " ('22', 21),\n",
              " ('23', 15),\n",
              " ('24', 15),\n",
              " ('25', 23),\n",
              " ('26', 33),\n",
              " ('27', 24),\n",
              " ('28', 28),\n",
              " ('29', 25),\n",
              " ('3', 7),\n",
              " ('30', 27),\n",
              " ('31', 19),\n",
              " ('32', 39),\n",
              " ('33', 43),\n",
              " ('34', 51),\n",
              " ('35', 43),\n",
              " ('36', 55),\n",
              " ('37', 65),\n",
              " ('38', 56),\n",
              " ('39', 66),\n",
              " ('4', 5),\n",
              " ('40', 54),\n",
              " ('41', 61),\n",
              " ('42', 74),\n",
              " ('43', 82),\n",
              " ('44', 75),\n",
              " ('45', 78),\n",
              " ('46', 91),\n",
              " ('47', 83),\n",
              " ('48', 85),\n",
              " ('49', 77),\n",
              " ('5', 3),\n",
              " ('50', 83),\n",
              " ('51', 88),\n",
              " ('52', 107),\n",
              " ('53', 105),\n",
              " ('54', 126),\n",
              " ('55', 140),\n",
              " ('56', 158),\n",
              " ('57', 124),\n",
              " ('58', 134),\n",
              " ('59', 161),\n",
              " ('6', 4),\n",
              " ('60', 153),\n",
              " ('61', 178),\n",
              " ('62', 169),\n",
              " ('63', 189),\n",
              " ('64', 173),\n",
              " ('65', 170),\n",
              " ('66', 193),\n",
              " ('67', 209),\n",
              " ('68', 205),\n",
              " ('69', 201),\n",
              " ('7', 6),\n",
              " ('70', 210),\n",
              " ('71', 230),\n",
              " ('72', 195),\n",
              " ('73', 216),\n",
              " ('74', 195),\n",
              " ('75', 200),\n",
              " ('76', 212),\n",
              " ('77', 181),\n",
              " ('78', 174),\n",
              " ('79', 199),\n",
              " ('8', 2),\n",
              " ('80', 212),\n",
              " ('81', 183),\n",
              " ('82', 185),\n",
              " ('83', 175),\n",
              " ('84', 169),\n",
              " ('85', 159),\n",
              " ('86', 139),\n",
              " ('87', 151),\n",
              " ('88', 133),\n",
              " ('89', 112),\n",
              " ('9', 7),\n",
              " ('90', 111),\n",
              " ('91', 89),\n",
              " ('92', 94),\n",
              " ('93', 71),\n",
              " ('94', 60),\n",
              " ('95', 54),\n",
              " ('96', 38),\n",
              " ('97', 22),\n",
              " ('98', 17),\n",
              " ('99', 15)]"
            ]
          },
          "metadata": {},
          "execution_count": 110
        }
      ]
    },
    {
      "cell_type": "code",
      "execution_count": 76,
      "metadata": {
        "id": "VqThUoisEdJh"
      },
      "outputs": [],
      "source": [
        "#informacao 16\n",
        "#Taxa de óbito (evolucaoCaso) por idade"
      ]
    },
    {
      "cell_type": "code",
      "source": [
        "def pegaCampos(linha):\n",
        "    campos = linha.split(';')\n",
        "    idade = campos[29]\n",
        "    evolucaoCaso = campos[31]\n",
        "    obito = 'Óbito' in evolucaoCaso\n",
        "    return (idade, obito)\n",
        "\n",
        "rdd.map(pegaCampos) \\\n",
        "  .map(lambda entrada: (entrada[0], (1, int(entrada[1])))) \\\n",
        "  .reduceByKey(lambda x, y: (x[0] + y[0], x[1] + y[1]))\\\n",
        "  .map(lambda entrada: (entrada[0], (entrada[1][1] / entrada[1][0]) * 100 if entrada[1][0] > 0 else 0))\\\n",
        "  .collect()"
      ],
      "metadata": {
        "id": "solZFx95Fl1s",
        "colab": {
          "base_uri": "https://localhost:8080/"
        },
        "outputId": "50e44d88-88fa-4539-f5ce-ac629da84e4e"
      },
      "execution_count": 109,
      "outputs": [
        {
          "output_type": "execute_result",
          "data": {
            "text/plain": [
              "[('937', 0.0),\n",
              " ('219', 0.0),\n",
              " ('336', 0.0),\n",
              " ('8', 0.01755001755001755),\n",
              " ('39', 0.05428747686613202),\n",
              " ('10', 0.02536354413256679),\n",
              " ('5952', 0.0),\n",
              " ('1051', 0.0),\n",
              " ('202', 0.0),\n",
              " ('824', 0.0),\n",
              " ('133', 0.0),\n",
              " ('826', 0.0),\n",
              " ('793', 0.0),\n",
              " ('942', 0.0),\n",
              " ('339', 0.0),\n",
              " ('118', 0.0),\n",
              " ('178', 0.0),\n",
              " ('41', 0.05449153148002572),\n",
              " ('20', 0.023931214851028188),\n",
              " ('97', 3.353658536585366),\n",
              " ('120', 0.0),\n",
              " ('352', 0.0),\n",
              " ('122', 0.0),\n",
              " ('5980', 0.0),\n",
              " ('935', 0.0),\n",
              " ('38', 0.04379379379379379),\n",
              " ('90', 3.303571428571429),\n",
              " ('191', 0.0),\n",
              " ('364', 0.0),\n",
              " ('247', 0.0),\n",
              " ('229', 0.0),\n",
              " ('3', 0.06013229104028864),\n",
              " ('125', 0.0),\n",
              " ('254', 0.0),\n",
              " ('965', 0.0),\n",
              " ('128', 0.0),\n",
              " ('35', 0.03702173089506492),\n",
              " ('2', 0.10562848951259998),\n",
              " ('359', 0.0),\n",
              " ('121', 0.0),\n",
              " ('1059', 0.0),\n",
              " ('1845', 0.0),\n",
              " ('962', 0.0),\n",
              " ('26', 0.03627689162003803),\n",
              " ('44', 0.07865510261869055),\n",
              " ('63', 0.5455805092084752),\n",
              " ('22', 0.029255245047504947),\n",
              " ('101', 4.216867469879518),\n",
              " ('136', 0.0),\n",
              " ('924', 0.0),\n",
              " ('959', 0.0),\n",
              " ('145', 0.0),\n",
              " ('37', 0.05195469550551919),\n",
              " ('54', 0.19850960250815305),\n",
              " ('73', 1.3800153335037055),\n",
              " ('1055', 0.0),\n",
              " ('1001', 0.0),\n",
              " ('1043', 0.0),\n",
              " ('28', 0.029137225927968614),\n",
              " ('60', 0.35962767957878905),\n",
              " ('94', 3.965631196298744),\n",
              " ('96', 4.117009750812568),\n",
              " ('104', 6.557377049180328),\n",
              " ('105', 5.0),\n",
              " ('356', 0.0),\n",
              " ('109', 0.0),\n",
              " ('960', 0.0),\n",
              " ('61', 0.452006094464195),\n",
              " ('18', 0.029800929789009417),\n",
              " ('68', 0.8488964346349746),\n",
              " ('67', 0.8215085884988798),\n",
              " ('249', 0.0),\n",
              " ('345', 0.0),\n",
              " ('330', 0.0),\n",
              " ('821', 0.0),\n",
              " ('365', 0.0),\n",
              " ('1816', 0.0),\n",
              " ('34', 0.04358303850689638),\n",
              " ('86', 2.7519303108295388),\n",
              " ('92', 3.994900127496812),\n",
              " ('138', 0.0),\n",
              " ('1038', 0.0),\n",
              " ('361', 0.0),\n",
              " ('1823', 0.0),\n",
              " ('1054', 0.0),\n",
              " ('1034', 0.0),\n",
              " ('171', 0.0),\n",
              " ('70', 1.0412534708449028),\n",
              " ('9', 0.061002178649237467),\n",
              " ('137', 0.0),\n",
              " ('1227', 0.0),\n",
              " ('3180', 0.0),\n",
              " ('50', 0.11321012071199618),\n",
              " ('154', 0.0),\n",
              " ('126', 0.0),\n",
              " ('332', 0.0),\n",
              " ('947', 0.0),\n",
              " ('100', 3.6363636363636362),\n",
              " ('1011', 0.0),\n",
              " ('1053', 0.0),\n",
              " ('342', 0.0),\n",
              " ('75', 1.644195988161789),\n",
              " ('2001', 0.0),\n",
              " ('954', 0.0),\n",
              " ('223', 0.0),\n",
              " ('227', 0.0),\n",
              " ('224', 0.0),\n",
              " ('1056', 0.0),\n",
              " ('374', 0.0),\n",
              " ('375', 0.0),\n",
              " ('929', 0.0),\n",
              " ('933', 0.0),\n",
              " ('243', 0.0),\n",
              " ('142', 0.0),\n",
              " ('1024', 0.0),\n",
              " ('45', 0.08483609231907072),\n",
              " ('49', 0.09906594961788848),\n",
              " ('91', 3.1537916371367825),\n",
              " ('139', 0.0),\n",
              " ('115', 0.0),\n",
              " ('822', 0.0),\n",
              " ('891', 0.0),\n",
              " ('350', 0.0),\n",
              " ('349', 0.0),\n",
              " ('1050', 0.0),\n",
              " ('380', 0.0),\n",
              " ('148', 0.0),\n",
              " ('1825', 0.0),\n",
              " ('51', 0.12545441585287617),\n",
              " ('1', 0.05670005670005669),\n",
              " ('119', 0.0),\n",
              " ('941', 0.0),\n",
              " ('111', 0.0),\n",
              " ('337', 0.0),\n",
              " ('367', 0.0),\n",
              " ('31', 0.017279639128378623),\n",
              " ('42', 0.06813682611297822),\n",
              " ('25', 0.02581311306143521),\n",
              " ('19', 0.02936549554273728),\n",
              " ('326', 0.0),\n",
              " ('958', 0.0),\n",
              " ('949', 0.0),\n",
              " ('823', 0.0),\n",
              " ('922', 0.0),\n",
              " ('1046', 0.0),\n",
              " ('682', 0.0),\n",
              " ('173', 0.0),\n",
              " ('921', 0.0),\n",
              " ('354', 0.0),\n",
              " ('1049', 0.0),\n",
              " ('333', 0.0),\n",
              " ('58', 0.2744832954382515),\n",
              " ('74', 1.4251260688445515),\n",
              " ('172', 0.0),\n",
              " ('123', 0.0),\n",
              " ('134', 0.0),\n",
              " ('226', 0.0),\n",
              " ('1030', 0.0),\n",
              " ('843', 0.0),\n",
              " ('46', 0.10483870967741934),\n",
              " ('66', 0.68495581502644),\n",
              " ('89', 2.8955532574974145),\n",
              " ('344', 0.0),\n",
              " ('117', 0.0),\n",
              " ('464', 0.0),\n",
              " ('1101', 0.0),\n",
              " ('27', 0.025647876035265832),\n",
              " ('64', 0.5382198301340884),\n",
              " ('987', 0.0),\n",
              " ('1060', 0.0),\n",
              " ('1032', 0.0),\n",
              " ('329', 0.0),\n",
              " ('106', 0.0),\n",
              " ('127', 0.0),\n",
              " ('135', 0.0),\n",
              " ('2020', 0.0),\n",
              " ('225', 0.0),\n",
              " ('346', 0.0),\n",
              " ('151', 0.0),\n",
              " ('33', 0.037439487340229165),\n",
              " ('24', 0.018419146088387343),\n",
              " ('55', 0.2306995138831672),\n",
              " ('110', 13.333333333333334),\n",
              " ('113', 0.0),\n",
              " ('241', 0.0),\n",
              " ('131', 0.0),\n",
              " ('372', 0.0),\n",
              " ('362', 0.0),\n",
              " ('43', 0.0807062783579225),\n",
              " ('235', 0.0),\n",
              " ('301', 0.0),\n",
              " ('1822', 0.0),\n",
              " ('825', 0.0),\n",
              " ('23', 0.019549832523101385),\n",
              " ('322', 0.0),\n",
              " ('146', 0.0),\n",
              " ('321', 0.0),\n",
              " ('21', 0.024356085976983497),\n",
              " ('72', 1.1480718280836033),\n",
              " ('6', 0.035603026257231864),\n",
              " ('7', 0.052914719111032724),\n",
              " ('98', 3.313840155945419),\n",
              " ('334', 0.0),\n",
              " ('124', 0.0),\n",
              " ('953', 0.0),\n",
              " ('161', 0.0),\n",
              " ('242', 0.0),\n",
              " ('71', 1.256899284113886),\n",
              " ('955', 0.0),\n",
              " ('363', 0.0),\n",
              " ('7176', 0.0),\n",
              " ('280', 0.0),\n",
              " ('165', 0.0),\n",
              " ('144', 0.0),\n",
              " ('14', 0.013303179459890914),\n",
              " ('210', 0.0),\n",
              " ('948', 0.0),\n",
              " ('11', 0.0),\n",
              " ('102', 7.142857142857142),\n",
              " ('129', 0.0),\n",
              " ('179', 0.0),\n",
              " ('828', 0.0),\n",
              " ('57', 0.23433366089651522),\n",
              " ('77', 1.6165044208270072),\n",
              " ('13', 0.015036463423802722),\n",
              " ('80', 2.4074494662729955),\n",
              " ('112', 0.0),\n",
              " ('930', 0.0),\n",
              " ('1048', 0.0),\n",
              " ('381', 0.0),\n",
              " ('15', 0.017232465965879715),\n",
              " ('85', 2.796341892367218),\n",
              " ('353', 0.0),\n",
              " ('325', 0.0),\n",
              " ('130', 0.0),\n",
              " ('939', 0.0),\n",
              " ('59', 0.3572300250726663),\n",
              " ('95', 4.699738903394255),\n",
              " ('140', 0.0),\n",
              " ('1003', 0.0),\n",
              " ('116', 0.0),\n",
              " ('1824', 0.0),\n",
              " ('150', 0.0),\n",
              " ('29', 0.025003000360043208),\n",
              " ('48', 0.10593616411381282),\n",
              " ('5', 0.02693965517241379),\n",
              " ('88', 3.153900877400996),\n",
              " ('328', 0.0),\n",
              " ('897', 0.0),\n",
              " ('425', 0.0),\n",
              " ('946', 0.0),\n",
              " ('387', 0.0),\n",
              " ('4', 0.0440257110152329),\n",
              " ('93', 3.719224724986904),\n",
              " ('157', 0.0),\n",
              " ('132', 0.0),\n",
              " ('680', 0.0),\n",
              " ('1821', 0.0),\n",
              " ('idade', 0.0),\n",
              " ('56', 0.2728324497936489),\n",
              " ('81', 2.2184507212995515),\n",
              " ('277', 0.0),\n",
              " ('957', 0.0),\n",
              " ('827', 0.0),\n",
              " ('16', 0.058985450255603616),\n",
              " ('30', 0.026309635173058937),\n",
              " ('12', 0.03257594266634091),\n",
              " ('99', 4.3478260869565215),\n",
              " ('170', 0.0),\n",
              " ('371', 0.0),\n",
              " ('936', 0.0),\n",
              " ('829', 0.0),\n",
              " ('5962', 0.0),\n",
              " ('830', 0.0),\n",
              " ('188', 100.0),\n",
              " ('82', 2.4922538057389194),\n",
              " ('76', 1.7082997582594683),\n",
              " ('87', 3.320870903892677),\n",
              " ('103', 4.2105263157894735),\n",
              " ('355', 0.0),\n",
              " ('945', 0.0),\n",
              " ('79', 2.207921890602463),\n",
              " ('153', 0.0),\n",
              " ('1058', 0.0),\n",
              " ('47', 0.09936668701887967),\n",
              " ('52', 0.15993781856773442),\n",
              " ('17', 0.02909030461704692),\n",
              " ('78', 1.7713529471648175),\n",
              " ('323', 0.0),\n",
              " ('114', 0.0),\n",
              " ('950', 0.0),\n",
              " ('40', 0.04594102533562471),\n",
              " ('62', 0.44825208211765954),\n",
              " ('107', 2.857142857142857),\n",
              " ('324', 0.0),\n",
              " ('335', 0.0),\n",
              " ('183', 0.0),\n",
              " ('53', 0.16263436696508782),\n",
              " ('65', 0.5782116254549166),\n",
              " ('108', 7.4074074074074066),\n",
              " ('176', 0.0),\n",
              " ('357', 0.0),\n",
              " ('84', 2.5660491952626785),\n",
              " ('32', 0.03421983170862252),\n",
              " ('69', 0.9457488354585234),\n",
              " ('149', 0.0),\n",
              " ('360', 0.0),\n",
              " ('36', 0.04658805990377448),\n",
              " ('0', 1.0322236611563953),\n",
              " ('83', 2.6463027370331167),\n",
              " ('143', 0.0),\n",
              " ('160', 0.0)]"
            ]
          },
          "metadata": {},
          "execution_count": 109
        }
      ]
    },
    {
      "cell_type": "code",
      "execution_count": 31,
      "metadata": {
        "id": "j6vwg5UiEdJi"
      },
      "outputs": [],
      "source": [
        "#informacao 17\n",
        "#Idade média das mulheres positivas para covid"
      ]
    },
    {
      "cell_type": "code",
      "source": [
        "def pegaCampos(linha):\n",
        "    campos = linha.split(';')\n",
        "    sexo = campos[13]\n",
        "    resultadoTeste = campos[11]\n",
        "    idade = campos[29]\n",
        "    return (sexo, resultadoTeste, idade)\n",
        "\n",
        "indexed_rdd = rdd.zipWithIndex()\n",
        "filtered_rdd = indexed_rdd.filter(lambda x: x[1] > 0).map(lambda x: x[0])\n",
        "\n",
        "idade_positivos_femininos = filtered_rdd.map(pegaCampos) \\\n",
        "  .filter(lambda entrada: entrada[0] == 'Feminino' and entrada[1] == 'Positivo') \\\n",
        "  .map(lambda entrada: int(entrada[2]))\n",
        "\n",
        "count = idade_positivos_femininos.count()\n",
        "idade = idade_positivos_femininos.reduce(lambda x, y: x + y)\n",
        "idade_media = idade / count if count > 0 else 0\n",
        "\n",
        "print(f\"Idade média das mulheres positivas para covid: {round(idade_media):.2f}\")\n"
      ],
      "metadata": {
        "id": "EREh4QZWFmRf",
        "colab": {
          "base_uri": "https://localhost:8080/"
        },
        "outputId": "5b8532cf-388b-4aad-eeed-d3348d3370b1"
      },
      "execution_count": 108,
      "outputs": [
        {
          "output_type": "stream",
          "name": "stdout",
          "text": [
            "Idade média das mulheres positivas para covid: 41.00\n"
          ]
        }
      ]
    },
    {
      "cell_type": "code",
      "execution_count": 32,
      "metadata": {
        "id": "Ph-iqND0EdJi"
      },
      "outputs": [],
      "source": [
        "#informacao 18\n",
        "#Município do Paraná com a maior quantidade de mulheres positivos para covid"
      ]
    },
    {
      "cell_type": "code",
      "source": [
        "def pegaCampos(linha):\n",
        "    campos = linha.split(';')\n",
        "    estado = campos[15]\n",
        "    sexo = campos[13]\n",
        "    resultadoTeste = campos[11]\n",
        "    municipio = campos[17]\n",
        "    return (estado, sexo, resultadoTeste, municipio)\n",
        "\n",
        "\n",
        "\n",
        "# Filter for female positive cases in Paraná and then group by city\n",
        "rdd.map(pegaCampos) \\\n",
        "  .filter(lambda entrada: entrada[0] == 'PARANÁ' and entrada[1] == 'Feminino' and entrada[2] == 'Positivo') \\\n",
        "  .map(lambda entrada: (entrada[3], 1)) \\\n",
        "  .reduceByKey(lambda x, y: x + y) \\\n",
        "  .sortBy(lambda entrada: entrada[1], ascending=False) \\\n",
        "  .first()\n"
      ],
      "metadata": {
        "id": "rjpRMJhIFmpw",
        "colab": {
          "base_uri": "https://localhost:8080/"
        },
        "outputId": "5b5418a9-ce08-4ac1-a2d5-140e87a7b896"
      },
      "execution_count": 107,
      "outputs": [
        {
          "output_type": "execute_result",
          "data": {
            "text/plain": [
              "('Curitiba', 903)"
            ]
          },
          "metadata": {},
          "execution_count": 107
        }
      ]
    },
    {
      "cell_type": "code",
      "execution_count": 33,
      "metadata": {
        "id": "qYTxR1LfEdJi"
      },
      "outputs": [],
      "source": [
        "#informacao 19\n",
        "#Dia da semana com a maior quantidade de testes realizados"
      ]
    },
    {
      "cell_type": "code",
      "source": [
        "def pegaCampos(linha):\n",
        "    campos = linha.split(';')\n",
        "    dataTeste = campos[9][0:10]\n",
        "    ano, mes, dia = map(int, dataTeste.split('-'))\n",
        "    diaDaSemana = (ano + ((mes + 9) % 12) * 26 // 10 + dia + (ano // 4) - (ano // 100) + (ano // 400)) % 7\n",
        "    dias = [\"Domingo\", \"Segunda\", \"Terça\", \"Quarta\", \"Quinta\", \"Sexta\", \"Sábado\"]\n",
        "    return dias[diaDaSemana]\n",
        "\n",
        "\n",
        "indexed_rdd = rdd.zipWithIndex()\n",
        "filtered_rdd = indexed_rdd.filter(lambda entrada: entrada[1] > 0).map(lambda x: x[0])\n",
        "\n",
        "\n",
        "filtered_rdd.map(lambda linha: (pegaCampos(linha), 1)) \\\n",
        "  .reduceByKey(lambda x, y: x + y) \\\n",
        "  .sortBy(lambda entrada: entrada[1], ascending=False) \\\n",
        "  .first()"
      ],
      "metadata": {
        "id": "5kCxb_GqFnBo",
        "colab": {
          "base_uri": "https://localhost:8080/"
        },
        "outputId": "dadb4c90-7136-4096-e1d4-47a53d7aa414"
      },
      "execution_count": 106,
      "outputs": [
        {
          "output_type": "execute_result",
          "data": {
            "text/plain": [
              "('Sábado', 874481)"
            ]
          },
          "metadata": {},
          "execution_count": 106
        }
      ]
    },
    {
      "cell_type": "code",
      "execution_count": 34,
      "metadata": {
        "id": "FAwKh9vMEdJi"
      },
      "outputs": [],
      "source": [
        "#informacao 20\n",
        "#Dia da semana com maior quantidade de pacientes positivos para corona virus"
      ]
    },
    {
      "cell_type": "code",
      "source": [
        "def pegaCampos(linha):\n",
        "    campos = linha.split(';')\n",
        "    resultadoTeste = campos[11]\n",
        "    dataTeste = campos[9][0:10]\n",
        "    ano, mes, dia = map(int, dataTeste.split('-'))\n",
        "    diaDaSemana = (ano + ((mes + 9) % 12) * 26 // 10 + dia + (ano // 4) - (ano // 100) + (ano // 400)) % 7\n",
        "    dias = [\"Domingo\", \"Segunda\", \"Terça\", \"Quarta\", \"Quinta\", \"Sexta\", \"Sábado\"]\n",
        "    return (dias[diaDaSemana], resultadoTeste)\n",
        "\n",
        "indexed_rdd = rdd.zipWithIndex()\n",
        "filtered_rdd = indexed_rdd.filter(lambda x: x[1] > 0).map(lambda x: x[0])\n",
        "\n",
        "filtered_rdd.map(pegaCampos) \\\n",
        "  .filter(lambda entrada: entrada[1] == 'Positivo') \\\n",
        "  .map(lambda entrada: (entrada[0], 1)) \\\n",
        "  .reduceByKey(lambda x, y: x + y) \\\n",
        "  .sortBy(lambda entrada: entrada[1], ascending=False) \\\n",
        "  .first()"
      ],
      "metadata": {
        "id": "uXZSquGmFnvV",
        "colab": {
          "base_uri": "https://localhost:8080/"
        },
        "outputId": "c5591ea1-bf80-45d3-e606-cab134c9545a"
      },
      "execution_count": 105,
      "outputs": [
        {
          "output_type": "execute_result",
          "data": {
            "text/plain": [
              "('Sábado', 240776)"
            ]
          },
          "metadata": {},
          "execution_count": 105
        }
      ]
    },
    {
      "cell_type": "code",
      "execution_count": 35,
      "metadata": {
        "id": "dR9HrH0HEdJi"
      },
      "outputs": [],
      "source": [
        "#informacao 21\n",
        "#Municipio, com mais de 500 testes, com a maior taxa de exames que não foram positivos para COVID (casos que foram testados porém não tiveram o resultadoTeste como Positivo)"
      ]
    },
    {
      "cell_type": "code",
      "source": [
        "def pegaCampos(linha):\n",
        "    campos = linha.split(';')\n",
        "    municipio = campos[17]\n",
        "    testesNaoPositivos = campos[11] != 'Positivo'\n",
        "    return (municipio, (1, int(testesNaoPositivos)))\n",
        "\n",
        "rdd.map(pegaCampos) \\\n",
        "  .reduceByKey(lambda x, y: (x[0] + y[0], x[1] + y[1]))\\\n",
        "  .filter(lambda entrada: entrada[1][0] > 500) \\\n",
        "  .map(lambda entrada: (entrada[0], (entrada[1][1] / entrada[1][0]) * 100)) \\\n",
        "  .sortBy(lambda entrada: entrada[1], ascending=False) \\\n",
        "  .first()"
      ],
      "metadata": {
        "id": "C2_droiMFnlI",
        "colab": {
          "base_uri": "https://localhost:8080/"
        },
        "outputId": "062bf9f2-d96e-41cc-905f-304fbda55d89"
      },
      "execution_count": 104,
      "outputs": [
        {
          "output_type": "execute_result",
          "data": {
            "text/plain": [
              "('Santo Antônio do Grama', 97.34121122599704)"
            ]
          },
          "metadata": {},
          "execution_count": 104
        }
      ]
    }
  ],
  "metadata": {
    "kernelspec": {
      "display_name": "Python 3",
      "language": "python",
      "name": "python3"
    },
    "language_info": {
      "codemirror_mode": {
        "name": "ipython",
        "version": 3
      },
      "file_extension": ".py",
      "mimetype": "text/x-python",
      "name": "python",
      "nbconvert_exporter": "python",
      "pygments_lexer": "ipython3",
      "version": "3.7.6"
    },
    "colab": {
      "provenance": []
    }
  },
  "nbformat": 4,
  "nbformat_minor": 0
}