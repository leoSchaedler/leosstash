{
  "cells": [
    {
      "cell_type": "markdown",
      "source": [
        "### **Aluno: Leonardo Ribeiro Schaedler**"
      ],
      "metadata": {
        "id": "nf7wIFdDbD7c"
      }
    },
    {
      "cell_type": "markdown",
      "metadata": {
        "id": "wAyIvfaaEdJd"
      },
      "source": [
        "# Atividade MapReduce\n",
        "\n",
        "Considerando o dataset detalhado a seguir, extraia o conjunto de informações solicitadas.\n",
        "\n",
        "### Dataset dados de operacoes comerciais entre paises\n",
        "- Dados relativos a transacoes comerciais entre paises ao longo do tempo\n",
        "- 2 bases:\n",
        "  - base.csv ~433MB (3M de eventos)\n",
        "  - base_sample.csv ~4MB (35k de eventos)\n",
        "- 4.4M de instâncias\n",
        "\n",
        "### Formato da base\n",
        "\n",
        "|  # | Nome do campo        \t| Descrição                                     \t|\n",
        "|----|----------------------\t|-----------------------------------------------\t|\n",
        "|  0 | \tPaís\tPaís envolvido na transação comercial|\n",
        "|  1 | \tAno\tAno em que a transação foi efetuada|\n",
        "|  2 | \tCódigo\tCódigo da mercadoria|\n",
        "|  3 | \tMercadoria \tDescrição da mercadoria|\n",
        "|  4 | \tFluxo\tFluxo, e.g. Exportação ou Importação|\n",
        "|  5 | \tValor\tValor em dólares|\n",
        "|  6 | \tPeso\tPeso da mercadoria|\n",
        "|  7 | \tUnidade \tUnidade de medida da mercadoria, e.g. Quantidade de itens|\n",
        "|  8 | \tQuantidade\tQuantidade conforme a unidade especificada da mercadoria|\n",
        "|  9 | \tCategoria\tCategoria da mercadoria, e.g. Produto Animal|\n",
        "\n",
        "\n",
        "### Informações a serem extraídas:\n",
        "\n",
        "1.\tPaís com a maior quantidade de transações comerciais efetuadas;\n",
        "2.\tMercadoria com a maior quantidade de transações comerciais no Brasil (como a base de dados está em inglês utilize Brazil, com Z, utilize a função “contains” do Java);\n",
        "3.\tQuantidade de transações financeiras realizadas por ano;\n",
        "4.\tMercadoria com maior quantidade de transações financeiras;\n",
        "5.\tMercadoria com maior quantidade de transações financeiras em 2016;\n",
        "6.\tMercadoria com maior quantidade de transações financeiras em 2016, no Brasil (como a base de dados está em inglês utilize Brazil, com Z);\n",
        "7.\tMercadoria com maior total de peso, de acordo com todas transações comerciais;\n",
        "8.\tMercadoria com maior total de peso, de acordo com todas transações comerciais, separadas de acordo com o ano;\n",
        "9.\tMédia de peso por mercadoria, separadas de acordo com o ano;\n",
        "10.\tMédia de peso por mercadoria comercializadas no Brasil (como a base de dados está em inglês utilize Brazil, com Z), separadas de acordo com o ano;\n",
        "11.\tMédia de peso por mercadoria comercializadas no Brasil (como a base de dados está em inglês utilize Brazil, com Z), em relação ao fluxo, separadas de acordo com o ano;\n",
        "12.\tPreco medio das commodities de acordo com o ano\n",
        "13.\tValores maximos, minimos e médios de cada tipo de mercadoria por ano\n",
        "14.\tPais com o maior preco da commodity em fluxos do tipo Export\n",
        "15.\tQuantidade de transações comerciais de acordo com o fluxo, de acordo com o ano;"
      ]
    },
    {
      "cell_type": "code",
      "source": [
        "#Instala ambiente local do MapReduce\n",
        "!pip --quiet install mrjob\n",
        "#Efetua download da base completa (400MB)  https://drive.google.com/file/d/1LdeDR5wKP15kUywI7491OmKzdMzVgO-c/view?usp=sharing\n",
        "!gdown 1LdeDR5wKP15kUywI7491OmKzdMzVgO-c\n",
        "#Efetua download da base parcial (4MB)   https://drive.google.com/file/d/1CBi-jpBlJrKX4BmWMO0bM-DjLeLXrnDm/view?usp=sharing\n",
        "!gdown 1CBi-jpBlJrKX4BmWMO0bM-DjLeLXrnDm"
      ],
      "metadata": {
        "id": "MOzkKQYcOL9g",
        "colab": {
          "base_uri": "https://localhost:8080/"
        },
        "outputId": "51bae58a-9c69-4919-d206-9ae25308f9dc"
      },
      "execution_count": 1,
      "outputs": [
        {
          "output_type": "stream",
          "name": "stdout",
          "text": [
            "\u001b[2K     \u001b[90m━━━━━━━━━━━━━━━━━━━━━━━━━━━━━━━━━━━━━━━━\u001b[0m \u001b[32m439.6/439.6 kB\u001b[0m \u001b[31m6.7 MB/s\u001b[0m eta \u001b[36m0:00:00\u001b[0m\n",
            "\u001b[?25hDownloading...\n",
            "From: https://drive.google.com/uc?id=1LdeDR5wKP15kUywI7491OmKzdMzVgO-c\n",
            "To: /content/base.csv\n",
            "100% 444M/444M [00:04<00:00, 105MB/s]\n",
            "Downloading...\n",
            "From: https://drive.google.com/uc?id=1CBi-jpBlJrKX4BmWMO0bM-DjLeLXrnDm\n",
            "To: /content/base_sample.csv\n",
            "100% 4.06M/4.06M [00:00<00:00, 192MB/s]\n"
          ]
        }
      ]
    },
    {
      "cell_type": "code",
      "source": [],
      "metadata": {
        "id": "8_yyegCRE4YG"
      },
      "execution_count": 1,
      "outputs": []
    },
    {
      "cell_type": "code",
      "execution_count": 1,
      "metadata": {
        "id": "5oa0PA69EdJf"
      },
      "outputs": [],
      "source": []
    },
    {
      "cell_type": "markdown",
      "source": [
        "### Informação 1\n",
        " - País com a maior quantidade de transações comerciais efetuadas;"
      ],
      "metadata": {
        "id": "PRXOKvQzu7f9"
      }
    },
    {
      "cell_type": "code",
      "source": [
        "%%file pratica.py\n",
        "from mrjob.job import MRJob\n",
        "import sys\n",
        "\n",
        "class WordCount(MRJob):\n",
        "    def mapper(self, _, linha):\n",
        "      try:\n",
        "        campos = linha.split(';')\n",
        "        pais = campos[0]\n",
        "        yield(pais, 1)\n",
        "      except:\n",
        "        pass\n",
        "\n",
        "    def reducer(self, chave, valores):\n",
        "      valor = 0\n",
        "      for v in valores:\n",
        "        valor = valor + 1\n",
        "      yield(chave, valor)\n",
        "\n",
        "if __name__ == '__main__':\n",
        "     WordCount.run()"
      ],
      "metadata": {
        "id": "K1-g1QDbu5cX",
        "colab": {
          "base_uri": "https://localhost:8080/"
        },
        "outputId": "eee6acc2-bb4b-4047-907d-d0bc0c7d478e"
      },
      "execution_count": 2,
      "outputs": [
        {
          "output_type": "stream",
          "name": "stdout",
          "text": [
            "Writing pratica.py\n"
          ]
        }
      ]
    },
    {
      "cell_type": "markdown",
      "source": [
        "Teste prévio com base parcial (Top 1 = \"Canada\"\t936)"
      ],
      "metadata": {
        "id": "f3PFWNVKvDwK"
      }
    },
    {
      "cell_type": "code",
      "source": [
        "!rm -rf /content/atividade\n",
        "!python pratica.py /content/base_sample.csv --output-dir=/content/atividade\n",
        "print('\\nTop 10 Entradas da atividade')\n",
        "!cat /content/atividade/* | sort -k2,2rn -t$'\\t' | head -10"
      ],
      "metadata": {
        "id": "j7OzfeAnvDa0",
        "colab": {
          "base_uri": "https://localhost:8080/"
        },
        "outputId": "e38ac606-3548-4a00-9102-089be6a38b89"
      },
      "execution_count": 3,
      "outputs": [
        {
          "output_type": "stream",
          "name": "stdout",
          "text": [
            "No configs found; falling back on auto-configuration\n",
            "No configs specified for inline runner\n",
            "Running step 1 of 1...\n",
            "Creating temp directory /tmp/pratica.root.20231019.183825.766637\n",
            "job output is in /content/atividade\n",
            "Removing temp directory /tmp/pratica.root.20231019.183825.766637...\n",
            "\n",
            "Top 10 Entradas da atividade\n",
            "\"Canada\"\t936\n",
            "\"France\"\t762\n",
            "\"Germany\"\t740\n",
            "\"Netherlands\"\t717\n",
            "\"Greece\"\t687\n",
            "\"Italy\"\t655\n",
            "\"Denmark\"\t646\n",
            "\"Czech Rep.\"\t643\n",
            "\"Malaysia\"\t640\n",
            "\"Austria\"\t614\n"
          ]
        }
      ]
    },
    {
      "cell_type": "markdown",
      "source": [
        "Teste com base completa (Top 1 = \"Australia\"\t89487)"
      ],
      "metadata": {
        "id": "2EmJ-fVevLJQ"
      }
    },
    {
      "cell_type": "code",
      "source": [
        "!rm -rf /content/atividade\n",
        "!python pratica.py /content/base.csv --output-dir=/content/atividade\n",
        "print('\\nTop 10 Entradas da atividade')\n",
        "!cat /content/atividade/* | sort -k2,2rn -t$'\\t' | head -10"
      ],
      "metadata": {
        "id": "rmLHhq0du5Zx",
        "colab": {
          "base_uri": "https://localhost:8080/"
        },
        "outputId": "be7decd8-8704-4ae0-b088-24a9457c2495"
      },
      "execution_count": 4,
      "outputs": [
        {
          "output_type": "stream",
          "name": "stdout",
          "text": [
            "No configs found; falling back on auto-configuration\n",
            "No configs specified for inline runner\n",
            "Running step 1 of 1...\n",
            "Creating temp directory /tmp/pratica.root.20231019.183826.937149\n",
            "job output is in /content/atividade\n",
            "Removing temp directory /tmp/pratica.root.20231019.183826.937149...\n",
            "\n",
            "Top 10 Entradas da atividade\n",
            "\"Australia\"\t89487\n",
            "\"Canada\"\t69468\n",
            "\"Austria\"\t58683\n",
            "\"Argentina\"\t57729\n",
            "\"China, Hong Kong SAR\"\t55535\n",
            "\"Brazil\"\t54356\n",
            "\"Denmark\"\t49905\n",
            "\"Belgium\"\t49525\n",
            "\"China\"\t49275\n",
            "\"France\"\t46052\n"
          ]
        }
      ]
    },
    {
      "cell_type": "code",
      "source": [],
      "metadata": {
        "id": "14oxwV7uu5XW"
      },
      "execution_count": 4,
      "outputs": []
    },
    {
      "cell_type": "code",
      "source": [],
      "metadata": {
        "id": "OAEhAofnu5Up"
      },
      "execution_count": 4,
      "outputs": []
    },
    {
      "cell_type": "markdown",
      "source": [
        "### Informação 2\n",
        " - Mercadoria com a maior quantidade de transações comerciais no Brasil (como a base de dados está em inglês utilize Brazil, com Z)"
      ],
      "metadata": {
        "id": "IjERlJ1gyAlM"
      }
    },
    {
      "cell_type": "code",
      "source": [
        "%%file pratica.py\n",
        "from mrjob.job import MRJob\n",
        "import sys\n",
        "\n",
        "class WordCount(MRJob):\n",
        "    def mapper(self, _, linha):\n",
        "      try:\n",
        "        campos = linha.split(';')\n",
        "        country = campos[0]\n",
        "        if country == \"Brazil\":\n",
        "          comm = campos[3]\n",
        "          yield(comm, 1)\n",
        "      except:\n",
        "        pass\n",
        "\n",
        "    def reducer(self, chave, valores):\n",
        "      valor = 0\n",
        "      for v in valores:\n",
        "        valor = valor + v\n",
        "      yield(chave, valor)\n",
        "\n",
        "if __name__ == '__main__':\n",
        "     WordCount.run()"
      ],
      "metadata": {
        "id": "oeKIkcAmyAlM",
        "colab": {
          "base_uri": "https://localhost:8080/"
        },
        "outputId": "2081e37c-0e21-4272-eb0e-bb7876e4c707"
      },
      "execution_count": 53,
      "outputs": [
        {
          "output_type": "stream",
          "name": "stdout",
          "text": [
            "Overwriting pratica.py\n"
          ]
        }
      ]
    },
    {
      "cell_type": "markdown",
      "source": [
        "Teste prévio com base parcial"
      ],
      "metadata": {
        "id": "xkT46bN9yAlN"
      }
    },
    {
      "cell_type": "code",
      "source": [
        "!rm -rf /content/atividade\n",
        "!python pratica.py /content/base_sample.csv --output-dir=/content/atividade\n",
        "print('\\nTop 10 Entradas da atividade')\n",
        "!cat /content/atividade/* | sort -k2,2rn -t$'\\t' | head -10"
      ],
      "metadata": {
        "id": "-Z5dd55ayAlN",
        "colab": {
          "base_uri": "https://localhost:8080/"
        },
        "outputId": "52d05508-7ad1-4dc2-cf44-4a349efd189a"
      },
      "execution_count": 54,
      "outputs": [
        {
          "output_type": "stream",
          "name": "stdout",
          "text": [
            "No configs found; falling back on auto-configuration\n",
            "No configs specified for inline runner\n",
            "Running step 1 of 1...\n",
            "Creating temp directory /tmp/pratica.root.20231019.191602.357923\n",
            "job output is in /content/atividade\n",
            "Removing temp directory /tmp/pratica.root.20231019.191602.357923...\n",
            "\n",
            "Top 10 Entradas da atividade\n",
            "\"Horses, live except pure-bred breeding\"\t64\n",
            "\"Animals, live, except farm animals\"\t56\n",
            "\"Bovine animals, live pure-bred breeding\"\t56\n",
            "\"Fowls, live domestic < 185 grams\"\t56\n",
            "\"Bovine animals, live, except pure-bred breeding\"\t54\n",
            "\"Horses, live pure-bred breeding\"\t54\n",
            "\"Swine, live pure-bred breeding\"\t52\n",
            "\"Sheep, live\"\t47\n",
            "\"Poultry, live except domestic fowls, < 185 grams\"\t32\n",
            "\"Goats, live\"\t30\n"
          ]
        }
      ]
    },
    {
      "cell_type": "markdown",
      "source": [
        "Teste com base completa"
      ],
      "metadata": {
        "id": "KyOXAOwMyAlN"
      }
    },
    {
      "cell_type": "code",
      "source": [
        "!rm -rf /content/atividade\n",
        "!python pratica.py /content/base.csv --output-dir=/content/atividade\n",
        "print('\\nTop 10 Entradas da atividade')\n",
        "!cat /content/atividade/* | sort -k2,2rn -t$'\\t' | head -10"
      ],
      "metadata": {
        "id": "J8HzyIcLyAlN",
        "colab": {
          "base_uri": "https://localhost:8080/"
        },
        "outputId": "619f95a3-86ef-4d58-cdc1-3f90b6717d1e"
      },
      "execution_count": 52,
      "outputs": [
        {
          "output_type": "stream",
          "name": "stdout",
          "text": [
            "No configs found; falling back on auto-configuration\n",
            "No configs specified for inline runner\n",
            "Running step 1 of 1...\n",
            "Creating temp directory /tmp/pratica.root.20231019.191100.937858\n",
            "job output is in /content/atividade\n",
            "Removing temp directory /tmp/pratica.root.20231019.191100.937858...\n",
            "\n",
            "Top 10 Entradas da atividade\n",
            "\"Industrial fatty alcohols\"\t84\n",
            "\"Cigarette or pipe tobacco and tobacco substitute mixe\"\t69\n",
            "\"Synthetic organic pigments and preps based thereon\"\t69\n",
            "\"Beauty, makeup and suntan preparations nes\"\t68\n",
            "\"Chocolate/cocoa food preparations nes\"\t68\n",
            "\"Chocolate, cocoa preps, block, slab, bar, filled, >2k\"\t68\n",
            "\"Essential oils, nes\"\t68\n",
            "\"Hair preparations, nes\"\t68\n",
            "\"Hair shampoos\"\t68\n",
            "\"Jams, fruit jellies, purees and pastes, except citrus\"\t68\n"
          ]
        }
      ]
    },
    {
      "cell_type": "code",
      "source": [],
      "metadata": {
        "id": "H1775c--yAlN"
      },
      "execution_count": 7,
      "outputs": []
    },
    {
      "cell_type": "code",
      "source": [],
      "metadata": {
        "id": "iAriufiuu5NX"
      },
      "execution_count": 7,
      "outputs": []
    },
    {
      "cell_type": "markdown",
      "source": [
        "### Informação 3\n",
        " - Quantidade de transações financeiras realizadas por ano;"
      ],
      "metadata": {
        "id": "rvi20aQEyjJ_"
      }
    },
    {
      "cell_type": "code",
      "source": [
        "%%file pratica.py\n",
        "from mrjob.job import MRJob\n",
        "import sys\n",
        "\n",
        "class WordCount(MRJob):\n",
        "    def mapper(self, _, linha):\n",
        "      try:\n",
        "        campos = linha.split(';')\n",
        "        year = campos[1]\n",
        "        yield(year, 1)\n",
        "      except:\n",
        "        pass\n",
        "\n",
        "    def reducer(self, chave, valores):\n",
        "      valor = 0\n",
        "      for v in valores:\n",
        "        valor = valor + v\n",
        "      yield(chave, valor)\n",
        "\n",
        "if __name__ == '__main__':\n",
        "     WordCount.run()"
      ],
      "metadata": {
        "id": "iqTfirfKyjKE",
        "colab": {
          "base_uri": "https://localhost:8080/"
        },
        "outputId": "5a49b2ce-f1f1-431a-b0b2-22ed69a4c9a8"
      },
      "execution_count": 55,
      "outputs": [
        {
          "output_type": "stream",
          "name": "stdout",
          "text": [
            "Overwriting pratica.py\n"
          ]
        }
      ]
    },
    {
      "cell_type": "markdown",
      "source": [
        "Teste prévio com base parcial"
      ],
      "metadata": {
        "id": "_mEi9Dn6yjKE"
      }
    },
    {
      "cell_type": "code",
      "source": [
        "!rm -rf /content/atividade\n",
        "!python pratica.py /content/base_sample.csv --output-dir=/content/atividade\n",
        "print('\\nTop 10 Entradas da atividade')\n",
        "!cat /content/atividade/* | sort -k2,2rn -t$'\\t' | head -10"
      ],
      "metadata": {
        "id": "eny-_aXYyjKE",
        "colab": {
          "base_uri": "https://localhost:8080/"
        },
        "outputId": "13f1055a-4fbc-4f2f-f5df-2611bd0eef71"
      },
      "execution_count": 56,
      "outputs": [
        {
          "output_type": "stream",
          "name": "stdout",
          "text": [
            "No configs found; falling back on auto-configuration\n",
            "No configs specified for inline runner\n",
            "Running step 1 of 1...\n",
            "Creating temp directory /tmp/pratica.root.20231019.192121.145999\n",
            "job output is in /content/atividade\n",
            "Removing temp directory /tmp/pratica.root.20231019.192121.145999...\n",
            "\n",
            "Top 10 Entradas da atividade\n",
            "\"2012\"\t1628\n",
            "\"2013\"\t1621\n",
            "\"2003\"\t1580\n",
            "\"2010\"\t1571\n",
            "\"2014\"\t1568\n",
            "\"2011\"\t1566\n",
            "\"2001\"\t1557\n",
            "\"2015\"\t1551\n",
            "\"2000\"\t1549\n",
            "\"2007\"\t1538\n"
          ]
        }
      ]
    },
    {
      "cell_type": "markdown",
      "source": [
        "Teste com base completa"
      ],
      "metadata": {
        "id": "z4kWzYVRyjKE"
      }
    },
    {
      "cell_type": "code",
      "source": [
        "!rm -rf /content/atividade\n",
        "!python pratica.py /content/base.csv --output-dir=/content/atividade\n",
        "print('\\nTop 10 Entradas da atividade')\n",
        "!cat /content/atividade/* | sort -k2,2rn -t$'\\t' | head -10"
      ],
      "metadata": {
        "id": "hvin6ScgyjKE",
        "colab": {
          "base_uri": "https://localhost:8080/"
        },
        "outputId": "25d1698a-f22d-4158-cbbb-8dd2fa0d237a"
      },
      "execution_count": 57,
      "outputs": [
        {
          "output_type": "stream",
          "name": "stdout",
          "text": [
            "No configs found; falling back on auto-configuration\n",
            "No configs specified for inline runner\n",
            "Running step 1 of 1...\n",
            "Creating temp directory /tmp/pratica.root.20231019.192122.188615\n",
            "job output is in /content/atividade\n",
            "Removing temp directory /tmp/pratica.root.20231019.192122.188615...\n",
            "\n",
            "Top 10 Entradas da atividade\n",
            "\"2012\"\t137457\n",
            "\"2011\"\t137418\n",
            "\"2010\"\t137198\n",
            "\"2009\"\t136645\n",
            "\"2006\"\t135996\n",
            "\"2007\"\t135855\n",
            "\"2013\"\t135501\n",
            "\"2005\"\t133867\n",
            "\"2014\"\t133270\n",
            "\"2008\"\t133210\n"
          ]
        }
      ]
    },
    {
      "cell_type": "code",
      "source": [],
      "metadata": {
        "id": "q-bLnjYLyjKF"
      },
      "execution_count": 10,
      "outputs": []
    },
    {
      "cell_type": "code",
      "source": [],
      "metadata": {
        "id": "Ahv4igj0u5K5"
      },
      "execution_count": 10,
      "outputs": []
    },
    {
      "cell_type": "markdown",
      "source": [
        "### Informação 4\n",
        " - Mercadoria com maior quantidade de transações financeiras;"
      ],
      "metadata": {
        "id": "fPD9zvZpyn86"
      }
    },
    {
      "cell_type": "code",
      "source": [
        "%%file pratica.py\n",
        "from mrjob.job import MRJob\n",
        "import sys\n",
        "\n",
        "class WordCount(MRJob):\n",
        "    def mapper(self, _, linha):\n",
        "      try:\n",
        "        campos = linha.split(';')\n",
        "        comm = campos[3]\n",
        "        yield(comm, 1)\n",
        "      except:\n",
        "        pass\n",
        "\n",
        "    def reducer(self, chave, valores):\n",
        "      valor = 0\n",
        "      for v in valores:\n",
        "        valor = valor + v\n",
        "      yield(chave, valor)\n",
        "\n",
        "if __name__ == '__main__':\n",
        "     WordCount.run()"
      ],
      "metadata": {
        "id": "kwD8KEQwyn8_",
        "colab": {
          "base_uri": "https://localhost:8080/"
        },
        "outputId": "3c2a091a-22be-4fe2-b448-6eb293f7b7c3"
      },
      "execution_count": 58,
      "outputs": [
        {
          "output_type": "stream",
          "name": "stdout",
          "text": [
            "Overwriting pratica.py\n"
          ]
        }
      ]
    },
    {
      "cell_type": "markdown",
      "source": [
        "Teste prévio com base parcial"
      ],
      "metadata": {
        "id": "WF0iV2oVyn8_"
      }
    },
    {
      "cell_type": "code",
      "source": [
        "!rm -rf /content/atividade\n",
        "!python pratica.py /content/base_sample.csv --output-dir=/content/atividade\n",
        "print('\\nTop 10 Entradas da atividade')\n",
        "!cat /content/atividade/* | sort -k2,2rn -t$'\\t' | head -10"
      ],
      "metadata": {
        "id": "B6vjFM_myn8_",
        "colab": {
          "base_uri": "https://localhost:8080/"
        },
        "outputId": "308a601d-125e-4a39-fc6c-b4f50497abf2"
      },
      "execution_count": 59,
      "outputs": [
        {
          "output_type": "stream",
          "name": "stdout",
          "text": [
            "No configs found; falling back on auto-configuration\n",
            "No configs specified for inline runner\n",
            "Running step 1 of 1...\n",
            "Creating temp directory /tmp/pratica.root.20231019.192636.935567\n",
            "job output is in /content/atividade\n",
            "Removing temp directory /tmp/pratica.root.20231019.192636.935567...\n",
            "\n",
            "Top 10 Entradas da atividade\n",
            "\"Animals, live, except farm animals\"\t4413\n",
            "\"Fowls, live domestic < 185 grams\"\t3383\n",
            "\"Horses, live except pure-bred breeding\"\t3331\n",
            "\"Horses, live pure-bred breeding\"\t2971\n",
            "\"Bovine animals, live, except pure-bred breeding\"\t2758\n",
            "\"Poultry, live except domestic fowls, < 185 grams\"\t2494\n",
            "\"Bovine animals, live pure-bred breeding\"\t2490\n",
            "\"Sheep, live\"\t2287\n",
            "\"Goats, live\"\t2002\n",
            "\"Poultry, live except domestic fowls, > 185 grams\"\t1991\n"
          ]
        }
      ]
    },
    {
      "cell_type": "markdown",
      "source": [
        "Teste com base completa"
      ],
      "metadata": {
        "id": "QTri17_Zyn8_"
      }
    },
    {
      "cell_type": "code",
      "source": [
        "!rm -rf /content/atividade\n",
        "!python pratica.py /content/base.csv --output-dir=/content/atividade\n",
        "print('\\nTop 10 Entradas da atividade')\n",
        "!cat /content/atividade/* | sort -k2,2rn -t$'\\t' | head -10"
      ],
      "metadata": {
        "id": "2htfylGCyn8_",
        "colab": {
          "base_uri": "https://localhost:8080/"
        },
        "outputId": "3832c78f-2adb-4705-c038-7126e0bc631a"
      },
      "execution_count": 60,
      "outputs": [
        {
          "output_type": "stream",
          "name": "stdout",
          "text": [
            "No configs found; falling back on auto-configuration\n",
            "No configs specified for inline runner\n",
            "Running step 1 of 1...\n",
            "Creating temp directory /tmp/pratica.root.20231019.192638.166402\n",
            "job output is in /content/atividade\n",
            "Removing temp directory /tmp/pratica.root.20231019.192638.166402...\n",
            "\n",
            "Top 10 Entradas da atividade\n",
            "\"Food preparations nes\"\t8048\n",
            "\"Sugar confectionery not chewing gum, no cocoa content\"\t7764\n",
            "\"Sauces nes, mixed condiments, mixed seasoning\"\t7693\n",
            "\"Cigarettes containing tobacco\"\t7620\n",
            "\"Communion wafers, rice paper, bakers wares nes\"\t7530\n",
            "\"Sweet biscuits, waffles and wafers\"\t7402\n",
            "\"Chocolate/cocoa food preparations nes\"\t7267\n",
            "\"Refined sugar, in solid form, nes, pure sucrose\"\t7258\n",
            "\"Animal feed preparations nes\"\t7242\n",
            "\"Coffee extracts, essences, concentrates, preparations\"\t7043\n"
          ]
        }
      ]
    },
    {
      "cell_type": "code",
      "source": [],
      "metadata": {
        "id": "fkO_RJ3syn8_"
      },
      "execution_count": 13,
      "outputs": []
    },
    {
      "cell_type": "code",
      "source": [],
      "metadata": {
        "id": "bp16PeVuu5Ic"
      },
      "execution_count": 13,
      "outputs": []
    },
    {
      "cell_type": "markdown",
      "source": [
        "### Informação 5\n",
        " - Mercadoria com maior quantidade de transações financeiras em 2016"
      ],
      "metadata": {
        "id": "4utZ6Yq9yrFq"
      }
    },
    {
      "cell_type": "code",
      "source": [
        "%%file pratica.py\n",
        "from mrjob.job import MRJob\n",
        "import sys\n",
        "\n",
        "class WordCount(MRJob):\n",
        "    def mapper(self, _, linha):\n",
        "      try:\n",
        "        campos = linha.split(';')\n",
        "        year = campos[1]\n",
        "        if year == \"2016\":\n",
        "          comm = campos[3]\n",
        "          yield(comm, 1)\n",
        "      except:\n",
        "        pass\n",
        "\n",
        "    def reducer(self, chave, valores):\n",
        "      valor = 0\n",
        "      for v in valores:\n",
        "        valor = valor + v\n",
        "      yield(chave, valor)\n",
        "\n",
        "if __name__ == '__main__':\n",
        "     WordCount.run()"
      ],
      "metadata": {
        "id": "_ErOALrAyrFv",
        "colab": {
          "base_uri": "https://localhost:8080/"
        },
        "outputId": "fb08469b-ce0a-4a4e-c605-76a422dc2226"
      },
      "execution_count": 61,
      "outputs": [
        {
          "output_type": "stream",
          "name": "stdout",
          "text": [
            "Overwriting pratica.py\n"
          ]
        }
      ]
    },
    {
      "cell_type": "markdown",
      "source": [
        "Teste prévio com base parcial"
      ],
      "metadata": {
        "id": "mAnHtbF0yrFv"
      }
    },
    {
      "cell_type": "code",
      "source": [
        "!rm -rf /content/atividade\n",
        "!python pratica.py /content/base_sample.csv --output-dir=/content/atividade\n",
        "print('\\nTop 10 Entradas da atividade')\n",
        "!cat /content/atividade/* | sort -k2,2rn -t$'\\t' | head -10"
      ],
      "metadata": {
        "id": "TypZLtILyrFv",
        "colab": {
          "base_uri": "https://localhost:8080/"
        },
        "outputId": "bde469cc-5331-4565-864e-747ecd22cb55"
      },
      "execution_count": 62,
      "outputs": [
        {
          "output_type": "stream",
          "name": "stdout",
          "text": [
            "No configs found; falling back on auto-configuration\n",
            "No configs specified for inline runner\n",
            "Running step 1 of 1...\n",
            "Creating temp directory /tmp/pratica.root.20231019.192732.537573\n",
            "job output is in /content/atividade\n",
            "Removing temp directory /tmp/pratica.root.20231019.192732.537573...\n",
            "\n",
            "Top 10 Entradas da atividade\n",
            "\"Animals, live, except farm animals\"\t161\n",
            "\"Horses, live except pure-bred breeding\"\t121\n",
            "\"Fowls, live domestic < 185 grams\"\t119\n",
            "\"Horses, live pure-bred breeding\"\t107\n",
            "\"Bovine animals, live, except pure-bred breeding\"\t98\n",
            "\"Bovine animals, live pure-bred breeding\"\t89\n",
            "\"Sheep, live\"\t86\n",
            "\"Swine, live pure-bred breeding\"\t71\n",
            "\"Goats, live\"\t70\n",
            "\"Poultry, live except domestic fowls, > 185 grams\"\t69\n"
          ]
        }
      ]
    },
    {
      "cell_type": "markdown",
      "source": [
        "Teste com base completa"
      ],
      "metadata": {
        "id": "vSmaRLqhyrFv"
      }
    },
    {
      "cell_type": "code",
      "source": [
        "!rm -rf /content/atividade\n",
        "!python pratica.py /content/base.csv --output-dir=/content/atividade\n",
        "print('\\nTop 10 Entradas da atividade')\n",
        "!cat /content/atividade/* | sort -k2,2rn -t$'\\t' | head -10"
      ],
      "metadata": {
        "id": "y9KUZH7UyrFv",
        "colab": {
          "base_uri": "https://localhost:8080/"
        },
        "outputId": "99d4b59b-e21d-4f70-887d-5e79649825d8"
      },
      "execution_count": 63,
      "outputs": [
        {
          "output_type": "stream",
          "name": "stdout",
          "text": [
            "No configs found; falling back on auto-configuration\n",
            "No configs specified for inline runner\n",
            "Running step 1 of 1...\n",
            "Creating temp directory /tmp/pratica.root.20231019.192733.651406\n",
            "job output is in /content/atividade\n",
            "Removing temp directory /tmp/pratica.root.20231019.192733.651406...\n",
            "\n",
            "Top 10 Entradas da atividade\n",
            "\"Food preparations nes\"\t278\n",
            "\"Cigarettes containing tobacco\"\t272\n",
            "\"Communion wafers, rice paper, bakers wares nes\"\t269\n",
            "\"Sauces nes, mixed condiments, mixed seasoning\"\t268\n",
            "\"Sugar confectionery not chewing gum, no cocoa content\"\t267\n",
            "\"Sweet biscuits, waffles and wafers\"\t267\n",
            "\"Chocolate/cocoa food preparations nes\"\t258\n",
            "\"Malt extract & limited cocoa pastrycooks products nes\"\t251\n",
            "\"Animal feed preparations nes\"\t249\n",
            "\"Coffee extracts, essences, concentrates, preparations\"\t249\n"
          ]
        }
      ]
    },
    {
      "cell_type": "code",
      "source": [],
      "metadata": {
        "id": "4YS5c4MCyrFv"
      },
      "execution_count": 16,
      "outputs": []
    },
    {
      "cell_type": "code",
      "source": [],
      "metadata": {
        "id": "Rge_TgkAu5F4"
      },
      "execution_count": 16,
      "outputs": []
    },
    {
      "cell_type": "markdown",
      "source": [
        "### Informação 6\n",
        " - Mercadoria com maior quantidade de transações financeiras em 2016, no Brasil (como a base de dados está em inglês utilize Brazil, com Z);"
      ],
      "metadata": {
        "id": "APUwOzdyyvpe"
      }
    },
    {
      "cell_type": "code",
      "source": [
        "%%file pratica.py\n",
        "from mrjob.job import MRJob\n",
        "import sys\n",
        "\n",
        "class WordCount(MRJob):\n",
        "    def mapper(self, _, linha):\n",
        "      try:\n",
        "        campos = linha.split(';')\n",
        "        country = campos[0]\n",
        "        year = campos[1]\n",
        "        if country == \"Brazil\" and year == \"2016\":\n",
        "          comm = campos[3]\n",
        "          yield(comm, 1)\n",
        "      except:\n",
        "        pass\n",
        "\n",
        "    def reducer(self, chave, valores):\n",
        "      valor = 0\n",
        "      for v in valores:\n",
        "        valor = valor + v\n",
        "      yield(chave, valor)\n",
        "\n",
        "if __name__ == '__main__':\n",
        "     WordCount.run()"
      ],
      "metadata": {
        "id": "SbaG0ezVyvpk",
        "colab": {
          "base_uri": "https://localhost:8080/"
        },
        "outputId": "187f2f19-d569-4613-995f-6c6c05fce469"
      },
      "execution_count": 64,
      "outputs": [
        {
          "output_type": "stream",
          "name": "stdout",
          "text": [
            "Overwriting pratica.py\n"
          ]
        }
      ]
    },
    {
      "cell_type": "markdown",
      "source": [
        "Teste prévio com base parcial"
      ],
      "metadata": {
        "id": "F3Y6CycEyvpk"
      }
    },
    {
      "cell_type": "code",
      "source": [
        "!rm -rf /content/atividade\n",
        "!python pratica.py /content/base_sample.csv --output-dir=/content/atividade\n",
        "print('\\nTop 10 Entradas da atividade')\n",
        "!cat /content/atividade/* | sort -k2,2rn -t$'\\t' | head -10"
      ],
      "metadata": {
        "id": "mbiO7Tugyvpk",
        "colab": {
          "base_uri": "https://localhost:8080/"
        },
        "outputId": "d919cd01-6a24-4695-8d4d-305018577ca4"
      },
      "execution_count": 65,
      "outputs": [
        {
          "output_type": "stream",
          "name": "stdout",
          "text": [
            "No configs found; falling back on auto-configuration\n",
            "No configs specified for inline runner\n",
            "Running step 1 of 1...\n",
            "Creating temp directory /tmp/pratica.root.20231019.192848.662170\n",
            "job output is in /content/atividade\n",
            "Removing temp directory /tmp/pratica.root.20231019.192848.662170...\n",
            "\n",
            "Top 10 Entradas da atividade\n",
            "\"Animals, live, except farm animals\"\t2\n",
            "\"Bovine animals, live, except pure-bred breeding\"\t2\n",
            "\"Bovine animals, live pure-bred breeding\"\t2\n",
            "\"Fowls, live domestic < 185 grams\"\t2\n",
            "\"Horses, live except pure-bred breeding\"\t2\n",
            "\"Horses, live pure-bred breeding\"\t2\n",
            "\"Swine, live pure-bred breeding\"\t2\n",
            "\"Fowls, live domestic > 185 grams\"\t1\n",
            "\"Sheep, live\"\t1\n",
            "\"Swine, live except pure-bred breeding < 50 kg\"\t1\n"
          ]
        }
      ]
    },
    {
      "cell_type": "markdown",
      "source": [
        "Teste com base completa"
      ],
      "metadata": {
        "id": "NqlnhhIayvpk"
      }
    },
    {
      "cell_type": "code",
      "source": [
        "!rm -rf /content/atividade\n",
        "!python pratica.py /content/base.csv --output-dir=/content/atividade\n",
        "print('\\nTop 10 Entradas da atividade')\n",
        "!cat /content/atividade/* | sort -k2,2rn -t$'\\t' | head -10"
      ],
      "metadata": {
        "id": "tbIqSMX2yvpk",
        "colab": {
          "base_uri": "https://localhost:8080/"
        },
        "outputId": "fee8b19b-ba24-479c-e197-339964ba1162"
      },
      "execution_count": 66,
      "outputs": [
        {
          "output_type": "stream",
          "name": "stdout",
          "text": [
            "No configs found; falling back on auto-configuration\n",
            "No configs specified for inline runner\n",
            "Running step 1 of 1...\n",
            "Creating temp directory /tmp/pratica.root.20231019.192849.972856\n",
            "job output is in /content/atividade\n",
            "Removing temp directory /tmp/pratica.root.20231019.192849.972856...\n",
            "\n",
            "Top 10 Entradas da atividade\n",
            "\"Acid and mordant dyes and preparations based thereon\"\t2\n",
            "\"Acrylic or vinyl polymer paint or varnish, non-aqueou\"\t2\n",
            "\"Acrylic & vinyl polymer based paint, varnish, in wate\"\t2\n",
            "\"Adrenal cortical hormones, in dosage\"\t2\n",
            "\"Agar-agar\"\t2\n",
            "\"Agarbatti, odorifers operated by burning\"\t2\n",
            "\"Agglomerated dolomite (including tarred dolomite)\"\t2\n",
            "\"Alcoholic liqueurs nes\"\t2\n",
            "\"Alkali metals other than sodium\"\t2\n",
            "\"Alkaloids, derivs, no antibiotics, hormones, in dosag\"\t2\n"
          ]
        }
      ]
    },
    {
      "cell_type": "code",
      "source": [],
      "metadata": {
        "id": "qlGdNFBzu5Dg"
      },
      "execution_count": 19,
      "outputs": []
    },
    {
      "cell_type": "code",
      "source": [],
      "metadata": {
        "id": "3Y2AxxGvu5A8"
      },
      "execution_count": 19,
      "outputs": []
    },
    {
      "cell_type": "code",
      "source": [],
      "metadata": {
        "id": "wNBGMv9fu4-f"
      },
      "execution_count": 19,
      "outputs": []
    },
    {
      "cell_type": "markdown",
      "source": [
        "### Informação 7\n",
        " - Mercadoria com maior total de peso, de acordo com todas transações comerciais;"
      ],
      "metadata": {
        "id": "RvBTwoeJyz-3"
      }
    },
    {
      "cell_type": "code",
      "source": [
        "%%file pratica.py\n",
        "from mrjob.job import MRJob\n",
        "import sys\n",
        "\n",
        "class WordCount(MRJob):\n",
        "    def mapper(self, _, linha):\n",
        "      try:\n",
        "        campos = linha.split(';')\n",
        "        comm = campos[3]\n",
        "        weight = float(campos[6])\n",
        "        yield(comm, weight)\n",
        "      except:\n",
        "        pass\n",
        "\n",
        "    def reducer(self, chave, valores):\n",
        "      valor = 0\n",
        "      for v in valores:\n",
        "        valor = valor + v\n",
        "      yield(chave, valor)\n",
        "\n",
        "if __name__ == '__main__':\n",
        "     WordCount.run()"
      ],
      "metadata": {
        "id": "WczDWkUlyz-4",
        "colab": {
          "base_uri": "https://localhost:8080/"
        },
        "outputId": "871e9296-fe03-4794-9b8e-83a8fc67bf3e"
      },
      "execution_count": 74,
      "outputs": [
        {
          "output_type": "stream",
          "name": "stdout",
          "text": [
            "Overwriting pratica.py\n"
          ]
        }
      ]
    },
    {
      "cell_type": "markdown",
      "source": [
        "Teste prévio com base parcial"
      ],
      "metadata": {
        "id": "uTADJ3X1yz-4"
      }
    },
    {
      "cell_type": "code",
      "source": [
        "!rm -rf /content/atividade\n",
        "!python pratica.py /content/base_sample.csv --output-dir=/content/atividade\n",
        "print('\\nTop 10 Entradas da atividade')\n",
        "!cat /content/atividade/* | sort -k2,2rn -t$'\\t' | head -10"
      ],
      "metadata": {
        "id": "KsmAF-rfyz-4",
        "colab": {
          "base_uri": "https://localhost:8080/"
        },
        "outputId": "cd614ebe-987c-4613-915e-21ccde32f921"
      },
      "execution_count": 75,
      "outputs": [
        {
          "output_type": "stream",
          "name": "stdout",
          "text": [
            "No configs found; falling back on auto-configuration\n",
            "No configs specified for inline runner\n",
            "Running step 1 of 1...\n",
            "Creating temp directory /tmp/pratica.root.20231019.194623.273386\n",
            "job output is in /content/atividade\n",
            "Removing temp directory /tmp/pratica.root.20231019.194623.273386...\n",
            "\n",
            "Top 10 Entradas da atividade\n",
            "\"Bovine animals, live, except pure-bred breeding\"\t72350442141.0\n",
            "\"Swine, live except pure-bred breeding > 50 kg\"\t38798669146.0\n",
            "\"Fowls, live domestic > 185 grams\"\t18665789461.0\n",
            "\"Sheep, live\"\t13771569405.0\n",
            "\"Swine, live except pure-bred breeding < 50 kg\"\t12228873816.0\n",
            "\"Bovine animals, live pure-bred breeding\"\t7733896254.0\n",
            "\"Poultry, live except domestic fowls, > 185 grams\"\t4546972430.0\n",
            "\"Horses, live except pure-bred breeding\"\t2396204313.0\n",
            "\"Animals, live, except farm animals\"\t1469485365.0\n",
            "\"Fowls, live domestic < 185 grams\"\t1404224958.0\n"
          ]
        }
      ]
    },
    {
      "cell_type": "markdown",
      "source": [
        "Teste com base completa"
      ],
      "metadata": {
        "id": "HL-Wyb31yz-4"
      }
    },
    {
      "cell_type": "code",
      "source": [
        "!rm -rf /content/atividade\n",
        "!python pratica.py /content/base.csv --output-dir=/content/atividade\n",
        "print('\\nTop 10 Entradas da atividade')\n",
        "!cat /content/atividade/* | sort -k2,2rn -t$'\\t' | head -10"
      ],
      "metadata": {
        "id": "JnVrO-8jyz-4",
        "colab": {
          "base_uri": "https://localhost:8080/"
        },
        "outputId": "578b9f9f-bac2-4369-8c22-bdfe1fae5921"
      },
      "execution_count": 76,
      "outputs": [
        {
          "output_type": "stream",
          "name": "stdout",
          "text": [
            "No configs found; falling back on auto-configuration\n",
            "No configs specified for inline runner\n",
            "Running step 1 of 1...\n",
            "Creating temp directory /tmp/pratica.root.20231019.194721.635943\n",
            "job output is in /content/atividade\n",
            "Removing temp directory /tmp/pratica.root.20231019.194721.635943...\n",
            "\n",
            "Top 10 Entradas da atividade\n",
            "\"Petroleum oils, oils from bituminous minerals, crude\"\t46002412921988.0\n",
            "\"Iron ore, concentrate, not iron pyrites,unagglomerate\"\t34878419167261.0\n",
            "\"Ice, snow and potable water not sweetened or flavoure\"\t25759966772196.0\n",
            "\"Bituminous coal, not agglomerated\"\t21959118134095.0\n",
            "\"Oils petroleum, bituminous, distillates, except crude\"\t19216117424056.0\n",
            "\"Natural gas in gaseous state\"\t10696575625293.0\n",
            "\"Iron ore, concentrate, not iron pyrites, agglomerated\"\t7116880502870.0\n",
            "\"Coal except anthracite or bituminous, not agglomerate\"\t6161036788891.0\n",
            "\"Wheat except durum wheat, and meslin\"\t5452684784869.0\n",
            "\"Natural gas, liquefied\"\t5297769728104.0\n"
          ]
        }
      ]
    },
    {
      "cell_type": "code",
      "source": [],
      "metadata": {
        "id": "ImGJNqpEu48B"
      },
      "execution_count": 22,
      "outputs": []
    },
    {
      "cell_type": "code",
      "source": [],
      "metadata": {
        "id": "u2so-zAMu45j"
      },
      "execution_count": 22,
      "outputs": []
    },
    {
      "cell_type": "code",
      "source": [],
      "metadata": {
        "id": "WwUdKFhmu43O"
      },
      "execution_count": 22,
      "outputs": []
    },
    {
      "cell_type": "markdown",
      "source": [
        "### Informação 8\n",
        " - Mercadoria com maior total de peso, de acordo com todas transações comerciais, separadas de acordo com o ano;"
      ],
      "metadata": {
        "id": "SobP-0thy4ju"
      }
    },
    {
      "cell_type": "code",
      "source": [
        "%%file pratica.py\n",
        "from mrjob.job import MRJob\n",
        "import sys\n",
        "\n",
        "class WordCount(MRJob):\n",
        "    def mapper(self, _, linha):\n",
        "      try:\n",
        "        campos = linha.split(';')\n",
        "        year = campos[1]\n",
        "        comm = campos[3]\n",
        "        weight = float(campos[6])\n",
        "        yield(comm + \" \" + year, weight)\n",
        "      except:\n",
        "        pass\n",
        "\n",
        "    def reducer(self, chave, valores):\n",
        "      valor = 0\n",
        "      for v in valores:\n",
        "        valor = valor + v\n",
        "      yield(chave, valor)\n",
        "\n",
        "if __name__ == '__main__':\n",
        "     WordCount.run()"
      ],
      "metadata": {
        "id": "05zNdsbHy4jz",
        "colab": {
          "base_uri": "https://localhost:8080/"
        },
        "outputId": "66281d62-9949-4a58-f3c7-833c400b7549"
      },
      "execution_count": 80,
      "outputs": [
        {
          "output_type": "stream",
          "name": "stdout",
          "text": [
            "Overwriting pratica.py\n"
          ]
        }
      ]
    },
    {
      "cell_type": "markdown",
      "source": [
        "Teste prévio com base parcial"
      ],
      "metadata": {
        "id": "tmMJjUvgy4jz"
      }
    },
    {
      "cell_type": "code",
      "source": [
        "!rm -rf /content/atividade\n",
        "!python pratica.py /content/base_sample.csv --output-dir=/content/atividade\n",
        "print('\\nTop 10 Entradas da atividade')\n",
        "!cat /content/atividade/* | sort -k2,2rn -t$'\\t' | head -10"
      ],
      "metadata": {
        "id": "KbnBoKTRy4jz",
        "colab": {
          "base_uri": "https://localhost:8080/"
        },
        "outputId": "aa4ee970-db64-435e-eb2d-0ae825edfeb0"
      },
      "execution_count": 81,
      "outputs": [
        {
          "output_type": "stream",
          "name": "stdout",
          "text": [
            "No configs found; falling back on auto-configuration\n",
            "No configs specified for inline runner\n",
            "Running step 1 of 1...\n",
            "Creating temp directory /tmp/pratica.root.20231019.201827.525244\n",
            "job output is in /content/atividade\n",
            "Removing temp directory /tmp/pratica.root.20231019.201827.525244...\n",
            "\n",
            "Top 10 Entradas da atividade\n",
            "\"Bovine animals, live, except pure-bred breeding 2011\"\t3790561468.0\n",
            "\"Bovine animals, live, except pure-bred breeding 2010\"\t3725385865.0\n",
            "\"Bovine animals, live, except pure-bred breeding 2009\"\t3667337654.0\n",
            "\"Bovine animals, live, except pure-bred breeding 2007\"\t3582928269.0\n",
            "\"Bovine animals, live, except pure-bred breeding 2012\"\t3532005526.0\n",
            "\"Bovine animals, live, except pure-bred breeding 2006\"\t3474206442.0\n",
            "\"Bovine animals, live, except pure-bred breeding 2008\"\t3438256284.0\n",
            "\"Bovine animals, live, except pure-bred breeding 2013\"\t3438146811.0\n",
            "\"Bovine animals, live, except pure-bred breeding 2015\"\t3430878298.0\n",
            "\"Bovine animals, live, except pure-bred breeding 2005\"\t3358493111.0\n"
          ]
        }
      ]
    },
    {
      "cell_type": "markdown",
      "source": [
        "Teste com base completa"
      ],
      "metadata": {
        "id": "7EGKWFCLy4jz"
      }
    },
    {
      "cell_type": "code",
      "source": [
        "!rm -rf /content/atividade\n",
        "!python pratica.py /content/base.csv --output-dir=/content/atividade\n",
        "print('\\nTop 10 Entradas da atividade')\n",
        "!cat /content/atividade/* | sort -k2,2rn -t$'\\t' | head -10"
      ],
      "metadata": {
        "id": "9ejLxdx3y4jz",
        "colab": {
          "base_uri": "https://localhost:8080/"
        },
        "outputId": "1c61e191-2e23-4426-f296-6b7c69146756"
      },
      "execution_count": 82,
      "outputs": [
        {
          "output_type": "stream",
          "name": "stdout",
          "text": [
            "No configs found; falling back on auto-configuration\n",
            "No configs specified for inline runner\n",
            "Running step 1 of 1...\n",
            "Creating temp directory /tmp/pratica.root.20231019.201829.194176\n",
            "job output is in /content/atividade\n",
            "Removing temp directory /tmp/pratica.root.20231019.201829.194176...\n",
            "\n",
            "Top 10 Entradas da atividade\n",
            "\"Iron ore, concentrate, not iron pyrites,unagglomerate 2016\"\t2706312145364.0\n",
            "\"Iron ore, concentrate, not iron pyrites,unagglomerate 2015\"\t2649415129890.0\n",
            "\"Petroleum oils, oils from bituminous minerals, crude 2010\"\t2613316703587.0\n",
            "\"Iron ore, concentrate, not iron pyrites,unagglomerate 2014\"\t2555725226600.0\n",
            "\"Petroleum oils, oils from bituminous minerals, crude 2011\"\t2547369237511.0\n",
            "\"Petroleum oils, oils from bituminous minerals, crude 2014\"\t2389423152614.0\n",
            "\"Petroleum oils, oils from bituminous minerals, crude 2015\"\t2334398373730.0\n",
            "\"Petroleum oils, oils from bituminous minerals, crude 2012\"\t2319929864134.0\n",
            "\"Iron ore, concentrate, not iron pyrites,unagglomerate 2013\"\t2300741188739.0\n",
            "\"Petroleum oils, oils from bituminous minerals, crude 2013\"\t2267344699510.0\n"
          ]
        }
      ]
    },
    {
      "cell_type": "code",
      "source": [],
      "metadata": {
        "id": "ImpdBWW2u40o"
      },
      "execution_count": 25,
      "outputs": []
    },
    {
      "cell_type": "code",
      "source": [],
      "metadata": {
        "id": "1sKqEUjZu4yL"
      },
      "execution_count": 25,
      "outputs": []
    },
    {
      "cell_type": "markdown",
      "source": [
        "### Informação 9\n",
        " - Média de peso por mercadoria, separadas de acordo com o ano;"
      ],
      "metadata": {
        "id": "ZUWxo-TLy_8l"
      }
    },
    {
      "cell_type": "code",
      "source": [
        "%%file pratica.py\n",
        "from mrjob.job import MRJob\n",
        "import sys\n",
        "\n",
        "class WordCount(MRJob):\n",
        "    def mapper(self, _, linha):\n",
        "      try:\n",
        "        campos = linha.split(';')\n",
        "        year = campos[1]\n",
        "        comm = campos[3]\n",
        "        weight = float(campos[6])\n",
        "        yield(comm + \" \" + year, weight)\n",
        "      except:\n",
        "        pass\n",
        "\n",
        "    def reducer(self, chave, valores):\n",
        "      valor = 0\n",
        "      for v in valores:\n",
        "        valor = valor + v\n",
        "      avg = valor / len(list(valores))\n",
        "      yield(chave, avg)\n",
        "\n",
        "if __name__ == '__main__':\n",
        "     WordCount.run()"
      ],
      "metadata": {
        "id": "wUGiqVIZy_8q",
        "colab": {
          "base_uri": "https://localhost:8080/"
        },
        "outputId": "6b5d38a3-9eaf-48e1-f4a3-93e7bf6088cf"
      },
      "execution_count": 89,
      "outputs": [
        {
          "output_type": "stream",
          "name": "stdout",
          "text": [
            "Overwriting pratica.py\n"
          ]
        }
      ]
    },
    {
      "cell_type": "markdown",
      "source": [
        "Teste prévio com base parcial"
      ],
      "metadata": {
        "id": "bGRepZuCy_8q"
      }
    },
    {
      "cell_type": "code",
      "source": [
        "!rm -rf /content/atividade\n",
        "!python pratica.py /content/base_sample.csv --output-dir=/content/atividade\n",
        "print('\\nTop 10 Entradas da atividade')\n",
        "!cat /content/atividade/* | sort -k2,2rn -t$'\\t' | head -10"
      ],
      "metadata": {
        "id": "crWXiZyfy_8q",
        "colab": {
          "base_uri": "https://localhost:8080/"
        },
        "outputId": "467fee23-cdfb-4c29-f05a-cda3b04e4cb5"
      },
      "execution_count": 90,
      "outputs": [
        {
          "output_type": "stream",
          "name": "stdout",
          "text": [
            "No configs found; falling back on auto-configuration\n",
            "No configs specified for inline runner\n",
            "Running step 1 of 1...\n",
            "Creating temp directory /tmp/pratica.root.20231019.204144.831936\n",
            "\n",
            "Error while reading from /tmp/pratica.root.20231019.204144.831936/step/000/reducer/00000/input:\n",
            "\n",
            "Traceback (most recent call last):\n",
            "  File \"/content/pratica.py\", line 23, in <module>\n",
            "    WordCount.run()\n",
            "  File \"/usr/local/lib/python3.10/dist-packages/mrjob/job.py\", line 616, in run\n",
            "    cls().execute()\n",
            "  File \"/usr/local/lib/python3.10/dist-packages/mrjob/job.py\", line 687, in execute\n",
            "    self.run_job()\n",
            "  File \"/usr/local/lib/python3.10/dist-packages/mrjob/job.py\", line 636, in run_job\n",
            "    runner.run()\n",
            "  File \"/usr/local/lib/python3.10/dist-packages/mrjob/runner.py\", line 503, in run\n",
            "    self._run()\n",
            "  File \"/usr/local/lib/python3.10/dist-packages/mrjob/sim.py\", line 161, in _run\n",
            "    self._run_step(step, step_num)\n",
            "  File \"/usr/local/lib/python3.10/dist-packages/mrjob/sim.py\", line 170, in _run_step\n",
            "    self._run_streaming_step(step, step_num)\n",
            "  File \"/usr/local/lib/python3.10/dist-packages/mrjob/sim.py\", line 187, in _run_streaming_step\n",
            "    self._run_reducers(step_num, num_reducer_tasks)\n",
            "  File \"/usr/local/lib/python3.10/dist-packages/mrjob/sim.py\", line 289, in _run_reducers\n",
            "    self._run_multiple(\n",
            "  File \"/usr/local/lib/python3.10/dist-packages/mrjob/sim.py\", line 130, in _run_multiple\n",
            "    func()\n",
            "  File \"/usr/local/lib/python3.10/dist-packages/mrjob/sim.py\", line 746, in _run_task\n",
            "    invoke_task(\n",
            "  File \"/usr/local/lib/python3.10/dist-packages/mrjob/inline.py\", line 133, in invoke_task\n",
            "    task.execute()\n",
            "  File \"/usr/local/lib/python3.10/dist-packages/mrjob/job.py\", line 681, in execute\n",
            "    self.run_reducer(self.options.step_num)\n",
            "  File \"/usr/local/lib/python3.10/dist-packages/mrjob/job.py\", line 795, in run_reducer\n",
            "    for k, v in self.reduce_pairs(read_lines(), step_num=step_num):\n",
            "  File \"/usr/local/lib/python3.10/dist-packages/mrjob/job.py\", line 866, in reduce_pairs\n",
            "    for k, v in self._combine_or_reduce_pairs(pairs, 'reducer', step_num):\n",
            "  File \"/usr/local/lib/python3.10/dist-packages/mrjob/job.py\", line 889, in _combine_or_reduce_pairs\n",
            "    for k, v in task(key, values) or ():\n",
            "  File \"/content/pratica.py\", line 19, in reducer\n",
            "    avg = valor / len(list(valores))\n",
            "ZeroDivisionError: float division by zero\n",
            "\n",
            "Top 10 Entradas da atividade\n"
          ]
        }
      ]
    },
    {
      "cell_type": "markdown",
      "source": [
        "Teste com base completa"
      ],
      "metadata": {
        "id": "SZtzQlWCy_8q"
      }
    },
    {
      "cell_type": "code",
      "source": [
        "!rm -rf /content/atividade\n",
        "!python pratica.py /content/base.csv --output-dir=/content/atividade\n",
        "print('\\nTop 10 Entradas da atividade')\n",
        "!cat /content/atividade/* | sort -k2,2rn -t$'\\t' | head -10"
      ],
      "metadata": {
        "id": "aGJtrY9Ky_8q",
        "colab": {
          "base_uri": "https://localhost:8080/"
        },
        "outputId": "aa6f2dd5-1678-4bb2-a9c0-df5b7d493412"
      },
      "execution_count": 28,
      "outputs": [
        {
          "output_type": "stream",
          "name": "stdout",
          "text": [
            "No configs found; falling back on auto-configuration\n",
            "No configs specified for inline runner\n",
            "Running step 1 of 1...\n",
            "Creating temp directory /tmp/pratica.root.20231019.184324.381466\n",
            "job output is in /content/atividade\n",
            "Removing temp directory /tmp/pratica.root.20231019.184324.381466...\n",
            "\n",
            "Top 10 Entradas da atividade\n",
            "\"nada\"\t1\n"
          ]
        }
      ]
    },
    {
      "cell_type": "code",
      "source": [],
      "metadata": {
        "id": "i2sb5M-Hu4vv"
      },
      "execution_count": 28,
      "outputs": []
    },
    {
      "cell_type": "code",
      "source": [],
      "metadata": {
        "id": "snNWyrcwu4tI"
      },
      "execution_count": 28,
      "outputs": []
    },
    {
      "cell_type": "code",
      "source": [],
      "metadata": {
        "id": "YX0xtSmYu4qj"
      },
      "execution_count": 28,
      "outputs": []
    },
    {
      "cell_type": "markdown",
      "source": [
        "### Informação 10\n",
        " - Média de peso por mercadoria comercializadas no Brasil (como a base de dados está em inglês utilize Brazil, com Z), separadas de acordo com o ano;"
      ],
      "metadata": {
        "id": "stoST7dWzDlr"
      }
    },
    {
      "cell_type": "code",
      "source": [
        "%%file pratica.py\n",
        "from mrjob.job import MRJob\n",
        "import sys\n",
        "\n",
        "class WordCount(MRJob):\n",
        "    def mapper(self, _, linha):\n",
        "      yield('nada', 1)\n",
        "\n",
        "    def reducer(self, chave, valores):\n",
        "      yield('nada', 1)\n",
        "\n",
        "if __name__ == '__main__':\n",
        "     WordCount.run()"
      ],
      "metadata": {
        "id": "LqEgvFWfzDlw",
        "colab": {
          "base_uri": "https://localhost:8080/"
        },
        "outputId": "32f4390d-c28d-4c99-f2ab-619ccba3a957"
      },
      "execution_count": 29,
      "outputs": [
        {
          "output_type": "stream",
          "name": "stdout",
          "text": [
            "Overwriting pratica.py\n"
          ]
        }
      ]
    },
    {
      "cell_type": "markdown",
      "source": [
        "Teste prévio com base parcial"
      ],
      "metadata": {
        "id": "jn2yrbtYzDlw"
      }
    },
    {
      "cell_type": "code",
      "source": [
        "!rm -rf /content/atividade\n",
        "!python pratica.py /content/base_sample.csv --output-dir=/content/atividade\n",
        "print('\\nTop 10 Entradas da atividade')\n",
        "!cat /content/atividade/* | sort -k2,2rn -t$'\\t' | head -10"
      ],
      "metadata": {
        "id": "RCBvxdoizDlw",
        "colab": {
          "base_uri": "https://localhost:8080/"
        },
        "outputId": "457f3302-9f87-424a-ab26-02b8bd015291"
      },
      "execution_count": 30,
      "outputs": [
        {
          "output_type": "stream",
          "name": "stdout",
          "text": [
            "No configs found; falling back on auto-configuration\n",
            "No configs specified for inline runner\n",
            "Running step 1 of 1...\n",
            "Creating temp directory /tmp/pratica.root.20231019.184359.963361\n",
            "job output is in /content/atividade\n",
            "Removing temp directory /tmp/pratica.root.20231019.184359.963361...\n",
            "\n",
            "Top 10 Entradas da atividade\n",
            "\"nada\"\t1\n"
          ]
        }
      ]
    },
    {
      "cell_type": "markdown",
      "source": [
        "Teste com base completa"
      ],
      "metadata": {
        "id": "pqkdrGRHzDlw"
      }
    },
    {
      "cell_type": "code",
      "source": [
        "!rm -rf /content/atividade\n",
        "!python pratica.py /content/base.csv --output-dir=/content/atividade\n",
        "print('\\nTop 10 Entradas da atividade')\n",
        "!cat /content/atividade/* | sort -k2,2rn -t$'\\t' | head -10"
      ],
      "metadata": {
        "id": "kenl676YzDlw",
        "colab": {
          "base_uri": "https://localhost:8080/"
        },
        "outputId": "6476c3c5-b467-4f0a-c5f3-3bad572a85be"
      },
      "execution_count": 31,
      "outputs": [
        {
          "output_type": "stream",
          "name": "stdout",
          "text": [
            "No configs found; falling back on auto-configuration\n",
            "No configs specified for inline runner\n",
            "Running step 1 of 1...\n",
            "Creating temp directory /tmp/pratica.root.20231019.184400.889685\n",
            "job output is in /content/atividade\n",
            "Removing temp directory /tmp/pratica.root.20231019.184400.889685...\n",
            "\n",
            "Top 10 Entradas da atividade\n",
            "\"nada\"\t1\n"
          ]
        }
      ]
    },
    {
      "cell_type": "code",
      "source": [],
      "metadata": {
        "id": "zR6d-2dEu4oN"
      },
      "execution_count": 31,
      "outputs": []
    },
    {
      "cell_type": "code",
      "source": [],
      "metadata": {
        "id": "STqmBgGAzIOS"
      },
      "execution_count": 31,
      "outputs": []
    },
    {
      "cell_type": "code",
      "source": [],
      "metadata": {
        "id": "j78H_MabzIMJ"
      },
      "execution_count": 31,
      "outputs": []
    },
    {
      "cell_type": "markdown",
      "source": [
        "### Informação 11\n",
        " - Média de peso por mercadoria comercializadas no Brasil (como a base de dados está em inglês utilize Brazil, com Z), em relação ao fluxo, separadas de acordo com o ano;"
      ],
      "metadata": {
        "id": "oLFGzyoDzIcI"
      }
    },
    {
      "cell_type": "code",
      "source": [
        "%%file pratica.py\n",
        "from mrjob.job import MRJob\n",
        "import sys\n",
        "\n",
        "class WordCount(MRJob):\n",
        "    def mapper(self, _, linha):\n",
        "      yield('nada', 1)\n",
        "\n",
        "    def reducer(self, chave, valores):\n",
        "      yield('nada', 1)\n",
        "\n",
        "if __name__ == '__main__':\n",
        "     WordCount.run()"
      ],
      "metadata": {
        "id": "GNxK82UzzIcI",
        "colab": {
          "base_uri": "https://localhost:8080/"
        },
        "outputId": "34043227-6686-4abb-9e0b-3562bfd3ccba"
      },
      "execution_count": 32,
      "outputs": [
        {
          "output_type": "stream",
          "name": "stdout",
          "text": [
            "Overwriting pratica.py\n"
          ]
        }
      ]
    },
    {
      "cell_type": "markdown",
      "source": [
        "Teste prévio com base parcial"
      ],
      "metadata": {
        "id": "JS_IRVTpzIcI"
      }
    },
    {
      "cell_type": "code",
      "source": [
        "!rm -rf /content/atividade\n",
        "!python pratica.py /content/base_sample.csv --output-dir=/content/atividade\n",
        "print('\\nTop 10 Entradas da atividade')\n",
        "!cat /content/atividade/* | sort -k2,2rn -t$'\\t' | head -10"
      ],
      "metadata": {
        "id": "haWm3EZFzIcI",
        "colab": {
          "base_uri": "https://localhost:8080/"
        },
        "outputId": "6ac45ce4-2e9d-4b47-c99b-ac131ea3de73"
      },
      "execution_count": 33,
      "outputs": [
        {
          "output_type": "stream",
          "name": "stdout",
          "text": [
            "No configs found; falling back on auto-configuration\n",
            "No configs specified for inline runner\n",
            "Running step 1 of 1...\n",
            "Creating temp directory /tmp/pratica.root.20231019.184435.147380\n",
            "job output is in /content/atividade\n",
            "Removing temp directory /tmp/pratica.root.20231019.184435.147380...\n",
            "\n",
            "Top 10 Entradas da atividade\n",
            "\"nada\"\t1\n"
          ]
        }
      ]
    },
    {
      "cell_type": "markdown",
      "source": [
        "Teste com base completa"
      ],
      "metadata": {
        "id": "35fJu3DdzIcI"
      }
    },
    {
      "cell_type": "code",
      "source": [
        "!rm -rf /content/atividade\n",
        "!python pratica.py /content/base.csv --output-dir=/content/atividade\n",
        "print('\\nTop 10 Entradas da atividade')\n",
        "!cat /content/atividade/* | sort -k2,2rn -t$'\\t' | head -10"
      ],
      "metadata": {
        "id": "LOyWL0yyzIcI",
        "colab": {
          "base_uri": "https://localhost:8080/"
        },
        "outputId": "51401d9a-5733-4204-d5b9-47334cdb7e1b"
      },
      "execution_count": 34,
      "outputs": [
        {
          "output_type": "stream",
          "name": "stdout",
          "text": [
            "No configs found; falling back on auto-configuration\n",
            "No configs specified for inline runner\n",
            "Running step 1 of 1...\n",
            "Creating temp directory /tmp/pratica.root.20231019.184436.569785\n",
            "job output is in /content/atividade\n",
            "Removing temp directory /tmp/pratica.root.20231019.184436.569785...\n",
            "\n",
            "Top 10 Entradas da atividade\n",
            "\"nada\"\t1\n"
          ]
        }
      ]
    },
    {
      "cell_type": "code",
      "source": [],
      "metadata": {
        "id": "XutxGVXlzIcI"
      },
      "execution_count": 34,
      "outputs": []
    },
    {
      "cell_type": "code",
      "source": [],
      "metadata": {
        "id": "rDfo25EpzIJ1"
      },
      "execution_count": 34,
      "outputs": []
    },
    {
      "cell_type": "code",
      "source": [],
      "metadata": {
        "id": "bEVXPMh0zIHs"
      },
      "execution_count": 34,
      "outputs": []
    },
    {
      "cell_type": "markdown",
      "source": [
        "### Informação 12\n",
        " - Preco medio das commodities de acordo com o ano"
      ],
      "metadata": {
        "id": "z5hsFMl2zM1X"
      }
    },
    {
      "cell_type": "code",
      "source": [
        "%%file pratica.py\n",
        "from mrjob.job import MRJob\n",
        "import sys\n",
        "\n",
        "class WordCount(MRJob):\n",
        "    def mapper(self, _, linha):\n",
        "      yield('nada', 1)\n",
        "\n",
        "    def reducer(self, chave, valores):\n",
        "      yield('nada', 1)\n",
        "\n",
        "if __name__ == '__main__':\n",
        "     WordCount.run()"
      ],
      "metadata": {
        "id": "Jlv_DLqjzM1X",
        "colab": {
          "base_uri": "https://localhost:8080/"
        },
        "outputId": "845bbc9b-e1c6-4755-a34d-14f22d83132c"
      },
      "execution_count": 35,
      "outputs": [
        {
          "output_type": "stream",
          "name": "stdout",
          "text": [
            "Overwriting pratica.py\n"
          ]
        }
      ]
    },
    {
      "cell_type": "markdown",
      "source": [
        "Teste prévio com base parcial"
      ],
      "metadata": {
        "id": "-kvka7zWzM1Y"
      }
    },
    {
      "cell_type": "code",
      "source": [
        "!rm -rf /content/atividade\n",
        "!python pratica.py /content/base_sample.csv --output-dir=/content/atividade\n",
        "print('\\nTop 10 Entradas da atividade')\n",
        "!cat /content/atividade/* | sort -k2,2rn -t$'\\t' | head -10"
      ],
      "metadata": {
        "id": "h-pRDHbszM1Y",
        "colab": {
          "base_uri": "https://localhost:8080/"
        },
        "outputId": "4eb887c5-264e-4bb4-9185-9996132698af"
      },
      "execution_count": 36,
      "outputs": [
        {
          "output_type": "stream",
          "name": "stdout",
          "text": [
            "No configs found; falling back on auto-configuration\n",
            "No configs specified for inline runner\n",
            "Running step 1 of 1...\n",
            "Creating temp directory /tmp/pratica.root.20231019.184511.493436\n",
            "job output is in /content/atividade\n",
            "Removing temp directory /tmp/pratica.root.20231019.184511.493436...\n",
            "\n",
            "Top 10 Entradas da atividade\n",
            "\"nada\"\t1\n"
          ]
        }
      ]
    },
    {
      "cell_type": "markdown",
      "source": [
        "Teste com base completa"
      ],
      "metadata": {
        "id": "02Y9y0vvzM1Y"
      }
    },
    {
      "cell_type": "code",
      "source": [
        "!rm -rf /content/atividade\n",
        "!python pratica.py /content/base.csv --output-dir=/content/atividade\n",
        "print('\\nTop 10 Entradas da atividade')\n",
        "!cat /content/atividade/* | sort -k2,2rn -t$'\\t' | head -10"
      ],
      "metadata": {
        "id": "X2vSkc4TzM1Y",
        "colab": {
          "base_uri": "https://localhost:8080/"
        },
        "outputId": "d242d2e5-98e2-4e6a-f39e-9ba18d960e2f"
      },
      "execution_count": 37,
      "outputs": [
        {
          "output_type": "stream",
          "name": "stdout",
          "text": [
            "No configs found; falling back on auto-configuration\n",
            "No configs specified for inline runner\n",
            "Running step 1 of 1...\n",
            "Creating temp directory /tmp/pratica.root.20231019.184512.422626\n",
            "job output is in /content/atividade\n",
            "Removing temp directory /tmp/pratica.root.20231019.184512.422626...\n",
            "\n",
            "Top 10 Entradas da atividade\n",
            "\"nada\"\t1\n"
          ]
        }
      ]
    },
    {
      "cell_type": "code",
      "source": [],
      "metadata": {
        "id": "0A6Yp5pHzIFe"
      },
      "execution_count": 37,
      "outputs": []
    },
    {
      "cell_type": "code",
      "source": [],
      "metadata": {
        "id": "Atyt8hhmzIC4"
      },
      "execution_count": 37,
      "outputs": []
    },
    {
      "cell_type": "markdown",
      "source": [
        "### Informação 13\n",
        " - Valores maximos, minimos e médios de cada tipo de mercadoria por ano"
      ],
      "metadata": {
        "id": "RZmUJsEJzf81"
      }
    },
    {
      "cell_type": "code",
      "source": [
        "%%file pratica.py\n",
        "from mrjob.job import MRJob\n",
        "import sys\n",
        "\n",
        "class WordCount(MRJob):\n",
        "    def mapper(self, _, linha):\n",
        "      yield('nada', 1)\n",
        "\n",
        "    def reducer(self, chave, valores):\n",
        "      yield('nada', 1)\n",
        "\n",
        "if __name__ == '__main__':\n",
        "     WordCount.run()"
      ],
      "metadata": {
        "id": "k3EuPt4zzf81",
        "colab": {
          "base_uri": "https://localhost:8080/"
        },
        "outputId": "91e07114-eb92-46b7-ba15-89037fe29068"
      },
      "execution_count": 38,
      "outputs": [
        {
          "output_type": "stream",
          "name": "stdout",
          "text": [
            "Overwriting pratica.py\n"
          ]
        }
      ]
    },
    {
      "cell_type": "markdown",
      "source": [
        "Teste prévio com base parcial"
      ],
      "metadata": {
        "id": "Oy2uz-a3zf82"
      }
    },
    {
      "cell_type": "code",
      "source": [
        "!rm -rf /content/atividade\n",
        "!python pratica.py /content/base_sample.csv --output-dir=/content/atividade\n",
        "print('\\nTop 10 Entradas da atividade')\n",
        "!cat /content/atividade/* | sort -k2,2rn -t$'\\t' | head -10"
      ],
      "metadata": {
        "id": "mtIpVd5Vzf82",
        "colab": {
          "base_uri": "https://localhost:8080/"
        },
        "outputId": "d5f94447-514b-4c9a-90da-d13d85e477ff"
      },
      "execution_count": 39,
      "outputs": [
        {
          "output_type": "stream",
          "name": "stdout",
          "text": [
            "No configs found; falling back on auto-configuration\n",
            "No configs specified for inline runner\n",
            "Running step 1 of 1...\n",
            "Creating temp directory /tmp/pratica.root.20231019.184547.817202\n",
            "job output is in /content/atividade\n",
            "Removing temp directory /tmp/pratica.root.20231019.184547.817202...\n",
            "\n",
            "Top 10 Entradas da atividade\n",
            "\"nada\"\t1\n"
          ]
        }
      ]
    },
    {
      "cell_type": "markdown",
      "source": [
        "Teste com base completa"
      ],
      "metadata": {
        "id": "J77Z57X2zf82"
      }
    },
    {
      "cell_type": "code",
      "source": [
        "!rm -rf /content/atividade\n",
        "!python pratica.py /content/base.csv --output-dir=/content/atividade\n",
        "print('\\nTop 10 Entradas da atividade')\n",
        "!cat /content/atividade/* | sort -k2,2rn -t$'\\t' | head -10"
      ],
      "metadata": {
        "id": "zKs2-K-zzf82",
        "colab": {
          "base_uri": "https://localhost:8080/"
        },
        "outputId": "5fad0a59-af06-40ed-ba4b-bb58681d8c5f"
      },
      "execution_count": 40,
      "outputs": [
        {
          "output_type": "stream",
          "name": "stdout",
          "text": [
            "No configs found; falling back on auto-configuration\n",
            "No configs specified for inline runner\n",
            "Running step 1 of 1...\n",
            "Creating temp directory /tmp/pratica.root.20231019.184548.744269\n",
            "job output is in /content/atividade\n",
            "Removing temp directory /tmp/pratica.root.20231019.184548.744269...\n",
            "\n",
            "Top 10 Entradas da atividade\n",
            "\"nada\"\t1\n"
          ]
        }
      ]
    },
    {
      "cell_type": "code",
      "source": [],
      "metadata": {
        "id": "t9OzspG8zqB0"
      },
      "execution_count": 40,
      "outputs": []
    },
    {
      "cell_type": "code",
      "source": [],
      "metadata": {
        "id": "Stzeb88iztQE"
      },
      "execution_count": 40,
      "outputs": []
    },
    {
      "cell_type": "markdown",
      "source": [
        "### Informação 14\n",
        " - Pais com o maior preco da commodity em fluxos do tipo Export"
      ],
      "metadata": {
        "id": "pcFnYAKoztg2"
      }
    },
    {
      "cell_type": "code",
      "source": [
        "%%file pratica.py\n",
        "from mrjob.job import MRJob\n",
        "import sys\n",
        "\n",
        "class WordCount(MRJob):\n",
        "    def mapper(self, _, linha):\n",
        "      yield('nada', 1)\n",
        "\n",
        "    def reducer(self, chave, valores):\n",
        "      yield('nada', 1)\n",
        "\n",
        "if __name__ == '__main__':\n",
        "     WordCount.run()"
      ],
      "metadata": {
        "id": "muu3daACztg2",
        "colab": {
          "base_uri": "https://localhost:8080/"
        },
        "outputId": "745143c2-003a-4027-fcad-9ea6f28de8f4"
      },
      "execution_count": 41,
      "outputs": [
        {
          "output_type": "stream",
          "name": "stdout",
          "text": [
            "Overwriting pratica.py\n"
          ]
        }
      ]
    },
    {
      "cell_type": "markdown",
      "source": [
        "Teste prévio com base parcial"
      ],
      "metadata": {
        "id": "6W-lz6vtztg2"
      }
    },
    {
      "cell_type": "code",
      "source": [
        "!rm -rf /content/atividade\n",
        "!python pratica.py /content/base_sample.csv --output-dir=/content/atividade\n",
        "print('\\nTop 10 Entradas da atividade')\n",
        "!cat /content/atividade/* | sort -k2,2rn -t$'\\t' | head -10"
      ],
      "metadata": {
        "id": "Q1mFjIqBztg2",
        "colab": {
          "base_uri": "https://localhost:8080/"
        },
        "outputId": "f72ec3c6-a073-4728-b968-629901a33ba5"
      },
      "execution_count": 42,
      "outputs": [
        {
          "output_type": "stream",
          "name": "stdout",
          "text": [
            "No configs found; falling back on auto-configuration\n",
            "No configs specified for inline runner\n",
            "Running step 1 of 1...\n",
            "Creating temp directory /tmp/pratica.root.20231019.184624.448598\n",
            "job output is in /content/atividade\n",
            "Removing temp directory /tmp/pratica.root.20231019.184624.448598...\n",
            "\n",
            "Top 10 Entradas da atividade\n",
            "\"nada\"\t1\n"
          ]
        }
      ]
    },
    {
      "cell_type": "markdown",
      "source": [
        "Teste com base completa"
      ],
      "metadata": {
        "id": "459ZTL8oztg2"
      }
    },
    {
      "cell_type": "code",
      "source": [
        "!rm -rf /content/atividade\n",
        "!python pratica.py /content/base.csv --output-dir=/content/atividade\n",
        "print('\\nTop 10 Entradas da atividade')\n",
        "!cat /content/atividade/* | sort -k2,2rn -t$'\\t' | head -10"
      ],
      "metadata": {
        "id": "AsB0wX4Jztg3",
        "colab": {
          "base_uri": "https://localhost:8080/"
        },
        "outputId": "be57282d-3c3c-4c6f-f63d-2d6a54b6d924"
      },
      "execution_count": 43,
      "outputs": [
        {
          "output_type": "stream",
          "name": "stdout",
          "text": [
            "No configs found; falling back on auto-configuration\n",
            "No configs specified for inline runner\n",
            "Running step 1 of 1...\n",
            "Creating temp directory /tmp/pratica.root.20231019.184625.364487\n",
            "job output is in /content/atividade\n",
            "Removing temp directory /tmp/pratica.root.20231019.184625.364487...\n",
            "\n",
            "Top 10 Entradas da atividade\n",
            "\"nada\"\t1\n"
          ]
        }
      ]
    },
    {
      "cell_type": "code",
      "source": [],
      "metadata": {
        "id": "UdHqJpMZztKN"
      },
      "execution_count": 43,
      "outputs": []
    },
    {
      "cell_type": "code",
      "source": [],
      "metadata": {
        "id": "4KzOva_C0KpX"
      },
      "execution_count": 43,
      "outputs": []
    },
    {
      "cell_type": "code",
      "source": [],
      "metadata": {
        "id": "0OKfwD7A0KiA"
      },
      "execution_count": 43,
      "outputs": []
    },
    {
      "cell_type": "markdown",
      "source": [
        "### Informação 15\n",
        " - Quantidade de transações comerciais de acordo com o fluxo, de acordo com o ano"
      ],
      "metadata": {
        "id": "wa-m-YVS0K11"
      }
    },
    {
      "cell_type": "code",
      "source": [
        "%%file pratica.py\n",
        "from mrjob.job import MRJob\n",
        "import sys\n",
        "\n",
        "class WordCount(MRJob):\n",
        "    def mapper(self, _, linha):\n",
        "      yield('nada', 1)\n",
        "\n",
        "    def reducer(self, chave, valores):\n",
        "      yield('nada', 1)\n",
        "\n",
        "if __name__ == '__main__':\n",
        "     WordCount.run()"
      ],
      "metadata": {
        "id": "6Hp79Axv0K12",
        "colab": {
          "base_uri": "https://localhost:8080/"
        },
        "outputId": "ca7cdc80-c2af-4dc8-af81-79543ff80fab"
      },
      "execution_count": 44,
      "outputs": [
        {
          "output_type": "stream",
          "name": "stdout",
          "text": [
            "Overwriting pratica.py\n"
          ]
        }
      ]
    },
    {
      "cell_type": "markdown",
      "source": [
        "Teste prévio com base parcial"
      ],
      "metadata": {
        "id": "eLopft5r0K12"
      }
    },
    {
      "cell_type": "code",
      "source": [
        "!rm -rf /content/atividade\n",
        "!python pratica.py /content/base_sample.csv --output-dir=/content/atividade\n",
        "print('\\nTop 10 Entradas da atividade')\n",
        "!cat /content/atividade/* | sort -k2,2rn -t$'\\t' | head -10"
      ],
      "metadata": {
        "id": "ReLWyMor0K12",
        "colab": {
          "base_uri": "https://localhost:8080/"
        },
        "outputId": "1deb2368-59da-4819-fc0d-f04e522e73a0"
      },
      "execution_count": 45,
      "outputs": [
        {
          "output_type": "stream",
          "name": "stdout",
          "text": [
            "No configs found; falling back on auto-configuration\n",
            "No configs specified for inline runner\n",
            "Running step 1 of 1...\n",
            "Creating temp directory /tmp/pratica.root.20231019.184701.391508\n",
            "job output is in /content/atividade\n",
            "Removing temp directory /tmp/pratica.root.20231019.184701.391508...\n",
            "\n",
            "Top 10 Entradas da atividade\n",
            "\"nada\"\t1\n"
          ]
        }
      ]
    },
    {
      "cell_type": "markdown",
      "source": [
        "Teste com base completa"
      ],
      "metadata": {
        "id": "ixK0Sslz0K12"
      }
    },
    {
      "cell_type": "code",
      "source": [
        "!rm -rf /content/atividade\n",
        "!python pratica.py /content/base.csv --output-dir=/content/atividade\n",
        "print('\\nTop 10 Entradas da atividade')\n",
        "!cat /content/atividade/* | sort -k2,2rn -t$'\\t' | head -10"
      ],
      "metadata": {
        "id": "iS6jIzlu0K12",
        "colab": {
          "base_uri": "https://localhost:8080/"
        },
        "outputId": "90712c55-782e-476e-d7a0-841137f88166"
      },
      "execution_count": 46,
      "outputs": [
        {
          "output_type": "stream",
          "name": "stdout",
          "text": [
            "No configs found; falling back on auto-configuration\n",
            "No configs specified for inline runner\n",
            "Running step 1 of 1...\n",
            "Creating temp directory /tmp/pratica.root.20231019.184702.437687\n",
            "job output is in /content/atividade\n",
            "Removing temp directory /tmp/pratica.root.20231019.184702.437687...\n",
            "\n",
            "Top 10 Entradas da atividade\n",
            "\"nada\"\t1\n"
          ]
        }
      ]
    },
    {
      "cell_type": "code",
      "source": [],
      "metadata": {
        "id": "Gz1aEcxv0K12"
      },
      "execution_count": 46,
      "outputs": []
    }
  ],
  "metadata": {
    "kernelspec": {
      "display_name": "Python 3",
      "language": "python",
      "name": "python3"
    },
    "language_info": {
      "codemirror_mode": {
        "name": "ipython",
        "version": 3
      },
      "file_extension": ".py",
      "mimetype": "text/x-python",
      "name": "python",
      "nbconvert_exporter": "python",
      "pygments_lexer": "ipython3",
      "version": "3.7.6"
    },
    "colab": {
      "provenance": []
    }
  },
  "nbformat": 4,
  "nbformat_minor": 0
}