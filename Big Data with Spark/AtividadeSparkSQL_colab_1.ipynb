{
  "cells": [
    {
      "cell_type": "markdown",
      "metadata": {
        "id": "-n8u3NEIDhvi"
      },
      "source": [
        "# Atividade Spark SQL\n",
        "\n",
        "Considerando o dataset detalhado a seguir, extraia o conjunto de informações solicitadas.\n",
        "\n",
        "### Dataset dados da BOVESPA\n",
        "\n",
        "- Dados relativos a bovespa, a bolsa de valores no Brasil\n",
        "- ~1.3GB\n",
        "- 8.1M de instâncias\n",
        "\n",
        "\n",
        "| #  \t| Nome do campo                                                             \t| Descrição                                                                        \t|\n",
        "|----\t|---------------------------------------------------------------------------\t|----------------------------------------------------------------------------------\t|\n",
        "| 0  \t| RegisterType                                                             \t| Fixo '1'                                                                                 \t|\n",
        "| 1  \t| TradingDate                                                              \t| Data do pregão                                                                   \t|\n",
        "| 2  \t| BDICode                                                                  \t| Utilizado para classificar os papéis na emissão do boletim diário de informações \t|\n",
        "| 3  \t| NegociationCode                                                          \t| Codigo de negociação do papel                                                    \t|\n",
        "| 4  \t| MarketType                                                               \t| Cód. Do mercado em que o papel está cadastrado                                   \t|\n",
        "| 5  \t| TradeName                                                                \t| Nome resumido da empresa emissora do papel                                       \t|\n",
        "| 6  \t| Specification                                                             \t| Especificação do Papel                                                           \t|\n",
        "| 7  \t| ForwardMarketTermInDays                                               \t| Prazo em dias do mercado a termo                                                 \t|\n",
        "| 8  \t| Currency                                                                  \t| Moeda de referência                                                              \t|\n",
        "| 9  \t| OpeningPrice                                                             \t| Preço de abertura do papel no pregão                                             \t|\n",
        "| 10 \t| MaxPrice                                                                \t| Preço máximo do papel no pregão                                                  \t|\n",
        "| 11 \t| MinPrice                                                                \t| Preço mínimo do papel no pregão                                                  \t|\n",
        "| 12 \t| MeanPrice                                                                \t| Preço médio do papel no pregão                                                   \t|\n",
        "| 13 \t| LastTradePrice                                                          \t| Preço do último negócio do papel no pregão                                       \t|\n",
        "| 14 \t| BestPurshaseOrderPrice                                                 \t| Preço da melhor oferta de compra do papel no mercado                             \t|\n",
        "| 15 \t| BestPurshaseSalePrice                                                  \t| Preço da melhor oferta de venda do papel no mercado                              \t|\n",
        "| 16 \t| NumborOfTrades                                                          \t| Número de negócios efetuados com o papel no pregão                               \t|\n",
        "| 17 \t| NumberOfTradedStocks                                                   \t| Quantidade total de títulos negociados neste papel                               \t|\n",
        "| 18 \t| VolumeOfTradedStocks                                                   \t| Volume total de títulos negociados neste papel                                   \t|\n",
        "| 19 \t| PriceForOptionsMarketOrSecondaryTermMarket                         \t| Preço de exercício para o mercado de opções ou valor do contrato para o mercado  \t|\n",
        "| 20 \t| PriceCorrectionsForOptionsMarketOrSecondaryTermMarket             \t| Indicador de correção de preços de exercícios ou valores de contrato             \t|\n",
        "| 21 \t| DueDateForOptionsMarketOrSecondaryTermMarket                      \t| Data do vencimento para os mercados de opções                                    \t|\n",
        "| 22 \t| FactorOfPaperQuotatuion                                                \t| Fator de cotação do papel                                                        \t|\n",
        "| 23 \t| PointsInPriceForOptionsMarketReferencedInDollarOrSecondaryTerm \t| Preço de exercício em pontos para opções referenciadas em dólar                  \t|\n",
        "| 24 \t| ISINOrInternCode                                                       \t| Código do papel no sistema ISIN                                                  \t|\n",
        "| 25 \t| DistributionNumber                                                       \t| Número de distribuição do papel                                                  \t|\n",
        "\n",
        "Informações a serem extraídas:\n",
        "\n",
        "1. Quantidade de dias com operações da PETR4 (NegociationCode)\n",
        "2. Maior valor (MaxPrice) histórico por ação (NegociationCode)\n",
        "3. Maior valor (MaxPrice) histórico da PETR4 (NegociationCode)\n",
        "4. Dia ('TradingDate') com a maior quantidade de papeis (NegociationCode) operados\n",
        "5. Dia ('TradingDate') da semana com a maior quantidade de papeis (NegociationCode) operados\n",
        "6. Maior lucro histórico de um papel (NegociationCode) na bovespa (MaxPrice - OpeningPrice)\n",
        "7. Maior prejuizo histórico de um papel (NegociationCode) na bovespa (OpeningPrice - LastTradePrice)\n",
        "8. Moeda (Currency) com mais operações\n",
        "9. Papel (NegociationCode) operado em CZ (Currency) com maior quantidade de operações\n",
        "10. Papel (NegociationCode) operado em CZ (Currency) com maior valor médio das operações (MeanPrice)\n",
        "11. Media do preço médio (MeanPrice), mínimo (MinPrice) e máximo (MaxPrice) anual (TradingDate) das ações da PETR4 (NegociationCode)\n",
        "12. Preço médio (MeanPrice) anual (TradingDate) das ações da PETR4 (NegociationCode)\n",
        "13. Preço médio (MeanPrice) anual (TradingDate) das 10 ações (NegociationCode) com mais operações na bovespa\n",
        "14. Desvio Padrão anual do preço médio (MeanPrice) da ação da PETR4 (NegociationCode)\n",
        "15. Desvio Padrão anual do preço médio (MeanPrice) das 10 ações (NegociationCode) com mais operações na bovespa\n",
        "16. Preço médio (MeanPrice) anual (TradingDate) das ações (NegociationCode) com a maior quantidade de operações de acordo com a moeda (Currency)\n",
        "\n",
        "\n",
        "**Dicas:**\n",
        "- *Crie uma célula (Insert -> Insert Cell Below) para cada informação solicitada*"
      ]
    },
    {
      "cell_type": "code",
      "source": [
        "#instala pyspark no google colab\n",
        "!pip install pyspark==3.3.1"
      ],
      "metadata": {
        "id": "BIfB9IclEC2q",
        "colab": {
          "base_uri": "https://localhost:8080/"
        },
        "outputId": "76dc9b3f-c13b-4725-db40-2dfb3aed6ffd"
      },
      "execution_count": 35,
      "outputs": [
        {
          "output_type": "stream",
          "name": "stdout",
          "text": [
            "Requirement already satisfied: pyspark==3.3.1 in /usr/local/lib/python3.10/dist-packages (3.3.1)\n",
            "Requirement already satisfied: py4j==0.10.9.5 in /usr/local/lib/python3.10/dist-packages (from pyspark==3.3.1) (0.10.9.5)\n"
          ]
        }
      ]
    },
    {
      "cell_type": "code",
      "source": [
        "# abre sessão no spark sql\n",
        "from pyspark.sql import SparkSession\n",
        "\n",
        "sc = SparkSession \\\n",
        "    .builder \\\n",
        "    .master('local[*]') \\\n",
        "    .getOrCreate()"
      ],
      "metadata": {
        "id": "-gijrrcmECTg"
      },
      "execution_count": 36,
      "outputs": []
    },
    {
      "cell_type": "code",
      "source": [
        "#Efetua download do arquivo covid\n",
        "!gdown 1FbkYKnij5N6A2P3VLgfMLYhoPSb4_wur"
      ],
      "metadata": {
        "id": "BJ2IBv-mENOF",
        "colab": {
          "base_uri": "https://localhost:8080/"
        },
        "outputId": "2c83b7f9-235a-4793-f4f9-201b9c000af5"
      },
      "execution_count": 37,
      "outputs": [
        {
          "output_type": "stream",
          "name": "stdout",
          "text": [
            "Downloading...\n",
            "From: https://drive.google.com/uc?id=1FbkYKnij5N6A2P3VLgfMLYhoPSb4_wur\n",
            "To: /content/bovespa.csv\n",
            "100% 1.29G/1.29G [00:13<00:00, 93.5MB/s]\n"
          ]
        }
      ]
    },
    {
      "cell_type": "code",
      "execution_count": 38,
      "metadata": {
        "id": "NJNnhsG5Dhvl"
      },
      "outputs": [],
      "source": [
        "df = sc.read \\\n",
        "    .option('delimiter', ',') \\\n",
        "    .option('header', 'true') \\\n",
        "    .option('inferschema', 'true') \\\n",
        "    .csv('file:////content/bovespa.csv')"
      ]
    },
    {
      "cell_type": "code",
      "source": [
        "df.printSchema()"
      ],
      "metadata": {
        "id": "V0dY_okCE6yY",
        "colab": {
          "base_uri": "https://localhost:8080/"
        },
        "outputId": "2463e92a-8199-4298-e4c8-5a1bc7733b12"
      },
      "execution_count": 39,
      "outputs": [
        {
          "output_type": "stream",
          "name": "stdout",
          "text": [
            "root\n",
            " |-- RegisterType: integer (nullable = true)\n",
            " |-- TradingDate: integer (nullable = true)\n",
            " |-- BDICode: double (nullable = true)\n",
            " |-- NegociationCode: string (nullable = true)\n",
            " |-- MarketType: integer (nullable = true)\n",
            " |-- TradeName: string (nullable = true)\n",
            " |-- Specification: string (nullable = true)\n",
            " |-- ForwardMarketTermInDays: string (nullable = true)\n",
            " |-- Currency: string (nullable = true)\n",
            " |-- OpeningPrice: double (nullable = true)\n",
            " |-- MaxPrice: double (nullable = true)\n",
            " |-- MinPrice: double (nullable = true)\n",
            " |-- MeanPrice: double (nullable = true)\n",
            " |-- LastTradePrice: double (nullable = true)\n",
            " |-- BestPurshaseOrderPrice: double (nullable = true)\n",
            " |-- BestPurshaseSalePrice: double (nullable = true)\n",
            " |-- NumborOfTrades: double (nullable = true)\n",
            " |-- NumberOfTradedStocks: double (nullable = true)\n",
            " |-- VolumeOfTradedStocks: double (nullable = true)\n",
            " |-- PriceForOptionsMarketOrSecondaryTermMarket: double (nullable = true)\n",
            " |-- PriceCorrectionsForOptionsMarketOrSecondaryTermMarket: double (nullable = true)\n",
            " |-- DueDateForOptionsMarketOrSecondaryTermMarket: double (nullable = true)\n",
            " |-- FactorOfPaperQuotatuion: double (nullable = true)\n",
            " |-- PointsInPriceForOptionsMarketReferencedInDollarOrSecondaryTerm: double (nullable = true)\n",
            " |-- ISINOrInternCode: string (nullable = true)\n",
            " |-- DistributionNumber: double (nullable = true)\n",
            "\n"
          ]
        }
      ]
    },
    {
      "cell_type": "code",
      "execution_count": 40,
      "metadata": {
        "id": "6b9qSFCuDhvm"
      },
      "outputs": [],
      "source": [
        "df.createOrReplaceTempView('bovespa')"
      ]
    },
    {
      "cell_type": "code",
      "source": [
        "sc.sql('select tradingDate, NegociationCode from bovespa where NegociationCode==\"PETR4\"').show(10)"
      ],
      "metadata": {
        "id": "KBWzEWE1GO1D",
        "colab": {
          "base_uri": "https://localhost:8080/"
        },
        "outputId": "8d89c879-5026-413f-c022-5c990610ac40"
      },
      "execution_count": 41,
      "outputs": [
        {
          "output_type": "stream",
          "name": "stdout",
          "text": [
            "+-----------+---------------+\n",
            "|tradingDate|NegociationCode|\n",
            "+-----------+---------------+\n",
            "|   19980316|          PETR4|\n",
            "|   19980317|          PETR4|\n",
            "|   19980318|          PETR4|\n",
            "|   19980319|          PETR4|\n",
            "|   19980320|          PETR4|\n",
            "|   19980323|          PETR4|\n",
            "|   19980324|          PETR4|\n",
            "|   19980325|          PETR4|\n",
            "|   19980326|          PETR4|\n",
            "|   19980327|          PETR4|\n",
            "+-----------+---------------+\n",
            "only showing top 10 rows\n",
            "\n"
          ]
        }
      ]
    },
    {
      "cell_type": "code",
      "source": [
        "df.select('TradingDate', \"NegociationCode\")\\\n",
        "  .where(df.NegociationCode == 'PETR4')\\\n",
        "  .show(10)"
      ],
      "metadata": {
        "id": "7gKgFeJ1GP1v",
        "colab": {
          "base_uri": "https://localhost:8080/"
        },
        "outputId": "485f09a4-8cd8-45f2-d731-c872669c753b"
      },
      "execution_count": 42,
      "outputs": [
        {
          "output_type": "stream",
          "name": "stdout",
          "text": [
            "+-----------+---------------+\n",
            "|TradingDate|NegociationCode|\n",
            "+-----------+---------------+\n",
            "|   19980316|          PETR4|\n",
            "|   19980317|          PETR4|\n",
            "|   19980318|          PETR4|\n",
            "|   19980319|          PETR4|\n",
            "|   19980320|          PETR4|\n",
            "|   19980323|          PETR4|\n",
            "|   19980324|          PETR4|\n",
            "|   19980325|          PETR4|\n",
            "|   19980326|          PETR4|\n",
            "|   19980327|          PETR4|\n",
            "+-----------+---------------+\n",
            "only showing top 10 rows\n",
            "\n"
          ]
        }
      ]
    },
    {
      "cell_type": "code",
      "source": [
        "import pyspark.sql.functions as func\n",
        "\n",
        "df.select('TradingDate', \"NegociationCode\")\\\n",
        "  .where(df.TradingDate >= 20100000)\\\n",
        "  .groupBy(df.TradingDate)\\\n",
        "  .agg(func.count('TradingDate').alias('qt'))\\\n",
        "  .orderBy('qt', ascending=False)\\\n",
        "  .show(10)"
      ],
      "metadata": {
        "id": "6TOGVrq0GOW0",
        "colab": {
          "base_uri": "https://localhost:8080/"
        },
        "outputId": "705f9f68-ae3d-44d6-e922-2ea8a7cdd13c"
      },
      "execution_count": 43,
      "outputs": [
        {
          "output_type": "stream",
          "name": "stdout",
          "text": [
            "+-----------+----+\n",
            "|TradingDate|  qt|\n",
            "+-----------+----+\n",
            "|   20191216|4652|\n",
            "|   20191212|4241|\n",
            "|   20191213|4223|\n",
            "|   20191118|4208|\n",
            "|   20190819|4135|\n",
            "|   20191114|4131|\n",
            "|   20191021|3975|\n",
            "|   20190916|3954|\n",
            "|   20191113|3930|\n",
            "|   20190715|3916|\n",
            "+-----------+----+\n",
            "only showing top 10 rows\n",
            "\n"
          ]
        }
      ]
    },
    {
      "cell_type": "code",
      "execution_count": 44,
      "metadata": {
        "id": "7sGAr7meDhvm"
      },
      "outputs": [],
      "source": [
        "#informacao 1\n",
        "# Quantidade de dias com operações da PETR4 (NegociationCode)\n"
      ]
    },
    {
      "cell_type": "code",
      "source": [
        "sc.sql('select count(*) from bovespa where NegociationCode == \"PETR4\" group by NegociationCode').show(10)"
      ],
      "metadata": {
        "id": "XnhSxNzFGAyc",
        "colab": {
          "base_uri": "https://localhost:8080/"
        },
        "outputId": "53ef7a54-725f-4856-c6ba-1c4197ae27f1"
      },
      "execution_count": 61,
      "outputs": [
        {
          "output_type": "stream",
          "name": "stdout",
          "text": [
            "+--------+\n",
            "|count(1)|\n",
            "+--------+\n",
            "|    5391|\n",
            "+--------+\n",
            "\n"
          ]
        }
      ]
    },
    {
      "cell_type": "code",
      "source": [
        "df.select(df.NegociationCode)\\\n",
        "  .where(df.NegociationCode == 'PETR4')\\\n",
        "  .count()"
      ],
      "metadata": {
        "id": "vhiYn7EpLw4Z",
        "outputId": "9230ae23-2269-4112-dbf5-51d4addc4d04",
        "colab": {
          "base_uri": "https://localhost:8080/"
        }
      },
      "execution_count": 64,
      "outputs": [
        {
          "output_type": "execute_result",
          "data": {
            "text/plain": [
              "5391"
            ]
          },
          "metadata": {},
          "execution_count": 64
        }
      ]
    },
    {
      "cell_type": "code",
      "execution_count": 45,
      "metadata": {
        "id": "95LTgCvqDhvm"
      },
      "outputs": [],
      "source": [
        "#informacao 2\n",
        "# Maior valor (MaxPrice) histórico por ação (NegociationCode)"
      ]
    },
    {
      "cell_type": "code",
      "source": [
        "sc.sql('select NegociationCode, max(MaxPrice) from bovespa group by NegociationCode').show(10)"
      ],
      "metadata": {
        "id": "82EalC73GBDU",
        "colab": {
          "base_uri": "https://localhost:8080/"
        },
        "outputId": "fb53681d-fb5f-44ed-a50d-0643fc3220f0"
      },
      "execution_count": 62,
      "outputs": [
        {
          "output_type": "stream",
          "name": "stdout",
          "text": [
            "+---------------+-------------+\n",
            "|NegociationCode|max(MaxPrice)|\n",
            "+---------------+-------------+\n",
            "|          FGO 4|     240000.0|\n",
            "|          VAG 3|    5395600.0|\n",
            "|          EST 1|      18000.0|\n",
            "|          BIO 1|     160000.0|\n",
            "|         OEA 10|        270.0|\n",
            "|          OPC 9|       2000.0|\n",
            "|         OBE 18|        200.0|\n",
            "|         MAG 13|       6000.0|\n",
            "|         OPU 23|        700.0|\n",
            "|         OCZ 20|       9800.0|\n",
            "+---------------+-------------+\n",
            "only showing top 10 rows\n",
            "\n"
          ]
        }
      ]
    },
    {
      "cell_type": "code",
      "source": [
        "df.select('NegociationCode', 'MaxPrice')\\\n",
        "  .groupBy('NegociationCode')\\\n",
        "  .agg(func.max('MaxPrice').alias('MaiorValor'))\\\n",
        "  .show(10)"
      ],
      "metadata": {
        "id": "b5ztxIyNMRAn",
        "outputId": "96fc4fd5-8cbf-488c-ed8f-eaae9db252df",
        "colab": {
          "base_uri": "https://localhost:8080/"
        }
      },
      "execution_count": 66,
      "outputs": [
        {
          "output_type": "stream",
          "name": "stdout",
          "text": [
            "+---------------+----------+\n",
            "|NegociationCode|MaiorValor|\n",
            "+---------------+----------+\n",
            "|          FGO 4|  240000.0|\n",
            "|          VAG 3| 5395600.0|\n",
            "|          EST 1|   18000.0|\n",
            "|          BIO 1|  160000.0|\n",
            "|         OEA 10|     270.0|\n",
            "|          OPC 9|    2000.0|\n",
            "|         OBE 18|     200.0|\n",
            "|         MAG 13|    6000.0|\n",
            "|         OPU 23|     700.0|\n",
            "|         OCZ 20|    9800.0|\n",
            "+---------------+----------+\n",
            "only showing top 10 rows\n",
            "\n"
          ]
        }
      ]
    },
    {
      "cell_type": "code",
      "execution_count": 46,
      "metadata": {
        "id": "Uk0t-ygRDhvm"
      },
      "outputs": [],
      "source": [
        "#informacao 3\n",
        "# Maior valor (MaxPrice) histórico da PETR4 (NegociationCode)"
      ]
    },
    {
      "cell_type": "code",
      "source": [],
      "metadata": {
        "id": "ZTp707__GBUk"
      },
      "execution_count": 46,
      "outputs": []
    },
    {
      "cell_type": "code",
      "execution_count": 47,
      "metadata": {
        "id": "EKwQsjfGDhvm"
      },
      "outputs": [],
      "source": [
        "#informacao 4\n",
        "# Dia ('TradingDate') com a maior quantidade de papeis (NegociationCode) operados"
      ]
    },
    {
      "cell_type": "code",
      "source": [],
      "metadata": {
        "id": "Rr7Ste9JGIcg"
      },
      "execution_count": 47,
      "outputs": []
    },
    {
      "cell_type": "code",
      "execution_count": 48,
      "metadata": {
        "id": "ZbNzh8WJDhvm"
      },
      "outputs": [],
      "source": [
        "#informacao 5\n",
        "# Dia ('TradingDate') da semana com a maior quantidade de papeis (NegociationCode) operados"
      ]
    },
    {
      "cell_type": "code",
      "source": [
        "from pyspark.sql.functions import udf\n",
        "from pyspark.sql.types import StringType\n",
        "\n",
        "func_udf = udf(lambda tradingDate: str(tradingDate)[0:4], StringType())\n",
        "df.select('TradingDate')\\\n",
        "  .withColumn('diaSemana', func_udf('TradingDate'))\\\n",
        "  .show(10)"
      ],
      "metadata": {
        "id": "1kp6NMHqGITA",
        "colab": {
          "base_uri": "https://localhost:8080/"
        },
        "outputId": "8211512a-c973-4b52-c462-805c4636b351"
      },
      "execution_count": 68,
      "outputs": [
        {
          "output_type": "stream",
          "name": "stdout",
          "text": [
            "+-----------+---------+\n",
            "|TradingDate|diaSemana|\n",
            "+-----------+---------+\n",
            "|   19860102|     1986|\n",
            "|   19860102|     1986|\n",
            "|   19860102|     1986|\n",
            "|   19860102|     1986|\n",
            "|   19860102|     1986|\n",
            "|   19860102|     1986|\n",
            "|   19860102|     1986|\n",
            "|   19860102|     1986|\n",
            "|   19860102|     1986|\n",
            "|   19860102|     1986|\n",
            "+-----------+---------+\n",
            "only showing top 10 rows\n",
            "\n"
          ]
        }
      ]
    },
    {
      "cell_type": "code",
      "execution_count": 49,
      "metadata": {
        "id": "VbD-8nkODhvn"
      },
      "outputs": [],
      "source": [
        "#informacao 6\n",
        "# Maior lucro histórico de um papel (NegociationCode) na bovespa (MaxPrice - OpeningPrice)"
      ]
    },
    {
      "cell_type": "code",
      "source": [],
      "metadata": {
        "id": "5JV8diqjGID6"
      },
      "execution_count": 49,
      "outputs": []
    },
    {
      "cell_type": "code",
      "execution_count": 50,
      "metadata": {
        "id": "E3RwAl4vDhvn"
      },
      "outputs": [],
      "source": [
        "#informacao 7\n",
        "# Maior prejuizo histórico de um papel (NegociationCode) na bovespa (OpeningPrice - LastTradePrice)"
      ]
    },
    {
      "cell_type": "code",
      "source": [],
      "metadata": {
        "id": "ge4bBEoDGDvk"
      },
      "execution_count": 50,
      "outputs": []
    },
    {
      "cell_type": "code",
      "execution_count": 51,
      "metadata": {
        "id": "HTG5v6Z6Dhvn"
      },
      "outputs": [],
      "source": [
        "#informacao 8\n",
        "# Moeda (Currency) com mais operações"
      ]
    },
    {
      "cell_type": "code",
      "source": [],
      "metadata": {
        "id": "zkWEFzjYGDnJ"
      },
      "execution_count": 51,
      "outputs": []
    },
    {
      "cell_type": "code",
      "execution_count": 52,
      "metadata": {
        "id": "5J63fYHuDhvn"
      },
      "outputs": [],
      "source": [
        "#informacao 9\n",
        "# Papel (NegociationCode) operado em CZ (Currency) com maior quantidade de operações"
      ]
    },
    {
      "cell_type": "code",
      "source": [],
      "metadata": {
        "id": "IVHmD9M8GDes"
      },
      "execution_count": 52,
      "outputs": []
    },
    {
      "cell_type": "code",
      "execution_count": 53,
      "metadata": {
        "id": "oCD-PYDRDhvn"
      },
      "outputs": [],
      "source": [
        "#informacao 10\n",
        "# Papel (NegociationCode) operado em CZ (Currency) com maior valor médio das operações (MeanPrice)"
      ]
    },
    {
      "cell_type": "code",
      "source": [],
      "metadata": {
        "id": "OmQdpv8vGDTH"
      },
      "execution_count": 53,
      "outputs": []
    },
    {
      "cell_type": "code",
      "execution_count": 54,
      "metadata": {
        "id": "o-wMRp2hDhvn"
      },
      "outputs": [],
      "source": [
        "#informacao 11\n",
        "# Media do preço médio (MeanPrice), mínimo (MinPrice) e máximo (MaxPrice) anual (TradingDate) das ações da PETR4 (NegociationCode)"
      ]
    },
    {
      "cell_type": "code",
      "source": [],
      "metadata": {
        "id": "_3_3JDb6GDHJ"
      },
      "execution_count": 54,
      "outputs": []
    },
    {
      "cell_type": "code",
      "execution_count": 55,
      "metadata": {
        "id": "1H_sglgyDhvn"
      },
      "outputs": [],
      "source": [
        "#informacao 12\n",
        "# Preço médio (MeanPrice) anual (TradingDate) das ações da PETR4 (NegociationCode)"
      ]
    },
    {
      "cell_type": "code",
      "source": [],
      "metadata": {
        "id": "YbKTkNoNGCc8"
      },
      "execution_count": 55,
      "outputs": []
    },
    {
      "cell_type": "code",
      "execution_count": 56,
      "metadata": {
        "id": "beZ-bKCGDhvn"
      },
      "outputs": [],
      "source": [
        "#informacao 13\n",
        "# Preço médio (MeanPrice) anual (TradingDate) das 10 ações (NegociationCode) com mais operações na bovespa"
      ]
    },
    {
      "cell_type": "code",
      "source": [],
      "metadata": {
        "id": "R81jkEliGCU3"
      },
      "execution_count": 56,
      "outputs": []
    },
    {
      "cell_type": "code",
      "execution_count": 57,
      "metadata": {
        "id": "Qb81anbIDhvo"
      },
      "outputs": [],
      "source": [
        "#informacao 14\n",
        "# Desvio Padrão anual do preço médio (MeanPrice) da ação da PETR4 (NegociationCode)"
      ]
    },
    {
      "cell_type": "code",
      "source": [],
      "metadata": {
        "id": "Rq2ZJMu9GCME"
      },
      "execution_count": 57,
      "outputs": []
    },
    {
      "cell_type": "code",
      "execution_count": 58,
      "metadata": {
        "id": "T_VUm-3CDhvo"
      },
      "outputs": [],
      "source": [
        "#informacao 15\n",
        "# Desvio Padrão anual do preço médio (MeanPrice) das 10 ações (NegociationCode) com mais operações na bovespa"
      ]
    },
    {
      "cell_type": "code",
      "source": [],
      "metadata": {
        "id": "Cw1sHWAuGCBh"
      },
      "execution_count": 58,
      "outputs": []
    },
    {
      "cell_type": "code",
      "execution_count": 59,
      "metadata": {
        "id": "CMXXrUZ2Dhvo"
      },
      "outputs": [],
      "source": [
        "#informacao 16\n",
        "# Preço médio (MeanPrice) anual (TradingDate) das ações (NegociationCode) com a maior quantidade de operações de acordo com a moeda (Currency)"
      ]
    },
    {
      "cell_type": "code",
      "source": [],
      "metadata": {
        "id": "KRf7i2J5GB4Y"
      },
      "execution_count": 59,
      "outputs": []
    }
  ],
  "metadata": {
    "kernelspec": {
      "display_name": "Python 3",
      "language": "python",
      "name": "python3"
    },
    "language_info": {
      "codemirror_mode": {
        "name": "ipython",
        "version": 3
      },
      "file_extension": ".py",
      "mimetype": "text/x-python",
      "name": "python",
      "nbconvert_exporter": "python",
      "pygments_lexer": "ipython3",
      "version": "3.7.6"
    },
    "colab": {
      "provenance": []
    }
  },
  "nbformat": 4,
  "nbformat_minor": 0
}