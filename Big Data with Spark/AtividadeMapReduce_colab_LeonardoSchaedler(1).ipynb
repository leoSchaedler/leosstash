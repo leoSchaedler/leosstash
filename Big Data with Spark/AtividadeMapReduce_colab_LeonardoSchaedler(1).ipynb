{
  "cells": [
    {
      "cell_type": "markdown",
      "source": [
        "### **Aluno: Leonardo Ribeiro Schaedler**"
      ],
      "metadata": {
        "id": "nf7wIFdDbD7c"
      }
    },
    {
      "cell_type": "markdown",
      "metadata": {
        "id": "wAyIvfaaEdJd"
      },
      "source": [
        "# Atividade MapReduce\n",
        "\n",
        "Considerando o dataset detalhado a seguir, extraia o conjunto de informações solicitadas.\n",
        "\n",
        "### Dataset dados de operacoes comerciais entre paises\n",
        "- Dados relativos a transacoes comerciais entre paises ao longo do tempo\n",
        "- 2 bases:\n",
        "  - base.csv ~433MB (3M de eventos)\n",
        "  - base_sample.csv ~4MB (35k de eventos)\n",
        "- 4.4M de instâncias\n",
        "\n",
        "### Formato da base\n",
        "\n",
        "|  # | Nome do campo        \t| Descrição                                     \t|\n",
        "|----|----------------------\t|-----------------------------------------------\t|\n",
        "|  0 | \tPaís\tPaís envolvido na transação comercial|\n",
        "|  1 | \tAno\tAno em que a transação foi efetuada|\n",
        "|  2 | \tCódigo\tCódigo da mercadoria|\n",
        "|  3 | \tMercadoria \tDescrição da mercadoria|\n",
        "|  4 | \tFluxo\tFluxo, e.g. Exportação ou Importação|\n",
        "|  5 | \tValor\tValor em dólares|\n",
        "|  6 | \tPeso\tPeso da mercadoria|\n",
        "|  7 | \tUnidade \tUnidade de medida da mercadoria, e.g. Quantidade de itens|\n",
        "|  8 | \tQuantidade\tQuantidade conforme a unidade especificada da mercadoria|\n",
        "|  9 | \tCategoria\tCategoria da mercadoria, e.g. Produto Animal|\n",
        "\n",
        "\n",
        "### Informações a serem extraídas:\n",
        "\n",
        "1.\tPaís com a maior quantidade de transações comerciais efetuadas;\n",
        "2.\tMercadoria com a maior quantidade de transações comerciais no Brasil (como a base de dados está em inglês utilize Brazil, com Z, utilize a função “contains” do Java);\n",
        "3.\tQuantidade de transações financeiras realizadas por ano;\n",
        "4.\tMercadoria com maior quantidade de transações financeiras;\n",
        "5.\tMercadoria com maior quantidade de transações financeiras em 2016;\n",
        "6.\tMercadoria com maior quantidade de transações financeiras em 2016, no Brasil (como a base de dados está em inglês utilize Brazil, com Z);\n",
        "7.\tMercadoria com maior total de peso, de acordo com todas transações comerciais;\n",
        "8.\tMercadoria com maior total de peso, de acordo com todas transações comerciais, separadas de acordo com o ano;\n",
        "9.\tMédia de peso por mercadoria, separadas de acordo com o ano;\n",
        "10.\tMédia de peso por mercadoria comercializadas no Brasil (como a base de dados está em inglês utilize Brazil, com Z), separadas de acordo com o ano;\n",
        "11.\tMédia de peso por mercadoria comercializadas no Brasil (como a base de dados está em inglês utilize Brazil, com Z), em relação ao fluxo, separadas de acordo com o ano;\n",
        "12.\tPreco medio das commodities de acordo com o ano\n",
        "13.\tValores maximos, minimos e médios de cada tipo de mercadoria por ano\n",
        "14.\tPais com o maior preco da commodity em fluxos do tipo Export\n",
        "15.\tQuantidade de transações comerciais de acordo com o fluxo, de acordo com o ano;"
      ]
    },
    {
      "cell_type": "code",
      "source": [
        "#Instala ambiente local do MapReduce\n",
        "!pip --quiet install mrjob\n",
        "#Efetua download da base completa (400MB)  https://drive.google.com/file/d/1LdeDR5wKP15kUywI7491OmKzdMzVgO-c/view?usp=sharing\n",
        "!gdown 1LdeDR5wKP15kUywI7491OmKzdMzVgO-c\n",
        "#Efetua download da base parcial (4MB)   https://drive.google.com/file/d/1CBi-jpBlJrKX4BmWMO0bM-DjLeLXrnDm/view?usp=sharing\n",
        "!gdown 1CBi-jpBlJrKX4BmWMO0bM-DjLeLXrnDm"
      ],
      "metadata": {
        "id": "MOzkKQYcOL9g",
        "colab": {
          "base_uri": "https://localhost:8080/"
        },
        "outputId": "82c759f7-8a2e-4cea-e9fe-4e02fc27e1f2"
      },
      "execution_count": 166,
      "outputs": [
        {
          "output_type": "stream",
          "name": "stdout",
          "text": [
            "Downloading...\n",
            "From: https://drive.google.com/uc?id=1LdeDR5wKP15kUywI7491OmKzdMzVgO-c\n",
            "To: /content/base.csv\n",
            "100% 444M/444M [00:02<00:00, 214MB/s]\n",
            "Downloading...\n",
            "From: https://drive.google.com/uc?id=1CBi-jpBlJrKX4BmWMO0bM-DjLeLXrnDm\n",
            "To: /content/base_sample.csv\n",
            "100% 4.06M/4.06M [00:00<00:00, 166MB/s]\n"
          ]
        }
      ]
    },
    {
      "cell_type": "code",
      "source": [],
      "metadata": {
        "id": "8_yyegCRE4YG"
      },
      "execution_count": 166,
      "outputs": []
    },
    {
      "cell_type": "code",
      "execution_count": 166,
      "metadata": {
        "id": "5oa0PA69EdJf"
      },
      "outputs": [],
      "source": []
    },
    {
      "cell_type": "markdown",
      "source": [
        "### Informação 1\n",
        " - País com a maior quantidade de transações comerciais efetuadas;"
      ],
      "metadata": {
        "id": "PRXOKvQzu7f9"
      }
    },
    {
      "cell_type": "code",
      "source": [
        "%%file pratica.py\n",
        "from mrjob.job import MRJob\n",
        "import sys\n",
        "\n",
        "class WordCount(MRJob):\n",
        "    def mapper(self, _, linha):\n",
        "      try:\n",
        "        campos = linha.split(';')\n",
        "        pais = campos[0]\n",
        "        yield(pais, 1)\n",
        "      except:\n",
        "        pass\n",
        "\n",
        "    def reducer(self, chave, valores):\n",
        "      valor = 0\n",
        "      for v in valores:\n",
        "        valor = valor + 1\n",
        "      yield(chave, valor)\n",
        "\n",
        "if __name__ == '__main__':\n",
        "     WordCount.run()"
      ],
      "metadata": {
        "id": "K1-g1QDbu5cX",
        "colab": {
          "base_uri": "https://localhost:8080/"
        },
        "outputId": "404339bf-6551-4183-f371-9676e7090cdf"
      },
      "execution_count": 167,
      "outputs": [
        {
          "output_type": "stream",
          "name": "stdout",
          "text": [
            "Overwriting pratica.py\n"
          ]
        }
      ]
    },
    {
      "cell_type": "markdown",
      "source": [
        "Teste prévio com base parcial (Top 1 = \"Canada\"\t936)"
      ],
      "metadata": {
        "id": "f3PFWNVKvDwK"
      }
    },
    {
      "cell_type": "code",
      "source": [
        "!rm -rf /content/atividade\n",
        "!python pratica.py /content/base_sample.csv --output-dir=/content/atividade\n",
        "print('\\nTop 10 Entradas da atividade')\n",
        "!cat /content/atividade/* | sort -k2,2rn -t$'\\t' | head -10"
      ],
      "metadata": {
        "id": "j7OzfeAnvDa0",
        "colab": {
          "base_uri": "https://localhost:8080/"
        },
        "outputId": "9a12ae78-9d78-4b6f-a277-cf8b5aeb9794"
      },
      "execution_count": 168,
      "outputs": [
        {
          "output_type": "stream",
          "name": "stdout",
          "text": [
            "No configs found; falling back on auto-configuration\n",
            "No configs specified for inline runner\n",
            "Running step 1 of 1...\n",
            "Creating temp directory /tmp/pratica.root.20231019.223514.725466\n",
            "job output is in /content/atividade\n",
            "Removing temp directory /tmp/pratica.root.20231019.223514.725466...\n",
            "\n",
            "Top 10 Entradas da atividade\n",
            "\"Canada\"\t936\n",
            "\"France\"\t762\n",
            "\"Germany\"\t740\n",
            "\"Netherlands\"\t717\n",
            "\"Greece\"\t687\n",
            "\"Italy\"\t655\n",
            "\"Denmark\"\t646\n",
            "\"Czech Rep.\"\t643\n",
            "\"Malaysia\"\t640\n",
            "\"Austria\"\t614\n"
          ]
        }
      ]
    },
    {
      "cell_type": "markdown",
      "source": [
        "Teste com base completa (Top 1 = \"Australia\"\t89487)"
      ],
      "metadata": {
        "id": "2EmJ-fVevLJQ"
      }
    },
    {
      "cell_type": "code",
      "source": [
        "!rm -rf /content/atividade\n",
        "!python pratica.py /content/base.csv --output-dir=/content/atividade\n",
        "print('\\nTop 10 Entradas da atividade')\n",
        "!cat /content/atividade/* | sort -k2,2rn -t$'\\t' | head -10"
      ],
      "metadata": {
        "id": "rmLHhq0du5Zx",
        "colab": {
          "base_uri": "https://localhost:8080/"
        },
        "outputId": "09c99a35-67b7-42ff-bdd0-48c808c6c2a3"
      },
      "execution_count": 169,
      "outputs": [
        {
          "output_type": "stream",
          "name": "stdout",
          "text": [
            "No configs found; falling back on auto-configuration\n",
            "No configs specified for inline runner\n",
            "Running step 1 of 1...\n",
            "Creating temp directory /tmp/pratica.root.20231019.223516.307517\n",
            "job output is in /content/atividade\n",
            "Removing temp directory /tmp/pratica.root.20231019.223516.307517...\n",
            "\n",
            "Top 10 Entradas da atividade\n",
            "\"Australia\"\t89487\n",
            "\"Canada\"\t69468\n",
            "\"Austria\"\t58683\n",
            "\"Argentina\"\t57729\n",
            "\"China, Hong Kong SAR\"\t55535\n",
            "\"Brazil\"\t54356\n",
            "\"Denmark\"\t49905\n",
            "\"Belgium\"\t49525\n",
            "\"China\"\t49275\n",
            "\"France\"\t46052\n"
          ]
        }
      ]
    },
    {
      "cell_type": "code",
      "source": [],
      "metadata": {
        "id": "14oxwV7uu5XW"
      },
      "execution_count": 169,
      "outputs": []
    },
    {
      "cell_type": "code",
      "source": [],
      "metadata": {
        "id": "OAEhAofnu5Up"
      },
      "execution_count": 169,
      "outputs": []
    },
    {
      "cell_type": "markdown",
      "source": [
        "### Informação 2\n",
        " - Mercadoria com a maior quantidade de transações comerciais no Brasil (como a base de dados está em inglês utilize Brazil, com Z)"
      ],
      "metadata": {
        "id": "IjERlJ1gyAlM"
      }
    },
    {
      "cell_type": "code",
      "source": [
        "%%file pratica.py\n",
        "from mrjob.job import MRJob\n",
        "import sys\n",
        "\n",
        "class WordCount(MRJob):\n",
        "    def mapper(self, _, linha):\n",
        "      try:\n",
        "        campos = linha.split(';')\n",
        "        country = campos[0]\n",
        "        if country == \"Brazil\":\n",
        "          comm = campos[3]\n",
        "          yield(comm, 1)\n",
        "      except:\n",
        "        pass\n",
        "\n",
        "    def reducer(self, chave, valores):\n",
        "      valor = 0\n",
        "      for v in valores:\n",
        "        valor = valor + v\n",
        "      yield(chave, valor)\n",
        "\n",
        "if __name__ == '__main__':\n",
        "     WordCount.run()"
      ],
      "metadata": {
        "id": "oeKIkcAmyAlM",
        "colab": {
          "base_uri": "https://localhost:8080/"
        },
        "outputId": "4da6864e-21e7-443f-c115-2a4ada02a610"
      },
      "execution_count": 170,
      "outputs": [
        {
          "output_type": "stream",
          "name": "stdout",
          "text": [
            "Overwriting pratica.py\n"
          ]
        }
      ]
    },
    {
      "cell_type": "markdown",
      "source": [
        "Teste prévio com base parcial"
      ],
      "metadata": {
        "id": "xkT46bN9yAlN"
      }
    },
    {
      "cell_type": "code",
      "source": [
        "!rm -rf /content/atividade\n",
        "!python pratica.py /content/base_sample.csv --output-dir=/content/atividade\n",
        "print('\\nTop 10 Entradas da atividade')\n",
        "!cat /content/atividade/* | sort -k2,2rn -t$'\\t' | head -10"
      ],
      "metadata": {
        "id": "-Z5dd55ayAlN",
        "colab": {
          "base_uri": "https://localhost:8080/"
        },
        "outputId": "b20f25a2-d71e-41a3-e5a7-b4ea1b823cbf"
      },
      "execution_count": 171,
      "outputs": [
        {
          "output_type": "stream",
          "name": "stdout",
          "text": [
            "No configs found; falling back on auto-configuration\n",
            "No configs specified for inline runner\n",
            "Running step 1 of 1...\n",
            "Creating temp directory /tmp/pratica.root.20231019.223602.657764\n",
            "job output is in /content/atividade\n",
            "Removing temp directory /tmp/pratica.root.20231019.223602.657764...\n",
            "\n",
            "Top 10 Entradas da atividade\n",
            "\"Horses, live except pure-bred breeding\"\t64\n",
            "\"Animals, live, except farm animals\"\t56\n",
            "\"Bovine animals, live pure-bred breeding\"\t56\n",
            "\"Fowls, live domestic < 185 grams\"\t56\n",
            "\"Bovine animals, live, except pure-bred breeding\"\t54\n",
            "\"Horses, live pure-bred breeding\"\t54\n",
            "\"Swine, live pure-bred breeding\"\t52\n",
            "\"Sheep, live\"\t47\n",
            "\"Poultry, live except domestic fowls, < 185 grams\"\t32\n",
            "\"Goats, live\"\t30\n"
          ]
        }
      ]
    },
    {
      "cell_type": "markdown",
      "source": [
        "Teste com base completa"
      ],
      "metadata": {
        "id": "KyOXAOwMyAlN"
      }
    },
    {
      "cell_type": "code",
      "source": [
        "!rm -rf /content/atividade\n",
        "!python pratica.py /content/base.csv --output-dir=/content/atividade\n",
        "print('\\nTop 10 Entradas da atividade')\n",
        "!cat /content/atividade/* | sort -k2,2rn -t$'\\t' | head -10"
      ],
      "metadata": {
        "id": "J8HzyIcLyAlN",
        "colab": {
          "base_uri": "https://localhost:8080/"
        },
        "outputId": "15dd7591-8e5f-4d72-a895-8612376e32fd"
      },
      "execution_count": 172,
      "outputs": [
        {
          "output_type": "stream",
          "name": "stdout",
          "text": [
            "No configs found; falling back on auto-configuration\n",
            "No configs specified for inline runner\n",
            "Running step 1 of 1...\n",
            "Creating temp directory /tmp/pratica.root.20231019.223603.302072\n",
            "job output is in /content/atividade\n",
            "Removing temp directory /tmp/pratica.root.20231019.223603.302072...\n",
            "\n",
            "Top 10 Entradas da atividade\n",
            "\"Industrial fatty alcohols\"\t84\n",
            "\"Cigarette or pipe tobacco and tobacco substitute mixe\"\t69\n",
            "\"Synthetic organic pigments and preps based thereon\"\t69\n",
            "\"Beauty, makeup and suntan preparations nes\"\t68\n",
            "\"Chocolate/cocoa food preparations nes\"\t68\n",
            "\"Chocolate, cocoa preps, block, slab, bar, filled, >2k\"\t68\n",
            "\"Essential oils, nes\"\t68\n",
            "\"Hair preparations, nes\"\t68\n",
            "\"Hair shampoos\"\t68\n",
            "\"Jams, fruit jellies, purees and pastes, except citrus\"\t68\n"
          ]
        }
      ]
    },
    {
      "cell_type": "code",
      "source": [],
      "metadata": {
        "id": "H1775c--yAlN"
      },
      "execution_count": 172,
      "outputs": []
    },
    {
      "cell_type": "code",
      "source": [],
      "metadata": {
        "id": "iAriufiuu5NX"
      },
      "execution_count": 172,
      "outputs": []
    },
    {
      "cell_type": "markdown",
      "source": [
        "### Informação 3\n",
        " - Quantidade de transações financeiras realizadas por ano;"
      ],
      "metadata": {
        "id": "rvi20aQEyjJ_"
      }
    },
    {
      "cell_type": "code",
      "source": [
        "%%file pratica.py\n",
        "from mrjob.job import MRJob\n",
        "import sys\n",
        "\n",
        "class WordCount(MRJob):\n",
        "    def mapper(self, _, linha):\n",
        "      try:\n",
        "        campos = linha.split(';')\n",
        "        year = campos[1]\n",
        "        yield(year, 1)\n",
        "      except:\n",
        "        pass\n",
        "\n",
        "    def reducer(self, chave, valores):\n",
        "      valor = 0\n",
        "      for v in valores:\n",
        "        valor = valor + v\n",
        "      yield(chave, valor)\n",
        "\n",
        "if __name__ == '__main__':\n",
        "     WordCount.run()"
      ],
      "metadata": {
        "id": "iqTfirfKyjKE",
        "colab": {
          "base_uri": "https://localhost:8080/"
        },
        "outputId": "503b617b-d4da-43fd-ff67-1aa2cc32752d"
      },
      "execution_count": 173,
      "outputs": [
        {
          "output_type": "stream",
          "name": "stdout",
          "text": [
            "Overwriting pratica.py\n"
          ]
        }
      ]
    },
    {
      "cell_type": "markdown",
      "source": [
        "Teste prévio com base parcial"
      ],
      "metadata": {
        "id": "_mEi9Dn6yjKE"
      }
    },
    {
      "cell_type": "code",
      "source": [
        "!rm -rf /content/atividade\n",
        "!python pratica.py /content/base_sample.csv --output-dir=/content/atividade\n",
        "print('\\nTop 10 Entradas da atividade')\n",
        "!cat /content/atividade/* | sort -k2,2rn -t$'\\t' | head -10"
      ],
      "metadata": {
        "id": "eny-_aXYyjKE",
        "colab": {
          "base_uri": "https://localhost:8080/"
        },
        "outputId": "35a90284-20c4-4693-e1df-7d0cd6ee4dba"
      },
      "execution_count": 174,
      "outputs": [
        {
          "output_type": "stream",
          "name": "stdout",
          "text": [
            "No configs found; falling back on auto-configuration\n",
            "No configs specified for inline runner\n",
            "Running step 1 of 1...\n",
            "Creating temp directory /tmp/pratica.root.20231019.223613.784920\n",
            "job output is in /content/atividade\n",
            "Removing temp directory /tmp/pratica.root.20231019.223613.784920...\n",
            "\n",
            "Top 10 Entradas da atividade\n",
            "\"2012\"\t1628\n",
            "\"2013\"\t1621\n",
            "\"2003\"\t1580\n",
            "\"2010\"\t1571\n",
            "\"2014\"\t1568\n",
            "\"2011\"\t1566\n",
            "\"2001\"\t1557\n",
            "\"2015\"\t1551\n",
            "\"2000\"\t1549\n",
            "\"2007\"\t1538\n"
          ]
        }
      ]
    },
    {
      "cell_type": "markdown",
      "source": [
        "Teste com base completa"
      ],
      "metadata": {
        "id": "z4kWzYVRyjKE"
      }
    },
    {
      "cell_type": "code",
      "source": [
        "!rm -rf /content/atividade\n",
        "!python pratica.py /content/base.csv --output-dir=/content/atividade\n",
        "print('\\nTop 10 Entradas da atividade')\n",
        "!cat /content/atividade/* | sort -k2,2rn -t$'\\t' | head -10"
      ],
      "metadata": {
        "id": "hvin6ScgyjKE",
        "colab": {
          "base_uri": "https://localhost:8080/"
        },
        "outputId": "098d7ee0-2609-4988-c4b8-e4a011be122d"
      },
      "execution_count": 175,
      "outputs": [
        {
          "output_type": "stream",
          "name": "stdout",
          "text": [
            "No configs found; falling back on auto-configuration\n",
            "No configs specified for inline runner\n",
            "Running step 1 of 1...\n",
            "Creating temp directory /tmp/pratica.root.20231019.223614.811797\n",
            "job output is in /content/atividade\n",
            "Removing temp directory /tmp/pratica.root.20231019.223614.811797...\n",
            "\n",
            "Top 10 Entradas da atividade\n",
            "\"2012\"\t137457\n",
            "\"2011\"\t137418\n",
            "\"2010\"\t137198\n",
            "\"2009\"\t136645\n",
            "\"2006\"\t135996\n",
            "\"2007\"\t135855\n",
            "\"2013\"\t135501\n",
            "\"2005\"\t133867\n",
            "\"2014\"\t133270\n",
            "\"2008\"\t133210\n"
          ]
        }
      ]
    },
    {
      "cell_type": "code",
      "source": [],
      "metadata": {
        "id": "q-bLnjYLyjKF"
      },
      "execution_count": 175,
      "outputs": []
    },
    {
      "cell_type": "code",
      "source": [],
      "metadata": {
        "id": "Ahv4igj0u5K5"
      },
      "execution_count": 175,
      "outputs": []
    },
    {
      "cell_type": "markdown",
      "source": [
        "### Informação 4\n",
        " - Mercadoria com maior quantidade de transações financeiras;"
      ],
      "metadata": {
        "id": "fPD9zvZpyn86"
      }
    },
    {
      "cell_type": "code",
      "source": [
        "%%file pratica.py\n",
        "from mrjob.job import MRJob\n",
        "import sys\n",
        "\n",
        "class WordCount(MRJob):\n",
        "    def mapper(self, _, linha):\n",
        "      try:\n",
        "        campos = linha.split(';')\n",
        "        comm = campos[3]\n",
        "        yield(comm, 1)\n",
        "      except:\n",
        "        pass\n",
        "\n",
        "    def reducer(self, chave, valores):\n",
        "      valor = 0\n",
        "      for v in valores:\n",
        "        valor = valor + v\n",
        "      yield(chave, valor)\n",
        "\n",
        "if __name__ == '__main__':\n",
        "     WordCount.run()"
      ],
      "metadata": {
        "id": "kwD8KEQwyn8_",
        "colab": {
          "base_uri": "https://localhost:8080/"
        },
        "outputId": "4205007e-4996-4707-83f2-d12b7c1333b3"
      },
      "execution_count": 176,
      "outputs": [
        {
          "output_type": "stream",
          "name": "stdout",
          "text": [
            "Overwriting pratica.py\n"
          ]
        }
      ]
    },
    {
      "cell_type": "markdown",
      "source": [
        "Teste prévio com base parcial"
      ],
      "metadata": {
        "id": "WF0iV2oVyn8_"
      }
    },
    {
      "cell_type": "code",
      "source": [
        "!rm -rf /content/atividade\n",
        "!python pratica.py /content/base_sample.csv --output-dir=/content/atividade\n",
        "print('\\nTop 10 Entradas da atividade')\n",
        "!cat /content/atividade/* | sort -k2,2rn -t$'\\t' | head -10"
      ],
      "metadata": {
        "id": "B6vjFM_myn8_",
        "colab": {
          "base_uri": "https://localhost:8080/"
        },
        "outputId": "4b2dd64b-0a2f-4991-edfe-e9e0846eec05"
      },
      "execution_count": 177,
      "outputs": [
        {
          "output_type": "stream",
          "name": "stdout",
          "text": [
            "No configs found; falling back on auto-configuration\n",
            "No configs specified for inline runner\n",
            "Running step 1 of 1...\n",
            "Creating temp directory /tmp/pratica.root.20231019.223654.035698\n",
            "job output is in /content/atividade\n",
            "Removing temp directory /tmp/pratica.root.20231019.223654.035698...\n",
            "\n",
            "Top 10 Entradas da atividade\n",
            "\"Animals, live, except farm animals\"\t4413\n",
            "\"Fowls, live domestic < 185 grams\"\t3383\n",
            "\"Horses, live except pure-bred breeding\"\t3331\n",
            "\"Horses, live pure-bred breeding\"\t2971\n",
            "\"Bovine animals, live, except pure-bred breeding\"\t2758\n",
            "\"Poultry, live except domestic fowls, < 185 grams\"\t2494\n",
            "\"Bovine animals, live pure-bred breeding\"\t2490\n",
            "\"Sheep, live\"\t2287\n",
            "\"Goats, live\"\t2002\n",
            "\"Poultry, live except domestic fowls, > 185 grams\"\t1991\n"
          ]
        }
      ]
    },
    {
      "cell_type": "markdown",
      "source": [
        "Teste com base completa"
      ],
      "metadata": {
        "id": "QTri17_Zyn8_"
      }
    },
    {
      "cell_type": "code",
      "source": [
        "!rm -rf /content/atividade\n",
        "!python pratica.py /content/base.csv --output-dir=/content/atividade\n",
        "print('\\nTop 10 Entradas da atividade')\n",
        "!cat /content/atividade/* | sort -k2,2rn -t$'\\t' | head -10"
      ],
      "metadata": {
        "id": "2htfylGCyn8_",
        "colab": {
          "base_uri": "https://localhost:8080/"
        },
        "outputId": "cc942f1d-24ce-440b-a193-75349d497b00"
      },
      "execution_count": 178,
      "outputs": [
        {
          "output_type": "stream",
          "name": "stdout",
          "text": [
            "No configs found; falling back on auto-configuration\n",
            "No configs specified for inline runner\n",
            "Running step 1 of 1...\n",
            "Creating temp directory /tmp/pratica.root.20231019.223655.067155\n",
            "job output is in /content/atividade\n",
            "Removing temp directory /tmp/pratica.root.20231019.223655.067155...\n",
            "\n",
            "Top 10 Entradas da atividade\n",
            "\"Food preparations nes\"\t8048\n",
            "\"Sugar confectionery not chewing gum, no cocoa content\"\t7764\n",
            "\"Sauces nes, mixed condiments, mixed seasoning\"\t7693\n",
            "\"Cigarettes containing tobacco\"\t7620\n",
            "\"Communion wafers, rice paper, bakers wares nes\"\t7530\n",
            "\"Sweet biscuits, waffles and wafers\"\t7402\n",
            "\"Chocolate/cocoa food preparations nes\"\t7267\n",
            "\"Refined sugar, in solid form, nes, pure sucrose\"\t7258\n",
            "\"Animal feed preparations nes\"\t7242\n",
            "\"Coffee extracts, essences, concentrates, preparations\"\t7043\n"
          ]
        }
      ]
    },
    {
      "cell_type": "code",
      "source": [],
      "metadata": {
        "id": "fkO_RJ3syn8_"
      },
      "execution_count": 178,
      "outputs": []
    },
    {
      "cell_type": "code",
      "source": [],
      "metadata": {
        "id": "bp16PeVuu5Ic"
      },
      "execution_count": 178,
      "outputs": []
    },
    {
      "cell_type": "markdown",
      "source": [
        "### Informação 5\n",
        " - Mercadoria com maior quantidade de transações financeiras em 2016"
      ],
      "metadata": {
        "id": "4utZ6Yq9yrFq"
      }
    },
    {
      "cell_type": "code",
      "source": [
        "%%file pratica.py\n",
        "from mrjob.job import MRJob\n",
        "import sys\n",
        "\n",
        "class WordCount(MRJob):\n",
        "    def mapper(self, _, linha):\n",
        "      try:\n",
        "        campos = linha.split(';')\n",
        "        year = campos[1]\n",
        "        if year == \"2016\":\n",
        "          comm = campos[3]\n",
        "          yield(comm, 1)\n",
        "      except:\n",
        "        pass\n",
        "\n",
        "    def reducer(self, chave, valores):\n",
        "      valor = 0\n",
        "      for v in valores:\n",
        "        valor = valor + v\n",
        "      yield(chave, valor)\n",
        "\n",
        "if __name__ == '__main__':\n",
        "     WordCount.run()"
      ],
      "metadata": {
        "id": "_ErOALrAyrFv",
        "colab": {
          "base_uri": "https://localhost:8080/"
        },
        "outputId": "d76cfb44-5382-4956-96f6-d7baf2d41018"
      },
      "execution_count": 179,
      "outputs": [
        {
          "output_type": "stream",
          "name": "stdout",
          "text": [
            "Overwriting pratica.py\n"
          ]
        }
      ]
    },
    {
      "cell_type": "markdown",
      "source": [
        "Teste prévio com base parcial"
      ],
      "metadata": {
        "id": "mAnHtbF0yrFv"
      }
    },
    {
      "cell_type": "code",
      "source": [
        "!rm -rf /content/atividade\n",
        "!python pratica.py /content/base_sample.csv --output-dir=/content/atividade\n",
        "print('\\nTop 10 Entradas da atividade')\n",
        "!cat /content/atividade/* | sort -k2,2rn -t$'\\t' | head -10"
      ],
      "metadata": {
        "id": "TypZLtILyrFv",
        "colab": {
          "base_uri": "https://localhost:8080/"
        },
        "outputId": "658007c6-76a5-4a4a-ef27-54ab6c23bd0c"
      },
      "execution_count": 180,
      "outputs": [
        {
          "output_type": "stream",
          "name": "stdout",
          "text": [
            "No configs found; falling back on auto-configuration\n",
            "No configs specified for inline runner\n",
            "Running step 1 of 1...\n",
            "Creating temp directory /tmp/pratica.root.20231019.223737.407964\n",
            "job output is in /content/atividade\n",
            "Removing temp directory /tmp/pratica.root.20231019.223737.407964...\n",
            "\n",
            "Top 10 Entradas da atividade\n",
            "\"Animals, live, except farm animals\"\t161\n",
            "\"Horses, live except pure-bred breeding\"\t121\n",
            "\"Fowls, live domestic < 185 grams\"\t119\n",
            "\"Horses, live pure-bred breeding\"\t107\n",
            "\"Bovine animals, live, except pure-bred breeding\"\t98\n",
            "\"Bovine animals, live pure-bred breeding\"\t89\n",
            "\"Sheep, live\"\t86\n",
            "\"Swine, live pure-bred breeding\"\t71\n",
            "\"Goats, live\"\t70\n",
            "\"Poultry, live except domestic fowls, > 185 grams\"\t69\n"
          ]
        }
      ]
    },
    {
      "cell_type": "markdown",
      "source": [
        "Teste com base completa"
      ],
      "metadata": {
        "id": "vSmaRLqhyrFv"
      }
    },
    {
      "cell_type": "code",
      "source": [
        "!rm -rf /content/atividade\n",
        "!python pratica.py /content/base.csv --output-dir=/content/atividade\n",
        "print('\\nTop 10 Entradas da atividade')\n",
        "!cat /content/atividade/* | sort -k2,2rn -t$'\\t' | head -10"
      ],
      "metadata": {
        "id": "y9KUZH7UyrFv",
        "colab": {
          "base_uri": "https://localhost:8080/"
        },
        "outputId": "b79c79b1-2026-4417-9781-c3b80e76fea4"
      },
      "execution_count": 181,
      "outputs": [
        {
          "output_type": "stream",
          "name": "stdout",
          "text": [
            "No configs found; falling back on auto-configuration\n",
            "No configs specified for inline runner\n",
            "Running step 1 of 1...\n",
            "Creating temp directory /tmp/pratica.root.20231019.223738.145313\n",
            "job output is in /content/atividade\n",
            "Removing temp directory /tmp/pratica.root.20231019.223738.145313...\n",
            "\n",
            "Top 10 Entradas da atividade\n",
            "\"Food preparations nes\"\t278\n",
            "\"Cigarettes containing tobacco\"\t272\n",
            "\"Communion wafers, rice paper, bakers wares nes\"\t269\n",
            "\"Sauces nes, mixed condiments, mixed seasoning\"\t268\n",
            "\"Sugar confectionery not chewing gum, no cocoa content\"\t267\n",
            "\"Sweet biscuits, waffles and wafers\"\t267\n",
            "\"Chocolate/cocoa food preparations nes\"\t258\n",
            "\"Malt extract & limited cocoa pastrycooks products nes\"\t251\n",
            "\"Animal feed preparations nes\"\t249\n",
            "\"Coffee extracts, essences, concentrates, preparations\"\t249\n"
          ]
        }
      ]
    },
    {
      "cell_type": "code",
      "source": [],
      "metadata": {
        "id": "4YS5c4MCyrFv"
      },
      "execution_count": 181,
      "outputs": []
    },
    {
      "cell_type": "code",
      "source": [],
      "metadata": {
        "id": "Rge_TgkAu5F4"
      },
      "execution_count": 181,
      "outputs": []
    },
    {
      "cell_type": "markdown",
      "source": [
        "### Informação 6\n",
        " - Mercadoria com maior quantidade de transações financeiras em 2016, no Brasil (como a base de dados está em inglês utilize Brazil, com Z);"
      ],
      "metadata": {
        "id": "APUwOzdyyvpe"
      }
    },
    {
      "cell_type": "code",
      "source": [
        "%%file pratica.py\n",
        "from mrjob.job import MRJob\n",
        "import sys\n",
        "\n",
        "class WordCount(MRJob):\n",
        "    def mapper(self, _, linha):\n",
        "      try:\n",
        "        campos = linha.split(';')\n",
        "        country = campos[0]\n",
        "        year = campos[1]\n",
        "        if country == \"Brazil\" and year == \"2016\":\n",
        "          comm = campos[3]\n",
        "          yield(comm, 1)\n",
        "      except:\n",
        "        pass\n",
        "\n",
        "    def reducer(self, chave, valores):\n",
        "      valor = 0\n",
        "      for v in valores:\n",
        "        valor = valor + v\n",
        "      yield(chave, valor)\n",
        "\n",
        "if __name__ == '__main__':\n",
        "     WordCount.run()"
      ],
      "metadata": {
        "id": "SbaG0ezVyvpk",
        "colab": {
          "base_uri": "https://localhost:8080/"
        },
        "outputId": "4dc0bb8a-ced2-4746-e091-b33226bbfacd"
      },
      "execution_count": 182,
      "outputs": [
        {
          "output_type": "stream",
          "name": "stdout",
          "text": [
            "Overwriting pratica.py\n"
          ]
        }
      ]
    },
    {
      "cell_type": "markdown",
      "source": [
        "Teste prévio com base parcial"
      ],
      "metadata": {
        "id": "F3Y6CycEyvpk"
      }
    },
    {
      "cell_type": "code",
      "source": [
        "!rm -rf /content/atividade\n",
        "!python pratica.py /content/base_sample.csv --output-dir=/content/atividade\n",
        "print('\\nTop 10 Entradas da atividade')\n",
        "!cat /content/atividade/* | sort -k2,2rn -t$'\\t' | head -10"
      ],
      "metadata": {
        "id": "mbiO7Tugyvpk",
        "colab": {
          "base_uri": "https://localhost:8080/"
        },
        "outputId": "72915bca-6aa1-4e23-fa59-c7890efb55cf"
      },
      "execution_count": 183,
      "outputs": [
        {
          "output_type": "stream",
          "name": "stdout",
          "text": [
            "No configs found; falling back on auto-configuration\n",
            "No configs specified for inline runner\n",
            "Running step 1 of 1...\n",
            "Creating temp directory /tmp/pratica.root.20231019.223748.435233\n",
            "job output is in /content/atividade\n",
            "Removing temp directory /tmp/pratica.root.20231019.223748.435233...\n",
            "\n",
            "Top 10 Entradas da atividade\n",
            "\"Animals, live, except farm animals\"\t2\n",
            "\"Bovine animals, live, except pure-bred breeding\"\t2\n",
            "\"Bovine animals, live pure-bred breeding\"\t2\n",
            "\"Fowls, live domestic < 185 grams\"\t2\n",
            "\"Horses, live except pure-bred breeding\"\t2\n",
            "\"Horses, live pure-bred breeding\"\t2\n",
            "\"Swine, live pure-bred breeding\"\t2\n",
            "\"Fowls, live domestic > 185 grams\"\t1\n",
            "\"Sheep, live\"\t1\n",
            "\"Swine, live except pure-bred breeding < 50 kg\"\t1\n"
          ]
        }
      ]
    },
    {
      "cell_type": "markdown",
      "source": [
        "Teste com base completa"
      ],
      "metadata": {
        "id": "NqlnhhIayvpk"
      }
    },
    {
      "cell_type": "code",
      "source": [
        "!rm -rf /content/atividade\n",
        "!python pratica.py /content/base.csv --output-dir=/content/atividade\n",
        "print('\\nTop 10 Entradas da atividade')\n",
        "!cat /content/atividade/* | sort -k2,2rn -t$'\\t' | head -10"
      ],
      "metadata": {
        "id": "tbIqSMX2yvpk",
        "colab": {
          "base_uri": "https://localhost:8080/"
        },
        "outputId": "f9461121-3d19-407d-e9fa-ac6569b49d64"
      },
      "execution_count": 184,
      "outputs": [
        {
          "output_type": "stream",
          "name": "stdout",
          "text": [
            "No configs found; falling back on auto-configuration\n",
            "No configs specified for inline runner\n",
            "Running step 1 of 1...\n",
            "Creating temp directory /tmp/pratica.root.20231019.223749.185031\n",
            "job output is in /content/atividade\n",
            "Removing temp directory /tmp/pratica.root.20231019.223749.185031...\n",
            "\n",
            "Top 10 Entradas da atividade\n",
            "\"Acid and mordant dyes and preparations based thereon\"\t2\n",
            "\"Acrylic or vinyl polymer paint or varnish, non-aqueou\"\t2\n",
            "\"Acrylic & vinyl polymer based paint, varnish, in wate\"\t2\n",
            "\"Adrenal cortical hormones, in dosage\"\t2\n",
            "\"Agar-agar\"\t2\n",
            "\"Agarbatti, odorifers operated by burning\"\t2\n",
            "\"Agglomerated dolomite (including tarred dolomite)\"\t2\n",
            "\"Alcoholic liqueurs nes\"\t2\n",
            "\"Alkali metals other than sodium\"\t2\n",
            "\"Alkaloids, derivs, no antibiotics, hormones, in dosag\"\t2\n"
          ]
        }
      ]
    },
    {
      "cell_type": "code",
      "source": [],
      "metadata": {
        "id": "qlGdNFBzu5Dg"
      },
      "execution_count": 184,
      "outputs": []
    },
    {
      "cell_type": "code",
      "source": [],
      "metadata": {
        "id": "3Y2AxxGvu5A8"
      },
      "execution_count": 184,
      "outputs": []
    },
    {
      "cell_type": "code",
      "source": [],
      "metadata": {
        "id": "wNBGMv9fu4-f"
      },
      "execution_count": 184,
      "outputs": []
    },
    {
      "cell_type": "markdown",
      "source": [
        "### Informação 7\n",
        " - Mercadoria com maior total de peso, de acordo com todas transações comerciais;"
      ],
      "metadata": {
        "id": "RvBTwoeJyz-3"
      }
    },
    {
      "cell_type": "code",
      "source": [
        "%%file pratica.py\n",
        "from mrjob.job import MRJob\n",
        "import sys\n",
        "\n",
        "class WordCount(MRJob):\n",
        "    def mapper(self, _, linha):\n",
        "      try:\n",
        "        campos = linha.split(';')\n",
        "        comm = campos[3]\n",
        "        weight = float(campos[6])\n",
        "        yield(comm, weight)\n",
        "      except:\n",
        "        pass\n",
        "\n",
        "    def reducer(self, chave, valores):\n",
        "      valor = 0\n",
        "      for v in valores:\n",
        "        valor = valor + v\n",
        "      yield(chave, valor)\n",
        "\n",
        "if __name__ == '__main__':\n",
        "     WordCount.run()"
      ],
      "metadata": {
        "id": "WczDWkUlyz-4",
        "colab": {
          "base_uri": "https://localhost:8080/"
        },
        "outputId": "0efa6c62-fa54-4c42-cc67-3e1ada1e19ac"
      },
      "execution_count": 185,
      "outputs": [
        {
          "output_type": "stream",
          "name": "stdout",
          "text": [
            "Overwriting pratica.py\n"
          ]
        }
      ]
    },
    {
      "cell_type": "markdown",
      "source": [
        "Teste prévio com base parcial"
      ],
      "metadata": {
        "id": "uTADJ3X1yz-4"
      }
    },
    {
      "cell_type": "code",
      "source": [
        "!rm -rf /content/atividade\n",
        "!python pratica.py /content/base_sample.csv --output-dir=/content/atividade\n",
        "print('\\nTop 10 Entradas da atividade')\n",
        "!cat /content/atividade/* | sort -k2,2rn -t$'\\t' | head -10"
      ],
      "metadata": {
        "id": "KsmAF-rfyz-4",
        "colab": {
          "base_uri": "https://localhost:8080/"
        },
        "outputId": "70d99307-222e-4638-e9f5-a14eea000599"
      },
      "execution_count": 186,
      "outputs": [
        {
          "output_type": "stream",
          "name": "stdout",
          "text": [
            "No configs found; falling back on auto-configuration\n",
            "No configs specified for inline runner\n",
            "Running step 1 of 1...\n",
            "Creating temp directory /tmp/pratica.root.20231019.223758.566514\n",
            "job output is in /content/atividade\n",
            "Removing temp directory /tmp/pratica.root.20231019.223758.566514...\n",
            "\n",
            "Top 10 Entradas da atividade\n",
            "\"Bovine animals, live, except pure-bred breeding\"\t72350442141.0\n",
            "\"Swine, live except pure-bred breeding > 50 kg\"\t38798669146.0\n",
            "\"Fowls, live domestic > 185 grams\"\t18665789461.0\n",
            "\"Sheep, live\"\t13771569405.0\n",
            "\"Swine, live except pure-bred breeding < 50 kg\"\t12228873816.0\n",
            "\"Bovine animals, live pure-bred breeding\"\t7733896254.0\n",
            "\"Poultry, live except domestic fowls, > 185 grams\"\t4546972430.0\n",
            "\"Horses, live except pure-bred breeding\"\t2396204313.0\n",
            "\"Animals, live, except farm animals\"\t1469485365.0\n",
            "\"Fowls, live domestic < 185 grams\"\t1404224958.0\n"
          ]
        }
      ]
    },
    {
      "cell_type": "markdown",
      "source": [
        "Teste com base completa"
      ],
      "metadata": {
        "id": "HL-Wyb31yz-4"
      }
    },
    {
      "cell_type": "code",
      "source": [
        "!rm -rf /content/atividade\n",
        "!python pratica.py /content/base.csv --output-dir=/content/atividade\n",
        "print('\\nTop 10 Entradas da atividade')\n",
        "!cat /content/atividade/* | sort -k2,2rn -t$'\\t' | head -10"
      ],
      "metadata": {
        "id": "JnVrO-8jyz-4",
        "colab": {
          "base_uri": "https://localhost:8080/"
        },
        "outputId": "7aa595e9-0ba4-4b03-cd69-36b64539f5e6"
      },
      "execution_count": 187,
      "outputs": [
        {
          "output_type": "stream",
          "name": "stdout",
          "text": [
            "No configs found; falling back on auto-configuration\n",
            "No configs specified for inline runner\n",
            "Running step 1 of 1...\n",
            "Creating temp directory /tmp/pratica.root.20231019.223759.600447\n",
            "job output is in /content/atividade\n",
            "Removing temp directory /tmp/pratica.root.20231019.223759.600447...\n",
            "\n",
            "Top 10 Entradas da atividade\n",
            "\"Petroleum oils, oils from bituminous minerals, crude\"\t46002412921988.0\n",
            "\"Iron ore, concentrate, not iron pyrites,unagglomerate\"\t34878419167261.0\n",
            "\"Ice, snow and potable water not sweetened or flavoure\"\t25759966772196.0\n",
            "\"Bituminous coal, not agglomerated\"\t21959118134095.0\n",
            "\"Oils petroleum, bituminous, distillates, except crude\"\t19216117424056.0\n",
            "\"Natural gas in gaseous state\"\t10696575625293.0\n",
            "\"Iron ore, concentrate, not iron pyrites, agglomerated\"\t7116880502870.0\n",
            "\"Coal except anthracite or bituminous, not agglomerate\"\t6161036788891.0\n",
            "\"Wheat except durum wheat, and meslin\"\t5452684784869.0\n",
            "\"Natural gas, liquefied\"\t5297769728104.0\n"
          ]
        }
      ]
    },
    {
      "cell_type": "code",
      "source": [],
      "metadata": {
        "id": "ImGJNqpEu48B"
      },
      "execution_count": 187,
      "outputs": []
    },
    {
      "cell_type": "code",
      "source": [],
      "metadata": {
        "id": "u2so-zAMu45j"
      },
      "execution_count": 187,
      "outputs": []
    },
    {
      "cell_type": "code",
      "source": [],
      "metadata": {
        "id": "WwUdKFhmu43O"
      },
      "execution_count": 187,
      "outputs": []
    },
    {
      "cell_type": "markdown",
      "source": [
        "### Informação 8\n",
        " - Mercadoria com maior total de peso, de acordo com todas transações comerciais, separadas de acordo com o ano;"
      ],
      "metadata": {
        "id": "SobP-0thy4ju"
      }
    },
    {
      "cell_type": "code",
      "source": [
        "%%file pratica.py\n",
        "from mrjob.job import MRJob\n",
        "import sys\n",
        "\n",
        "class WordCount(MRJob):\n",
        "    def mapper(self, _, linha):\n",
        "      try:\n",
        "        campos = linha.split(';')\n",
        "        year = campos[1]\n",
        "        comm = campos[3]\n",
        "        weight = float(campos[6])\n",
        "        yield(comm + \" \" + year, weight)\n",
        "      except:\n",
        "        pass\n",
        "\n",
        "    def reducer(self, chave, valores):\n",
        "      valor = 0\n",
        "      for v in valores:\n",
        "        valor = valor + v\n",
        "      yield(chave, valor)\n",
        "\n",
        "if __name__ == '__main__':\n",
        "     WordCount.run()"
      ],
      "metadata": {
        "id": "05zNdsbHy4jz",
        "colab": {
          "base_uri": "https://localhost:8080/"
        },
        "outputId": "3b667cac-f026-4e4a-c8fb-57a2dfa65d9e"
      },
      "execution_count": 188,
      "outputs": [
        {
          "output_type": "stream",
          "name": "stdout",
          "text": [
            "Overwriting pratica.py\n"
          ]
        }
      ]
    },
    {
      "cell_type": "markdown",
      "source": [
        "Teste prévio com base parcial"
      ],
      "metadata": {
        "id": "tmMJjUvgy4jz"
      }
    },
    {
      "cell_type": "code",
      "source": [
        "!rm -rf /content/atividade\n",
        "!python pratica.py /content/base_sample.csv --output-dir=/content/atividade\n",
        "print('\\nTop 10 Entradas da atividade')\n",
        "!cat /content/atividade/* | sort -k2,2rn -t$'\\t' | head -10"
      ],
      "metadata": {
        "id": "KbnBoKTRy4jz",
        "colab": {
          "base_uri": "https://localhost:8080/"
        },
        "outputId": "28d0e9f0-7f6a-44c5-e814-0ca54d9ee15a"
      },
      "execution_count": 189,
      "outputs": [
        {
          "output_type": "stream",
          "name": "stdout",
          "text": [
            "No configs found; falling back on auto-configuration\n",
            "No configs specified for inline runner\n",
            "Running step 1 of 1...\n",
            "Creating temp directory /tmp/pratica.root.20231019.223844.552222\n",
            "job output is in /content/atividade\n",
            "Removing temp directory /tmp/pratica.root.20231019.223844.552222...\n",
            "\n",
            "Top 10 Entradas da atividade\n",
            "\"Bovine animals, live, except pure-bred breeding 2011\"\t3790561468.0\n",
            "\"Bovine animals, live, except pure-bred breeding 2010\"\t3725385865.0\n",
            "\"Bovine animals, live, except pure-bred breeding 2009\"\t3667337654.0\n",
            "\"Bovine animals, live, except pure-bred breeding 2007\"\t3582928269.0\n",
            "\"Bovine animals, live, except pure-bred breeding 2012\"\t3532005526.0\n",
            "\"Bovine animals, live, except pure-bred breeding 2006\"\t3474206442.0\n",
            "\"Bovine animals, live, except pure-bred breeding 2008\"\t3438256284.0\n",
            "\"Bovine animals, live, except pure-bred breeding 2013\"\t3438146811.0\n",
            "\"Bovine animals, live, except pure-bred breeding 2015\"\t3430878298.0\n",
            "\"Bovine animals, live, except pure-bred breeding 2005\"\t3358493111.0\n"
          ]
        }
      ]
    },
    {
      "cell_type": "markdown",
      "source": [
        "Teste com base completa"
      ],
      "metadata": {
        "id": "7EGKWFCLy4jz"
      }
    },
    {
      "cell_type": "code",
      "source": [
        "!rm -rf /content/atividade\n",
        "!python pratica.py /content/base.csv --output-dir=/content/atividade\n",
        "print('\\nTop 10 Entradas da atividade')\n",
        "!cat /content/atividade/* | sort -k2,2rn -t$'\\t' | head -10"
      ],
      "metadata": {
        "id": "9ejLxdx3y4jz",
        "colab": {
          "base_uri": "https://localhost:8080/"
        },
        "outputId": "88172d01-d0a3-4bc0-8a2f-4c3eb64e90e0"
      },
      "execution_count": 190,
      "outputs": [
        {
          "output_type": "stream",
          "name": "stdout",
          "text": [
            "No configs found; falling back on auto-configuration\n",
            "No configs specified for inline runner\n",
            "Running step 1 of 1...\n",
            "Creating temp directory /tmp/pratica.root.20231019.223845.686747\n",
            "job output is in /content/atividade\n",
            "Removing temp directory /tmp/pratica.root.20231019.223845.686747...\n",
            "\n",
            "Top 10 Entradas da atividade\n",
            "\"Iron ore, concentrate, not iron pyrites,unagglomerate 2016\"\t2706312145364.0\n",
            "\"Iron ore, concentrate, not iron pyrites,unagglomerate 2015\"\t2649415129890.0\n",
            "\"Petroleum oils, oils from bituminous minerals, crude 2010\"\t2613316703587.0\n",
            "\"Iron ore, concentrate, not iron pyrites,unagglomerate 2014\"\t2555725226600.0\n",
            "\"Petroleum oils, oils from bituminous minerals, crude 2011\"\t2547369237511.0\n",
            "\"Petroleum oils, oils from bituminous minerals, crude 2014\"\t2389423152614.0\n",
            "\"Petroleum oils, oils from bituminous minerals, crude 2015\"\t2334398373730.0\n",
            "\"Petroleum oils, oils from bituminous minerals, crude 2012\"\t2319929864134.0\n",
            "\"Iron ore, concentrate, not iron pyrites,unagglomerate 2013\"\t2300741188739.0\n",
            "\"Petroleum oils, oils from bituminous minerals, crude 2013\"\t2267344699510.0\n"
          ]
        }
      ]
    },
    {
      "cell_type": "code",
      "source": [],
      "metadata": {
        "id": "ImpdBWW2u40o"
      },
      "execution_count": 190,
      "outputs": []
    },
    {
      "cell_type": "code",
      "source": [],
      "metadata": {
        "id": "1sKqEUjZu4yL"
      },
      "execution_count": 190,
      "outputs": []
    },
    {
      "cell_type": "markdown",
      "source": [
        "### Informação 9\n",
        " - Média de peso por mercadoria, separadas de acordo com o ano;"
      ],
      "metadata": {
        "id": "ZUWxo-TLy_8l"
      }
    },
    {
      "cell_type": "code",
      "source": [
        "%%file pratica.py\n",
        "from mrjob.job import MRJob\n",
        "import sys\n",
        "\n",
        "class WordCount(MRJob):\n",
        "    def mapper(self, _, linha):\n",
        "      try:\n",
        "        campos = linha.split(';')\n",
        "        year = campos[1]\n",
        "        comm = campos[3]\n",
        "        weight = float(campos[6])\n",
        "        yield(comm + \" \" + year, weight)\n",
        "      except:\n",
        "        pass\n",
        "\n",
        "    def reducer(self, chave, valores):\n",
        "      count = 0\n",
        "      valor = 0\n",
        "      for v in valores:\n",
        "        valor = valor + v\n",
        "        count += 1\n",
        "      avg = valor / count\n",
        "      yield(chave, avg)\n",
        "\n",
        "if __name__ == '__main__':\n",
        "     WordCount.run()"
      ],
      "metadata": {
        "id": "wUGiqVIZy_8q",
        "colab": {
          "base_uri": "https://localhost:8080/"
        },
        "outputId": "b5d54707-ddf7-40c9-d634-5031570443a8"
      },
      "execution_count": 191,
      "outputs": [
        {
          "output_type": "stream",
          "name": "stdout",
          "text": [
            "Overwriting pratica.py\n"
          ]
        }
      ]
    },
    {
      "cell_type": "markdown",
      "source": [
        "Teste prévio com base parcial"
      ],
      "metadata": {
        "id": "bGRepZuCy_8q"
      }
    },
    {
      "cell_type": "code",
      "source": [
        "!rm -rf /content/atividade\n",
        "!python pratica.py /content/base_sample.csv --output-dir=/content/atividade\n",
        "print('\\nTop 10 Entradas da atividade')\n",
        "!cat /content/atividade/* | sort -k2,2rn -t$'\\t' | head -10"
      ],
      "metadata": {
        "id": "crWXiZyfy_8q",
        "colab": {
          "base_uri": "https://localhost:8080/"
        },
        "outputId": "08108917-93e9-47fc-d817-bd2e5d8af1f2"
      },
      "execution_count": 192,
      "outputs": [
        {
          "output_type": "stream",
          "name": "stdout",
          "text": [
            "No configs found; falling back on auto-configuration\n",
            "No configs specified for inline runner\n",
            "Running step 1 of 1...\n",
            "Creating temp directory /tmp/pratica.root.20231019.223932.973329\n",
            "job output is in /content/atividade\n",
            "Removing temp directory /tmp/pratica.root.20231019.223932.973329...\n",
            "\n",
            "Top 10 Entradas da atividade\n",
            "\"Sheep, live 1988\"\t54003615.0\n",
            "\"Swine, live except pure-bred breeding > 50 kg 2008\"\t43181538.152542375\n",
            "\"Swine, live except pure-bred breeding > 50 kg 2011\"\t36794547.88888889\n",
            "\"Swine, live except pure-bred breeding > 50 kg 2013\"\t35665136.307692304\n",
            "\"Swine, live except pure-bred breeding > 50 kg 1988\"\t35478237.5\n",
            "\"Swine, live except pure-bred breeding > 50 kg 2014\"\t34317240.484375\n",
            "\"Fowls, live domestic > 185 grams 2016\"\t33725574.385964915\n",
            "\"Swine, live except pure-bred breeding > 50 kg 2007\"\t32519872.38596491\n",
            "\"Swine, live except pure-bred breeding > 50 kg 2016\"\t32402963.825396825\n",
            "\"Swine, live except pure-bred breeding > 50 kg 2009\"\t32227585.830985915\n"
          ]
        }
      ]
    },
    {
      "cell_type": "markdown",
      "source": [
        "Teste com base completa"
      ],
      "metadata": {
        "id": "SZtzQlWCy_8q"
      }
    },
    {
      "cell_type": "code",
      "source": [
        "!rm -rf /content/atividade\n",
        "!python pratica.py /content/base.csv --output-dir=/content/atividade\n",
        "print('\\nTop 10 Entradas da atividade')\n",
        "!cat /content/atividade/* | sort -k2,2rn -t$'\\t' | head -10"
      ],
      "metadata": {
        "id": "aGJtrY9Ky_8q",
        "colab": {
          "base_uri": "https://localhost:8080/"
        },
        "outputId": "0365d63e-3bd8-445d-ad7d-6085dd2082db"
      },
      "execution_count": 193,
      "outputs": [
        {
          "output_type": "stream",
          "name": "stdout",
          "text": [
            "No configs found; falling back on auto-configuration\n",
            "No configs specified for inline runner\n",
            "Running step 1 of 1...\n",
            "Creating temp directory /tmp/pratica.root.20231019.223934.000703\n",
            "job output is in /content/atividade\n",
            "Removing temp directory /tmp/pratica.root.20231019.223934.000703...\n",
            "\n",
            "Top 10 Entradas da atividade\n",
            "\"Bituminous coal, not agglomerated 1988\"\t34557636811.333336\n",
            "\"Oils petroleum, bituminous, distillates, except crude 1999\"\t32343556715.881355\n",
            "\"Petroleum oils, oils from bituminous minerals, crude 1988\"\t30595841803.444443\n",
            "\"Petroleum oils, oils from bituminous minerals, crude 1991\"\t20943228268.56\n",
            "\"Petroleum oils, oils from bituminous minerals, crude 1989\"\t20281057983.18182\n",
            "\"Petroleum oils, oils from bituminous minerals, crude 2010\"\t19648997771.330826\n",
            "\"Petroleum oils, oils from bituminous minerals, crude 1990\"\t18362963582.692307\n",
            "\"Petroleum oils, oils from bituminous minerals, crude 2014\"\t18239871394.0\n",
            "\"Iron ore, concentrate, not iron pyrites,unagglomerate 1988\"\t18002319954.4375\n",
            "\"Petroleum oils, oils from bituminous minerals, crude 2015\"\t17956910567.153847\n"
          ]
        }
      ]
    },
    {
      "cell_type": "code",
      "source": [],
      "metadata": {
        "id": "i2sb5M-Hu4vv"
      },
      "execution_count": 193,
      "outputs": []
    },
    {
      "cell_type": "code",
      "source": [],
      "metadata": {
        "id": "snNWyrcwu4tI"
      },
      "execution_count": 193,
      "outputs": []
    },
    {
      "cell_type": "code",
      "source": [],
      "metadata": {
        "id": "YX0xtSmYu4qj"
      },
      "execution_count": 193,
      "outputs": []
    },
    {
      "cell_type": "markdown",
      "source": [
        "### Informação 10\n",
        " - Média de peso por mercadoria comercializadas no Brasil (como a base de dados está em inglês utilize Brazil, com Z), separadas de acordo com o ano;"
      ],
      "metadata": {
        "id": "stoST7dWzDlr"
      }
    },
    {
      "cell_type": "code",
      "source": [
        "%%file pratica.py\n",
        "from mrjob.job import MRJob\n",
        "import sys\n",
        "\n",
        "class WordCount(MRJob):\n",
        "    def mapper(self, _, linha):\n",
        "      try:\n",
        "        campos = linha.split(';')\n",
        "        country = campos[0]\n",
        "        year = campos[1]\n",
        "        comm = campos[3]\n",
        "        weight = float(campos[6])\n",
        "        if country == \"Brazil\":\n",
        "          yield(comm + \" \" + year, weight)\n",
        "      except:\n",
        "        pass\n",
        "\n",
        "    def reducer(self, chave, valores):\n",
        "      count = 0\n",
        "      valor = 0\n",
        "      for v in valores:\n",
        "        valor = valor + v\n",
        "        count += 1\n",
        "      avg = valor / count\n",
        "      yield(chave, avg)\n",
        "\n",
        "if __name__ == '__main__':\n",
        "     WordCount.run()"
      ],
      "metadata": {
        "id": "LqEgvFWfzDlw",
        "colab": {
          "base_uri": "https://localhost:8080/"
        },
        "outputId": "ab8c563b-6b51-453f-d581-762bed03b0b5"
      },
      "execution_count": 194,
      "outputs": [
        {
          "output_type": "stream",
          "name": "stdout",
          "text": [
            "Overwriting pratica.py\n"
          ]
        }
      ]
    },
    {
      "cell_type": "markdown",
      "source": [
        "Teste prévio com base parcial"
      ],
      "metadata": {
        "id": "jn2yrbtYzDlw"
      }
    },
    {
      "cell_type": "code",
      "source": [
        "!rm -rf /content/atividade\n",
        "!python pratica.py /content/base_sample.csv --output-dir=/content/atividade\n",
        "print('\\nTop 10 Entradas da atividade')\n",
        "!cat /content/atividade/* | sort -k2,2rn -t$'\\t' | head -10"
      ],
      "metadata": {
        "id": "RCBvxdoizDlw",
        "colab": {
          "base_uri": "https://localhost:8080/"
        },
        "outputId": "75760421-ddd2-4aef-8e06-2217a8059e36"
      },
      "execution_count": 195,
      "outputs": [
        {
          "output_type": "stream",
          "name": "stdout",
          "text": [
            "No configs found; falling back on auto-configuration\n",
            "No configs specified for inline runner\n",
            "Running step 1 of 1...\n",
            "Creating temp directory /tmp/pratica.root.20231019.224022.028394\n",
            "job output is in /content/atividade\n",
            "Removing temp directory /tmp/pratica.root.20231019.224022.028394...\n",
            "\n",
            "Top 10 Entradas da atividade\n",
            "\"Bovine animals, live, except pure-bred breeding 2010\"\t163259108.0\n",
            "\"Bovine animals, live, except pure-bred breeding 2013\"\t161980315.0\n",
            "\"Bovine animals, live, except pure-bred breeding 2014\"\t151681448.5\n",
            "\"Bovine animals, live, except pure-bred breeding 2009\"\t134964128.0\n",
            "\"Bovine animals, live, except pure-bred breeding 2012\"\t121096675.0\n",
            "\"Bovine animals, live, except pure-bred breeding 2008\"\t105512865.5\n",
            "\"Bovine animals, live, except pure-bred breeding 2007\"\t102115793.5\n",
            "\"Bovine animals, live, except pure-bred breeding 2011\"\t98217470.0\n",
            "\"Bovine animals, live, except pure-bred breeding 1995\"\t63394422.0\n",
            "\"Bovine animals, live, except pure-bred breeding 1994\"\t52523980.0\n"
          ]
        }
      ]
    },
    {
      "cell_type": "markdown",
      "source": [
        "Teste com base completa"
      ],
      "metadata": {
        "id": "pqkdrGRHzDlw"
      }
    },
    {
      "cell_type": "code",
      "source": [
        "!rm -rf /content/atividade\n",
        "!python pratica.py /content/base.csv --output-dir=/content/atividade\n",
        "print('\\nTop 10 Entradas da atividade')\n",
        "!cat /content/atividade/* | sort -k2,2rn -t$'\\t' | head -10"
      ],
      "metadata": {
        "id": "kenl676YzDlw",
        "colab": {
          "base_uri": "https://localhost:8080/"
        },
        "outputId": "57a827c9-574a-406e-ae8d-e38407e73278"
      },
      "execution_count": 196,
      "outputs": [
        {
          "output_type": "stream",
          "name": "stdout",
          "text": [
            "No configs found; falling back on auto-configuration\n",
            "No configs specified for inline runner\n",
            "Running step 1 of 1...\n",
            "Creating temp directory /tmp/pratica.root.20231019.224023.050799\n",
            "job output is in /content/atividade\n",
            "Removing temp directory /tmp/pratica.root.20231019.224023.050799...\n",
            "\n",
            "Top 10 Entradas da atividade\n",
            "\"Iron ore, concentrate, not iron pyrites,unagglomerate 2016\"\t172274027120.5\n",
            "\"Iron ore, concentrate, not iron pyrites,unagglomerate 2015\"\t157510314215.0\n",
            "\"Iron ore, concentrate, not iron pyrites,unagglomerate 2014\"\t147233395393.0\n",
            "\"Iron ore, concentrate, not iron pyrites,unagglomerate 2013\"\t141076354479.0\n",
            "\"Iron ore, concentrate, not iron pyrites,unagglomerate 2012\"\t137699547522.0\n",
            "\"Iron ore, concentrate, not iron pyrites,unagglomerate 2011\"\t137398453341.5\n",
            "\"Iron ore, concentrate, not iron pyrites,unagglomerate 2008\"\t115846272058.5\n",
            "\"Iron ore, concentrate, not iron pyrites,unagglomerate 2007\"\t109698561880.5\n",
            "\"Iron ore, concentrate, not iron pyrites,unagglomerate 2006\"\t98437833303.5\n",
            "\"Iron ore, concentrate, not iron pyrites,unagglomerate 2005\"\t88478511550.5\n"
          ]
        }
      ]
    },
    {
      "cell_type": "code",
      "source": [],
      "metadata": {
        "id": "zR6d-2dEu4oN"
      },
      "execution_count": 196,
      "outputs": []
    },
    {
      "cell_type": "code",
      "source": [],
      "metadata": {
        "id": "STqmBgGAzIOS"
      },
      "execution_count": 196,
      "outputs": []
    },
    {
      "cell_type": "code",
      "source": [],
      "metadata": {
        "id": "j78H_MabzIMJ"
      },
      "execution_count": 196,
      "outputs": []
    },
    {
      "cell_type": "markdown",
      "source": [
        "### Informação 11\n",
        " - Média de peso por mercadoria comercializadas no Brasil (como a base de dados está em inglês utilize Brazil, com Z), em relação ao fluxo, separadas de acordo com o ano;"
      ],
      "metadata": {
        "id": "oLFGzyoDzIcI"
      }
    },
    {
      "cell_type": "code",
      "source": [
        "%%file pratica.py\n",
        "from mrjob.job import MRJob\n",
        "import sys\n",
        "\n",
        "class WordCount(MRJob):\n",
        "    def mapper(self, _, linha):\n",
        "      try:\n",
        "        campos = linha.split(';')\n",
        "        country = campos[0]\n",
        "        year = campos[1]\n",
        "        comm = campos[3]\n",
        "        flow = campos[4]\n",
        "        weight = float(campos[6])\n",
        "        if country == \"Brazil\":\n",
        "          yield(comm + \" \" + year + \" \" + flow, weight)\n",
        "      except:\n",
        "        pass\n",
        "\n",
        "    def reducer(self, chave, valores):\n",
        "      count = 0\n",
        "      valor = 0\n",
        "      for v in valores:\n",
        "        valor = valor + v\n",
        "        count += 1\n",
        "      avg = valor / count\n",
        "      yield(chave, avg)\n",
        "\n",
        "if __name__ == '__main__':\n",
        "     WordCount.run()"
      ],
      "metadata": {
        "id": "GNxK82UzzIcI",
        "colab": {
          "base_uri": "https://localhost:8080/"
        },
        "outputId": "44560597-8b7c-42cb-b8e3-8db83129be33"
      },
      "execution_count": 197,
      "outputs": [
        {
          "output_type": "stream",
          "name": "stdout",
          "text": [
            "Overwriting pratica.py\n"
          ]
        }
      ]
    },
    {
      "cell_type": "markdown",
      "source": [
        "Teste prévio com base parcial"
      ],
      "metadata": {
        "id": "JS_IRVTpzIcI"
      }
    },
    {
      "cell_type": "code",
      "source": [
        "!rm -rf /content/atividade\n",
        "!python pratica.py /content/base_sample.csv --output-dir=/content/atividade\n",
        "print('\\nTop 10 Entradas da atividade')\n",
        "!cat /content/atividade/* | sort -k2,2rn -t$'\\t' | head -10"
      ],
      "metadata": {
        "id": "haWm3EZFzIcI",
        "colab": {
          "base_uri": "https://localhost:8080/"
        },
        "outputId": "4da98aed-5af6-4e8a-93ca-ec76b4d504f7"
      },
      "execution_count": 198,
      "outputs": [
        {
          "output_type": "stream",
          "name": "stdout",
          "text": [
            "No configs found; falling back on auto-configuration\n",
            "No configs specified for inline runner\n",
            "Running step 1 of 1...\n",
            "Creating temp directory /tmp/pratica.root.20231019.224032.339557\n",
            "job output is in /content/atividade\n",
            "Removing temp directory /tmp/pratica.root.20231019.224032.339557...\n",
            "\n",
            "Top 10 Entradas da atividade\n",
            "\"Bovine animals, live, except pure-bred breeding 2013 Export\"\t323951180.0\n",
            "\"Bovine animals, live, except pure-bred breeding 2010 Export\"\t323732156.0\n",
            "\"Bovine animals, live, except pure-bred breeding 2014 Export\"\t298824624.0\n",
            "\"Bovine animals, live, except pure-bred breeding 2009 Export\"\t257772216.0\n",
            "\"Bovine animals, live, except pure-bred breeding 2012 Export\"\t242159350.0\n",
            "\"Bovine animals, live, except pure-bred breeding 2007 Export\"\t199888037.0\n",
            "\"Bovine animals, live, except pure-bred breeding 2011 Export\"\t194178940.0\n",
            "\"Bovine animals, live, except pure-bred breeding 2008 Export\"\t193144870.0\n",
            "\"Bovine animals, live, except pure-bred breeding 1995 Import\"\t126427408.0\n",
            "\"Bovine animals, live, except pure-bred breeding 1994 Import\"\t104899312.0\n"
          ]
        }
      ]
    },
    {
      "cell_type": "markdown",
      "source": [
        "Teste com base completa"
      ],
      "metadata": {
        "id": "35fJu3DdzIcI"
      }
    },
    {
      "cell_type": "code",
      "source": [
        "!rm -rf /content/atividade\n",
        "!python pratica.py /content/base.csv --output-dir=/content/atividade\n",
        "print('\\nTop 10 Entradas da atividade')\n",
        "!cat /content/atividade/* | sort -k2,2rn -t$'\\t' | head -10"
      ],
      "metadata": {
        "id": "LOyWL0yyzIcI",
        "colab": {
          "base_uri": "https://localhost:8080/"
        },
        "outputId": "0363725d-b83e-497f-a3fa-79df90c0546a"
      },
      "execution_count": 199,
      "outputs": [
        {
          "output_type": "stream",
          "name": "stdout",
          "text": [
            "No configs found; falling back on auto-configuration\n",
            "No configs specified for inline runner\n",
            "Running step 1 of 1...\n",
            "Creating temp directory /tmp/pratica.root.20231019.224033.407701\n",
            "job output is in /content/atividade\n",
            "Removing temp directory /tmp/pratica.root.20231019.224033.407701...\n",
            "\n",
            "Top 10 Entradas da atividade\n",
            "\"Iron ore, concentrate, not iron pyrites,unagglomerate 2016 Export\"\t344548049536.0\n",
            "\"Iron ore, concentrate, not iron pyrites,unagglomerate 2015 Export\"\t315020626912.0\n",
            "\"Iron ore, concentrate, not iron pyrites,unagglomerate 2014 Export\"\t294462274531.0\n",
            "\"Iron ore, concentrate, not iron pyrites,unagglomerate 2013 Export\"\t282152705950.0\n",
            "\"Iron ore, concentrate, not iron pyrites,unagglomerate 2012 Export\"\t275398874690.0\n",
            "\"Iron ore, concentrate, not iron pyrites,unagglomerate 2011 Export\"\t274796905500.0\n",
            "\"Iron ore, concentrate, not iron pyrites,unagglomerate 2010 Export\"\t258820300767.0\n",
            "\"Iron ore, concentrate, not iron pyrites,unagglomerate 2009 Export\"\t235775496309.0\n",
            "\"Iron ore, concentrate, not iron pyrites,unagglomerate 2008 Export\"\t231692519016.0\n",
            "\"Iron ore, concentrate, not iron pyrites,unagglomerate 2007 Export\"\t219397044342.0\n"
          ]
        }
      ]
    },
    {
      "cell_type": "code",
      "source": [],
      "metadata": {
        "id": "XutxGVXlzIcI"
      },
      "execution_count": 199,
      "outputs": []
    },
    {
      "cell_type": "code",
      "source": [],
      "metadata": {
        "id": "rDfo25EpzIJ1"
      },
      "execution_count": 199,
      "outputs": []
    },
    {
      "cell_type": "code",
      "source": [],
      "metadata": {
        "id": "bEVXPMh0zIHs"
      },
      "execution_count": 199,
      "outputs": []
    },
    {
      "cell_type": "markdown",
      "source": [
        "### Informação 12\n",
        " - Preco medio das commodities de acordo com o ano"
      ],
      "metadata": {
        "id": "z5hsFMl2zM1X"
      }
    },
    {
      "cell_type": "code",
      "source": [
        "%%file pratica.py\n",
        "from mrjob.job import MRJob\n",
        "import sys\n",
        "# Médio do preço considerada, no próximo exercício realizo a mediana.\n",
        "class WordCount(MRJob):\n",
        "    def mapper(self, _, linha):\n",
        "      try:\n",
        "        campos = linha.split(';')\n",
        "        year = campos[1]\n",
        "        comm = campos[3]\n",
        "        price = float(campos[5])\n",
        "        yield(comm + \" \" + year, price)\n",
        "      except:\n",
        "        pass\n",
        "\n",
        "    def reducer(self, chave, valores):\n",
        "      count = 0\n",
        "      valor = 0\n",
        "      for v in valores:\n",
        "        valor = valor + v\n",
        "        count += 1\n",
        "      avg = valor / count\n",
        "      yield(chave, avg)\n",
        "\n",
        "if __name__ == '__main__':\n",
        "     WordCount.run()"
      ],
      "metadata": {
        "id": "Jlv_DLqjzM1X",
        "colab": {
          "base_uri": "https://localhost:8080/"
        },
        "outputId": "9bd6b8bd-61e1-4c2a-c128-808a92007f44"
      },
      "execution_count": 200,
      "outputs": [
        {
          "output_type": "stream",
          "name": "stdout",
          "text": [
            "Overwriting pratica.py\n"
          ]
        }
      ]
    },
    {
      "cell_type": "markdown",
      "source": [
        "Teste prévio com base parcial"
      ],
      "metadata": {
        "id": "-kvka7zWzM1Y"
      }
    },
    {
      "cell_type": "code",
      "source": [
        "!rm -rf /content/atividade\n",
        "!python pratica.py /content/base_sample.csv --output-dir=/content/atividade\n",
        "print('\\nTop 10 Entradas da atividade')\n",
        "!cat /content/atividade/* | sort -k2,2rn -t$'\\t' | head -10"
      ],
      "metadata": {
        "id": "h-pRDHbszM1Y",
        "colab": {
          "base_uri": "https://localhost:8080/"
        },
        "outputId": "8afd3f6b-f868-472c-caf3-e8b4ce1ce04a"
      },
      "execution_count": 201,
      "outputs": [
        {
          "output_type": "stream",
          "name": "stdout",
          "text": [
            "No configs found; falling back on auto-configuration\n",
            "No configs specified for inline runner\n",
            "Running step 1 of 1...\n",
            "Creating temp directory /tmp/pratica.root.20231019.224043.372243\n",
            "job output is in /content/atividade\n",
            "Removing temp directory /tmp/pratica.root.20231019.224043.372243...\n",
            "\n",
            "Top 10 Entradas da atividade\n",
            "\"Bovine animals, live, except pure-bred breeding 2016\"\t87946336.62244898\n",
            "\"Bovine animals, live, except pure-bred breeding 2014\"\t87511974.93283582\n",
            "\"Bovine animals, live, except pure-bred breeding 1994\"\t84802246.29166667\n",
            "\"Bovine animals, live, except pure-bred breeding 2013\"\t83745374.140625\n",
            "\"Bovine animals, live, except pure-bred breeding 2010\"\t82026854.73728813\n",
            "\"Bovine animals, live, except pure-bred breeding 2015\"\t80993941.36\n",
            "\"Bovine animals, live, except pure-bred breeding 2012\"\t80702915.28148147\n",
            "\"Bovine animals, live, except pure-bred breeding 2011\"\t79034358.08333333\n",
            "\"Bovine animals, live, except pure-bred breeding 1995\"\t77522772.4090909\n",
            "\"Swine, live except pure-bred breeding > 50 kg 2008\"\t74754526.40677966\n"
          ]
        }
      ]
    },
    {
      "cell_type": "markdown",
      "source": [
        "Teste com base completa"
      ],
      "metadata": {
        "id": "02Y9y0vvzM1Y"
      }
    },
    {
      "cell_type": "code",
      "source": [
        "!rm -rf /content/atividade\n",
        "!python pratica.py /content/base.csv --output-dir=/content/atividade\n",
        "print('\\nTop 10 Entradas da atividade')\n",
        "!cat /content/atividade/* | sort -k2,2rn -t$'\\t' | head -10"
      ],
      "metadata": {
        "id": "X2vSkc4TzM1Y",
        "colab": {
          "base_uri": "https://localhost:8080/"
        },
        "outputId": "3b122e52-4415-43c9-aee6-7a75ef2dc06c"
      },
      "execution_count": 202,
      "outputs": [
        {
          "output_type": "stream",
          "name": "stdout",
          "text": [
            "No configs found; falling back on auto-configuration\n",
            "No configs specified for inline runner\n",
            "Running step 1 of 1...\n",
            "Creating temp directory /tmp/pratica.root.20231019.224044.412058\n",
            "job output is in /content/atividade\n",
            "Removing temp directory /tmp/pratica.root.20231019.224044.412058...\n",
            "\n",
            "Top 10 Entradas da atividade\n",
            "\"Petroleum oils, oils from bituminous minerals, crude 2013\"\t13723863576.050724\n",
            "\"Petroleum oils, oils from bituminous minerals, crude 2012\"\t13609996020.539568\n",
            "\"Petroleum oils, oils from bituminous minerals, crude 2011\"\t13472714007.958334\n",
            "\"Petroleum oils, oils from bituminous minerals, crude 2014\"\t13316552152.374046\n",
            "\"Petroleum oils, oils from bituminous minerals, crude 2008\"\t11022548229.34694\n",
            "\"Petroleum oils, oils from bituminous minerals, crude 2010\"\t10657872601.458647\n",
            "\"Petroleum oils, oils from bituminous minerals, crude 2007\"\t7958776169.427587\n",
            "\"Petroleum oils, oils from bituminous minerals, crude 2006\"\t7945934464.775194\n",
            "\"Petroleum oils, oils from bituminous minerals, crude 2009\"\t7333526442.919118\n",
            "\"Petroleum oils, oils from bituminous minerals, crude 2015\"\t7280237780.876923\n"
          ]
        }
      ]
    },
    {
      "cell_type": "code",
      "source": [],
      "metadata": {
        "id": "0A6Yp5pHzIFe"
      },
      "execution_count": 202,
      "outputs": []
    },
    {
      "cell_type": "code",
      "source": [],
      "metadata": {
        "id": "Atyt8hhmzIC4"
      },
      "execution_count": 202,
      "outputs": []
    },
    {
      "cell_type": "markdown",
      "source": [
        "### Informação 13\n",
        " - Valores maximos, minimos e médios de cada tipo de mercadoria por ano"
      ],
      "metadata": {
        "id": "RZmUJsEJzf81"
      }
    },
    {
      "cell_type": "code",
      "source": [
        "%%file pratica.py\n",
        "from mrjob.job import MRJob\n",
        "import sys\n",
        "import statistics as stat\n",
        "\n",
        "class WordCount(MRJob):\n",
        "    def mapper(self, _, linha):\n",
        "      try:\n",
        "        campos = linha.split(';')\n",
        "        year = campos[1]\n",
        "        comm = campos[3]\n",
        "        price = float(campos[5])\n",
        "        # Caso queira considerar o valor individual da mercadoria em questão, ao invés do valor total, se deve usar as variáveis declaradas e comentadas abaixo.\n",
        "        # qnt = float(campos[8])\n",
        "        # adjustedIndividualPrice = price / qnt\n",
        "        yield(comm + \" \" + year, price)\n",
        "      except:\n",
        "        pass\n",
        "\n",
        "    def reducer(self, chave, valores):\n",
        "      values = list(valores)\n",
        "      maxVal = max(values)\n",
        "      medianVal = stat.median(values)\n",
        "      minVal = min(values)\n",
        "      yield(chave, \"MAX: \" + str(maxVal) + \" MEDIAN: \" + str(medianVal) + \" MIN: \" + str(minVal))\n",
        "\n",
        "if __name__ == '__main__':\n",
        "     WordCount.run()"
      ],
      "metadata": {
        "id": "k3EuPt4zzf81",
        "colab": {
          "base_uri": "https://localhost:8080/"
        },
        "outputId": "907c8b34-9912-45e1-ecc7-6c8546ebbd4d"
      },
      "execution_count": 203,
      "outputs": [
        {
          "output_type": "stream",
          "name": "stdout",
          "text": [
            "Overwriting pratica.py\n"
          ]
        }
      ]
    },
    {
      "cell_type": "markdown",
      "source": [
        "Teste prévio com base parcial"
      ],
      "metadata": {
        "id": "Oy2uz-a3zf82"
      }
    },
    {
      "cell_type": "code",
      "source": [
        "!rm -rf /content/atividade\n",
        "!python pratica.py /content/base_sample.csv --output-dir=/content/atividade\n",
        "print('\\nTop 10 Entradas da atividade')\n",
        "!cat /content/atividade/* | sort -k2,2rn -t$'\\t' | head -10"
      ],
      "metadata": {
        "id": "mtIpVd5Vzf82",
        "colab": {
          "base_uri": "https://localhost:8080/"
        },
        "outputId": "75261327-50c3-48f3-ee5a-ac403e67c451"
      },
      "execution_count": 204,
      "outputs": [
        {
          "output_type": "stream",
          "name": "stdout",
          "text": [
            "No configs found; falling back on auto-configuration\n",
            "No configs specified for inline runner\n",
            "Running step 1 of 1...\n",
            "Creating temp directory /tmp/pratica.root.20231019.224134.439847\n",
            "job output is in /content/atividade\n",
            "Removing temp directory /tmp/pratica.root.20231019.224134.439847...\n",
            "\n",
            "Top 10 Entradas da atividade\n",
            "\"Animals, live, except farm animals 1988\"\t\"MAX: 18051537.0 MEDIAN: 904732.0 MIN: 2189.0\"\n",
            "\"Animals, live, except farm animals 1989\"\t\"MAX: 19134896.0 MEDIAN: 919690.0 MIN: 8860.0\"\n",
            "\"Animals, live, except farm animals 1990\"\t\"MAX: 27268272.0 MEDIAN: 809465.0 MIN: 89.0\"\n",
            "\"Animals, live, except farm animals 1991\"\t\"MAX: 26308977.0 MEDIAN: 361021.0 MIN: 85.0\"\n",
            "\"Animals, live, except farm animals 1992\"\t\"MAX: 35839220.0 MEDIAN: 363299.0 MIN: 50.0\"\n",
            "\"Animals, live, except farm animals 1993\"\t\"MAX: 28373560.0 MEDIAN: 215039.0 MIN: 12.0\"\n",
            "\"Animals, live, except farm animals 1994\"\t\"MAX: 37554432.0 MEDIAN: 254861.5 MIN: 111.0\"\n",
            "\"Animals, live, except farm animals 1995\"\t\"MAX: 39840416.0 MEDIAN: 184695.0 MIN: 50.0\"\n",
            "\"Animals, live, except farm animals 1996\"\t\"MAX: 43962776.0 MEDIAN: 119355.5 MIN: 8.0\"\n",
            "\"Animals, live, except farm animals 1997\"\t\"MAX: 56318333.0 MEDIAN: 129787.0 MIN: 21.0\"\n"
          ]
        }
      ]
    },
    {
      "cell_type": "markdown",
      "source": [
        "Teste com base completa"
      ],
      "metadata": {
        "id": "J77Z57X2zf82"
      }
    },
    {
      "cell_type": "code",
      "source": [
        "!rm -rf /content/atividade\n",
        "!python pratica.py /content/base.csv --output-dir=/content/atividade\n",
        "print('\\nTop 10 Entradas da atividade')\n",
        "!cat /content/atividade/* | sort -k2,2rn -t$'\\t' | head -10"
      ],
      "metadata": {
        "id": "zKs2-K-zzf82",
        "colab": {
          "base_uri": "https://localhost:8080/"
        },
        "outputId": "8a9d2a5a-aae5-4957-f3fd-f86cc6ebe1e1"
      },
      "execution_count": 205,
      "outputs": [
        {
          "output_type": "stream",
          "name": "stdout",
          "text": [
            "No configs found; falling back on auto-configuration\n",
            "No configs specified for inline runner\n",
            "Running step 1 of 1...\n",
            "Creating temp directory /tmp/pratica.root.20231019.224135.566442\n",
            "job output is in /content/atividade\n",
            "Removing temp directory /tmp/pratica.root.20231019.224135.566442...\n",
            "\n",
            "Top 10 Entradas da atividade\n",
            "\"1,2,3,4,5,6-hexachlorocyclohexane 1988\"\t\"MAX: 1649.0 MEDIAN: 1649.0 MIN: 1649.0\"\n",
            "\"1,2,3,4,5,6-hexachlorocyclohexane 1989\"\t\"MAX: 13100.0 MEDIAN: 6553.0 MIN: 6.0\"\n",
            "\"1,2,3,4,5,6-hexachlorocyclohexane 1990\"\t\"MAX: 18254.0 MEDIAN: 18254.0 MIN: 18254.0\"\n",
            "\"1,2,3,4,5,6-hexachlorocyclohexane 1991\"\t\"MAX: 7848.0 MEDIAN: 7848.0 MIN: 7848.0\"\n",
            "\"1,2,3,4,5,6-hexachlorocyclohexane 1992\"\t\"MAX: 25588.0 MEDIAN: 25588.0 MIN: 25588.0\"\n",
            "\"1,2,3,4,5,6-hexachlorocyclohexane 1993\"\t\"MAX: 258476.0 MEDIAN: 140132.5 MIN: 21789.0\"\n",
            "\"1,2,3,4,5,6-hexachlorocyclohexane 1994\"\t\"MAX: 139529.0 MEDIAN: 105506.0 MIN: 4553.0\"\n",
            "\"1,2,3,4,5,6-hexachlorocyclohexane 1995\"\t\"MAX: 484879.0 MEDIAN: 74716.0 MIN: 42.0\"\n",
            "\"1,2,3,4,5,6-hexachlorocyclohexane 1996\"\t\"MAX: 905255.0 MEDIAN: 71742.0 MIN: 111.0\"\n",
            "\"1,2,3,4,5,6-hexachlorocyclohexane 1997\"\t\"MAX: 2373472.0 MEDIAN: 70155.5 MIN: 164.0\"\n"
          ]
        }
      ]
    },
    {
      "cell_type": "code",
      "source": [],
      "metadata": {
        "id": "t9OzspG8zqB0"
      },
      "execution_count": 205,
      "outputs": []
    },
    {
      "cell_type": "code",
      "source": [],
      "metadata": {
        "id": "Stzeb88iztQE"
      },
      "execution_count": 205,
      "outputs": []
    },
    {
      "cell_type": "markdown",
      "source": [
        "### Informação 14\n",
        " - Pais com o maior preco da commodity em fluxos do tipo Export"
      ],
      "metadata": {
        "id": "pcFnYAKoztg2"
      }
    },
    {
      "cell_type": "code",
      "source": [
        "%%file pratica.py\n",
        "from mrjob.job import MRJob\n",
        "import sys\n",
        "\n",
        "class WordCount(MRJob):\n",
        "    def mapper(self, _, linha):\n",
        "      try:\n",
        "        campos = linha.split(';')\n",
        "        country = campos[0]\n",
        "        comm = campos[3]\n",
        "        flow = campos[4]\n",
        "        price = float(campos[5])\n",
        "        if flow == \"Export\":\n",
        "          yield(country + \" - \" + comm , price)\n",
        "      except:\n",
        "        pass\n",
        "\n",
        "    def reducer(self, chave, valores):\n",
        "      values = list(valores)\n",
        "      maxVal = max(values)\n",
        "      yield(chave, maxVal)\n",
        "\n",
        "if __name__ == '__main__':\n",
        "     WordCount.run()"
      ],
      "metadata": {
        "id": "muu3daACztg2",
        "colab": {
          "base_uri": "https://localhost:8080/"
        },
        "outputId": "43fab046-5bd3-4a18-f01d-81b18d15ca12"
      },
      "execution_count": 206,
      "outputs": [
        {
          "output_type": "stream",
          "name": "stdout",
          "text": [
            "Overwriting pratica.py\n"
          ]
        }
      ]
    },
    {
      "cell_type": "markdown",
      "source": [
        "Teste prévio com base parcial"
      ],
      "metadata": {
        "id": "6W-lz6vtztg2"
      }
    },
    {
      "cell_type": "code",
      "source": [
        "!rm -rf /content/atividade\n",
        "!python pratica.py /content/base_sample.csv --output-dir=/content/atividade\n",
        "print('\\nTop 10 Entradas da atividade')\n",
        "!cat /content/atividade/* | sort -k2,2rn -t$'\\t' | head -10"
      ],
      "metadata": {
        "id": "Q1mFjIqBztg2",
        "colab": {
          "base_uri": "https://localhost:8080/"
        },
        "outputId": "b65e3fc2-fcee-464c-cce4-e16cfea0180c"
      },
      "execution_count": 207,
      "outputs": [
        {
          "output_type": "stream",
          "name": "stdout",
          "text": [
            "No configs found; falling back on auto-configuration\n",
            "No configs specified for inline runner\n",
            "Running step 1 of 1...\n",
            "Creating temp directory /tmp/pratica.root.20231019.224222.236400\n",
            "job output is in /content/atividade\n",
            "Removing temp directory /tmp/pratica.root.20231019.224222.236400...\n",
            "\n",
            "Top 10 Entradas da atividade\n",
            "\"France - Bovine animals, live, except pure-bred breeding\"\t1895889152.0\n",
            "\"Canada - Bovine animals, live, except pure-bred breeding\"\t1798687283.0\n",
            "\"Australia - Bovine animals, live, except pure-bred breeding\"\t947455270.0\n",
            "\"Netherlands - Swine, live except pure-bred breeding > 50 kg\"\t902682671.0\n",
            "\"Denmark - Swine, live except pure-bred breeding < 50 kg\"\t881569879.0\n",
            "\"Mexico - Bovine animals, live, except pure-bred breeding\"\t870822705.0\n",
            "\"Brazil - Bovine animals, live, except pure-bred breeding\"\t718200007.0\n",
            "\"EU-28 - Bovine animals, live, except pure-bred breeding\"\t711362708.0\n",
            "\"Netherlands - Swine, live except pure-bred breeding < 50 kg\"\t698861013.0\n",
            "\"Germany - Fowls, live domestic > 185 grams\"\t584541787.0\n"
          ]
        }
      ]
    },
    {
      "cell_type": "markdown",
      "source": [
        "Teste com base completa"
      ],
      "metadata": {
        "id": "459ZTL8oztg2"
      }
    },
    {
      "cell_type": "code",
      "source": [
        "!rm -rf /content/atividade\n",
        "!python pratica.py /content/base.csv --output-dir=/content/atividade\n",
        "print('\\nTop 10 Entradas da atividade')\n",
        "!cat /content/atividade/* | sort -k2,2rn -t$'\\t' | head -10"
      ],
      "metadata": {
        "id": "AsB0wX4Jztg3",
        "colab": {
          "base_uri": "https://localhost:8080/"
        },
        "outputId": "548cd646-3c1e-424c-e904-dbdc5ec19248"
      },
      "execution_count": 208,
      "outputs": [
        {
          "output_type": "stream",
          "name": "stdout",
          "text": [
            "No configs found; falling back on auto-configuration\n",
            "No configs specified for inline runner\n",
            "Running step 1 of 1...\n",
            "Creating temp directory /tmp/pratica.root.20231019.224223.171809\n",
            "job output is in /content/atividade\n",
            "Removing temp directory /tmp/pratica.root.20231019.224223.171809...\n",
            "\n",
            "Top 10 Entradas da atividade\n",
            "\"EU-28 - Oils petroleum, bituminous, distillates, except crude\"\t130265972772.0\n",
            "\"Iraq - Petroleum oils, oils from bituminous minerals, crude\"\t94027500000.0\n",
            "\"Canada - Petroleum oils, oils from bituminous minerals, crude\"\t88119818380.0\n",
            "\"Iran - Petroleum oils, oils from bituminous minerals, crude\"\t84381572020.0\n",
            "\"Kuwait - Petroleum oils, oils from bituminous minerals, crude\"\t79041032289.0\n",
            "\"EU-28 - Medicaments nes, in dosage\"\t77054946304.0\n",
            "\"Angola - Petroleum oils, oils from bituminous minerals, crude\"\t68863266749.0\n",
            "\"India - Oils petroleum, bituminous, distillates, except crude\"\t67075185518.0\n",
            "\"Australia - Iron ore, concentrate, not iron pyrites,unagglomerate\"\t66917183629.0\n",
            "\"Kazakhstan - Petroleum oils, oils from bituminous minerals, crude\"\t57249535115.0\n"
          ]
        }
      ]
    },
    {
      "cell_type": "code",
      "source": [],
      "metadata": {
        "id": "UdHqJpMZztKN"
      },
      "execution_count": 208,
      "outputs": []
    },
    {
      "cell_type": "code",
      "source": [],
      "metadata": {
        "id": "4KzOva_C0KpX"
      },
      "execution_count": 208,
      "outputs": []
    },
    {
      "cell_type": "code",
      "source": [],
      "metadata": {
        "id": "0OKfwD7A0KiA"
      },
      "execution_count": 208,
      "outputs": []
    },
    {
      "cell_type": "markdown",
      "source": [
        "### Informação 15\n",
        " - Quantidade de transações comerciais de acordo com o fluxo, de acordo com o ano"
      ],
      "metadata": {
        "id": "wa-m-YVS0K11"
      }
    },
    {
      "cell_type": "code",
      "source": [
        "%%file pratica.py\n",
        "from mrjob.job import MRJob\n",
        "import sys\n",
        "\n",
        "class WordCount(MRJob):\n",
        "    def mapper(self, _, linha):\n",
        "      try:\n",
        "        campos = linha.split(';')\n",
        "        year = campos[1]\n",
        "        flow = campos[4]\n",
        "        yield(year + \" - \" + flow, 1)\n",
        "      except:\n",
        "        pass\n",
        "\n",
        "    def reducer(self, chave, valores):\n",
        "      valor = 0\n",
        "      for v in valores:\n",
        "        valor = valor + v\n",
        "      yield(chave, valor)\n",
        "\n",
        "if __name__ == '__main__':\n",
        "     WordCount.run()"
      ],
      "metadata": {
        "id": "6Hp79Axv0K12",
        "colab": {
          "base_uri": "https://localhost:8080/"
        },
        "outputId": "7814245b-e7ac-433a-b386-f791bd3d414f"
      },
      "execution_count": 209,
      "outputs": [
        {
          "output_type": "stream",
          "name": "stdout",
          "text": [
            "Overwriting pratica.py\n"
          ]
        }
      ]
    },
    {
      "cell_type": "markdown",
      "source": [
        "Teste prévio com base parcial"
      ],
      "metadata": {
        "id": "eLopft5r0K12"
      }
    },
    {
      "cell_type": "code",
      "source": [
        "!rm -rf /content/atividade\n",
        "!python pratica.py /content/base_sample.csv --output-dir=/content/atividade\n",
        "print('\\nTop 10 Entradas da atividade')\n",
        "!cat /content/atividade/* | sort -k2,2rn -t$'\\t' | head -10"
      ],
      "metadata": {
        "id": "ReLWyMor0K12",
        "colab": {
          "base_uri": "https://localhost:8080/"
        },
        "outputId": "cecd87e7-ae97-44ff-d5bf-a66dfd8ab118"
      },
      "execution_count": 210,
      "outputs": [
        {
          "output_type": "stream",
          "name": "stdout",
          "text": [
            "No configs found; falling back on auto-configuration\n",
            "No configs specified for inline runner\n",
            "Running step 1 of 1...\n",
            "Creating temp directory /tmp/pratica.root.20231019.224246.388891\n",
            "job output is in /content/atividade\n",
            "Removing temp directory /tmp/pratica.root.20231019.224246.388891...\n",
            "\n",
            "Top 10 Entradas da atividade\n",
            "\"2012 - Import\"\t928\n",
            "\"2013 - Import\"\t922\n",
            "\"2010 - Import\"\t899\n",
            "\"2011 - Import\"\t899\n",
            "\"2007 - Import\"\t898\n",
            "\"2003 - Import\"\t893\n",
            "\"2014 - Import\"\t891\n",
            "\"2000 - Import\"\t877\n",
            "\"2015 - Import\"\t861\n",
            "\"2001 - Import\"\t860\n"
          ]
        }
      ]
    },
    {
      "cell_type": "markdown",
      "source": [
        "Teste com base completa"
      ],
      "metadata": {
        "id": "ixK0Sslz0K12"
      }
    },
    {
      "cell_type": "code",
      "source": [
        "!rm -rf /content/atividade\n",
        "!python pratica.py /content/base.csv --output-dir=/content/atividade\n",
        "print('\\nTop 10 Entradas da atividade')\n",
        "!cat /content/atividade/* | sort -k2,2rn -t$'\\t' | head -10"
      ],
      "metadata": {
        "id": "iS6jIzlu0K12",
        "colab": {
          "base_uri": "https://localhost:8080/"
        },
        "outputId": "f4b476eb-4cd9-4e72-c4e1-6d4635b99e84"
      },
      "execution_count": 211,
      "outputs": [
        {
          "output_type": "stream",
          "name": "stdout",
          "text": [
            "No configs found; falling back on auto-configuration\n",
            "No configs specified for inline runner\n",
            "Running step 1 of 1...\n",
            "Creating temp directory /tmp/pratica.root.20231019.224247.581109\n",
            "job output is in /content/atividade\n",
            "Removing temp directory /tmp/pratica.root.20231019.224247.581109...\n",
            "\n",
            "Top 10 Entradas da atividade\n",
            "\"2007 - Import\"\t82032\n",
            "\"2010 - Import\"\t81859\n",
            "\"2009 - Import\"\t81463\n",
            "\"2012 - Import\"\t81362\n",
            "\"2006 - Import\"\t81274\n",
            "\"2011 - Import\"\t81225\n",
            "\"2005 - Import\"\t79987\n",
            "\"2013 - Import\"\t79329\n",
            "\"2004 - Import\"\t79280\n",
            "\"2008 - Import\"\t79214\n"
          ]
        }
      ]
    },
    {
      "cell_type": "code",
      "source": [],
      "metadata": {
        "id": "Gz1aEcxv0K12"
      },
      "execution_count": 211,
      "outputs": []
    }
  ],
  "metadata": {
    "kernelspec": {
      "display_name": "Python 3",
      "language": "python",
      "name": "python3"
    },
    "language_info": {
      "codemirror_mode": {
        "name": "ipython",
        "version": 3
      },
      "file_extension": ".py",
      "mimetype": "text/x-python",
      "name": "python",
      "nbconvert_exporter": "python",
      "pygments_lexer": "ipython3",
      "version": "3.7.6"
    },
    "colab": {
      "provenance": [],
      "collapsed_sections": [
        "PRXOKvQzu7f9",
        "IjERlJ1gyAlM",
        "rvi20aQEyjJ_",
        "fPD9zvZpyn86",
        "4utZ6Yq9yrFq",
        "APUwOzdyyvpe",
        "RvBTwoeJyz-3",
        "SobP-0thy4ju",
        "ZUWxo-TLy_8l",
        "stoST7dWzDlr",
        "oLFGzyoDzIcI",
        "z5hsFMl2zM1X",
        "RZmUJsEJzf81",
        "pcFnYAKoztg2",
        "wa-m-YVS0K11"
      ]
    }
  },
  "nbformat": 4,
  "nbformat_minor": 0
}