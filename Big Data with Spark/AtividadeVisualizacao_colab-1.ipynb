{
  "cells": [
    {
      "cell_type": "markdown",
      "metadata": {
        "id": "B1ESfYlHeCXy"
      },
      "source": [
        "# Atividade Spark SQL e Visualização\n",
        "\n",
        "Considerando o dataset detalhado a seguir, extraia o conjunto de informações solicitadas.\n",
        "\n",
        "### Dataset dados de COVID no Brasil\n",
        "\n",
        "- Dados relativos a pacientes que realizaram exames de Covid19 no Brasil\n",
        "- ~1.6GB\n",
        "- 4.4M de instâncias\n",
        "\n",
        "\n",
        "|  # | Nome do campo        \t| Descrição                                     \t|\n",
        "|----|----------------------\t|-----------------------------------------------\t|\n",
        "|  0 | id                   \t| identificador                                 \t|\n",
        "|  1 | dataNotificacao      \t| Data da notificação                           \t|\n",
        "|  2 | dataInicioSintomas   \t| Data do inicio dos sintomas                   \t|\n",
        "|  3 | dataNascimento       \t| Data de nascimento                            \t|\n",
        "|  4 | sintomas             \t| Sintomas do paciente                          \t|\n",
        "|  5 | profissionalSaude    \t| Relacionado a profissional de saúde           \t|\n",
        "|  6 | cbo                  \t| Ocupação                                      \t|\n",
        "|  7 | condicoes            \t| Condições do paciente                         \t|\n",
        "|  8 | estadoTeste          \t| Estado do teste                               \t|\n",
        "|  9 | dataTeste            \t| Data do teste                                 \t|\n",
        "| 10 | tipoTeste            \t| Tipo de teste realizado                       \t|\n",
        "| 11 | resultadoTeste       \t| Resultado do Teste                            \t|\n",
        "| 12 | paisOrigem           \t| Pais de Origem do paciente                    \t|\n",
        "| 13 | sexo                 \t| Sexo do paciente                              \t|\n",
        "| 14 | bairro               \t| Bairro do paciente                            \t|\n",
        "| 15 | estado               \t| Estado do paciente                            \t|\n",
        "| 16 | estadoIBGE              \t| Estado do paciente IBGE                          \t|\n",
        "| 17 | municipio            \t| Municipio do paciente                         \t|\n",
        "| 18 | municipioIBGE          \t| Municipio do paciente                         \t|\n",
        "| 19 | cep            \t        | CEP                                            \t|\n",
        "| 20 | origem               \t| Origem do paciente                            \t|\n",
        "| 21 | cnes                 \t| Código da unidade de saúde                    \t|\n",
        "| 22 | estadoNotificacao    \t| Estado da notificação                         \t|\n",
        "| 23 | estadoNotificacaoIBGE    | Estado da notificação IBGE                      \t|\n",
        "| 24 | municipioNotificacao \t| Município da notificação                      \t|\n",
        "| 25 | municipioNotificacaoIBGE | Município da notificação IBGE                    \t|\n",
        "| 26 | numeroNotificacao    \t| Número da notificação                         \t|\n",
        "| 27 | excluido             \t| ID de exclusão                                \t|\n",
        "| 28 | validado             \t| Local validação                               \t|\n",
        "| 29 | idade                \t| Idade do paciente                             \t|\n",
        "| 30 | dataEncerramento     \t| Data do encerramento da avaliação do paciente \t|\n",
        "| 31 | evolucaoCaso         \t| Evolução do caso do paciente                  \t|\n",
        "| 32 | classificacaoFinal   \t| Avaliação final do caso                       \t|\n",
        "\n",
        "Informações a serem extraídas:\n",
        "\n",
        "1. Gráfico exibindo os 10 sintomas mais comuns para casos positivos para corona virus\n",
        "2. Gráfico da quantidade de pacientes com exames realizados ao longo do tempo\n",
        "3. Gráfico da quantidade de pacientes positivos para corona virus (resultadoTeste) no PARANÁ\n",
        "4. Gráfico da quantidade de pacientes positivos para corona virus (resultadoTeste) em Curitiba\n",
        "5. Gráfico da quantidade de pacientes de Curitiba de acordo com o bairro\n",
        "6. Gráfico comparando quantidade de pacientes positivos para corona virus (resultadoTeste) no PARANÁ e SANTA CATARINA ao longo dos dias\n",
        "7. Gráfico comparando quantidade de pacientes que vieram a óbito (evolucaoCaso) no PARANÁ e SANTA CATARINA ao longo dos dias\n",
        "8. Gráfico comparando os 10 sintomas mais comuns entre casos positivos e não positivos para corona virus\n",
        "9. Gráfico comparando as idades das pessoas que realizaram exames no PARANÁ e em SANTA CATARINA\n",
        "10. Gráfico comparando as idades das pessoas que realizaram exames no PARANÁ de acordo com o sexo\n",
        "11. Gráfico comparando as idades das pessoas que realizaram exames no PARANÁ de acordo com a evolução do caso"
      ]
    },
    {
      "cell_type": "code",
      "execution_count": null,
      "metadata": {
        "id": "4BnZyPVVePIC"
      },
      "outputs": [],
      "source": [
        "#instala pyspark no google colab\n",
        "!pip install pyspark==3.3.1"
      ]
    },
    {
      "cell_type": "code",
      "execution_count": 11,
      "metadata": {
        "id": "MbfjMmlHeCX1"
      },
      "outputs": [],
      "source": [
        "# abre sessão no spark sql\n",
        "from pyspark.sql import SparkSession\n",
        "import pyspark.sql.functions as func\n",
        "import matplotlib.pyplot as plt\n",
        "\n",
        "sc = SparkSession \\\n",
        "    .builder \\\n",
        "    .master('local[*]') \\\n",
        "    .getOrCreate()"
      ]
    },
    {
      "cell_type": "code",
      "execution_count": null,
      "metadata": {
        "id": "9ds57zODeXOQ"
      },
      "outputs": [],
      "source": [
        "#Efetua download do arquivo covid\n",
        "!gdown 1EYMih3Ys1-DmaIZ9n0Sl5KAcRGqtpuj9"
      ]
    },
    {
      "cell_type": "code",
      "execution_count": 8,
      "metadata": {
        "id": "lFmIrydheCX2"
      },
      "outputs": [],
      "source": [
        "df = sc.read \\\n",
        "    .option('delimiter', ';') \\\n",
        "    .option('header', 'true') \\\n",
        "    .option('inferschema', 'true') \\\n",
        "    .csv('file:////content/covid.csv')"
      ]
    },
    {
      "cell_type": "code",
      "execution_count": null,
      "metadata": {
        "id": "_-qpkQfvgy4F"
      },
      "outputs": [],
      "source": []
    },
    {
      "cell_type": "code",
      "execution_count": null,
      "metadata": {
        "id": "shX6vspkgyv5"
      },
      "outputs": [],
      "source": []
    },
    {
      "cell_type": "code",
      "execution_count": null,
      "metadata": {
        "id": "WWyaP6fvhRiB"
      },
      "outputs": [],
      "source": []
    },
    {
      "cell_type": "code",
      "execution_count": null,
      "metadata": {
        "id": "ZcL2zK7IgynP"
      },
      "outputs": [],
      "source": []
    },
    {
      "cell_type": "code",
      "execution_count": null,
      "metadata": {
        "id": "RbK_B2m3gykz"
      },
      "outputs": [],
      "source": []
    },
    {
      "cell_type": "code",
      "execution_count": null,
      "metadata": {
        "id": "3G6F1zfUgyiX"
      },
      "outputs": [],
      "source": []
    },
    {
      "cell_type": "code",
      "execution_count": 11,
      "metadata": {
        "id": "ATjSZdR9fE1Y"
      },
      "outputs": [],
      "source": []
    },
    {
      "cell_type": "code",
      "execution_count": null,
      "metadata": {
        "id": "Xx7akfaKeCX2"
      },
      "outputs": [],
      "source": [
        "#informacao 1 - Gráfico exibindo os 10 sintomas mais comuns para casos positivos para corona virus\n"
      ]
    },
    {
      "cell_type": "code",
      "execution_count": null,
      "metadata": {
        "id": "zMfujauNg1VQ"
      },
      "outputs": [],
      "source": []
    },
    {
      "cell_type": "code",
      "execution_count": null,
      "metadata": {
        "id": "mz5TgjQTeCX2"
      },
      "outputs": [],
      "source": []
    },
    {
      "cell_type": "code",
      "execution_count": null,
      "metadata": {
        "id": "BMpx0-8seCX2"
      },
      "outputs": [],
      "source": [
        "#informacao 2 - Gráfico da quantidade de pacientes com exames realizados ao longo do tempo\n"
      ]
    },
    {
      "cell_type": "code",
      "execution_count": null,
      "metadata": {
        "id": "BFcaTCLMg3fj"
      },
      "outputs": [],
      "source": []
    },
    {
      "cell_type": "code",
      "execution_count": null,
      "metadata": {
        "id": "QV5llK8ZeCX3"
      },
      "outputs": [],
      "source": []
    },
    {
      "cell_type": "code",
      "execution_count": null,
      "metadata": {
        "id": "AyaMDFwleCX3"
      },
      "outputs": [],
      "source": [
        "#informacao 3 - Gráfico da quantidade de pacientes positivos para corona virus (resultadoTeste) no PARANÁ\n"
      ]
    },
    {
      "cell_type": "code",
      "execution_count": null,
      "metadata": {
        "id": "ajXq4Fh3g39g"
      },
      "outputs": [],
      "source": []
    },
    {
      "cell_type": "code",
      "execution_count": null,
      "metadata": {
        "id": "w90rHyWreCX3"
      },
      "outputs": [],
      "source": []
    },
    {
      "cell_type": "code",
      "execution_count": null,
      "metadata": {
        "id": "zkJGHlUaeCX3"
      },
      "outputs": [],
      "source": [
        "#informacao 4 - Gráfico da quantidade de pacientes positivos para corona virus (resultadoTeste) em Curitiba\n"
      ]
    },
    {
      "cell_type": "code",
      "execution_count": null,
      "metadata": {
        "id": "iOstVByug5fo"
      },
      "outputs": [],
      "source": []
    },
    {
      "cell_type": "code",
      "execution_count": null,
      "metadata": {
        "id": "5hY-ZLDJeCX3"
      },
      "outputs": [],
      "source": []
    },
    {
      "cell_type": "code",
      "execution_count": null,
      "metadata": {
        "id": "XKkzG2U0eCX3"
      },
      "outputs": [],
      "source": [
        "#informacao 5 - Gráfico da quantidade de pacientes de Curitiba de acordo com o bairro\n"
      ]
    },
    {
      "cell_type": "code",
      "execution_count": null,
      "metadata": {
        "id": "RkSQQgYMhIyO"
      },
      "outputs": [],
      "source": []
    },
    {
      "cell_type": "code",
      "execution_count": null,
      "metadata": {
        "id": "4X0epq2IeCX3"
      },
      "outputs": [],
      "source": []
    },
    {
      "cell_type": "code",
      "execution_count": null,
      "metadata": {
        "id": "iGwGQbmteCX3"
      },
      "outputs": [],
      "source": [
        "#informacao 6 - Gráfico comparando quantidade de pacientes positivos para corona virus (resultadoTeste) no PARANÁ e SANTA CATARINA ao longo dos dias\n"
      ]
    },
    {
      "cell_type": "code",
      "execution_count": null,
      "metadata": {
        "id": "0bjR0hvQhIZp"
      },
      "outputs": [],
      "source": []
    },
    {
      "cell_type": "code",
      "execution_count": null,
      "metadata": {
        "id": "6WdgFD7_eCX3"
      },
      "outputs": [],
      "source": []
    },
    {
      "cell_type": "code",
      "execution_count": null,
      "metadata": {
        "id": "e4MtHn7eeCX3"
      },
      "outputs": [],
      "source": [
        "#informacao 7 - Gráfico comparando quantidade de pacientes que vieram a óbito (evolucaoCaso) no PARANÁ e SANTA CATARINA ao longo dos dias\n"
      ]
    },
    {
      "cell_type": "code",
      "execution_count": null,
      "metadata": {
        "id": "WYTCXNIDhH44"
      },
      "outputs": [],
      "source": []
    },
    {
      "cell_type": "code",
      "execution_count": null,
      "metadata": {
        "id": "iHSZlYAkeCX3"
      },
      "outputs": [],
      "source": []
    },
    {
      "cell_type": "code",
      "execution_count": null,
      "metadata": {
        "id": "jyZ2FJNCeCX3"
      },
      "outputs": [],
      "source": [
        "#informacao 8 - Gráfico comparando os 10 sintomas mais comuns entre casos positivos e não positivos para corona virus\n"
      ]
    },
    {
      "cell_type": "code",
      "execution_count": null,
      "metadata": {
        "id": "bwGTX7WjhHaz"
      },
      "outputs": [],
      "source": []
    },
    {
      "cell_type": "code",
      "execution_count": null,
      "metadata": {
        "id": "XEZUoltXeCX3"
      },
      "outputs": [],
      "source": []
    },
    {
      "cell_type": "code",
      "execution_count": null,
      "metadata": {
        "id": "hjRU4Uk2eCX4"
      },
      "outputs": [],
      "source": [
        "#informacao 9 - Gráfico comparando as idades das pessoas que realizaram exames no PARANÁ e em SANTA CATARINA\n"
      ]
    },
    {
      "cell_type": "code",
      "execution_count": null,
      "metadata": {
        "id": "RbgZKHkshHKX"
      },
      "outputs": [],
      "source": []
    },
    {
      "cell_type": "code",
      "execution_count": null,
      "metadata": {
        "id": "aOsgr2NCeCX4"
      },
      "outputs": [],
      "source": []
    },
    {
      "cell_type": "code",
      "execution_count": null,
      "metadata": {
        "id": "Ps_2vhwueCX4"
      },
      "outputs": [],
      "source": [
        "#informacao 10 - Gráfico comparando as idades das pessoas que realizaram exames no PARANÁ de acordo com o sexo\n"
      ]
    },
    {
      "cell_type": "code",
      "execution_count": null,
      "metadata": {
        "id": "FjJsqg-whG8N"
      },
      "outputs": [],
      "source": []
    },
    {
      "cell_type": "code",
      "execution_count": null,
      "metadata": {
        "id": "LiI4wMhYeCX4"
      },
      "outputs": [],
      "source": []
    },
    {
      "cell_type": "code",
      "execution_count": null,
      "metadata": {
        "id": "sqsdUKceeCX4"
      },
      "outputs": [],
      "source": [
        "#informacao 11 - Gráfico comparando as idades das pessoas que realizaram exames no PARANÁ de acordo com a evolução do caso\n"
      ]
    },
    {
      "cell_type": "code",
      "execution_count": null,
      "metadata": {
        "id": "O_c7fK23hGtm"
      },
      "outputs": [],
      "source": []
    },
    {
      "cell_type": "code",
      "execution_count": null,
      "metadata": {
        "id": "BvgTTgwZeCX4"
      },
      "outputs": [],
      "source": []
    }
  ],
  "metadata": {
    "colab": {
      "provenance": []
    },
    "kernelspec": {
      "display_name": "Python 3",
      "language": "python",
      "name": "python3"
    },
    "language_info": {
      "codemirror_mode": {
        "name": "ipython",
        "version": 3
      },
      "file_extension": ".py",
      "mimetype": "text/x-python",
      "name": "python",
      "nbconvert_exporter": "python",
      "pygments_lexer": "ipython3",
      "version": "3.7.6"
    }
  },
  "nbformat": 4,
  "nbformat_minor": 0
}
