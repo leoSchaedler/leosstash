{
  "nbformat": 4,
  "nbformat_minor": 0,
  "metadata": {
    "colab": {
      "name": "KNN Regressor.ipynb",
      "provenance": []
    },
    "kernelspec": {
      "name": "python3",
      "display_name": "Python 3"
    }
  },
  "cells": [
    {
      "cell_type": "code",
      "metadata": {
        "id": "SmS-tOd6u9fO",
        "colab_type": "code",
        "outputId": "4c0495d0-71d5-480e-9a9d-cd779de9b12c",
        "colab": {
          "base_uri": "https://localhost:8080/",
          "height": 221
        }
      },
      "source": [
        "# Este exemplo carrega a base Wine da UCI, e avalia dois KNNs\n",
        "# Um usando holdout e outro usando validação cruzada com 10 pastas. \n",
        "\n",
        "# Importa bibliotecas necessárias \n",
        "import numpy as np\n",
        "import urllib\n",
        "from sklearn.neighbors import KNeighborsRegressor\n",
        "from sklearn import  model_selection\n",
        "from sklearn.model_selection import train_test_split\n",
        "from sklearn.metrics import r2_score,  mean_squared_error\n",
        "\n",
        "# Carrega uma base de dados do UCI\n",
        "# Exemplo carrega a base Wine\n",
        "#url = \"http://archive.ics.uci.edu/ml/machine-learning-databases/wine/wine.data\"\n",
        "#raw_data = urllib.request.urlopen(url)\n",
        "\n",
        "# Carrega arquivo como uma matriz\n",
        "#dataset = np.loadtxt(raw_data, delimiter=\",\")\n",
        "\n",
        "# Imprime quantide de instâncias e atributos da base\n",
        "##print(dataset.shape)\n",
        "\n",
        "# Coloca em X os 13 atributos de entrada e em y as classes\n",
        "# Observe que na base Wine a classe é primeiro atributo \n",
        "#X = dataset[:,1:13]\n",
        "#y = dataset[:,0]\n",
        "\n",
        "# Carrega a base Boston\n",
        "from sklearn.datasets import load_boston, load_diabetes\n",
        "#boston = load_boston()\n",
        "#X, y = boston['data'], boston['target']\n",
        "\n",
        "X, y = load_diabetes(return_X_y=True)\n",
        "\n",
        "print(\"Predição do valor de residências em Boston (Regressão)\")\n",
        "print(\"Quantidade de instâncias e atributos\")\n",
        "print(X.shape)\n",
        "\n",
        "# Holdout 70% treinamento e 30% para teste\n",
        "X_train, X_test, y_train, y_test = train_test_split(X,y,test_size=.3, random_state=0)\n",
        "\n",
        "# Declara a árvore de regressão\n",
        "regressor = KNeighborsRegressor(n_neighbors=5)\n",
        "\n",
        "# Treina a árvore de regressão\n",
        "regressor.fit(X_train, y_train)\n",
        "output_prediction = regressor.predict(X_test)\n",
        "\n",
        "# Imprime os resultados do experimento baseado em holdout\n",
        "print(\"\\nAvaliação utilizando Holdout com 30% para teste\")\n",
        "print(\"R2 score: %.2f\" % r2_score(y_test, output_prediction))\n",
        "\n",
        "print(\"Mean squared error: %.2f\" % mean_squared_error(y_test, output_prediction))\n",
        "\n",
        "# Validação Cruzuzada com 5 folds\n",
        "#declara uma nova árvore de regressão\n",
        "regressor1 = KNeighborsRegressor(n_neighbors=5)\n",
        "\n",
        "# Treina a árvore de regressão\n",
        "# define a quantidade de folds ou pastas e executa a validação cruzada\n",
        "folds=5\n",
        "result = model_selection.cross_val_score(regressor1, X, y, cv=folds)\n",
        "output_prediction = model_selection.cross_val_predict(regressor1, X, y, cv=folds)\n",
        "\n",
        "# Imprime os resultados da validação cruzada\n",
        "print(\"\\nAvaliação usando Validação Cruzada com %d folds\" % folds)\n",
        "print(\"R2 scores = \" + str(result))\n",
        "print(\"R2 score médio: %.2f\" % (result.mean()))\n",
        "print(\"Mean squared error: %.2f\" % mean_squared_error(y, output_prediction))\n",
        "\n"
      ],
      "execution_count": 15,
      "outputs": [
        {
          "output_type": "stream",
          "text": [
            "Predição do valor de residências em Boston (Regressão)\n",
            "Quantidade de instâncias e atributos\n",
            "(442, 10)\n",
            "\n",
            "Avaliação utilizando Holdout com 30% para teste\n",
            "R2 score: 0.24\n",
            "Mean squared error: 3886.71\n",
            "\n",
            "Avaliação usando Validação Cruzada com 5 folds\n",
            "R2 scores = [0.35008817 0.36602995 0.43172985 0.3231243  0.41156846]\n",
            "R2 score médio: 0.38\n",
            "Mean squared error: 3620.80\n"
          ],
          "name": "stdout"
        }
      ]
    }
  ]
}