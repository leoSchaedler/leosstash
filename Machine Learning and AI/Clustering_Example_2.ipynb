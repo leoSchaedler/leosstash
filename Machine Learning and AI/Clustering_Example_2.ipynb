{
  "nbformat": 4,
  "nbformat_minor": 0,
  "metadata": {
    "colab": {
      "provenance": []
    },
    "kernelspec": {
      "name": "python3",
      "display_name": "Python 3"
    }
  },
  "cells": [
    {
      "cell_type": "code",
      "metadata": {
        "id": "NiGKx0Sow4lt",
        "colab": {
          "base_uri": "https://localhost:8080/"
        },
        "outputId": "609385b8-7100-4b46-ac16-ff75486b2b3d"
      },
      "source": [
        "# Exemplo uso K-means (Aprendizado não supervisionado, modelo descritivo, tarefa: agrupamento)\n",
        "from sklearn.datasets import make_blobs\n",
        "from sklearn.cluster import KMeans\n",
        "from sklearn.metrics import silhouette_samples, silhouette_score\n",
        "import pandas as pd\n",
        "import numpy as np\n",
        "from sklearn.datasets import load_wine\n",
        "\n",
        "# Carregando a base (atributos de entrada somente)\n",
        "X, _ = load_wine(return_X_y=True)\n",
        "\n",
        "# Agrupamento considerando diferentes valores de k\n",
        "n_clusters=[2,3,4,6,8]\n",
        "sl_score=[]\n",
        "inertia=[]\n",
        "for k in n_clusters:\n",
        "  # Agruoamento via Kmeans\n",
        "  clusterer = KMeans(n_clusters=k, n_init='auto', random_state=10)\n",
        "  cluster_labels = clusterer.fit_predict(X)\n",
        "  # salvando os labels de cada ponto\n",
        "  lab = np.asarray(cluster_labels)\n",
        "  np.savetxt('classes'+str(k), lab, fmt='%i', delimiter=\"\\n\")\n",
        "  # Cálculo do índice silhueta médio\n",
        "  silhouette_avg = silhouette_score(X, cluster_labels)\n",
        "  sl_score.append(silhouette_avg)\n",
        "  inertia.append(clusterer.inertia_)\n",
        "  print(\"n_clusters =\", k,\" índice silhueta médio :\", silhouette_avg, 'Inertia:', clusterer.inertia_)\n",
        "  # calcula shuleta para cada exemplo\n",
        "  sample_silhouette_values = silhouette_samples(X, cluster_labels)\n",
        "\n",
        "    \n",
        "\n",
        "\n",
        "\n"
      ],
      "execution_count": 14,
      "outputs": [
        {
          "output_type": "stream",
          "name": "stdout",
          "text": [
            "n_clusters = 2  índice silhueta médio : 0.655521358978658 Inertia: 4545746.292099379\n",
            "n_clusters = 3  índice silhueta médio : 0.5595823478987213 Inertia: 2633555.3324093386\n",
            "n_clusters = 4  índice silhueta médio : 0.5620915308951057 Inertia: 1337437.1128958864\n",
            "n_clusters = 6  índice silhueta médio : 0.5261536522652805 Inertia: 703640.5890452265\n",
            "n_clusters = 8  índice silhueta médio : 0.548621360407612 Inertia: 326044.57084739424\n"
          ]
        }
      ]
    },
    {
      "cell_type": "code",
      "metadata": {
        "colab": {
          "base_uri": "https://localhost:8080/",
          "height": 472
        },
        "id": "xnxPDDLbpnCm",
        "outputId": "3bda4710-22bc-4742-86a1-83a1ccd29e45"
      },
      "source": [
        "# Plotando Elbow curve\n",
        "import matplotlib.pyplot as plt\n",
        "\n",
        "plt.plot(n_clusters,inertia)\n",
        "plt.title('Elbow plot')\n",
        "plt.xlabel('# cluster')\n",
        "plt.ylabel('Inertia')\n",
        "plt.show()"
      ],
      "execution_count": 15,
      "outputs": [
        {
          "output_type": "display_data",
          "data": {
            "text/plain": [
              "<Figure size 640x480 with 1 Axes>"
            ],
            "image/png": "[encoded data removed]"
          },
          "metadata": {}
        }
      ]
    },
    {
      "cell_type": "code",
      "metadata": {
        "colab": {
          "base_uri": "https://localhost:8080/"
        },
        "id": "ffZ_-lEd9mgO",
        "outputId": "1af77241-5a7a-4c32-d5e3-4882fc7813aa"
      },
      "source": [
        "import pandas as pd\n",
        "from sklearn.naive_bayes import GaussianNB\n",
        "from sklearn import  model_selection\n",
        "\n",
        "y=np.loadtxt(\"classes3\")\n",
        "\n",
        "clfb = GaussianNB()\n",
        "folds=10\n",
        "result = model_selection.cross_val_score(clfb, X, y, cv=folds)\n",
        "print(\"\\nCross Validation Results %d folds:\" % folds)\n",
        "print(\"Mean Accuracy: %.5f\" % result.mean())\n",
        "print(\"Mean Std: %.5f\" % result.std())\n",
        "\n",
        "\n",
        "\n"
      ],
      "execution_count": 16,
      "outputs": [
        {
          "output_type": "stream",
          "name": "stdout",
          "text": [
            "\n",
            "Cross Validation Results 10 folds:\n",
            "Mean Accuracy: 0.83595\n",
            "Mean Std: 0.09745\n"
          ]
        }
      ]
    }
  ]
}