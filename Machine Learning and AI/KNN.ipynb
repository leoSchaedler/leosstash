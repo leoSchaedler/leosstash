{
  "nbformat": 4,
  "nbformat_minor": 0,
  "metadata": {
    "colab": {
      "name": "KNN.ipynb",
      "provenance": []
    },
    "kernelspec": {
      "name": "python3",
      "display_name": "Python 3"
    }
  },
  "cells": [
    {
      "cell_type": "code",
      "metadata": {
        "id": "SmS-tOd6u9fO",
        "outputId": "f2a13210-839c-479b-951c-ef3d3692f28a",
        "colab": {
          "base_uri": "https://localhost:8080/",
          "height": 255
        }
      },
      "source": [
        "# Este exemplo carrega a base Wine da UCI, e avalia dois KNNs\n",
        "# Um usando holdout e outro usando validação cruzada com 10 pastas. \n",
        "\n",
        "# Importa bibliotecas necessárias \n",
        "import numpy as np\n",
        "import urllib.request\n",
        "from sklearn.neighbors import KNeighborsClassifier\n",
        "from sklearn import  model_selection\n",
        "from sklearn.metrics import confusion_matrix\n",
        "from sklearn.model_selection import train_test_split\n",
        "from sklearn.model_selection import StratifiedShuffleSplit\n",
        "import pandas as pd\n",
        "\n",
        "# Carrega uma base de dados do UCI\n",
        "# Exemplo carrega a base Wine\n",
        "url = \"http://archive.ics.uci.edu/ml/machine-learning-databases/wine/wine.data\"\n",
        "raw_data = urllib.request.urlopen(url)\n",
        "\n",
        "# Carrega arquivo como uma matriz\n",
        "dataset = np.loadtxt(raw_data, delimiter=\",\")\n",
        "\n",
        "# Imprime quantide de instâncias e atributos da base\n",
        "print(dataset.shape)\n",
        "\n",
        "# Coloca em X os 13 atributos de entrada e em y as classes\n",
        "# Observe que na base Wine a classe é primeiro atributo \n",
        "X = dataset[:,1:13]\n",
        "y = dataset[:,0]\n",
        "\n",
        "# EXEMPLO USANDO HOLDOUT\n",
        "# Holdout -> dividindo a base em treinamento (70%) e teste (30%), estratificada\n",
        "X_train, X_test, y_train, y_test = train_test_split(X,y,test_size=.3, random_state=42, stratify=y)\n",
        "\n",
        "# declara o classificador\n",
        "clfa = KNeighborsClassifier(n_neighbors=3)\n",
        "\n",
        "# treina o classificador\n",
        "clfa = clfa.fit(X_train, y_train)\n",
        "\n",
        "# testa usando a base de testes\n",
        "predicted=clfa.predict(X_test)\n",
        "\n",
        "# calcula a acurácia na base de teste\n",
        "score=clfa.score(X_test, y_test)\n",
        "\n",
        "# calcula a matriz de confusão\n",
        "matrix = confusion_matrix(y_test, predicted)\n",
        "\n",
        "# apresenta os resultados\n",
        "print(\"Accuracy = %.5f \" % score)\n",
        "print(\"Confusion Matrix:\")\n",
        "print(matrix)\n",
        "\n",
        "# EXEMPLO USANDO VALIDAÇÃO CRUZADA\n",
        "clfb = KNeighborsClassifier(n_neighbors=3)\n",
        "folds=10\n",
        "result = model_selection.cross_val_score(clfb, X, y, cv=folds)\n",
        "print(\"\\nCross Validation Results %d folds:\" % folds)\n",
        "print(\"Mean Accuracy: %.5f\" % result.mean())\n",
        "print(\"Mean Std: %.5f\" % result.std())\n",
        "\n",
        "# matriz de confusão da validação cruzada\n",
        "Z = model_selection.cross_val_predict(clfb, X, y, cv=folds)\n",
        "cm=confusion_matrix(y, Z)\n",
        "print(\"Confusion Matrix:\")\n",
        "print(cm)\n"
      ],
      "execution_count": 2,
      "outputs": [
        {
          "output_type": "stream",
          "text": [
            "(178, 14)\n",
            "Accuracy = 0.83333 \n",
            "Confusion Matrix:\n",
            "[[18  0  0]\n",
            " [ 5 15  1]\n",
            " [ 2  1 12]]\n",
            "\n",
            "Cross Validation Results 10 folds:\n",
            "Mean Accuracy: 0.86503\n",
            "Mean Std: 0.08343\n",
            "Confusion Matrix:\n",
            "[[54  5  0]\n",
            " [10 59  2]\n",
            " [ 4  3 41]]\n"
          ],
          "name": "stdout"
        }
      ]
    }
  ]
}