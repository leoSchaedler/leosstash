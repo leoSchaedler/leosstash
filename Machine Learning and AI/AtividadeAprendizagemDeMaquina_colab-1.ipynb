{
  "cells": [
    {
      "cell_type": "markdown",
      "metadata": {
        "id": "C0CnnJgf7-Ah"
      },
      "source": [
        "# Atividade Aprendizagem de Máquina - Spark MLLib\n",
        "\n",
        "Considerando o dataset detalhado a seguir, aplique as técnicas solicitadas\n",
        "\n",
        "### Dataset dados de sensores veicular\n",
        "\n",
        "- Dados relativos a sensores de internet das coisas (IoT) para detecção de estados dos medidores\n",
        "\n",
        "\n",
        "| #  \t| Nome do campo           \t| Descrição                                                                     \t|\n",
        "|----\t|-------------------------\t|-------------------------------------------------------------------------------\t|\n",
        "| 0  \t| Hora               \t| Hora média das medições                                                          \t|\n",
        "| 1  \t| Minuto         \t| Minuto médio das medições                                               \t|\n",
        "| 2  \t| Temp_minima         \t| Temperatura mínima das medições                                               \t|\n",
        "| 3  \t| Temp_maxima         \t| Temperatura máxima das medições                                               \t|\n",
        "| 4  \t| Latitude_media  \t| Latitude média das medições                             \t|\n",
        "| 5  \t| Longitude_media  \t| Longitude média das medições                             \t|\n",
        "| 6  \t| Classe  \t| Estado do medidor (Frio, Moderado, Quente, Alerta)                             \t|\n",
        "\n",
        "\n",
        "**Informações a serem extraídas:**\n",
        "\n",
        "1. Calcule a acurácia de classificação na base de testes para os seguintes classificadores:\n",
        "    1. Árvore de Decisão (from pyspark.ml.classification import DecisionTreeClassifier)\n",
        "    2. Random Forest com 5 arvores (from pyspark.ml.classification import RandomForestClassifier, e numTrees=5 no construtor do RandomForestClassifier)\n",
        "    3. Random Forest com 100 arvores (numTrees=100 no construtor do RandomForestClassifier)\n",
        "2. Determine qual a quantidade de eventos Alerta (label = 3.0) classificados erroneamente como outra classe (falso-negativo) para os classificadores\n",
        "    1. Árvore de Decisão (from pyspark.ml.classification import DecisionTreeClassifier)\n",
        "    2. Random Forest com 5 arvores (from pyspark.ml.classification import RandomForestClassifier, e numTrees=5 no construtor do RandomForestClassifier)\n",
        "    3. Random Forest com 100 arvores (numTrees=100 no construtor do RandomForestClassifier)\n",
        "3. Determine qual a quantidade de eventos não Alerta (label = 0.0, ou label = 1.0, ou label = 2.0) classificados erroneamente como classe Alerta (falso-positivo) para os classificadores\n",
        "    1. Árvore de Decisão (from pyspark.ml.classification import DecisionTreeClassifier)\n",
        "    2. Random Forest com 5 arvores (from pyspark.ml.classification import RandomForestClassifier, e numTrees=5 no construtor do RandomForestClassifier)\n",
        "    3. Random Forest com 100 arvores (numTrees=100 no construtor do RandomForestClassifier)\n",
        "4. Faça votação entre os classificadores da etapa 1.A, 1.B e 1.C para atribuir a classe do evento de acordo com a maioria das classes entre os classificadores\n",
        "    - Dicas: Para isto, voce irá precisar fazer o join das predições de cada classificador de acordo com os IDs dos eventos. Posteriormente voce pode manipular o dataframe, após o join, para determinar qual classe de cada evento possuiu maior votação =). Exemplo de código:\n",
        "```python\n",
        "\n",
        "    import pyspark.sql.functions as func\n",
        "    \n",
        "    predicaoDT.select(func.col('prediction').alias('prediction_dt'),\n",
        "                        func.col('label'),\n",
        "                        func.col('id'))\\\n",
        "    .join(predicaoRF.select(func.col('prediction').alias('prediction_rf'),\n",
        "                        func.col('id')), ['id'])\n",
        "```\n",
        "5. Considerando que voce possui apenas duas classes: Não Alerta e Alerta. Calcule a acurácia de classificação na base de testes para os seguintes classificadores:\n",
        "    1. Árvore de Decisão (from pyspark.ml.classification import DecisionTreeClassifier)\n",
        "    2. Random Forest com 20 arvores (from pyspark.ml.classification import RandomForestClassifier, e numTrees=20 no construtor do RandomForestClassifier)\n",
        "    3. Random Forest com 100 arvores (numTrees=100 no construtor do RandomForestClassifier)\n",
        "        - Dicas: Para isto, você irá precisar manipular o dataframe para alterar os valores da coluna label, por exemplo através de uma UDF\n",
        "6. Determine qual a quantidade de eventos Alerta (label = 3.0) classificados erroneamente como outra classe (falso-negativo) para os classificadores do item 5\n",
        "7. Faça busca de parametros dos classificadores desenvolvidos no item 5. Plote um gráfico relacionando a acurácia e os parametros otimizados\n",
        "    1. Árvore de Decisão varie o parametro maxDepth de 1 a 20\n",
        "    2. Random Forest varie o numTrees de 1 a 20\n",
        "\n",
        "**Dicas:**\n",
        "- *Crie uma célula (Insert -> Insert Cell Below) para cada informação solicitada*\n",
        "- *A análise deve ser feita sobre os dados do HDFS*\n",
        "- *Inicialize o seu cluster executando o script em: Desktop/ambientes/spark/inicializar.sh*\n",
        "- *Acesse o seu cluster executando o script em: Desktop/ambientes/spark/abrir_navegador.sh*"
      ]
    },
    {
      "cell_type": "code",
      "source": [
        "#instala pyspark no google colab\n",
        "!pip install pyspark==3.3.1"
      ],
      "metadata": {
        "id": "oVx5Ddrt8YBm"
      },
      "execution_count": null,
      "outputs": []
    },
    {
      "cell_type": "code",
      "source": [
        "# abre sessão no spark sql\n",
        "from pyspark.sql import SparkSession\n",
        "\n",
        "sc = SparkSession \\\n",
        "    .builder \\\n",
        "    .master('local[*]') \\\n",
        "    .getOrCreate()"
      ],
      "metadata": {
        "id": "LiAXwA8G8Ym-"
      },
      "execution_count": 2,
      "outputs": []
    },
    {
      "cell_type": "code",
      "source": [
        "#Efetua download do arquivo covid\n",
        "!gdown 1-lSo7A-SIuntho9tAqVO25enmLlxFe7S\n",
        "!gdown 1-iG4e4-SzJONLi3Nw98nm9UdFzoqCHDI"
      ],
      "metadata": {
        "id": "msZn2UhI8bXm"
      },
      "execution_count": null,
      "outputs": []
    },
    {
      "cell_type": "code",
      "execution_count": 5,
      "metadata": {
        "id": "32AghrEe7-Am"
      },
      "outputs": [],
      "source": [
        "dfTreino = sc.read\\\n",
        "    .option('delimiter',',')\\\n",
        "    .option('header','true')\\\n",
        "    .option('inferschema','true')\\\n",
        "    .csv('file:////content/treinamento.csv')\n",
        "\n",
        "dfTeste = sc.read\\\n",
        "    .option('delimiter',',')\\\n",
        "    .option('header','true')\\\n",
        "    .option('inferschema','true')\\\n",
        "    .csv('file:////content/teste.csv')"
      ]
    },
    {
      "cell_type": "code",
      "execution_count": null,
      "metadata": {
        "scrolled": true,
        "id": "BchHFlgd7-Am"
      },
      "outputs": [],
      "source": [
        "dfTreino.printSchema()"
      ]
    },
    {
      "cell_type": "code",
      "execution_count": null,
      "metadata": {
        "scrolled": true,
        "id": "omCTv3ae7-Am"
      },
      "outputs": [],
      "source": [
        "from pyspark.sql.functions import monotonically_increasing_id\n",
        "\n",
        "dfTeste = dfTeste.withColumn('id', monotonically_increasing_id())\n",
        "dfTeste.show(5)"
      ]
    },
    {
      "cell_type": "code",
      "execution_count": null,
      "metadata": {
        "id": "PpXz_k3F7-Am"
      },
      "outputs": [],
      "source": [
        "from pyspark.ml.feature import StringIndexer, VectorAssembler\n",
        "\n",
        "features = ['hora', 'minuto', 'temp_minima', 'temp_maxima', 'latitude_media', 'longitude_media']\n",
        "\n",
        "dfTreino = StringIndexer(inputCol='Classe', outputCol='label')\\\n",
        "    .fit(dfTreino)\\\n",
        "    .transform(dfTreino)\n",
        "\n",
        "dfTreino = VectorAssembler(inputCols=features, outputCol='features')\\\n",
        "    .transform(dfTreino)\n",
        "\n",
        "dfTreino.show(5)"
      ]
    },
    {
      "cell_type": "code",
      "execution_count": null,
      "metadata": {
        "id": "OjQD467W7-An"
      },
      "outputs": [],
      "source": [
        "from pyspark.ml.feature import StringIndexer, VectorAssembler\n",
        "\n",
        "features = ['hora', 'minuto', 'temp_minima', 'temp_maxima', 'latitude_media', 'longitude_media']\n",
        "\n",
        "dfTeste = StringIndexer(inputCol='Classe', outputCol='label')\\\n",
        "    .fit(dfTeste)\\\n",
        "    .transform(dfTeste)\n",
        "\n",
        "dfTeste = VectorAssembler(inputCols=features, outputCol='features')\\\n",
        "    .transform(dfTeste)"
      ]
    },
    {
      "cell_type": "code",
      "execution_count": null,
      "metadata": {
        "id": "HPq8-vHD7-An"
      },
      "outputs": [],
      "source": [
        "#informação 1.A\n",
        "from pyspark.ml.classification import DecisionTreeClassifier\n",
        "import pyspark.sql.functions as func\n",
        "\n",
        "dt = DecisionTreeClassifier(labelCol='label', featuresCol='features')\n",
        "modeloDT = dt.fit(dfTreino)"
      ]
    },
    {
      "cell_type": "code",
      "execution_count": null,
      "metadata": {
        "id": "R8wynGo87-An"
      },
      "outputs": [],
      "source": [
        "predicaoDT = modeloDT.transform(dfTeste)\n",
        "predicaoDT.select(func.col('prediction'), func.col('label'), func.col('id')).show(5)"
      ]
    },
    {
      "cell_type": "code",
      "execution_count": null,
      "metadata": {
        "id": "vs6YKIph7-An"
      },
      "outputs": [],
      "source": [
        "from pyspark.ml.evaluation import MulticlassClassificationEvaluator\n",
        "\n",
        "MulticlassClassificationEvaluator(labelCol='label', predictionCol='prediction')\\\n",
        "    .evaluate(predicaoDT)"
      ]
    },
    {
      "cell_type": "code",
      "execution_count": null,
      "metadata": {
        "id": "Cp7kHtEZ7-Ao"
      },
      "outputs": [],
      "source": [
        "#informação 1.B\n"
      ]
    },
    {
      "cell_type": "code",
      "execution_count": null,
      "metadata": {
        "id": "u3ScZWXf7-Ao"
      },
      "outputs": [],
      "source": []
    },
    {
      "cell_type": "code",
      "execution_count": null,
      "metadata": {
        "id": "fky3LDRW7-Ao"
      },
      "outputs": [],
      "source": []
    },
    {
      "cell_type": "code",
      "execution_count": null,
      "metadata": {
        "id": "NiRLXncF7-Ao"
      },
      "outputs": [],
      "source": [
        "#informação 1.C\n"
      ]
    },
    {
      "cell_type": "code",
      "execution_count": null,
      "metadata": {
        "id": "G2UVL7sM7-Ao"
      },
      "outputs": [],
      "source": []
    },
    {
      "cell_type": "code",
      "execution_count": null,
      "metadata": {
        "id": "dblGGFHc7-Ao"
      },
      "outputs": [],
      "source": []
    },
    {
      "cell_type": "code",
      "execution_count": null,
      "metadata": {
        "id": "r_BO4GpJ7-Ao"
      },
      "outputs": [],
      "source": [
        "#informação 2.A\n"
      ]
    },
    {
      "cell_type": "code",
      "execution_count": null,
      "metadata": {
        "id": "p9jM7Z8P7-Ao"
      },
      "outputs": [],
      "source": []
    },
    {
      "cell_type": "code",
      "execution_count": null,
      "metadata": {
        "id": "xyDxyT6j7-Ao"
      },
      "outputs": [],
      "source": []
    },
    {
      "cell_type": "code",
      "execution_count": null,
      "metadata": {
        "id": "2SocHQ837-Ap"
      },
      "outputs": [],
      "source": [
        "#informação 2.B\n"
      ]
    },
    {
      "cell_type": "code",
      "execution_count": null,
      "metadata": {
        "id": "8skIt0Ex7-Ap"
      },
      "outputs": [],
      "source": []
    },
    {
      "cell_type": "code",
      "execution_count": null,
      "metadata": {
        "id": "NdJ-LHOr7-Ap"
      },
      "outputs": [],
      "source": []
    },
    {
      "cell_type": "code",
      "execution_count": null,
      "metadata": {
        "id": "_G3qS1L47-Ap"
      },
      "outputs": [],
      "source": [
        "#informação 2.C\n"
      ]
    },
    {
      "cell_type": "code",
      "execution_count": null,
      "metadata": {
        "id": "65XMawR_7-Ap"
      },
      "outputs": [],
      "source": []
    },
    {
      "cell_type": "code",
      "execution_count": null,
      "metadata": {
        "id": "GhPAo_Uo7-Ap"
      },
      "outputs": [],
      "source": []
    },
    {
      "cell_type": "code",
      "execution_count": null,
      "metadata": {
        "id": "hoi4vKcZ7-Ap"
      },
      "outputs": [],
      "source": [
        "#informação 3.A\n"
      ]
    },
    {
      "cell_type": "code",
      "execution_count": null,
      "metadata": {
        "id": "cHnnk8H-7-Ap"
      },
      "outputs": [],
      "source": []
    },
    {
      "cell_type": "code",
      "execution_count": null,
      "metadata": {
        "id": "9Yv8HUst7-Ap"
      },
      "outputs": [],
      "source": []
    },
    {
      "cell_type": "code",
      "execution_count": null,
      "metadata": {
        "id": "mHZvs6HM7-Ap"
      },
      "outputs": [],
      "source": [
        "#informação 3.B\n"
      ]
    },
    {
      "cell_type": "code",
      "execution_count": null,
      "metadata": {
        "id": "M5Kyfsq_7-Ap"
      },
      "outputs": [],
      "source": []
    },
    {
      "cell_type": "code",
      "execution_count": null,
      "metadata": {
        "id": "BX0_wfaC7-Ap"
      },
      "outputs": [],
      "source": []
    },
    {
      "cell_type": "code",
      "execution_count": null,
      "metadata": {
        "id": "xnrzVG-h7-Ap"
      },
      "outputs": [],
      "source": [
        "#informação 3.C\n"
      ]
    },
    {
      "cell_type": "code",
      "execution_count": null,
      "metadata": {
        "id": "6x7Fs3-27-Ap"
      },
      "outputs": [],
      "source": []
    },
    {
      "cell_type": "code",
      "execution_count": null,
      "metadata": {
        "id": "IEkYwl0J7-Aq"
      },
      "outputs": [],
      "source": []
    },
    {
      "cell_type": "code",
      "execution_count": null,
      "metadata": {
        "id": "NdYdulrD7-Aq"
      },
      "outputs": [],
      "source": [
        "#informação 4\n"
      ]
    },
    {
      "cell_type": "code",
      "execution_count": null,
      "metadata": {
        "id": "jEVc_BD57-Aq"
      },
      "outputs": [],
      "source": []
    },
    {
      "cell_type": "code",
      "execution_count": null,
      "metadata": {
        "id": "Zkq4lChd7-Aq"
      },
      "outputs": [],
      "source": []
    },
    {
      "cell_type": "code",
      "execution_count": null,
      "metadata": {
        "id": "5XQLe6ZF7-Aq"
      },
      "outputs": [],
      "source": [
        "#informação 5.A\n"
      ]
    },
    {
      "cell_type": "code",
      "execution_count": null,
      "metadata": {
        "id": "uvLNCkbP7-Aq"
      },
      "outputs": [],
      "source": []
    },
    {
      "cell_type": "code",
      "execution_count": null,
      "metadata": {
        "id": "rjmRi7sa7-At"
      },
      "outputs": [],
      "source": []
    },
    {
      "cell_type": "code",
      "execution_count": null,
      "metadata": {
        "id": "RLO1xkNz7-At"
      },
      "outputs": [],
      "source": [
        "#informação 5.B\n"
      ]
    },
    {
      "cell_type": "code",
      "execution_count": null,
      "metadata": {
        "id": "M5FA3FlX7-At"
      },
      "outputs": [],
      "source": []
    },
    {
      "cell_type": "code",
      "execution_count": null,
      "metadata": {
        "id": "4cBqc3Ns7-At"
      },
      "outputs": [],
      "source": []
    },
    {
      "cell_type": "code",
      "execution_count": null,
      "metadata": {
        "id": "q139eG3e7-At"
      },
      "outputs": [],
      "source": [
        "#informação 5.C\n"
      ]
    },
    {
      "cell_type": "code",
      "execution_count": null,
      "metadata": {
        "id": "Pljanezm7-At"
      },
      "outputs": [],
      "source": []
    },
    {
      "cell_type": "code",
      "execution_count": null,
      "metadata": {
        "id": "KpOaEJXU7-At"
      },
      "outputs": [],
      "source": []
    },
    {
      "cell_type": "code",
      "execution_count": null,
      "metadata": {
        "id": "IkaHAHXJ7-At"
      },
      "outputs": [],
      "source": [
        "#informação 6\n"
      ]
    },
    {
      "cell_type": "code",
      "execution_count": null,
      "metadata": {
        "id": "Ex76qmZR7-Au"
      },
      "outputs": [],
      "source": []
    },
    {
      "cell_type": "code",
      "execution_count": null,
      "metadata": {
        "id": "vbMj-F_m7-Au"
      },
      "outputs": [],
      "source": []
    },
    {
      "cell_type": "code",
      "execution_count": null,
      "metadata": {
        "id": "OMOfg_zj7-Au"
      },
      "outputs": [],
      "source": [
        "#informação 7.A\n"
      ]
    },
    {
      "cell_type": "code",
      "execution_count": null,
      "metadata": {
        "id": "D9Sjocpq7-Au"
      },
      "outputs": [],
      "source": []
    },
    {
      "cell_type": "code",
      "execution_count": null,
      "metadata": {
        "id": "SETbl0an7-Au"
      },
      "outputs": [],
      "source": []
    },
    {
      "cell_type": "code",
      "execution_count": null,
      "metadata": {
        "scrolled": true,
        "id": "ITUOsHqr7-Au"
      },
      "outputs": [],
      "source": [
        "#informação 7.B\n"
      ]
    },
    {
      "cell_type": "code",
      "execution_count": null,
      "metadata": {
        "id": "iqBrbS8_7-Au"
      },
      "outputs": [],
      "source": []
    },
    {
      "cell_type": "code",
      "execution_count": null,
      "metadata": {
        "id": "NlDaSCcL7-Au"
      },
      "outputs": [],
      "source": []
    }
  ],
  "metadata": {
    "kernelspec": {
      "display_name": "Python 3 (ipykernel)",
      "language": "python",
      "name": "python3"
    },
    "language_info": {
      "codemirror_mode": {
        "name": "ipython",
        "version": 3
      },
      "file_extension": ".py",
      "mimetype": "text/x-python",
      "name": "python",
      "nbconvert_exporter": "python",
      "pygments_lexer": "ipython3",
      "version": "3.10.9"
    },
    "colab": {
      "provenance": []
    }
  },
  "nbformat": 4,
  "nbformat_minor": 0
}