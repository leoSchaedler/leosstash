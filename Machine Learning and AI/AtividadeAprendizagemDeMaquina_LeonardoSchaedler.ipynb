{
  "cells": [
    {
      "cell_type": "markdown",
      "source": [
        "**Aluno: Leonardo Ribeiro Schaedler**"
      ],
      "metadata": {
        "id": "QwKAEX4sB-CO"
      }
    },
    {
      "cell_type": "markdown",
      "metadata": {
        "id": "C0CnnJgf7-Ah"
      },
      "source": [
        "# Atividade Aprendizagem de Máquina - Spark MLLib\n",
        "\n",
        "Considerando o dataset detalhado a seguir, aplique as técnicas solicitadas\n",
        "\n",
        "### Dataset dados de sensores veicular\n",
        "\n",
        "- Dados relativos a sensores de internet das coisas (IoT) para detecção de estados dos medidores\n",
        "\n",
        "\n",
        "| #  \t| Nome do campo           \t| Descrição                                                                     \t|\n",
        "|----\t|-------------------------\t|-------------------------------------------------------------------------------\t|\n",
        "| 0  \t| Hora               \t| Hora média das medições                                                          \t|\n",
        "| 1  \t| Minuto         \t| Minuto médio das medições                                               \t|\n",
        "| 2  \t| Temp_minima         \t| Temperatura mínima das medições                                               \t|\n",
        "| 3  \t| Temp_maxima         \t| Temperatura máxima das medições                                               \t|\n",
        "| 4  \t| Latitude_media  \t| Latitude média das medições                             \t|\n",
        "| 5  \t| Longitude_media  \t| Longitude média das medições                             \t|\n",
        "| 6  \t| Classe  \t| Estado do medidor (Frio, Moderado, Quente, Alerta)                             \t|\n",
        "\n",
        "\n",
        "**Informações a serem extraídas:**\n",
        "\n",
        "1. Calcule a acurácia de classificação na base de testes para os seguintes classificadores:\n",
        "    1. Árvore de Decisão (from pyspark.ml.classification import DecisionTreeClassifier)\n",
        "    2. Random Forest com 5 arvores (from pyspark.ml.classification import RandomForestClassifier, e numTrees=5 no construtor do RandomForestClassifier)\n",
        "    3. Random Forest com 100 arvores (numTrees=100 no construtor do RandomForestClassifier)\n",
        "2. Determine qual a quantidade de eventos Alerta (label = 3.0) classificados erroneamente como outra classe (falso-negativo) para os classificadores\n",
        "    1. Árvore de Decisão (from pyspark.ml.classification import DecisionTreeClassifier)\n",
        "    2. Random Forest com 5 arvores (from pyspark.ml.classification import RandomForestClassifier, e numTrees=5 no construtor do RandomForestClassifier)\n",
        "    3. Random Forest com 100 arvores (numTrees=100 no construtor do RandomForestClassifier)\n",
        "3. Determine qual a quantidade de eventos não Alerta (label = 0.0, ou label = 1.0, ou label = 2.0) classificados erroneamente como classe Alerta (falso-positivo) para os classificadores\n",
        "    1. Árvore de Decisão (from pyspark.ml.classification import DecisionTreeClassifier)\n",
        "    2. Random Forest com 5 arvores (from pyspark.ml.classification import RandomForestClassifier, e numTrees=5 no construtor do RandomForestClassifier)\n",
        "    3. Random Forest com 100 arvores (numTrees=100 no construtor do RandomForestClassifier)\n",
        "4. Faça votação entre os classificadores da etapa 1.A, 1.B e 1.C para atribuir a classe do evento de acordo com a maioria das classes entre os classificadores\n",
        "    - Dicas: Para isto, voce irá precisar fazer o join das predições de cada classificador de acordo com os IDs dos eventos. Posteriormente voce pode manipular o dataframe, após o join, para determinar qual classe de cada evento possuiu maior votação =). Exemplo de código:\n",
        "```python\n",
        "\n",
        "    import pyspark.sql.functions as func\n",
        "    \n",
        "    predicaoDT.select(func.col('prediction').alias('prediction_dt'),\n",
        "                        func.col('label'),\n",
        "                        func.col('id'))\\\n",
        "    .join(predicaoRF.select(func.col('prediction').alias('prediction_rf'),\n",
        "                        func.col('id')), ['id'])\n",
        "```\n",
        "5. Considerando que voce possui apenas duas classes: Não Alerta e Alerta. Calcule a acurácia de classificação na base de testes para os seguintes classificadores:\n",
        "    1. Árvore de Decisão (from pyspark.ml.classification import DecisionTreeClassifier)\n",
        "    2. Random Forest com 20 arvores (from pyspark.ml.classification import RandomForestClassifier, e numTrees=20 no construtor do RandomForestClassifier)\n",
        "    3. Random Forest com 100 arvores (numTrees=100 no construtor do RandomForestClassifier)\n",
        "        - Dicas: Para isto, você irá precisar manipular o dataframe para alterar os valores da coluna label, por exemplo através de uma UDF\n",
        "6. Determine qual a quantidade de eventos Alerta (label = 3.0) classificados erroneamente como outra classe (falso-negativo) para os classificadores do item 5\n",
        "7. Faça busca de parametros dos classificadores desenvolvidos no item 5. Plote um gráfico relacionando a acurácia e os parametros otimizados\n",
        "    1. Árvore de Decisão varie o parametro maxDepth de 1 a 20\n",
        "    2. Random Forest varie o numTrees de 1 a 20\n",
        "\n",
        "**Dicas:**\n",
        "- *Crie uma célula (Insert -> Insert Cell Below) para cada informação solicitada*\n",
        "- *A análise deve ser feita sobre os dados do HDFS*\n",
        "- *Inicialize o seu cluster executando o script em: Desktop/ambientes/spark/inicializar.sh*\n",
        "- *Acesse o seu cluster executando o script em: Desktop/ambientes/spark/abrir_navegador.sh*"
      ]
    },
    {
      "cell_type": "code",
      "source": [
        "#instala pyspark no google colab\n",
        "!pip install pyspark==3.3.1"
      ],
      "metadata": {
        "id": "oVx5Ddrt8YBm",
        "colab": {
          "base_uri": "https://localhost:8080/"
        },
        "outputId": "a54853f5-e7e1-4294-ec45-8fb44b29d240"
      },
      "execution_count": 3,
      "outputs": [
        {
          "output_type": "stream",
          "name": "stdout",
          "text": [
            "Collecting pyspark==3.3.1\n",
            "  Downloading pyspark-3.3.1.tar.gz (281.4 MB)\n",
            "\u001b[2K     \u001b[90m━━━━━━━━━━━━━━━━━━━━━━━━━━━━━━━━━━━━━━━━\u001b[0m \u001b[32m281.4/281.4 MB\u001b[0m \u001b[31m3.8 MB/s\u001b[0m eta \u001b[36m0:00:00\u001b[0m\n",
            "\u001b[?25h  Preparing metadata (setup.py) ... \u001b[?25l\u001b[?25hdone\n",
            "Collecting py4j==0.10.9.5 (from pyspark==3.3.1)\n",
            "  Downloading py4j-0.10.9.5-py2.py3-none-any.whl (199 kB)\n",
            "\u001b[2K     \u001b[90m━━━━━━━━━━━━━━━━━━━━━━━━━━━━━━━━━━━━━━━━\u001b[0m \u001b[32m199.7/199.7 kB\u001b[0m \u001b[31m20.1 MB/s\u001b[0m eta \u001b[36m0:00:00\u001b[0m\n",
            "\u001b[?25hBuilding wheels for collected packages: pyspark\n",
            "  Building wheel for pyspark (setup.py) ... \u001b[?25l\u001b[?25hdone\n",
            "  Created wheel for pyspark: filename=pyspark-3.3.1-py2.py3-none-any.whl size=281845494 sha256=03a7eebfe67fe91880e8519e70509c4fa3c423d58b51816e1cd8ba225079f5c8\n",
            "  Stored in directory: /root/.cache/pip/wheels/0f/f0/3d/517368b8ce80486e84f89f214e0a022554e4ee64969f46279b\n",
            "Successfully built pyspark\n",
            "Installing collected packages: py4j, pyspark\n",
            "  Attempting uninstall: py4j\n",
            "    Found existing installation: py4j 0.10.9.7\n",
            "    Uninstalling py4j-0.10.9.7:\n",
            "      Successfully uninstalled py4j-0.10.9.7\n",
            "Successfully installed py4j-0.10.9.5 pyspark-3.3.1\n"
          ]
        }
      ]
    },
    {
      "cell_type": "code",
      "source": [
        "# abre sessão no spark sql\n",
        "from pyspark.sql import SparkSession\n",
        "\n",
        "sc = SparkSession \\\n",
        "    .builder \\\n",
        "    .master('local[*]') \\\n",
        "    .getOrCreate()"
      ],
      "metadata": {
        "id": "LiAXwA8G8Ym-"
      },
      "execution_count": 4,
      "outputs": []
    },
    {
      "cell_type": "code",
      "source": [
        "#Efetua download do arquivo\n",
        "!gdown 1-lSo7A-SIuntho9tAqVO25enmLlxFe7S\n",
        "!gdown 1-iG4e4-SzJONLi3Nw98nm9UdFzoqCHDI"
      ],
      "metadata": {
        "id": "msZn2UhI8bXm",
        "colab": {
          "base_uri": "https://localhost:8080/"
        },
        "outputId": "dca9e2a0-639f-4f00-c157-13567949769b"
      },
      "execution_count": 5,
      "outputs": [
        {
          "output_type": "stream",
          "name": "stdout",
          "text": [
            "Downloading...\n",
            "From: https://drive.google.com/uc?id=1-lSo7A-SIuntho9tAqVO25enmLlxFe7S\n",
            "To: /content/treinamento.csv\n",
            "100% 26.1M/26.1M [00:00<00:00, 134MB/s]\n",
            "Downloading...\n",
            "From: https://drive.google.com/uc?id=1-iG4e4-SzJONLi3Nw98nm9UdFzoqCHDI\n",
            "To: /content/teste.csv\n",
            "100% 37.4M/37.4M [00:00<00:00, 75.6MB/s]\n"
          ]
        }
      ]
    },
    {
      "cell_type": "code",
      "execution_count": 58,
      "metadata": {
        "id": "32AghrEe7-Am"
      },
      "outputs": [],
      "source": [
        "dfTreino = sc.read\\\n",
        "    .option('delimiter',',')\\\n",
        "    .option('header','true')\\\n",
        "    .option('inferschema','true')\\\n",
        "    .csv('file:////content/treinamento.csv')\n",
        "\n",
        "dfTeste = sc.read\\\n",
        "    .option('delimiter',',')\\\n",
        "    .option('header','true')\\\n",
        "    .option('inferschema','true')\\\n",
        "    .csv('file:////content/teste.csv')"
      ]
    },
    {
      "cell_type": "code",
      "execution_count": 7,
      "metadata": {
        "scrolled": true,
        "id": "BchHFlgd7-Am",
        "colab": {
          "base_uri": "https://localhost:8080/"
        },
        "outputId": "f890d0ef-1de9-4991-d22e-077a867f687a"
      },
      "outputs": [
        {
          "output_type": "stream",
          "name": "stdout",
          "text": [
            "root\n",
            " |-- hora: double (nullable = true)\n",
            " |-- minuto: double (nullable = true)\n",
            " |-- temp_minima: double (nullable = true)\n",
            " |-- temp_maxima: double (nullable = true)\n",
            " |-- latitude_media: double (nullable = true)\n",
            " |-- longitude_media: double (nullable = true)\n",
            " |-- Classe: string (nullable = true)\n",
            "\n"
          ]
        }
      ],
      "source": [
        "dfTreino.printSchema()"
      ]
    },
    {
      "cell_type": "code",
      "execution_count": 25,
      "metadata": {
        "id": "HPq8-vHD7-An"
      },
      "outputs": [],
      "source": [
        "#informação 1.A"
      ]
    },
    {
      "cell_type": "code",
      "source": [
        "dfTreino.groupBy(\"Classe\").count().show()"
      ],
      "metadata": {
        "colab": {
          "base_uri": "https://localhost:8080/"
        },
        "id": "pbm0E0nKf1Es",
        "outputId": "8e63ec17-8ecc-42e8-c4ce-2acb30ee8d99"
      },
      "execution_count": 60,
      "outputs": [
        {
          "output_type": "stream",
          "name": "stdout",
          "text": [
            "+--------+------+\n",
            "|  Classe| count|\n",
            "+--------+------+\n",
            "|Moderado|122589|\n",
            "|  Alerta|115740|\n",
            "|  Quente| 59031|\n",
            "|    Frio|106767|\n",
            "+--------+------+\n",
            "\n"
          ]
        }
      ]
    },
    {
      "cell_type": "code",
      "source": [
        "from pyspark.ml import Pipeline\n",
        "from pyspark.ml.classification import DecisionTreeClassifier\n",
        "from pyspark.ml.evaluation import MulticlassClassificationEvaluator\n",
        "from pyspark.ml.feature import VectorAssembler\n",
        "from pyspark.ml.feature import StringIndexer\n",
        "\n",
        "labelIndexer = StringIndexer(inputCol=\"Classe\", outputCol=\"indexedLabel\").fit(dfTreino)\n",
        "\n",
        "assembler = VectorAssembler(\n",
        "    inputCols=[\"hora\", \"minuto\", \"temp_minima\", \"temp_maxima\", \"latitude_media\", \"longitude_media\"],\n",
        "    outputCol=\"features\")\n",
        "\n",
        "dt = DecisionTreeClassifier(labelCol=\"indexedLabel\", featuresCol=\"features\")\n",
        "\n",
        "pipeline_dt = Pipeline(stages=[labelIndexer, assembler, dt])\n",
        "\n",
        "model_dt = pipeline_dt.fit(dfTreino)\n",
        "\n",
        "predictions_dt = model_dt.transform(dfTeste)\n",
        "\n",
        "predictions_dt.select(\"prediction\", \"Classe\", \"features\").show(120)\n",
        "\n",
        "evaluator = MulticlassClassificationEvaluator(labelCol=\"indexedLabel\", predictionCol=\"prediction\", metricName=\"accuracy\")\n",
        "accuracy_dt = evaluator.evaluate(predictions_dt)\n",
        "print(\"Decision Tree Accuracy = %g\" % accuracy_dt)"
      ],
      "metadata": {
        "colab": {
          "base_uri": "https://localhost:8080/"
        },
        "id": "61roV_TDcUbZ",
        "outputId": "b036916f-4608-4ac9-ea32-bfa11eada0cb"
      },
      "execution_count": 61,
      "outputs": [
        {
          "output_type": "stream",
          "name": "stdout",
          "text": [
            "+----------+--------+--------------------+\n",
            "|prediction|  Classe|            features|\n",
            "+----------+--------+--------------------+\n",
            "|       0.0|Moderado|[11.787212,29.005...|\n",
            "|       0.0|Moderado|[11.482636,29.845...|\n",
            "|       0.0|Moderado|[11.312064,29.751...|\n",
            "|       0.0|Moderado|[11.530982,29.505...|\n",
            "|       0.0|Moderado|[11.4008,29.42228...|\n",
            "|       0.0|Moderado|[11.50784,29.1851...|\n",
            "|       0.0|Moderado|[11.318713,29.743...|\n",
            "|       0.0|Moderado|[11.324524,30.054...|\n",
            "|       0.0|Moderado|[11.563602,29.702...|\n",
            "|       0.0|Moderado|[11.512673,30.439...|\n",
            "|       0.0|Moderado|[11.662633,29.325...|\n",
            "|       0.0|Moderado|[11.465534,28.917...|\n",
            "|       0.0|Moderado|[11.511455,29.308...|\n",
            "|       0.0|Moderado|[11.458397,29.353...|\n",
            "|       0.0|Moderado|[11.200801,29.746...|\n",
            "|       0.0|Moderado|[11.46211,29.5755...|\n",
            "|       0.0|Moderado|[11.418279,29.644...|\n",
            "|       0.0|Moderado|[11.496075,29.468...|\n",
            "|       0.0|Moderado|[11.367968,29.559...|\n",
            "|       0.0|Moderado|[11.400568,29.441...|\n",
            "|       0.0|Moderado|[11.333493,28.748...|\n",
            "|       0.0|Moderado|[11.288729,29.360...|\n",
            "|       0.0|Moderado|[11.58427,29.4846...|\n",
            "|       0.0|Moderado|[11.026908,28.452...|\n",
            "|       0.0|Moderado|[11.830161,30.098...|\n",
            "|       0.0|Moderado|[11.720544,29.646...|\n",
            "|       0.0|Moderado|[11.640209,29.405...|\n",
            "|       0.0|Moderado|[11.530965,29.631...|\n",
            "|       1.0|  Alerta|[11.257852,29.419...|\n",
            "|       1.0|  Alerta|[11.48274,29.2766...|\n",
            "|       1.0|  Alerta|[11.631514,29.235...|\n",
            "|       1.0|  Alerta|[11.613255,29.760...|\n",
            "|       1.0|  Alerta|[11.675102,29.363...|\n",
            "|       1.0|  Alerta|[11.631688,30.308...|\n",
            "|       1.0|  Alerta|[11.564752,29.682...|\n",
            "|       1.0|  Alerta|[11.622233,29.177...|\n",
            "|       1.0|  Alerta|[11.443732,29.498...|\n",
            "|       1.0|  Alerta|[11.869231,29.198...|\n",
            "|       1.0|  Alerta|[11.602235,29.298...|\n",
            "|       1.0|  Alerta|[11.380605,29.691...|\n",
            "|       1.0|  Quente|[11.391702,30.079...|\n",
            "|       1.0|  Alerta|[11.489745,29.258...|\n",
            "|       1.0|  Alerta|[11.541375,30.024...|\n",
            "|       1.0|  Alerta|[11.510363,29.307...|\n",
            "|       1.0|  Alerta|[11.484099,28.843...|\n",
            "|       1.0|  Alerta|[11.605491,29.316...|\n",
            "|       1.0|  Alerta|[11.623494,29.716...|\n",
            "|       1.0|  Alerta|[11.592303,30.350...|\n",
            "|       1.0|  Alerta|[11.276243,29.965...|\n",
            "|       1.0|  Alerta|[11.49974,29.7212...|\n",
            "|       1.0|  Alerta|[11.540335,30.063...|\n",
            "|       1.0|  Alerta|[11.598681,29.532...|\n",
            "|       1.0|  Alerta|[11.712121,29.854...|\n",
            "|       2.0|    Frio|[11.526635,29.355...|\n",
            "|       1.0|  Alerta|[11.305541,29.799...|\n",
            "|       1.0|  Alerta|[11.722752,29.550...|\n",
            "|       2.0|    Frio|[11.592336,29.399...|\n",
            "|       1.0|  Alerta|[11.17954,28.9647...|\n",
            "|       2.0|    Frio|[11.377605,29.190...|\n",
            "|       1.0|  Alerta|[11.742785,29.175...|\n",
            "|       1.0|  Alerta|[11.356926,28.949...|\n",
            "|       1.0|  Alerta|[11.513458,29.769...|\n",
            "|       1.0|  Alerta|[11.586493,28.877...|\n",
            "|       1.0|  Alerta|[11.539286,29.533...|\n",
            "|       1.0|  Alerta|[11.506323,29.430...|\n",
            "|       1.0|  Alerta|[11.483111,29.463...|\n",
            "|       1.0|  Alerta|[11.38347,29.2844...|\n",
            "|       1.0|  Alerta|[11.601378,29.630...|\n",
            "|       2.0|    Frio|[11.667106,28.512...|\n",
            "|       1.0|  Alerta|[11.272433,29.046...|\n",
            "|       2.0|    Frio|[11.423432,29.386...|\n",
            "|       1.0|  Alerta|[11.347318,29.878...|\n",
            "|       2.0|    Frio|[11.528915,29.237...|\n",
            "|       1.0|  Alerta|[11.379653,29.315...|\n",
            "|       2.0|    Frio|[11.353655,29.917...|\n",
            "|       1.0|  Alerta|[11.621766,29.464...|\n",
            "|       2.0|    Frio|[11.643889,29.413...|\n",
            "|       1.0|  Alerta|[11.631882,29.688...|\n",
            "|       2.0|    Frio|[11.527155,29.417...|\n",
            "|       1.0|  Alerta|[11.150944,29.318...|\n",
            "|       2.0|    Frio|[11.327479,29.380...|\n",
            "|       1.0|  Alerta|[11.316318,30.084...|\n",
            "|       2.0|    Frio|[11.532248,29.114...|\n",
            "|       1.0|  Alerta|[11.472385,29.303...|\n",
            "|       2.0|    Frio|[11.329053,29.571...|\n",
            "|       1.0|  Alerta|[11.547619,29.319...|\n",
            "|       2.0|    Frio|[11.71754,29.5655...|\n",
            "|       1.0|  Alerta|[11.52499,29.6696...|\n",
            "|       2.0|    Frio|[11.485458,30.503...|\n",
            "|       1.0|  Alerta|[11.285312,29.435...|\n",
            "|       2.0|    Frio|[11.59501,29.3413...|\n",
            "|       1.0|  Alerta|[11.70718,29.1419...|\n",
            "|       2.0|    Frio|[11.436854,29.264...|\n",
            "|       1.0|  Alerta|[11.527677,28.978...|\n",
            "|       2.0|    Frio|[11.4512,29.42951...|\n",
            "|       1.0|  Alerta|[11.400895,29.761...|\n",
            "|       2.0|    Frio|[11.627732,29.600...|\n",
            "|       1.0|  Alerta|[11.260904,29.176...|\n",
            "|       2.0|    Frio|[11.502564,29.570...|\n",
            "|       1.0|  Alerta|[11.20698,29.5447...|\n",
            "|       1.0|  Alerta|[11.566506,29.168...|\n",
            "|       1.0|  Alerta|[11.543621,29.881...|\n",
            "|       1.0|  Alerta|[11.390726,29.687...|\n",
            "|       1.0|  Alerta|[11.570846,29.682...|\n",
            "|       2.0|    Frio|[11.410933,29.229...|\n",
            "|       1.0|  Alerta|[11.399371,29.537...|\n",
            "|       2.0|    Frio|[11.451876,29.407...|\n",
            "|       1.0|  Alerta|[11.544235,29.396...|\n",
            "|       1.0|  Alerta|[11.298739,29.745...|\n",
            "|       2.0|    Frio|[11.402615,29.707...|\n",
            "|       2.0|    Frio|[11.643503,29.788...|\n",
            "|       2.0|    Frio|[11.638144,29.692...|\n",
            "|       1.0|  Alerta|[11.341998,28.781...|\n",
            "|       2.0|    Frio|[11.436422,29.297...|\n",
            "|       1.0|  Alerta|[11.285292,29.661...|\n",
            "|       2.0|    Frio|[11.421997,29.003...|\n",
            "|       1.0|  Alerta|[11.366598,29.478...|\n",
            "|       2.0|    Frio|[11.769813,29.548...|\n",
            "|       1.0|  Alerta|[11.55592,29.5464...|\n",
            "|       2.0|    Frio|[11.397764,29.062...|\n",
            "+----------+--------+--------------------+\n",
            "only showing top 120 rows\n",
            "\n",
            "Decision Tree Accuracy = 0.941246\n"
          ]
        }
      ]
    },
    {
      "cell_type": "code",
      "execution_count": null,
      "metadata": {
        "id": "Cp7kHtEZ7-Ao"
      },
      "outputs": [],
      "source": [
        "#informação 1.B"
      ]
    },
    {
      "cell_type": "code",
      "execution_count": 62,
      "metadata": {
        "id": "u3ScZWXf7-Ao",
        "colab": {
          "base_uri": "https://localhost:8080/"
        },
        "outputId": "a0422c74-87eb-47c3-f5fc-cc40a81edb44"
      },
      "outputs": [
        {
          "output_type": "stream",
          "name": "stdout",
          "text": [
            "Random Forest with 5 Trees Accuracy = 0.93753\n"
          ]
        }
      ],
      "source": [
        "from pyspark.ml import Pipeline\n",
        "from pyspark.ml.classification import RandomForestClassifier\n",
        "from pyspark.ml.feature import StringIndexer, VectorAssembler\n",
        "from pyspark.ml.evaluation import MulticlassClassificationEvaluator\n",
        "\n",
        "dfTreino = sc.read\\\n",
        "    .option('delimiter',',')\\\n",
        "    .option('header','true')\\\n",
        "    .option('inferschema','true')\\\n",
        "    .csv('file:////content/treinamento.csv')\n",
        "\n",
        "labelIndexer = StringIndexer(inputCol=\"Classe\", outputCol=\"indexedLabel\").fit(dfTreino)\n",
        "\n",
        "assembler = VectorAssembler(\n",
        "    inputCols=[\"hora\", \"minuto\", \"temp_minima\", \"temp_maxima\", \"latitude_media\", \"longitude_media\"],\n",
        "    outputCol=\"features\")\n",
        "\n",
        "rf_5 = RandomForestClassifier(labelCol=\"indexedLabel\", featuresCol=\"features\", numTrees=5)\n",
        "pipeline_rf_5 = Pipeline(stages=[labelIndexer, assembler, rf_5])\n",
        "\n",
        "model_rf_5 = pipeline_rf_5.fit(dfTreino)\n",
        "\n",
        "predictions_rf_5 = model_rf_5.transform(dfTeste)\n",
        "\n",
        "evaluator = MulticlassClassificationEvaluator(labelCol=\"indexedLabel\", predictionCol=\"prediction\", metricName=\"accuracy\")\n",
        "accuracy_rf_5 = evaluator.evaluate(predictions_rf_5)\n",
        "print(\"Random Forest with 5 Trees Accuracy = %g\" % accuracy_rf_5)"
      ]
    },
    {
      "cell_type": "code",
      "execution_count": null,
      "metadata": {
        "id": "NiRLXncF7-Ao"
      },
      "outputs": [],
      "source": [
        "#informação 1.C"
      ]
    },
    {
      "cell_type": "code",
      "execution_count": 63,
      "metadata": {
        "id": "G2UVL7sM7-Ao",
        "colab": {
          "base_uri": "https://localhost:8080/"
        },
        "outputId": "6f653958-85c9-4ddb-9b34-035aee463d8b"
      },
      "outputs": [
        {
          "output_type": "stream",
          "name": "stdout",
          "text": [
            "Random Forest with 100 Trees Accuracy = 0.94549\n"
          ]
        }
      ],
      "source": [
        "from pyspark.ml import Pipeline\n",
        "from pyspark.ml.classification import RandomForestClassifier\n",
        "from pyspark.ml.feature import StringIndexer, VectorAssembler\n",
        "from pyspark.ml.evaluation import MulticlassClassificationEvaluator\n",
        "\n",
        "dfTreino = sc.read\\\n",
        "    .option('delimiter',',')\\\n",
        "    .option('header','true')\\\n",
        "    .option('inferschema','true')\\\n",
        "    .csv('file:////content/treinamento.csv')\n",
        "\n",
        "labelIndexer = StringIndexer(inputCol=\"Classe\", outputCol=\"indexedLabel\").fit(dfTreino)\n",
        "\n",
        "assembler = VectorAssembler(\n",
        "    inputCols=[\"hora\", \"minuto\", \"temp_minima\", \"temp_maxima\", \"latitude_media\", \"longitude_media\"],\n",
        "    outputCol=\"features\")\n",
        "\n",
        "rf_100 = RandomForestClassifier(labelCol=\"indexedLabel\", featuresCol=\"features\", numTrees=100)\n",
        "pipeline_rf_100 = Pipeline(stages=[labelIndexer, assembler, rf_100])\n",
        "\n",
        "model_rf_100 = pipeline_rf_100.fit(dfTreino)\n",
        "\n",
        "predictions_rf_100 = model_rf_100.transform(dfTeste)\n",
        "\n",
        "evaluator = MulticlassClassificationEvaluator(labelCol=\"indexedLabel\", predictionCol=\"prediction\", metricName=\"accuracy\")\n",
        "accuracy_rf_100 = evaluator.evaluate(predictions_rf_100)\n",
        "print(\"Random Forest with 100 Trees Accuracy = %g\" % accuracy_rf_100)"
      ]
    },
    {
      "cell_type": "code",
      "execution_count": null,
      "metadata": {
        "id": "r_BO4GpJ7-Ao"
      },
      "outputs": [],
      "source": [
        "#informação 2.A"
      ]
    },
    {
      "cell_type": "code",
      "execution_count": 64,
      "metadata": {
        "id": "p9jM7Z8P7-Ao",
        "colab": {
          "base_uri": "https://localhost:8080/"
        },
        "outputId": "38d662dc-b1b7-437f-bb57-4d67dc7225e1"
      },
      "outputs": [
        {
          "output_type": "stream",
          "name": "stdout",
          "text": [
            "Decision Tree False Negatives for 'Alerta': 9774\n"
          ]
        }
      ],
      "source": [
        "fn_dt = predictions_dt.filter((predictions_dt['indexedLabel'] == 3.0) & (predictions_dt['prediction'] != 3.0)).count()\n",
        "print(f\"Decision Tree False Negatives for 'Alerta': {fn_dt}\")"
      ]
    },
    {
      "cell_type": "code",
      "execution_count": null,
      "metadata": {
        "id": "2SocHQ837-Ap"
      },
      "outputs": [],
      "source": [
        "#informação 2.B"
      ]
    },
    {
      "cell_type": "code",
      "execution_count": 65,
      "metadata": {
        "id": "8skIt0Ex7-Ap",
        "colab": {
          "base_uri": "https://localhost:8080/"
        },
        "outputId": "cc9f72a2-d5f2-4324-e8cc-42f63c75d030"
      },
      "outputs": [
        {
          "output_type": "stream",
          "name": "stdout",
          "text": [
            "Random Forest with 5 Trees False Negatives for 'Alerta': 16290\n"
          ]
        }
      ],
      "source": [
        "fn_rf_5 = predictions_rf_5.filter((predictions_rf_5['indexedLabel'] == 3.0) & (predictions_rf_5['prediction'] != 3.0)).count()\n",
        "print(f\"Random Forest with 5 Trees False Negatives for 'Alerta': {fn_rf_5}\")"
      ]
    },
    {
      "cell_type": "code",
      "execution_count": null,
      "metadata": {
        "id": "_G3qS1L47-Ap"
      },
      "outputs": [],
      "source": [
        "#informação 2.C"
      ]
    },
    {
      "cell_type": "code",
      "execution_count": 66,
      "metadata": {
        "id": "65XMawR_7-Ap",
        "colab": {
          "base_uri": "https://localhost:8080/"
        },
        "outputId": "09ae5718-73fc-4e0e-fe1b-27a508d87216"
      },
      "outputs": [
        {
          "output_type": "stream",
          "name": "stdout",
          "text": [
            "Random Forest with 100 Trees False Negatives for 'Alerta': 12771\n"
          ]
        }
      ],
      "source": [
        "fn_rf_100 = predictions_rf_100.filter((predictions_rf_100['indexedLabel'] == 3.0) & (predictions_rf_100['prediction'] != 3.0)).count()\n",
        "print(f\"Random Forest with 100 Trees False Negatives for 'Alerta': {fn_rf_100}\")"
      ]
    },
    {
      "cell_type": "code",
      "execution_count": null,
      "metadata": {
        "id": "hoi4vKcZ7-Ap"
      },
      "outputs": [],
      "source": [
        "#informação 3.A"
      ]
    },
    {
      "cell_type": "code",
      "execution_count": 67,
      "metadata": {
        "id": "cHnnk8H-7-Ap",
        "colab": {
          "base_uri": "https://localhost:8080/"
        },
        "outputId": "0ce1ebe4-d99a-4927-8058-296a4eb9b819"
      },
      "outputs": [
        {
          "output_type": "stream",
          "name": "stdout",
          "text": [
            "Decision Tree False Positives for 'Alerta': 14202\n"
          ]
        }
      ],
      "source": [
        "fp_dt = predictions_dt.filter((predictions_dt['indexedLabel'] != 3.0) & (predictions_dt['prediction'] == 3.0)).count()\n",
        "print(f\"Decision Tree False Positives for 'Alerta': {fp_dt}\")"
      ]
    },
    {
      "cell_type": "code",
      "execution_count": null,
      "metadata": {
        "id": "mHZvs6HM7-Ap"
      },
      "outputs": [],
      "source": [
        "#informação 3.B"
      ]
    },
    {
      "cell_type": "code",
      "execution_count": 68,
      "metadata": {
        "id": "9Yv8HUst7-Ap",
        "colab": {
          "base_uri": "https://localhost:8080/"
        },
        "outputId": "a358fca5-4762-489f-f889-e4fd84d92e61"
      },
      "outputs": [
        {
          "output_type": "stream",
          "name": "stdout",
          "text": [
            "Random Forest with 5 Trees False Positives for 'Alerta': 7902\n"
          ]
        }
      ],
      "source": [
        "fp_rf_5 = predictions_rf_5.filter((predictions_rf_5['indexedLabel'] != 3.0) & (predictions_rf_5['prediction'] == 3.0)).count()\n",
        "print(f\"Random Forest with 5 Trees False Positives for 'Alerta': {fp_rf_5}\")"
      ]
    },
    {
      "cell_type": "code",
      "execution_count": null,
      "metadata": {
        "id": "xnrzVG-h7-Ap"
      },
      "outputs": [],
      "source": [
        "#informação 3.C"
      ]
    },
    {
      "cell_type": "code",
      "source": [
        "fp_rf_100 = predictions_rf_100.filter((predictions_rf_100['indexedLabel'] != 3.0) & (predictions_rf_100['prediction'] == 3.0)).count()\n",
        "print(f\"Random Forest with 100 Trees False Positives for 'Alerta': {fp_rf_100}\")"
      ],
      "metadata": {
        "colab": {
          "base_uri": "https://localhost:8080/"
        },
        "id": "o72UZQqsqV6M",
        "outputId": "d01bd065-29cb-46be-e040-09fbaea143af"
      },
      "execution_count": 69,
      "outputs": [
        {
          "output_type": "stream",
          "name": "stdout",
          "text": [
            "Random Forest with 100 Trees False Positives for 'Alerta': 9243\n"
          ]
        }
      ]
    },
    {
      "cell_type": "code",
      "execution_count": null,
      "metadata": {
        "id": "NdYdulrD7-Aq"
      },
      "outputs": [],
      "source": [
        "#informação 4"
      ]
    },
    {
      "cell_type": "code",
      "execution_count": 72,
      "metadata": {
        "id": "jEVc_BD57-Aq",
        "colab": {
          "base_uri": "https://localhost:8080/"
        },
        "outputId": "2a0adc41-4d0b-4bf5-80eb-19472b144ae1"
      },
      "outputs": [
        {
          "output_type": "stream",
          "name": "stdout",
          "text": [
            "+---+-------------+---------------+-----------------+-------------+\n",
            "| id|prediction_dt|prediction_rf_5|prediction_rf_100|majority_vote|\n",
            "+---+-------------+---------------+-----------------+-------------+\n",
            "|  0|          0.0|            0.0|              0.0|          0.0|\n",
            "|  1|          0.0|            0.0|              0.0|          0.0|\n",
            "|  5|          0.0|            0.0|              0.0|          0.0|\n",
            "|  6|          0.0|            0.0|              0.0|          0.0|\n",
            "|  7|          0.0|            0.0|              0.0|          0.0|\n",
            "|  9|          0.0|            0.0|              0.0|          0.0|\n",
            "| 10|          0.0|            0.0|              0.0|          0.0|\n",
            "| 17|          0.0|            0.0|              0.0|          0.0|\n",
            "| 19|          0.0|            0.0|              0.0|          0.0|\n",
            "| 22|          0.0|            0.0|              0.0|          0.0|\n",
            "| 25|          0.0|            0.0|              0.0|          0.0|\n",
            "| 26|          0.0|            0.0|              0.0|          0.0|\n",
            "| 27|          0.0|            0.0|              0.0|          0.0|\n",
            "| 28|          1.0|            1.0|              1.0|          1.0|\n",
            "| 29|          1.0|            1.0|              1.0|          1.0|\n",
            "| 31|          1.0|            1.0|              1.0|          1.0|\n",
            "| 32|          1.0|            1.0|              1.0|          1.0|\n",
            "| 33|          1.0|            1.0|              1.0|          1.0|\n",
            "| 34|          1.0|            1.0|              1.0|          1.0|\n",
            "| 39|          1.0|            1.0|              1.0|          1.0|\n",
            "| 41|          1.0|            1.0|              1.0|          1.0|\n",
            "| 43|          1.0|            1.0|              1.0|          1.0|\n",
            "| 44|          1.0|            1.0|              1.0|          1.0|\n",
            "| 48|          1.0|            1.0|              1.0|          1.0|\n",
            "| 50|          1.0|            1.0|              1.0|          1.0|\n",
            "| 51|          1.0|            1.0|              1.0|          1.0|\n",
            "| 52|          1.0|            1.0|              1.0|          1.0|\n",
            "| 54|          1.0|            1.0|              1.0|          1.0|\n",
            "| 56|          2.0|            2.0|              2.0|          2.0|\n",
            "| 57|          1.0|            1.0|              1.0|          1.0|\n",
            "| 58|          2.0|            2.0|              2.0|          2.0|\n",
            "| 63|          1.0|            1.0|              1.0|          1.0|\n",
            "| 65|          1.0|            1.0|              1.0|          1.0|\n",
            "| 67|          1.0|            1.0|              1.0|          1.0|\n",
            "| 68|          2.0|            2.0|              2.0|          2.0|\n",
            "| 71|          1.0|            1.0|              1.0|          1.0|\n",
            "| 72|          2.0|            2.0|              2.0|          2.0|\n",
            "| 77|          1.0|            1.0|              1.0|          1.0|\n",
            "| 79|          1.0|            1.0|              1.0|          1.0|\n",
            "| 84|          2.0|            2.0|              2.0|          2.0|\n",
            "| 85|          1.0|            1.0|              1.0|          1.0|\n",
            "| 87|          1.0|            1.0|              1.0|          1.0|\n",
            "| 88|          2.0|            2.0|              2.0|          2.0|\n",
            "| 89|          1.0|            1.0|              1.0|          1.0|\n",
            "| 94|          2.0|            2.0|              2.0|          2.0|\n",
            "| 95|          1.0|            1.0|              1.0|          1.0|\n",
            "| 96|          2.0|            2.0|              2.0|          2.0|\n",
            "| 98|          2.0|            2.0|              2.0|          2.0|\n",
            "|100|          1.0|            1.0|              1.0|          1.0|\n",
            "|103|          1.0|            1.0|              1.0|          1.0|\n",
            "|104|          2.0|            2.0|              2.0|          2.0|\n",
            "|105|          1.0|            1.0|              1.0|          1.0|\n",
            "|106|          2.0|            2.0|              2.0|          2.0|\n",
            "|107|          1.0|            1.0|              1.0|          1.0|\n",
            "|108|          1.0|            1.0|              1.0|          1.0|\n",
            "|110|          2.0|            2.0|              2.0|          2.0|\n",
            "|111|          2.0|            2.0|              2.0|          2.0|\n",
            "|112|          1.0|            1.0|              1.0|          1.0|\n",
            "|113|          2.0|            2.0|              2.0|          2.0|\n",
            "|114|          1.0|            1.0|              1.0|          1.0|\n",
            "|115|          2.0|            2.0|              2.0|          2.0|\n",
            "|116|          1.0|            1.0|              1.0|          1.0|\n",
            "|119|          2.0|            2.0|              2.0|          2.0|\n",
            "|120|          1.0|            1.0|              1.0|          1.0|\n",
            "|123|          1.0|            1.0|              1.0|          1.0|\n",
            "|124|          1.0|            1.0|              1.0|          1.0|\n",
            "|126|          0.0|            0.0|              0.0|          0.0|\n",
            "|127|          0.0|            0.0|              0.0|          0.0|\n",
            "|128|          0.0|            0.0|              0.0|          0.0|\n",
            "|130|          0.0|            0.0|              0.0|          0.0|\n",
            "|131|          0.0|            0.0|              0.0|          0.0|\n",
            "|132|          0.0|            0.0|              0.0|          0.0|\n",
            "|136|          0.0|            0.0|              0.0|          0.0|\n",
            "|138|          0.0|            0.0|              0.0|          0.0|\n",
            "|139|          0.0|            0.0|              0.0|          0.0|\n",
            "|142|          0.0|            0.0|              0.0|          0.0|\n",
            "|143|          0.0|            0.0|              0.0|          0.0|\n",
            "|144|          0.0|            0.0|              0.0|          0.0|\n",
            "|145|          0.0|            0.0|              0.0|          0.0|\n",
            "|146|          1.0|            1.0|              1.0|          1.0|\n",
            "|149|          0.0|            0.0|              0.0|          0.0|\n",
            "|150|          0.0|            0.0|              0.0|          0.0|\n",
            "|153|          0.0|            0.0|              0.0|          0.0|\n",
            "|155|          0.0|            0.0|              0.0|          0.0|\n",
            "|157|          0.0|            0.0|              0.0|          0.0|\n",
            "|158|          0.0|            0.0|              0.0|          0.0|\n",
            "|161|          0.0|            0.0|              0.0|          0.0|\n",
            "|167|          0.0|            0.0|              0.0|          0.0|\n",
            "|168|          1.0|            1.0|              1.0|          1.0|\n",
            "|170|          1.0|            1.0|              1.0|          1.0|\n",
            "|174|          1.0|            1.0|              1.0|          1.0|\n",
            "|177|          0.0|            0.0|              0.0|          0.0|\n",
            "|178|          0.0|            0.0|              0.0|          0.0|\n",
            "|179|          0.0|            0.0|              0.0|          0.0|\n",
            "|181|          0.0|            0.0|              0.0|          0.0|\n",
            "|184|          1.0|            1.0|              1.0|          1.0|\n",
            "|185|          3.0|            3.0|              3.0|          3.0|\n",
            "|187|          3.0|            3.0|              3.0|          3.0|\n",
            "|188|          3.0|            3.0|              3.0|          3.0|\n",
            "|190|          3.0|            3.0|              3.0|          3.0|\n",
            "|191|          3.0|            3.0|              3.0|          3.0|\n",
            "|193|          3.0|            3.0|              3.0|          3.0|\n",
            "|196|          3.0|            3.0|              3.0|          3.0|\n",
            "|197|          0.0|            0.0|              0.0|          0.0|\n",
            "|198|          3.0|            3.0|              3.0|          3.0|\n",
            "|201|          0.0|            0.0|              0.0|          0.0|\n",
            "|202|          3.0|            3.0|              3.0|          3.0|\n",
            "|203|          0.0|            0.0|              0.0|          0.0|\n",
            "|205|          0.0|            0.0|              0.0|          0.0|\n",
            "|207|          0.0|            0.0|              0.0|          0.0|\n",
            "|208|          3.0|            3.0|              3.0|          3.0|\n",
            "|209|          1.0|            1.0|              1.0|          1.0|\n",
            "|210|          3.0|            3.0|              3.0|          3.0|\n",
            "|212|          3.0|            3.0|              3.0|          3.0|\n",
            "|214|          3.0|            3.0|              3.0|          3.0|\n",
            "|215|          1.0|            1.0|              1.0|          1.0|\n",
            "|218|          3.0|            3.0|              3.0|          3.0|\n",
            "|219|          1.0|            1.0|              1.0|          1.0|\n",
            "|220|          3.0|            3.0|              3.0|          3.0|\n",
            "|221|          1.0|            1.0|              1.0|          1.0|\n",
            "+---+-------------+---------------+-----------------+-------------+\n",
            "only showing top 120 rows\n",
            "\n"
          ]
        }
      ],
      "source": [
        "from pyspark.sql.functions import monotonically_increasing_id\n",
        "from pyspark.sql import functions as func\n",
        "\n",
        "predictions_dt = predictions_dt.withColumn(\"id\", monotonically_increasing_id())\n",
        "predictions_rf_5 = predictions_rf_5.withColumn(\"id\", monotonically_increasing_id())\n",
        "predictions_rf_100 = predictions_rf_100.withColumn(\"id\", monotonically_increasing_id())\n",
        "\n",
        "pred_dt = predictions_dt.select(func.col('prediction').alias('prediction_dt'), func.col('id'))\n",
        "pred_rf_5 = predictions_rf_5.select(func.col('prediction').alias('prediction_rf_5'), func.col('id'))\n",
        "pred_rf_100 = predictions_rf_100.select(func.col('prediction').alias('prediction_rf_100'), func.col('id'))\n",
        "\n",
        "joined_predictions = pred_dt.join(pred_rf_5, 'id').join(pred_rf_100, 'id')\n",
        "\n",
        "majority_vote = joined_predictions.withColumn('majority_vote', func.round((func.col('prediction_dt') + func.col('prediction_rf_5') + func.col('prediction_rf_100')) / 3))\n",
        "\n",
        "majority_vote.show(120)"
      ]
    },
    {
      "cell_type": "code",
      "execution_count": null,
      "metadata": {
        "id": "5XQLe6ZF7-Aq"
      },
      "outputs": [],
      "source": [
        "#informação 5.A"
      ]
    },
    {
      "cell_type": "code",
      "execution_count": 78,
      "metadata": {
        "id": "uvLNCkbP7-Aq"
      },
      "outputs": [],
      "source": [
        "from pyspark.sql.functions import udf\n",
        "from pyspark.sql.types import DoubleType\n",
        "\n",
        "def convert_label(label):\n",
        "    return 1.0 if label == 3.0 else 0.0\n",
        "\n",
        "convert_label_udf = udf(convert_label, DoubleType())\n",
        "\n",
        "dfTreino = dfTreino.withColumn(\"binaryLabel\", convert_label_udf(\"Classe\"))\n",
        "dfTeste = dfTeste.withColumn(\"binaryLabel\", convert_label_udf(\"Classe\"))"
      ]
    },
    {
      "cell_type": "code",
      "source": [
        "dt_binary = DecisionTreeClassifier(labelCol=\"binaryLabel\", featuresCol=\"features\")\n",
        "pipeline_dt_binary = Pipeline(stages=[assembler, dt_binary])\n",
        "model_dt_binary = pipeline_dt_binary.fit(dfTreino)\n",
        "\n",
        "predictions_dt_binary = model_dt_binary.transform(dfTeste)\n",
        "\n",
        "accuracy_dt_binary = evaluator.evaluate(predictions_dt_binary, {evaluator.labelCol: \"binaryLabel\"})\n",
        "print(\"Decision Tree Binary Classification Accuracy = %g\" % accuracy_dt_binary)"
      ],
      "metadata": {
        "colab": {
          "base_uri": "https://localhost:8080/"
        },
        "id": "vNZU7MF4xsxR",
        "outputId": "d441d5e4-de11-49cc-d3be-fb89ee8cd9fd"
      },
      "execution_count": 79,
      "outputs": [
        {
          "output_type": "stream",
          "name": "stdout",
          "text": [
            "Decision Tree Binary Classification Accuracy = 1\n"
          ]
        }
      ]
    },
    {
      "cell_type": "code",
      "execution_count": null,
      "metadata": {
        "id": "RLO1xkNz7-At"
      },
      "outputs": [],
      "source": [
        "#informação 5.B"
      ]
    },
    {
      "cell_type": "code",
      "execution_count": 87,
      "metadata": {
        "id": "M5FA3FlX7-At",
        "colab": {
          "base_uri": "https://localhost:8080/"
        },
        "outputId": "43469b1e-ce17-4f45-f406-e6d6aa759678"
      },
      "outputs": [
        {
          "output_type": "stream",
          "name": "stdout",
          "text": [
            "Random Forest with 20 Trees Binary Classification Accuracy = 1\n"
          ]
        }
      ],
      "source": [
        "rf_20_binary = RandomForestClassifier(labelCol=\"binaryLabel\", featuresCol=\"features\", numTrees=20)\n",
        "pipeline_rf_20_binary = Pipeline(stages=[assembler, rf_20_binary])\n",
        "model_rf_20_binary = pipeline_rf_20_binary.fit(dfTreino)\n",
        "\n",
        "predictions_rf_20_binary = model_rf_20_binary.transform(dfTeste)\n",
        "\n",
        "accuracy_rf_20_binary = evaluator.evaluate(predictions_rf_20_binary, {evaluator.labelCol: \"binaryLabel\"})\n",
        "print(\"Random Forest with 20 Trees Binary Classification Accuracy = %g\" % accuracy_rf_20_binary)"
      ]
    },
    {
      "cell_type": "code",
      "execution_count": null,
      "metadata": {
        "id": "q139eG3e7-At"
      },
      "outputs": [],
      "source": [
        "#informação 5.C"
      ]
    },
    {
      "cell_type": "code",
      "execution_count": 86,
      "metadata": {
        "id": "Pljanezm7-At",
        "colab": {
          "base_uri": "https://localhost:8080/"
        },
        "outputId": "5fc7281a-ddce-4961-bc21-cd18749de69b"
      },
      "outputs": [
        {
          "output_type": "stream",
          "name": "stdout",
          "text": [
            "Random Forest with 100 Trees Binary Classification Accuracy = 1\n"
          ]
        }
      ],
      "source": [
        "rf_100_binary = RandomForestClassifier(labelCol=\"binaryLabel\", featuresCol=\"features\", numTrees=100)\n",
        "pipeline_rf_100_binary = Pipeline(stages=[assembler, rf_100_binary])\n",
        "model_rf_100_binary = pipeline_rf_100_binary.fit(dfTreino)\n",
        "\n",
        "predictions_rf_100_binary = model_rf_100_binary.transform(dfTeste)\n",
        "\n",
        "accuracy_rf_100_binary = evaluator.evaluate(predictions_rf_100_binary, {evaluator.labelCol: \"binaryLabel\"})\n",
        "print(\"Random Forest with 100 Trees Binary Classification Accuracy = %g\" % accuracy_rf_100_binary)"
      ]
    },
    {
      "cell_type": "code",
      "execution_count": null,
      "metadata": {
        "id": "IkaHAHXJ7-At"
      },
      "outputs": [],
      "source": [
        "#informação 6"
      ]
    },
    {
      "cell_type": "code",
      "execution_count": 82,
      "metadata": {
        "id": "Ex76qmZR7-Au",
        "colab": {
          "base_uri": "https://localhost:8080/"
        },
        "outputId": "be7410e9-451f-4430-84b6-baf8aecbde9e"
      },
      "outputs": [
        {
          "output_type": "stream",
          "name": "stdout",
          "text": [
            "Decision Tree False Negatives for 'Alerta': 0\n"
          ]
        }
      ],
      "source": [
        "fn_dt_binary = predictions_dt_binary.filter((predictions_dt_binary['binaryLabel'] == 1.0) & (predictions_dt_binary['prediction'] == 0.0)).count()\n",
        "print(f\"Decision Tree False Negatives for 'Alerta': {fn_dt_binary}\")"
      ]
    },
    {
      "cell_type": "code",
      "source": [
        "fn_rf_20_binary = predictions_rf_20_binary.filter((predictions_rf_20_binary['binaryLabel'] == 1.0) & (predictions_rf_20_binary['prediction'] == 0.0)).count()\n",
        "print(f\"Random Forest with 20 Trees False Negatives for 'Alerta': {fn_rf_20_binary}\")"
      ],
      "metadata": {
        "colab": {
          "base_uri": "https://localhost:8080/"
        },
        "id": "I2EjKjYv0SL2",
        "outputId": "3ced7f41-ff2e-415f-b8a6-01a811033907"
      },
      "execution_count": 83,
      "outputs": [
        {
          "output_type": "stream",
          "name": "stdout",
          "text": [
            "Random Forest with 20 Trees False Negatives for 'Alerta': 0\n"
          ]
        }
      ]
    },
    {
      "cell_type": "code",
      "source": [
        "fn_rf_100_binary = predictions_rf_100_binary.filter((predictions_rf_100_binary['binaryLabel'] == 1.0) & (predictions_rf_100_binary['prediction'] == 0.0)).count()\n",
        "print(f\"Random Forest with 100 Trees False Negatives for 'Alerta': {fn_rf_100_binary}\")"
      ],
      "metadata": {
        "colab": {
          "base_uri": "https://localhost:8080/"
        },
        "id": "mpuwucdj0Slm",
        "outputId": "70100b3e-75cf-4e81-dec6-f36447732d81"
      },
      "execution_count": 84,
      "outputs": [
        {
          "output_type": "stream",
          "name": "stdout",
          "text": [
            "Random Forest with 100 Trees False Negatives for 'Alerta': 0\n"
          ]
        }
      ]
    },
    {
      "cell_type": "code",
      "execution_count": null,
      "metadata": {
        "id": "OMOfg_zj7-Au"
      },
      "outputs": [],
      "source": [
        "#informação 7.A"
      ]
    },
    {
      "cell_type": "code",
      "execution_count": 88,
      "metadata": {
        "id": "D9Sjocpq7-Au",
        "colab": {
          "base_uri": "https://localhost:8080/",
          "height": 564
        },
        "outputId": "5e17b7b4-0d7b-4035-e383-6c11619dd7d9"
      },
      "outputs": [
        {
          "output_type": "display_data",
          "data": {
            "text/plain": [
              "<Figure size 1000x600 with 1 Axes>"
            ],
            "image/png": "[encoded data removed]"
          },
          "metadata": {}
        }
      ],
      "source": [
        "from pyspark.ml.evaluation import MulticlassClassificationEvaluator\n",
        "import matplotlib.pyplot as plt\n",
        "\n",
        "depths = list(range(1, 21))\n",
        "accuracies_dt = []\n",
        "\n",
        "for depth in depths:\n",
        "    dt = DecisionTreeClassifier(labelCol=\"binaryLabel\", featuresCol=\"features\", maxDepth=depth)\n",
        "    pipeline = Pipeline(stages=[assembler, dt])\n",
        "    model = pipeline.fit(dfTreino)\n",
        "    predictions = model.transform(dfTeste)\n",
        "\n",
        "    evaluator = MulticlassClassificationEvaluator(labelCol=\"binaryLabel\", predictionCol=\"prediction\", metricName=\"accuracy\")\n",
        "    accuracy = evaluator.evaluate(predictions)\n",
        "    accuracies_dt.append(accuracy)\n",
        "\n",
        "plt.figure(figsize=(10, 6))\n",
        "plt.plot(depths, accuracies_dt, marker='o', color='green')\n",
        "plt.title('Decision Tree Accuracy vs Max Depth')\n",
        "plt.xlabel('Max Depth')\n",
        "plt.ylabel('Accuracy')\n",
        "plt.grid(True)\n",
        "plt.show()"
      ]
    },
    {
      "cell_type": "code",
      "execution_count": null,
      "metadata": {
        "scrolled": true,
        "id": "ITUOsHqr7-Au"
      },
      "outputs": [],
      "source": [
        "#informação 7.B"
      ]
    },
    {
      "cell_type": "code",
      "execution_count": 89,
      "metadata": {
        "id": "iqBrbS8_7-Au",
        "colab": {
          "base_uri": "https://localhost:8080/",
          "height": 564
        },
        "outputId": "651c3a70-c01f-4c0f-ba18-001c3e81dec0"
      },
      "outputs": [
        {
          "output_type": "display_data",
          "data": {
            "text/plain": [
              "<Figure size 1000x600 with 1 Axes>"
            ],
            "image/png": "[encoded data removed]"
          },
          "metadata": {}
        }
      ],
      "source": [
        "num_trees = list(range(1, 21))\n",
        "accuracies_rf = []\n",
        "\n",
        "for n in num_trees:\n",
        "    rf = RandomForestClassifier(labelCol=\"binaryLabel\", featuresCol=\"features\", numTrees=n)\n",
        "    pipeline = Pipeline(stages=[assembler, rf])\n",
        "    model = pipeline.fit(dfTreino)\n",
        "    predictions = model.transform(dfTeste)\n",
        "\n",
        "    accuracy = evaluator.evaluate(predictions)\n",
        "    accuracies_rf.append(accuracy)\n",
        "\n",
        "plt.figure(figsize=(10, 6))\n",
        "plt.plot(num_trees, accuracies_rf, marker='o')\n",
        "plt.title('Random Forest Accuracy vs Number of Trees')\n",
        "plt.xlabel('Number of Trees')\n",
        "plt.ylabel('Accuracy')\n",
        "plt.grid(True)\n",
        "plt.show()"
      ]
    }
  ],
  "metadata": {
    "kernelspec": {
      "display_name": "Python 3 (ipykernel)",
      "language": "python",
      "name": "python3"
    },
    "language_info": {
      "codemirror_mode": {
        "name": "ipython",
        "version": 3
      },
      "file_extension": ".py",
      "mimetype": "text/x-python",
      "name": "python",
      "nbconvert_exporter": "python",
      "pygments_lexer": "ipython3",
      "version": "3.10.9"
    },
    "colab": {
      "provenance": []
    }
  },
  "nbformat": 4,
  "nbformat_minor": 0
}