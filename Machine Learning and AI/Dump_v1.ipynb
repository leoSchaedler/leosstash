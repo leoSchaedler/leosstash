{
  "nbformat": 4,
  "nbformat_minor": 0,
  "metadata": {
    "colab": {
      "name": "Dump.ipynb",
      "provenance": [],
      "collapsed_sections": []
    },
    "kernelspec": {
      "name": "python3",
      "display_name": "Python 3"
    }
  },
  "cells": [
    {
      "cell_type": "code",
      "metadata": {
        "id": "Zz9jYv0imX0t",
        "colab_type": "code",
        "outputId": "f702eea5-aa0e-479c-9238-ff590f842f9a",
        "colab": {
          "base_uri": "https://localhost:8080/",
          "height": 50
        }
      },
      "source": [
        "from joblib import dump, load\n",
        "from sklearn import datasets\n",
        "from sklearn import tree\n",
        "from sklearn.naive_bayes import GaussianNB\n",
        "from sklearn.neural_network  import MLPClassifier\n",
        "from sklearn.ensemble import BaggingClassifier\n",
        "import numpy as np\n",
        "import os\n",
        "\n",
        "rng = np.random.RandomState(123)\n",
        "\n",
        "# Problem classes\n",
        "classes = ['malignant', 'benign']\n",
        "\n",
        "# load the dataset\n",
        "bc = datasets.load_breast_cancer()\n",
        "X = bc.data\n",
        "y = bc.target\n",
        "\n",
        "# Creating a model (any kind of model)\n",
        "#mymodel = tree.DecisionTreeClassifier(criterion='entropy')\n",
        "mymodel = MLPClassifier(solver='lbfgs', early_stopping=True, hidden_layer_sizes=(32), activation='logistic', batch_size=100, max_iter=10000, learning_rate_init=0.001, momentum=0.8, random_state=rng)\n",
        "#mymodel = BaggingClassifier(n_estimators=30, random_state=0)\n",
        "#mymodel = GaussianNB()\n",
        "\n",
        "# Model training\n",
        "mymodel = mymodel.fit(X, y)\n",
        "\n",
        "# saving my model on disc (temporary fold at Google Colab, for instance)\n",
        "with open(\"mymodel.mod\", 'wb') as fo:  \n",
        "    dump(mymodel, fo)\n",
        "\n",
        "# loading my model from the disc\n",
        "with open(\"mymodel.mod\", 'rb') as fo:  \n",
        "    model_uploaded = load(fo)\n",
        "\n",
        "# Predicting the class of a given testing sample Z    \n",
        "Z=[[4.0, 3.1, 1.5, 0.9, 0.2, 0.1, 0.4, 0.5, 0.7, 2, 4.0, 3.1, 1.5, 0.9, 0.2, 0.1, 0.4, 0.5, 0.7, 2,4.0, 3.1, 1.5, 0.9, 0.2, 0.1, 0.4, 0.5, 0.7, 2]]\n",
        "classPredicted = model_uploaded.predict(Z)\n",
        "ClassProba = model_uploaded.predict_proba(Z)\n",
        "\n",
        "print('Class predicted = ', classes[classPredicted[0]])\n",
        "print('Class probability: ', ClassProba[0][classPredicted[0]])\n"
      ],
      "execution_count": 10,
      "outputs": [
        {
          "output_type": "stream",
          "text": [
            "Class predicted =  benign\n",
            "Class probability:  0.780628706216866\n"
          ],
          "name": "stdout"
        }
      ]
    }
  ]
}