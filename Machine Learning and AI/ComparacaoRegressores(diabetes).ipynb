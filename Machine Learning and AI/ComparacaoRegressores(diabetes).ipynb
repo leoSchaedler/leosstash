{
  "nbformat": 4,
  "nbformat_minor": 0,
  "metadata": {
    "colab": {
      "name": "ComparacaoRegressores_diabetes.ipynb",
      "provenance": [],
      "collapsed_sections": []
    },
    "kernelspec": {
      "name": "python3",
      "display_name": "Python 3"
    },
    "language_info": {
      "name": "python"
    }
  },
  "cells": [
    {
      "cell_type": "code",
      "metadata": {
        "id": "fXrEPVRA_0m1"
      },
      "source": [
        "from sklearn.datasets import load_diabetes\n",
        "\n",
        "import numpy as np\n",
        "import urllib.request\n",
        "import pandas as pd\n",
        "\n",
        "from sklearn.svm import SVR\n",
        "from sklearn import tree\n",
        "from sklearn.neighbors import KNeighborsRegressor\n",
        "from sklearn.metrics import r2_score,  mean_absolute_error\n",
        "from sklearn import  model_selection\n",
        "from sklearn.model_selection import train_test_split, GridSearchCV\n",
        "from sklearn.externals.six import StringIO \n",
        "from sklearn.neural_network import MLPRegressor, MLPClassifier"
      ],
      "execution_count": 48,
      "outputs": []
    },
    {
      "cell_type": "markdown",
      "metadata": {
        "id": "4igeoHwACRTE"
      },
      "source": [
        "KNN"
      ]
    },
    {
      "cell_type": "code",
      "metadata": {
        "colab": {
          "base_uri": "https://localhost:8080/"
        },
        "id": "wqpTtaq0-2_y",
        "outputId": "7fd7714a-2765-43be-f51b-649b399401ea"
      },
      "source": [
        "# Carrega a base Boston\n",
        "boston = load_diabetes() #estima o numero de casas em boston\n",
        "X, y = boston['data'], boston['target']\n",
        "\n",
        "\n",
        "vizinhos = 10\n",
        "\n",
        "# diabetes = load_diabetes()\n",
        "\n",
        "print(\"Predição do Regressor\")\n",
        "print(\"Quantidade de instâncias e atributos\")\n",
        "print(X.shape)\n",
        "\n",
        "# Holdout 70% treinamento e 30% para teste\n",
        "X_train, X_test, y_train, y_test = train_test_split(X,y,test_size=.3, random_state=0)\n",
        "\n",
        "# Declara o KNN\n",
        "regressor = KNeighborsRegressor(n_neighbors=vizinhos, weights='distance')\n",
        "    #friedman_mse -> arvore baseada em erross\n",
        "\n",
        "\n",
        "# Treina o KNN\n",
        "regressor.fit(X_train, y_train)\n",
        "output_prediction = regressor.predict(X_test)\n",
        "\n",
        "# Imprime os resultados do experimento baseado em holdout\n",
        "print(\"\\nAvaliação utilizando Holdout com 30% para teste\")\n",
        "print(\"R2 score: %.2f\" % r2_score(y_test, output_prediction))\n",
        "# r2_score -> coeficiente de determinação: o quão bem o modelo representa os dados (de 0 a 1)\n",
        "\n",
        "# outra maneira de calcular o erro médio\n",
        "print(\"Mean absolute error: %.2f\" % mean_absolute_error(y_test, output_prediction))\n",
        "\n",
        "# Validação Cruzuzada com 5 folds?\n",
        "#declara um novo knn\n",
        "regressor1 = KNeighborsRegressor(n_neighbors=vizinhos, weights='distance')\n",
        "\n",
        "# Treina o KNN\n",
        "# define a quantidade de folds ou pastas e executa a validação cruzada\n",
        "folds=5\n",
        "result = model_selection.cross_val_score(regressor1, X, y, cv=folds)\n",
        "output_prediction = model_selection.cross_val_predict(regressor1, X, y, cv=folds)\n",
        "# media e desvio padão -> erro médio\n",
        "\n",
        "# Imprime os resultados da validação cruzada\n",
        "print(\"\\nAvaliação usando Validação Cruzada com %d folds\" % folds)\n",
        "print(\"R2 scores = \" + str(result))\n",
        "print(\"R2 score médio: %.2f\" % (result.mean()))\n",
        "print(\"Mean absolute error: %.2f\" % mean_absolute_error(y, output_prediction))"
      ],
      "execution_count": 49,
      "outputs": [
        {
          "output_type": "stream",
          "text": [
            "Predição do Regressor\n",
            "Quantidade de instâncias e atributos\n",
            "(442, 10)\n",
            "\n",
            "Avaliação utilizando Holdout com 30% para teste\n",
            "R2 score: 0.31\n",
            "Mean absolute error: 47.13\n",
            "\n",
            "Avaliação usando Validação Cruzada com 5 folds\n",
            "R2 scores = [0.35380454 0.4603232  0.43367348 0.42093743 0.48928235]\n",
            "R2 score médio: 0.43\n",
            "Mean absolute error: 45.59\n"
          ],
          "name": "stdout"
        }
      ]
    },
    {
      "cell_type": "markdown",
      "metadata": {
        "id": "bkoomk3BCT_-"
      },
      "source": [
        "Tree"
      ]
    },
    {
      "cell_type": "code",
      "metadata": {
        "colab": {
          "base_uri": "https://localhost:8080/"
        },
        "id": "VDOEi6p4A2eh",
        "outputId": "f3018ef4-da00-47f9-e6ce-d1b62794a988"
      },
      "source": [
        "# Carrega a base Boston\n",
        "boston = load_diabetes() #estima o numero de casas em boston\n",
        "X, y = boston['data'], boston['target']\n",
        "\n",
        "\n",
        "vizinhos = 10\n",
        "\n",
        "# diabetes = load_diabetes()\n",
        "\n",
        "print(\"Predição do Regressor\")\n",
        "print(\"Quantidade de instâncias e atributos\")\n",
        "print(X.shape)\n",
        "\n",
        "# Holdout 70% treinamento e 30% para teste\n",
        "X_train, X_test, y_train, y_test = train_test_split(X,y,test_size=.3, random_state=0)\n",
        "\n",
        "# Declara o Tree\n",
        "regressor = tree.DecisionTreeRegressor(max_depth=5, min_samples_split=30, min_samples_leaf=10, random_state=0)\n",
        "\n",
        "\n",
        "regressor.fit(X_train, y_train)\n",
        "output_prediction = regressor.predict(X_test)\n",
        "\n",
        "# Imprime os resultados do experimento baseado em holdout\n",
        "print(\"\\nAvaliação utilizando Holdout com 30% para teste\")\n",
        "print(\"R2 score: %.2f\" % r2_score(y_test, output_prediction))\n",
        "# r2_score -> coeficiente de determinação: o quão bem o modelo representa os dados (de 0 a 1)\n",
        "\n",
        "# outra maneira de calcular o erro médio\n",
        "print(\"Mean absolute error: %.2f\" % mean_absolute_error(y_test, output_prediction))\n",
        "\n",
        "# Validação Cruzuzada com 5 folds?\n",
        "\n",
        "\n",
        "# define a quantidade de folds ou pastas e executa a validação cruzada\n",
        "folds=5\n",
        "result = model_selection.cross_val_score(regressor, X, y, cv=folds)\n",
        "output_prediction = model_selection.cross_val_predict(regressor, X, y, cv=folds)\n",
        "# media e desvio padão -> erro médio\n",
        "\n",
        "# Imprime os resultados da validação cruzada\n",
        "print(\"\\nAvaliação usando Validação Cruzada com %d folds\" % folds)\n",
        "print(\"R2 scores = \" + str(result))\n",
        "print(\"R2 score médio: %.2f\" % (result.mean()))\n",
        "print(\"Mean absolute error: %.2f\" % mean_absolute_error(y, output_prediction))"
      ],
      "execution_count": 50,
      "outputs": [
        {
          "output_type": "stream",
          "text": [
            "Predição do Regressor\n",
            "Quantidade de instâncias e atributos\n",
            "(442, 10)\n",
            "\n",
            "Avaliação utilizando Holdout com 30% para teste\n",
            "R2 score: 0.16\n",
            "Mean absolute error: 51.54\n",
            "\n",
            "Avaliação usando Validação Cruzada com 5 folds\n",
            "R2 scores = [0.31980638 0.35625523 0.36120917 0.27144657 0.40517558]\n",
            "R2 score médio: 0.34\n",
            "Mean absolute error: 49.32\n"
          ],
          "name": "stdout"
        }
      ]
    },
    {
      "cell_type": "markdown",
      "metadata": {
        "id": "dYQ3bYCzEC3B"
      },
      "source": [
        "SVM (SVR)"
      ]
    },
    {
      "cell_type": "code",
      "metadata": {
        "colab": {
          "base_uri": "https://localhost:8080/"
        },
        "id": "n06v7R41D8HW",
        "outputId": "b9a407ca-5b50-437b-fbb2-ee5c7ff380b7"
      },
      "source": [
        "# Carrega a base Boston\n",
        "boston = load_diabetes() #estima o numero de casas em boston\n",
        "X, y = boston['data'], boston['target']\n",
        "\n",
        "\n",
        "vizinhos = 10\n",
        "\n",
        "# diabetes = load_diabetes()\n",
        "\n",
        "print(\"Predição do Regressor\")\n",
        "print(\"Quantidade de instâncias e atributos\")\n",
        "print(X.shape)\n",
        "\n",
        "# Holdout 70% treinamento e 30% para teste\n",
        "X_train, X_test, y_train, y_test = train_test_split(X,y,test_size=.3, random_state=0)\n",
        "\n",
        "\n",
        "parameters = [{'C': [2], 'kernel': ['linear']},{'C': [2], 'gamma': [0.0001], 'kernel': ['rbf']},]\n",
        "\n",
        "print(\"SVR\")\n",
        "\n",
        "clfa = SVR()\n",
        "clfa = GridSearchCV(clfa, parameters, cv=10, iid=False)\n",
        "clfa = clfa.fit(X_train, y_train)\n",
        "print(clfa.best_params_)\n",
        "\n",
        "# testa usando a base de testes\n",
        "predicted=clfa.predict(X_test)\n",
        "\n",
        "# calcula a acurÃ¡cia na base de teste\n",
        "score=clfa.score(X_test, y_test)\n",
        "\n",
        "# Imprime os resultados do experimento baseado em holdout\n",
        "print(\"\\nAvaliação utilizando Holdout com 30% para teste\")\n",
        "print(\"R2 score: %.2f\" % r2_score(y_test, predicted))\n",
        "# r2_score -> coeficiente de determinação: o quão bem o modelo representa os dados (de 0 a 1)\n",
        "\n",
        "# outra maneira de calcular o erro médio\n",
        "print(\"Mean absolute error: %.2f\" % mean_absolute_error(y_test, predicted))\n",
        "\n",
        "\n",
        "\n",
        "# define a quantidade de folds ou pastas e executa a validação cruzada\n",
        "folds=5\n",
        "result = model_selection.cross_val_score(regressor, X, y, cv=folds)\n",
        "output_prediction = model_selection.cross_val_predict(regressor, X, y, cv=folds)\n",
        "# media e desvio padão -> erro médio\n",
        "\n",
        "# Imprime os resultados da validação cruzada\n",
        "print(\"\\nAvaliação usando Validação Cruzada com %d folds\" % folds)\n",
        "print(\"R2 scores = \" + str(result))\n",
        "print(\"R2 score médio: %.2f\" % (result.mean()))\n",
        "print(\"Mean absolute error: %.2f\" % mean_absolute_error(y, output_prediction))"
      ],
      "execution_count": 51,
      "outputs": [
        {
          "output_type": "stream",
          "text": [
            "Predição do Regressor\n",
            "Quantidade de instâncias e atributos\n",
            "(442, 10)\n",
            "SVR\n",
            "{'C': 2, 'kernel': 'linear'}\n",
            "\n",
            "Avaliação utilizando Holdout com 30% para teste\n",
            "R2 score: 0.00\n",
            "Mean absolute error: 57.87\n",
            "\n",
            "Avaliação usando Validação Cruzada com 5 folds\n",
            "R2 scores = [0.31980638 0.35625523 0.36120917 0.27144657 0.40517558]\n",
            "R2 score médio: 0.34\n",
            "Mean absolute error: 49.32\n"
          ],
          "name": "stdout"
        },
        {
          "output_type": "stream",
          "text": [
            "/usr/local/lib/python3.7/dist-packages/sklearn/model_selection/_search.py:823: FutureWarning: The parameter 'iid' is deprecated in 0.22 and will be removed in 0.24.\n",
            "  \"removed in 0.24.\", FutureWarning\n"
          ],
          "name": "stderr"
        }
      ]
    },
    {
      "cell_type": "markdown",
      "metadata": {
        "id": "trIHQFAPGTaT"
      },
      "source": [
        "MLP"
      ]
    },
    {
      "cell_type": "code",
      "metadata": {
        "colab": {
          "base_uri": "https://localhost:8080/"
        },
        "id": "3NhM8ep-HmTk",
        "outputId": "db61bed3-64f6-4abc-9b9e-74ef21798a0a"
      },
      "source": [
        "boston = load_diabetes() \n",
        "X, y = boston['data'], boston['target']\n",
        "\n",
        "print(\"Predição do Regressor\")\n",
        "print(\"Quantidade de instâncias e atributos\")\n",
        "print(X.shape)\n",
        "\n",
        "\n",
        "folds=5\n",
        "clfb = MLPRegressor(hidden_layer_sizes=(16), activation='relu', max_iter=5000, solver='sgd', tol= 1e-10, early_stopping=True, validation_fraction=0.2)\n",
        "result = model_selection.cross_val_score(clfb, X, y, cv=folds)\n",
        "\n",
        "print(\"\\nAvaliação usando Validação Cruzada com %d folds\" % folds)\n",
        "print(\"R2 scores = \" + str(result))\n",
        "print(\"R2 score médio: %.2f\" % (result.mean()))\n",
        "print(\"Mean absolute error: %.2f\" % mean_absolute_error(y, output_prediction))"
      ],
      "execution_count": 52,
      "outputs": [
        {
          "output_type": "stream",
          "text": [
            "Predição do Regressor\n",
            "Quantidade de instâncias e atributos\n",
            "(442, 10)\n",
            "\n",
            "Avaliação usando Validação Cruzada com 5 folds\n",
            "R2 scores = [0.38850454 0.50518723 0.49316045 0.44569709 0.51948177]\n",
            "R2 score médio: 0.47\n",
            "Mean absolute error: 49.32\n"
          ],
          "name": "stdout"
        }
      ]
    },
    {
      "cell_type": "code",
      "metadata": {
        "id": "5xXTc3OCH-jW"
      },
      "source": [
        ""
      ],
      "execution_count": 52,
      "outputs": []
    }
  ]
}